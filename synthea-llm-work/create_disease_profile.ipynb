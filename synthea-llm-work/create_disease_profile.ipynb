{
 "cells": [
  {
   "cell_type": "markdown",
   "id": "a8d95fcf-9979-41c3-aa84-a30c6b5f7138",
   "metadata": {},
   "source": [
    "# Creating a Disease Profile"
   ]
  },
  {
   "cell_type": "markdown",
   "id": "cecc4fa0-3cdd-4dc4-a267-6d0bedcf6a1a",
   "metadata": {},
   "source": [
    "## Configuration"
   ]
  },
  {
   "cell_type": "code",
   "execution_count": 6,
   "id": "e40caf82-62f4-47eb-b858-7697e998fb07",
   "metadata": {
    "tags": []
   },
   "outputs": [],
   "source": [
    "import google.generativeai as gemini\n",
    "from anthropic import Anthropic\n",
    "import os\n",
    "\n",
    "# \"claude\" or \"gemini\"\n",
    "generator = \"claude\"    \n",
    "reviewer = \"claude\"\n",
    "\n",
    "disease = \"hyperthyrodism\"\n",
    "#examples = [\"hyperthyroidism_disease_profile_4.txt\"]\n",
    "\n",
    "claude_api_key = os.getenv('ANTHROPIC_API_KEY')\n",
    "gemini_api_key = os.getenv('GEMINI_API_KEY')\n",
    "\n",
    "gemini.configure(api_key=gemini_api_key)\n",
    "gemini_version = \"models/gemini-1.5-pro\"      # \"models/gemini-1.5-flash\" \"models/gemini-1.5-pro\" \n",
    "gemini_max_output_tokens = 8192\n",
    "\n",
    "claude = Anthropic(api_key = claude_api_key)\n",
    "claude_version = \"claude-3-5-sonnet-20240620\"  # \"claude-3-opus-20240229\"   \"claude-3-5-sonnet-20240620\" \"claude-3-sonnet-20240229\" \"claude-3-haiku-20240307\"\n",
    "claude_max_output_tokens = 4096\n",
    "\n",
    "debug = False"
   ]
  },
  {
   "cell_type": "markdown",
   "id": "ff28baab-132f-40c9-a83c-086daa2abb0c",
   "metadata": {},
   "source": [
    "## Prompt"
   ]
  },
  {
   "cell_type": "code",
   "execution_count": 7,
   "id": "5deb35ec-74c8-4e53-bfaa-730f11e97cfc",
   "metadata": {
    "tags": []
   },
   "outputs": [],
   "source": [
    "profile_prompt = f\"\"\"\n",
    "Please create a comprehensive disease profile for {disease} . Output the result as a numbered list of facts about the disease covering the following aspects, where applicable:\n",
    "\n",
    "* Prevalence and incidence in the general population and specific subgroups (e.g., by age, gender, ethnicity)\n",
    "* Risk factors with associated increased risk percentages\n",
    "* Etiology, including common causes and their relative frequencies\n",
    "* Pathophysiology\n",
    "* Symptoms and clinical presentation, including probability of each symptom\n",
    "* Diagnostic criteria and tests, with sensitivity and specificity data\n",
    "* Differential diagnoses\n",
    "* Screening recommendations and prevention strategies, if applicable\n",
    "* Treatment options, including: a. First-line treatments b. Alternative treatments c. Success rates for each treatment d. Criteria for selecting different treatment approaches e. Common side effects and their frequencies\n",
    "* Monitoring and follow-up protocols\n",
    "* Short-term and long-term outcomes\n",
    "* Complication rates and types\n",
    "* Recurrence or progression rates\n",
    "* Survival rates, if applicable\n",
    "* Quality of life impacts\n",
    "\n",
    "Please provide quantitative data whenever possible, such as percentages, probabilities, or specific numeric ranges. Include relevant medical test results with their normal and abnormal ranges. If certain information is not typically applicable or available for this disease, you may omit those sections.\n",
    "Aim for a comprehensive profile of 30-60 numbered points.\n",
    "\"\"\""
   ]
  },
  {
   "cell_type": "markdown",
   "id": "0d0a3881-1da4-423f-8465-b9e3381ab328",
   "metadata": {},
   "source": [
    "## Utilities"
   ]
  },
  {
   "cell_type": "code",
   "execution_count": 9,
   "id": "fd455e7a-b30c-4e89-a7c2-f19915b31315",
   "metadata": {
    "tags": []
   },
   "outputs": [],
   "source": [
    "import io, threading, time, re, json\n",
    "import pandas as pd\n",
    "from json_repair import repair_json\n",
    "\n",
    "def upload_file(file_path):\n",
    "    try:\n",
    "        with open(file_path, 'r') as file:\n",
    "            content = file.read()\n",
    "        return content\n",
    "    except UnicodeDecodeError:\n",
    "        with open(file_path, 'r', encoding='utf-8') as file:\n",
    "            content = file.read()\n",
    "        return content\n",
    "\n",
    "def heartbeat(stop_event, start_time):\n",
    "    \"\"\"Prints elapsed time every second until told to stop.\"\"\"\n",
    "    elapsed_time = 0\n",
    "    while not stop_event.is_set():\n",
    "        elapsed_time = int(time.time() - start_time)\n",
    "        print(f\"{elapsed_time} seconds\", end=\"\\r\", flush=True)\n",
    "        time.sleep(1)\n",
    "    # Print final time\n",
    "    elapsed_time = int(time.time() - start_time)\n",
    "    print(f\"Total time taken: {elapsed_time} seconds\")\n",
    "    \n",
    "def is_valid_json(text):\n",
    "    try:\n",
    "        json.loads(text)\n",
    "        return True\n",
    "    except:\n",
    "        return False\n",
    "    \n",
    "# gemini maintains history in a chat session object. Messages are sent to a specific chat session.\n",
    "def message_gemini(prompt, chat_session=None):\n",
    "    if chat_session is None:\n",
    "        model = gemini.GenerativeModel(model_name=gemini_version, generation_config={\"max_output_tokens\": gemini_max_output_tokens, \"response_mime_type\": \"application/json\"})\n",
    "        chat_session = model.start_chat()\n",
    "    start_time = time.time()\n",
    "    stop_event = threading.Event()\n",
    "    heartbeat_thread = threading.Thread(target=heartbeat, args=(stop_event, start_time))\n",
    "    heartbeat_thread.start()\n",
    "    try:\n",
    "        result = chat_session.send_message(prompt) \n",
    "    finally:\n",
    "        stop_event.set()  # Signal the heartbeat to stop\n",
    "        heartbeat_thread.join()  # Wait for the heartbeat thread to finish\n",
    "    return result, chat_session\n",
    "\n",
    "# claude maintains chat history in an array of messages alternating between 'user' and 'assistant'.\n",
    "# the optional assistant_prompt is the beginning of the output that Claude will extend\n",
    "def message_claude(user_prompt, assistant_prompt=None, messages=None):\n",
    "    if messages is None:\n",
    "        messages = [{\"role\": \"user\",\"content\": user_prompt}]\n",
    "    else:\n",
    "        messages.append({\"role\": \"user\",\"content\": user_prompt})\n",
    "    if assistant_prompt is not None:\n",
    "        messages.append({\"role\": \"assistant\", \"content\": assistant_prompt})\n",
    "    if debug:\n",
    "        print(\"About to message_claude with these messages:\")\n",
    "        print_claude_messages(messages)\n",
    "    start_time = time.time()\n",
    "    stop_event = threading.Event()\n",
    "    heartbeat_thread = threading.Thread(target=heartbeat, args=(stop_event, start_time))\n",
    "    heartbeat_thread.start()\n",
    "    try:\n",
    "        response = claude.messages.create(model=claude_version, max_tokens=claude_max_output_tokens, messages=messages)\n",
    "    finally:\n",
    "        stop_event.set()  # Signal the heartbeat to stop\n",
    "        heartbeat_thread.join()  # Wait for the heartbeat thread to finish\n",
    "    if assistant_prompt is not None:\n",
    "        messages=messages[:-1]\n",
    "    messages.append({\"role\": response.role, \"content\": response.content[0].text})\n",
    "    return response, messages"
   ]
  },
  {
   "cell_type": "code",
   "execution_count": 10,
   "id": "9a18673f-5f64-4521-a2d1-58f66ca6e192",
   "metadata": {
    "tags": []
   },
   "outputs": [
    {
     "name": "stdout",
     "output_type": "stream",
     "text": [
      "Total time taken: 24 seconds\n"
     ]
    }
   ],
   "source": [
    "response = message_claude(profile_prompt)"
   ]
  },
  {
   "cell_type": "code",
   "execution_count": 12,
   "id": "9a1cf1e7-f137-4df7-9c0f-82079543273c",
   "metadata": {
    "tags": []
   },
   "outputs": [
    {
     "name": "stdout",
     "output_type": "stream",
     "text": [
      "Here's a comprehensive disease profile for acute lymphoblastic leukemia (ALL):\n",
      "\n",
      "1. The overall incidence of ALL is approximately 1.7 per 100,000 individuals annually in the United States.\n",
      "\n",
      "2. ALL is the most common childhood cancer, accounting for about 25% of all cancers in children under 15 years old.\n",
      "\n",
      "3. The incidence of ALL has a bimodal age distribution, with peaks in children aged 2-5 years and adults over 50 years.\n",
      "\n",
      "4. Males are slightly more affected than females, with a male-to-female ratio of 1.3:1.\n",
      "\n",
      "5. Hispanic children have the highest incidence rate (43 cases per million), followed by non-Hispanic whites (36 cases per million), and African Americans (15 cases per million).\n",
      "\n",
      "6. Risk factors include genetic syndromes (e.g., Down syndrome, 20-fold increased risk), exposure to ionizing radiation (2-4 fold increased risk), and certain chemotherapies (2-10 fold increased risk).\n",
      "\n",
      "7. The etiology of ALL is largely unknown, but it involves genetic alterations in lymphoid progenitor cells.\n",
      "\n",
      "8. Chromosomal translocations are present in 75-80% of ALL cases, with t(12;21) being the most common (25% of childhood ALL).\n",
      "\n",
      "9. The pathophysiology involves uncontrolled proliferation of immature lymphoid cells (lymphoblasts) in the bone marrow, blood, and other organs.\n",
      "\n",
      "10. Symptoms of ALL can include fatigue (90% probability), fever (60-70%), bone or joint pain (25-30%), and easy bruising or bleeding (40-50%).\n",
      "\n",
      "11. Clinical presentation may also include pallor (80-90%), petechiae or purpura (20-30%), lymphadenopathy (50-60%), and hepatosplenomegaly (60-70%).\n",
      "\n",
      "12. Diagnostic criteria include >20% lymphoblasts in bone marrow or peripheral blood.\n",
      "\n",
      "13. Complete blood count (CBC) typically shows anemia (hemoglobin <10 g/dL in 80% of cases), thrombocytopenia (<100,000/μL in 75% of cases), and variable white blood cell counts.\n",
      "\n",
      "14. Bone marrow aspiration and biopsy are essential for diagnosis, with >90% sensitivity and specificity.\n",
      "\n",
      "15. Flow cytometry is used to identify specific cell surface markers, with >95% accuracy in distinguishing B-cell from T-cell ALL.\n",
      "\n",
      "16. Cytogenetic and molecular studies are performed to detect genetic abnormalities, guiding prognosis and treatment.\n",
      "\n",
      "17. Lumbar puncture is performed to assess for central nervous system involvement (present in 5-10% of cases at diagnosis).\n",
      "\n",
      "18. Differential diagnoses include acute myeloid leukemia, lymphoma, and aplastic anemia.\n",
      "\n",
      "19. There are no specific screening recommendations for ALL in the general population.\n",
      "\n",
      "20. First-line treatment involves multi-agent chemotherapy regimens, typically lasting 2-3 years.\n",
      "\n",
      "21. Induction therapy aims to achieve complete remission (CR) in 4-6 weeks, with success rates of 96-99% in children and 78-92% in adults.\n",
      "\n",
      "22. Consolidation and maintenance therapy are used to eradicate residual leukemic cells and prevent relapse.\n",
      "\n",
      "23. Central nervous system prophylaxis is given to all patients due to the high risk of CNS relapse (40-50% without prophylaxis).\n",
      "\n",
      "24. Allogeneic hematopoietic stem cell transplantation (HSCT) is considered for high-risk patients or those with relapsed/refractory disease.\n",
      "\n",
      "25. Targeted therapies, such as tyrosine kinase inhibitors for Philadelphia chromosome-positive ALL, have improved outcomes (5-year overall survival increased from 20% to 50-60%).\n",
      "\n",
      "26. Immunotherapies, including CAR T-cell therapy, have shown promising results in relapsed/refractory B-cell ALL (80-90% CR rates).\n",
      "\n",
      "27. Common side effects of chemotherapy include myelosuppression (90-100%), infections (60-70%), and mucositis (40-50%).\n",
      "\n",
      "28. Long-term complications can include secondary malignancies (5-10% at 20 years), cardiac toxicity (5-10%), and neurocognitive deficits (20-40% in children).\n",
      "\n",
      "29. Monitoring during treatment includes regular blood counts, bone marrow examinations, and minimal residual disease (MRD) assessments.\n",
      "\n",
      "30. MRD negativity (<0.01% leukemic cells) after induction therapy is associated with better outcomes (80-90% 5-year event-free survival vs. 30-40% for MRD-positive patients).\n",
      "\n",
      "31. Follow-up after treatment completion includes regular blood counts, physical examinations, and long-term surveillance for late effects.\n",
      "\n",
      "32. Overall, 5-year survival rates are approximately 90% for children and 40% for adults.\n",
      "\n",
      "33. Relapse occurs in 15-20% of children and 40-50% of adults, typically within the first 3 years after diagnosis.\n",
      "\n",
      "34. Factors associated with poor prognosis include age >10 years or <1 year, high initial white blood cell count (>50,000/μL), and certain genetic abnormalities (e.g., MLL rearrangements, hypodiploidy).\n",
      "\n",
      "35. Late relapses (>3 years from diagnosis) occur in 2-3% of cases and have a better prognosis than early relapses.\n",
      "\n",
      "36. Treatment-related mortality is approximately 2-4% in children and 5-10% in adults.\n",
      "\n",
      "37. Quality of life is significantly impacted during treatment, with physical, emotional, and social challenges.\n",
      "\n",
      "38. Long-term survivors may experience chronic health conditions (60-70% at 30 years post-diagnosis) and psychosocial issues.\n",
      "\n",
      "39. Fertility preservation should be discussed before treatment, as chemotherapy and radiation can impair fertility (30-70% risk of infertility).\n",
      "\n",
      "40. Ongoing research focuses on developing more targeted therapies, improving risk stratification, and reducing long-term complications of treatment.\n"
     ]
    }
   ],
   "source": [
    "print(response[0].content[0].text)"
   ]
  },
  {
   "cell_type": "code",
   "execution_count": null,
   "id": "0ac4175b-2ad4-403d-8053-63a5273d9516",
   "metadata": {},
   "outputs": [],
   "source": []
  }
 ],
 "metadata": {
  "kernelspec": {
   "display_name": "Python 3 (ipykernel)",
   "language": "python",
   "name": "python3"
  },
  "language_info": {
   "codemirror_mode": {
    "name": "ipython",
    "version": 3
   },
   "file_extension": ".py",
   "mimetype": "text/x-python",
   "name": "python",
   "nbconvert_exporter": "python",
   "pygments_lexer": "ipython3",
   "version": "3.11.2"
  }
 },
 "nbformat": 4,
 "nbformat_minor": 5
}
