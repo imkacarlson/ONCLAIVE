{
 "cells": [
  {
   "cell_type": "markdown",
   "id": "73e3a524",
   "metadata": {},
   "source": [
    "# IG to Test Kit FULL pipeline"
   ]
  },
  {
   "cell_type": "markdown",
   "id": "8a5d267b",
   "metadata": {},
   "source": [
    "## Setup"
   ]
  },
  {
   "cell_type": "markdown",
   "id": "9de19ee6",
   "metadata": {},
   "source": [
    "### Importing Notebooks as Modules (from the [Jupyter Notebook Documentation](https://jupyter-notebook.readthedocs.io/en/4.x/examples/Notebook/rstversions/Importing%20Notebooks.html))"
   ]
  },
  {
   "cell_type": "code",
   "execution_count": 5,
   "id": "d9fc5ddc",
   "metadata": {},
   "outputs": [],
   "source": [
    "import inspect\n",
    "import json\n",
    "import llm_utils\n",
    "import importlib"
   ]
  },
  {
   "cell_type": "markdown",
   "id": "0de7a6cc",
   "metadata": {},
   "source": [
    "## Initializing LLM Clients"
   ]
  },
  {
   "cell_type": "code",
   "execution_count": 6,
   "id": "3ead91a2",
   "metadata": {},
   "outputs": [
    {
     "name": "stderr",
     "output_type": "stream",
     "text": [
      "WARNING:llm_utils:GEMINI_API_KEY not found. Gemini API client will not be loaded.\n",
      "WARNING:llm_utils:OPENAI_API_KEY not found. GPT API client will not be loaded.\n"
     ]
    }
   ],
   "source": [
    "importlib.reload(llm_utils)\n",
    "llm_clients = llm_utils.LLMApiClient()"
   ]
  },
  {
   "cell_type": "code",
   "execution_count": 3,
   "id": "c39d130b",
   "metadata": {},
   "outputs": [
    {
     "data": {
      "text/plain": [
       "{'claude': <anthropic.Anthropic at 0x1164010c0>}"
      ]
     },
     "execution_count": 3,
     "metadata": {},
     "output_type": "execute_result"
    }
   ],
   "source": [
    "llm_clients.clients"
   ]
  },
  {
   "cell_type": "markdown",
   "id": "8e6d80d1",
   "metadata": {},
   "source": [
    "## Text Extraction"
   ]
  },
  {
   "cell_type": "markdown",
   "id": "08717e1c",
   "metadata": {},
   "source": [
    "### HTML to Markdown Conversion Using Markdownify (Langchain Tool)"
   ]
  },
  {
   "cell_type": "code",
   "execution_count": 4,
   "id": "7e9d960b",
   "metadata": {},
   "outputs": [
    {
     "name": "stderr",
     "output_type": "stream",
     "text": [
      "USER_AGENT environment variable not set, consider setting it to identify your requests.\n"
     ]
    }
   ],
   "source": [
    "import HTML_extractor"
   ]
  },
  {
   "cell_type": "code",
   "execution_count": 6,
   "id": "ac0340e1",
   "metadata": {},
   "outputs": [
    {
     "name": "stderr",
     "output_type": "stream",
     "text": [
      "Fetching pages: 100%|##########| 7/7 [00:00<00:00,  7.93it/s]\n"
     ]
    },
    {
     "name": "stdout",
     "output_type": "stream",
     "text": [
      "Created: index.md\n",
      "Created: ChangeHistory.md\n",
      "Created: examples.md\n",
      "Created: implementation.md\n",
      "Created: profiles.md\n",
      "Created: artifacts.md\n",
      "Created: CapabilityStatement_plan_net.md\n"
     ]
    }
   ],
   "source": [
    "urls = [\n",
    "    \"https://hl7.org/fhir/us/davinci-pdex-plan-net/index.html\",\n",
    "    \"https://hl7.org/fhir/us/davinci-pdex-plan-net/ChangeHistory.html\",\n",
    "    \"https://hl7.org/fhir/us/davinci-pdex-plan-net/examples.html\",\n",
    "    \"https://hl7.org/fhir/us/davinci-pdex-plan-net/implementation.html\",\n",
    "    \"https://hl7.org/fhir/us/davinci-pdex-plan-net/profiles.html\",\n",
    "    \"https://hl7.org/fhir/us/davinci-pdex-plan-net/artifacts.html\",\n",
    "    \"https://hl7.org/fhir/us/davinci-pdex-plan-net/CapabilityStatement-plan-net.html\"\n",
    "]\n",
    "\n",
    "HTML_extractor.convert_urls_to_markdown(urls, output_dir=\"text_extraction/PlanNet/site/markdown\")"
   ]
  },
  {
   "cell_type": "markdown",
   "id": "b0108ece",
   "metadata": {},
   "source": [
    "### Markdown Post-processing"
   ]
  },
  {
   "cell_type": "code",
   "execution_count": 7,
   "id": "aec7806b",
   "metadata": {},
   "outputs": [
    {
     "name": "stdout",
     "output_type": "stream",
     "text": [
      "Found 7 markdown files in checkpoints/text_extraction/PlanNet/site/markdown\n",
      "Cleaned and saved: checkpoints/post_processing/implementation.md\n",
      "Cleaned and saved: checkpoints/post_processing/examples.md\n",
      "Cleaned and saved: checkpoints/post_processing/profiles.md\n",
      "Cleaned and saved: checkpoints/post_processing/ChangeHistory.md\n",
      "Cleaned and saved: checkpoints/post_processing/artifacts.md\n",
      "Cleaned and saved: checkpoints/post_processing/index.md\n",
      "Cleaned and saved: checkpoints/post_processing/CapabilityStatement_plan_net.md\n",
      "\n",
      "Processing complete: 7 files successfully cleaned, 0 failed\n"
     ]
    }
   ],
   "source": [
    "import markdown_cleaner\n",
    "markdown_cleaner.process_directory(\"checkpoints/text_extraction/PlanNet/site/markdown\", \"checkpoints/post_processing/\")"
   ]
  },
  {
   "cell_type": "markdown",
   "id": "eb3fa2d1",
   "metadata": {},
   "source": [
    "## Requirements Extraction"
   ]
  },
  {
   "cell_type": "markdown",
   "id": "be0566ab",
   "metadata": {},
   "source": [
    "### Prompt-based Requirement Extraction"
   ]
  },
  {
   "cell_type": "code",
   "execution_count": 14,
   "id": "8d4e5a8c",
   "metadata": {},
   "outputs": [
    {
     "name": "stderr",
     "output_type": "stream",
     "text": [
      "INFO:root:Current working directory: /Users/jrockhill/ONCLAIVE/pipeline\n",
      "INFO:root:Project root: /Users/jrockhill/ONCLAIVE\n",
      "INFO:root:Default markdown directory: /Users/jrockhill/ONCLAIVE/full-ig/markdown_cleaned\n",
      "INFO:root:Default output directory: /Users/jrockhill/ONCLAIVE/reqs_extraction/initial_reqs_output\n",
      "INFO:root:Prompt environment set up at: /Users/jrockhill/ONCLAIVE/prompts\n",
      "INFO:root:Using prompts directory: /Users/jrockhill/ONCLAIVE/prompts\n",
      "INFO:root:Requirements extraction prompt: /Users/jrockhill/ONCLAIVE/prompts/requirements_extraction.md\n"
     ]
    },
    {
     "data": {
      "text/plain": [
       "<module 'reqs_extraction' from '/Users/jrockhill/ONCLAIVE/pipeline/reqs_extraction.py'>"
      ]
     },
     "execution_count": 14,
     "metadata": {},
     "output_type": "execute_result"
    }
   ],
   "source": [
    "importlib.reload(reqs_extraction)"
   ]
  },
  {
   "cell_type": "code",
   "execution_count": 7,
   "id": "c7fd5bf6",
   "metadata": {},
   "outputs": [],
   "source": [
    "import reqs_extraction\n"
   ]
  },
  {
   "cell_type": "code",
   "execution_count": null,
   "id": "31999d1d",
   "metadata": {},
   "outputs": [],
   "source": [
    "reqs_extraction.run_requirements_extractor('checkpoints/post_processing', 'checkpoints/requirements_extraction/markdown', 'claude', llm_clients)"
   ]
  },
  {
   "cell_type": "markdown",
   "id": "0d402ce7",
   "metadata": {},
   "source": [
    "### RAG-based Requirement Extraction\n",
    "\n",
    "This extraction requirement extraction method differs from the first in that, as a part of the creation of its prompt, it performs a semantic search on example sections of FHIR IG text and the human-generated requirements that were produced in reference to those sections of text to find the most similar section(s) of FHIR IG text in the database and their associated requirement(s). Those sets of IG text and requirement(s) are then supplied to the LLM as few-shot examples"
   ]
  },
  {
   "cell_type": "code",
   "execution_count": 3,
   "id": "15d61585",
   "metadata": {},
   "outputs": [],
   "source": [
    "import rag_reqs_extraction"
   ]
  },
  {
   "cell_type": "code",
   "execution_count": null,
   "id": "3b8c6bef",
   "metadata": {},
   "outputs": [
    {
     "name": "stdout",
     "output_type": "stream",
     "text": [
      "2 of 2\r"
     ]
    }
   ],
   "source": [
    "importlib.reload(rag_reqs_extraction)\n",
    "rag_reqs_extraction.full_pass(llm_clients, 'claude', \"checkpoints/post_processing/\", \"checkpoints/requirements_extraction/RAG\")"
   ]
  },
  {
   "cell_type": "markdown",
   "id": "0b2ccc40",
   "metadata": {},
   "source": [
    "## Requirement Downselection"
   ]
  },
  {
   "cell_type": "code",
   "execution_count": 24,
   "id": "78226f35",
   "metadata": {},
   "outputs": [
    {
     "name": "stdout",
     "output_type": "stream",
     "text": [
      "Pair 53824 of 53824\r"
     ]
    }
   ],
   "source": [
    "import requirement_downselect\n",
    "importlib.reload(requirement_downselect)\n",
    "requirement_downselect.full_pass(\n",
    "    md_files=[\"checkpoints/requirements_extraction/claude_reqs_list_v1_20250429_081756.md\"],\n",
    "    rag_files=[\"checkpoints/requirements_extraction/RAG/plan_net_reqs.json\"]\n",
    "    )"
   ]
  },
  {
   "cell_type": "markdown",
   "id": "669a69ed",
   "metadata": {},
   "source": [
    "## Test Plan Generation"
   ]
  },
  {
   "cell_type": "code",
   "execution_count": 31,
   "id": "4ee31b17",
   "metadata": {},
   "outputs": [],
   "source": [
    "import logging\n",
    "llm_clients.logger.setLevel(logging.INFO)"
   ]
  },
  {
   "cell_type": "code",
   "execution_count": 46,
   "id": "5cf1f5b1",
   "metadata": {},
   "outputs": [
    {
     "name": "stderr",
     "output_type": "stream",
     "text": [
      "INFO:llm_utils:Starting test plan generation with claude for FHIR Implementation Guide\n",
      "INFO:llm_utils:Parsed 6 requirements from checkpoints/requirements_downselect/filtered_requirements.json\n",
      "INFO:llm_utils:Parsed capability statement from ../full-ig/markdown7_cleaned/CapabilityStatement_plan_net.md\n",
      "INFO:llm_utils:Identifying group for requirement 91782b26-ac7b-4ea8-ae82-629630ee21c2 using claude...\n",
      "INFO:llm_utils:Identifying group for requirement ddcdfc94-021b-4e90-8ef9-556ff9ee933b using claude...\n",
      "INFO:llm_utils:Identifying group for requirement 8b8400c1-a7dd-4404-af52-95ec11f02223 using claude...\n",
      "INFO:llm_utils:Identifying group for requirement 4c406817-5996-496e-bcdd-5e8a6c803900 using claude...\n",
      "INFO:llm_utils:Identifying group for requirement 7c480643-a168-4b03-ab5f-fba03a6eb989 using claude...\n",
      "INFO:llm_utils:Identifying group for requirement c4dbd4a7-d5c8-47b7-8eb4-528f35d56309 using claude...\n",
      "INFO:llm_utils:Requirements grouped into 6 categories\n",
      "INFO:llm_utils:Group 'Security': 1 requirements\n",
      "INFO:llm_utils:Group 'Security & Privacy': 1 requirements\n",
      "INFO:llm_utils:Group 'Common': 1 requirements\n",
      "INFO:llm_utils:Group 'Bulk Data': 1 requirements\n",
      "INFO:llm_utils:Group 'Capability/Conformance': 1 requirements\n",
      "INFO:llm_utils:Group 'RESTful Capability': 1 requirements\n",
      "INFO:llm_utils:Processing requirement for group 'Bulk Data': 4c406817-5996-496e-bcdd-5e8a6c803900\n",
      "INFO:llm_utils:Generating test specification for unknown using claude...\n",
      "INFO:llm_utils:Processing requirement for group 'Capability/Conformance': 7c480643-a168-4b03-ab5f-fba03a6eb989\n",
      "INFO:llm_utils:Generating test specification for unknown using claude...\n",
      "INFO:llm_utils:Processing requirement for group 'Common': 8b8400c1-a7dd-4404-af52-95ec11f02223\n",
      "INFO:llm_utils:Generating test specification for unknown using claude...\n",
      "INFO:llm_utils:Processing requirement for group 'RESTful Capability': c4dbd4a7-d5c8-47b7-8eb4-528f35d56309\n",
      "INFO:llm_utils:Generating test specification for unknown using claude...\n",
      "INFO:llm_utils:Processing requirement for group 'Security': 91782b26-ac7b-4ea8-ae82-629630ee21c2\n",
      "INFO:llm_utils:Generating test specification for unknown using claude...\n",
      "INFO:llm_utils:Processing requirement for group 'Security & Privacy': ddcdfc94-021b-4e90-8ef9-556ff9ee933b\n",
      "INFO:llm_utils:Generating test specification for unknown using claude...\n",
      "INFO:llm_utils:Consolidated test plan saved to checkpoints/testplan_generation/claude_test_plan_20250609_153303.md\n"
     ]
    },
    {
     "data": {
      "text/plain": [
       "{'requirements_count': 6,\n",
       " 'group_count': 6,\n",
       " 'test_plan_path': 'checkpoints/testplan_generation/claude_test_plan_20250609_153303.md'}"
      ]
     },
     "execution_count": 46,
     "metadata": {},
     "output_type": "execute_result"
    }
   ],
   "source": [
    "import req_to_testplan\n",
    "importlib.reload(req_to_testplan)\n",
    "\n",
    "req_to_testplan.generate_consolidated_test_plan(llm_clients, 'claude', llm_clients.logger, \"checkpoints/requirements_downselect/filtered_requirements.json\", \"../full-ig/markdown7_cleaned/CapabilityStatement_plan_net.md\", output_dir='checkpoints/testplan_generation')"
   ]
  },
  {
   "cell_type": "markdown",
   "id": "d080ace6",
   "metadata": {},
   "source": [
    "## Test Kit Generation"
   ]
  },
  {
   "cell_type": "code",
   "execution_count": 43,
   "id": "4ef90585",
   "metadata": {},
   "outputs": [
    {
     "name": "stdout",
     "output_type": "stream",
     "text": [
      "Found 0 potential requirements\n"
     ]
    },
    {
     "data": {
      "text/plain": [
       "{'total_sections': 0,\n",
       " 'total_requirements': 0,\n",
       " 'generated_tests': 0,\n",
       " 'module_dir': 'checkpoints/testkit_generation/plannet',\n",
       " 'module_file': 'checkpoints/testkit_generation/plannet.rb'}"
      ]
     },
     "execution_count": 43,
     "metadata": {},
     "output_type": "execute_result"
    }
   ],
   "source": [
    "import plan_to_tests\n",
    "importlib.reload(plan_to_tests)\n",
    "\n",
    "plan_to_tests.generate_inferno_test_kit(\n",
    "    llm_clients,\n",
    "    'claude',\n",
    "    'checkpoints/testplan_generation/claude_test_plan_20250605_014638.md',\n",
    "    '../test_kit_dev/inferno-guidance.md',\n",
    "    output_dir='checkpoints/testkit_generation',\n",
    "    expected_actors=[\"Health Plan API Actor\", \"Application Actor\"]\n",
    ")"
   ]
  },
  {
   "cell_type": "code",
   "execution_count": null,
   "id": "bdf7dc24",
   "metadata": {},
   "outputs": [],
   "source": []
  }
 ],
 "metadata": {
  "kernelspec": {
   "display_name": "ONCL310",
   "language": "python",
   "name": "python3"
  },
  "language_info": {
   "codemirror_mode": {
    "name": "ipython",
    "version": 3
   },
   "file_extension": ".py",
   "mimetype": "text/x-python",
   "name": "python",
   "nbconvert_exporter": "python",
   "pygments_lexer": "ipython3",
   "version": "3.10.16"
  }
 },
 "nbformat": 4,
 "nbformat_minor": 5
}
