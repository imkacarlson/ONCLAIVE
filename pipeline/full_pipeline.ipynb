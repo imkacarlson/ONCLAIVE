{
 "cells": [
  {
   "cell_type": "markdown",
   "id": "73e3a524",
   "metadata": {},
   "source": [
    "# FHIR Implementation Guide Testing Pipeline\n",
    "This notebook provides a comprehensive pipeline for automatically extracting requirements from FHIR Implementation Guides and generating executable test suites. The pipeline transforms Implementation Guide (IG) documentation into structured test code that can validate FHIR server implementations.\n",
    "\n",
    "## Overview\n",
    "This automated pipeline takes FHIR Implementation Guide documentation and produces comprehensive test suites through several integrated stages:\n",
    "\n",
    "- Implementation Guide Preparation: Convert and clean IG HTML documentation to markdown format\n",
    "- Requirements Extraction: Use AI to identify and extract testable requirements from the IG\n",
    "- Requirements Refinement: Consolidate and refine the extracted requirements\n",
    "- Requirements Downselection: Combine multiple requirement sets and remove duplicates\n",
    "- Test Plan Generation: Convert requirements into detailed test specifications\n",
    "- Test Kit Generation: Generate executable Inferno test code\n",
    "\n",
    "## Running this Notebook\n",
    "The notebook is structured to run each stage sequentially. You can either:\n",
    "\n",
    "- Run the complete pipeline: Execute all cells to process a complete IG\n",
    "- Run individual stages: Execute specific sections as needed\n",
    "\n",
    "Each stage will prompt you for inputs or use sensible defaults. The pipeline automatically saves intermediate outputs in checkpoint directories for review and iteration.\n",
    "\n",
    "### Pipeline Stages\n",
    "#### Stage 1: Implementation Guide Preparation\n",
    "Text Extraction and Cleaning\n",
    "- Converts HTML IG files to markdown format using Markdownify\n",
    "- Cleans unnecessary content (navigation, headers, formatting artifacts)\n",
    "- Prepares clean, structured text for AI processing\n",
    "Inputs: HTML files from FHIR IG downloads\n",
    "Outputs: Clean markdown files in checkpoints/text_extraction/ and checkpoints/post_processing/\n",
    "\n",
    "#### Stage 2: Requirements Extraction\n",
    "AI-Powered Requirements Identification\n",
    "- Processes markdown files using AI to extract clear, testable requirements\n",
    "- Formats requirements according to INCOSE Systems Engineering standards\n",
    "- Generates structured requirements with IDs, descriptions, actors, and conformance levels\n",
    "- Handles large documents through intelligent chunking\n",
    "- Provides proper attribution and source tracking\n",
    "Inputs: Cleaned markdown files\n",
    "Outputs: Structured requirements list in checkpoints/requirements_extraction/ in markdown file\n",
    "\n",
    "#### Stage 3: Requirements Refinement\n",
    "AI-Based Requirements Consolidation\n",
    "- Filters and identifies only testable requirements from raw extractions\n",
    "- Consolidates duplicate requirements and merges related ones\n",
    "- Applies consistent formatting and structure\n",
    "- Removes non-testable assertions and narrative content\n",
    "Inputs: Raw requirements from extraction stage in markdown file\n",
    "Outputs: Refined requirements list in checkpoints/revised_reqs_extraction/\n",
    "\n",
    "#### Stage 4: Requirements Downselection\n",
    "Multi-Source Requirements Integration\n",
    "- Combines multiple requirements lists from different extraction runs\n",
    "- Uses semantic similarity analysis to identify and remove duplicates\n",
    "- Creates a comprehensive, deduplicated final requirements set\n",
    "- Provides statistical analysis of the consolidation process\n",
    "Inputs: Multiple refined requirements files in markdown or JSON format\n",
    "Outputs: Final consolidated requirements in checkpoints/requirements_downselect/ in markdown file\n",
    "\n",
    "#### Stage 5: Test Plan Generation\n",
    "Comprehensive Test Specification Development\n",
    "- Transforms requirements into detailed test specifications\n",
    "- Analyzes IG capability statements for context\n",
    "- Generates implementation strategies with specific FHIR operations\n",
    "- Creates structured test plans with validation criteria\n",
    "Inputs: Refined requirements and IG capability statements in markdown format\n",
    "Outputs: Detailed test plan in checkpoints/testplan_generation/ in markdown file\n",
    "\n",
    "#### Stage 6: Test Kit Generation\n",
    "Executable Test Code Creation\n",
    "- Converts test specifications into executable Inferno Ruby tests\n",
    "- Generates complete test suites with proper file organization\n",
    "- Creates modular test structures following Inferno framework patterns\n",
    "- Includes validation and alignment checking\n",
    "Inputs: Test plan specification in markdown format\n",
    "Outputs: Complete Inferno test kit in checkpoints/testkit_generation/\n",
    "\n",
    "### Output Structure\n",
    "The pipeline generates organized outputs in checkpoint directories:\n",
    "checkpoints/\n",
    "├── text_extraction/          # Converted markdown files\n",
    "├── post_processing/          # Cleaned markdown files  \n",
    "├── requirements_extraction/   # Initial AI-extracted requirements\n",
    "├── revised_reqs_extraction/  # Refined requirements lists\n",
    "├── requirements_downselect/  # Final consolidated requirements\n",
    "├── testplan_generation/     # Detailed test specifications\n",
    "└── testkit_generation/      # Executable Inferno test suites\n",
    "Each stage preserves its outputs, allowing for iteration, review, and alternative processing paths."
   ]
  },
  {
   "cell_type": "markdown",
   "id": "8a5d267b",
   "metadata": {},
   "source": [
    "## Setup"
   ]
  },
  {
   "cell_type": "markdown",
   "id": "9de19ee6",
   "metadata": {},
   "source": [
    "#### Importing Notebooks as Modules (from the [Jupyter Notebook Documentation](https://jupyter-notebook.readthedocs.io/en/4.x/examples/Notebook/rstversions/Importing%20Notebooks.html))"
   ]
  },
  {
   "cell_type": "code",
   "execution_count": 1,
   "id": "d9fc5ddc",
   "metadata": {},
   "outputs": [],
   "source": [
    "import inspect\n",
    "import json\n",
    "import llm_utils\n",
    "import importlib\n",
    "import tiktoken\n",
    "import requests\n",
    "from bs4 import BeautifulSoup\n",
    "from urllib.parse import urlparse\n",
    "from glob import glob"
   ]
  },
  {
   "cell_type": "markdown",
   "id": "0de7a6cc",
   "metadata": {},
   "source": [
    "## Initializing LLM Clients"
   ]
  },
  {
   "cell_type": "code",
   "execution_count": 2,
   "id": "3ead91a2",
   "metadata": {},
   "outputs": [
    {
     "name": "stderr",
     "output_type": "stream",
     "text": [
      "WARNING:llm_utils:GEMINI_API_KEY not found. Gemini API client will not be loaded.\n",
      "WARNING:llm_utils:OPENAI_API_KEY not found. GPT API client will not be loaded.\n"
     ]
    }
   ],
   "source": [
    "importlib.reload(llm_utils)\n",
    "llm_clients = llm_utils.LLMApiClient()"
   ]
  },
  {
   "cell_type": "code",
   "execution_count": 3,
   "id": "c39d130b",
   "metadata": {},
   "outputs": [
    {
     "data": {
      "text/plain": [
       "{'claude': <anthropic.Anthropic at 0x1192674a0>,\n",
       " 'gemini': genai.GenerativeModel(\n",
       "     model_name='models/gemini-2.5-pro',\n",
       "     generation_config={'max_output_tokens': 8192, 'temperature': 0.3},\n",
       "     safety_settings={<HarmCategory.HARM_CATEGORY_HARASSMENT: 7>: <HarmBlockThreshold.BLOCK_NONE: 4>, <HarmCategory.HARM_CATEGORY_HATE_SPEECH: 8>: <HarmBlockThreshold.BLOCK_NONE: 4>, <HarmCategory.HARM_CATEGORY_SEXUALLY_EXPLICIT: 9>: <HarmBlockThreshold.BLOCK_NONE: 4>, <HarmCategory.HARM_CATEGORY_DANGEROUS_CONTENT: 10>: <HarmBlockThreshold.BLOCK_NONE: 4>},\n",
       "     tools=None,\n",
       "     system_instruction=None,\n",
       "     cached_content=None\n",
       " ),\n",
       " 'gpt': <openai.OpenAI at 0x1192ee330>}"
      ]
     },
     "execution_count": 3,
     "metadata": {},
     "output_type": "execute_result"
    }
   ],
   "source": [
    "llm_clients.clients"
   ]
  },
  {
   "cell_type": "markdown",
   "id": "8e6d80d1",
   "metadata": {},
   "source": [
    "## Text Extraction"
   ]
  },
  {
   "cell_type": "markdown",
   "id": "08717e1c",
   "metadata": {},
   "source": [
    "### HTML to Markdown Conversion"
   ]
  },
  {
   "cell_type": "code",
   "execution_count": 5,
   "id": "61ff8f8d",
   "metadata": {},
   "outputs": [
    {
     "name": "stdout",
     "output_type": "stream",
     "text": [
      "Found 717 HTML files to process\n",
      "Processed 10/717 files\n",
      "Processed 20/717 files\n",
      "Processed 30/717 files\n",
      "Processed 40/717 files\n",
      "Processed 50/717 files\n",
      "Processed 60/717 files\n",
      "Processed 70/717 files\n",
      "Processed 80/717 files\n",
      "Processed 90/717 files\n",
      "Processed 100/717 files\n",
      "Processed 110/717 files\n",
      "Processed 120/717 files\n",
      "Processed 130/717 files\n",
      "Processed 140/717 files\n",
      "Processed 150/717 files\n",
      "Processed 160/717 files\n",
      "Processed 170/717 files\n",
      "Processed 180/717 files\n",
      "Processed 190/717 files\n",
      "Processed 200/717 files\n",
      "Processed 210/717 files\n",
      "Processed 220/717 files\n",
      "Processed 230/717 files\n",
      "Processed 240/717 files\n",
      "Processed 250/717 files\n",
      "Processed 260/717 files\n",
      "Processed 270/717 files\n",
      "Processed 280/717 files\n",
      "Processed 290/717 files\n",
      "Processed 300/717 files\n",
      "Processed 310/717 files\n",
      "Processed 320/717 files\n",
      "Processed 330/717 files\n",
      "Processed 340/717 files\n",
      "Processed 350/717 files\n",
      "Processed 360/717 files\n",
      "Processed 370/717 files\n",
      "Processed 380/717 files\n",
      "Processed 390/717 files\n",
      "Processed 400/717 files\n",
      "Processed 410/717 files\n",
      "Processed 420/717 files\n",
      "Processed 430/717 files\n",
      "Processed 440/717 files\n",
      "Processed 450/717 files\n",
      "Processed 460/717 files\n",
      "Processed 470/717 files\n",
      "Processed 480/717 files\n",
      "Processed 490/717 files\n",
      "Processed 500/717 files\n",
      "Processed 510/717 files\n",
      "Processed 520/717 files\n",
      "Processed 530/717 files\n",
      "Processed 540/717 files\n",
      "Processed 550/717 files\n",
      "Processed 560/717 files\n",
      "Processed 570/717 files\n",
      "Processed 580/717 files\n",
      "Processed 590/717 files\n",
      "Processed 600/717 files\n",
      "Processed 610/717 files\n",
      "Processed 620/717 files\n",
      "Processed 630/717 files\n",
      "Processed 640/717 files\n",
      "Processed 650/717 files\n",
      "Processed 660/717 files\n",
      "Processed 670/717 files\n",
      "Processed 680/717 files\n",
      "Processed 690/717 files\n",
      "Processed 700/717 files\n",
      "Processed 710/717 files\n",
      "Processed 717/717 files\n",
      "Conversion complete. Successfully processed 717 files. Encountered 0 errors.\n"
     ]
    }
   ],
   "source": [
    "import html_narrative_extractor #import html extractor module\n",
    "\n",
    "# Process directory with default settings\n",
    "result = html_narrative_extractor.convert_local_html_to_markdown(\n",
    "    \"../us-core/site\", #input directory\n",
    "    \"checkpoints/markdown1/\" #output directory\n",
    ")"
   ]
  },
  {
   "cell_type": "markdown",
   "id": "b0108ece",
   "metadata": {},
   "source": [
    "### Markdown Post-processing"
   ]
  },
  {
   "cell_type": "code",
   "execution_count": 6,
   "id": "aec7806b",
   "metadata": {},
   "outputs": [
    {
     "name": "stdout",
     "output_type": "stream",
     "text": [
      "Found 717 markdown files in checkpoints/markdown1\n",
      "Cleaned and saved: checkpoints/markdown2/StructureDefinition-us-core-smokingstatus-testing.md\n",
      "Cleaned and saved: checkpoints/markdown2/DocumentReference-episode-summary.md\n",
      "Cleaned and saved: checkpoints/markdown2/ValueSet-us-core-diagnosticreport-report-and-note-codes.md\n",
      "Cleaned and saved: checkpoints/markdown2/StructureDefinition-us-core-head-circumference-mappings.md\n",
      "Cleaned and saved: checkpoints/markdown2/Observation-10-minute-apgar-respiratory-effort.md\n",
      "Cleaned and saved: checkpoints/markdown2/StructureDefinition-us-core-tribal-affiliation-definitions.md\n",
      "Cleaned and saved: checkpoints/markdown2/DiagnosticReport-metabolic-panel.md\n",
      "Cleaned and saved: checkpoints/markdown2/Observation-serum-potassium.md\n",
      "Cleaned and saved: checkpoints/markdown2/StructureDefinition-us-core-genderIdentity-definitions.md\n",
      "Cleaned and saved: checkpoints/markdown2/StructureDefinition-us-core-heart-rate-testing.md\n",
      "Cleaned and saved: checkpoints/markdown2/SearchParameter-us-core-organization-address.md\n",
      "Cleaned and saved: checkpoints/markdown2/SearchParameter-us-core-condition-encounter-testing.md\n",
      "Cleaned and saved: checkpoints/markdown2/Medication-uscore-med2.md\n",
      "Cleaned and saved: checkpoints/markdown2/StructureDefinition-us-core-pulse-oximetry-definitions.md\n",
      "Cleaned and saved: checkpoints/markdown2/StructureDefinition-us-core-observation-lab-testing.md\n",
      "Cleaned and saved: checkpoints/markdown2/StructureDefinition-us-core-pulse-oximetry-mappings.md\n",
      "Cleaned and saved: checkpoints/markdown2/Bundle-66c8856b-ba11-4876-8aa8-467aad8c11a2.md\n",
      "Cleaned and saved: checkpoints/markdown2/SearchParameter-us-core-patient-name-testing.md\n",
      "Cleaned and saved: checkpoints/markdown2/ValueSet-us-core-servicerequest-category.md\n",
      "Cleaned and saved: checkpoints/markdown2/StructureDefinition-us-core-immunization-definitions.md\n",
      "Cleaned and saved: checkpoints/markdown2/StructureDefinition-us-core-servicerequest-testing.md\n",
      "Cleaned and saved: checkpoints/markdown2/StructureDefinition-us-core-body-weight.md\n",
      "Cleaned and saved: checkpoints/markdown2/SearchParameter-us-core-practitioner-name-testing.md\n",
      "Cleaned and saved: checkpoints/markdown2/SearchParameter-us-core-ethnicity-testing.md\n",
      "Cleaned and saved: checkpoints/markdown2/profiles-and-extensions.md\n",
      "Cleaned and saved: checkpoints/markdown2/CodeSystem-us-core-documentreference-category.md\n",
      "Cleaned and saved: checkpoints/markdown2/ValueSet-us-core-observation-smoking-status-status.md\n",
      "Cleaned and saved: checkpoints/markdown2/Procedure-rehab.md\n",
      "Cleaned and saved: checkpoints/markdown2/StructureDefinition-us-core-location-definitions.md\n",
      "Cleaned and saved: checkpoints/markdown2/StructureDefinition-us-core-tribal-affiliation-mappings.md\n",
      "Cleaned and saved: checkpoints/markdown2/Observation-length.md\n",
      "Cleaned and saved: checkpoints/markdown2/StructureDefinition-us-core-implantable-device-testing.md\n",
      "Cleaned and saved: checkpoints/markdown2/SearchParameter-us-core-organization-name.md\n",
      "Cleaned and saved: checkpoints/markdown2/SearchParameter-us-core-goal-lifecycle-status.md\n",
      "Cleaned and saved: checkpoints/markdown2/SearchParameter-us-core-immunization-date-testing.md\n",
      "Cleaned and saved: checkpoints/markdown2/SearchParameter-us-core-servicerequest-code.md\n",
      "Cleaned and saved: checkpoints/markdown2/StructureDefinition-us-core-relatedperson-testing.md\n",
      "Cleaned and saved: checkpoints/markdown2/SearchParameter-us-core-observation-category-testing.md\n",
      "Cleaned and saved: checkpoints/markdown2/SearchParameter-us-core-diagnosticreport-patient-testing.md\n",
      "Cleaned and saved: checkpoints/markdown2/SearchParameter-us-core-servicerequest-id.md\n",
      "Cleaned and saved: checkpoints/markdown2/SearchParameter-us-core-immunization-status-testing.md\n",
      "Cleaned and saved: checkpoints/markdown2/SearchParameter-us-core-medicationrequest-encounter.md\n",
      "Cleaned and saved: checkpoints/markdown2/StructureDefinition-us-core-care-experience-preference-definitions.md\n",
      "Cleaned and saved: checkpoints/markdown2/SearchParameter-us-core-encounter-date-testing.md\n",
      "Cleaned and saved: checkpoints/markdown2/StructureDefinition-us-core-sex-testing.md\n",
      "Cleaned and saved: checkpoints/markdown2/StructureDefinition-us-core-birthsex-definitions.md\n",
      "Cleaned and saved: checkpoints/markdown2/Observation-capillary-refill-time-nail-bed.md\n",
      "Cleaned and saved: checkpoints/markdown2/StructureDefinition-us-core-medicationdispense-testing.md\n",
      "Cleaned and saved: checkpoints/markdown2/SearchParameter-us-core-condition-asserted-date.md\n",
      "Cleaned and saved: checkpoints/markdown2/SearchParameter-us-core-practitioner-identifier.md\n",
      "Cleaned and saved: checkpoints/markdown2/StructureDefinition-us-core-practitionerrole.md\n",
      "Cleaned and saved: checkpoints/markdown2/StructureDefinition-us-core-authentication-time.md\n",
      "Cleaned and saved: checkpoints/markdown2/uscdi.md\n",
      "Cleaned and saved: checkpoints/markdown2/SearchParameter-us-core-race-testing.md\n",
      "Cleaned and saved: checkpoints/markdown2/CodeSystem-careplan-category.md\n",
      "Cleaned and saved: checkpoints/markdown2/DocumentReference-adi-dnr.md\n",
      "Cleaned and saved: checkpoints/markdown2/Observation-bp-data-absent.md\n",
      "Cleaned and saved: checkpoints/markdown2/StructureDefinition-us-core-diagnosticreport-lab-testing.md\n",
      "Cleaned and saved: checkpoints/markdown2/Device-udi-3.md\n",
      "Cleaned and saved: checkpoints/markdown2/Library-uscore-6.1.0-model-definition.md\n",
      "Cleaned and saved: checkpoints/markdown2/SearchParameter-us-core-procedure-code-testing.md\n",
      "Cleaned and saved: checkpoints/markdown2/ValueSet-us-core-diagnosticreport-category.md\n",
      "Cleaned and saved: checkpoints/markdown2/SearchParameter-us-core-medicationrequest-patient-testing.md\n",
      "Cleaned and saved: checkpoints/markdown2/SearchParameter-us-core-diagnosticreport-status-testing.md\n",
      "Cleaned and saved: checkpoints/markdown2/Observation-cbc-platelets.md\n",
      "Cleaned and saved: checkpoints/markdown2/StructureDefinition-us-core-care-experience-preference.md\n",
      "Cleaned and saved: checkpoints/markdown2/DocumentReference-living-will.md\n",
      "Cleaned and saved: checkpoints/markdown2/Observation-urobilinogen.md\n",
      "Cleaned and saved: checkpoints/markdown2/StructureDefinition-us-core-questionnaireresponse-testing.md\n",
      "Cleaned and saved: checkpoints/markdown2/StructureDefinition-us-core-genderIdentity-testing.md\n",
      "Cleaned and saved: checkpoints/markdown2/SearchParameter-us-core-medicationrequest-authoredon.md\n",
      "Cleaned and saved: checkpoints/markdown2/StructureDefinition-head-occipital-frontal-circumference-percentile-testing.md\n",
      "Cleaned and saved: checkpoints/markdown2/Observation-xray-chest-impression.md\n",
      "Cleaned and saved: checkpoints/markdown2/CapabilityStatement-us-core-client.md\n",
      "Cleaned and saved: checkpoints/markdown2/SearchParameter-us-core-documentreference-date-testing.md\n",
      "Cleaned and saved: checkpoints/markdown2/StructureDefinition-us-core-observation-occupation-mappings.md\n",
      "Cleaned and saved: checkpoints/markdown2/Observation-simple-observation-disability-status.md\n",
      "Cleaned and saved: checkpoints/markdown2/ValueSet-us-core-procedure-code-testing.md\n",
      "Cleaned and saved: checkpoints/markdown2/StructureDefinition-us-core-body-weight-definitions.md\n",
      "Cleaned and saved: checkpoints/markdown2/conformance.md\n",
      "Cleaned and saved: checkpoints/markdown2/StructureDefinition-us-core-practitioner-testing.md\n",
      "Cleaned and saved: checkpoints/markdown2/Observation-serum-calcium.md\n",
      "Cleaned and saved: checkpoints/markdown2/SearchParameter-us-core-relatedperson-name-testing.md\n",
      "Cleaned and saved: checkpoints/markdown2/SearchParameter-us-core-diagnosticreport-date.md\n",
      "Cleaned and saved: checkpoints/markdown2/StructureDefinition-us-core-careteam-testing.md\n",
      "Cleaned and saved: checkpoints/markdown2/StructureDefinition-us-core-condition-problems-health-concerns-mappings.md\n",
      "Cleaned and saved: checkpoints/markdown2/StructureDefinition-us-core-coverage-mappings.md\n",
      "Cleaned and saved: checkpoints/markdown2/SearchParameter-us-core-encounter-class-testing.md\n",
      "Cleaned and saved: checkpoints/markdown2/Practitioner-practitioner-1.md\n",
      "Cleaned and saved: checkpoints/markdown2/StructureDefinition-us-core-treatment-intervention-preference-testing.md\n",
      "Cleaned and saved: checkpoints/markdown2/StructureDefinition-us-core-medicationdispense-mappings.md\n",
      "Cleaned and saved: checkpoints/markdown2/StructureDefinition-us-core-race-mappings.md\n",
      "Cleaned and saved: checkpoints/markdown2/StructureDefinition-us-core-documentreference-testing.md\n",
      "Cleaned and saved: checkpoints/markdown2/StructureDefinition-us-core-respiratory-rate-mappings.md\n",
      "Cleaned and saved: checkpoints/markdown2/SearchParameter-us-core-location-address-city-testing.md\n",
      "Cleaned and saved: checkpoints/markdown2/Observation-alcohol-use-status.md\n",
      "Cleaned and saved: checkpoints/markdown2/ValueSet-us-core-diagnosticreport-report-and-note-codes-testing.md\n",
      "Cleaned and saved: checkpoints/markdown2/SearchParameter-us-core-location-address-postalcode.md\n",
      "Cleaned and saved: checkpoints/markdown2/Observation-xray-chest-findings.md\n",
      "Cleaned and saved: checkpoints/markdown2/SearchParameter-us-core-location-address-state-testing.md\n",
      "Cleaned and saved: checkpoints/markdown2/element-level-provenance.md\n",
      "Cleaned and saved: checkpoints/markdown2/SearchParameter-us-core-specimen-id-testing.md\n",
      "Cleaned and saved: checkpoints/markdown2/ValueSet-us-core-specimen-condition-testing.md\n",
      "Cleaned and saved: checkpoints/markdown2/StructureDefinition-us-core-condition-encounter-diagnosis.md\n",
      "Cleaned and saved: checkpoints/markdown2/StructureDefinition-us-core-smokingstatus-definitions.md\n",
      "Cleaned and saved: checkpoints/markdown2/StructureDefinition-us-core-pulse-oximetry-testing.md\n",
      "Cleaned and saved: checkpoints/markdown2/Observation-pregnancy-intent.md\n",
      "Cleaned and saved: checkpoints/markdown2/QuestionnaireResponse-TAPS.md\n",
      "Cleaned and saved: checkpoints/markdown2/Device-udi-2.md\n",
      "Cleaned and saved: checkpoints/markdown2/Observation-cbc-mch.md\n",
      "Cleaned and saved: checkpoints/markdown2/ValueSet-us-core-goal-description.md\n",
      "Cleaned and saved: checkpoints/markdown2/SearchParameter-us-core-medicationrequest-status-testing.md\n",
      "Cleaned and saved: checkpoints/markdown2/StructureDefinition-us-core-allergyintolerance-definitions.md\n",
      "Cleaned and saved: checkpoints/markdown2/SearchParameter-us-core-immunization-patient.md\n",
      "Cleaned and saved: checkpoints/markdown2/Observation-ekg-impression.md\n",
      "Cleaned and saved: checkpoints/markdown2/StructureDefinition-us-core-relatedperson-definitions.md\n",
      "Cleaned and saved: checkpoints/markdown2/Observation-treatment-intervention-preference.md\n",
      "Cleaned and saved: checkpoints/markdown2/StructureDefinition-us-core-direct-mappings.md\n",
      "Cleaned and saved: checkpoints/markdown2/StructureDefinition-us-core-careteam-mappings.md\n",
      "Cleaned and saved: checkpoints/markdown2/StructureDefinition-us-core-provenance-definitions.md\n",
      "Cleaned and saved: checkpoints/markdown2/SearchParameter-us-core-location-address-postalcode-testing.md\n",
      "Cleaned and saved: checkpoints/markdown2/SearchParameter-us-core-relatedperson-id.md\n",
      "Cleaned and saved: checkpoints/markdown2/StructureDefinition-us-core-observation-sexual-orientation.md\n",
      "Cleaned and saved: checkpoints/markdown2/StructureDefinition-pediatric-bmi-for-age-definitions.md\n",
      "Cleaned and saved: checkpoints/markdown2/SearchParameter-us-core-careteam-patient-testing.md\n",
      "Cleaned and saved: checkpoints/markdown2/Observation-bmi.md\n",
      "Cleaned and saved: checkpoints/markdown2/StructureDefinition-us-core-bmi-definitions.md\n",
      "Cleaned and saved: checkpoints/markdown2/SearchParameter-us-core-questionnaireresponse-patient.md\n",
      "Cleaned and saved: checkpoints/markdown2/SearchParameter-us-core-encounter-location-testing.md\n",
      "Cleaned and saved: checkpoints/markdown2/CodeSystem-us-core-provenance-participant-type.md\n",
      "Cleaned and saved: checkpoints/markdown2/Observation-cbc-hemoglobin.md\n",
      "Cleaned and saved: checkpoints/markdown2/Observation-respiratory-rate.md\n",
      "Cleaned and saved: checkpoints/markdown2/SearchParameter-us-core-medicationdispense-type.md\n",
      "Cleaned and saved: checkpoints/markdown2/observation-summary.md\n",
      "Cleaned and saved: checkpoints/markdown2/StructureDefinition-us-core-careplan-definitions.md\n",
      "Cleaned and saved: checkpoints/markdown2/Goal-goal-sdoh-2.md\n",
      "Cleaned and saved: checkpoints/markdown2/Observation-pulse-intensity-palpation.md\n",
      "Cleaned and saved: checkpoints/markdown2/StructureDefinition-us-core-body-temperature-definitions.md\n",
      "Cleaned and saved: checkpoints/markdown2/SearchParameter-us-core-encounter-status.md\n",
      "Cleaned and saved: checkpoints/markdown2/SearchParameter-us-core-diagnosticreport-category.md\n",
      "Cleaned and saved: checkpoints/markdown2/StructureDefinition-us-core-blood-pressure-definitions.md\n",
      "Cleaned and saved: checkpoints/markdown2/SearchParameter-us-core-servicerequest-patient-testing.md\n",
      "Cleaned and saved: checkpoints/markdown2/Library-uscore-4.0.0-model-definition-testing.md\n",
      "Cleaned and saved: checkpoints/markdown2/MedicationRequest-medicationrequest-referenced-oral-axid.md\n",
      "Cleaned and saved: checkpoints/markdown2/StructureDefinition-us-core-smokingstatus.md\n",
      "Cleaned and saved: checkpoints/markdown2/Observation-oxygen-saturation.md\n",
      "Cleaned and saved: checkpoints/markdown2/SearchParameter-us-core-allergyintolerance-patient.md\n",
      "Cleaned and saved: checkpoints/markdown2/StructureDefinition-us-core-race-testing.md\n",
      "Cleaned and saved: checkpoints/markdown2/SearchParameter-us-core-condition-lastupdated.md\n",
      "Cleaned and saved: checkpoints/markdown2/general-guidance.md\n",
      "Cleaned and saved: checkpoints/markdown2/Observation-serum-sodium.md\n",
      "Cleaned and saved: checkpoints/markdown2/Observation-serum-creatinine.md\n",
      "Cleaned and saved: checkpoints/markdown2/StructureDefinition-us-core-respiratory-rate-testing.md\n",
      "Cleaned and saved: checkpoints/markdown2/ValueSet-us-core-clinical-result-observation-category.md\n",
      "Cleaned and saved: checkpoints/markdown2/StructureDefinition-us-core-observation-adi-documentation-mappings.md\n",
      "Cleaned and saved: checkpoints/markdown2/SearchParameter-us-core-observation-patient.md\n",
      "Cleaned and saved: checkpoints/markdown2/SearchParameter-us-core-encounter-id.md\n",
      "Cleaned and saved: checkpoints/markdown2/ValueSet-us-core-simple-observation-category-testing.md\n",
      "Cleaned and saved: checkpoints/markdown2/Observation-10-minute-apgar-muscle-tone.md\n",
      "Cleaned and saved: checkpoints/markdown2/StructureDefinition-us-core-jurisdiction.md\n",
      "Cleaned and saved: checkpoints/markdown2/SearchParameter-us-core-condition-asserted-date-testing.md\n",
      "Cleaned and saved: checkpoints/markdown2/StructureDefinition-us-core-jurisdiction-mappings.md\n",
      "Cleaned and saved: checkpoints/markdown2/OperationDefinition-docref-testing.md\n",
      "Cleaned and saved: checkpoints/markdown2/SearchParameter-us-core-condition-lastupdated-testing.md\n",
      "Cleaned and saved: checkpoints/markdown2/StructureDefinition-us-core-tribal-affiliation-testing.md\n",
      "Cleaned and saved: checkpoints/markdown2/SearchParameter-us-core-diagnosticreport-code-testing.md\n",
      "Cleaned and saved: checkpoints/markdown2/Observation-blood-pressure.md\n",
      "Cleaned and saved: checkpoints/markdown2/SearchParameter-us-core-questionnaireresponse-id.md\n",
      "Cleaned and saved: checkpoints/markdown2/SearchParameter-us-core-observation-category.md\n",
      "Cleaned and saved: checkpoints/markdown2/Observation-weight.md\n",
      "Cleaned and saved: checkpoints/markdown2/Library-uscore-8.0.0-model-definition.md\n",
      "Cleaned and saved: checkpoints/markdown2/SearchParameter-us-core-condition-patient-testing.md\n",
      "Cleaned and saved: checkpoints/markdown2/StructureDefinition-us-core-medication-adherence-mappings.md\n",
      "Cleaned and saved: checkpoints/markdown2/StructureDefinition-us-core-observation-occupation-definitions.md\n",
      "Cleaned and saved: checkpoints/markdown2/StructureDefinition-us-core-practitioner.md\n",
      "Cleaned and saved: checkpoints/markdown2/SearchParameter-us-core-procedure-patient-testing.md\n",
      "Cleaned and saved: checkpoints/markdown2/Observation-dxa-femur-l-t-score-bmd.md\n",
      "Cleaned and saved: checkpoints/markdown2/StructureDefinition-pediatric-bmi-for-age.md\n",
      "Cleaned and saved: checkpoints/markdown2/Library-uscore-7.0.0-model-definition.md\n",
      "Cleaned and saved: checkpoints/markdown2/StructureDefinition-us-core-direct-definitions.md\n",
      "Cleaned and saved: checkpoints/markdown2/StructureDefinition-us-core-interpreter-needed-definitions.md\n",
      "Cleaned and saved: checkpoints/markdown2/StructureDefinition-us-core-extension-questionnaire-uri-testing.md\n",
      "Cleaned and saved: checkpoints/markdown2/ValueSet-us-core-screening-assessment-observation-maximum-category.md\n",
      "Cleaned and saved: checkpoints/markdown2/patient-data-feed-additional-resources.md\n",
      "Cleaned and saved: checkpoints/markdown2/StructureDefinition-us-core-observation-occupation-testing.md\n",
      "Cleaned and saved: checkpoints/markdown2/StructureDefinition-us-core-patient-definitions.md\n",
      "Cleaned and saved: checkpoints/markdown2/StructureDefinition-us-core-practitioner-definitions.md\n",
      "Cleaned and saved: checkpoints/markdown2/SearchParameter-us-core-allergyintolerance-clinical-status.md\n",
      "Cleaned and saved: checkpoints/markdown2/SearchParameter-us-core-race.md\n",
      "Cleaned and saved: checkpoints/markdown2/SearchParameter-us-core-condition-code.md\n",
      "Cleaned and saved: checkpoints/markdown2/ValueSet-us-core-condition-code.md\n",
      "Cleaned and saved: checkpoints/markdown2/CodeSystem-us-core-provenance-participant-type-testing.md\n",
      "Cleaned and saved: checkpoints/markdown2/Encounter-1036.md\n",
      "Cleaned and saved: checkpoints/markdown2/CapabilityStatement-us-core-server-testing.md\n",
      "Cleaned and saved: checkpoints/markdown2/StructureDefinition-us-core-interpreter-needed-mappings.md\n",
      "Cleaned and saved: checkpoints/markdown2/StructureDefinition-us-core-body-height.md\n",
      "Cleaned and saved: checkpoints/markdown2/ServiceRequest-bmp.md\n",
      "Cleaned and saved: checkpoints/markdown2/patient-data-feed.md\n",
      "Cleaned and saved: checkpoints/markdown2/StructureDefinition-us-core-ethnicity-definitions.md\n",
      "Cleaned and saved: checkpoints/markdown2/SearchParameter-us-core-observation-status-testing.md\n",
      "Cleaned and saved: checkpoints/markdown2/StructureDefinition-us-core-observation-pregnancystatus-mappings.md\n",
      "Cleaned and saved: checkpoints/markdown2/StructureDefinition-us-core-medicationdispense.md\n",
      "Cleaned and saved: checkpoints/markdown2/SearchParameter-us-core-documentreference-date.md\n",
      "Cleaned and saved: checkpoints/markdown2/StructureDefinition-us-core-observation-lab-definitions.md\n",
      "Cleaned and saved: checkpoints/markdown2/StructureDefinition-us-core-allergyintolerance-mappings.md\n",
      "Cleaned and saved: checkpoints/markdown2/DocumentReference-discharge-summary.md\n",
      "Cleaned and saved: checkpoints/markdown2/StructureDefinition-us-core-observation-lab-mappings.md\n",
      "Cleaned and saved: checkpoints/markdown2/SearchParameter-us-core-diagnosticreport-lastupdated.md\n",
      "Cleaned and saved: checkpoints/markdown2/Observation-serum-bun.md\n",
      "Cleaned and saved: checkpoints/markdown2/SearchParameter-us-core-observation-lastupdated.md\n",
      "Cleaned and saved: checkpoints/markdown2/Questionnaire-exercise-vital-sign-testing.md\n",
      "Cleaned and saved: checkpoints/markdown2/Observation-satO2-fiO2.md\n",
      "Cleaned and saved: checkpoints/markdown2/Practitioner-practitioner-pharmacist.md\n",
      "Cleaned and saved: checkpoints/markdown2/ValueSet-us-core-narrative-status.md\n",
      "Cleaned and saved: checkpoints/markdown2/SearchParameter-us-core-coverage-patient.md\n",
      "Cleaned and saved: checkpoints/markdown2/StructureDefinition-us-core-medication-definitions.md\n",
      "Cleaned and saved: checkpoints/markdown2/StructureDefinition-us-core-careplan-testing.md\n",
      "Cleaned and saved: checkpoints/markdown2/Encounter-delivery.md\n",
      "Cleaned and saved: checkpoints/markdown2/SearchParameter-us-core-immunization-patient-testing.md\n",
      "Cleaned and saved: checkpoints/markdown2/SearchParameter-us-core-encounter-class.md\n",
      "Cleaned and saved: checkpoints/markdown2/Library-uscore-4.0.0-model-definition.md\n",
      "Cleaned and saved: checkpoints/markdown2/StructureDefinition-us-core-body-height-mappings.md\n",
      "Cleaned and saved: checkpoints/markdown2/Observation-10-minute-apgar-color.md\n",
      "Cleaned and saved: checkpoints/markdown2/StructureDefinition-us-core-relatedperson-mappings.md\n",
      "Cleaned and saved: checkpoints/markdown2/StructureDefinition-us-core-diagnosticreport-note.md\n",
      "Cleaned and saved: checkpoints/markdown2/SearchParameter-us-core-diagnosticreport-patient.md\n",
      "Cleaned and saved: checkpoints/markdown2/SearchParameter-us-core-relatedperson-id-testing.md\n",
      "Cleaned and saved: checkpoints/markdown2/CodeSystem-us-core-category-testing.md\n",
      "Cleaned and saved: checkpoints/markdown2/SearchParameter-us-core-encounter-type.md\n",
      "Cleaned and saved: checkpoints/markdown2/SearchParameter-us-core-servicerequest-authored-testing.md\n",
      "Cleaned and saved: checkpoints/markdown2/StructureDefinition-us-core-immunization.md\n",
      "Cleaned and saved: checkpoints/markdown2/StructureDefinition-us-core-extension-questionnaire-uri-mappings.md\n",
      "Cleaned and saved: checkpoints/markdown2/SearchParameter-us-core-device-type-testing.md\n",
      "Cleaned and saved: checkpoints/markdown2/us-core-roadmap.md\n",
      "Cleaned and saved: checkpoints/markdown2/StructureDefinition-us-core-ethnicity.md\n",
      "Cleaned and saved: checkpoints/markdown2/StructureDefinition-us-core-observation-pregnancyintent-definitions.md\n",
      "Cleaned and saved: checkpoints/markdown2/Observation-heart-rate.md\n",
      "Cleaned and saved: checkpoints/markdown2/guidance.md\n",
      "Cleaned and saved: checkpoints/markdown2/ServiceRequest-chest-xray.md\n",
      "Cleaned and saved: checkpoints/markdown2/Library-uscore-7.0.0-model-definition-testing.md\n",
      "Cleaned and saved: checkpoints/markdown2/StructureDefinition-us-core-body-weight-testing.md\n",
      "Cleaned and saved: checkpoints/markdown2/ValueSet-us-core-screening-assessment-condition-category-testing.md\n",
      "Cleaned and saved: checkpoints/markdown2/StructureDefinition-us-core-careplan-mappings.md\n",
      "Cleaned and saved: checkpoints/markdown2/StructureDefinition-us-core-documentreference.md\n",
      "Cleaned and saved: checkpoints/markdown2/StructureDefinition-us-core-encounter-definitions.md\n",
      "Cleaned and saved: checkpoints/markdown2/SearchParameter-us-core-procedure-date.md\n",
      "Cleaned and saved: checkpoints/markdown2/DiagnosticReport-chest-xray-report.md\n",
      "Cleaned and saved: checkpoints/markdown2/Observation-exercise-per-day.md\n",
      "Cleaned and saved: checkpoints/markdown2/SearchParameter-us-core-observation-date.md\n",
      "Cleaned and saved: checkpoints/markdown2/StructureDefinition-us-core-location.md\n",
      "Cleaned and saved: checkpoints/markdown2/StructureDefinition-us-core-specimen-definitions.md\n",
      "Cleaned and saved: checkpoints/markdown2/StructureDefinition-us-core-goal-mappings.md\n",
      "Cleaned and saved: checkpoints/markdown2/SearchParameter-us-core-relatedperson-patient-testing.md\n",
      "Cleaned and saved: checkpoints/markdown2/StructureDefinition-us-core-genderIdentity.md\n",
      "Cleaned and saved: checkpoints/markdown2/StructureDefinition-us-core-condition-encounter-diagnosis-definitions.md\n",
      "Cleaned and saved: checkpoints/markdown2/Observation-p-r-interval-ekg-lead.md\n",
      "Cleaned and saved: checkpoints/markdown2/Observation-ofc-percentile.md\n",
      "Cleaned and saved: checkpoints/markdown2/StructureDefinition-uscdi-requirement-testing.md\n",
      "Cleaned and saved: checkpoints/markdown2/StructureDefinition-us-core-pulse-oximetry.md\n",
      "Cleaned and saved: checkpoints/markdown2/SearchParameter-us-core-device-type.md\n",
      "Cleaned and saved: checkpoints/markdown2/SearchParameter-us-core-practitioner-id.md\n",
      "Cleaned and saved: checkpoints/markdown2/StructureDefinition-us-core-bmi-testing.md\n",
      "Cleaned and saved: checkpoints/markdown2/SearchParameter-us-core-documentreference-period-testing.md\n",
      "Cleaned and saved: checkpoints/markdown2/StructureDefinition-us-core-simple-observation-mappings.md\n",
      "Cleaned and saved: checkpoints/markdown2/ValueSet-us-core-servicerequest-category-testing.md\n",
      "Cleaned and saved: checkpoints/markdown2/SearchParameter-us-core-practitioner-identifier-testing.md\n",
      "Cleaned and saved: checkpoints/markdown2/SearchParameter-us-core-careplan-date-testing.md\n",
      "Cleaned and saved: checkpoints/markdown2/SearchParameter-us-core-immunization-date.md\n",
      "Cleaned and saved: checkpoints/markdown2/StructureDefinition-us-core-bmi.md\n",
      "Cleaned and saved: checkpoints/markdown2/SearchParameter-us-core-goal-target-date-testing.md\n",
      "Cleaned and saved: checkpoints/markdown2/CapabilityStatement-us-core-server.md\n",
      "Cleaned and saved: checkpoints/markdown2/SearchParameter-us-core-medicationrequest-intent.md\n",
      "Cleaned and saved: checkpoints/markdown2/SearchParameter-us-core-goal-target-date.md\n",
      "Cleaned and saved: checkpoints/markdown2/StructureDefinition-us-core-body-weight-mappings.md\n",
      "Cleaned and saved: checkpoints/markdown2/SearchParameter-us-core-observation-date-testing.md\n",
      "Cleaned and saved: checkpoints/markdown2/StructureDefinition-head-occipital-frontal-circumference-percentile-definitions.md\n",
      "Cleaned and saved: checkpoints/markdown2/StructureDefinition-us-core-body-temperature-mappings.md\n",
      "Cleaned and saved: checkpoints/markdown2/ServiceRequest-foodpantry-referral.md\n",
      "Cleaned and saved: checkpoints/markdown2/QuestionnaireResponse-exercise-vital-sign.md\n",
      "Cleaned and saved: checkpoints/markdown2/SearchParameter-us-core-encounter-discharge-disposition-testing.md\n",
      "Cleaned and saved: checkpoints/markdown2/SearchParameter-us-core-servicerequest-patient.md\n",
      "Cleaned and saved: checkpoints/markdown2/StructureDefinition-us-core-race.md\n",
      "Cleaned and saved: checkpoints/markdown2/SearchParameter-us-core-careplan-date.md\n",
      "Cleaned and saved: checkpoints/markdown2/relationship-with-other-igs.md\n",
      "Cleaned and saved: checkpoints/markdown2/StructureDefinition-us-core-location-testing.md\n",
      "Cleaned and saved: checkpoints/markdown2/SearchParameter-us-core-medicationdispense-patient-testing.md\n",
      "Cleaned and saved: checkpoints/markdown2/StructureDefinition-us-core-observation-pregnancystatus-testing.md\n",
      "Cleaned and saved: checkpoints/markdown2/StructureDefinition-us-core-vital-signs.md\n",
      "Cleaned and saved: checkpoints/markdown2/StructureDefinition-us-core-diagnosticreport-lab-definitions.md\n",
      "Cleaned and saved: checkpoints/markdown2/StructureDefinition-us-core-observation-pregnancyintent.md\n",
      "Cleaned and saved: checkpoints/markdown2/Questionnaire-TAPS-testing.md\n",
      "Cleaned and saved: checkpoints/markdown2/StructureDefinition-us-core-respiratory-rate-definitions.md\n",
      "Cleaned and saved: checkpoints/markdown2/ValueSet-us-core-goal-description-testing.md\n",
      "Cleaned and saved: checkpoints/markdown2/ValueSet-us-core-condition-code-current.md\n",
      "Cleaned and saved: checkpoints/markdown2/SearchParameter-us-core-patient-given.md\n",
      "Cleaned and saved: checkpoints/markdown2/ServiceRequest-ekg.md\n",
      "Cleaned and saved: checkpoints/markdown2/Observation-10-minute-apgar-reflex-irritability.md\n",
      "Cleaned and saved: checkpoints/markdown2/SearchParameter-us-core-questionnaireresponse-status-testing.md\n",
      "Cleaned and saved: checkpoints/markdown2/StructureDefinition-us-core-direct-testing.md\n",
      "Cleaned and saved: checkpoints/markdown2/StructureDefinition-us-core-adi-documentreference.md\n",
      "Cleaned and saved: checkpoints/markdown2/Observation-cbc-hematocrit.md\n",
      "Cleaned and saved: checkpoints/markdown2/SearchParameter-us-core-device-patient-testing.md\n",
      "Cleaned and saved: checkpoints/markdown2/Observation-serum-glucose.md\n",
      "Cleaned and saved: checkpoints/markdown2/StructureDefinition-us-core-practitioner-mappings.md\n",
      "Cleaned and saved: checkpoints/markdown2/ValueSet-us-core-provenance-participant-type-testing.md\n",
      "Cleaned and saved: checkpoints/markdown2/StructureDefinition-pediatric-bmi-for-age-testing.md\n",
      "Cleaned and saved: checkpoints/markdown2/Media-ekg-strip.md\n",
      "Cleaned and saved: checkpoints/markdown2/StructureDefinition-us-core-specimen-mappings.md\n",
      "Cleaned and saved: checkpoints/markdown2/SearchParameter-us-core-encounter-type-testing.md\n",
      "Cleaned and saved: checkpoints/markdown2/StructureDefinition-us-core-extension-questionnaire-uri-definitions.md\n",
      "Cleaned and saved: checkpoints/markdown2/SearchParameter-us-core-goal-patient.md\n",
      "Cleaned and saved: checkpoints/markdown2/SearchParameter-us-core-encounter-patient-testing.md\n",
      "Cleaned and saved: checkpoints/markdown2/StructureDefinition-us-core-jurisdiction-testing.md\n",
      "Cleaned and saved: checkpoints/markdown2/SearchParameter-us-core-careteam-status.md\n",
      "Cleaned and saved: checkpoints/markdown2/artifacts.md\n",
      "Cleaned and saved: checkpoints/markdown2/SearchParameter-us-core-patient-family.md\n",
      "Cleaned and saved: checkpoints/markdown2/StructureDefinition-us-core-organization-definitions.md\n",
      "Cleaned and saved: checkpoints/markdown2/Observation-cbc-leukocytes.md\n",
      "Cleaned and saved: checkpoints/markdown2/DocumentReference-polst.md\n",
      "Cleaned and saved: checkpoints/markdown2/StructureDefinition-us-core-vital-signs-mappings.md\n",
      "Cleaned and saved: checkpoints/markdown2/ValueSet-us-core-laboratory-test-codes.md\n",
      "Cleaned and saved: checkpoints/markdown2/SearchParameter-us-core-organization-address-testing.md\n",
      "Cleaned and saved: checkpoints/markdown2/SearchParameter-us-core-encounter-status-testing.md\n",
      "Cleaned and saved: checkpoints/markdown2/StructureDefinition-us-core-medicationrequest-testing.md\n",
      "Cleaned and saved: checkpoints/markdown2/StructureDefinition-us-core-heart-rate-mappings.md\n",
      "Cleaned and saved: checkpoints/markdown2/StructureDefinition-us-core-specimen-testing.md\n",
      "Cleaned and saved: checkpoints/markdown2/StructureDefinition-us-core-adi-documentreference-mappings.md\n",
      "Cleaned and saved: checkpoints/markdown2/StructureDefinition-us-core-documentreference-definitions.md\n",
      "Cleaned and saved: checkpoints/markdown2/Observation-dxa-hip-l-armass-bmd.md\n",
      "Cleaned and saved: checkpoints/markdown2/Observation-height.md\n",
      "Cleaned and saved: checkpoints/markdown2/SearchParameter-us-core-immunization-status.md\n",
      "Cleaned and saved: checkpoints/markdown2/StructureDefinition-us-core-observation-sexual-orientation-mappings.md\n",
      "Cleaned and saved: checkpoints/markdown2/Observation-alcoholic-drinks-per-day.md\n",
      "Cleaned and saved: checkpoints/markdown2/StructureDefinition-us-core-interpreter-needed.md\n",
      "Cleaned and saved: checkpoints/markdown2/SearchParameter-us-core-patient-death-date-testing.md\n",
      "Cleaned and saved: checkpoints/markdown2/SearchParameter-us-core-documentreference-id-testing.md\n",
      "Cleaned and saved: checkpoints/markdown2/capability-statements.md\n",
      "Cleaned and saved: checkpoints/markdown2/SearchParameter-us-core-documentreference-type-testing.md\n",
      "Cleaned and saved: checkpoints/markdown2/QuestionnaireResponse-AUDIT-C.md\n",
      "Cleaned and saved: checkpoints/markdown2/SearchParameter-us-core-servicerequest-category-testing.md\n",
      "Cleaned and saved: checkpoints/markdown2/SearchParameter-us-core-encounter-id-testing.md\n",
      "Cleaned and saved: checkpoints/markdown2/StructureDefinition-us-core-medication-adherence-definitions.md\n",
      "Cleaned and saved: checkpoints/markdown2/Observation-care-experience-preference.md\n",
      "Cleaned and saved: checkpoints/markdown2/Organization-acme-payer.md\n",
      "Cleaned and saved: checkpoints/markdown2/StructureDefinition-us-core-extension-questionnaire-uri.md\n",
      "Cleaned and saved: checkpoints/markdown2/StructureDefinition-uscdi-requirement-definitions.md\n",
      "Cleaned and saved: checkpoints/markdown2/SearchParameter-us-core-encounter-discharge-disposition.md\n",
      "Cleaned and saved: checkpoints/markdown2/SearchParameter-us-core-patient-identifier.md\n",
      "Cleaned and saved: checkpoints/markdown2/ValueSet-us-core-screening-assessment-observation-maximum-category-testing.md\n",
      "Cleaned and saved: checkpoints/markdown2/StructureDefinition-us-core-observation-screening-assessment-definitions.md\n",
      "Cleaned and saved: checkpoints/markdown2/StructureDefinition-us-core-observation-sexual-orientation-definitions.md\n",
      "Cleaned and saved: checkpoints/markdown2/SearchParameter-us-core-condition-patient.md\n",
      "Cleaned and saved: checkpoints/markdown2/StructureDefinition-us-core-simple-observation-definitions.md\n",
      "Cleaned and saved: checkpoints/markdown2/SearchParameter-us-core-medicationrequest-authoredon-testing.md\n",
      "Cleaned and saved: checkpoints/markdown2/SearchParameter-us-core-servicerequest-code-testing.md\n",
      "Cleaned and saved: checkpoints/markdown2/SearchParameter-us-core-careplan-status.md\n",
      "Cleaned and saved: checkpoints/markdown2/StructureDefinition-us-core-body-height-definitions.md\n",
      "Cleaned and saved: checkpoints/markdown2/ValueSet-us-core-condition-code-current-testing.md\n",
      "Cleaned and saved: checkpoints/markdown2/Observation-dxa-hip-l-t-score-bmd.md\n",
      "Cleaned and saved: checkpoints/markdown2/terminology.md\n",
      "Cleaned and saved: checkpoints/markdown2/StructureDefinition-us-core-heart-rate-definitions.md\n",
      "Cleaned and saved: checkpoints/markdown2/ServiceRequest-rehab.md\n",
      "Cleaned and saved: checkpoints/markdown2/Organization-saint-luke-w-endpoint.md\n",
      "Cleaned and saved: checkpoints/markdown2/StructureDefinition-us-core-provenance-mappings.md\n",
      "Cleaned and saved: checkpoints/markdown2/StructureDefinition-us-core-medication-testing.md\n",
      "Cleaned and saved: checkpoints/markdown2/SearchParameter-us-core-documentreference-period.md\n",
      "Cleaned and saved: checkpoints/markdown2/SearchParameter-us-core-observation-code-testing.md\n",
      "Cleaned and saved: checkpoints/markdown2/SearchParameter-us-core-careplan-status-testing.md\n",
      "Cleaned and saved: checkpoints/markdown2/SearchParameter-us-core-location-name-testing.md\n",
      "Cleaned and saved: checkpoints/markdown2/StructureDefinition-us-core-observation-adi-documentation.md\n",
      "Cleaned and saved: checkpoints/markdown2/QuestionnaireResponse-glascow-coma-score.md\n",
      "Cleaned and saved: checkpoints/markdown2/clinical-notes.md\n",
      "Cleaned and saved: checkpoints/markdown2/screening-and-assessments.md\n",
      "Cleaned and saved: checkpoints/markdown2/SearchParameter-us-core-procedure-status.md\n",
      "Cleaned and saved: checkpoints/markdown2/SearchParameter-us-core-careteam-role.md\n",
      "Cleaned and saved: checkpoints/markdown2/StructureDefinition-us-core-organization.md\n",
      "Cleaned and saved: checkpoints/markdown2/SearchParameter-us-core-careplan-category-testing.md\n",
      "Cleaned and saved: checkpoints/markdown2/SearchParameter-us-core-medicationdispense-status-testing.md\n",
      "Cleaned and saved: checkpoints/markdown2/StructureDefinition-us-core-patient.md\n",
      "Cleaned and saved: checkpoints/markdown2/StructureDefinition-us-core-observation-clinical-result-definitions.md\n",
      "Cleaned and saved: checkpoints/markdown2/StructureDefinition-us-core-implantable-device-definitions.md\n",
      "Cleaned and saved: checkpoints/markdown2/StructureDefinition-us-core-direct.md\n",
      "Cleaned and saved: checkpoints/markdown2/SearchParameter-us-core-diagnosticreport-status.md\n",
      "Cleaned and saved: checkpoints/markdown2/Library-uscore-3.1.1-model-definition-testing.md\n",
      "Cleaned and saved: checkpoints/markdown2/Observation-observation-occupation.md\n",
      "Cleaned and saved: checkpoints/markdown2/SearchParameter-us-core-patient-identifier-testing.md\n",
      "Cleaned and saved: checkpoints/markdown2/StructureDefinition-us-core-observation-occupation.md\n",
      "Cleaned and saved: checkpoints/markdown2/looking-ahead.md\n",
      "Cleaned and saved: checkpoints/markdown2/SearchParameter-us-core-medicationrequest-patient.md\n",
      "Cleaned and saved: checkpoints/markdown2/SearchParameter-us-core-questionnaireresponse-id-testing.md\n",
      "Cleaned and saved: checkpoints/markdown2/Observation-jugular-vein-distension.md\n",
      "Cleaned and saved: checkpoints/markdown2/StructureDefinition-us-core-treatment-intervention-preference.md\n",
      "Cleaned and saved: checkpoints/markdown2/StructureDefinition-us-core-average-blood-pressure-mappings.md\n",
      "Cleaned and saved: checkpoints/markdown2/Observation-dxa-femur-l-z-score-bmd.md\n",
      "Cleaned and saved: checkpoints/markdown2/StructureDefinition-us-core-observation-screening-assessment-testing.md\n",
      "Cleaned and saved: checkpoints/markdown2/Library-uscore-3.1.1-model-definition.md\n",
      "Cleaned and saved: checkpoints/markdown2/SearchParameter-us-core-servicerequest-id-testing.md\n",
      "Cleaned and saved: checkpoints/markdown2/StructureDefinition-us-core-documentreference-mappings.md\n",
      "Cleaned and saved: checkpoints/markdown2/StructureDefinition-us-core-head-circumference-testing.md\n",
      "Cleaned and saved: checkpoints/markdown2/StructureDefinition-us-core-diagnosticreport-note-testing.md\n",
      "Cleaned and saved: checkpoints/markdown2/StructureDefinition-us-core-condition-problems-health-concerns-definitions.md\n",
      "Cleaned and saved: checkpoints/markdown2/CodeSystem-us-core-category.md\n",
      "Cleaned and saved: checkpoints/markdown2/StructureDefinition-pediatric-weight-for-height-definitions.md\n",
      "Cleaned and saved: checkpoints/markdown2/SearchParameter-us-core-questionnaireresponse-authored.md\n",
      "Cleaned and saved: checkpoints/markdown2/Organization-holy-healthcare.md\n",
      "Cleaned and saved: checkpoints/markdown2/StructureDefinition-us-core-observation-clinical-result.md\n",
      "Cleaned and saved: checkpoints/markdown2/searchform.md\n",
      "Cleaned and saved: checkpoints/markdown2/StructureDefinition-us-core-sex-mappings.md\n",
      "Cleaned and saved: checkpoints/markdown2/StructureDefinition-us-core-implantable-device.md\n",
      "Cleaned and saved: checkpoints/markdown2/SearchParameter-us-core-goal-lifecycle-status-testing.md\n",
      "Cleaned and saved: checkpoints/markdown2/SearchParameter-us-core-practitionerrole-practitioner.md\n",
      "Cleaned and saved: checkpoints/markdown2/Observation-temperature.md\n",
      "Cleaned and saved: checkpoints/markdown2/StructureDefinition-us-core-observation-pregnancystatus.md\n",
      "Cleaned and saved: checkpoints/markdown2/StructureDefinition-us-core-medicationdispense-definitions.md\n",
      "Cleaned and saved: checkpoints/markdown2/Observation-cbc-erythrocytes.md\n",
      "Cleaned and saved: checkpoints/markdown2/StructureDefinition-pediatric-bmi-for-age-mappings.md\n",
      "Cleaned and saved: checkpoints/markdown2/StructureDefinition-us-core-heart-rate.md\n",
      "Cleaned and saved: checkpoints/markdown2/StructureDefinition-us-core-respiratory-rate.md\n",
      "Cleaned and saved: checkpoints/markdown2/ValueSet-us-core-clinical-note-type-testing.md\n",
      "Cleaned and saved: checkpoints/markdown2/StructureDefinition-us-core-ethnicity-testing.md\n",
      "Cleaned and saved: checkpoints/markdown2/StructureDefinition-us-core-organization-testing.md\n",
      "Cleaned and saved: checkpoints/markdown2/Observation-serum-chloride.md\n",
      "Cleaned and saved: checkpoints/markdown2/SearchParameter-us-core-diagnosticreport-code.md\n",
      "Cleaned and saved: checkpoints/markdown2/SearchParameter-us-core-servicerequest-category.md\n",
      "Cleaned and saved: checkpoints/markdown2/SearchParameter-us-core-coverage-patient-testing.md\n",
      "Cleaned and saved: checkpoints/markdown2/StructureDefinition-us-core-goal-definitions.md\n",
      "Cleaned and saved: checkpoints/markdown2/SearchParameter-us-core-careplan-patient.md\n",
      "Cleaned and saved: checkpoints/markdown2/Goal-goal-1.md\n",
      "Cleaned and saved: checkpoints/markdown2/Observation-10-minute-apgar-score.md\n",
      "Cleaned and saved: checkpoints/markdown2/must-support.md\n",
      "Cleaned and saved: checkpoints/markdown2/StructureDefinition-pediatric-weight-for-height-testing.md\n",
      "Cleaned and saved: checkpoints/markdown2/StructureDefinition-us-core-coverage-testing.md\n",
      "Cleaned and saved: checkpoints/markdown2/Observation-10-minute-apgar-score-panel.md\n",
      "Cleaned and saved: checkpoints/markdown2/Immunization-imm-1.md\n",
      "Cleaned and saved: checkpoints/markdown2/StructureDefinition-us-core-practitionerrole-testing.md\n",
      "Cleaned and saved: checkpoints/markdown2/SearchParameter-us-core-servicerequest-status-testing.md\n",
      "Cleaned and saved: checkpoints/markdown2/StructureDefinition-us-core-medicationrequest-mappings.md\n",
      "Cleaned and saved: checkpoints/markdown2/index.md\n",
      "Cleaned and saved: checkpoints/markdown2/StructureDefinition-us-core-servicerequest-mappings.md\n",
      "Cleaned and saved: checkpoints/markdown2/MedicationRequest-medicationrequest-contained-oral-axid.md\n",
      "Cleaned and saved: checkpoints/markdown2/search-parameters-and-operations.md\n",
      "Cleaned and saved: checkpoints/markdown2/StructureDefinition-us-core-procedure-mappings.md\n",
      "Cleaned and saved: checkpoints/markdown2/SearchParameter-us-core-careplan-patient-testing.md\n",
      "Cleaned and saved: checkpoints/markdown2/StructureDefinition-us-core-tribal-affiliation.md\n",
      "Cleaned and saved: checkpoints/markdown2/SearchParameter-us-core-patient-birthdate-testing.md\n",
      "Cleaned and saved: checkpoints/markdown2/SearchParameter-us-core-encounter-identifier-testing.md\n",
      "Cleaned and saved: checkpoints/markdown2/toc.md\n",
      "Cleaned and saved: checkpoints/markdown2/StructureDefinition-us-core-adi-documentreference-definitions.md\n",
      "Cleaned and saved: checkpoints/markdown2/SearchParameter-us-core-encounter-location.md\n",
      "Cleaned and saved: checkpoints/markdown2/SearchParameter-us-core-medicationrequest-intent-testing.md\n",
      "Cleaned and saved: checkpoints/markdown2/StructureDefinition-us-core-observation-sexual-orientation-testing.md\n",
      "Cleaned and saved: checkpoints/markdown2/SearchParameter-us-core-device-status.md\n",
      "Cleaned and saved: checkpoints/markdown2/StructureDefinition-us-core-body-temperature-testing.md\n",
      "Cleaned and saved: checkpoints/markdown2/SearchParameter-us-core-allergyintolerance-clinical-status-testing.md\n",
      "Cleaned and saved: checkpoints/markdown2/Library-uscore-5.0.1-model-definition-testing.md\n",
      "Cleaned and saved: checkpoints/markdown2/StructureDefinition-us-core-sex.md\n",
      "Cleaned and saved: checkpoints/markdown2/SearchParameter-us-core-questionnaireresponse-status.md\n",
      "Cleaned and saved: checkpoints/markdown2/SearchParameter-us-core-patient-given-testing.md\n",
      "Cleaned and saved: checkpoints/markdown2/StructureDefinition-us-core-observation-adi-documentation-testing.md\n",
      "Cleaned and saved: checkpoints/markdown2/SearchParameter-us-core-location-name.md\n",
      "Cleaned and saved: checkpoints/markdown2/StructureDefinition-head-occipital-frontal-circumference-percentile.md\n",
      "Cleaned and saved: checkpoints/markdown2/SearchParameter-us-core-questionnaireresponse-questionnaire.md\n",
      "Cleaned and saved: checkpoints/markdown2/StructureDefinition-us-core-questionnaireresponse-mappings.md\n",
      "Cleaned and saved: checkpoints/markdown2/StructureDefinition-us-core-birthsex.md\n",
      "Cleaned and saved: checkpoints/markdown2/StructureDefinition-us-core-implantable-device-mappings.md\n",
      "Cleaned and saved: checkpoints/markdown2/StructureDefinition-us-core-coverage-definitions.md\n",
      "Cleaned and saved: checkpoints/markdown2/SearchParameter-us-core-medicationdispense-status.md\n",
      "Cleaned and saved: checkpoints/markdown2/Observation-average-blood-pressure.md\n",
      "Cleaned and saved: checkpoints/markdown2/StructureDefinition-us-core-average-blood-pressure.md\n",
      "Cleaned and saved: checkpoints/markdown2/StructureDefinition-us-core-servicerequest-definitions.md\n",
      "Cleaned and saved: checkpoints/markdown2/ValueSet-us-core-screening-assessment-observation-category-testing.md\n",
      "Cleaned and saved: checkpoints/markdown2/SearchParameter-us-core-practitioner-id-testing.md\n",
      "Cleaned and saved: checkpoints/markdown2/Observation-head-circumference.md\n",
      "Cleaned and saved: checkpoints/markdown2/SearchParameter-us-core-specimen-id.md\n",
      "Cleaned and saved: checkpoints/markdown2/SearchParameter-us-core-practitionerrole-specialty.md\n",
      "Cleaned and saved: checkpoints/markdown2/CodeSystem-condition-category.md\n",
      "Cleaned and saved: checkpoints/markdown2/StructureDefinition-us-core-servicerequest.md\n",
      "Cleaned and saved: checkpoints/markdown2/ValueSet-us-core-problem-or-health-concern.md\n",
      "Cleaned and saved: checkpoints/markdown2/SearchParameter-us-core-device-status-testing.md\n",
      "Cleaned and saved: checkpoints/markdown2/StructureDefinition-us-core-relatedperson.md\n",
      "Cleaned and saved: checkpoints/markdown2/StructureDefinition-us-core-observation-pregnancystatus-definitions.md\n",
      "Cleaned and saved: checkpoints/markdown2/StructureDefinition-us-core-care-experience-preference-mappings.md\n",
      "Cleaned and saved: checkpoints/markdown2/SearchParameter-us-core-practitionerrole-practitioner-testing.md\n",
      "Cleaned and saved: checkpoints/markdown2/scopes.md\n",
      "Cleaned and saved: checkpoints/markdown2/StructureDefinition-us-core-body-height-testing.md\n",
      "Cleaned and saved: checkpoints/markdown2/SearchParameter-us-core-medicationrequest-status.md\n",
      "Cleaned and saved: checkpoints/markdown2/SearchParameter-us-core-location-address-testing.md\n",
      "Cleaned and saved: checkpoints/markdown2/SearchParameter-us-core-questionnaireresponse-questionnaire-testing.md\n",
      "Cleaned and saved: checkpoints/markdown2/ValueSet-us-core-documentreference-category.md\n",
      "Cleaned and saved: checkpoints/markdown2/StructureDefinition-us-core-medication.md\n",
      "Cleaned and saved: checkpoints/markdown2/CodeSystem-careplan-category-testing.md\n",
      "Cleaned and saved: checkpoints/markdown2/StructureDefinition-us-core-encounter-mappings.md\n",
      "Cleaned and saved: checkpoints/markdown2/Questionnaire-exercise-vital-sign.md\n",
      "Cleaned and saved: checkpoints/markdown2/SearchParameter-us-core-ethnicity.md\n",
      "Cleaned and saved: checkpoints/markdown2/StructureDefinition-us-core-diagnosticreport-note-definitions.md\n",
      "Cleaned and saved: checkpoints/markdown2/StructureDefinition-us-core-encounter-testing.md\n",
      "Cleaned and saved: checkpoints/markdown2/StructureDefinition-us-core-careteam.md\n",
      "Cleaned and saved: checkpoints/markdown2/StructureDefinition-us-core-observation-screening-assessment.md\n",
      "Cleaned and saved: checkpoints/markdown2/SearchParameter-us-core-specimen-patient-testing.md\n",
      "Cleaned and saved: checkpoints/markdown2/StructureDefinition-us-core-coverage.md\n",
      "Cleaned and saved: checkpoints/markdown2/SearchParameter-us-core-procedure-patient.md\n",
      "Cleaned and saved: checkpoints/markdown2/SearchParameter-us-core-organization-name-testing.md\n",
      "Cleaned and saved: checkpoints/markdown2/SearchParameter-us-core-condition-encounter.md\n",
      "Cleaned and saved: checkpoints/markdown2/Organization-acme-lab.md\n",
      "Cleaned and saved: checkpoints/markdown2/StructureDefinition-us-core-authentication-time-definitions.md\n",
      "Cleaned and saved: checkpoints/markdown2/SearchParameter-us-core-practitioner-name.md\n",
      "Cleaned and saved: checkpoints/markdown2/CodeSystem-condition-category-testing.md\n",
      "Cleaned and saved: checkpoints/markdown2/SearchParameter-us-core-encounter-patient.md\n",
      "Cleaned and saved: checkpoints/markdown2/MedicationRequest-self-tylenol.md\n",
      "Cleaned and saved: checkpoints/markdown2/Condition-condition-duodenal-ulcer.md\n",
      "Cleaned and saved: checkpoints/markdown2/Procedure-defib-implant.md\n",
      "Cleaned and saved: checkpoints/markdown2/StructureDefinition-us-core-average-blood-pressure-definitions.md\n",
      "Cleaned and saved: checkpoints/markdown2/StructureDefinition-us-core-procedure-testing.md\n",
      "Cleaned and saved: checkpoints/markdown2/ValueSet-us-core-screening-assessment-observation-category.md\n",
      "Cleaned and saved: checkpoints/markdown2/changes.md\n",
      "Cleaned and saved: checkpoints/markdown2/SearchParameter-us-core-documentreference-id.md\n",
      "Cleaned and saved: checkpoints/markdown2/StructureDefinition-us-core-blood-pressure-mappings.md\n",
      "Cleaned and saved: checkpoints/markdown2/Observation-exercise-per-week.md\n",
      "Cleaned and saved: checkpoints/markdown2/OperationDefinition-docref.md\n",
      "Cleaned and saved: checkpoints/markdown2/Observation-cbc-mchc.md\n",
      "Cleaned and saved: checkpoints/markdown2/StructureDefinition-us-core-head-circumference.md\n",
      "Cleaned and saved: checkpoints/markdown2/StructureDefinition-us-core-ethnicity-mappings.md\n",
      "Cleaned and saved: checkpoints/markdown2/SearchParameter-us-core-specimen-patient.md\n",
      "Cleaned and saved: checkpoints/markdown2/DiagnosticReport-cardiology-report.md\n",
      "Cleaned and saved: checkpoints/markdown2/SearchParameter-us-core-patient-name.md\n",
      "Cleaned and saved: checkpoints/markdown2/SearchParameter-us-core-condition-abatement-date-testing.md\n",
      "Cleaned and saved: checkpoints/markdown2/ValueSet-us-core-provenance-participant-type.md\n",
      "Cleaned and saved: checkpoints/markdown2/SearchParameter-us-core-documentreference-patient-testing.md\n",
      "Cleaned and saved: checkpoints/markdown2/StructureDefinition-us-core-observation-clinical-result-testing.md\n",
      "Cleaned and saved: checkpoints/markdown2/Observation-observation-occupation-unknown.md\n",
      "Cleaned and saved: checkpoints/markdown2/Observation-observation-occupation-industry-unknown.md\n",
      "Cleaned and saved: checkpoints/markdown2/StructureDefinition-us-core-treatment-intervention-preference-mappings.md\n",
      "Cleaned and saved: checkpoints/markdown2/RelatedPerson-shaw-niece.md\n",
      "Cleaned and saved: checkpoints/markdown2/Observation-simple-observation-functional-status.md\n",
      "Cleaned and saved: checkpoints/markdown2/Observation-heart-rate-rhythm.md\n",
      "Cleaned and saved: checkpoints/markdown2/SearchParameter-us-core-questionnaireresponse-authored-testing.md\n",
      "Cleaned and saved: checkpoints/markdown2/StructureDefinition-us-core-race-definitions.md\n",
      "Cleaned and saved: checkpoints/markdown2/DiagnosticReport-bone-density-report.md\n",
      "Cleaned and saved: checkpoints/markdown2/StructureDefinition-us-core-condition-problems-health-concerns.md\n",
      "Cleaned and saved: checkpoints/markdown2/SearchParameter-us-core-condition-clinical-status-testing.md\n",
      "Cleaned and saved: checkpoints/markdown2/StructureDefinition-us-core-goal-testing.md\n",
      "Cleaned and saved: checkpoints/markdown2/Observation-substance-use-status.md\n",
      "Cleaned and saved: checkpoints/markdown2/StructureDefinition-us-core-observation-pregnancyintent-mappings.md\n",
      "Cleaned and saved: checkpoints/markdown2/Library-uscore-8.0.0-model-definition-testing.md\n",
      "Cleaned and saved: checkpoints/markdown2/StructureDefinition-us-core-questionnaireresponse-definitions.md\n",
      "Cleaned and saved: checkpoints/markdown2/Device-udi-1.md\n",
      "Cleaned and saved: checkpoints/markdown2/SearchParameter-us-core-location-address-city.md\n",
      "Cleaned and saved: checkpoints/markdown2/Media-chest-xray.md\n",
      "Cleaned and saved: checkpoints/markdown2/SearchParameter-us-core-goal-description-testing.md\n",
      "Cleaned and saved: checkpoints/markdown2/StructureDefinition-us-core-patient-mappings.md\n",
      "Cleaned and saved: checkpoints/markdown2/SearchParameter-us-core-diagnosticreport-lastupdated-testing.md\n",
      "Cleaned and saved: checkpoints/markdown2/StructureDefinition-us-core-observation-clinical-result-mappings.md\n",
      "Cleaned and saved: checkpoints/markdown2/ValueSet-us-core-narrative-status-testing.md\n",
      "Cleaned and saved: checkpoints/markdown2/SearchParameter-us-core-questionnaireresponse-patient-testing.md\n",
      "Cleaned and saved: checkpoints/markdown2/StructureDefinition-us-core-genderIdentity-mappings.md\n",
      "Cleaned and saved: checkpoints/markdown2/SearchParameter-us-core-condition-category-testing.md\n",
      "Cleaned and saved: checkpoints/markdown2/StructureDefinition-head-occipital-frontal-circumference-percentile-mappings.md\n",
      "Cleaned and saved: checkpoints/markdown2/StructureDefinition-us-core-vital-signs-definitions.md\n",
      "Cleaned and saved: checkpoints/markdown2/StructureDefinition-us-core-blood-pressure-testing.md\n",
      "Cleaned and saved: checkpoints/markdown2/SearchParameter-us-core-servicerequest-authored.md\n",
      "Cleaned and saved: checkpoints/markdown2/SearchParameter-us-core-patient-birthdate.md\n",
      "Cleaned and saved: checkpoints/markdown2/Observation-dxa-hip-l-z-score-bmd.md\n",
      "Cleaned and saved: checkpoints/markdown2/SearchParameter-us-core-relatedperson-patient.md\n",
      "Cleaned and saved: checkpoints/markdown2/ValueSet-us-core-clinical-note-type.md\n",
      "Cleaned and saved: checkpoints/markdown2/StructureDefinition-us-core-medication-adherence.md\n",
      "Cleaned and saved: checkpoints/markdown2/Observation-qrs-dur-ekg-lead.md\n",
      "Cleaned and saved: checkpoints/markdown2/SearchParameter-us-core-careteam-patient.md\n",
      "Cleaned and saved: checkpoints/markdown2/SearchParameter-us-core-servicerequest-status.md\n",
      "Cleaned and saved: checkpoints/markdown2/StructureDefinition-us-core-observation-adi-documentation-definitions.md\n",
      "Cleaned and saved: checkpoints/markdown2/StructureDefinition-us-core-interpreter-needed-testing.md\n",
      "Cleaned and saved: checkpoints/markdown2/StructureDefinition-us-core-allergyintolerance-testing.md\n",
      "Cleaned and saved: checkpoints/markdown2/SearchParameter-us-core-condition-recorded-date.md\n",
      "Cleaned and saved: checkpoints/markdown2/ValueSet-us-core-clinical-result-observation-category-testing.md\n",
      "Cleaned and saved: checkpoints/markdown2/StructureDefinition-us-core-adi-documentreference-testing.md\n",
      "Cleaned and saved: checkpoints/markdown2/Library-uscore-6.1.0-model-definition-testing.md\n",
      "Cleaned and saved: checkpoints/markdown2/StructureDefinition-us-core-head-circumference-definitions.md\n",
      "Cleaned and saved: checkpoints/markdown2/Observation-simple-observation-sdoh.md\n",
      "Cleaned and saved: checkpoints/markdown2/SearchParameter-us-core-procedure-date-testing.md\n",
      "Cleaned and saved: checkpoints/markdown2/Observation-ekg-lead.md\n",
      "Cleaned and saved: checkpoints/markdown2/SearchParameter-us-core-device-patient.md\n",
      "Cleaned and saved: checkpoints/markdown2/StructureDefinition-us-core-average-blood-pressure-testing.md\n",
      "Cleaned and saved: checkpoints/markdown2/SearchParameter-us-core-careteam-role-testing.md\n",
      "Cleaned and saved: checkpoints/markdown2/SearchParameter-us-core-observation-code.md\n",
      "Cleaned and saved: checkpoints/markdown2/ValueSet-us-core-procedure-code.md\n",
      "Cleaned and saved: checkpoints/markdown2/SearchParameter-us-core-goal-description.md\n",
      "Cleaned and saved: checkpoints/markdown2/SearchParameter-us-core-procedure-code.md\n",
      "Cleaned and saved: checkpoints/markdown2/CapabilityStatement-us-core-client-testing.md\n",
      "Cleaned and saved: checkpoints/markdown2/ValueSet-us-core-condition-code-testing.md\n",
      "Cleaned and saved: checkpoints/markdown2/ValueSet-us-core-documentreference-type.md\n",
      "Cleaned and saved: checkpoints/markdown2/MedicationRequest-medicationrequest-coded-oral-axid.md\n",
      "Cleaned and saved: checkpoints/markdown2/downloads.md\n",
      "Cleaned and saved: checkpoints/markdown2/ValueSet-us-core-screening-assessment-condition-category.md\n",
      "Cleaned and saved: checkpoints/markdown2/writing-vital-signs.md\n",
      "Cleaned and saved: checkpoints/markdown2/Observation-pregnancy-status.md\n",
      "Cleaned and saved: checkpoints/markdown2/SearchParameter-us-core-observation-status.md\n",
      "Cleaned and saved: checkpoints/markdown2/StructureDefinition-us-core-birthsex-testing.md\n",
      "Cleaned and saved: checkpoints/markdown2/SearchParameter-us-core-medicationrequest-encounter-testing.md\n",
      "Cleaned and saved: checkpoints/markdown2/StructureDefinition-us-core-location-mappings.md\n",
      "Cleaned and saved: checkpoints/markdown2/SearchParameter-us-core-condition-abatement-date.md\n",
      "Cleaned and saved: checkpoints/markdown2/SearchParameter-us-core-documentreference-type.md\n",
      "Cleaned and saved: checkpoints/markdown2/SearchParameter-us-core-condition-code-testing.md\n",
      "Cleaned and saved: checkpoints/markdown2/Questionnaire-AUDIT-C-testing.md\n",
      "Cleaned and saved: checkpoints/markdown2/StructureDefinition-us-core-smokingstatus-mappings.md\n",
      "Cleaned and saved: checkpoints/markdown2/StructureDefinition-pediatric-weight-for-height.md\n",
      "Cleaned and saved: checkpoints/markdown2/Observation-at-home-in-vitro-test.md\n",
      "Cleaned and saved: checkpoints/markdown2/StructureDefinition-us-core-goal.md\n",
      "Cleaned and saved: checkpoints/markdown2/StructureDefinition-uscdi-requirement-mappings.md\n",
      "Cleaned and saved: checkpoints/markdown2/SearchParameter-us-core-medicationdispense-type-testing.md\n",
      "Cleaned and saved: checkpoints/markdown2/SearchParameter-us-core-encounter-lastupdated-testing.md\n",
      "Cleaned and saved: checkpoints/markdown2/Questionnaire-TAPS.md\n",
      "Cleaned and saved: checkpoints/markdown2/ValueSet-us-core-problem-or-health-concern-testing.md\n",
      "Cleaned and saved: checkpoints/markdown2/StructureDefinition-us-core-careplan.md\n",
      "Cleaned and saved: checkpoints/markdown2/SearchParameter-us-core-practitionerrole-specialty-testing.md\n",
      "Cleaned and saved: checkpoints/markdown2/StructureDefinition-us-core-diagnosticreport-note-mappings.md\n",
      "Cleaned and saved: checkpoints/markdown2/StructureDefinition-us-core-simple-observation.md\n",
      "Cleaned and saved: checkpoints/markdown2/StructureDefinition-uscdi-requirement.md\n",
      "Cleaned and saved: checkpoints/markdown2/Observation-q-t-interval-ekg-lead.md\n",
      "Cleaned and saved: checkpoints/markdown2/SearchParameter-us-core-encounter-identifier.md\n",
      "Cleaned and saved: checkpoints/markdown2/SearchParameter-us-core-careplan-category.md\n",
      "Cleaned and saved: checkpoints/markdown2/ValueSet-us-core-simple-observation-category.md\n",
      "Cleaned and saved: checkpoints/markdown2/SearchParameter-us-core-condition-onset-date.md\n",
      "Cleaned and saved: checkpoints/markdown2/StructureDefinition-us-core-careteam-definitions.md\n",
      "Cleaned and saved: checkpoints/markdown2/SearchParameter-us-core-patient-id-testing.md\n",
      "Cleaned and saved: checkpoints/markdown2/SearchParameter-us-core-patient-id.md\n",
      "Cleaned and saved: checkpoints/markdown2/StructureDefinition-us-core-patient-testing.md\n",
      "Cleaned and saved: checkpoints/markdown2/ValueSet-us-core-specimen-condition.md\n",
      "Cleaned and saved: checkpoints/markdown2/SearchParameter-us-core-encounter-date.md\n",
      "Cleaned and saved: checkpoints/markdown2/StructureDefinition-us-core-organization-mappings.md\n",
      "Cleaned and saved: checkpoints/markdown2/SearchParameter-us-core-procedure-status-testing.md\n",
      "Cleaned and saved: checkpoints/markdown2/StructureDefinition-us-core-observation-pregnancyintent-testing.md\n",
      "Cleaned and saved: checkpoints/markdown2/Observation-10-minute-apgar-heart-rate.md\n",
      "Cleaned and saved: checkpoints/markdown2/StructureDefinition-us-core-care-experience-preference-testing.md\n",
      "Cleaned and saved: checkpoints/markdown2/SearchParameter-us-core-goal-patient-testing.md\n",
      "Cleaned and saved: checkpoints/markdown2/Medication-uscore-med1.md\n",
      "Cleaned and saved: checkpoints/markdown2/SearchParameter-us-core-observation-patient-testing.md\n",
      "Cleaned and saved: checkpoints/markdown2/Location-hl7east.md\n",
      "Cleaned and saved: checkpoints/markdown2/StructureDefinition-us-core-medication-mappings.md\n",
      "Cleaned and saved: checkpoints/markdown2/StructureDefinition-us-core-condition-encounter-diagnosis-testing.md\n",
      "Cleaned and saved: checkpoints/markdown2/StructureDefinition-us-core-encounter.md\n",
      "Cleaned and saved: checkpoints/markdown2/StructureDefinition-us-core-diagnosticreport-lab.md\n",
      "Cleaned and saved: checkpoints/markdown2/StructureDefinition-us-core-provenance.md\n",
      "Cleaned and saved: checkpoints/markdown2/SearchParameter-us-core-documentreference-status-testing.md\n",
      "Cleaned and saved: checkpoints/markdown2/ServiceRequest-cbc.md\n",
      "Cleaned and saved: checkpoints/markdown2/StructureDefinition-us-core-diagnosticreport-lab-mappings.md\n",
      "Cleaned and saved: checkpoints/markdown2/medication-list.md\n",
      "Cleaned and saved: checkpoints/markdown2/SearchParameter-us-core-relatedperson-name.md\n",
      "Cleaned and saved: checkpoints/markdown2/StructureDefinition-us-core-medicationrequest.md\n",
      "Cleaned and saved: checkpoints/markdown2/StructureDefinition-us-core-practitionerrole-mappings.md\n",
      "Cleaned and saved: checkpoints/markdown2/SearchParameter-us-core-patient-family-testing.md\n",
      "Cleaned and saved: checkpoints/markdown2/SearchParameter-us-core-diagnosticreport-date-testing.md\n",
      "Cleaned and saved: checkpoints/markdown2/StructureDefinition-us-core-medicationrequest-definitions.md\n",
      "Cleaned and saved: checkpoints/markdown2/StructureDefinition-us-core-authentication-time-mappings.md\n",
      "Cleaned and saved: checkpoints/markdown2/SearchParameter-us-core-observation-lastupdated-testing.md\n",
      "Cleaned and saved: checkpoints/markdown2/ValueSet-us-core-laboratory-test-codes-testing.md\n",
      "Cleaned and saved: checkpoints/markdown2/StructureDefinition-us-core-immunization-mappings.md\n",
      "Cleaned and saved: checkpoints/markdown2/StructureDefinition-us-core-sex-definitions.md\n",
      "Cleaned and saved: checkpoints/markdown2/StructureDefinition-us-core-body-temperature.md\n",
      "Cleaned and saved: checkpoints/markdown2/SearchParameter-us-core-patient-death-date.md\n",
      "Cleaned and saved: checkpoints/markdown2/CarePlan-colonoscopy.md\n",
      "Cleaned and saved: checkpoints/markdown2/ValueSet-us-core-documentreference-type-testing.md\n",
      "Cleaned and saved: checkpoints/markdown2/Observation-cbc-mcv.md\n",
      "Cleaned and saved: checkpoints/markdown2/Location-hospital.md\n",
      "Cleaned and saved: checkpoints/markdown2/StructureDefinition-us-core-provenance-testing.md\n",
      "Cleaned and saved: checkpoints/markdown2/SearchParameter-us-core-diagnosticreport-category-testing.md\n",
      "Cleaned and saved: checkpoints/markdown2/StructureDefinition-us-core-procedure.md\n",
      "Cleaned and saved: checkpoints/markdown2/general-requirements.md\n",
      "Cleaned and saved: checkpoints/markdown2/SearchParameter-us-core-careteam-status-testing.md\n",
      "Cleaned and saved: checkpoints/markdown2/StructureDefinition-us-core-specimen.md\n",
      "Cleaned and saved: checkpoints/markdown2/SearchParameter-us-core-condition-recorded-date-testing.md\n",
      "Cleaned and saved: checkpoints/markdown2/SearchParameter-us-core-medicationdispense-patient.md\n",
      "Cleaned and saved: checkpoints/markdown2/StructureDefinition-us-core-jurisdiction-definitions.md\n",
      "Cleaned and saved: checkpoints/markdown2/SearchParameter-us-core-location-address.md\n",
      "Cleaned and saved: checkpoints/markdown2/vsacname-fhiruri-map.md\n",
      "Cleaned and saved: checkpoints/markdown2/SearchParameter-us-core-encounter-lastupdated.md\n",
      "Cleaned and saved: checkpoints/markdown2/SearchParameter-us-core-documentreference-category-testing.md\n",
      "Cleaned and saved: checkpoints/markdown2/basic-provenance.md\n",
      "Cleaned and saved: checkpoints/markdown2/Observation-simple-observation-cognitive-status.md\n",
      "Cleaned and saved: checkpoints/markdown2/Observation-dxa-femur-l-armass-bmd.md\n",
      "Cleaned and saved: checkpoints/markdown2/CodeSystem-us-core-documentreference-category-testing.md\n",
      "Cleaned and saved: checkpoints/markdown2/StructureDefinition-us-core-medication-adherence-testing.md\n",
      "Cleaned and saved: checkpoints/markdown2/ValueSet-us-core-observation-smoking-status-status-testing.md\n",
      "Cleaned and saved: checkpoints/markdown2/SearchParameter-us-core-condition-category.md\n",
      "Cleaned and saved: checkpoints/markdown2/Questionnaire-AUDIT-C.md\n",
      "Cleaned and saved: checkpoints/markdown2/StructureDefinition-us-core-allergyintolerance.md\n",
      "Cleaned and saved: checkpoints/markdown2/security.md\n",
      "Cleaned and saved: checkpoints/markdown2/StructureDefinition-us-core-bmi-mappings.md\n",
      "Cleaned and saved: checkpoints/markdown2/StructureDefinition-us-core-observation-lab.md\n",
      "Cleaned and saved: checkpoints/markdown2/SearchParameter-us-core-allergyintolerance-patient-testing.md\n",
      "Cleaned and saved: checkpoints/markdown2/StructureDefinition-us-core-observation-screening-assessment-mappings.md\n",
      "Cleaned and saved: checkpoints/markdown2/StructureDefinition-us-core-practitionerrole-definitions.md\n",
      "Cleaned and saved: checkpoints/markdown2/SearchParameter-us-core-location-address-state.md\n",
      "Cleaned and saved: checkpoints/markdown2/StructureDefinition-us-core-birthsex-mappings.md\n",
      "Cleaned and saved: checkpoints/markdown2/StructureDefinition-us-core-authentication-time-testing.md\n",
      "Cleaned and saved: checkpoints/markdown2/StructureDefinition-pediatric-weight-for-height-mappings.md\n",
      "Cleaned and saved: checkpoints/markdown2/SearchParameter-us-core-documentreference-status.md\n",
      "Cleaned and saved: checkpoints/markdown2/SearchParameter-us-core-documentreference-patient.md\n",
      "Cleaned and saved: checkpoints/markdown2/ValueSet-us-core-documentreference-category-testing.md\n",
      "Cleaned and saved: checkpoints/markdown2/SearchParameter-us-core-documentreference-category.md\n",
      "Cleaned and saved: checkpoints/markdown2/Observation-some-day-smoker.md\n",
      "Cleaned and saved: checkpoints/markdown2/Observation-serum-co2.md\n",
      "Cleaned and saved: checkpoints/markdown2/Practitioner-practitioner-2.md\n",
      "Cleaned and saved: checkpoints/markdown2/StructureDefinition-us-core-questionnaireresponse.md\n",
      "Cleaned and saved: checkpoints/markdown2/DiagnosticReport-cbc.md\n",
      "Cleaned and saved: checkpoints/markdown2/changes-between-versions.md\n",
      "Cleaned and saved: checkpoints/markdown2/SearchParameter-us-core-condition-clinical-status.md\n",
      "Cleaned and saved: checkpoints/markdown2/ValueSet-us-core-diagnosticreport-category-testing.md\n",
      "Cleaned and saved: checkpoints/markdown2/StructureDefinition-us-core-blood-pressure.md\n",
      "Cleaned and saved: checkpoints/markdown2/StructureDefinition-us-core-vital-signs-testing.md\n",
      "Cleaned and saved: checkpoints/markdown2/StructureDefinition-us-core-condition-problems-health-concerns-testing.md\n",
      "Cleaned and saved: checkpoints/markdown2/StructureDefinition-us-core-immunization-testing.md\n",
      "Cleaned and saved: checkpoints/markdown2/StructureDefinition-us-core-condition-encounter-diagnosis-mappings.md\n",
      "Cleaned and saved: checkpoints/markdown2/StructureDefinition-us-core-procedure-definitions.md\n",
      "Cleaned and saved: checkpoints/markdown2/ImplementationGuide-hl7.fhir.us.core.md\n",
      "Cleaned and saved: checkpoints/markdown2/StructureDefinition-us-core-simple-observation-testing.md\n",
      "Cleaned and saved: checkpoints/markdown2/SearchParameter-us-core-condition-onset-date-testing.md\n",
      "Cleaned and saved: checkpoints/markdown2/StructureDefinition-us-core-treatment-intervention-preference-definitions.md\n",
      "Cleaned and saved: checkpoints/markdown2/Library-uscore-5.0.1-model-definition.md\n",
      "\n",
      "Processing complete: 717 files successfully cleaned, 0 failed\n"
     ]
    }
   ],
   "source": [
    "import markdown_cleaner #import markdown cleaner module\n",
    "markdown_cleaner.process_directory(\"checkpoints/markdown1\", #input directory\n",
    "                                   \"checkpoints/markdown2/\") #output directory"
   ]
  },
  {
   "cell_type": "markdown",
   "id": "eb3fa2d1",
   "metadata": {},
   "source": [
    "## Requirements Extraction"
   ]
  },
  {
   "cell_type": "markdown",
   "id": "be0566ab",
   "metadata": {},
   "source": [
    "### Prompt-based Requirement Extraction"
   ]
  },
  {
   "cell_type": "code",
   "execution_count": 11,
   "id": "c7fd5bf6",
   "metadata": {},
   "outputs": [],
   "source": [
    "import reqs_extraction #import LLM requirements extraction module"
   ]
  },
  {
   "cell_type": "code",
   "execution_count": null,
   "id": "31999d1d",
   "metadata": {},

   "outputs": [
    {
     "name": "stderr",
     "output_type": "stream",
     "text": [
      "INFO:root:Found markdown directory at /Users/ceadams/Documents/onclaive/onclaive/pipeline/checkpoints/markdown2\n",
      "INFO:root:Found 793 markdown files\n",
      "INFO:root:Processing with claude...\n",
      "INFO:root:Starting processing with claude on directory: /Users/ceadams/Documents/onclaive/onclaive/pipeline/checkpoints/markdown2\n",
      "INFO:root:Found 793 markdown files:\n",
      "INFO:root:  - StructureDefinition-us-core-smokingstatus-testing.md\n",
      "INFO:root:  - DocumentReference-episode-summary.md\n",
      "INFO:root:  - ValueSet-us-core-diagnosticreport-report-and-note-codes.md\n",
      "INFO:root:  - StructureDefinition-us-core-head-circumference-mappings.md\n",
      "INFO:root:  - Observation-10-minute-apgar-respiratory-effort.md\n",
      "INFO:root:  - StructureDefinition-us-core-tribal-affiliation-definitions.md\n",
      "INFO:root:  - DiagnosticReport-metabolic-panel.md\n",
      "INFO:root:  - Observation-serum-potassium.md\n",
      "INFO:root:  - StructureDefinition-us-core-genderIdentity-definitions.md\n",
      "INFO:root:  - StructureDefinition-us-core-heart-rate-testing.md\n",
      "INFO:root:  - SearchParameter-us-core-organization-address.md\n",
      "INFO:root:  - SearchParameter-us-core-condition-encounter-testing.md\n",
      "INFO:root:  - Medication-uscore-med2.md\n",
      "INFO:root:  - StructureDefinition-us-core-pulse-oximetry-definitions.md\n",
      "INFO:root:  - StructureDefinition-us-core-observation-lab-testing.md\n",
      "INFO:root:  - StructureDefinition-us-core-pulse-oximetry-mappings.md\n",
      "INFO:root:  - Bundle-66c8856b-ba11-4876-8aa8-467aad8c11a2.md\n",
      "INFO:root:  - SearchParameter-us-core-patient-name-testing.md\n",
      "INFO:root:  - ValueSet-us-core-servicerequest-category.md\n",
      "INFO:root:  - StructureDefinition-us-core-immunization-definitions.md\n",
      "INFO:root:  - StructureDefinition-us-core-servicerequest-testing.md\n",
      "INFO:root:  - StructureDefinition-us-core-body-weight.md\n",
      "INFO:root:  - SearchParameter-us-core-practitioner-name-testing.md\n",
      "INFO:root:  - SearchParameter-us-core-ethnicity-testing.md\n",
      "INFO:root:  - profiles-and-extensions.md\n",
      "INFO:root:  - CodeSystem-us-core-documentreference-category.md\n",
      "INFO:root:  - ValueSet-us-core-observation-smoking-status-status.md\n",
      "INFO:root:  - Procedure-rehab.md\n",
      "INFO:root:  - StructureDefinition-us-core-location-definitions.md\n",
      "INFO:root:  - examples.md\n",
      "INFO:root:  - StructureDefinition-us-core-tribal-affiliation-mappings.md\n",
      "INFO:root:  - Observation-length.md\n",
      "INFO:root:  - StructureDefinition-us-core-implantable-device-testing.md\n",
      "INFO:root:  - SearchParameter-us-core-organization-name.md\n",
      "INFO:root:  - SearchParameter-us-core-goal-lifecycle-status.md\n",
      "INFO:root:  - SearchParameter-us-core-immunization-date-testing.md\n",
      "INFO:root:  - SearchParameter-us-core-servicerequest-code.md\n",
      "INFO:root:  - StructureDefinition-us-core-relatedperson-testing.md\n",
      "INFO:root:  - SearchParameter-us-core-observation-category-testing.md\n",
      "INFO:root:  - SearchParameter-us-core-diagnosticreport-patient-testing.md\n",
      "INFO:root:  - SearchParameter-us-core-servicerequest-id.md\n",
      "INFO:root:  - SearchParameter-us-core-immunization-status-testing.md\n",
      "INFO:root:  - SearchParameter-us-core-medicationrequest-encounter.md\n",
      "INFO:root:  - StructureDefinition-us-core-care-experience-preference-definitions.md\n",
      "INFO:root:  - SearchParameter-us-core-encounter-date-testing.md\n",
      "INFO:root:  - StructureDefinition-us-core-sex-testing.md\n",
      "INFO:root:  - StructureDefinition-us-core-birthsex-definitions.md\n",
      "INFO:root:  - Observation-capillary-refill-time-nail-bed.md\n",
      "INFO:root:  - StructureDefinition-us-core-medicationdispense-testing.md\n",
      "INFO:root:  - SearchParameter-us-core-condition-asserted-date.md\n",
      "INFO:root:  - SearchParameter-us-core-practitioner-identifier.md\n",
      "INFO:root:  - StructureDefinition-us-core-practitionerrole.md\n",
      "INFO:root:  - StructureDefinition-us-core-authentication-time.md\n",
      "INFO:root:  - uscdi.md\n",
      "INFO:root:  - Questionnaire-phq-9-example-testing.md\n",
      "INFO:root:  - SearchParameter-us-core-race-testing.md\n",
      "INFO:root:  - CodeSystem-careplan-category.md\n",
      "INFO:root:  - DocumentReference-adi-dnr.md\n",
      "INFO:root:  - Observation-bp-data-absent.md\n",
      "INFO:root:  - StructureDefinition-us-core-diagnosticreport-lab-testing.md\n",
      "INFO:root:  - Device-udi-3.md\n",
      "INFO:root:  - Library-uscore-6.1.0-model-definition.md\n",
      "INFO:root:  - SearchParameter-us-core-procedure-code-testing.md\n",
      "INFO:root:  - ValueSet-us-core-diagnosticreport-category.md\n",
      "INFO:root:  - SearchParameter-us-core-medicationrequest-patient-testing.md\n",
      "INFO:root:  - SearchParameter-us-core-diagnosticreport-status-testing.md\n",
      "INFO:root:  - Observation-PRAPARE-multiselect-item-example-32624-9-answer1.md\n",
      "INFO:root:  - Observation-cbc-platelets.md\n",
      "INFO:root:  - StructureDefinition-us-core-care-experience-preference.md\n",
      "INFO:root:  - DocumentReference-living-will.md\n",
      "INFO:root:  - Observation-urobilinogen.md\n",
      "INFO:root:  - StructureDefinition-us-core-questionnaireresponse-testing.md\n",
      "INFO:root:  - StructureDefinition-us-core-genderIdentity-testing.md\n",
      "INFO:root:  - SearchParameter-us-core-medicationrequest-authoredon.md\n",
      "INFO:root:  - StructureDefinition-head-occipital-frontal-circumference-percentile-testing.md\n",
      "INFO:root:  - Observation-xray-chest-impression.md\n",
      "INFO:root:  - CapabilityStatement-us-core-client.md\n",
      "INFO:root:  - SearchParameter-us-core-documentreference-date-testing.md\n",
      "INFO:root:  - StructureDefinition-us-core-observation-occupation-mappings.md\n",
      "INFO:root:  - Observation-simple-observation-disability-status.md\n",
      "INFO:root:  - ValueSet-us-core-procedure-code-testing.md\n",
      "INFO:root:  - StructureDefinition-us-core-body-weight-definitions.md\n",
      "INFO:root:  - conformance.md\n",
      "INFO:root:  - StructureDefinition-us-core-practitioner-testing.md\n",
      "INFO:root:  - Observation-serum-calcium.md\n",
      "INFO:root:  - SearchParameter-us-core-relatedperson-name-testing.md\n",
      "INFO:root:  - SearchParameter-us-core-diagnosticreport-date.md\n",
      "INFO:root:  - StructureDefinition-us-core-careteam-testing.md\n",
      "INFO:root:  - StructureDefinition-us-core-condition-problems-health-concerns-mappings.md\n",
      "INFO:root:  - StructureDefinition-us-core-coverage-mappings.md\n",
      "INFO:root:  - SearchParameter-us-core-encounter-class-testing.md\n",
      "INFO:root:  - Practitioner-practitioner-1.md\n",
      "INFO:root:  - StructureDefinition-us-core-treatment-intervention-preference-testing.md\n",
      "INFO:root:  - StructureDefinition-us-core-medicationdispense-mappings.md\n",
      "INFO:root:  - Observation-PRAPARE-item-example-93033-9.md\n",
      "INFO:root:  - StructureDefinition-us-core-race-mappings.md\n",
      "INFO:root:  - StructureDefinition-us-core-documentreference-testing.md\n",
      "INFO:root:  - StructureDefinition-us-core-respiratory-rate-mappings.md\n",
      "INFO:root:  - SearchParameter-us-core-location-address-city-testing.md\n",
      "INFO:root:  - Observation-alcohol-use-status.md\n",
      "INFO:root:  - ValueSet-us-core-diagnosticreport-report-and-note-codes-testing.md\n",
      "INFO:root:  - Observation-PRAPARE-item-example-56051-6.md\n",
      "INFO:root:  - SearchParameter-us-core-location-address-postalcode.md\n",
      "INFO:root:  - Observation-xray-chest-findings.md\n",
      "INFO:root:  - SearchParameter-us-core-location-address-state-testing.md\n",
      "INFO:root:  - element-level-provenance.md\n",
      "INFO:root:  - SearchParameter-us-core-specimen-id-testing.md\n",
      "INFO:root:  - ValueSet-us-core-specimen-condition-testing.md\n",
      "INFO:root:  - Observation-PRAPARE-panel-example-93043-8.md\n",
      "INFO:root:  - StructureDefinition-us-core-condition-encounter-diagnosis.md\n",
      "INFO:root:  - StructureDefinition-us-core-smokingstatus-definitions.md\n",
      "INFO:root:  - StructureDefinition-us-core-pulse-oximetry-testing.md\n",
      "INFO:root:  - Observation-pregnancy-intent.md\n",
      "INFO:root:  - QuestionnaireResponse-TAPS.md\n",
      "INFO:root:  - Device-udi-2.md\n",
      "INFO:root:  - Observation-cbc-mch.md\n",
      "INFO:root:  - ValueSet-us-core-goal-description.md\n",
      "INFO:root:  - SearchParameter-us-core-medicationrequest-status-testing.md\n",
      "INFO:root:  - StructureDefinition-us-core-allergyintolerance-definitions.md\n",
      "INFO:root:  - SearchParameter-us-core-immunization-patient.md\n",
      "INFO:root:  - Observation-ekg-impression.md\n",
      "INFO:root:  - StructureDefinition-us-core-relatedperson-definitions.md\n",
      "INFO:root:  - Observation-treatment-intervention-preference.md\n",
      "INFO:root:  - Observation-PRAPARE-multiselect-item-example-32624-9-answer0.md\n",
      "INFO:root:  - Observation-PRAPARE-item-example-93034-7.md\n",
      "INFO:root:  - StructureDefinition-us-core-direct-mappings.md\n",
      "INFO:root:  - StructureDefinition-us-core-careteam-mappings.md\n",
      "INFO:root:  - StructureDefinition-us-core-provenance-definitions.md\n",
      "INFO:root:  - SearchParameter-us-core-location-address-postalcode-testing.md\n",
      "INFO:root:  - SearchParameter-us-core-relatedperson-id.md\n",
      "INFO:root:  - StructureDefinition-us-core-observation-sexual-orientation.md\n",
      "INFO:root:  - StructureDefinition-pediatric-bmi-for-age-definitions.md\n",
      "INFO:root:  - SearchParameter-us-core-careteam-patient-testing.md\n",
      "INFO:root:  - Observation-bmi.md\n",
      "INFO:root:  - StructureDefinition-us-core-bmi-definitions.md\n",
      "INFO:root:  - Bundle-docref-example-1.md\n",
      "INFO:root:  - SearchParameter-us-core-questionnaireresponse-patient.md\n",
      "INFO:root:  - SearchParameter-us-core-encounter-location-testing.md\n",
      "INFO:root:  - CodeSystem-us-core-provenance-participant-type.md\n",
      "INFO:root:  - Observation-cbc-hemoglobin.md\n",
      "INFO:root:  - Observation-respiratory-rate.md\n",
      "INFO:root:  - SearchParameter-us-core-medicationdispense-type.md\n",
      "INFO:root:  - observation-summary.md\n",
      "INFO:root:  - StructureDefinition-us-core-careplan-definitions.md\n",
      "INFO:root:  - Goal-goal-sdoh-2.md\n",
      "INFO:root:  - Observation-pulse-intensity-palpation.md\n",
      "INFO:root:  - StructureDefinition-us-core-body-temperature-definitions.md\n",
      "INFO:root:  - SearchParameter-us-core-encounter-status.md\n",
      "INFO:root:  - SearchParameter-us-core-diagnosticreport-category.md\n",
      "INFO:root:  - StructureDefinition-us-core-blood-pressure-definitions.md\n",
      "INFO:root:  - SearchParameter-us-core-servicerequest-patient-testing.md\n",
      "INFO:root:  - Library-uscore-4.0.0-model-definition-testing.md\n",
      "INFO:root:  - MedicationRequest-medicationrequest-referenced-oral-axid.md\n",
      "INFO:root:  - StructureDefinition-us-core-smokingstatus.md\n",
      "INFO:root:  - Observation-oxygen-saturation.md\n",
      "INFO:root:  - SearchParameter-us-core-allergyintolerance-patient.md\n",
      "INFO:root:  - StructureDefinition-us-core-race-testing.md\n",
      "INFO:root:  - Observation-TAPS-item-example-75889-6.md\n",
      "INFO:root:  - SearchParameter-us-core-condition-lastupdated.md\n",
      "INFO:root:  - general-guidance.md\n",
      "INFO:root:  - Observation-serum-sodium.md\n",
      "INFO:root:  - Observation-serum-creatinine.md\n",
      "INFO:root:  - StructureDefinition-us-core-respiratory-rate-testing.md\n",
      "INFO:root:  - ValueSet-us-core-clinical-result-observation-category.md\n",
      "INFO:root:  - StructureDefinition-us-core-observation-adi-documentation-mappings.md\n",
      "INFO:root:  - SearchParameter-us-core-observation-patient.md\n",
      "INFO:root:  - SearchParameter-us-core-encounter-id.md\n",
      "INFO:root:  - ValueSet-us-core-simple-observation-category-testing.md\n",
      "INFO:root:  - Observation-10-minute-apgar-muscle-tone.md\n",
      "INFO:root:  - Observation-EVS-panel-example-89574-8.md\n",
      "INFO:root:  - StructureDefinition-us-core-jurisdiction.md\n",
      "INFO:root:  - SearchParameter-us-core-condition-asserted-date-testing.md\n",
      "INFO:root:  - StructureDefinition-us-core-jurisdiction-mappings.md\n",
      "INFO:root:  - OperationDefinition-docref-testing.md\n",
      "INFO:root:  - Observation-PRAPARE-item-example-93028-9.md\n",
      "INFO:root:  - SearchParameter-us-core-condition-lastupdated-testing.md\n",
      "INFO:root:  - Observation-PRAPARE-item-example-76501-6.md\n",
      "INFO:root:  - StructureDefinition-us-core-tribal-affiliation-testing.md\n",
      "INFO:root:  - SearchParameter-us-core-diagnosticreport-code-testing.md\n",
      "INFO:root:  - Observation-blood-pressure.md\n",
      "INFO:root:  - SearchParameter-us-core-questionnaireresponse-id.md\n",
      "INFO:root:  - SearchParameter-us-core-observation-category.md\n",
      "INFO:root:  - Observation-weight.md\n",
      "INFO:root:  - Library-uscore-8.0.0-model-definition.md\n",
      "INFO:root:  - SearchParameter-us-core-condition-patient-testing.md\n",
      "INFO:root:  - StructureDefinition-us-core-medication-adherence-mappings.md\n",
      "INFO:root:  - StructureDefinition-us-core-observation-occupation-definitions.md\n",
      "INFO:root:  - StructureDefinition-us-core-practitioner.md\n",
      "INFO:root:  - SearchParameter-us-core-procedure-patient-testing.md\n",
      "INFO:root:  - Observation-dxa-femur-l-t-score-bmd.md\n",
      "INFO:root:  - StructureDefinition-pediatric-bmi-for-age.md\n",
      "INFO:root:  - Library-uscore-7.0.0-model-definition.md\n",
      "INFO:root:  - StructureDefinition-us-core-direct-definitions.md\n",
      "INFO:root:  - StructureDefinition-us-core-interpreter-needed-definitions.md\n",
      "INFO:root:  - StructureDefinition-us-core-extension-questionnaire-uri-testing.md\n",
      "INFO:root:  - ValueSet-us-core-screening-assessment-observation-maximum-category.md\n",
      "INFO:root:  - patient-data-feed-additional-resources.md\n",
      "INFO:root:  - StructureDefinition-us-core-observation-occupation-testing.md\n",
      "INFO:root:  - StructureDefinition-us-core-patient-definitions.md\n",
      "INFO:root:  - Observation-PRAPARE-item-example-63512-8.md\n",
      "INFO:root:  - StructureDefinition-us-core-practitioner-definitions.md\n",
      "INFO:root:  - SearchParameter-us-core-allergyintolerance-clinical-status.md\n",
      "INFO:root:  - Observation-TAPS-item-example-88037-7.md\n",
      "INFO:root:  - Observation-PHQ9-item-example-44258-2.md\n",
      "INFO:root:  - SearchParameter-us-core-race.md\n",
      "INFO:root:  - SearchParameter-us-core-condition-code.md\n",
      "INFO:root:  - ValueSet-us-core-condition-code.md\n",
      "INFO:root:  - CodeSystem-us-core-provenance-participant-type-testing.md\n",
      "INFO:root:  - Encounter-1036.md\n",
      "INFO:root:  - CapabilityStatement-us-core-server-testing.md\n",
      "INFO:root:  - StructureDefinition-us-core-interpreter-needed-mappings.md\n",
      "INFO:root:  - StructureDefinition-us-core-body-height.md\n",
      "INFO:root:  - ServiceRequest-bmp.md\n",
      "INFO:root:  - patient-data-feed.md\n",
      "INFO:root:  - Observation-PRAPARE-item-example-93027-1.md\n",
      "INFO:root:  - StructureDefinition-us-core-ethnicity-definitions.md\n",
      "INFO:root:  - Observation-HVS-item-example-88123-5.md\n",
      "INFO:root:  - SearchParameter-us-core-observation-status-testing.md\n",
      "INFO:root:  - Specimen-example-serum-lipemic.md\n",
      "INFO:root:  - StructureDefinition-us-core-observation-pregnancystatus-mappings.md\n",
      "INFO:root:  - StructureDefinition-us-core-medicationdispense.md\n",
      "INFO:root:  - SearchParameter-us-core-documentreference-date.md\n",
      "INFO:root:  - StructureDefinition-us-core-observation-lab-definitions.md\n",
      "INFO:root:  - Observation-EVS-item-example-68516-4.md\n",
      "INFO:root:  - StructureDefinition-us-core-allergyintolerance-mappings.md\n",
      "INFO:root:  - DocumentReference-discharge-summary.md\n",
      "INFO:root:  - StructureDefinition-us-core-observation-lab-mappings.md\n",
      "INFO:root:  - SearchParameter-us-core-diagnosticreport-lastupdated.md\n",
      "INFO:root:  - Observation-serum-bun.md\n",
      "INFO:root:  - Observation-PRAPARE-panel-example-93039-6.md\n",
      "INFO:root:  - SearchParameter-us-core-observation-lastupdated.md\n",
      "INFO:root:  - Questionnaire-exercise-vital-sign-testing.md\n",
      "INFO:root:  - Observation-satO2-fiO2.md\n",
      "INFO:root:  - Practitioner-practitioner-pharmacist.md\n",
      "INFO:root:  - ValueSet-us-core-narrative-status.md\n",
      "INFO:root:  - SearchParameter-us-core-coverage-patient.md\n",
      "INFO:root:  - StructureDefinition-us-core-medication-definitions.md\n",
      "INFO:root:  - StructureDefinition-us-core-careplan-testing.md\n",
      "INFO:root:  - Encounter-delivery.md\n",
      "INFO:root:  - SearchParameter-us-core-immunization-patient-testing.md\n",
      "INFO:root:  - SearchParameter-us-core-encounter-class.md\n",
      "INFO:root:  - Library-uscore-4.0.0-model-definition.md\n",
      "INFO:root:  - StructureDefinition-us-core-body-height-mappings.md\n",
      "INFO:root:  - Observation-10-minute-apgar-color.md\n",
      "INFO:root:  - StructureDefinition-us-core-relatedperson-mappings.md\n",
      "INFO:root:  - StructureDefinition-us-core-diagnosticreport-note.md\n",
      "INFO:root:  - SearchParameter-us-core-diagnosticreport-patient.md\n",
      "INFO:root:  - SearchParameter-us-core-relatedperson-id-testing.md\n",
      "INFO:root:  - CodeSystem-us-core-category-testing.md\n",
      "INFO:root:  - SearchParameter-us-core-encounter-type.md\n",
      "INFO:root:  - SearchParameter-us-core-servicerequest-authored-testing.md\n",
      "INFO:root:  - StructureDefinition-us-core-immunization.md\n",
      "INFO:root:  - StructureDefinition-us-core-extension-questionnaire-uri-mappings.md\n",
      "INFO:root:  - SearchParameter-us-core-device-type-testing.md\n",
      "INFO:root:  - us-core-roadmap.md\n",
      "INFO:root:  - StructureDefinition-us-core-ethnicity.md\n",
      "INFO:root:  - StructureDefinition-us-core-observation-pregnancyintent-definitions.md\n",
      "INFO:root:  - Observation-heart-rate.md\n",
      "INFO:root:  - guidance.md\n",
      "INFO:root:  - ServiceRequest-chest-xray.md\n",
      "INFO:root:  - Library-uscore-7.0.0-model-definition-testing.md\n",
      "INFO:root:  - StructureDefinition-us-core-body-weight-testing.md\n",
      "INFO:root:  - ValueSet-us-core-screening-assessment-condition-category-testing.md\n",
      "INFO:root:  - StructureDefinition-us-core-careplan-mappings.md\n",
      "INFO:root:  - StructureDefinition-us-core-documentreference.md\n",
      "INFO:root:  - StructureDefinition-us-core-encounter-definitions.md\n",
      "INFO:root:  - SearchParameter-us-core-procedure-date.md\n",
      "INFO:root:  - Observation-PRAPARE-item-example-82589-3.md\n",
      "INFO:root:  - DiagnosticReport-chest-xray-report.md\n",
      "INFO:root:  - Observation-exercise-per-day.md\n",
      "INFO:root:  - SearchParameter-us-core-observation-date.md\n",
      "INFO:root:  - StructureDefinition-us-core-location.md\n",
      "INFO:root:  - StructureDefinition-us-core-specimen-definitions.md\n",
      "INFO:root:  - Observation-PRAPARE-item-example-93038-8.md\n",
      "INFO:root:  - StructureDefinition-us-core-goal-mappings.md\n",
      "INFO:root:  - SearchParameter-us-core-relatedperson-patient-testing.md\n",
      "INFO:root:  - Observation-PRAPARE-multiselect-item-example-93031-3-answer0.md\n",
      "INFO:root:  - Observation-PHQ9-panel-example-44249-1.md\n",
      "INFO:root:  - StructureDefinition-us-core-genderIdentity.md\n",
      "INFO:root:  - StructureDefinition-us-core-condition-encounter-diagnosis-definitions.md\n",
      "INFO:root:  - Observation-p-r-interval-ekg-lead.md\n",
      "INFO:root:  - Observation-ofc-percentile.md\n",
      "INFO:root:  - StructureDefinition-uscdi-requirement-testing.md\n",
      "INFO:root:  - StructureDefinition-us-core-pulse-oximetry.md\n",
      "INFO:root:  - SearchParameter-us-core-device-type.md\n",
      "INFO:root:  - SearchParameter-us-core-practitioner-id.md\n",
      "INFO:root:  - StructureDefinition-us-core-bmi-testing.md\n",
      "INFO:root:  - SearchParameter-us-core-documentreference-period-testing.md\n",
      "INFO:root:  - StructureDefinition-us-core-simple-observation-mappings.md\n",
      "INFO:root:  - Observation-PHQ9-item-example-44255-8.md\n",
      "INFO:root:  - ValueSet-us-core-servicerequest-category-testing.md\n",
      "INFO:root:  - SearchParameter-us-core-practitioner-identifier-testing.md\n",
      "INFO:root:  - SearchParameter-us-core-careplan-date-testing.md\n",
      "INFO:root:  - SearchParameter-us-core-immunization-date.md\n",
      "INFO:root:  - Observation-TAPS-item-example-96843-8.md\n",
      "INFO:root:  - StructureDefinition-us-core-bmi.md\n",
      "INFO:root:  - Observation-PRAPARE-panel-example-93040-4.md\n",
      "INFO:root:  - SearchParameter-us-core-goal-target-date-testing.md\n",
      "INFO:root:  - CapabilityStatement-us-core-server.md\n",
      "INFO:root:  - SearchParameter-us-core-medicationrequest-intent.md\n",
      "INFO:root:  - SearchParameter-us-core-goal-target-date.md\n",
      "INFO:root:  - StructureDefinition-us-core-body-weight-mappings.md\n",
      "INFO:root:  - SearchParameter-us-core-observation-date-testing.md\n",
      "INFO:root:  - StructureDefinition-head-occipital-frontal-circumference-percentile-definitions.md\n",
      "INFO:root:  - Observation-PRAPARE-item-example-93029-7.md\n",
      "INFO:root:  - StructureDefinition-us-core-body-temperature-mappings.md\n",
      "INFO:root:  - ServiceRequest-foodpantry-referral.md\n",
      "INFO:root:  - QuestionnaireResponse-exercise-vital-sign.md\n",
      "INFO:root:  - Observation-AHC-HRSN-item-example-68517-2.md\n",
      "INFO:root:  - SearchParameter-us-core-encounter-discharge-disposition-testing.md\n",
      "INFO:root:  - SearchParameter-us-core-servicerequest-patient.md\n",
      "INFO:root:  - StructureDefinition-us-core-race.md\n",
      "INFO:root:  - SearchParameter-us-core-careplan-date.md\n",
      "INFO:root:  - Condition-encounter-diagnosis-example1.md\n",
      "INFO:root:  - relationship-with-other-igs.md\n",
      "INFO:root:  - StructureDefinition-us-core-location-testing.md\n",
      "INFO:root:  - SearchParameter-us-core-medicationdispense-patient-testing.md\n",
      "INFO:root:  - StructureDefinition-us-core-observation-pregnancystatus-testing.md\n",
      "INFO:root:  - Observation-PRAPARE-multiselect-item-example-93031-3-answer1.md\n",
      "INFO:root:  - StructureDefinition-us-core-vital-signs.md\n",
      "INFO:root:  - StructureDefinition-us-core-diagnosticreport-lab-definitions.md\n",
      "INFO:root:  - StructureDefinition-us-core-observation-pregnancyintent.md\n",
      "INFO:root:  - Questionnaire-TAPS-testing.md\n",
      "INFO:root:  - StructureDefinition-us-core-respiratory-rate-definitions.md\n",
      "INFO:root:  - ValueSet-us-core-goal-description-testing.md\n",
      "INFO:root:  - ValueSet-us-core-condition-code-current.md\n",
      "INFO:root:  - SearchParameter-us-core-patient-given.md\n",
      "INFO:root:  - ServiceRequest-ekg.md\n",
      "INFO:root:  - Observation-10-minute-apgar-reflex-irritability.md\n",
      "INFO:root:  - SearchParameter-us-core-questionnaireresponse-status-testing.md\n",
      "INFO:root:  - StructureDefinition-us-core-direct-testing.md\n",
      "INFO:root:  - StructureDefinition-us-core-adi-documentreference.md\n",
      "INFO:root:  - Observation-cbc-hematocrit.md\n",
      "INFO:root:  - SearchParameter-us-core-device-patient-testing.md\n",
      "INFO:root:  - Observation-serum-glucose.md\n",
      "INFO:root:  - Observation-AUDIT-C-item-example-68519-8.md\n",
      "INFO:root:  - StructureDefinition-us-core-practitioner-mappings.md\n",
      "INFO:root:  - ValueSet-us-core-provenance-participant-type-testing.md\n",
      "INFO:root:  - StructureDefinition-pediatric-bmi-for-age-testing.md\n",
      "INFO:root:  - Media-ekg-strip.md\n",
      "INFO:root:  - StructureDefinition-us-core-specimen-mappings.md\n",
      "INFO:root:  - SearchParameter-us-core-encounter-type-testing.md\n",
      "INFO:root:  - StructureDefinition-us-core-extension-questionnaire-uri-definitions.md\n",
      "INFO:root:  - SearchParameter-us-core-goal-patient.md\n",
      "INFO:root:  - SearchParameter-us-core-encounter-patient-testing.md\n",
      "INFO:root:  - StructureDefinition-us-core-jurisdiction-testing.md\n",
      "INFO:root:  - Observation-PRAPARE-item-example-93030-5.md\n",
      "INFO:root:  - SearchParameter-us-core-careteam-status.md\n",
      "INFO:root:  - artifacts.md\n",
      "INFO:root:  - SearchParameter-us-core-patient-family.md\n",
      "INFO:root:  - StructureDefinition-us-core-organization-definitions.md\n",
      "INFO:root:  - Observation-cbc-leukocytes.md\n",
      "INFO:root:  - DocumentReference-polst.md\n",
      "INFO:root:  - StructureDefinition-us-core-vital-signs-mappings.md\n",
      "INFO:root:  - ValueSet-us-core-laboratory-test-codes.md\n",
      "INFO:root:  - Bundle-allergyintolerance-provenance-example2.md\n",
      "INFO:root:  - SearchParameter-us-core-organization-address-testing.md\n",
      "INFO:root:  - SearchParameter-us-core-encounter-status-testing.md\n",
      "INFO:root:  - StructureDefinition-us-core-medicationrequest-testing.md\n",
      "INFO:root:  - StructureDefinition-us-core-heart-rate-mappings.md\n",
      "INFO:root:  - StructureDefinition-us-core-specimen-testing.md\n",
      "INFO:root:  - Observation-TAPS-item-example-96844-6.md\n",
      "INFO:root:  - StructureDefinition-us-core-adi-documentreference-mappings.md\n",
      "INFO:root:  - Observation-PRAPARE-item-example-56799-0.md\n",
      "INFO:root:  - StructureDefinition-us-core-documentreference-definitions.md\n",
      "INFO:root:  - Observation-dxa-hip-l-armass-bmd.md\n",
      "INFO:root:  - Observation-height.md\n",
      "INFO:root:  - SearchParameter-us-core-immunization-status.md\n",
      "INFO:root:  - StructureDefinition-us-core-observation-sexual-orientation-mappings.md\n",
      "INFO:root:  - Observation-alcoholic-drinks-per-day.md\n",
      "INFO:root:  - StructureDefinition-us-core-interpreter-needed.md\n",
      "INFO:root:  - SearchParameter-us-core-patient-death-date-testing.md\n",
      "INFO:root:  - SearchParameter-us-core-documentreference-id-testing.md\n",
      "INFO:root:  - capability-statements.md\n",
      "INFO:root:  - SearchParameter-us-core-documentreference-type-testing.md\n",
      "INFO:root:  - Observation-PHQ9-item-example-44253-3.md\n",
      "INFO:root:  - QuestionnaireResponse-AUDIT-C.md\n",
      "INFO:root:  - SearchParameter-us-core-servicerequest-category-testing.md\n",
      "INFO:root:  - SearchParameter-us-core-encounter-id-testing.md\n",
      "INFO:root:  - StructureDefinition-us-core-medication-adherence-definitions.md\n",
      "INFO:root:  - Observation-care-experience-preference.md\n",
      "INFO:root:  - Organization-acme-payer.md\n",
      "INFO:root:  - StructureDefinition-us-core-extension-questionnaire-uri.md\n",
      "INFO:root:  - StructureDefinition-uscdi-requirement-definitions.md\n",
      "INFO:root:  - SearchParameter-us-core-encounter-discharge-disposition.md\n",
      "INFO:root:  - SearchParameter-us-core-patient-identifier.md\n",
      "INFO:root:  - ValueSet-us-core-screening-assessment-observation-maximum-category-testing.md\n",
      "INFO:root:  - Observation-PRAPARE-item-example-63586-2.md\n",
      "INFO:root:  - StructureDefinition-us-core-observation-screening-assessment-definitions.md\n",
      "INFO:root:  - StructureDefinition-us-core-observation-sexual-orientation-definitions.md\n",
      "INFO:root:  - SearchParameter-us-core-condition-patient.md\n",
      "INFO:root:  - StructureDefinition-us-core-simple-observation-definitions.md\n",
      "INFO:root:  - SearchParameter-us-core-medicationrequest-authoredon-testing.md\n",
      "INFO:root:  - SearchParameter-us-core-servicerequest-code-testing.md\n",
      "INFO:root:  - SearchParameter-us-core-careplan-status.md\n",
      "INFO:root:  - StructureDefinition-us-core-body-height-definitions.md\n",
      "INFO:root:  - ValueSet-us-core-condition-code-current-testing.md\n",
      "INFO:root:  - Observation-dxa-hip-l-t-score-bmd.md\n",
      "INFO:root:  - terminology.md\n",
      "INFO:root:  - StructureDefinition-us-core-heart-rate-definitions.md\n",
      "INFO:root:  - ServiceRequest-rehab.md\n",
      "INFO:root:  - Organization-saint-luke-w-endpoint.md\n",
      "INFO:root:  - StructureDefinition-us-core-provenance-mappings.md\n",
      "INFO:root:  - Condition-encounter-diagnosis-example2.md\n",
      "INFO:root:  - StructureDefinition-us-core-medication-testing.md\n",
      "INFO:root:  - SearchParameter-us-core-documentreference-period.md\n",
      "INFO:root:  - SearchParameter-us-core-observation-code-testing.md\n",
      "INFO:root:  - SearchParameter-us-core-careplan-status-testing.md\n",
      "INFO:root:  - SearchParameter-us-core-location-name-testing.md\n",
      "INFO:root:  - StructureDefinition-us-core-observation-adi-documentation.md\n",
      "INFO:root:  - QuestionnaireResponse-glascow-coma-score.md\n",
      "INFO:root:  - clinical-notes.md\n",
      "INFO:root:  - screening-and-assessments.md\n",
      "INFO:root:  - SearchParameter-us-core-procedure-status.md\n",
      "INFO:root:  - SearchParameter-us-core-careteam-role.md\n",
      "INFO:root:  - StructureDefinition-us-core-organization.md\n",
      "INFO:root:  - SearchParameter-us-core-careplan-category-testing.md\n",
      "INFO:root:  - SearchParameter-us-core-medicationdispense-status-testing.md\n",
      "INFO:root:  - StructureDefinition-us-core-patient.md\n",
      "INFO:root:  - StructureDefinition-us-core-observation-clinical-result-definitions.md\n",
      "INFO:root:  - StructureDefinition-us-core-implantable-device-definitions.md\n",
      "INFO:root:  - StructureDefinition-us-core-direct.md\n",
      "INFO:root:  - SearchParameter-us-core-diagnosticreport-status.md\n",
      "INFO:root:  - Library-uscore-3.1.1-model-definition-testing.md\n",
      "INFO:root:  - Observation-observation-occupation.md\n",
      "INFO:root:  - SearchParameter-us-core-patient-identifier-testing.md\n",
      "INFO:root:  - StructureDefinition-us-core-observation-occupation.md\n",
      "INFO:root:  - looking-ahead.md\n",
      "INFO:root:  - Observation-PRAPARE-panel-example-93042-0.md\n",
      "INFO:root:  - SearchParameter-us-core-medicationrequest-patient.md\n",
      "INFO:root:  - SearchParameter-us-core-questionnaireresponse-id-testing.md\n",
      "INFO:root:  - Questionnaire-prapare-example-testing.md\n",
      "INFO:root:  - Observation-jugular-vein-distension.md\n",
      "INFO:root:  - StructureDefinition-us-core-treatment-intervention-preference.md\n",
      "INFO:root:  - StructureDefinition-us-core-average-blood-pressure-mappings.md\n",
      "INFO:root:  - Observation-dxa-femur-l-z-score-bmd.md\n",
      "INFO:root:  - Bundle-allergyintolerance-provenance-example1.md\n",
      "INFO:root:  - StructureDefinition-us-core-observation-screening-assessment-testing.md\n",
      "INFO:root:  - Library-uscore-3.1.1-model-definition.md\n",
      "INFO:root:  - SearchParameter-us-core-servicerequest-id-testing.md\n",
      "INFO:root:  - StructureDefinition-us-core-documentreference-mappings.md\n",
      "INFO:root:  - StructureDefinition-us-core-head-circumference-testing.md\n",
      "INFO:root:  - StructureDefinition-us-core-diagnosticreport-note-testing.md\n",
      "INFO:root:  - StructureDefinition-us-core-condition-problems-health-concerns-definitions.md\n",
      "INFO:root:  - Observation-PHQ9-item-example-44252-5.md\n",
      "INFO:root:  - CodeSystem-us-core-category.md\n",
      "INFO:root:  - StructureDefinition-pediatric-weight-for-height-definitions.md\n",
      "INFO:root:  - SearchParameter-us-core-questionnaireresponse-authored.md\n",
      "INFO:root:  - Organization-holy-healthcare.md\n",
      "INFO:root:  - StructureDefinition-us-core-observation-clinical-result.md\n",
      "INFO:root:  - searchform.md\n",
      "INFO:root:  - StructureDefinition-us-core-sex-mappings.md\n",
      "INFO:root:  - StructureDefinition-us-core-implantable-device.md\n",
      "INFO:root:  - SearchParameter-us-core-goal-lifecycle-status-testing.md\n",
      "INFO:root:  - SearchParameter-us-core-practitionerrole-practitioner.md\n",
      "INFO:root:  - Observation-temperature.md\n",
      "INFO:root:  - StructureDefinition-us-core-observation-pregnancystatus.md\n",
      "INFO:root:  - StructureDefinition-us-core-medicationdispense-definitions.md\n",
      "INFO:root:  - Observation-cbc-erythrocytes.md\n",
      "INFO:root:  - Observation-PRAPARE-item-example-67875-5.md\n",
      "INFO:root:  - StructureDefinition-pediatric-bmi-for-age-mappings.md\n",
      "INFO:root:  - StructureDefinition-us-core-heart-rate.md\n",
      "INFO:root:  - StructureDefinition-us-core-respiratory-rate.md\n",
      "INFO:root:  - ValueSet-us-core-clinical-note-type-testing.md\n",
      "INFO:root:  - StructureDefinition-us-core-ethnicity-testing.md\n",
      "INFO:root:  - Observation-PRAPARE-item-example-76437-3.md\n",
      "INFO:root:  - Observation-EVS-item-example-89555-7.md\n",
      "INFO:root:  - StructureDefinition-us-core-organization-testing.md\n",
      "INFO:root:  - Observation-AUDIT-C-panel-example-72109-2.md\n",
      "INFO:root:  - Observation-serum-chloride.md\n",
      "INFO:root:  - SearchParameter-us-core-diagnosticreport-code.md\n",
      "INFO:root:  - SearchParameter-us-core-servicerequest-category.md\n",
      "INFO:root:  - SearchParameter-us-core-coverage-patient-testing.md\n",
      "INFO:root:  - StructureDefinition-us-core-goal-definitions.md\n",
      "INFO:root:  - SearchParameter-us-core-careplan-patient.md\n",
      "INFO:root:  - Goal-goal-1.md\n",
      "INFO:root:  - Observation-10-minute-apgar-score.md\n",
      "INFO:root:  - must-support.md\n",
      "INFO:root:  - StructureDefinition-pediatric-weight-for-height-testing.md\n",
      "INFO:root:  - StructureDefinition-us-core-coverage-testing.md\n",
      "INFO:root:  - Observation-10-minute-apgar-score-panel.md\n",
      "INFO:root:  - Immunization-imm-1.md\n",
      "INFO:root:  - StructureDefinition-us-core-practitionerrole-testing.md\n",
      "INFO:root:  - SearchParameter-us-core-servicerequest-status-testing.md\n",
      "INFO:root:  - StructureDefinition-us-core-medicationrequest-mappings.md\n",
      "INFO:root:  - index.md\n",
      "INFO:root:  - StructureDefinition-us-core-servicerequest-mappings.md\n",
      "INFO:root:  - MedicationRequest-medicationrequest-contained-oral-axid.md\n",
      "INFO:root:  - search-parameters-and-operations.md\n",
      "INFO:root:  - StructureDefinition-us-core-procedure-mappings.md\n",
      "INFO:root:  - SearchParameter-us-core-careplan-patient-testing.md\n",
      "INFO:root:  - StructureDefinition-us-core-tribal-affiliation.md\n",
      "INFO:root:  - SearchParameter-us-core-patient-birthdate-testing.md\n",
      "INFO:root:  - Specimen-specimen-example-serum.md\n",
      "INFO:root:  - SearchParameter-us-core-encounter-identifier-testing.md\n",
      "INFO:root:  - toc.md\n",
      "INFO:root:  - StructureDefinition-us-core-adi-documentreference-definitions.md\n",
      "INFO:root:  - SearchParameter-us-core-encounter-location.md\n",
      "INFO:root:  - Observation-PRAPARE-item-example-54899-0.md\n",
      "INFO:root:  - SearchParameter-us-core-medicationrequest-intent-testing.md\n",
      "INFO:root:  - StructureDefinition-us-core-observation-sexual-orientation-testing.md\n",
      "INFO:root:  - SearchParameter-us-core-device-status.md\n",
      "INFO:root:  - StructureDefinition-us-core-body-temperature-testing.md\n",
      "INFO:root:  - SearchParameter-us-core-allergyintolerance-clinical-status-testing.md\n",
      "INFO:root:  - Library-uscore-5.0.1-model-definition-testing.md\n",
      "INFO:root:  - StructureDefinition-us-core-sex.md\n",
      "INFO:root:  - SearchParameter-us-core-questionnaireresponse-status.md\n",
      "INFO:root:  - SearchParameter-us-core-patient-given-testing.md\n",
      "INFO:root:  - StructureDefinition-us-core-observation-adi-documentation-testing.md\n",
      "INFO:root:  - SearchParameter-us-core-location-name.md\n",
      "INFO:root:  - StructureDefinition-head-occipital-frontal-circumference-percentile.md\n",
      "INFO:root:  - SearchParameter-us-core-questionnaireresponse-questionnaire.md\n",
      "INFO:root:  - StructureDefinition-us-core-questionnaireresponse-mappings.md\n",
      "INFO:root:  - StructureDefinition-us-core-birthsex.md\n",
      "INFO:root:  - StructureDefinition-us-core-implantable-device-mappings.md\n",
      "INFO:root:  - StructureDefinition-us-core-coverage-definitions.md\n",
      "INFO:root:  - SearchParameter-us-core-medicationdispense-status.md\n",
      "INFO:root:  - Encounter-example-1.md\n",
      "INFO:root:  - Observation-average-blood-pressure.md\n",
      "INFO:root:  - StructureDefinition-us-core-average-blood-pressure.md\n",
      "INFO:root:  - StructureDefinition-us-core-servicerequest-definitions.md\n",
      "INFO:root:  - ValueSet-us-core-screening-assessment-observation-category-testing.md\n",
      "INFO:root:  - SearchParameter-us-core-practitioner-id-testing.md\n",
      "INFO:root:  - Observation-head-circumference.md\n",
      "INFO:root:  - SearchParameter-us-core-specimen-id.md\n",
      "INFO:root:  - SearchParameter-us-core-practitionerrole-specialty.md\n",
      "INFO:root:  - CodeSystem-condition-category.md\n",
      "INFO:root:  - StructureDefinition-us-core-servicerequest.md\n",
      "INFO:root:  - ValueSet-us-core-problem-or-health-concern.md\n",
      "INFO:root:  - SearchParameter-us-core-device-status-testing.md\n",
      "INFO:root:  - StructureDefinition-us-core-relatedperson.md\n",
      "INFO:root:  - StructureDefinition-us-core-observation-pregnancystatus-definitions.md\n",
      "INFO:root:  - Observation-PRAPARE-panel-example-93041-2.md\n",
      "INFO:root:  - StructureDefinition-us-core-care-experience-preference-mappings.md\n",
      "INFO:root:  - SearchParameter-us-core-practitionerrole-practitioner-testing.md\n",
      "INFO:root:  - scopes.md\n",
      "INFO:root:  - StructureDefinition-us-core-body-height-testing.md\n",
      "INFO:root:  - SearchParameter-us-core-medicationrequest-status.md\n",
      "INFO:root:  - Observation-PHQ9-item-example-44251-7.md\n",
      "INFO:root:  - Observation-HVS-item-example-88122-7.md\n",
      "INFO:root:  - SearchParameter-us-core-location-address-testing.md\n",
      "INFO:root:  - Observation-PRAPARE-item-example-93026-3.md\n",
      "INFO:root:  - SearchParameter-us-core-questionnaireresponse-questionnaire-testing.md\n",
      "INFO:root:  - ValueSet-us-core-documentreference-category.md\n",
      "INFO:root:  - StructureDefinition-us-core-medication.md\n",
      "INFO:root:  - CodeSystem-careplan-category-testing.md\n",
      "INFO:root:  - StructureDefinition-us-core-encounter-mappings.md\n",
      "INFO:root:  - Questionnaire-exercise-vital-sign.md\n",
      "INFO:root:  - SearchParameter-us-core-ethnicity.md\n",
      "INFO:root:  - StructureDefinition-us-core-diagnosticreport-note-definitions.md\n",
      "INFO:root:  - StructureDefinition-us-core-encounter-testing.md\n",
      "INFO:root:  - StructureDefinition-us-core-careteam.md\n",
      "INFO:root:  - StructureDefinition-us-core-observation-screening-assessment.md\n",
      "INFO:root:  - SearchParameter-us-core-specimen-patient-testing.md\n",
      "INFO:root:  - StructureDefinition-us-core-coverage.md\n"
     ]
    },
    {
     "name": "stdout",
     "output_type": "stream",
     "text": [
      "\n",
      "Processing Implementation Guide with Claude...\n",
      "This may take several minutes depending on the size of the Implementation Guide.\n"
     ]
    },
    {
     "name": "stderr",
     "output_type": "stream",
     "text": [
      "INFO:root:  - SearchParameter-us-core-procedure-patient.md\n",
      "INFO:root:  - SearchParameter-us-core-organization-name-testing.md\n",
      "INFO:root:  - Specimen-specimen-example-urine.md\n",
      "INFO:root:  - SearchParameter-us-core-condition-encounter.md\n",
      "INFO:root:  - Organization-acme-lab.md\n",
      "INFO:root:  - StructureDefinition-us-core-authentication-time-definitions.md\n",
      "INFO:root:  - SearchParameter-us-core-practitioner-name.md\n",
      "INFO:root:  - CodeSystem-condition-category-testing.md\n",
      "INFO:root:  - SearchParameter-us-core-encounter-patient.md\n",
      "INFO:root:  - MedicationRequest-self-tylenol.md\n",
      "INFO:root:  - Condition-condition-duodenal-ulcer.md\n",
      "INFO:root:  - Observation-PHQ9-item-example-69722-7.md\n",
      "INFO:root:  - Procedure-defib-implant.md\n",
      "INFO:root:  - StructureDefinition-us-core-average-blood-pressure-definitions.md\n",
      "INFO:root:  - StructureDefinition-us-core-procedure-testing.md\n",
      "INFO:root:  - ValueSet-us-core-screening-assessment-observation-category.md\n",
      "INFO:root:  - changes.md\n",
      "INFO:root:  - SearchParameter-us-core-documentreference-id.md\n",
      "INFO:root:  - StructureDefinition-us-core-blood-pressure-mappings.md\n",
      "INFO:root:  - Observation-exercise-per-week.md\n",
      "INFO:root:  - Organization-example-organization-2.md\n",
      "INFO:root:  - OperationDefinition-docref.md\n",
      "INFO:root:  - Observation-cbc-mchc.md\n",
      "INFO:root:  - StructureDefinition-us-core-head-circumference.md\n",
      "INFO:root:  - StructureDefinition-us-core-ethnicity-mappings.md\n",
      "INFO:root:  - Observation-PHQ9-item-example-44260-8.md\n",
      "INFO:root:  - SearchParameter-us-core-specimen-patient.md\n",
      "INFO:root:  - DiagnosticReport-cardiology-report.md\n",
      "INFO:root:  - SearchParameter-us-core-patient-name.md\n",
      "INFO:root:  - SearchParameter-us-core-condition-abatement-date-testing.md\n",
      "INFO:root:  - ValueSet-us-core-provenance-participant-type.md\n",
      "INFO:root:  - SearchParameter-us-core-documentreference-patient-testing.md\n",
      "INFO:root:  - StructureDefinition-us-core-observation-clinical-result-testing.md\n",
      "INFO:root:  - Observation-observation-occupation-unknown.md\n",
      "INFO:root:  - Observation-observation-occupation-industry-unknown.md\n",
      "INFO:root:  - StructureDefinition-us-core-treatment-intervention-preference-mappings.md\n",
      "INFO:root:  - RelatedPerson-shaw-niece.md\n",
      "INFO:root:  - Observation-simple-observation-functional-status.md\n",
      "INFO:root:  - Observation-heart-rate-rhythm.md\n",
      "INFO:root:  - SearchParameter-us-core-questionnaireresponse-authored-testing.md\n",
      "INFO:root:  - StructureDefinition-us-core-race-definitions.md\n",
      "INFO:root:  - DiagnosticReport-bone-density-report.md\n",
      "INFO:root:  - StructureDefinition-us-core-condition-problems-health-concerns.md\n",
      "INFO:root:  - SearchParameter-us-core-condition-clinical-status-testing.md\n",
      "INFO:root:  - StructureDefinition-us-core-goal-testing.md\n",
      "INFO:root:  - Observation-substance-use-status.md\n",
      "INFO:root:  - StructureDefinition-us-core-observation-pregnancyintent-mappings.md\n",
      "INFO:root:  - Library-uscore-8.0.0-model-definition-testing.md\n",
      "INFO:root:  - StructureDefinition-us-core-questionnaireresponse-definitions.md\n",
      "INFO:root:  - Device-udi-1.md\n",
      "INFO:root:  - SearchParameter-us-core-location-address-city.md\n",
      "INFO:root:  - Media-chest-xray.md\n",
      "INFO:root:  - SearchParameter-us-core-goal-description-testing.md\n",
      "INFO:root:  - StructureDefinition-us-core-patient-mappings.md\n",
      "INFO:root:  - SearchParameter-us-core-diagnosticreport-lastupdated-testing.md\n",
      "INFO:root:  - StructureDefinition-us-core-observation-clinical-result-mappings.md\n",
      "INFO:root:  - ValueSet-us-core-narrative-status-testing.md\n",
      "INFO:root:  - SearchParameter-us-core-questionnaireresponse-patient-testing.md\n",
      "INFO:root:  - StructureDefinition-us-core-genderIdentity-mappings.md\n",
      "INFO:root:  - SearchParameter-us-core-condition-category-testing.md\n",
      "INFO:root:  - Questionnaire-hunger-vital-sign-example-testing.md\n",
      "INFO:root:  - StructureDefinition-head-occipital-frontal-circumference-percentile-mappings.md\n",
      "INFO:root:  - Observation-PHQ9-item-example-44250-9.md\n",
      "INFO:root:  - StructureDefinition-us-core-vital-signs-definitions.md\n",
      "INFO:root:  - StructureDefinition-us-core-blood-pressure-testing.md\n",
      "INFO:root:  - SearchParameter-us-core-servicerequest-authored.md\n",
      "INFO:root:  - SearchParameter-us-core-patient-birthdate.md\n",
      "INFO:root:  - Observation-dxa-hip-l-z-score-bmd.md\n",
      "INFO:root:  - SearchParameter-us-core-relatedperson-patient.md\n",
      "INFO:root:  - ValueSet-us-core-clinical-note-type.md\n",
      "INFO:root:  - Bundle-docref-example-2.md\n",
      "INFO:root:  - StructureDefinition-us-core-medication-adherence.md\n",
      "INFO:root:  - Observation-qrs-dur-ekg-lead.md\n",
      "INFO:root:  - SearchParameter-us-core-careteam-patient.md\n",
      "INFO:root:  - SearchParameter-us-core-servicerequest-status.md\n",
      "INFO:root:  - Observation-AUDIT-C-item-example-68520-6.md\n",
      "INFO:root:  - StructureDefinition-us-core-observation-adi-documentation-definitions.md\n",
      "INFO:root:  - StructureDefinition-us-core-interpreter-needed-testing.md\n",
      "INFO:root:  - StructureDefinition-us-core-allergyintolerance-testing.md\n",
      "INFO:root:  - SearchParameter-us-core-condition-recorded-date.md\n",
      "INFO:root:  - ValueSet-us-core-clinical-result-observation-category-testing.md\n",
      "INFO:root:  - StructureDefinition-us-core-adi-documentreference-testing.md\n",
      "INFO:root:  - Library-uscore-6.1.0-model-definition-testing.md\n",
      "INFO:root:  - Observation-PHQ9-item-example-44254-1.md\n",
      "INFO:root:  - StructureDefinition-us-core-head-circumference-definitions.md\n",
      "INFO:root:  - Observation-simple-observation-sdoh.md\n",
      "INFO:root:  - SearchParameter-us-core-procedure-date-testing.md\n",
      "INFO:root:  - Observation-ekg-lead.md\n",
      "INFO:root:  - SearchParameter-us-core-device-patient.md\n",
      "INFO:root:  - StructureDefinition-us-core-average-blood-pressure-testing.md\n",
      "INFO:root:  - Specimen-specimen-example-whole-blood.md\n",
      "INFO:root:  - SearchParameter-us-core-careteam-role-testing.md\n",
      "INFO:root:  - SearchParameter-us-core-observation-code.md\n",
      "INFO:root:  - ValueSet-us-core-procedure-code.md\n",
      "INFO:root:  - SearchParameter-us-core-goal-description.md\n",
      "INFO:root:  - SearchParameter-us-core-procedure-code.md\n",
      "INFO:root:  - CapabilityStatement-us-core-client-testing.md\n",
      "INFO:root:  - ValueSet-us-core-condition-code-testing.md\n",
      "INFO:root:  - ValueSet-us-core-documentreference-type.md\n",
      "INFO:root:  - MedicationRequest-medicationrequest-coded-oral-axid.md\n",
      "INFO:root:  - downloads.md\n",
      "INFO:root:  - Observation-PHQ9-item-example-44259-0.md\n",
      "INFO:root:  - ValueSet-us-core-screening-assessment-condition-category.md\n",
      "INFO:root:  - writing-vital-signs.md\n",
      "INFO:root:  - Observation-pregnancy-status.md\n",
      "INFO:root:  - SearchParameter-us-core-observation-status.md\n",
      "INFO:root:  - StructureDefinition-us-core-birthsex-testing.md\n",
      "INFO:root:  - Observation-PHQ9-item-example-44261-6.md\n",
      "INFO:root:  - SearchParameter-us-core-medicationrequest-encounter-testing.md\n",
      "INFO:root:  - StructureDefinition-us-core-location-mappings.md\n",
      "INFO:root:  - SearchParameter-us-core-condition-abatement-date.md\n",
      "INFO:root:  - SearchParameter-us-core-documentreference-type.md\n",
      "INFO:root:  - SearchParameter-us-core-condition-code-testing.md\n",
      "INFO:root:  - Questionnaire-AUDIT-C-testing.md\n",
      "INFO:root:  - StructureDefinition-us-core-smokingstatus-mappings.md\n",
      "INFO:root:  - StructureDefinition-pediatric-weight-for-height.md\n",
      "INFO:root:  - Observation-at-home-in-vitro-test.md\n",
      "INFO:root:  - StructureDefinition-us-core-goal.md\n",
      "INFO:root:  - StructureDefinition-uscdi-requirement-mappings.md\n",
      "INFO:root:  - Observation-TAPS-panel-example-96841-2.md\n",
      "INFO:root:  - SearchParameter-us-core-medicationdispense-type-testing.md\n",
      "INFO:root:  - SearchParameter-us-core-encounter-lastupdated-testing.md\n",
      "INFO:root:  - Questionnaire-TAPS.md\n",
      "INFO:root:  - ValueSet-us-core-problem-or-health-concern-testing.md\n",
      "INFO:root:  - StructureDefinition-us-core-careplan.md\n",
      "INFO:root:  - SearchParameter-us-core-practitionerrole-specialty-testing.md\n",
      "INFO:root:  - StructureDefinition-us-core-diagnosticreport-note-mappings.md\n",
      "INFO:root:  - StructureDefinition-us-core-simple-observation.md\n",
      "INFO:root:  - StructureDefinition-uscdi-requirement.md\n",
      "INFO:root:  - Observation-q-t-interval-ekg-lead.md\n",
      "INFO:root:  - SearchParameter-us-core-encounter-identifier.md\n",
      "INFO:root:  - SearchParameter-us-core-careplan-category.md\n",
      "INFO:root:  - ValueSet-us-core-simple-observation-category.md\n",
      "INFO:root:  - SearchParameter-us-core-condition-onset-date.md\n",
      "INFO:root:  - StructureDefinition-us-core-careteam-definitions.md\n",
      "INFO:root:  - SearchParameter-us-core-patient-id-testing.md\n",
      "INFO:root:  - SearchParameter-us-core-patient-id.md\n",
      "INFO:root:  - StructureDefinition-us-core-patient-testing.md\n",
      "INFO:root:  - ValueSet-us-core-specimen-condition.md\n",
      "INFO:root:  - SearchParameter-us-core-encounter-date.md\n",
      "INFO:root:  - StructureDefinition-us-core-organization-mappings.md\n",
      "INFO:root:  - SearchParameter-us-core-procedure-status-testing.md\n",
      "INFO:root:  - StructureDefinition-us-core-observation-pregnancyintent-testing.md\n",
      "INFO:root:  - Observation-10-minute-apgar-heart-rate.md\n",
      "INFO:root:  - Observation-PRAPARE-panel-example-93025-5.md\n",
      "INFO:root:  - StructureDefinition-us-core-care-experience-preference-testing.md\n",
      "INFO:root:  - SearchParameter-us-core-goal-patient-testing.md\n",
      "INFO:root:  - Medication-uscore-med1.md\n",
      "INFO:root:  - SearchParameter-us-core-observation-patient-testing.md\n",
      "INFO:root:  - Location-hl7east.md\n",
      "INFO:root:  - StructureDefinition-us-core-medication-mappings.md\n",
      "INFO:root:  - StructureDefinition-us-core-condition-encounter-diagnosis-testing.md\n",
      "INFO:root:  - StructureDefinition-us-core-encounter.md\n",
      "INFO:root:  - StructureDefinition-us-core-diagnosticreport-lab.md\n",
      "INFO:root:  - StructureDefinition-us-core-provenance.md\n",
      "INFO:root:  - SearchParameter-us-core-documentreference-status-testing.md\n",
      "INFO:root:  - ServiceRequest-cbc.md\n",
      "INFO:root:  - StructureDefinition-us-core-diagnosticreport-lab-mappings.md\n",
      "INFO:root:  - medication-list.md\n",
      "INFO:root:  - SearchParameter-us-core-relatedperson-name.md\n",
      "INFO:root:  - Observation-PRAPARE-item-example-71802-3.md\n",
      "INFO:root:  - StructureDefinition-us-core-medicationrequest.md\n",
      "INFO:root:  - StructureDefinition-us-core-practitionerrole-mappings.md\n",
      "INFO:root:  - SearchParameter-us-core-patient-family-testing.md\n",
      "INFO:root:  - SearchParameter-us-core-diagnosticreport-date-testing.md\n",
      "INFO:root:  - StructureDefinition-us-core-medicationrequest-definitions.md\n",
      "INFO:root:  - StructureDefinition-us-core-authentication-time-mappings.md\n",
      "INFO:root:  - SearchParameter-us-core-observation-lastupdated-testing.md\n",
      "INFO:root:  - ValueSet-us-core-laboratory-test-codes-testing.md\n",
      "INFO:root:  - StructureDefinition-us-core-immunization-mappings.md\n",
      "INFO:root:  - StructureDefinition-us-core-sex-definitions.md\n",
      "INFO:root:  - StructureDefinition-us-core-body-temperature.md\n",
      "INFO:root:  - SearchParameter-us-core-patient-death-date.md\n",
      "INFO:root:  - CarePlan-colonoscopy.md\n",
      "INFO:root:  - ValueSet-us-core-documentreference-type-testing.md\n",
      "INFO:root:  - Observation-cbc-mcv.md\n",
      "INFO:root:  - Location-hospital.md\n",
      "INFO:root:  - Observation-HVS-item-example-88124-3.md\n",
      "INFO:root:  - StructureDefinition-us-core-provenance-testing.md\n",
      "INFO:root:  - SearchParameter-us-core-diagnosticreport-category-testing.md\n",
      "INFO:root:  - StructureDefinition-us-core-procedure.md\n",
      "INFO:root:  - general-requirements.md\n",
      "INFO:root:  - SearchParameter-us-core-careteam-status-testing.md\n",
      "INFO:root:  - StructureDefinition-us-core-specimen.md\n",
      "INFO:root:  - SearchParameter-us-core-condition-recorded-date-testing.md\n",
      "INFO:root:  - SearchParameter-us-core-medicationdispense-patient.md\n",
      "INFO:root:  - StructureDefinition-us-core-jurisdiction-definitions.md\n",
      "INFO:root:  - SearchParameter-us-core-location-address.md\n",
      "INFO:root:  - vsacname-fhiruri-map.md\n",
      "INFO:root:  - SearchParameter-us-core-encounter-lastupdated.md\n",
      "INFO:root:  - SearchParameter-us-core-documentreference-category-testing.md\n",
      "INFO:root:  - basic-provenance.md\n",
      "INFO:root:  - Observation-simple-observation-cognitive-status.md\n",
      "INFO:root:  - Observation-dxa-femur-l-armass-bmd.md\n",
      "INFO:root:  - CodeSystem-us-core-documentreference-category-testing.md\n",
      "INFO:root:  - StructureDefinition-us-core-medication-adherence-testing.md\n",
      "INFO:root:  - ValueSet-us-core-observation-smoking-status-status-testing.md\n",
      "INFO:root:  - SearchParameter-us-core-condition-category.md\n",
      "INFO:root:  - Questionnaire-AUDIT-C.md\n",
      "INFO:root:  - StructureDefinition-us-core-allergyintolerance.md\n",
      "INFO:root:  - security.md\n",
      "INFO:root:  - StructureDefinition-us-core-bmi-mappings.md\n",
      "INFO:root:  - Observation-HVS-panel-example-88121-9.md\n",
      "INFO:root:  - StructureDefinition-us-core-observation-lab.md\n",
      "INFO:root:  - SearchParameter-us-core-allergyintolerance-patient-testing.md\n",
      "INFO:root:  - StructureDefinition-us-core-observation-screening-assessment-mappings.md\n",
      "INFO:root:  - StructureDefinition-us-core-practitionerrole-definitions.md\n",
      "INFO:root:  - SearchParameter-us-core-location-address-state.md\n",
      "INFO:root:  - StructureDefinition-us-core-birthsex-mappings.md\n",
      "INFO:root:  - StructureDefinition-us-core-authentication-time-testing.md\n",
      "INFO:root:  - StructureDefinition-pediatric-weight-for-height-mappings.md\n",
      "INFO:root:  - SearchParameter-us-core-documentreference-status.md\n",
      "INFO:root:  - SearchParameter-us-core-documentreference-patient.md\n",
      "INFO:root:  - ValueSet-us-core-documentreference-category-testing.md\n",
      "INFO:root:  - Observation-PRAPARE-item-example-93035-4.md\n",
      "INFO:root:  - SearchParameter-us-core-documentreference-category.md\n",
      "INFO:root:  - Observation-some-day-smoker.md\n",
      "INFO:root:  - Observation-serum-co2.md\n",
      "INFO:root:  - Practitioner-practitioner-2.md\n",
      "INFO:root:  - StructureDefinition-us-core-questionnaireresponse.md\n",
      "INFO:root:  - DiagnosticReport-cbc.md\n",
      "INFO:root:  - Observation-AUDIT-C-item-example-75626-2.md\n",
      "INFO:root:  - changes-between-versions.md\n",
      "INFO:root:  - SearchParameter-us-core-condition-clinical-status.md\n",
      "INFO:root:  - ValueSet-us-core-diagnosticreport-category-testing.md\n",
      "INFO:root:  - StructureDefinition-us-core-blood-pressure.md\n",
      "INFO:root:  - StructureDefinition-us-core-vital-signs-testing.md\n",
      "INFO:root:  - StructureDefinition-us-core-condition-problems-health-concerns-testing.md\n",
      "INFO:root:  - Observation-AUDIT-C-item-example-68517-2.md\n",
      "INFO:root:  - StructureDefinition-us-core-immunization-testing.md\n",
      "INFO:root:  - Observation-TAPS-item-example-96842-0.md\n",
      "INFO:root:  - StructureDefinition-us-core-condition-encounter-diagnosis-mappings.md\n",
      "INFO:root:  - StructureDefinition-us-core-procedure-definitions.md\n",
      "INFO:root:  - ImplementationGuide-hl7.fhir.us.core.md\n",
      "INFO:root:  - StructureDefinition-us-core-simple-observation-testing.md\n",
      "INFO:root:  - SearchParameter-us-core-condition-onset-date-testing.md\n",
      "INFO:root:  - StructureDefinition-us-core-treatment-intervention-preference-definitions.md\n",
      "INFO:root:  - Library-uscore-5.0.1-model-definition.md\n",
      "INFO:root:Organized 793 files into 277 processing groups\n",
      "INFO:root:Processing combined group of 26 files\n",
      "INFO:root:Split combined content into 1 chunks\n",
      "INFO:root:Processing chunk 1/1 of combined files\n",
      "INFO:httpx:HTTP Request: POST https://api.anthropic.com/v1/messages \"HTTP/1.1 200 OK\"\n",
      "INFO:root:Processing combined group of 24 files\n",
      "INFO:root:Split combined content into 1 chunks\n",
      "INFO:root:Processing chunk 1/1 of combined files\n",
      "INFO:httpx:HTTP Request: POST https://api.anthropic.com/v1/messages \"HTTP/1.1 200 OK\"\n",
      "INFO:root:Processing combined group of 24 files\n",
      "INFO:root:Split combined content into 1 chunks\n",
      "INFO:root:Processing chunk 1/1 of combined files\n",
      "INFO:httpx:HTTP Request: POST https://api.anthropic.com/v1/messages \"HTTP/1.1 200 OK\"\n",
      "INFO:root:Processing combined group of 23 files\n",
      "INFO:root:Split combined content into 1 chunks\n",
      "INFO:root:Processing chunk 1/1 of combined files\n",
      "INFO:httpx:HTTP Request: POST https://api.anthropic.com/v1/messages \"HTTP/1.1 200 OK\"\n",
      "INFO:root:Processing combined group of 23 files\n",
      "INFO:root:Split combined content into 1 chunks\n",
      "INFO:root:Processing chunk 1/1 of combined files\n",
      "INFO:httpx:HTTP Request: POST https://api.anthropic.com/v1/messages \"HTTP/1.1 200 OK\"\n",
      "INFO:root:Processing combined group of 23 files\n",
      "INFO:root:Split combined content into 1 chunks\n",
      "INFO:root:Processing chunk 1/1 of combined files\n",
      "INFO:httpx:HTTP Request: POST https://api.anthropic.com/v1/messages \"HTTP/1.1 200 OK\"\n",
      "INFO:root:Processing combined group of 23 files\n",
      "INFO:root:Split combined content into 1 chunks\n",
      "INFO:root:Processing chunk 1/1 of combined files\n",
      "INFO:httpx:HTTP Request: POST https://api.anthropic.com/v1/messages \"HTTP/1.1 200 OK\"\n",
      "INFO:root:Processing combined group of 23 files\n",
      "INFO:root:Split combined content into 1 chunks\n",
      "INFO:root:Processing chunk 1/1 of combined files\n",
      "INFO:httpx:HTTP Request: POST https://api.anthropic.com/v1/messages \"HTTP/1.1 200 OK\"\n",
      "INFO:root:Processing combined group of 22 files\n",
      "INFO:root:Split combined content into 1 chunks\n",
      "INFO:root:Processing chunk 1/1 of combined files\n",
      "INFO:httpx:HTTP Request: POST https://api.anthropic.com/v1/messages \"HTTP/1.1 200 OK\"\n",
      "INFO:root:Processing combined group of 21 files\n",
      "INFO:root:Split combined content into 1 chunks\n",
      "INFO:root:Processing chunk 1/1 of combined files\n",
      "INFO:httpx:HTTP Request: POST https://api.anthropic.com/v1/messages \"HTTP/1.1 200 OK\"\n",
      "INFO:root:Processing combined group of 18 files\n",
      "INFO:root:Split combined content into 1 chunks\n",
      "INFO:root:Processing chunk 1/1 of combined files\n",
      "INFO:httpx:HTTP Request: POST https://api.anthropic.com/v1/messages \"HTTP/1.1 200 OK\"\n",
      "INFO:root:Processing combined group of 17 files\n",
      "INFO:root:Split combined content into 1 chunks\n",
      "INFO:root:Processing chunk 1/1 of combined files\n",
      "INFO:httpx:HTTP Request: POST https://api.anthropic.com/v1/messages \"HTTP/1.1 200 OK\"\n",
      "INFO:root:Processing combined group of 16 files\n",
      "INFO:root:Split combined content into 1 chunks\n",
      "INFO:root:Processing chunk 1/1 of combined files\n",
      "INFO:httpx:HTTP Request: POST https://api.anthropic.com/v1/messages \"HTTP/1.1 200 OK\"\n",
      "INFO:root:Processing combined group of 15 files\n",
      "INFO:root:Split combined content into 1 chunks\n",
      "INFO:root:Processing chunk 1/1 of combined files\n",
      "INFO:httpx:HTTP Request: POST https://api.anthropic.com/v1/messages \"HTTP/1.1 200 OK\"\n",
      "INFO:root:Processing combined group of 13 files\n",
      "INFO:root:Split combined content into 1 chunks\n",
      "INFO:root:Processing chunk 1/1 of combined files\n",
      "INFO:httpx:HTTP Request: POST https://api.anthropic.com/v1/messages \"HTTP/1.1 200 OK\"\n",
      "INFO:root:Processing combined group of 12 files\n",
      "INFO:root:Split combined content into 1 chunks\n",
      "INFO:root:Processing chunk 1/1 of combined files\n",
      "INFO:httpx:HTTP Request: POST https://api.anthropic.com/v1/messages \"HTTP/1.1 200 OK\"\n",
      "INFO:root:Processing combined group of 12 files\n",
      "INFO:root:Split combined content into 1 chunks\n",
      "INFO:root:Processing chunk 1/1 of combined files\n",
      "INFO:httpx:HTTP Request: POST https://api.anthropic.com/v1/messages \"HTTP/1.1 200 OK\"\n",
      "INFO:root:Processing combined group of 11 files\n",
      "INFO:root:Split combined content into 1 chunks\n",
      "INFO:root:Processing chunk 1/1 of combined files\n",
      "INFO:httpx:HTTP Request: POST https://api.anthropic.com/v1/messages \"HTTP/1.1 200 OK\"\n",
      "INFO:root:Processing combined group of 11 files\n",
      "INFO:root:Split combined content into 1 chunks\n",
      "INFO:root:Processing chunk 1/1 of combined files\n",
      "INFO:httpx:HTTP Request: POST https://api.anthropic.com/v1/messages \"HTTP/1.1 200 OK\"\n",
      "INFO:root:Processing combined group of 10 files\n",
      "INFO:root:Split combined content into 1 chunks\n",
      "INFO:root:Processing chunk 1/1 of combined files\n",
      "INFO:httpx:HTTP Request: POST https://api.anthropic.com/v1/messages \"HTTP/1.1 200 OK\"\n",
      "INFO:root:Processing combined group of 10 files\n",
      "INFO:root:Split combined content into 1 chunks\n",
      "INFO:root:Processing chunk 1/1 of combined files\n",
      "INFO:httpx:HTTP Request: POST https://api.anthropic.com/v1/messages \"HTTP/1.1 200 OK\"\n",
      "INFO:root:Processing combined group of 9 files\n",
      "INFO:root:Split combined content into 1 chunks\n",
      "INFO:root:Processing chunk 1/1 of combined files\n",
      "INFO:httpx:HTTP Request: POST https://api.anthropic.com/v1/messages \"HTTP/1.1 200 OK\"\n",
      "INFO:root:Processing combined group of 9 files\n",
      "INFO:root:Split combined content into 1 chunks\n",
      "INFO:root:Processing chunk 1/1 of combined files\n",
      "INFO:httpx:HTTP Request: POST https://api.anthropic.com/v1/messages \"HTTP/1.1 200 OK\"\n",
      "INFO:root:Processing combined group of 8 files\n",
      "INFO:root:Split combined content into 1 chunks\n",
      "INFO:root:Processing chunk 1/1 of combined files\n",
      "INFO:httpx:HTTP Request: POST https://api.anthropic.com/v1/messages \"HTTP/1.1 200 OK\"\n",
      "INFO:root:Processing combined group of 8 files\n",
      "INFO:root:Split combined content into 1 chunks\n",
      "INFO:root:Processing chunk 1/1 of combined files\n",
      "INFO:httpx:HTTP Request: POST https://api.anthropic.com/v1/messages \"HTTP/1.1 200 OK\"\n",
      "INFO:root:Processing combined group of 7 files\n",
      "INFO:root:Split combined content into 1 chunks\n",
      "INFO:root:Processing chunk 1/1 of combined files\n",
      "INFO:httpx:HTTP Request: POST https://api.anthropic.com/v1/messages \"HTTP/1.1 200 OK\"\n",
      "INFO:root:Processing combined group of 7 files\n",
      "INFO:root:Split combined content into 1 chunks\n",
      "INFO:root:Processing chunk 1/1 of combined files\n",
      "INFO:httpx:HTTP Request: POST https://api.anthropic.com/v1/messages \"HTTP/1.1 200 OK\"\n",
      "INFO:root:Processing combined group of 6 files\n",
      "INFO:root:Split combined content into 1 chunks\n",
      "INFO:root:Processing chunk 1/1 of combined files\n",
      "INFO:httpx:HTTP Request: POST https://api.anthropic.com/v1/messages \"HTTP/1.1 200 OK\"\n",
      "INFO:root:Processing combined group of 6 files\n",
      "INFO:root:Split combined content into 1 chunks\n",
      "INFO:root:Processing chunk 1/1 of combined files\n",
      "INFO:httpx:HTTP Request: POST https://api.anthropic.com/v1/messages \"HTTP/1.1 200 OK\"\n",
      "INFO:root:Processing combined group of 5 files\n",
      "INFO:root:Split combined content into 1 chunks\n",
      "INFO:root:Processing chunk 1/1 of combined files\n",
      "INFO:httpx:HTTP Request: POST https://api.anthropic.com/v1/messages \"HTTP/1.1 200 OK\"\n",
      "INFO:root:Processing combined group of 5 files\n",
      "INFO:root:Split combined content into 1 chunks\n",
      "INFO:root:Processing chunk 1/1 of combined files\n",
      "INFO:httpx:HTTP Request: POST https://api.anthropic.com/v1/messages \"HTTP/1.1 200 OK\"\n",
      "INFO:root:Processing combined group of 5 files\n",
      "INFO:root:Split combined content into 1 chunks\n",
      "INFO:root:Processing chunk 1/1 of combined files\n",
      "INFO:httpx:HTTP Request: POST https://api.anthropic.com/v1/messages \"HTTP/1.1 200 OK\"\n",
      "INFO:root:Processing combined group of 5 files\n",
      "INFO:root:Split combined content into 1 chunks\n",
      "INFO:root:Processing chunk 1/1 of combined files\n",
      "INFO:httpx:HTTP Request: POST https://api.anthropic.com/v1/messages \"HTTP/1.1 200 OK\"\n",
      "INFO:root:Processing combined group of 5 files\n",
      "INFO:root:Split combined content into 1 chunks\n",
      "INFO:root:Processing chunk 1/1 of combined files\n",
      "INFO:httpx:HTTP Request: POST https://api.anthropic.com/v1/messages \"HTTP/1.1 200 OK\"\n",
      "INFO:root:Processing combined group of 5 files\n",
      "INFO:root:Split combined content into 1 chunks\n",
      "INFO:root:Processing chunk 1/1 of combined files\n",
      "INFO:httpx:HTTP Request: POST https://api.anthropic.com/v1/messages \"HTTP/1.1 200 OK\"\n",
      "INFO:root:Processing combined group of 5 files\n",
      "INFO:root:Split combined content into 1 chunks\n",
      "INFO:root:Processing chunk 1/1 of combined files\n",
      "INFO:httpx:HTTP Request: POST https://api.anthropic.com/v1/messages \"HTTP/1.1 200 OK\"\n",
      "INFO:root:Processing combined group of 5 files\n",
      "INFO:root:Split combined content into 1 chunks\n",
      "INFO:root:Processing chunk 1/1 of combined files\n",
      "INFO:httpx:HTTP Request: POST https://api.anthropic.com/v1/messages \"HTTP/1.1 200 OK\"\n",
      "INFO:root:Processing combined group of 5 files\n",
      "INFO:root:Split combined content into 1 chunks\n",
      "INFO:root:Processing chunk 1/1 of combined files\n",
      "INFO:httpx:HTTP Request: POST https://api.anthropic.com/v1/messages \"HTTP/1.1 200 OK\"\n",
      "INFO:root:Processing combined group of 5 files\n",
      "INFO:root:Split combined content into 1 chunks\n",
      "INFO:root:Processing chunk 1/1 of combined files\n",
      "INFO:httpx:HTTP Request: POST https://api.anthropic.com/v1/messages \"HTTP/1.1 200 OK\"\n",
      "INFO:root:Processing combined group of 5 files\n",
      "INFO:root:Split combined content into 1 chunks\n",
      "INFO:root:Processing chunk 1/1 of combined files\n",
      "INFO:httpx:HTTP Request: POST https://api.anthropic.com/v1/messages \"HTTP/1.1 200 OK\"\n",
      "INFO:root:Processing combined group of 5 files\n",
      "INFO:root:Split combined content into 1 chunks\n",
      "INFO:root:Processing chunk 1/1 of combined files\n",
      "INFO:httpx:HTTP Request: POST https://api.anthropic.com/v1/messages \"HTTP/1.1 200 OK\"\n",
      "INFO:root:Processing combined group of 5 files\n",
      "INFO:root:Split combined content into 1 chunks\n",
      "INFO:root:Processing chunk 1/1 of combined files\n",
      "INFO:httpx:HTTP Request: POST https://api.anthropic.com/v1/messages \"HTTP/1.1 200 OK\"\n",
      "INFO:root:Processing combined group of 5 files\n",
      "INFO:root:Split combined content into 1 chunks\n",
      "INFO:root:Processing chunk 1/1 of combined files\n",
      "INFO:httpx:HTTP Request: POST https://api.anthropic.com/v1/messages \"HTTP/1.1 200 OK\"\n",
      "INFO:root:Processing combined group of 4 files\n",
      "INFO:root:Split combined content into 1 chunks\n",
      "INFO:root:Processing chunk 1/1 of combined files\n",
      "INFO:httpx:HTTP Request: POST https://api.anthropic.com/v1/messages \"HTTP/1.1 200 OK\"\n",
      "INFO:root:Processing combined group of 4 files\n",
      "INFO:root:Split combined content into 1 chunks\n",
      "INFO:root:Processing chunk 1/1 of combined files\n",
      "INFO:httpx:HTTP Request: POST https://api.anthropic.com/v1/messages \"HTTP/1.1 200 OK\"\n",
      "INFO:root:Processing combined group of 4 files\n",
      "INFO:root:Split combined content into 1 chunks\n",
      "INFO:root:Processing chunk 1/1 of combined files\n",
      "INFO:httpx:HTTP Request: POST https://api.anthropic.com/v1/messages \"HTTP/1.1 200 OK\"\n",
      "INFO:root:Processing combined group of 4 files\n",
      "INFO:root:Split combined content into 1 chunks\n",
      "INFO:root:Processing chunk 1/1 of combined files\n",
      "INFO:httpx:HTTP Request: POST https://api.anthropic.com/v1/messages \"HTTP/1.1 200 OK\"\n",
      "INFO:root:Processing combined group of 4 files\n",
      "INFO:root:Split combined content into 1 chunks\n",
      "INFO:root:Processing chunk 1/1 of combined files\n",
      "INFO:httpx:HTTP Request: POST https://api.anthropic.com/v1/messages \"HTTP/1.1 200 OK\"\n",
      "INFO:root:Processing combined group of 4 files\n",
      "INFO:root:Split combined content into 1 chunks\n",
      "INFO:root:Processing chunk 1/1 of combined files\n",
      "INFO:httpx:HTTP Request: POST https://api.anthropic.com/v1/messages \"HTTP/1.1 200 OK\"\n",
      "INFO:root:Processing combined group of 4 files\n",
      "INFO:root:Split combined content into 1 chunks\n",
      "INFO:root:Processing chunk 1/1 of combined files\n",
      "INFO:httpx:HTTP Request: POST https://api.anthropic.com/v1/messages \"HTTP/1.1 200 OK\"\n",
      "INFO:root:Processing combined group of 4 files\n",
      "INFO:root:Split combined content into 1 chunks\n",
      "INFO:root:Processing chunk 1/1 of combined files\n",
      "INFO:httpx:HTTP Request: POST https://api.anthropic.com/v1/messages \"HTTP/1.1 200 OK\"\n",
      "INFO:root:Processing combined group of 4 files\n",
      "INFO:root:Split combined content into 1 chunks\n",
      "INFO:root:Processing chunk 1/1 of combined files\n",
      "INFO:httpx:HTTP Request: POST https://api.anthropic.com/v1/messages \"HTTP/1.1 200 OK\"\n",
      "INFO:root:Processing combined group of 4 files\n",
      "INFO:root:Split combined content into 1 chunks\n",
      "INFO:root:Processing chunk 1/1 of combined files\n",
      "INFO:httpx:HTTP Request: POST https://api.anthropic.com/v1/messages \"HTTP/1.1 200 OK\"\n",
      "INFO:root:Processing combined group of 3 files\n",
      "INFO:root:Split combined content into 1 chunks\n",
      "INFO:root:Processing chunk 1/1 of combined files\n",
      "INFO:httpx:HTTP Request: POST https://api.anthropic.com/v1/messages \"HTTP/1.1 200 OK\"\n",
      "INFO:root:Processing combined group of 3 files\n",
      "INFO:root:Split combined content into 1 chunks\n",
      "INFO:root:Processing chunk 1/1 of combined files\n",
      "INFO:httpx:HTTP Request: POST https://api.anthropic.com/v1/messages \"HTTP/1.1 200 OK\"\n",
      "INFO:root:Processing combined group of 3 files\n",
      "INFO:root:Split combined content into 1 chunks\n",
      "INFO:root:Processing chunk 1/1 of combined files\n",
      "INFO:httpx:HTTP Request: POST https://api.anthropic.com/v1/messages \"HTTP/1.1 200 OK\"\n",
      "INFO:root:Processing combined group of 3 files\n",
      "INFO:root:Split combined content into 1 chunks\n",
      "INFO:root:Processing chunk 1/1 of combined files\n",
      "INFO:httpx:HTTP Request: POST https://api.anthropic.com/v1/messages \"HTTP/1.1 200 OK\"\n",
      "INFO:root:Processing combined group of 3 files\n",
      "INFO:root:Split combined content into 1 chunks\n",
      "INFO:root:Processing chunk 1/1 of combined files\n",
      "INFO:httpx:HTTP Request: POST https://api.anthropic.com/v1/messages \"HTTP/1.1 200 OK\"\n",
      "INFO:root:Processing combined group of 3 files\n",
      "INFO:root:Split combined content into 1 chunks\n",
      "INFO:root:Processing chunk 1/1 of combined files\n",
      "INFO:httpx:HTTP Request: POST https://api.anthropic.com/v1/messages \"HTTP/1.1 200 OK\"\n",
      "INFO:root:Processing combined group of 3 files\n",
      "INFO:root:Split combined content into 1 chunks\n",
      "INFO:root:Processing chunk 1/1 of combined files\n",
      "INFO:httpx:HTTP Request: POST https://api.anthropic.com/v1/messages \"HTTP/1.1 200 OK\"\n",
      "INFO:root:Processing combined group of 2 files\n",
      "INFO:root:Split combined content into 1 chunks\n",
      "INFO:root:Processing chunk 1/1 of combined files\n",
      "INFO:httpx:HTTP Request: POST https://api.anthropic.com/v1/messages \"HTTP/1.1 200 OK\"\n",
      "INFO:root:Processing combined group of 2 files\n",
      "INFO:root:Split combined content into 1 chunks\n",
      "INFO:root:Processing chunk 1/1 of combined files\n",
      "INFO:httpx:HTTP Request: POST https://api.anthropic.com/v1/messages \"HTTP/1.1 200 OK\"\n",
      "INFO:root:Processing combined group of 2 files\n",
      "INFO:root:Split combined content into 1 chunks\n",
      "INFO:root:Processing chunk 1/1 of combined files\n",
      "INFO:httpx:HTTP Request: POST https://api.anthropic.com/v1/messages \"HTTP/1.1 200 OK\"\n",
      "INFO:root:Processing combined group of 2 files\n",
      "INFO:root:Split combined content into 1 chunks\n",
      "INFO:root:Processing chunk 1/1 of combined files\n",
      "INFO:httpx:HTTP Request: POST https://api.anthropic.com/v1/messages \"HTTP/1.1 200 OK\"\n",
      "INFO:root:Processing combined group of 2 files\n",
      "INFO:root:Split combined content into 1 chunks\n",
      "INFO:root:Processing chunk 1/1 of combined files\n",
      "INFO:httpx:HTTP Request: POST https://api.anthropic.com/v1/messages \"HTTP/1.1 200 OK\"\n",
      "INFO:root:Processing combined group of 2 files\n",
      "INFO:root:Split combined content into 1 chunks\n",
      "INFO:root:Processing chunk 1/1 of combined files\n",
      "INFO:httpx:HTTP Request: POST https://api.anthropic.com/v1/messages \"HTTP/1.1 200 OK\"\n",
      "INFO:root:Processing combined group of 2 files\n",
      "INFO:root:Split combined content into 1 chunks\n",
      "INFO:root:Processing chunk 1/1 of combined files\n",
      "INFO:httpx:HTTP Request: POST https://api.anthropic.com/v1/messages \"HTTP/1.1 200 OK\"\n",
      "INFO:root:Processing combined group of 2 files\n",
      "INFO:root:Split combined content into 1 chunks\n",
      "INFO:root:Processing chunk 1/1 of combined files\n",
      "INFO:httpx:HTTP Request: POST https://api.anthropic.com/v1/messages \"HTTP/1.1 200 OK\"\n",
      "INFO:root:Processing single file: ValueSet-us-core-screening-assessment-observation-category.md\n",
      "INFO:root:Split ValueSet-us-core-screening-assessment-observation-category.md into 1 chunks using dynamic sizing\n",
      "INFO:root:Processing chunk 1/1 of ValueSet-us-core-screening-assessment-observation-category.md\n",
      "INFO:httpx:HTTP Request: POST https://api.anthropic.com/v1/messages \"HTTP/1.1 200 OK\"\n",
      "INFO:root:Processing single file: StructureDefinition-us-core-practitioner-mappings.md\n",
      "INFO:root:Split StructureDefinition-us-core-practitioner-mappings.md into 1 chunks using dynamic sizing\n",
      "INFO:root:Processing chunk 1/1 of StructureDefinition-us-core-practitioner-mappings.md\n",
      "INFO:httpx:HTTP Request: POST https://api.anthropic.com/v1/messages \"HTTP/1.1 200 OK\"\n",
      "INFO:root:Processing single file: vsacname-fhiruri-map.md\n",
      "INFO:root:Split vsacname-fhiruri-map.md into 1 chunks using dynamic sizing\n",
      "INFO:root:Processing chunk 1/1 of vsacname-fhiruri-map.md\n",
      "INFO:httpx:HTTP Request: POST https://api.anthropic.com/v1/messages \"HTTP/1.1 200 OK\"\n",
      "INFO:root:Processing single file: StructureDefinition-us-core-condition-encounter-diagnosis-mappings.md\n",
      "INFO:root:Split StructureDefinition-us-core-condition-encounter-diagnosis-mappings.md into 1 chunks using dynamic sizing\n",
      "INFO:root:Processing chunk 1/1 of StructureDefinition-us-core-condition-encounter-diagnosis-mappings.md\n",
      "INFO:httpx:HTTP Request: POST https://api.anthropic.com/v1/messages \"HTTP/1.1 200 OK\"\n",
      "INFO:root:Processing single file: StructureDefinition-us-core-immunization-mappings.md\n",
      "INFO:root:Split StructureDefinition-us-core-immunization-mappings.md into 1 chunks using dynamic sizing\n",
      "INFO:root:Processing chunk 1/1 of StructureDefinition-us-core-immunization-mappings.md\n",
      "INFO:httpx:HTTP Request: POST https://api.anthropic.com/v1/messages \"HTTP/1.1 200 OK\"\n",
      "INFO:root:Processing single file: StructureDefinition-us-core-patient-mappings.md\n",
      "INFO:root:Split StructureDefinition-us-core-patient-mappings.md into 1 chunks using dynamic sizing\n",
      "INFO:root:Processing chunk 1/1 of StructureDefinition-us-core-patient-mappings.md\n",
      "INFO:httpx:HTTP Request: POST https://api.anthropic.com/v1/messages \"HTTP/1.1 200 OK\"\n",
      "INFO:root:Processing single file: StructureDefinition-us-core-encounter-mappings.md\n",
      "INFO:root:Split StructureDefinition-us-core-encounter-mappings.md into 1 chunks using dynamic sizing\n",
      "INFO:root:Processing chunk 1/1 of StructureDefinition-us-core-encounter-mappings.md\n",
      "INFO:httpx:HTTP Request: POST https://api.anthropic.com/v1/messages \"HTTP/1.1 200 OK\"\n",
      "INFO:root:Processing single file: StructureDefinition-us-core-condition-problems-health-concerns-mappings.md\n",
      "INFO:root:Split StructureDefinition-us-core-condition-problems-health-concerns-mappings.md into 1 chunks using dynamic sizing\n",
      "INFO:root:Processing chunk 1/1 of StructureDefinition-us-core-condition-problems-health-concerns-mappings.md\n",
      "INFO:httpx:HTTP Request: POST https://api.anthropic.com/v1/messages \"HTTP/1.1 200 OK\"\n",
      "INFO:root:Processing single file: StructureDefinition-us-core-servicerequest-mappings.md\n",
      "INFO:root:Split StructureDefinition-us-core-servicerequest-mappings.md into 1 chunks using dynamic sizing\n",
      "INFO:root:Processing chunk 1/1 of StructureDefinition-us-core-servicerequest-mappings.md\n",
      "INFO:httpx:HTTP Request: POST https://api.anthropic.com/v1/messages \"HTTP/1.1 200 OK\"\n",
      "INFO:root:Processing single file: OperationDefinition-docref.md\n",
      "INFO:root:Split OperationDefinition-docref.md into 1 chunks using dynamic sizing\n",
      "INFO:root:Processing chunk 1/1 of OperationDefinition-docref.md\n",
      "INFO:httpx:HTTP Request: POST https://api.anthropic.com/v1/messages \"HTTP/1.1 200 OK\"\n",
      "INFO:root:Processing single file: ValueSet-us-core-provenance-participant-type.md\n",
      "INFO:root:Split ValueSet-us-core-provenance-participant-type.md into 1 chunks using dynamic sizing\n",
      "INFO:root:Processing chunk 1/1 of ValueSet-us-core-provenance-participant-type.md\n",
      "INFO:httpx:HTTP Request: POST https://api.anthropic.com/v1/messages \"HTTP/1.1 200 OK\"\n",
      "INFO:root:Processing single file: StructureDefinition-us-core-organization-mappings.md\n",
      "INFO:root:Split StructureDefinition-us-core-organization-mappings.md into 1 chunks using dynamic sizing\n",
      "INFO:root:Processing chunk 1/1 of StructureDefinition-us-core-organization-mappings.md\n",
      "INFO:httpx:HTTP Request: POST https://api.anthropic.com/v1/messages \"HTTP/1.1 200 OK\"\n",
      "INFO:root:Processing single file: StructureDefinition-us-core-simple-observation-mappings.md\n",
      "INFO:root:Split StructureDefinition-us-core-simple-observation-mappings.md into 1 chunks using dynamic sizing\n",
      "INFO:root:Processing chunk 1/1 of StructureDefinition-us-core-simple-observation-mappings.md\n",
      "INFO:httpx:HTTP Request: POST https://api.anthropic.com/v1/messages \"HTTP/1.1 200 OK\"\n",
      "INFO:root:Processing single file: StructureDefinition-us-core-care-experience-preference-mappings.md\n",
      "INFO:root:Split StructureDefinition-us-core-care-experience-preference-mappings.md into 1 chunks using dynamic sizing\n",
      "INFO:root:Processing chunk 1/1 of StructureDefinition-us-core-care-experience-preference-mappings.md\n",
      "INFO:httpx:HTTP Request: POST https://api.anthropic.com/v1/messages \"HTTP/1.1 200 OK\"\n",
      "INFO:root:Processing single file: StructureDefinition-us-core-observation-clinical-result-mappings.md\n",
      "INFO:root:Split StructureDefinition-us-core-observation-clinical-result-mappings.md into 1 chunks using dynamic sizing\n",
      "INFO:root:Processing chunk 1/1 of StructureDefinition-us-core-observation-clinical-result-mappings.md\n",
      "INFO:httpx:HTTP Request: POST https://api.anthropic.com/v1/messages \"HTTP/1.1 200 OK\"\n",
      "INFO:root:Processing single file: StructureDefinition-us-core-treatment-intervention-preference-mappings.md\n",
      "INFO:root:Split StructureDefinition-us-core-treatment-intervention-preference-mappings.md into 1 chunks using dynamic sizing\n",
      "INFO:root:Processing chunk 1/1 of StructureDefinition-us-core-treatment-intervention-preference-mappings.md\n",
      "INFO:httpx:HTTP Request: POST https://api.anthropic.com/v1/messages \"HTTP/1.1 200 OK\"\n",
      "INFO:root:Processing single file: StructureDefinition-us-core-observation-adi-documentation-mappings.md\n",
      "INFO:root:Split StructureDefinition-us-core-observation-adi-documentation-mappings.md into 1 chunks using dynamic sizing\n",
      "INFO:root:Processing chunk 1/1 of StructureDefinition-us-core-observation-adi-documentation-mappings.md\n",
      "INFO:httpx:HTTP Request: POST https://api.anthropic.com/v1/messages \"HTTP/1.1 200 OK\"\n",
      "INFO:root:Processing single file: StructureDefinition-us-core-observation-sexual-orientation-mappings.md\n",
      "INFO:root:Split StructureDefinition-us-core-observation-sexual-orientation-mappings.md into 1 chunks using dynamic sizing\n",
      "INFO:root:Processing chunk 1/1 of StructureDefinition-us-core-observation-sexual-orientation-mappings.md\n",
      "INFO:httpx:HTTP Request: POST https://api.anthropic.com/v1/messages \"HTTP/1.1 200 OK\"\n",
      "INFO:root:Processing single file: element-level-provenance.md\n",
      "INFO:root:Split element-level-provenance.md into 1 chunks using dynamic sizing\n",
      "INFO:root:Processing chunk 1/1 of element-level-provenance.md\n",
      "INFO:httpx:HTTP Request: POST https://api.anthropic.com/v1/messages \"HTTP/1.1 200 OK\"\n",
      "INFO:root:Processing single file: StructureDefinition-us-core-medicationdispense-mappings.md\n",
      "INFO:root:Split StructureDefinition-us-core-medicationdispense-mappings.md into 1 chunks using dynamic sizing\n",
      "INFO:root:Processing chunk 1/1 of StructureDefinition-us-core-medicationdispense-mappings.md\n",
      "INFO:httpx:HTTP Request: POST https://api.anthropic.com/v1/messages \"HTTP/1.1 200 OK\"\n",
      "INFO:root:Processing single file: StructureDefinition-us-core-observation-screening-assessment-mappings.md\n",
      "INFO:root:Split StructureDefinition-us-core-observation-screening-assessment-mappings.md into 1 chunks using dynamic sizing\n",
      "INFO:root:Processing chunk 1/1 of StructureDefinition-us-core-observation-screening-assessment-mappings.md\n",
      "INFO:httpx:HTTP Request: POST https://api.anthropic.com/v1/messages \"HTTP/1.1 200 OK\"\n",
      "INFO:root:Processing single file: StructureDefinition-us-core-observation-lab-mappings.md\n",
      "INFO:root:Split StructureDefinition-us-core-observation-lab-mappings.md into 1 chunks using dynamic sizing\n",
      "INFO:root:Processing chunk 1/1 of StructureDefinition-us-core-observation-lab-mappings.md\n",
      "INFO:httpx:HTTP Request: POST https://api.anthropic.com/v1/messages \"HTTP/1.1 200 OK\"\n",
      "INFO:root:Processing single file: StructureDefinition-us-core-smokingstatus-mappings.md\n",
      "INFO:root:Split StructureDefinition-us-core-smokingstatus-mappings.md into 1 chunks using dynamic sizing\n",
      "INFO:root:Processing chunk 1/1 of StructureDefinition-us-core-smokingstatus-mappings.md\n",
      "INFO:httpx:HTTP Request: POST https://api.anthropic.com/v1/messages \"HTTP/1.1 200 OK\"\n",
      "INFO:root:Processing single file: StructureDefinition-us-core-vital-signs-mappings.md\n",
      "INFO:root:Split StructureDefinition-us-core-vital-signs-mappings.md into 1 chunks using dynamic sizing\n",
      "INFO:root:Processing chunk 1/1 of StructureDefinition-us-core-vital-signs-mappings.md\n",
      "INFO:httpx:HTTP Request: POST https://api.anthropic.com/v1/messages \"HTTP/1.1 200 OK\"\n",
      "INFO:root:Processing single file: StructureDefinition-us-core-observation-pregnancystatus-mappings.md\n",
      "INFO:root:Split StructureDefinition-us-core-observation-pregnancystatus-mappings.md into 1 chunks using dynamic sizing\n",
      "INFO:root:Processing chunk 1/1 of StructureDefinition-us-core-observation-pregnancystatus-mappings.md\n",
      "INFO:httpx:HTTP Request: POST https://api.anthropic.com/v1/messages \"HTTP/1.1 200 OK\"\n",
      "INFO:root:Processing single file: StructureDefinition-us-core-observation-pregnancyintent-mappings.md\n",
      "INFO:root:Split StructureDefinition-us-core-observation-pregnancyintent-mappings.md into 1 chunks using dynamic sizing\n",
      "INFO:root:Processing chunk 1/1 of StructureDefinition-us-core-observation-pregnancyintent-mappings.md\n",
      "INFO:httpx:HTTP Request: POST https://api.anthropic.com/v1/messages \"HTTP/1.1 200 OK\"\n",
      "INFO:root:Processing single file: StructureDefinition-us-core-bmi-mappings.md\n",
      "INFO:root:Split StructureDefinition-us-core-bmi-mappings.md into 1 chunks using dynamic sizing\n",
      "INFO:root:Processing chunk 1/1 of StructureDefinition-us-core-bmi-mappings.md\n",
      "INFO:httpx:HTTP Request: POST https://api.anthropic.com/v1/messages \"HTTP/1.1 200 OK\"\n",
      "INFO:root:Processing single file: StructureDefinition-us-core-heart-rate-mappings.md\n",
      "INFO:root:Split StructureDefinition-us-core-heart-rate-mappings.md into 1 chunks using dynamic sizing\n",
      "INFO:root:Processing chunk 1/1 of StructureDefinition-us-core-heart-rate-mappings.md\n",
      "INFO:httpx:HTTP Request: POST https://api.anthropic.com/v1/messages \"HTTP/1.1 200 OK\"\n",
      "INFO:root:Processing single file: StructureDefinition-us-core-body-height-mappings.md\n",
      "INFO:root:Split StructureDefinition-us-core-body-height-mappings.md into 1 chunks using dynamic sizing\n",
      "INFO:root:Processing chunk 1/1 of StructureDefinition-us-core-body-height-mappings.md\n",
      "INFO:httpx:HTTP Request: POST https://api.anthropic.com/v1/messages \"HTTP/1.1 200 OK\"\n",
      "INFO:root:Processing single file: StructureDefinition-us-core-body-weight-mappings.md\n",
      "INFO:root:Split StructureDefinition-us-core-body-weight-mappings.md into 1 chunks using dynamic sizing\n",
      "INFO:root:Processing chunk 1/1 of StructureDefinition-us-core-body-weight-mappings.md\n",
      "INFO:httpx:HTTP Request: POST https://api.anthropic.com/v1/messages \"HTTP/1.1 200 OK\"\n",
      "INFO:root:Processing single file: ValueSet-us-core-clinical-result-observation-category.md\n",
      "INFO:root:Split ValueSet-us-core-clinical-result-observation-category.md into 1 chunks using dynamic sizing\n",
      "INFO:root:Processing chunk 1/1 of ValueSet-us-core-clinical-result-observation-category.md\n",
      "INFO:httpx:HTTP Request: POST https://api.anthropic.com/v1/messages \"HTTP/1.1 200 OK\"\n",
      "INFO:root:Processing single file: StructureDefinition-us-core-respiratory-rate-mappings.md\n",
      "INFO:root:Split StructureDefinition-us-core-respiratory-rate-mappings.md into 1 chunks using dynamic sizing\n",
      "INFO:root:Processing chunk 1/1 of StructureDefinition-us-core-respiratory-rate-mappings.md\n",
      "INFO:httpx:HTTP Request: POST https://api.anthropic.com/v1/messages \"HTTP/1.1 200 OK\"\n",
      "INFO:root:Processing single file: StructureDefinition-us-core-body-temperature-mappings.md\n",
      "INFO:root:Split StructureDefinition-us-core-body-temperature-mappings.md into 1 chunks using dynamic sizing\n",
      "INFO:root:Processing chunk 1/1 of StructureDefinition-us-core-body-temperature-mappings.md\n",
      "INFO:httpx:HTTP Request: POST https://api.anthropic.com/v1/messages \"HTTP/1.1 200 OK\"\n",
      "INFO:root:Processing single file: StructureDefinition-us-core-head-circumference-mappings.md\n",
      "INFO:root:Split StructureDefinition-us-core-head-circumference-mappings.md into 1 chunks using dynamic sizing\n",
      "INFO:root:Processing chunk 1/1 of StructureDefinition-us-core-head-circumference-mappings.md\n",
      "INFO:httpx:HTTP Request: POST https://api.anthropic.com/v1/messages \"HTTP/1.1 200 OK\"\n",
      "INFO:root:Processing single file: profiles-and-extensions.md\n",
      "INFO:root:Split profiles-and-extensions.md into 1 chunks using dynamic sizing\n",
      "INFO:root:Processing chunk 1/1 of profiles-and-extensions.md\n",
      "INFO:httpx:HTTP Request: POST https://api.anthropic.com/v1/messages \"HTTP/1.1 200 OK\"\n",
      "INFO:root:Processing single file: StructureDefinition-pediatric-bmi-for-age-mappings.md\n",
      "INFO:root:Split StructureDefinition-pediatric-bmi-for-age-mappings.md into 1 chunks using dynamic sizing\n",
      "INFO:root:Processing chunk 1/1 of StructureDefinition-pediatric-bmi-for-age-mappings.md\n",
      "INFO:httpx:HTTP Request: POST https://api.anthropic.com/v1/messages \"HTTP/1.1 200 OK\"\n",
      "INFO:root:Processing single file: StructureDefinition-pediatric-weight-for-height-mappings.md\n",
      "INFO:root:Split StructureDefinition-pediatric-weight-for-height-mappings.md into 1 chunks using dynamic sizing\n",
      "INFO:root:Processing chunk 1/1 of StructureDefinition-pediatric-weight-for-height-mappings.md\n",
      "INFO:httpx:HTTP Request: POST https://api.anthropic.com/v1/messages \"HTTP/1.1 200 OK\"\n",
      "INFO:root:Processing single file: StructureDefinition-us-core-observation-occupation-mappings.md\n",
      "INFO:root:Split StructureDefinition-us-core-observation-occupation-mappings.md into 1 chunks using dynamic sizing\n",
      "INFO:root:Processing chunk 1/1 of StructureDefinition-us-core-observation-occupation-mappings.md\n",
      "INFO:httpx:HTTP Request: POST https://api.anthropic.com/v1/messages \"HTTP/1.1 200 OK\"\n",
      "INFO:root:Processing single file: StructureDefinition-head-occipital-frontal-circumference-percentile-mappings.md\n",
      "INFO:root:Split StructureDefinition-head-occipital-frontal-circumference-percentile-mappings.md into 1 chunks using dynamic sizing\n",
      "INFO:root:Processing chunk 1/1 of StructureDefinition-head-occipital-frontal-circumference-percentile-mappings.md\n",
      "INFO:httpx:HTTP Request: POST https://api.anthropic.com/v1/messages \"HTTP/1.1 200 OK\"\n",
      "INFO:root:Processing single file: ValueSet-us-core-screening-assessment-observation-maximum-category.md\n",
      "INFO:root:Split ValueSet-us-core-screening-assessment-observation-maximum-category.md into 1 chunks using dynamic sizing\n",
      "INFO:root:Processing chunk 1/1 of ValueSet-us-core-screening-assessment-observation-maximum-category.md\n",
      "INFO:httpx:HTTP Request: POST https://api.anthropic.com/v1/messages \"HTTP/1.1 200 OK\"\n",
      "INFO:root:Processing single file: us-core-roadmap.md\n",
      "INFO:root:Split us-core-roadmap.md into 1 chunks using dynamic sizing\n",
      "INFO:root:Processing chunk 1/1 of us-core-roadmap.md\n",
      "INFO:httpx:HTTP Request: POST https://api.anthropic.com/v1/messages \"HTTP/1.1 200 OK\"\n",
      "INFO:root:Processing single file: ValueSet-us-core-simple-observation-category.md\n",
      "INFO:root:Split ValueSet-us-core-simple-observation-category.md into 1 chunks using dynamic sizing\n",
      "INFO:root:Processing chunk 1/1 of ValueSet-us-core-simple-observation-category.md\n",
      "INFO:httpx:HTTP Request: POST https://api.anthropic.com/v1/messages \"HTTP/1.1 200 OK\"\n",
      "INFO:root:Processing single file: StructureDefinition-us-core-medicationrequest-mappings.md\n",
      "INFO:root:Split StructureDefinition-us-core-medicationrequest-mappings.md into 1 chunks using dynamic sizing\n",
      "INFO:root:Processing chunk 1/1 of StructureDefinition-us-core-medicationrequest-mappings.md\n",
      "INFO:httpx:HTTP Request: POST https://api.anthropic.com/v1/messages \"HTTP/1.1 200 OK\"\n",
      "INFO:root:Processing single file: search-parameters-and-operations.md\n",
      "INFO:root:Split search-parameters-and-operations.md into 1 chunks using dynamic sizing\n",
      "INFO:root:Processing chunk 1/1 of search-parameters-and-operations.md\n",
      "INFO:httpx:HTTP Request: POST https://api.anthropic.com/v1/messages \"HTTP/1.1 200 OK\"\n",
      "INFO:root:Processing single file: StructureDefinition-us-core-adi-documentreference-mappings.md\n",
      "INFO:root:Split StructureDefinition-us-core-adi-documentreference-mappings.md into 1 chunks using dynamic sizing\n",
      "INFO:root:Processing chunk 1/1 of StructureDefinition-us-core-adi-documentreference-mappings.md\n",
      "INFO:httpx:HTTP Request: POST https://api.anthropic.com/v1/messages \"HTTP/1.1 200 OK\"\n",
      "INFO:root:Processing single file: StructureDefinition-us-core-documentreference-mappings.md\n",
      "INFO:root:Split StructureDefinition-us-core-documentreference-mappings.md into 1 chunks using dynamic sizing\n",
      "INFO:root:Processing chunk 1/1 of StructureDefinition-us-core-documentreference-mappings.md\n",
      "INFO:httpx:HTTP Request: POST https://api.anthropic.com/v1/messages \"HTTP/1.1 200 OK\"\n",
      "INFO:root:Processing single file: StructureDefinition-us-core-average-blood-pressure-mappings.md\n",
      "INFO:root:Split StructureDefinition-us-core-average-blood-pressure-mappings.md into 1 chunks using dynamic sizing\n",
      "INFO:root:Processing chunk 1/1 of StructureDefinition-us-core-average-blood-pressure-mappings.md\n",
      "INFO:httpx:HTTP Request: POST https://api.anthropic.com/v1/messages \"HTTP/1.1 200 OK\"\n",
      "INFO:root:Processing single file: StructureDefinition-us-core-blood-pressure-mappings.md\n",
      "INFO:root:Split StructureDefinition-us-core-blood-pressure-mappings.md into 1 chunks using dynamic sizing\n",
      "INFO:root:Processing chunk 1/1 of StructureDefinition-us-core-blood-pressure-mappings.md\n",
      "INFO:httpx:HTTP Request: POST https://api.anthropic.com/v1/messages \"HTTP/1.1 200 OK\"\n",
      "INFO:root:Processing single file: StructureDefinition-us-core-authentication-time.md\n",
      "INFO:root:Split StructureDefinition-us-core-authentication-time.md into 1 chunks using dynamic sizing\n",
      "INFO:root:Processing chunk 1/1 of StructureDefinition-us-core-authentication-time.md\n",
      "INFO:httpx:HTTP Request: POST https://api.anthropic.com/v1/messages \"HTTP/1.1 200 OK\"\n",
      "INFO:root:Processing single file: StructureDefinition-us-core-pulse-oximetry-mappings.md\n",
      "INFO:root:Split StructureDefinition-us-core-pulse-oximetry-mappings.md into 1 chunks using dynamic sizing\n",
      "INFO:root:Processing chunk 1/1 of StructureDefinition-us-core-pulse-oximetry-mappings.md\n",
      "INFO:httpx:HTTP Request: POST https://api.anthropic.com/v1/messages \"HTTP/1.1 200 OK\"\n",
      "INFO:root:Processing single file: changes-between-versions.md\n",
      "INFO:root:Split changes-between-versions.md into 1 chunks using dynamic sizing\n",
      "INFO:root:Processing chunk 1/1 of changes-between-versions.md\n",
      "INFO:httpx:HTTP Request: POST https://api.anthropic.com/v1/messages \"HTTP/1.1 200 OK\"\n",
      "INFO:root:Processing single file: StructureDefinition-us-core-direct.md\n",
      "INFO:root:Split StructureDefinition-us-core-direct.md into 1 chunks using dynamic sizing\n",
      "INFO:root:Processing chunk 1/1 of StructureDefinition-us-core-direct.md\n",
      "INFO:httpx:HTTP Request: POST https://api.anthropic.com/v1/messages \"HTTP/1.1 200 OK\"\n",
      "INFO:root:Processing single file: StructureDefinition-us-core-birthsex.md\n",
      "INFO:root:Split StructureDefinition-us-core-birthsex.md into 1 chunks using dynamic sizing\n",
      "INFO:root:Processing chunk 1/1 of StructureDefinition-us-core-birthsex.md\n",
      "INFO:httpx:HTTP Request: POST https://api.anthropic.com/v1/messages \"HTTP/1.1 200 OK\"\n",
      "INFO:root:Processing single file: StructureDefinition-us-core-interpreter-needed.md\n",
      "INFO:root:Split StructureDefinition-us-core-interpreter-needed.md into 1 chunks using dynamic sizing\n",
      "INFO:root:Processing chunk 1/1 of StructureDefinition-us-core-interpreter-needed.md\n",
      "INFO:httpx:HTTP Request: POST https://api.anthropic.com/v1/messages \"HTTP/1.1 200 OK\"\n",
      "INFO:root:Processing single file: StructureDefinition-us-core-extension-questionnaire-uri.md\n",
      "INFO:root:Split StructureDefinition-us-core-extension-questionnaire-uri.md into 1 chunks using dynamic sizing\n",
      "INFO:root:Processing chunk 1/1 of StructureDefinition-us-core-extension-questionnaire-uri.md\n",
      "INFO:httpx:HTTP Request: POST https://api.anthropic.com/v1/messages \"HTTP/1.1 200 OK\"\n",
      "INFO:root:Processing single file: StructureDefinition-us-core-genderIdentity.md\n",
      "INFO:root:Split StructureDefinition-us-core-genderIdentity.md into 1 chunks using dynamic sizing\n",
      "INFO:root:Processing chunk 1/1 of StructureDefinition-us-core-genderIdentity.md\n",
      "INFO:httpx:HTTP Request: POST https://api.anthropic.com/v1/messages \"HTTP/1.1 200 OK\"\n",
      "INFO:root:Processing single file: patient-data-feed.md\n",
      "INFO:root:Split patient-data-feed.md into 1 chunks using dynamic sizing\n",
      "INFO:root:Processing chunk 1/1 of patient-data-feed.md\n",
      "INFO:httpx:HTTP Request: POST https://api.anthropic.com/v1/messages \"HTTP/1.1 200 OK\"\n",
      "INFO:root:Processing single file: StructureDefinition-uscdi-requirement.md\n",
      "INFO:root:Split StructureDefinition-uscdi-requirement.md into 1 chunks using dynamic sizing\n",
      "INFO:root:Processing chunk 1/1 of StructureDefinition-uscdi-requirement.md\n",
      "INFO:httpx:HTTP Request: POST https://api.anthropic.com/v1/messages \"HTTP/1.1 200 OK\"\n",
      "INFO:root:Processing single file: StructureDefinition-us-core-direct-definitions.md\n",
      "INFO:root:Split StructureDefinition-us-core-direct-definitions.md into 1 chunks using dynamic sizing\n",
      "INFO:root:Processing chunk 1/1 of StructureDefinition-us-core-direct-definitions.md\n",
      "INFO:httpx:HTTP Request: POST https://api.anthropic.com/v1/messages \"HTTP/1.1 200 OK\"\n",
      "INFO:root:Processing single file: StructureDefinition-us-core-sex.md\n",
      "INFO:root:Split StructureDefinition-us-core-sex.md into 1 chunks using dynamic sizing\n",
      "INFO:root:Processing chunk 1/1 of StructureDefinition-us-core-sex.md\n",
      "INFO:httpx:HTTP Request: POST https://api.anthropic.com/v1/messages \"HTTP/1.1 200 OK\"\n",
      "INFO:root:Processing single file: StructureDefinition-us-core-genderIdentity-definitions.md\n",
      "INFO:root:Split StructureDefinition-us-core-genderIdentity-definitions.md into 1 chunks using dynamic sizing\n",
      "INFO:root:Processing chunk 1/1 of StructureDefinition-us-core-genderIdentity-definitions.md\n",
      "INFO:httpx:HTTP Request: POST https://api.anthropic.com/v1/messages \"HTTP/1.1 200 OK\"\n",
      "INFO:root:Processing single file: StructureDefinition-uscdi-requirement-definitions.md\n",
      "INFO:root:Split StructureDefinition-uscdi-requirement-definitions.md into 1 chunks using dynamic sizing\n",
      "INFO:root:Processing chunk 1/1 of StructureDefinition-uscdi-requirement-definitions.md\n",
      "INFO:httpx:HTTP Request: POST https://api.anthropic.com/v1/messages \"HTTP/1.1 200 OK\"\n",
      "INFO:root:Processing single file: StructureDefinition-us-core-sex-definitions.md\n",
      "INFO:root:Split StructureDefinition-us-core-sex-definitions.md into 1 chunks using dynamic sizing\n",
      "INFO:root:Processing chunk 1/1 of StructureDefinition-us-core-sex-definitions.md\n",
      "INFO:httpx:HTTP Request: POST https://api.anthropic.com/v1/messages \"HTTP/1.1 200 OK\"\n",
      "INFO:root:Processing single file: StructureDefinition-us-core-authentication-time-definitions.md\n",
      "INFO:root:Split StructureDefinition-us-core-authentication-time-definitions.md into 1 chunks using dynamic sizing\n",
      "INFO:root:Processing chunk 1/1 of StructureDefinition-us-core-authentication-time-definitions.md\n",
      "INFO:httpx:HTTP Request: POST https://api.anthropic.com/v1/messages \"HTTP/1.1 200 OK\"\n",
      "INFO:root:Processing single file: StructureDefinition-us-core-birthsex-definitions.md\n",
      "INFO:root:Split StructureDefinition-us-core-birthsex-definitions.md into 1 chunks using dynamic sizing\n",
      "INFO:root:Processing chunk 1/1 of StructureDefinition-us-core-birthsex-definitions.md\n",
      "INFO:httpx:HTTP Request: POST https://api.anthropic.com/v1/messages \"HTTP/1.1 200 OK\"\n",
      "INFO:root:Processing single file: StructureDefinition-us-core-extension-questionnaire-uri-definitions.md\n",
      "INFO:root:Split StructureDefinition-us-core-extension-questionnaire-uri-definitions.md into 1 chunks using dynamic sizing\n",
      "INFO:root:Processing chunk 1/1 of StructureDefinition-us-core-extension-questionnaire-uri-definitions.md\n",
      "INFO:httpx:HTTP Request: POST https://api.anthropic.com/v1/messages \"HTTP/1.1 200 OK\"\n",
      "INFO:root:Processing single file: StructureDefinition-us-core-jurisdiction-definitions.md\n",
      "INFO:root:Split StructureDefinition-us-core-jurisdiction-definitions.md into 1 chunks using dynamic sizing\n",
      "INFO:root:Processing chunk 1/1 of StructureDefinition-us-core-jurisdiction-definitions.md\n",
      "INFO:httpx:HTTP Request: POST https://api.anthropic.com/v1/messages \"HTTP/1.1 200 OK\"\n",
      "INFO:root:Processing single file: writing-vital-signs.md\n",
      "INFO:root:Split writing-vital-signs.md into 1 chunks using dynamic sizing\n",
      "INFO:root:Processing chunk 1/1 of writing-vital-signs.md\n",
      "INFO:httpx:HTTP Request: POST https://api.anthropic.com/v1/messages \"HTTP/1.1 200 OK\"\n",
      "INFO:root:Processing single file: StructureDefinition-us-core-interpreter-needed-definitions.md\n",
      "INFO:root:Split StructureDefinition-us-core-interpreter-needed-definitions.md into 1 chunks using dynamic sizing\n",
      "INFO:root:Processing chunk 1/1 of StructureDefinition-us-core-interpreter-needed-definitions.md\n",
      "INFO:httpx:HTTP Request: POST https://api.anthropic.com/v1/messages \"HTTP/1.1 200 OK\"\n",
      "INFO:root:Processing single file: index.md\n",
      "INFO:root:Split index.md into 1 chunks using dynamic sizing\n",
      "INFO:root:Processing chunk 1/1 of index.md\n",
      "INFO:httpx:HTTP Request: POST https://api.anthropic.com/v1/messages \"HTTP/1.1 200 OK\"\n",
      "INFO:root:Processing single file: observation-summary.md\n",
      "INFO:root:Split observation-summary.md into 1 chunks using dynamic sizing\n",
      "INFO:root:Processing chunk 1/1 of observation-summary.md\n",
      "INFO:httpx:HTTP Request: POST https://api.anthropic.com/v1/messages \"HTTP/1.1 200 OK\"\n",
      "INFO:root:Processing single file: examples.md\n",
      "INFO:root:Split examples.md into 1 chunks using dynamic sizing\n",
      "INFO:root:Processing chunk 1/1 of examples.md\n",
      "INFO:httpx:HTTP Request: POST https://api.anthropic.com/v1/messages \"HTTP/1.1 200 OK\"\n",
      "INFO:root:Processing single file: scopes.md\n",
      "INFO:root:Split scopes.md into 1 chunks using dynamic sizing\n",
      "INFO:root:Processing chunk 1/1 of scopes.md\n",
      "INFO:httpx:HTTP Request: POST https://api.anthropic.com/v1/messages \"HTTP/1.1 200 OK\"\n",
      "INFO:root:Processing single file: StructureDefinition-us-core-jurisdiction.md\n",
      "INFO:root:Split StructureDefinition-us-core-jurisdiction.md into 1 chunks using dynamic sizing\n",
      "INFO:root:Processing chunk 1/1 of StructureDefinition-us-core-jurisdiction.md\n",
      "INFO:httpx:HTTP Request: POST https://api.anthropic.com/v1/messages \"HTTP/1.1 200 OK\"\n",
      "INFO:root:Processing single file: general-guidance.md\n",
      "INFO:root:Split general-guidance.md into 1 chunks using dynamic sizing\n",
      "INFO:root:Processing chunk 1/1 of general-guidance.md\n",
      "INFO:httpx:HTTP Request: POST https://api.anthropic.com/v1/messages \"HTTP/1.1 200 OK\"\n",
      "INFO:root:Processing single file: StructureDefinition-us-core-tribal-affiliation.md\n",
      "INFO:root:Split StructureDefinition-us-core-tribal-affiliation.md into 1 chunks using dynamic sizing\n",
      "INFO:root:Processing chunk 1/1 of StructureDefinition-us-core-tribal-affiliation.md\n",
      "INFO:httpx:HTTP Request: POST https://api.anthropic.com/v1/messages \"HTTP/1.1 200 OK\"\n",
      "INFO:root:Processing single file: clinical-notes.md\n",
      "INFO:root:Split clinical-notes.md into 1 chunks using dynamic sizing\n",
      "INFO:root:Processing chunk 1/1 of clinical-notes.md\n",
      "INFO:httpx:HTTP Request: POST https://api.anthropic.com/v1/messages \"HTTP/1.1 200 OK\"\n",
      "INFO:root:Processing single file: general-requirements.md\n",
      "INFO:root:Split general-requirements.md into 1 chunks using dynamic sizing\n",
      "INFO:root:Processing chunk 1/1 of general-requirements.md\n",
      "INFO:httpx:HTTP Request: POST https://api.anthropic.com/v1/messages \"HTTP/1.1 200 OK\"\n",
      "INFO:root:Processing single file: uscdi.md\n",
      "INFO:root:Split uscdi.md into 1 chunks using dynamic sizing\n",
      "INFO:root:Processing chunk 1/1 of uscdi.md\n",
      "INFO:httpx:HTTP Request: POST https://api.anthropic.com/v1/messages \"HTTP/1.1 200 OK\"\n",
      "INFO:root:Processing single file: StructureDefinition-us-core-ethnicity.md\n",
      "INFO:root:Split StructureDefinition-us-core-ethnicity.md into 1 chunks using dynamic sizing\n",
      "INFO:root:Processing chunk 1/1 of StructureDefinition-us-core-ethnicity.md\n",
      "INFO:httpx:HTTP Request: POST https://api.anthropic.com/v1/messages \"HTTP/1.1 200 OK\"\n",
      "INFO:root:Processing single file: StructureDefinition-us-core-medication-adherence.md\n",
      "INFO:root:Split StructureDefinition-us-core-medication-adherence.md into 1 chunks using dynamic sizing\n",
      "INFO:root:Processing chunk 1/1 of StructureDefinition-us-core-medication-adherence.md\n",
      "INFO:httpx:HTTP Request: POST https://api.anthropic.com/v1/messages \"HTTP/1.1 200 OK\"\n",
      "INFO:root:Processing single file: StructureDefinition-us-core-race.md\n",
      "INFO:root:Split StructureDefinition-us-core-race.md into 1 chunks using dynamic sizing\n",
      "INFO:root:Processing chunk 1/1 of StructureDefinition-us-core-race.md\n",
      "INFO:httpx:HTTP Request: POST https://api.anthropic.com/v1/messages \"HTTP/1.1 200 OK\"\n",
      "INFO:root:Processing single file: basic-provenance.md\n",
      "INFO:root:Split basic-provenance.md into 1 chunks using dynamic sizing\n",
      "INFO:root:Processing chunk 1/1 of basic-provenance.md\n",
      "INFO:httpx:HTTP Request: POST https://api.anthropic.com/v1/messages \"HTTP/1.1 200 OK\"\n",
      "INFO:root:Processing single file: screening-and-assessments.md\n",
      "INFO:root:Split screening-and-assessments.md into 1 chunks using dynamic sizing\n",
      "INFO:root:Processing chunk 1/1 of screening-and-assessments.md\n",
      "INFO:httpx:HTTP Request: POST https://api.anthropic.com/v1/messages \"HTTP/1.1 200 OK\"\n",
      "INFO:root:Processing single file: StructureDefinition-us-core-tribal-affiliation-definitions.md\n",
      "INFO:root:Split StructureDefinition-us-core-tribal-affiliation-definitions.md into 1 chunks using dynamic sizing\n",
      "INFO:root:Processing chunk 1/1 of StructureDefinition-us-core-tribal-affiliation-definitions.md\n",
      "INFO:httpx:HTTP Request: POST https://api.anthropic.com/v1/messages \"HTTP/1.1 200 OK\"\n",
      "INFO:root:Processing single file: StructureDefinition-us-core-medication-definitions.md\n",
      "INFO:root:Split StructureDefinition-us-core-medication-definitions.md into 1 chunks using dynamic sizing\n",
      "INFO:root:Processing chunk 1/1 of StructureDefinition-us-core-medication-definitions.md\n",
      "INFO:httpx:HTTP Request: POST https://api.anthropic.com/v1/messages \"HTTP/1.1 200 OK\"\n",
      "INFO:root:Processing single file: StructureDefinition-us-core-relatedperson-definitions.md\n",
      "INFO:root:Split StructureDefinition-us-core-relatedperson-definitions.md into 1 chunks using dynamic sizing\n",
      "INFO:root:Processing chunk 1/1 of StructureDefinition-us-core-relatedperson-definitions.md\n",
      "INFO:httpx:HTTP Request: POST https://api.anthropic.com/v1/messages \"HTTP/1.1 200 OK\"\n",
      "INFO:root:Processing single file: must-support.md\n",
      "INFO:root:Split must-support.md into 1 chunks using dynamic sizing\n",
      "INFO:root:Processing chunk 1/1 of must-support.md\n",
      "INFO:httpx:HTTP Request: POST https://api.anthropic.com/v1/messages \"HTTP/1.1 200 OK\"\n",
      "INFO:root:Processing single file: StructureDefinition-us-core-careteam-definitions.md\n",
      "INFO:root:Split StructureDefinition-us-core-careteam-definitions.md into 1 chunks using dynamic sizing\n",
      "INFO:root:Processing chunk 1/1 of StructureDefinition-us-core-careteam-definitions.md\n",
      "INFO:httpx:HTTP Request: POST https://api.anthropic.com/v1/messages \"HTTP/1.1 200 OK\"\n",
      "INFO:root:Processing single file: StructureDefinition-us-core-medication-adherence-definitions.md\n",
      "INFO:root:Split StructureDefinition-us-core-medication-adherence-definitions.md into 1 chunks using dynamic sizing\n",
      "INFO:root:Processing chunk 1/1 of StructureDefinition-us-core-medication-adherence-definitions.md\n",
      "INFO:httpx:HTTP Request: POST https://api.anthropic.com/v1/messages \"HTTP/1.1 200 OK\"\n",
      "INFO:root:Processing single file: StructureDefinition-us-core-ethnicity-definitions.md\n",
      "INFO:root:Split StructureDefinition-us-core-ethnicity-definitions.md into 1 chunks using dynamic sizing\n",
      "INFO:root:Processing chunk 1/1 of StructureDefinition-us-core-ethnicity-definitions.md\n",
      "INFO:httpx:HTTP Request: POST https://api.anthropic.com/v1/messages \"HTTP/1.1 200 OK\"\n",
      "INFO:root:Processing single file: toc.md\n",
      "INFO:root:Split toc.md into 1 chunks using dynamic sizing\n",
      "INFO:root:Processing chunk 1/1 of toc.md\n",
      "INFO:httpx:HTTP Request: POST https://api.anthropic.com/v1/messages \"HTTP/1.1 200 OK\"\n",
      "INFO:root:Processing single file: medication-list.md\n",
      "INFO:root:Split medication-list.md into 1 chunks using dynamic sizing\n",
      "INFO:root:Processing chunk 1/1 of medication-list.md\n",
      "INFO:httpx:HTTP Request: POST https://api.anthropic.com/v1/messages \"HTTP/1.1 200 OK\"\n",
      "INFO:root:Processing single file: StructureDefinition-us-core-race-definitions.md\n",
      "INFO:root:Split StructureDefinition-us-core-race-definitions.md into 1 chunks using dynamic sizing\n",
      "INFO:root:Processing chunk 1/1 of StructureDefinition-us-core-race-definitions.md\n",
      "INFO:httpx:HTTP Request: POST https://api.anthropic.com/v1/messages \"HTTP/1.1 200 OK\"\n",
      "INFO:root:Processing single file: StructureDefinition-us-core-medication.md\n",
      "INFO:root:Split StructureDefinition-us-core-medication.md into 1 chunks using dynamic sizing\n",
      "INFO:root:Processing chunk 1/1 of StructureDefinition-us-core-medication.md\n",
      "INFO:httpx:HTTP Request: POST https://api.anthropic.com/v1/messages \"HTTP/1.1 200 OK\"\n",
      "INFO:root:Processing single file: StructureDefinition-us-core-goal-definitions.md\n",
      "INFO:root:Split StructureDefinition-us-core-goal-definitions.md into 1 chunks using dynamic sizing\n",
      "INFO:root:Processing chunk 1/1 of StructureDefinition-us-core-goal-definitions.md\n",
      "INFO:httpx:HTTP Request: POST https://api.anthropic.com/v1/messages \"HTTP/1.1 200 OK\"\n",
      "INFO:root:Processing single file: StructureDefinition-us-core-relatedperson.md\n",
      "INFO:root:Split StructureDefinition-us-core-relatedperson.md into 1 chunks using dynamic sizing\n",
      "INFO:root:Processing chunk 1/1 of StructureDefinition-us-core-relatedperson.md\n",
      "INFO:httpx:HTTP Request: POST https://api.anthropic.com/v1/messages \"HTTP/1.1 200 OK\"\n",
      "INFO:root:Processing single file: StructureDefinition-us-core-practitionerrole-definitions.md\n",
      "INFO:root:Split StructureDefinition-us-core-practitionerrole-definitions.md into 1 chunks using dynamic sizing\n",
      "INFO:root:Processing chunk 1/1 of StructureDefinition-us-core-practitionerrole-definitions.md\n",
      "INFO:httpx:HTTP Request: POST https://api.anthropic.com/v1/messages \"HTTP/1.1 502 Bad Gateway\"\n",
      "INFO:anthropic._base_client:Retrying request to /v1/messages in 0.446270 seconds\n",
      "INFO:httpx:HTTP Request: POST https://api.anthropic.com/v1/messages \"HTTP/1.1 200 OK\"\n",
      "INFO:root:Processing single file: StructureDefinition-us-core-specimen-definitions.md\n",
      "INFO:root:Split StructureDefinition-us-core-specimen-definitions.md into 1 chunks using dynamic sizing\n",
      "INFO:root:Processing chunk 1/1 of StructureDefinition-us-core-specimen-definitions.md\n",
      "INFO:httpx:HTTP Request: POST https://api.anthropic.com/v1/messages \"HTTP/1.1 200 OK\"\n",
      "INFO:root:Processing single file: StructureDefinition-us-core-condition-encounter-diagnosis-definitions.md\n",
      "INFO:root:Split StructureDefinition-us-core-condition-encounter-diagnosis-definitions.md into 1 chunks using dynamic sizing\n",
      "INFO:root:Processing chunk 1/1 of StructureDefinition-us-core-condition-encounter-diagnosis-definitions.md\n",
      "INFO:httpx:HTTP Request: POST https://api.anthropic.com/v1/messages \"HTTP/1.1 200 OK\"\n",
      "INFO:root:Processing single file: StructureDefinition-us-core-allergyintolerance-definitions.md\n",
      "INFO:root:Split StructureDefinition-us-core-allergyintolerance-definitions.md into 1 chunks using dynamic sizing\n",
      "INFO:root:Processing chunk 1/1 of StructureDefinition-us-core-allergyintolerance-definitions.md\n",
      "INFO:httpx:HTTP Request: POST https://api.anthropic.com/v1/messages \"HTTP/1.1 200 OK\"\n",
      "INFO:root:Processing single file: StructureDefinition-us-core-careteam.md\n",
      "INFO:root:Split StructureDefinition-us-core-careteam.md into 1 chunks using dynamic sizing\n",
      "INFO:root:Processing chunk 1/1 of StructureDefinition-us-core-careteam.md\n",
      "INFO:httpx:HTTP Request: POST https://api.anthropic.com/v1/messages \"HTTP/1.1 200 OK\"\n",
      "INFO:root:Processing single file: StructureDefinition-us-core-diagnosticreport-note-definitions.md\n",
      "INFO:root:Split StructureDefinition-us-core-diagnosticreport-note-definitions.md into 1 chunks using dynamic sizing\n",
      "INFO:root:Processing chunk 1/1 of StructureDefinition-us-core-diagnosticreport-note-definitions.md\n",
      "INFO:httpx:HTTP Request: POST https://api.anthropic.com/v1/messages \"HTTP/1.1 200 OK\"\n",
      "INFO:root:Processing single file: StructureDefinition-us-core-procedure-definitions.md\n",
      "INFO:root:Split StructureDefinition-us-core-procedure-definitions.md into 1 chunks using dynamic sizing\n",
      "INFO:root:Processing chunk 1/1 of StructureDefinition-us-core-procedure-definitions.md\n",
      "INFO:httpx:HTTP Request: POST https://api.anthropic.com/v1/messages \"HTTP/1.1 200 OK\"\n",
      "INFO:root:Processing single file: terminology.md\n",
      "INFO:root:Split terminology.md into 1 chunks using dynamic sizing\n",
      "INFO:root:Processing chunk 1/1 of terminology.md\n",
      "INFO:httpx:HTTP Request: POST https://api.anthropic.com/v1/messages \"HTTP/1.1 200 OK\"\n",
      "INFO:root:Processing single file: StructureDefinition-us-core-goal.md\n",
      "INFO:root:Split StructureDefinition-us-core-goal.md into 1 chunks using dynamic sizing\n",
      "INFO:root:Processing chunk 1/1 of StructureDefinition-us-core-goal.md\n",
      "INFO:httpx:HTTP Request: POST https://api.anthropic.com/v1/messages \"HTTP/1.1 200 OK\"\n",
      "INFO:root:Processing single file: StructureDefinition-us-core-diagnosticreport-lab-definitions.md\n",
      "INFO:root:Split StructureDefinition-us-core-diagnosticreport-lab-definitions.md into 1 chunks using dynamic sizing\n",
      "INFO:root:Processing chunk 1/1 of StructureDefinition-us-core-diagnosticreport-lab-definitions.md\n",
      "INFO:httpx:HTTP Request: POST https://api.anthropic.com/v1/messages \"HTTP/1.1 200 OK\"\n",
      "INFO:root:Processing single file: ImplementationGuide-hl7.fhir.us.core.md\n",
      "INFO:root:Split ImplementationGuide-hl7.fhir.us.core.md into 1 chunks using dynamic sizing\n",
      "INFO:root:Processing chunk 1/1 of ImplementationGuide-hl7.fhir.us.core.md\n",
      "INFO:httpx:HTTP Request: POST https://api.anthropic.com/v1/messages \"HTTP/1.1 200 OK\"\n",
      "INFO:root:Processing single file: StructureDefinition-us-core-implantable-device-definitions.md\n",
      "INFO:root:Split StructureDefinition-us-core-implantable-device-definitions.md into 1 chunks using dynamic sizing\n",
      "INFO:root:Processing chunk 1/1 of StructureDefinition-us-core-implantable-device-definitions.md\n",
      "INFO:httpx:HTTP Request: POST https://api.anthropic.com/v1/messages \"HTTP/1.1 200 OK\"\n",
      "INFO:root:Processing single file: StructureDefinition-us-core-servicerequest-definitions.md\n",
      "INFO:root:Split StructureDefinition-us-core-servicerequest-definitions.md into 1 chunks using dynamic sizing\n",
      "INFO:root:Processing chunk 1/1 of StructureDefinition-us-core-servicerequest-definitions.md\n",
      "INFO:httpx:HTTP Request: POST https://api.anthropic.com/v1/messages \"HTTP/1.1 200 OK\"\n",
      "INFO:root:Processing single file: StructureDefinition-us-core-observation-sexual-orientation-definitions.md\n",
      "INFO:root:Split StructureDefinition-us-core-observation-sexual-orientation-definitions.md into 1 chunks using dynamic sizing\n",
      "INFO:root:Processing chunk 1/1 of StructureDefinition-us-core-observation-sexual-orientation-definitions.md\n",
      "INFO:httpx:HTTP Request: POST https://api.anthropic.com/v1/messages \"HTTP/1.1 200 OK\"\n",
      "INFO:root:Processing single file: StructureDefinition-us-core-condition-problems-health-concerns-definitions.md\n",
      "INFO:root:Split StructureDefinition-us-core-condition-problems-health-concerns-definitions.md into 1 chunks using dynamic sizing\n",
      "INFO:root:Processing chunk 1/1 of StructureDefinition-us-core-condition-problems-health-concerns-definitions.md\n",
      "INFO:httpx:HTTP Request: POST https://api.anthropic.com/v1/messages \"HTTP/1.1 200 OK\"\n",
      "INFO:root:Processing single file: StructureDefinition-us-core-immunization-definitions.md\n",
      "INFO:root:Split StructureDefinition-us-core-immunization-definitions.md into 1 chunks using dynamic sizing\n",
      "INFO:root:Processing chunk 1/1 of StructureDefinition-us-core-immunization-definitions.md\n",
      "INFO:httpx:HTTP Request: POST https://api.anthropic.com/v1/messages \"HTTP/1.1 529 \"\n",
      "INFO:anthropic._base_client:Retrying request to /v1/messages in 0.425090 seconds\n",
      "INFO:httpx:HTTP Request: POST https://api.anthropic.com/v1/messages \"HTTP/1.1 200 OK\"\n",
      "INFO:root:Processing single file: StructureDefinition-us-core-location-definitions.md\n",
      "INFO:root:Split StructureDefinition-us-core-location-definitions.md into 1 chunks using dynamic sizing\n",
      "INFO:root:Processing chunk 1/1 of StructureDefinition-us-core-location-definitions.md\n",
      "INFO:httpx:HTTP Request: POST https://api.anthropic.com/v1/messages \"HTTP/1.1 200 OK\"\n",
      "INFO:root:Processing single file: CapabilityStatement-us-core-client.md\n",
      "INFO:root:Split CapabilityStatement-us-core-client.md into 1 chunks using dynamic sizing\n",
      "INFO:root:Processing chunk 1/1 of CapabilityStatement-us-core-client.md\n",
      "INFO:httpx:HTTP Request: POST https://api.anthropic.com/v1/messages \"HTTP/1.1 200 OK\"\n",
      "INFO:root:Processing single file: StructureDefinition-us-core-care-experience-preference-definitions.md\n",
      "INFO:root:Split StructureDefinition-us-core-care-experience-preference-definitions.md into 1 chunks using dynamic sizing\n",
      "INFO:root:Processing chunk 1/1 of StructureDefinition-us-core-care-experience-preference-definitions.md\n",
      "INFO:httpx:HTTP Request: POST https://api.anthropic.com/v1/messages \"HTTP/1.1 200 OK\"\n",
      "INFO:root:Processing single file: StructureDefinition-us-core-treatment-intervention-preference-definitions.md\n",
      "INFO:root:Split StructureDefinition-us-core-treatment-intervention-preference-definitions.md into 1 chunks using dynamic sizing\n",
      "INFO:root:Processing chunk 1/1 of StructureDefinition-us-core-treatment-intervention-preference-definitions.md\n",
      "INFO:httpx:HTTP Request: POST https://api.anthropic.com/v1/messages \"HTTP/1.1 200 OK\"\n",
      "INFO:root:Processing single file: ValueSet-us-core-condition-code-current.md\n",
      "INFO:root:Split ValueSet-us-core-condition-code-current.md into 1 chunks using dynamic sizing\n",
      "INFO:root:Processing chunk 1/1 of ValueSet-us-core-condition-code-current.md\n",
      "INFO:httpx:HTTP Request: POST https://api.anthropic.com/v1/messages \"HTTP/1.1 200 OK\"\n",
      "INFO:root:Processing single file: CapabilityStatement-us-core-server.md\n",
      "INFO:root:Split CapabilityStatement-us-core-server.md into 1 chunks using dynamic sizing\n",
      "INFO:root:Processing chunk 1/1 of CapabilityStatement-us-core-server.md\n",
      "INFO:httpx:HTTP Request: POST https://api.anthropic.com/v1/messages \"HTTP/1.1 200 OK\"\n",
      "INFO:root:Processing single file: ValueSet-us-core-diagnosticreport-report-and-note-codes.md\n",
      "INFO:root:Split ValueSet-us-core-diagnosticreport-report-and-note-codes.md into 1 chunks using dynamic sizing\n",
      "INFO:root:Processing chunk 1/1 of ValueSet-us-core-diagnosticreport-report-and-note-codes.md\n",
      "INFO:httpx:HTTP Request: POST https://api.anthropic.com/v1/messages \"HTTP/1.1 200 OK\"\n",
      "INFO:root:Processing single file: StructureDefinition-us-core-specimen.md\n",
      "INFO:root:Split StructureDefinition-us-core-specimen.md into 1 chunks using dynamic sizing\n",
      "INFO:root:Processing chunk 1/1 of StructureDefinition-us-core-specimen.md\n",
      "INFO:httpx:HTTP Request: POST https://api.anthropic.com/v1/messages \"HTTP/1.1 200 OK\"\n",
      "INFO:root:Processing single file: StructureDefinition-us-core-questionnaireresponse-definitions.md\n",
      "INFO:root:Split StructureDefinition-us-core-questionnaireresponse-definitions.md into 1 chunks using dynamic sizing\n",
      "INFO:root:Processing chunk 1/1 of StructureDefinition-us-core-questionnaireresponse-definitions.md\n",
      "INFO:httpx:HTTP Request: POST https://api.anthropic.com/v1/messages \"HTTP/1.1 200 OK\"\n",
      "INFO:root:Processing single file: StructureDefinition-us-core-practitionerrole.md\n",
      "INFO:root:Split StructureDefinition-us-core-practitionerrole.md into 1 chunks using dynamic sizing\n",
      "INFO:root:Processing chunk 1/1 of StructureDefinition-us-core-practitionerrole.md\n",
      "INFO:httpx:HTTP Request: POST https://api.anthropic.com/v1/messages \"HTTP/1.1 200 OK\"\n",
      "INFO:root:Processing single file: StructureDefinition-us-core-observation-pregnancystatus-definitions.md\n",
      "INFO:root:Split StructureDefinition-us-core-observation-pregnancystatus-definitions.md into 1 chunks using dynamic sizing\n",
      "INFO:root:Processing chunk 1/1 of StructureDefinition-us-core-observation-pregnancystatus-definitions.md\n",
      "INFO:httpx:HTTP Request: POST https://api.anthropic.com/v1/messages \"HTTP/1.1 200 OK\"\n",
      "INFO:root:Processing single file: StructureDefinition-us-core-observation-pregnancyintent-definitions.md\n",
      "INFO:root:Split StructureDefinition-us-core-observation-pregnancyintent-definitions.md into 1 chunks using dynamic sizing\n",
      "INFO:root:Processing chunk 1/1 of StructureDefinition-us-core-observation-pregnancyintent-definitions.md\n",
      "INFO:httpx:HTTP Request: POST https://api.anthropic.com/v1/messages \"HTTP/1.1 200 OK\"\n",
      "INFO:root:Processing single file: StructureDefinition-us-core-allergyintolerance.md\n",
      "INFO:root:Split StructureDefinition-us-core-allergyintolerance.md into 1 chunks using dynamic sizing\n",
      "INFO:root:Processing chunk 1/1 of StructureDefinition-us-core-allergyintolerance.md\n",
      "INFO:httpx:HTTP Request: POST https://api.anthropic.com/v1/messages \"HTTP/1.1 200 OK\"\n",
      "INFO:root:Processing single file: StructureDefinition-us-core-simple-observation-definitions.md\n",
      "INFO:root:Split StructureDefinition-us-core-simple-observation-definitions.md into 1 chunks using dynamic sizing\n",
      "INFO:root:Processing chunk 1/1 of StructureDefinition-us-core-simple-observation-definitions.md\n",
      "INFO:httpx:HTTP Request: POST https://api.anthropic.com/v1/messages \"HTTP/1.1 200 OK\"\n",
      "INFO:root:Processing single file: StructureDefinition-us-core-careplan-definitions.md\n",
      "INFO:root:Split StructureDefinition-us-core-careplan-definitions.md into 1 chunks using dynamic sizing\n",
      "INFO:root:Processing chunk 1/1 of StructureDefinition-us-core-careplan-definitions.md\n",
      "INFO:httpx:HTTP Request: POST https://api.anthropic.com/v1/messages \"HTTP/1.1 200 OK\"\n",
      "INFO:root:Processing single file: StructureDefinition-us-core-observation-clinical-result-definitions.md\n",
      "INFO:root:Split StructureDefinition-us-core-observation-clinical-result-definitions.md into 1 chunks using dynamic sizing\n",
      "INFO:root:Processing chunk 1/1 of StructureDefinition-us-core-observation-clinical-result-definitions.md\n",
      "INFO:httpx:HTTP Request: POST https://api.anthropic.com/v1/messages \"HTTP/1.1 200 OK\"\n",
      "INFO:root:Processing single file: StructureDefinition-us-core-provenance-definitions.md\n",
      "INFO:root:Split StructureDefinition-us-core-provenance-definitions.md into 1 chunks using dynamic sizing\n",
      "INFO:root:Processing chunk 1/1 of StructureDefinition-us-core-provenance-definitions.md\n",
      "INFO:httpx:HTTP Request: POST https://api.anthropic.com/v1/messages \"HTTP/1.1 200 OK\"\n",
      "INFO:root:Processing single file: StructureDefinition-us-core-diagnosticreport-note.md\n",
      "INFO:root:Split StructureDefinition-us-core-diagnosticreport-note.md into 1 chunks using dynamic sizing\n",
      "INFO:root:Processing chunk 1/1 of StructureDefinition-us-core-diagnosticreport-note.md\n",
      "INFO:httpx:HTTP Request: POST https://api.anthropic.com/v1/messages \"HTTP/1.1 200 OK\"\n",
      "INFO:root:Processing single file: StructureDefinition-us-core-adi-documentreference-definitions.md\n",
      "INFO:root:Split StructureDefinition-us-core-adi-documentreference-definitions.md into 1 chunks using dynamic sizing\n",
      "INFO:root:Processing chunk 1/1 of StructureDefinition-us-core-adi-documentreference-definitions.md\n",
      "INFO:httpx:HTTP Request: POST https://api.anthropic.com/v1/messages \"HTTP/1.1 200 OK\"\n",
      "INFO:root:Processing single file: StructureDefinition-us-core-implantable-device.md\n",
      "INFO:root:Split StructureDefinition-us-core-implantable-device.md into 1 chunks using dynamic sizing\n",
      "INFO:root:Processing chunk 1/1 of StructureDefinition-us-core-implantable-device.md\n",
      "INFO:httpx:HTTP Request: POST https://api.anthropic.com/v1/messages \"HTTP/1.1 200 OK\"\n",
      "INFO:root:Processing single file: StructureDefinition-us-core-documentreference-definitions.md\n",
      "INFO:root:Split StructureDefinition-us-core-documentreference-definitions.md into 1 chunks using dynamic sizing\n",
      "INFO:root:Processing chunk 1/1 of StructureDefinition-us-core-documentreference-definitions.md\n",
      "INFO:httpx:HTTP Request: POST https://api.anthropic.com/v1/messages \"HTTP/1.1 200 OK\"\n",
      "INFO:root:Processing single file: StructureDefinition-us-core-smokingstatus-definitions.md\n",
      "INFO:root:Split StructureDefinition-us-core-smokingstatus-definitions.md into 1 chunks using dynamic sizing\n",
      "INFO:root:Processing chunk 1/1 of StructureDefinition-us-core-smokingstatus-definitions.md\n",
      "INFO:httpx:HTTP Request: POST https://api.anthropic.com/v1/messages \"HTTP/1.1 200 OK\"\n",
      "INFO:root:Processing single file: ValueSet-us-core-documentreference-type.md\n",
      "INFO:root:Split ValueSet-us-core-documentreference-type.md into 1 chunks using dynamic sizing\n",
      "INFO:root:Processing chunk 1/1 of ValueSet-us-core-documentreference-type.md\n",
      "INFO:httpx:HTTP Request: POST https://api.anthropic.com/v1/messages \"HTTP/1.1 200 OK\"\n",
      "INFO:root:Processing single file: StructureDefinition-us-core-observation-adi-documentation-definitions.md\n",
      "INFO:root:Split StructureDefinition-us-core-observation-adi-documentation-definitions.md into 1 chunks using dynamic sizing\n",
      "INFO:root:Processing chunk 1/1 of StructureDefinition-us-core-observation-adi-documentation-definitions.md\n",
      "INFO:httpx:HTTP Request: POST https://api.anthropic.com/v1/messages \"HTTP/1.1 200 OK\"\n",
      "INFO:root:Processing single file: StructureDefinition-us-core-questionnaireresponse.md\n",
      "INFO:root:Split StructureDefinition-us-core-questionnaireresponse.md into 1 chunks using dynamic sizing\n",
      "INFO:root:Processing chunk 1/1 of StructureDefinition-us-core-questionnaireresponse.md\n",
      "INFO:httpx:HTTP Request: POST https://api.anthropic.com/v1/messages \"HTTP/1.1 200 OK\"\n",
      "INFO:root:Processing single file: StructureDefinition-us-core-location.md\n",
      "INFO:root:Split StructureDefinition-us-core-location.md into 1 chunks using dynamic sizing\n",
      "INFO:root:Processing chunk 1/1 of StructureDefinition-us-core-location.md\n",
      "INFO:httpx:HTTP Request: POST https://api.anthropic.com/v1/messages \"HTTP/1.1 200 OK\"\n",
      "INFO:root:Processing single file: StructureDefinition-us-core-procedure.md\n",
      "INFO:root:Split StructureDefinition-us-core-procedure.md into 1 chunks using dynamic sizing\n",
      "INFO:root:Processing chunk 1/1 of StructureDefinition-us-core-procedure.md\n",
      "INFO:httpx:HTTP Request: POST https://api.anthropic.com/v1/messages \"HTTP/1.1 200 OK\"\n",
      "INFO:root:Processing single file: StructureDefinition-us-core-observation-screening-assessment-definitions.md\n",
      "INFO:root:Split StructureDefinition-us-core-observation-screening-assessment-definitions.md into 1 chunks using dynamic sizing\n",
      "INFO:root:Processing chunk 1/1 of StructureDefinition-us-core-observation-screening-assessment-definitions.md\n",
      "INFO:httpx:HTTP Request: POST https://api.anthropic.com/v1/messages \"HTTP/1.1 200 OK\"\n",
      "INFO:root:Processing single file: StructureDefinition-us-core-condition-encounter-diagnosis.md\n",
      "INFO:root:Split StructureDefinition-us-core-condition-encounter-diagnosis.md into 1 chunks using dynamic sizing\n",
      "INFO:root:Processing chunk 1/1 of StructureDefinition-us-core-condition-encounter-diagnosis.md\n",
      "INFO:httpx:HTTP Request: POST https://api.anthropic.com/v1/messages \"HTTP/1.1 200 OK\"\n",
      "INFO:root:Processing single file: StructureDefinition-us-core-medicationdispense-definitions.md\n",
      "INFO:root:Split StructureDefinition-us-core-medicationdispense-definitions.md into 1 chunks using dynamic sizing\n",
      "INFO:root:Processing chunk 1/1 of StructureDefinition-us-core-medicationdispense-definitions.md\n",
      "INFO:httpx:HTTP Request: POST https://api.anthropic.com/v1/messages \"HTTP/1.1 200 OK\"\n",
      "INFO:root:Processing single file: StructureDefinition-us-core-practitioner-definitions.md\n",
      "INFO:root:Split StructureDefinition-us-core-practitioner-definitions.md into 1 chunks using dynamic sizing\n",
      "INFO:root:Processing chunk 1/1 of StructureDefinition-us-core-practitioner-definitions.md\n",
      "INFO:httpx:HTTP Request: POST https://api.anthropic.com/v1/messages \"HTTP/1.1 200 OK\"\n",
      "INFO:root:Processing single file: StructureDefinition-us-core-diagnosticreport-lab.md\n",
      "INFO:root:Split StructureDefinition-us-core-diagnosticreport-lab.md into 1 chunks using dynamic sizing\n",
      "INFO:root:Processing chunk 1/1 of StructureDefinition-us-core-diagnosticreport-lab.md\n",
      "INFO:httpx:HTTP Request: POST https://api.anthropic.com/v1/messages \"HTTP/1.1 200 OK\"\n",
      "INFO:root:Processing single file: StructureDefinition-us-core-immunization.md\n",
      "INFO:root:Split StructureDefinition-us-core-immunization.md into 1 chunks using dynamic sizing\n",
      "INFO:root:Processing chunk 1/1 of StructureDefinition-us-core-immunization.md\n",
      "INFO:httpx:HTTP Request: POST https://api.anthropic.com/v1/messages \"HTTP/1.1 200 OK\"\n",
      "INFO:root:Processing single file: StructureDefinition-us-core-coverage-definitions.md\n",
      "INFO:root:Split StructureDefinition-us-core-coverage-definitions.md into 1 chunks using dynamic sizing\n",
      "INFO:root:Processing chunk 1/1 of StructureDefinition-us-core-coverage-definitions.md\n",
      "INFO:httpx:HTTP Request: POST https://api.anthropic.com/v1/messages \"HTTP/1.1 200 OK\"\n",
      "INFO:root:Processing single file: StructureDefinition-us-core-servicerequest.md\n",
      "INFO:root:Split StructureDefinition-us-core-servicerequest.md into 1 chunks using dynamic sizing\n",
      "INFO:root:Processing chunk 1/1 of StructureDefinition-us-core-servicerequest.md\n",
      "INFO:httpx:HTTP Request: POST https://api.anthropic.com/v1/messages \"HTTP/1.1 200 OK\"\n",
      "INFO:root:Processing single file: ValueSet-us-core-laboratory-test-codes.md\n",
      "INFO:root:Split ValueSet-us-core-laboratory-test-codes.md into 1 chunks using dynamic sizing\n",
      "INFO:root:Processing chunk 1/1 of ValueSet-us-core-laboratory-test-codes.md\n",
      "INFO:httpx:HTTP Request: POST https://api.anthropic.com/v1/messages \"HTTP/1.1 200 OK\"\n",
      "INFO:root:Processing single file: StructureDefinition-us-core-observation-lab-definitions.md\n",
      "INFO:root:Split StructureDefinition-us-core-observation-lab-definitions.md into 1 chunks using dynamic sizing\n",
      "INFO:root:Processing chunk 1/1 of StructureDefinition-us-core-observation-lab-definitions.md\n",
      "INFO:httpx:HTTP Request: POST https://api.anthropic.com/v1/messages \"HTTP/1.1 200 OK\"\n",
      "INFO:root:Processing single file: StructureDefinition-us-core-observation-sexual-orientation.md\n",
      "INFO:root:Split StructureDefinition-us-core-observation-sexual-orientation.md into 1 chunks using dynamic sizing\n",
      "INFO:root:Processing chunk 1/1 of StructureDefinition-us-core-observation-sexual-orientation.md\n",
      "INFO:httpx:HTTP Request: POST https://api.anthropic.com/v1/messages \"HTTP/1.1 200 OK\"\n",
      "INFO:root:Processing single file: StructureDefinition-us-core-observation-occupation-definitions.md\n",
      "INFO:root:Split StructureDefinition-us-core-observation-occupation-definitions.md into 1 chunks using dynamic sizing\n",
      "INFO:root:Processing chunk 1/1 of StructureDefinition-us-core-observation-occupation-definitions.md\n",
      "INFO:httpx:HTTP Request: POST https://api.anthropic.com/v1/messages \"HTTP/1.1 200 OK\"\n",
      "INFO:root:Processing single file: StructureDefinition-us-core-careplan.md\n",
      "INFO:root:Split StructureDefinition-us-core-careplan.md into 1 chunks using dynamic sizing\n",
      "INFO:root:Processing chunk 1/1 of StructureDefinition-us-core-careplan.md\n",
      "INFO:httpx:HTTP Request: POST https://api.anthropic.com/v1/messages \"HTTP/1.1 200 OK\"\n",
      "INFO:root:Processing single file: StructureDefinition-us-core-vital-signs-definitions.md\n",
      "INFO:root:Split StructureDefinition-us-core-vital-signs-definitions.md into 1 chunks using dynamic sizing\n",
      "INFO:root:Processing chunk 1/1 of StructureDefinition-us-core-vital-signs-definitions.md\n",
      "INFO:httpx:HTTP Request: POST https://api.anthropic.com/v1/messages \"HTTP/1.1 200 OK\"\n",
      "INFO:root:Processing single file: StructureDefinition-us-core-practitioner.md\n",
      "INFO:root:Split StructureDefinition-us-core-practitioner.md into 1 chunks using dynamic sizing\n",
      "INFO:root:Processing chunk 1/1 of StructureDefinition-us-core-practitioner.md\n",
      "INFO:httpx:HTTP Request: POST https://api.anthropic.com/v1/messages \"HTTP/1.1 200 OK\"\n",
      "INFO:root:Processing single file: StructureDefinition-us-core-simple-observation.md\n",
      "INFO:root:Split StructureDefinition-us-core-simple-observation.md into 1 chunks using dynamic sizing\n",
      "INFO:root:Processing chunk 1/1 of StructureDefinition-us-core-simple-observation.md\n",
      "INFO:httpx:HTTP Request: POST https://api.anthropic.com/v1/messages \"HTTP/1.1 200 OK\"\n",
      "INFO:root:Processing single file: StructureDefinition-us-core-provenance.md\n",
      "INFO:root:Split StructureDefinition-us-core-provenance.md into 1 chunks using dynamic sizing\n",
      "INFO:root:Processing chunk 1/1 of StructureDefinition-us-core-provenance.md\n",
      "INFO:httpx:HTTP Request: POST https://api.anthropic.com/v1/messages \"HTTP/1.1 200 OK\"\n",
      "INFO:root:Processing single file: StructureDefinition-us-core-observation-pregnancystatus.md\n",
      "INFO:root:Split StructureDefinition-us-core-observation-pregnancystatus.md into 1 chunks using dynamic sizing\n",
      "INFO:root:Processing chunk 1/1 of StructureDefinition-us-core-observation-pregnancystatus.md\n",
      "INFO:httpx:HTTP Request: POST https://api.anthropic.com/v1/messages \"HTTP/1.1 200 OK\"\n",
      "INFO:root:Processing single file: StructureDefinition-us-core-care-experience-preference.md\n",
      "INFO:root:Split StructureDefinition-us-core-care-experience-preference.md into 1 chunks using dynamic sizing\n",
      "INFO:root:Processing chunk 1/1 of StructureDefinition-us-core-care-experience-preference.md\n",
      "INFO:httpx:HTTP Request: POST https://api.anthropic.com/v1/messages \"HTTP/1.1 200 OK\"\n",
      "INFO:root:Processing single file: StructureDefinition-us-core-observation-pregnancyintent.md\n",
      "INFO:root:Split StructureDefinition-us-core-observation-pregnancyintent.md into 1 chunks using dynamic sizing\n",
      "INFO:root:Processing chunk 1/1 of StructureDefinition-us-core-observation-pregnancyintent.md\n",
      "INFO:httpx:HTTP Request: POST https://api.anthropic.com/v1/messages \"HTTP/1.1 200 OK\"\n",
      "INFO:root:Processing single file: StructureDefinition-us-core-treatment-intervention-preference.md\n",
      "INFO:root:Split StructureDefinition-us-core-treatment-intervention-preference.md into 1 chunks using dynamic sizing\n",
      "INFO:root:Processing chunk 1/1 of StructureDefinition-us-core-treatment-intervention-preference.md\n",
      "INFO:httpx:HTTP Request: POST https://api.anthropic.com/v1/messages \"HTTP/1.1 200 OK\"\n",
      "INFO:root:Processing single file: StructureDefinition-us-core-observation-clinical-result.md\n",
      "INFO:root:Split StructureDefinition-us-core-observation-clinical-result.md into 1 chunks using dynamic sizing\n",
      "INFO:root:Processing chunk 1/1 of StructureDefinition-us-core-observation-clinical-result.md\n",
      "INFO:httpx:HTTP Request: POST https://api.anthropic.com/v1/messages \"HTTP/1.1 200 OK\"\n",
      "INFO:root:Processing single file: StructureDefinition-us-core-adi-documentreference.md\n",
      "INFO:root:Split StructureDefinition-us-core-adi-documentreference.md into 1 chunks using dynamic sizing\n",
      "INFO:root:Processing chunk 1/1 of StructureDefinition-us-core-adi-documentreference.md\n",
      "INFO:httpx:HTTP Request: POST https://api.anthropic.com/v1/messages \"HTTP/1.1 200 OK\"\n",
      "INFO:root:Processing single file: StructureDefinition-us-core-condition-problems-health-concerns.md\n",
      "INFO:root:Split StructureDefinition-us-core-condition-problems-health-concerns.md into 1 chunks using dynamic sizing\n",
      "INFO:root:Processing chunk 1/1 of StructureDefinition-us-core-condition-problems-health-concerns.md\n",
      "INFO:httpx:HTTP Request: POST https://api.anthropic.com/v1/messages \"HTTP/1.1 200 OK\"\n",
      "INFO:root:Processing single file: StructureDefinition-us-core-organization-definitions.md\n",
      "INFO:root:Split StructureDefinition-us-core-organization-definitions.md into 1 chunks using dynamic sizing\n",
      "INFO:root:Processing chunk 1/1 of StructureDefinition-us-core-organization-definitions.md\n",
      "INFO:httpx:HTTP Request: POST https://api.anthropic.com/v1/messages \"HTTP/1.1 200 OK\"\n",
      "INFO:root:Processing single file: StructureDefinition-us-core-heart-rate-definitions.md\n",
      "INFO:root:Split StructureDefinition-us-core-heart-rate-definitions.md into 1 chunks using dynamic sizing\n",
      "INFO:root:Processing chunk 1/1 of StructureDefinition-us-core-heart-rate-definitions.md\n",
      "INFO:httpx:HTTP Request: POST https://api.anthropic.com/v1/messages \"HTTP/1.1 200 OK\"\n",
      "INFO:root:Processing single file: StructureDefinition-us-core-respiratory-rate-definitions.md\n",
      "INFO:root:Split StructureDefinition-us-core-respiratory-rate-definitions.md into 1 chunks using dynamic sizing\n",
      "INFO:root:Processing chunk 1/1 of StructureDefinition-us-core-respiratory-rate-definitions.md\n",
      "INFO:httpx:HTTP Request: POST https://api.anthropic.com/v1/messages \"HTTP/1.1 200 OK\"\n",
      "INFO:root:Processing single file: StructureDefinition-us-core-bmi-definitions.md\n",
      "INFO:root:Split StructureDefinition-us-core-bmi-definitions.md into 1 chunks using dynamic sizing\n",
      "INFO:root:Processing chunk 1/1 of StructureDefinition-us-core-bmi-definitions.md\n",
      "INFO:httpx:HTTP Request: POST https://api.anthropic.com/v1/messages \"HTTP/1.1 200 OK\"\n",
      "INFO:root:Processing single file: StructureDefinition-pediatric-bmi-for-age-definitions.md\n",
      "INFO:root:Split StructureDefinition-pediatric-bmi-for-age-definitions.md into 1 chunks using dynamic sizing\n",
      "INFO:root:Processing chunk 1/1 of StructureDefinition-pediatric-bmi-for-age-definitions.md\n",
      "INFO:httpx:HTTP Request: POST https://api.anthropic.com/v1/messages \"HTTP/1.1 200 OK\"\n",
      "INFO:root:Processing single file: StructureDefinition-pediatric-weight-for-height-definitions.md\n",
      "INFO:root:Split StructureDefinition-pediatric-weight-for-height-definitions.md into 1 chunks using dynamic sizing\n",
      "INFO:root:Processing chunk 1/1 of StructureDefinition-pediatric-weight-for-height-definitions.md\n",
      "INFO:httpx:HTTP Request: POST https://api.anthropic.com/v1/messages \"HTTP/1.1 200 OK\"\n",
      "INFO:root:Processing single file: StructureDefinition-head-occipital-frontal-circumference-percentile-definitions.md\n",
      "INFO:root:Split StructureDefinition-head-occipital-frontal-circumference-percentile-definitions.md into 1 chunks using dynamic sizing\n",
      "INFO:root:Processing chunk 1/1 of StructureDefinition-head-occipital-frontal-circumference-percentile-definitions.md\n",
      "INFO:httpx:HTTP Request: POST https://api.anthropic.com/v1/messages \"HTTP/1.1 200 OK\"\n",
      "INFO:root:Processing single file: StructureDefinition-us-core-body-height-definitions.md\n",
      "INFO:root:Split StructureDefinition-us-core-body-height-definitions.md into 1 chunks using dynamic sizing\n",
      "INFO:root:Processing chunk 1/1 of StructureDefinition-us-core-body-height-definitions.md\n",
      "INFO:httpx:HTTP Request: POST https://api.anthropic.com/v1/messages \"HTTP/1.1 200 OK\"\n",
      "INFO:root:Processing single file: StructureDefinition-us-core-body-weight-definitions.md\n",
      "INFO:root:Split StructureDefinition-us-core-body-weight-definitions.md into 1 chunks using dynamic sizing\n",
      "INFO:root:Processing chunk 1/1 of StructureDefinition-us-core-body-weight-definitions.md\n",
      "INFO:httpx:HTTP Request: POST https://api.anthropic.com/v1/messages \"HTTP/1.1 200 OK\"\n",
      "INFO:root:Processing single file: StructureDefinition-us-core-body-temperature-definitions.md\n",
      "INFO:root:Split StructureDefinition-us-core-body-temperature-definitions.md into 1 chunks using dynamic sizing\n",
      "INFO:root:Processing chunk 1/1 of StructureDefinition-us-core-body-temperature-definitions.md\n",
      "INFO:httpx:HTTP Request: POST https://api.anthropic.com/v1/messages \"HTTP/1.1 200 OK\"\n",
      "INFO:root:Processing single file: StructureDefinition-us-core-head-circumference-definitions.md\n",
      "INFO:root:Split StructureDefinition-us-core-head-circumference-definitions.md into 1 chunks using dynamic sizing\n",
      "INFO:root:Processing chunk 1/1 of StructureDefinition-us-core-head-circumference-definitions.md\n",
      "INFO:httpx:HTTP Request: POST https://api.anthropic.com/v1/messages \"HTTP/1.1 200 OK\"\n",
      "INFO:root:Processing single file: StructureDefinition-us-core-encounter-definitions.md\n",
      "INFO:root:Split StructureDefinition-us-core-encounter-definitions.md into 1 chunks using dynamic sizing\n",
      "INFO:root:Processing chunk 1/1 of StructureDefinition-us-core-encounter-definitions.md\n",
      "INFO:httpx:HTTP Request: POST https://api.anthropic.com/v1/messages \"HTTP/1.1 200 OK\"\n",
      "INFO:root:Processing single file: StructureDefinition-us-core-observation-adi-documentation.md\n",
      "INFO:root:Split StructureDefinition-us-core-observation-adi-documentation.md into 1 chunks using dynamic sizing\n",
      "INFO:root:Processing chunk 1/1 of StructureDefinition-us-core-observation-adi-documentation.md\n",
      "INFO:httpx:HTTP Request: POST https://api.anthropic.com/v1/messages \"HTTP/1.1 200 OK\"\n",
      "INFO:root:Processing single file: StructureDefinition-us-core-smokingstatus.md\n",
      "INFO:root:Split StructureDefinition-us-core-smokingstatus.md into 1 chunks using dynamic sizing\n",
      "INFO:root:Processing chunk 1/1 of StructureDefinition-us-core-smokingstatus.md\n",
      "INFO:httpx:HTTP Request: POST https://api.anthropic.com/v1/messages \"HTTP/1.1 200 OK\"\n",
      "INFO:root:Processing single file: StructureDefinition-us-core-medicationrequest-definitions.md\n",
      "INFO:root:Split StructureDefinition-us-core-medicationrequest-definitions.md into 1 chunks using dynamic sizing\n",
      "INFO:root:Processing chunk 1/1 of StructureDefinition-us-core-medicationrequest-definitions.md\n",
      "INFO:httpx:HTTP Request: POST https://api.anthropic.com/v1/messages \"HTTP/1.1 200 OK\"\n",
      "INFO:root:Processing single file: StructureDefinition-us-core-documentreference.md\n",
      "INFO:root:Split StructureDefinition-us-core-documentreference.md into 1 chunks using dynamic sizing\n",
      "INFO:root:Processing chunk 1/1 of StructureDefinition-us-core-documentreference.md\n",
      "INFO:httpx:HTTP Request: POST https://api.anthropic.com/v1/messages \"HTTP/1.1 200 OK\"\n",
      "INFO:root:Processing single file: StructureDefinition-us-core-coverage.md\n",
      "INFO:root:Split StructureDefinition-us-core-coverage.md into 1 chunks using dynamic sizing\n",
      "INFO:root:Processing chunk 1/1 of StructureDefinition-us-core-coverage.md\n",
      "INFO:httpx:HTTP Request: POST https://api.anthropic.com/v1/messages \"HTTP/1.1 200 OK\"\n",
      "INFO:root:Processing single file: StructureDefinition-us-core-patient-definitions.md\n",
      "INFO:root:Split StructureDefinition-us-core-patient-definitions.md into 1 chunks using dynamic sizing\n",
      "INFO:root:Processing chunk 1/1 of StructureDefinition-us-core-patient-definitions.md\n",
      "INFO:httpx:HTTP Request: POST https://api.anthropic.com/v1/messages \"HTTP/1.1 200 OK\"\n",
      "INFO:root:Processing single file: StructureDefinition-us-core-medicationdispense.md\n",
      "INFO:root:Split StructureDefinition-us-core-medicationdispense.md into 1 chunks using dynamic sizing\n",
      "INFO:root:Processing chunk 1/1 of StructureDefinition-us-core-medicationdispense.md\n",
      "INFO:httpx:HTTP Request: POST https://api.anthropic.com/v1/messages \"HTTP/1.1 200 OK\"\n",
      "INFO:root:Processing single file: StructureDefinition-us-core-vital-signs.md\n",
      "INFO:root:Split StructureDefinition-us-core-vital-signs.md into 1 chunks using dynamic sizing\n",
      "INFO:root:Processing chunk 1/1 of StructureDefinition-us-core-vital-signs.md\n",
      "INFO:httpx:HTTP Request: POST https://api.anthropic.com/v1/messages \"HTTP/1.1 200 OK\"\n",
      "INFO:root:Processing single file: StructureDefinition-us-core-organization.md\n",
      "INFO:root:Split StructureDefinition-us-core-organization.md into 1 chunks using dynamic sizing\n",
      "INFO:root:Processing chunk 1/1 of StructureDefinition-us-core-organization.md\n",
      "INFO:httpx:HTTP Request: POST https://api.anthropic.com/v1/messages \"HTTP/1.1 200 OK\"\n",
      "INFO:root:Processing single file: StructureDefinition-us-core-bmi.md\n",
      "INFO:root:Split StructureDefinition-us-core-bmi.md into 1 chunks using dynamic sizing\n",
      "INFO:root:Processing chunk 1/1 of StructureDefinition-us-core-bmi.md\n",
      "INFO:httpx:HTTP Request: POST https://api.anthropic.com/v1/messages \"HTTP/1.1 200 OK\"\n",
      "INFO:root:Processing single file: StructureDefinition-us-core-heart-rate.md\n",
      "INFO:root:Split StructureDefinition-us-core-heart-rate.md into 1 chunks using dynamic sizing\n",
      "INFO:root:Processing chunk 1/1 of StructureDefinition-us-core-heart-rate.md\n",
      "INFO:httpx:HTTP Request: POST https://api.anthropic.com/v1/messages \"HTTP/1.1 200 OK\"\n",
      "INFO:root:Processing single file: StructureDefinition-us-core-observation-screening-assessment.md\n",
      "INFO:root:Split StructureDefinition-us-core-observation-screening-assessment.md into 1 chunks using dynamic sizing\n",
      "INFO:root:Processing chunk 1/1 of StructureDefinition-us-core-observation-screening-assessment.md\n",
      "INFO:httpx:HTTP Request: POST https://api.anthropic.com/v1/messages \"HTTP/1.1 200 OK\"\n",
      "INFO:root:Processing single file: StructureDefinition-us-core-observation-lab.md\n",
      "INFO:root:Split StructureDefinition-us-core-observation-lab.md into 1 chunks using dynamic sizing\n",
      "INFO:root:Processing chunk 1/1 of StructureDefinition-us-core-observation-lab.md\n",
      "INFO:httpx:HTTP Request: POST https://api.anthropic.com/v1/messages \"HTTP/1.1 200 OK\"\n",
      "INFO:root:Processing single file: StructureDefinition-pediatric-bmi-for-age.md\n",
      "INFO:root:Split StructureDefinition-pediatric-bmi-for-age.md into 1 chunks using dynamic sizing\n",
      "INFO:root:Processing chunk 1/1 of StructureDefinition-pediatric-bmi-for-age.md\n",
      "INFO:httpx:HTTP Request: POST https://api.anthropic.com/v1/messages \"HTTP/1.1 200 OK\"\n",
      "INFO:root:Processing single file: StructureDefinition-us-core-respiratory-rate.md\n",
      "INFO:root:Split StructureDefinition-us-core-respiratory-rate.md into 1 chunks using dynamic sizing\n",
      "INFO:root:Processing chunk 1/1 of StructureDefinition-us-core-respiratory-rate.md\n",
      "INFO:httpx:HTTP Request: POST https://api.anthropic.com/v1/messages \"HTTP/1.1 200 OK\"\n",
      "INFO:root:Processing single file: StructureDefinition-pediatric-weight-for-height.md\n",
      "INFO:root:Split StructureDefinition-pediatric-weight-for-height.md into 1 chunks using dynamic sizing\n",
      "INFO:root:Processing chunk 1/1 of StructureDefinition-pediatric-weight-for-height.md\n",
      "INFO:httpx:HTTP Request: POST https://api.anthropic.com/v1/messages \"HTTP/1.1 200 OK\"\n",
      "INFO:root:Processing single file: StructureDefinition-us-core-body-weight.md\n",
      "INFO:root:Split StructureDefinition-us-core-body-weight.md into 1 chunks using dynamic sizing\n",
      "INFO:root:Processing chunk 1/1 of StructureDefinition-us-core-body-weight.md\n",
      "INFO:httpx:HTTP Request: POST https://api.anthropic.com/v1/messages \"HTTP/1.1 200 OK\"\n",
      "INFO:root:Processing single file: StructureDefinition-us-core-body-height.md\n",
      "INFO:root:Split StructureDefinition-us-core-body-height.md into 1 chunks using dynamic sizing\n",
      "INFO:root:Processing chunk 1/1 of StructureDefinition-us-core-body-height.md\n",
      "INFO:httpx:HTTP Request: POST https://api.anthropic.com/v1/messages \"HTTP/1.1 200 OK\"\n",
      "INFO:root:Processing single file: StructureDefinition-us-core-body-temperature.md\n",
      "INFO:root:Split StructureDefinition-us-core-body-temperature.md into 1 chunks using dynamic sizing\n",
      "INFO:root:Processing chunk 1/1 of StructureDefinition-us-core-body-temperature.md\n",
      "INFO:httpx:HTTP Request: POST https://api.anthropic.com/v1/messages \"HTTP/1.1 200 OK\"\n",
      "INFO:root:Processing single file: StructureDefinition-us-core-head-circumference.md\n",
      "INFO:root:Split StructureDefinition-us-core-head-circumference.md into 1 chunks using dynamic sizing\n",
      "INFO:root:Processing chunk 1/1 of StructureDefinition-us-core-head-circumference.md\n",
      "INFO:httpx:HTTP Request: POST https://api.anthropic.com/v1/messages \"HTTP/1.1 200 OK\"\n",
      "INFO:root:Processing single file: StructureDefinition-head-occipital-frontal-circumference-percentile.md\n",
      "INFO:root:Split StructureDefinition-head-occipital-frontal-circumference-percentile.md into 1 chunks using dynamic sizing\n",
      "INFO:root:Processing chunk 1/1 of StructureDefinition-head-occipital-frontal-circumference-percentile.md\n",
      "INFO:httpx:HTTP Request: POST https://api.anthropic.com/v1/messages \"HTTP/1.1 200 OK\"\n",
      "INFO:root:Processing single file: StructureDefinition-us-core-observation-occupation.md\n",
      "INFO:root:Split StructureDefinition-us-core-observation-occupation.md into 1 chunks using dynamic sizing\n",
      "INFO:root:Processing chunk 1/1 of StructureDefinition-us-core-observation-occupation.md\n",
      "INFO:httpx:HTTP Request: POST https://api.anthropic.com/v1/messages \"HTTP/1.1 200 OK\"\n",
      "INFO:root:Processing single file: StructureDefinition-us-core-patient.md\n",
      "INFO:root:Split StructureDefinition-us-core-patient.md into 1 chunks using dynamic sizing\n",
      "INFO:root:Processing chunk 1/1 of StructureDefinition-us-core-patient.md\n",
      "INFO:httpx:HTTP Request: POST https://api.anthropic.com/v1/messages \"HTTP/1.1 200 OK\"\n",
      "INFO:root:Processing single file: artifacts.md\n",
      "INFO:root:Split artifacts.md into 1 chunks using dynamic sizing\n",
      "INFO:root:Processing chunk 1/1 of artifacts.md\n",
      "INFO:httpx:HTTP Request: POST https://api.anthropic.com/v1/messages \"HTTP/1.1 200 OK\"\n",
      "INFO:root:Processing single file: StructureDefinition-us-core-encounter.md\n",
      "INFO:root:Split StructureDefinition-us-core-encounter.md into 1 chunks using dynamic sizing\n",
      "INFO:root:Processing chunk 1/1 of StructureDefinition-us-core-encounter.md\n",
      "INFO:httpx:HTTP Request: POST https://api.anthropic.com/v1/messages \"HTTP/1.1 200 OK\"\n",
      "INFO:root:Processing single file: StructureDefinition-us-core-average-blood-pressure-definitions.md\n",
      "INFO:root:Split StructureDefinition-us-core-average-blood-pressure-definitions.md into 1 chunks using dynamic sizing\n",
      "INFO:root:Processing chunk 1/1 of StructureDefinition-us-core-average-blood-pressure-definitions.md\n",
      "INFO:httpx:HTTP Request: POST https://api.anthropic.com/v1/messages \"HTTP/1.1 200 OK\"\n",
      "INFO:root:Processing single file: StructureDefinition-us-core-medicationrequest.md\n",
      "INFO:root:Split StructureDefinition-us-core-medicationrequest.md into 1 chunks using dynamic sizing\n",
      "INFO:root:Processing chunk 1/1 of StructureDefinition-us-core-medicationrequest.md\n",
      "INFO:httpx:HTTP Request: POST https://api.anthropic.com/v1/messages \"HTTP/1.1 200 OK\"\n",
      "INFO:root:Processing single file: StructureDefinition-us-core-blood-pressure-definitions.md\n",
      "INFO:root:Split StructureDefinition-us-core-blood-pressure-definitions.md into 1 chunks using dynamic sizing\n",
      "INFO:root:Processing chunk 1/1 of StructureDefinition-us-core-blood-pressure-definitions.md\n",
      "INFO:httpx:HTTP Request: POST https://api.anthropic.com/v1/messages \"HTTP/1.1 200 OK\"\n",
      "INFO:root:Processing single file: StructureDefinition-us-core-average-blood-pressure.md\n",
      "INFO:root:Split StructureDefinition-us-core-average-blood-pressure.md into 1 chunks using dynamic sizing\n",
      "INFO:root:Processing chunk 1/1 of StructureDefinition-us-core-average-blood-pressure.md\n",
      "INFO:httpx:HTTP Request: POST https://api.anthropic.com/v1/messages \"HTTP/1.1 200 OK\"\n",
      "INFO:root:Processing single file: StructureDefinition-us-core-pulse-oximetry-definitions.md\n",
      "INFO:root:Split StructureDefinition-us-core-pulse-oximetry-definitions.md into 1 chunks using dynamic sizing\n",
      "INFO:root:Processing chunk 1/1 of StructureDefinition-us-core-pulse-oximetry-definitions.md\n",
      "INFO:httpx:HTTP Request: POST https://api.anthropic.com/v1/messages \"HTTP/1.1 200 OK\"\n",
      "INFO:root:Processing single file: StructureDefinition-us-core-blood-pressure.md\n",
      "INFO:root:Split StructureDefinition-us-core-blood-pressure.md into 1 chunks using dynamic sizing\n",
      "INFO:root:Processing chunk 1/1 of StructureDefinition-us-core-blood-pressure.md\n",
      "INFO:httpx:HTTP Request: POST https://api.anthropic.com/v1/messages \"HTTP/1.1 200 OK\"\n",
      "INFO:root:Processing single file: changes.md\n",
      "INFO:root:Split changes.md into 1 chunks using dynamic sizing\n",
      "INFO:root:Processing chunk 1/1 of changes.md\n",
      "INFO:httpx:HTTP Request: POST https://api.anthropic.com/v1/messages \"HTTP/1.1 200 OK\"\n",
      "INFO:root:Processing single file: StructureDefinition-us-core-pulse-oximetry.md\n",
      "INFO:root:Split StructureDefinition-us-core-pulse-oximetry.md into 1 chunks using dynamic sizing\n",
      "INFO:root:Processing chunk 1/1 of StructureDefinition-us-core-pulse-oximetry.md\n",
      "INFO:httpx:HTTP Request: POST https://api.anthropic.com/v1/messages \"HTTP/1.1 200 OK\"\n",
      "INFO:root:Completed processing 793 files\n",
      "INFO:root:Generated requirements document saved to checkpoints/requirements_extraction/us-core/claude_reqs_list_v1_20250825_105114.md\n"
     ]
    },
    {
     "name": "stdout",
     "output_type": "stream",
     "text": [
      "\n",
      "================================================================================\n",
      "Processing complete!\n",
      "Generated requirements document: checkpoints/requirements_extraction/us-core/claude_reqs_list_v1_20250825_105114.md\n",
      "Processed 793 files\n",
      "================================================================================\n"
     ]
    }
   ],
   "source": [
    "reqs_extraction.run_requirements_extractor(\n",
    "    'checkpoints/markdown2', #input directory\n",
    "    'checkpoints/requirements_extraction/us-core', #output directory\n",
    "    'claude', #LLM API of choice\n",
    "    llm_clients)"
   ]
  },
  {
   "cell_type": "markdown",
   "id": "47056998",
   "metadata": {},
   "source": [
    "## Requirement Refinement with LLM"
   ]
  },
  {
   "cell_type": "code",
   "execution_count": 13,
   "id": "547fa2a7",
   "metadata": {},
   "outputs": [
    {
     "data": {
      "text/plain": [
       "<module 'reqs_reviewer' from '/Users/ceadams/Documents/onclaive/onclaive/pipeline/reqs_reviewer.py'>"
      ]
     },
     "execution_count": 13,
     "metadata": {},
     "output_type": "execute_result"
    }
   ],
   "source": [
    "import reqs_reviewer\n",
    "importlib.reload(reqs_reviewer)"
   ]
  },
  {
   "cell_type": "markdown",
   "id": "10c48b37",
   "metadata": {},
   "source": [
    "### Large Number of Requirements (500+)"
   ]
  },
  {
   "cell_type": "code",
   "execution_count": null,
   "id": "53363a50",
   "metadata": {},
   "outputs": [
    {
     "name": "stderr",
     "output_type": "stream",
     "text": [
      "INFO:root:Prompt environment set up at: /Users/ceadams/Documents/onclaive/onclaive/prompts\n"
     ]
    },
    {
     "name": "stdout",
     "output_type": "stream",
     "text": [
      "STARTING BATCH PROCESSING\n",
      "==================================================\n",
      "Input: checkpoints/requirements_extraction/us-core/claude_reqs_list_v1_20250825_105114.md\n",
      "Output: checkpoints/revised_reqs_extraction\n",
      "Batch size: 50 requirements\n",
      "API: claude\n",
      "\n",
      "File size: 1,453,237 characters\n",
      "Splitting requirements...\n",
      "Found 2241 total requirements\n",
      "Will process in 45 batches\n",
      "\n",
      "BATCH 1/45\n",
      "   Requirements: 50 (#1-#50)\n",
      "   Size: 48,033 chars (~12,008 tokens)\n"
     ]
    },
    {
     "name": "stderr",
     "output_type": "stream",
     "text": [
      "INFO:httpx:HTTP Request: POST https://api.anthropic.com/v1/messages \"HTTP/1.1 200 OK\"\n"
     ]
    },
    {
     "name": "stdout",
     "output_type": "stream",
     "text": [
      "   Completed in 8.0s\n",
      "   Pausing 2s...\n",
      "   Progress: 1/45 (2.2%)\n",
      "   ETA: 7.4 minutes remaining\n",
      "\n",
      "BATCH 2/45\n",
      "   Requirements: 50 (#51-#100)\n",
      "   Size: 34,740 chars (~8,685 tokens)\n"
     ]
    },
    {
     "name": "stderr",
     "output_type": "stream",
     "text": [
      "INFO:httpx:HTTP Request: POST https://api.anthropic.com/v1/messages \"HTTP/1.1 200 OK\"\n"
     ]
    },
    {
     "name": "stdout",
     "output_type": "stream",
     "text": [
      "   Completed in 31.1s\n",
      "   Pausing 2s...\n",
      "   Progress: 2/45 (4.4%)\n",
      "   ETA: 15.5 minutes remaining\n",
      "\n",
      "BATCH 3/45\n",
      "   Requirements: 50 (#101-#150)\n",
      "   Size: 28,287 chars (~7,071 tokens)\n"
     ]
    },
    {
     "name": "stderr",
     "output_type": "stream",
     "text": [
      "INFO:httpx:HTTP Request: POST https://api.anthropic.com/v1/messages \"HTTP/1.1 200 OK\"\n"
     ]
    },
    {
     "name": "stdout",
     "output_type": "stream",
     "text": [
      "   Completed in 101.4s\n",
      "   Pausing 2s...\n",
      "   Progress: 3/45 (6.7%)\n",
      "   ETA: 34.2 minutes remaining\n",
      "\n",
      "BATCH 4/45\n",
      "   Requirements: 50 (#151-#200)\n",
      "   Size: 30,242 chars (~7,560 tokens)\n"
     ]
    },
    {
     "name": "stderr",
     "output_type": "stream",
     "text": [
      "INFO:httpx:HTTP Request: POST https://api.anthropic.com/v1/messages \"HTTP/1.1 200 OK\"\n"
     ]
    },
    {
     "name": "stdout",
     "output_type": "stream",
     "text": [
      "   Completed in 90.4s\n",
      "   Pausing 2s...\n",
      "   Progress: 4/45 (8.9%)\n",
      "   ETA: 40.8 minutes remaining\n",
      "\n",
      "BATCH 5/45\n",
      "   Requirements: 50 (#201-#250)\n",
      "   Size: 35,072 chars (~8,768 tokens)\n"
     ]
    },
    {
     "name": "stderr",
     "output_type": "stream",
     "text": [
      "INFO:httpx:HTTP Request: POST https://api.anthropic.com/v1/messages \"HTTP/1.1 200 OK\"\n"
     ]
    },
    {
     "name": "stdout",
     "output_type": "stream",
     "text": [
      "   Completed in 97.4s\n",
      "   Pausing 2s...\n",
      "   Progress: 5/45 (11.1%)\n",
      "   ETA: 45.1 minutes remaining\n",
      "\n",
      "BATCH 6/45\n",
      "   Requirements: 50 (#251-#300)\n",
      "   Size: 69,605 chars (~17,401 tokens)\n"
     ]
    },
    {
     "name": "stderr",
     "output_type": "stream",
     "text": [
      "INFO:httpx:HTTP Request: POST https://api.anthropic.com/v1/messages \"HTTP/1.1 200 OK\"\n"
     ]
    },
    {
     "name": "stdout",
     "output_type": "stream",
     "text": [
      "   Completed in 152.6s\n",
      "   Pausing 2s...\n",
      "   Progress: 6/45 (13.3%)\n",
      "   ETA: 53.4 minutes remaining\n",
      "\n",
      "BATCH 7/45\n",
      "   Requirements: 50 (#301-#350)\n",
      "   Size: 35,642 chars (~8,910 tokens)\n"
     ]
    },
    {
     "name": "stderr",
     "output_type": "stream",
     "text": [
      "INFO:httpx:HTTP Request: POST https://api.anthropic.com/v1/messages \"HTTP/1.1 200 OK\"\n"
     ]
    },
    {
     "name": "stdout",
     "output_type": "stream",
     "text": [
      "   Completed in 93.4s\n",
      "   Pausing 2s...\n",
      "   Progress: 7/45 (15.6%)\n",
      "   ETA: 53.2 minutes remaining\n",
      "\n",
      "BATCH 8/45\n",
      "   Requirements: 50 (#351-#400)\n",
      "   Size: 35,599 chars (~8,899 tokens)\n"
     ]
    },
    {
     "name": "stderr",
     "output_type": "stream",
     "text": [
      "INFO:httpx:HTTP Request: POST https://api.anthropic.com/v1/messages \"HTTP/1.1 200 OK\"\n"
     ]
    },
    {
     "name": "stdout",
     "output_type": "stream",
     "text": [
      "   Completed in 161.6s\n",
      "   Pausing 2s...\n",
      "   Progress: 8/45 (17.8%)\n",
      "   ETA: 58.0 minutes remaining\n",
      "\n",
      "BATCH 9/45\n",
      "   Requirements: 50 (#401-#450)\n",
      "   Size: 31,448 chars (~7,862 tokens)\n"
     ]
    },
    {
     "name": "stderr",
     "output_type": "stream",
     "text": [
      "INFO:httpx:HTTP Request: POST https://api.anthropic.com/v1/messages \"HTTP/1.1 200 OK\"\n"
     ]
    },
    {
     "name": "stdout",
     "output_type": "stream",
     "text": [
      "   Completed in 128.5s\n",
      "   Pausing 2s...\n",
      "   Progress: 9/45 (20.0%)\n",
      "   ETA: 58.8 minutes remaining\n",
      "\n",
      "BATCH 10/45\n",
      "   Requirements: 50 (#451-#500)\n",
      "   Size: 32,469 chars (~8,117 tokens)\n"
     ]
    },
    {
     "name": "stderr",
     "output_type": "stream",
     "text": [
      "INFO:httpx:HTTP Request: POST https://api.anthropic.com/v1/messages \"HTTP/1.1 200 OK\"\n"
     ]
    },
    {
     "name": "stdout",
     "output_type": "stream",
     "text": [
      "   Completed in 109.7s\n",
      "   Pausing 2s...\n",
      "   Progress: 10/45 (22.2%)\n",
      "   ETA: 58.0 minutes remaining\n",
      "\n",
      "BATCH 11/45\n",
      "   Requirements: 50 (#501-#550)\n",
      "   Size: 32,388 chars (~8,097 tokens)\n"
     ]
    },
    {
     "name": "stderr",
     "output_type": "stream",
     "text": [
      "INFO:httpx:HTTP Request: POST https://api.anthropic.com/v1/messages \"HTTP/1.1 200 OK\"\n"
     ]
    },
    {
     "name": "stdout",
     "output_type": "stream",
     "text": [
      "   Completed in 104.4s\n",
      "   Pausing 2s...\n",
      "   Progress: 11/45 (24.4%)\n",
      "   ETA: 56.7 minutes remaining\n",
      "\n",
      "BATCH 12/45\n",
      "   Requirements: 50 (#551-#600)\n",
      "   Size: 37,055 chars (~9,263 tokens)\n"
     ]
    },
    {
     "name": "stderr",
     "output_type": "stream",
     "text": [
      "INFO:httpx:HTTP Request: POST https://api.anthropic.com/v1/messages \"HTTP/1.1 200 OK\"\n"
     ]
    },
    {
     "name": "stdout",
     "output_type": "stream",
     "text": [
      "   Completed in 87.3s\n",
      "   Pausing 2s...\n",
      "   Progress: 12/45 (26.7%)\n",
      "   ETA: 54.5 minutes remaining\n",
      "\n",
      "BATCH 13/45\n",
      "   Requirements: 50 (#601-#650)\n",
      "   Size: 33,990 chars (~8,497 tokens)\n"
     ]
    },
    {
     "name": "stderr",
     "output_type": "stream",
     "text": [
      "INFO:httpx:HTTP Request: POST https://api.anthropic.com/v1/messages \"HTTP/1.1 200 OK\"\n"
     ]
    },
    {
     "name": "stdout",
     "output_type": "stream",
     "text": [
      "   Completed in 98.3s\n",
      "   Pausing 2s...\n",
      "   Progress: 13/45 (28.9%)\n",
      "   ETA: 52.9 minutes remaining\n",
      "\n",
      "BATCH 14/45\n",
      "   Requirements: 50 (#651-#700)\n",
      "   Size: 33,230 chars (~8,307 tokens)\n"
     ]
    },
    {
     "name": "stderr",
     "output_type": "stream",
     "text": [
      "INFO:httpx:HTTP Request: POST https://api.anthropic.com/v1/messages \"HTTP/1.1 200 OK\"\n"
     ]
    },
    {
     "name": "stdout",
     "output_type": "stream",
     "text": [
      "   Completed in 117.5s\n",
      "   Pausing 2s...\n",
      "   Progress: 14/45 (31.1%)\n",
      "   ETA: 52.0 minutes remaining\n",
      "\n",
      "BATCH 15/45\n",
      "   Requirements: 50 (#701-#750)\n",
      "   Size: 32,999 chars (~8,249 tokens)\n"
     ]
    },
    {
     "name": "stderr",
     "output_type": "stream",
     "text": [
      "INFO:httpx:HTTP Request: POST https://api.anthropic.com/v1/messages \"HTTP/1.1 200 OK\"\n"
     ]
    },
    {
     "name": "stdout",
     "output_type": "stream",
     "text": [
      "   Completed in 121.5s\n",
      "   Pausing 2s...\n",
      "   Progress: 15/45 (33.3%)\n",
      "   ETA: 51.1 minutes remaining\n",
      "\n",
      "BATCH 16/45\n",
      "   Requirements: 50 (#751-#800)\n",
      "   Size: 29,302 chars (~7,325 tokens)\n"
     ]
    },
    {
     "name": "stderr",
     "output_type": "stream",
     "text": [
      "INFO:httpx:HTTP Request: POST https://api.anthropic.com/v1/messages \"HTTP/1.1 200 OK\"\n"
     ]
    },
    {
     "name": "stdout",
     "output_type": "stream",
     "text": [
      "   Completed in 95.4s\n",
      "   Pausing 2s...\n",
      "   Progress: 16/45 (35.6%)\n",
      "   ETA: 49.3 minutes remaining\n",
      "\n",
      "BATCH 17/45\n",
      "   Requirements: 50 (#801-#850)\n",
      "   Size: 21,321 chars (~5,330 tokens)\n"
     ]
    },
    {
     "name": "stderr",
     "output_type": "stream",
     "text": [
      "INFO:httpx:HTTP Request: POST https://api.anthropic.com/v1/messages \"HTTP/1.1 200 OK\"\n"
     ]
    },
    {
     "name": "stdout",
     "output_type": "stream",
     "text": [
      "   Completed in 99.6s\n",
      "   Pausing 2s...\n",
      "   Progress: 17/45 (37.8%)\n",
      "   ETA: 47.6 minutes remaining\n",
      "\n",
      "BATCH 18/45\n",
      "   Requirements: 50 (#851-#900)\n",
      "   Size: 29,895 chars (~7,473 tokens)\n"
     ]
    },
    {
     "name": "stderr",
     "output_type": "stream",
     "text": [
      "INFO:httpx:HTTP Request: POST https://api.anthropic.com/v1/messages \"HTTP/1.1 200 OK\"\n"
     ]
    },
    {
     "name": "stdout",
     "output_type": "stream",
     "text": [
      "   Completed in 130.0s\n",
      "   Pausing 2s...\n",
      "   Progress: 18/45 (40.0%)\n",
      "   ETA: 46.6 minutes remaining\n",
      "\n",
      "BATCH 19/45\n",
      "   Requirements: 50 (#901-#950)\n",
      "   Size: 24,580 chars (~6,145 tokens)\n"
     ]
    },
    {
     "name": "stderr",
     "output_type": "stream",
     "text": [
      "INFO:httpx:HTTP Request: POST https://api.anthropic.com/v1/messages \"HTTP/1.1 200 OK\"\n"
     ]
    },
    {
     "name": "stdout",
     "output_type": "stream",
     "text": [
      "   Completed in 69.6s\n",
      "   Pausing 2s...\n",
      "   Progress: 19/45 (42.2%)\n",
      "   ETA: 44.2 minutes remaining\n",
      "\n",
      "BATCH 20/45\n",
      "   Requirements: 50 (#951-#1000)\n",
      "   Size: 30,837 chars (~7,709 tokens)\n"
     ]
    },
    {
     "name": "stderr",
     "output_type": "stream",
     "text": [
      "INFO:httpx:HTTP Request: POST https://api.anthropic.com/v1/messages \"HTTP/1.1 200 OK\"\n"
     ]
    },
    {
     "name": "stdout",
     "output_type": "stream",
     "text": [
      "   Completed in 104.6s\n",
      "   Pausing 2s...\n",
      "   Progress: 20/45 (44.4%)\n",
      "   ETA: 42.6 minutes remaining\n",
      "\n",
      "BATCH 21/45\n",
      "   Requirements: 50 (#1001-#1050)\n",
      "   Size: 30,537 chars (~7,634 tokens)\n"
     ]
    },
    {
     "name": "stderr",
     "output_type": "stream",
     "text": [
      "INFO:httpx:HTTP Request: POST https://api.anthropic.com/v1/messages \"HTTP/1.1 200 OK\"\n"
     ]
    },
    {
     "name": "stdout",
     "output_type": "stream",
     "text": [
      "   Completed in 105.4s\n",
      "   Pausing 2s...\n",
      "   Progress: 21/45 (46.7%)\n",
      "   ETA: 41.0 minutes remaining\n",
      "\n",
      "BATCH 22/45\n",
      "   Requirements: 50 (#1051-#1100)\n",
      "   Size: 33,583 chars (~8,395 tokens)\n"
     ]
    },
    {
     "name": "stderr",
     "output_type": "stream",
     "text": [
      "INFO:httpx:HTTP Request: POST https://api.anthropic.com/v1/messages \"HTTP/1.1 200 OK\"\n"
     ]
    },
    {
     "name": "stdout",
     "output_type": "stream",
     "text": [
      "   Completed in 90.4s\n",
      "   Pausing 2s...\n",
      "   Progress: 22/45 (48.9%)\n",
      "   ETA: 39.1 minutes remaining\n",
      "\n",
      "BATCH 23/45\n",
      "   Requirements: 50 (#1101-#1150)\n",
      "   Size: 31,778 chars (~7,944 tokens)\n"
     ]
    },
    {
     "name": "stderr",
     "output_type": "stream",
     "text": [
      "INFO:httpx:HTTP Request: POST https://api.anthropic.com/v1/messages \"HTTP/1.1 200 OK\"\n"
     ]
    },
    {
     "name": "stdout",
     "output_type": "stream",
     "text": [
      "   Completed in 95.5s\n",
      "   Pausing 2s...\n",
      "   Progress: 23/45 (51.1%)\n",
      "   ETA: 37.3 minutes remaining\n",
      "\n",
      "BATCH 24/45\n",
      "   Requirements: 50 (#1151-#1200)\n",
      "   Size: 31,055 chars (~7,763 tokens)\n"
     ]
    },
    {
     "name": "stderr",
     "output_type": "stream",
     "text": [
      "INFO:httpx:HTTP Request: POST https://api.anthropic.com/v1/messages \"HTTP/1.1 200 OK\"\n"
     ]
    },
    {
     "name": "stdout",
     "output_type": "stream",
     "text": [
      "   Completed in 116.8s\n",
      "   Pausing 2s...\n",
      "   Progress: 24/45 (53.3%)\n",
      "   ETA: 35.9 minutes remaining\n",
      "\n",
      "BATCH 25/45\n",
      "   Requirements: 50 (#1201-#1250)\n",
      "   Size: 30,392 chars (~7,598 tokens)\n"
     ]
    },
    {
     "name": "stderr",
     "output_type": "stream",
     "text": [
      "INFO:httpx:HTTP Request: POST https://api.anthropic.com/v1/messages \"HTTP/1.1 200 OK\"\n"
     ]
    },
    {
     "name": "stdout",
     "output_type": "stream",
     "text": [
      "   Completed in 125.9s\n",
      "   Pausing 2s...\n",
      "   Progress: 25/45 (55.6%)\n",
      "   ETA: 34.5 minutes remaining\n",
      "\n",
      "BATCH 26/45\n",
      "   Requirements: 50 (#1251-#1300)\n",
      "   Size: 30,300 chars (~7,575 tokens)\n"
     ]
    },
    {
     "name": "stderr",
     "output_type": "stream",
     "text": [
      "INFO:httpx:HTTP Request: POST https://api.anthropic.com/v1/messages \"HTTP/1.1 200 OK\"\n"
     ]
    },
    {
     "name": "stdout",
     "output_type": "stream",
     "text": [
      "   Completed in 97.7s\n",
      "   Pausing 2s...\n",
      "   Progress: 26/45 (57.8%)\n",
      "   ETA: 32.7 minutes remaining\n",
      "\n",
      "BATCH 27/45\n",
      "   Requirements: 50 (#1301-#1350)\n",
      "   Size: 32,747 chars (~8,186 tokens)\n"
     ]
    },
    {
     "name": "stderr",
     "output_type": "stream",
     "text": [
      "INFO:httpx:HTTP Request: POST https://api.anthropic.com/v1/messages \"HTTP/1.1 200 OK\"\n"
     ]
    },
    {
     "name": "stdout",
     "output_type": "stream",
     "text": [
      "   Completed in 129.9s\n",
      "   Pausing 2s...\n",
      "   Progress: 27/45 (60.0%)\n",
      "   ETA: 31.3 minutes remaining\n",
      "\n",
      "BATCH 28/45\n",
      "   Requirements: 50 (#1351-#1400)\n",
      "   Size: 30,284 chars (~7,571 tokens)\n"
     ]
    },
    {
     "name": "stderr",
     "output_type": "stream",
     "text": [
      "INFO:httpx:HTTP Request: POST https://api.anthropic.com/v1/messages \"HTTP/1.1 200 OK\"\n"
     ]
    },
    {
     "name": "stdout",
     "output_type": "stream",
     "text": [
      "   Completed in 100.7s\n",
      "   Pausing 2s...\n",
      "   Progress: 28/45 (62.2%)\n",
      "   ETA: 29.6 minutes remaining\n",
      "\n",
      "BATCH 29/45\n",
      "   Requirements: 50 (#1401-#1450)\n",
      "   Size: 30,693 chars (~7,673 tokens)\n"
     ]
    },
    {
     "name": "stderr",
     "output_type": "stream",
     "text": [
      "INFO:httpx:HTTP Request: POST https://api.anthropic.com/v1/messages \"HTTP/1.1 200 OK\"\n"
     ]
    },
    {
     "name": "stdout",
     "output_type": "stream",
     "text": [
      "   Completed in 115.6s\n",
      "   Pausing 2s...\n",
      "   Progress: 29/45 (64.4%)\n",
      "   ETA: 27.9 minutes remaining\n",
      "\n",
      "BATCH 30/45\n",
      "   Requirements: 50 (#1451-#1500)\n",
      "   Size: 30,254 chars (~7,563 tokens)\n"
     ]
    },
    {
     "name": "stderr",
     "output_type": "stream",
     "text": [
      "INFO:httpx:HTTP Request: POST https://api.anthropic.com/v1/messages \"HTTP/1.1 200 OK\"\n"
     ]
    },
    {
     "name": "stdout",
     "output_type": "stream",
     "text": [
      "   Completed in 100.4s\n",
      "   Pausing 2s...\n",
      "   Progress: 30/45 (66.7%)\n",
      "   ETA: 26.2 minutes remaining\n",
      "\n",
      "BATCH 31/45\n",
      "   Requirements: 50 (#1501-#1550)\n",
      "   Size: 34,459 chars (~8,614 tokens)\n"
     ]
    },
    {
     "name": "stderr",
     "output_type": "stream",
     "text": [
      "INFO:httpx:HTTP Request: POST https://api.anthropic.com/v1/messages \"HTTP/1.1 200 OK\"\n"
     ]
    },
    {
     "name": "stdout",
     "output_type": "stream",
     "text": [
      "   Completed in 160.7s\n",
      "   Pausing 2s...\n",
      "   Progress: 31/45 (68.9%)\n",
      "   ETA: 24.9 minutes remaining\n",
      "\n",
      "BATCH 32/45\n",
      "   Requirements: 50 (#1551-#1600)\n",
      "   Size: 29,148 chars (~7,287 tokens)\n"
     ]
    },
    {
     "name": "stderr",
     "output_type": "stream",
     "text": [
      "INFO:httpx:HTTP Request: POST https://api.anthropic.com/v1/messages \"HTTP/1.1 200 OK\"\n"
     ]
    },
    {
     "name": "stdout",
     "output_type": "stream",
     "text": [
      "   Completed in 127.0s\n",
      "   Pausing 2s...\n",
      "   Progress: 32/45 (71.1%)\n",
      "   ETA: 23.2 minutes remaining\n",
      "\n",
      "BATCH 33/45\n",
      "   Requirements: 50 (#1601-#1650)\n",
      "   Size: 31,680 chars (~7,920 tokens)\n"
     ]
    },
    {
     "name": "stderr",
     "output_type": "stream",
     "text": [
      "INFO:httpx:HTTP Request: POST https://api.anthropic.com/v1/messages \"HTTP/1.1 200 OK\"\n"
     ]
    },
    {
     "name": "stdout",
     "output_type": "stream",
     "text": [
      "   Completed in 33.2s\n",
      "   Pausing 2s...\n",
      "   Progress: 33/45 (73.3%)\n",
      "   ETA: 21.0 minutes remaining\n",
      "\n",
      "BATCH 34/45\n",
      "   Requirements: 50 (#1651-#1700)\n",
      "   Size: 28,458 chars (~7,114 tokens)\n"
     ]
    },
    {
     "name": "stderr",
     "output_type": "stream",
     "text": [
      "INFO:httpx:HTTP Request: POST https://api.anthropic.com/v1/messages \"HTTP/1.1 200 OK\"\n"
     ]
    },
    {
     "name": "stdout",
     "output_type": "stream",
     "text": [
      "   Completed in 63.5s\n",
      "   Pausing 2s...\n",
      "   Progress: 34/45 (75.6%)\n",
      "   ETA: 19.1 minutes remaining\n",
      "\n",
      "BATCH 35/45\n",
      "   Requirements: 50 (#1701-#1750)\n",
      "   Size: 31,187 chars (~7,796 tokens)\n"
     ]
    },
    {
     "name": "stderr",
     "output_type": "stream",
     "text": [
      "INFO:httpx:HTTP Request: POST https://api.anthropic.com/v1/messages \"HTTP/1.1 200 OK\"\n"
     ]
    },
    {
     "name": "stdout",
     "output_type": "stream",
     "text": [
      "   Completed in 81.6s\n",
      "   Pausing 2s...\n",
      "   Progress: 35/45 (77.8%)\n",
      "   ETA: 17.2 minutes remaining\n",
      "\n",
      "BATCH 36/45\n",
      "   Requirements: 50 (#1751-#1800)\n",
      "   Size: 30,225 chars (~7,556 tokens)\n"
     ]
    },
    {
     "name": "stderr",
     "output_type": "stream",
     "text": [
      "INFO:httpx:HTTP Request: POST https://api.anthropic.com/v1/messages \"HTTP/1.1 200 OK\"\n"
     ]
    },
    {
     "name": "stdout",
     "output_type": "stream",
     "text": [
      "   Completed in 103.8s\n",
      "   Pausing 2s...\n",
      "   Progress: 36/45 (80.0%)\n",
      "   ETA: 15.5 minutes remaining\n",
      "\n",
      "BATCH 37/45\n",
      "   Requirements: 50 (#1801-#1850)\n",
      "   Size: 30,790 chars (~7,697 tokens)\n"
     ]
    },
    {
     "name": "stderr",
     "output_type": "stream",
     "text": [
      "INFO:httpx:HTTP Request: POST https://api.anthropic.com/v1/messages \"HTTP/1.1 200 OK\"\n"
     ]
    },
    {
     "name": "stdout",
     "output_type": "stream",
     "text": [
      "   Completed in 102.8s\n",
      "   Pausing 2s...\n",
      "   Progress: 37/45 (82.2%)\n",
      "   ETA: 13.8 minutes remaining\n",
      "\n",
      "BATCH 38/45\n",
      "   Requirements: 50 (#1851-#1900)\n",
      "   Size: 29,256 chars (~7,314 tokens)\n"
     ]
    },
    {
     "name": "stderr",
     "output_type": "stream",
     "text": [
      "INFO:httpx:HTTP Request: POST https://api.anthropic.com/v1/messages \"HTTP/1.1 200 OK\"\n"
     ]
    },
    {
     "name": "stdout",
     "output_type": "stream",
     "text": [
      "   Completed in 99.8s\n",
      "   Pausing 2s...\n",
      "   Progress: 38/45 (84.4%)\n",
      "   ETA: 12.1 minutes remaining\n",
      "\n",
      "BATCH 39/45\n",
      "   Requirements: 50 (#1901-#1950)\n",
      "   Size: 29,095 chars (~7,273 tokens)\n"
     ]
    },
    {
     "name": "stderr",
     "output_type": "stream",
     "text": [
      "INFO:httpx:HTTP Request: POST https://api.anthropic.com/v1/messages \"HTTP/1.1 200 OK\"\n"
     ]
    },
    {
     "name": "stdout",
     "output_type": "stream",
     "text": [
      "   Completed in 96.6s\n",
      "   Pausing 2s...\n",
      "   Progress: 39/45 (86.7%)\n",
      "   ETA: 10.3 minutes remaining\n",
      "\n",
      "BATCH 40/45\n",
      "   Requirements: 50 (#1951-#2000)\n",
      "   Size: 30,794 chars (~7,698 tokens)\n"
     ]
    },
    {
     "name": "stderr",
     "output_type": "stream",
     "text": [
      "INFO:httpx:HTTP Request: POST https://api.anthropic.com/v1/messages \"HTTP/1.1 200 OK\"\n"
     ]
    },
    {
     "name": "stdout",
     "output_type": "stream",
     "text": [
      "   Completed in 95.4s\n",
      "   Pausing 2s...\n",
      "   Progress: 40/45 (88.9%)\n",
      "   ETA: 8.6 minutes remaining\n",
      "\n",
      "BATCH 41/45\n",
      "   Requirements: 50 (#2001-#2050)\n",
      "   Size: 33,946 chars (~8,486 tokens)\n"
     ]
    },
    {
     "name": "stderr",
     "output_type": "stream",
     "text": [
      "INFO:httpx:HTTP Request: POST https://api.anthropic.com/v1/messages \"HTTP/1.1 200 OK\"\n"
     ]
    },
    {
     "name": "stdout",
     "output_type": "stream",
     "text": [
      "   Completed in 60.3s\n",
      "   Pausing 2s...\n",
      "   Progress: 41/45 (91.1%)\n",
      "   ETA: 6.8 minutes remaining\n",
      "\n",
      "BATCH 42/45\n",
      "   Requirements: 50 (#2051-#2100)\n",
      "   Size: 27,954 chars (~6,988 tokens)\n"
     ]
    },
    {
     "name": "stderr",
     "output_type": "stream",
     "text": [
      "INFO:httpx:HTTP Request: POST https://api.anthropic.com/v1/messages \"HTTP/1.1 200 OK\"\n"
     ]
    },
    {
     "name": "stdout",
     "output_type": "stream",
     "text": [
      "   Completed in 168.8s\n",
      "   Pausing 2s...\n",
      "   Progress: 42/45 (93.3%)\n",
      "   ETA: 5.2 minutes remaining\n",
      "\n",
      "BATCH 43/45\n",
      "   Requirements: 50 (#2101-#2150)\n",
      "   Size: 30,434 chars (~7,608 tokens)\n"
     ]
    },
    {
     "name": "stderr",
     "output_type": "stream",
     "text": [
      "INFO:httpx:HTTP Request: POST https://api.anthropic.com/v1/messages \"HTTP/1.1 200 OK\"\n"
     ]
    },
    {
     "name": "stdout",
     "output_type": "stream",
     "text": [
      "   Completed in 105.7s\n",
      "   Pausing 2s...\n",
      "   Progress: 43/45 (95.6%)\n",
      "   ETA: 3.5 minutes remaining\n",
      "\n",
      "BATCH 44/45\n",
      "   Requirements: 50 (#2151-#2200)\n",
      "   Size: 33,984 chars (~8,496 tokens)\n",
      "      Request taking longer than 8 minutes...\n",
      "      Request taking longer than 8 minutes...\n",
      "      Request taking longer than 8 minutes...\n",
      "      Request taking longer than 8 minutes...\n",
      "      Request taking longer than 8 minutes...\n",
      "      Request taking longer than 8 minutes...\n",
      "      Request taking longer than 8 minutes...\n",
      "      Request taking longer than 8 minutes...\n",
      "      Request taking longer than 8 minutes...\n",
      "      Request taking longer than 8 minutes...\n",
      "      Request taking longer than 8 minutes...\n",
      "      Request taking longer than 8 minutes...\n",
      "      Request taking longer than 8 minutes...\n",
      "      Request taking longer than 8 minutes...\n",
      "      Request taking longer than 8 minutes...\n",
      "      Request taking longer than 8 minutes...\n",
      "      Request taking longer than 8 minutes...\n",
      "      Request taking longer than 8 minutes...\n",
      "      Request taking longer than 8 minutes...\n",
      "      Request taking longer than 8 minutes...\n",
      "      Request taking longer than 8 minutes...\n",
      "      Request taking longer than 8 minutes...\n",
      "      Request taking longer than 8 minutes...\n",
      "      Request taking longer than 8 minutes...\n",
      "      Request taking longer than 8 minutes...\n",
      "      Request taking longer than 8 minutes...\n",
      "      Request taking longer than 8 minutes...\n",
      "      Request taking longer than 8 minutes...\n",
      "      Request taking longer than 8 minutes...\n",
      "      Request taking longer than 8 minutes...\n",
      "      Request taking longer than 8 minutes...\n",
      "      Request taking longer than 8 minutes...\n",
      "      Request taking longer than 8 minutes...\n",
      "      Request taking longer than 8 minutes...\n",
      "      Request taking longer than 8 minutes...\n",
      "      Request taking longer than 8 minutes...\n",
      "      Request taking longer than 8 minutes...\n",
      "      Request taking longer than 8 minutes...\n",
      "      Request taking longer than 8 minutes...\n",
      "      Request taking longer than 8 minutes...\n",
      "      Request taking longer than 8 minutes...\n",
      "      Request taking longer than 8 minutes...\n",
      "      Request taking longer than 8 minutes...\n",
      "      Request taking longer than 8 minutes...\n",
      "      Request taking longer than 8 minutes...\n",
      "      Request taking longer than 8 minutes...\n",
      "      Request taking longer than 8 minutes...\n",
      "      Request taking longer than 8 minutes...\n",
      "      Request taking longer than 8 minutes...\n",
      "      Request taking longer than 8 minutes...\n",
      "      Request taking longer than 8 minutes...\n",
      "      Request taking longer than 8 minutes...\n",
      "      Request taking longer than 8 minutes...\n",
      "      Request taking longer than 8 minutes...\n",
      "      Request taking longer than 8 minutes...\n",
      "      Request taking longer than 8 minutes...\n",
      "      Request taking longer than 8 minutes...\n",
      "      Request taking longer than 8 minutes...\n",
      "      Request taking longer than 8 minutes...\n",
      "      Request taking longer than 8 minutes...\n",
      "      Request taking longer than 8 minutes...\n",
      "      Request taking longer than 8 minutes...\n",
      "      Request taking longer than 8 minutes...\n",
      "      Request taking longer than 8 minutes...\n",
      "      Request taking longer than 8 minutes...\n",
      "      Request taking longer than 8 minutes...\n",
      "      Request taking longer than 8 minutes...\n",
      "      Request taking longer than 8 minutes...\n",
      "      Request taking longer than 8 minutes...\n",
      "      Request taking longer than 8 minutes...\n",
      "      Request taking longer than 8 minutes...\n",
      "      Request taking longer than 8 minutes...\n",
      "      Request taking longer than 8 minutes...\n",
      "      Request taking longer than 8 minutes...\n",
      "      Request taking longer than 8 minutes...\n",
      "      Request taking longer than 8 minutes...\n",
      "      Request taking longer than 8 minutes...\n",
      "      Request taking longer than 8 minutes...\n",
      "      Request taking longer than 8 minutes...\n",
      "      Request taking longer than 8 minutes...\n",
      "      Request taking longer than 8 minutes...\n",
      "      Request taking longer than 8 minutes...\n",
      "      Request taking longer than 8 minutes...\n",
      "      Request taking longer than 8 minutes...\n",
      "      Request taking longer than 8 minutes...\n",
      "      Request taking longer than 8 minutes...\n",
      "      Request taking longer than 8 minutes...\n",
      "      Request taking longer than 8 minutes...\n",
      "      Request taking longer than 8 minutes...\n",
      "      Request taking longer than 8 minutes...\n",
      "      Request taking longer than 8 minutes...\n",
      "      Request taking longer than 8 minutes...\n",
      "      Request taking longer than 8 minutes...\n",
      "      Request taking longer than 8 minutes...\n",
      "      Request taking longer than 8 minutes...\n",
      "      Request taking longer than 8 minutes...\n",
      "      Request taking longer than 8 minutes...\n",
      "      Request taking longer than 8 minutes...\n",
      "      Request taking longer than 8 minutes...\n",
      "      Request taking longer than 8 minutes...\n",
      "      Request taking longer than 8 minutes...\n",
      "      Request taking longer than 8 minutes...\n",
      "      Request taking longer than 8 minutes...\n",
      "      Request taking longer than 8 minutes...\n",
      "      Request taking longer than 8 minutes...\n",
      "      Request taking longer than 8 minutes...\n",
      "      Request taking longer than 8 minutes...\n",
      "      Request taking longer than 8 minutes...\n",
      "      Request taking longer than 8 minutes...\n",
      "      Request taking longer than 8 minutes...\n",
      "      Request taking longer than 8 minutes...\n",
      "      Request taking longer than 8 minutes...\n",
      "      Request taking longer than 8 minutes...\n",
      "      Request taking longer than 8 minutes...\n",
      "      Request taking longer than 8 minutes...\n",
      "      Request taking longer than 8 minutes...\n",
      "      Request taking longer than 8 minutes...\n",
      "      Request taking longer than 8 minutes...\n",
      "      Request taking longer than 8 minutes...\n",
      "      Request taking longer than 8 minutes...\n",
      "      Request taking longer than 8 minutes...\n",
      "      Request taking longer than 8 minutes...\n",
      "      Request taking longer than 8 minutes...\n",
      "      Request taking longer than 8 minutes...\n",
      "      Request taking longer than 8 minutes...\n",
      "      Request taking longer than 8 minutes...\n",
      "      Request taking longer than 8 minutes...\n",
      "      Request taking longer than 8 minutes...\n",
      "      Request taking longer than 8 minutes...\n",
      "      Request taking longer than 8 minutes...\n",
      "      Request taking longer than 8 minutes...\n",
      "      Request taking longer than 8 minutes...\n",
      "      Request taking longer than 8 minutes...\n",
      "      Request taking longer than 8 minutes...\n",
      "      Request taking longer than 8 minutes...\n",
      "      Request taking longer than 8 minutes...\n",
      "      Request taking longer than 8 minutes...\n",
      "      Request taking longer than 8 minutes...\n",
      "      Request taking longer than 8 minutes...\n",
      "      Request taking longer than 8 minutes...\n",
      "      Request taking longer than 8 minutes...\n",
      "      Request taking longer than 8 minutes...\n",
      "      Request taking longer than 8 minutes...\n",
      "      Request taking longer than 8 minutes...\n",
      "      Request taking longer than 8 minutes...\n",
      "      Request taking longer than 8 minutes...\n",
      "      Request taking longer than 8 minutes...\n",
      "      Request taking longer than 8 minutes...\n",
      "      Request taking longer than 8 minutes...\n",
      "      Request taking longer than 8 minutes...\n",
      "      Request taking longer than 8 minutes...\n",
      "      Request taking longer than 8 minutes...\n",
      "      Request taking longer than 8 minutes...\n",
      "      Request taking longer than 8 minutes...\n",
      "      Request taking longer than 8 minutes...\n",
      "      Request taking longer than 8 minutes...\n",
      "      Request taking longer than 8 minutes...\n",
      "      Request taking longer than 8 minutes...\n",
      "      Request taking longer than 8 minutes...\n",
      "      Request taking longer than 8 minutes...\n",
      "      Request taking longer than 8 minutes...\n",
      "      Request taking longer than 8 minutes...\n",
      "      Request taking longer than 8 minutes...\n",
      "      Request taking longer than 8 minutes...\n",
      "      Request taking longer than 8 minutes...\n",
      "      Request taking longer than 8 minutes...\n",
      "      Request taking longer than 8 minutes...\n",
      "      Request taking longer than 8 minutes...\n",
      "      Request taking longer than 8 minutes...\n",
      "      Request taking longer than 8 minutes...\n",
      "      Request taking longer than 8 minutes...\n",
      "      Request taking longer than 8 minutes...\n",
      "      Request taking longer than 8 minutes...\n",
      "      Request taking longer than 8 minutes...\n",
      "      Request taking longer than 8 minutes...\n",
      "      Request taking longer than 8 minutes...\n",
      "      Request taking longer than 8 minutes...\n",
      "      Request taking longer than 8 minutes...\n",
      "      Request taking longer than 8 minutes...\n",
      "      Request taking longer than 8 minutes...\n",
      "      Request taking longer than 8 minutes...\n",
      "      Request taking longer than 8 minutes...\n",
      "      Request taking longer than 8 minutes...\n",
      "      Request taking longer than 8 minutes...\n",
      "      Request taking longer than 8 minutes...\n",
      "      Request taking longer than 8 minutes...\n",
      "      Request taking longer than 8 minutes...\n",
      "      Request taking longer than 8 minutes...\n",
      "      Request taking longer than 8 minutes...\n",
      "      Request taking longer than 8 minutes...\n",
      "      Request taking longer than 8 minutes...\n",
      "      Request taking longer than 8 minutes...\n",
      "      Request taking longer than 8 minutes...\n",
      "      Request taking longer than 8 minutes...\n",
      "      Request taking longer than 8 minutes...\n",
      "      Request taking longer than 8 minutes...\n",
      "      Request taking longer than 8 minutes...\n",
      "      Request taking longer than 8 minutes...\n",
      "      Request taking longer than 8 minutes...\n",
      "      Request taking longer than 8 minutes...\n",
      "      Request taking longer than 8 minutes...\n",
      "      Request taking longer than 8 minutes...\n",
      "      Request taking longer than 8 minutes...\n",
      "      Request taking longer than 8 minutes...\n",
      "      Request taking longer than 8 minutes...\n",
      "      Request taking longer than 8 minutes...\n",
      "      Request taking longer than 8 minutes...\n",
      "      Request taking longer than 8 minutes...\n",
      "      Request taking longer than 8 minutes...\n",
      "      Request taking longer than 8 minutes...\n",
      "      Request taking longer than 8 minutes...\n",
      "      Request taking longer than 8 minutes...\n",
      "      Request taking longer than 8 minutes...\n",
      "      Request taking longer than 8 minutes...\n",
      "      Request taking longer than 8 minutes...\n",
      "      Request taking longer than 8 minutes...\n",
      "      Request taking longer than 8 minutes...\n",
      "      Request taking longer than 8 minutes...\n",
      "      Request taking longer than 8 minutes...\n",
      "      Request taking longer than 8 minutes...\n",
      "      Request taking longer than 8 minutes...\n",
      "      Request taking longer than 8 minutes...\n",
      "      Request taking longer than 8 minutes...\n",
      "      Request taking longer than 8 minutes...\n",
      "      Request taking longer than 8 minutes...\n",
      "      Request taking longer than 8 minutes...\n",
      "      Request taking longer than 8 minutes...\n",
      "      Request taking longer than 8 minutes...\n",
      "      Request taking longer than 8 minutes...\n",
      "      Request taking longer than 8 minutes...\n",
      "      Request taking longer than 8 minutes...\n",
      "      Request taking longer than 8 minutes...\n",
      "      Request taking longer than 8 minutes...\n",
      "      Request taking longer than 8 minutes...\n",
      "      Request taking longer than 8 minutes...\n",
      "      Request taking longer than 8 minutes...\n",
      "      Request taking longer than 8 minutes...\n",
      "      Request taking longer than 8 minutes...\n",
      "      Request taking longer than 8 minutes...\n",
      "   Failed after 720.4s: Request timed out after 12.0 minutes\n",
      "   Progress: 44/45 (97.8%)\n",
      "   ETA: 2.0 minutes remaining\n",
      "\n",
      "BATCH 45/45\n",
      "   Requirements: 41 (#2201-#2241)\n",
      "   Size: 23,468 chars (~5,867 tokens)\n"
     ]
    },
    {
     "name": "stderr",
     "output_type": "stream",
     "text": [
      "INFO:httpx:HTTP Request: POST https://api.anthropic.com/v1/messages \"HTTP/1.1 200 OK\"\n"
     ]
    },
    {
     "name": "stdout",
     "output_type": "stream",
     "text": [
      "   Completed in 75.6s\n",
      "   Progress: 45/45 (100.0%)\n",
      "   ETA: 0.0 minutes remaining\n",
      "\n",
      "COMBINING RESULTS\n",
      "--------------------\n",
      "Merging batch results and renumbering...\n",
      "   Processing batch 1 results...\n",
      "   Processing batch 2 results...\n",
      "   Processing batch 3 results...\n",
      "   Processing batch 4 results...\n",
      "   Processing batch 5 results...\n",
      "   Processing batch 6 results...\n",
      "   Processing batch 7 results...\n",
      "   Processing batch 8 results...\n",
      "   Processing batch 9 results...\n",
      "   Processing batch 10 results...\n",
      "   Processing batch 11 results...\n",
      "   Processing batch 12 results...\n",
      "   Processing batch 13 results...\n",
      "   Processing batch 14 results...\n",
      "   Processing batch 15 results...\n",
      "   Processing batch 16 results...\n",
      "   Processing batch 17 results...\n",
      "   Processing batch 18 results...\n",
      "   Processing batch 19 results...\n",
      "   Processing batch 20 results...\n",
      "   Processing batch 21 results...\n",
      "   Processing batch 22 results...\n",
      "   Processing batch 23 results...\n",
      "   Processing batch 24 results...\n",
      "   Processing batch 25 results...\n",
      "   Processing batch 26 results...\n",
      "   Processing batch 27 results...\n",
      "   Processing batch 28 results...\n",
      "   Processing batch 29 results...\n",
      "   Processing batch 30 results...\n",
      "   Processing batch 31 results...\n",
      "   Processing batch 32 results...\n",
      "   Processing batch 33 results...\n",
      "   Processing batch 34 results...\n",
      "   Processing batch 35 results...\n",
      "   Processing batch 36 results...\n",
      "   Processing batch 37 results...\n",
      "   Processing batch 38 results...\n",
      "   Processing batch 39 results...\n",
      "   Processing batch 40 results...\n",
      "   Processing batch 41 results...\n",
      "   Processing batch 42 results...\n",
      "   Processing batch 43 results...\n",
      "   Processing batch 44 results...\n",
      "   Processing batch 45 results...\n",
      "   Renumbered 1785 requirements\n",
      "BATCH PROCESSING COMPLETE!\n",
      "========================================\n",
      "Output saved: checkpoints/revised_reqs_extraction/claude_refined_requirements_batch_20250825_132459.md\n",
      "Original requirements: 2241\n",
      "Final requirements: 1785\n",
      "Successful batches: 44/45\n",
      "Failed batches: 1/45\n",
      "Total time: 87.7 minutes\n",
      "Average per batch: 116.9 seconds\n"
     ]
    },
    {
     "name": "stderr",
     "output_type": "stream",
     "text": [
      "INFO:anthropic._base_client:Retrying request to /v1/messages in 0.484711 seconds\n",
      "INFO:httpx:HTTP Request: POST https://api.anthropic.com/v1/messages \"HTTP/1.1 200 OK\"\n"
     ]
    }
   ],
   "source": [
    "result = reqs_reviewer.run_batch_requirements_refinement(\n",
    "    input_file=\"checkpoints/requirements_extraction/us-core/claude_reqs_list_v1_20250825_105114.md\",\n",
    "    llm_client_instance=llm_clients,\n",
    "    batch_size=50,\n",
    "    api_type=\"claude\"\n",
    ")"
   ]
  },
  {
   "cell_type": "markdown",
   "id": "832ef294",
   "metadata": {},
   "source": [
    "### Small Number of Requirements (<500)"
   ]
  },
  {
   "cell_type": "code",
   "execution_count": 7,
   "id": "687e4667",
   "metadata": {},
   "outputs": [
    {
     "name": "stderr",
     "output_type": "stream",
     "text": [
      "2025-08-24 13:15:19,212 - root - INFO - Prompt environment set up at: /Users/ceadams/Documents/onclaive/onclaive/prompts\n",
      "2025-08-24 13:15:19,213 - root - INFO - Starting requirements refinement with claude\n",
      "2025-08-24 13:15:19,233 - root - INFO - Original requirements count: 3595\n",
      "2025-08-24 13:15:19,233 - root - INFO - Input size: 1455002 characters, ~363750 tokens\n",
      "2025-08-24 13:15:19,234 - root - INFO - Sending requirements to claude for refinement...\n",
      "2025-08-24 13:15:19,236 - root - INFO - Estimated input tokens: 364328\n",
      "2025-08-24 13:15:19,236 - root - INFO - API input limit: 180000\n",
      "2025-08-24 13:15:19,236 - root - INFO - API output limit: 8192\n",
      "2025-08-24 13:15:19,236 - root - WARNING - Input may exceed token limits. Splitting into chunks...\n",
      "2025-08-24 13:15:19,238 - root - INFO - Prompt overhead: 578 tokens\n",
      "2025-08-24 13:15:19,238 - root - INFO - Available tokens for requirements: 177422\n",
      "2025-08-24 13:15:19,257 - root - INFO - Found 3596 individual requirements to process\n",
      "2025-08-24 13:15:19,261 - root - INFO - Split into 3 chunks\n",
      "2025-08-24 13:15:19,262 - root - INFO - Split into 3 chunks\n",
      "2025-08-24 13:15:19,263 - root - INFO - Processing chunk 1/3\n",
      "2025-08-24 13:15:19,264 - root - INFO - 🎯 Auto-streaming: 179586 input + 8192 output tokens\n",
      "2025-08-24 13:15:19,264 - root - INFO - 🌊 Using streaming for large request...\n"
     ]
    },
    {
     "ename": "KeyboardInterrupt",
     "evalue": "",
     "output_type": "error",
     "traceback": [
      "\u001b[31m---------------------------------------------------------------------------\u001b[39m",
      "\u001b[31mKeyboardInterrupt\u001b[39m                         Traceback (most recent call last)",
      "\u001b[36mCell\u001b[39m\u001b[36m \u001b[39m\u001b[32mIn[7]\u001b[39m\u001b[32m, line 2\u001b[39m\n\u001b[32m      1\u001b[39m \u001b[38;5;66;03m# Manual refinement with specific file\u001b[39;00m\n\u001b[32m----> \u001b[39m\u001b[32m2\u001b[39m refinement_result = \u001b[43mreqs_reviewer\u001b[49m\u001b[43m.\u001b[49m\u001b[43mrefine_requirements\u001b[49m\u001b[43m(\u001b[49m\n\u001b[32m      3\u001b[39m \u001b[43m    \u001b[49m\u001b[43minput_file\u001b[49m\u001b[43m=\u001b[49m\u001b[33;43m\"\u001b[39;49m\u001b[33;43m/Users/ceadams/Documents/onclaive/onclaive/pipeline/checkpoints/requirements_extraction/us-core/gpt_reqs_list_v1_20250820_091156.md\u001b[39;49m\u001b[33;43m\"\u001b[39;49m\u001b[43m,\u001b[49m\n\u001b[32m      4\u001b[39m \u001b[43m    \u001b[49m\u001b[43mapi_type\u001b[49m\u001b[43m=\u001b[49m\u001b[33;43m\"\u001b[39;49m\u001b[33;43mclaude\u001b[39;49m\u001b[33;43m\"\u001b[39;49m\u001b[43m,\u001b[49m\n\u001b[32m      5\u001b[39m \u001b[43m    \u001b[49m\u001b[43moutput_dir\u001b[49m\u001b[43m=\u001b[49m\u001b[33;43m\"\u001b[39;49m\u001b[33;43mcheckpoints/revised_reqs_extraction\u001b[39;49m\u001b[33;43m\"\u001b[39;49m\u001b[43m,\u001b[49m\n\u001b[32m      6\u001b[39m \u001b[43m    \u001b[49m\u001b[43mllm_client_instance\u001b[49m\u001b[43m=\u001b[49m\u001b[43mllm_clients\u001b[49m\n\u001b[32m      7\u001b[39m \u001b[43m)\u001b[49m\n\u001b[32m      9\u001b[39m \u001b[38;5;28mprint\u001b[39m(\u001b[33mf\u001b[39m\u001b[33m\"\u001b[39m\u001b[33m✅ Refined requirements saved to: \u001b[39m\u001b[38;5;132;01m{\u001b[39;00mrefinement_result[\u001b[33m'\u001b[39m\u001b[33moutput_file\u001b[39m\u001b[33m'\u001b[39m]\u001b[38;5;132;01m}\u001b[39;00m\u001b[33m\"\u001b[39m)\n\u001b[32m     10\u001b[39m \u001b[38;5;28mprint\u001b[39m(\u001b[33mf\u001b[39m\u001b[33m\"\u001b[39m\u001b[33m📊 \u001b[39m\u001b[38;5;132;01m{\u001b[39;00mrefinement_result[\u001b[33m'\u001b[39m\u001b[33moriginal_requirements_count\u001b[39m\u001b[33m'\u001b[39m]\u001b[38;5;132;01m}\u001b[39;00m\u001b[33m → \u001b[39m\u001b[38;5;132;01m{\u001b[39;00mrefinement_result[\u001b[33m'\u001b[39m\u001b[33mrequirements_count\u001b[39m\u001b[33m'\u001b[39m]\u001b[38;5;132;01m}\u001b[39;00m\u001b[33m requirements\u001b[39m\u001b[33m\"\u001b[39m)\n",
      "\u001b[36mFile \u001b[39m\u001b[32m~/Documents/onclaive/onclaive/pipeline/reqs_reviewer.py:470\u001b[39m, in \u001b[36mrefine_requirements\u001b[39m\u001b[34m(input_file, api_type, output_dir, project_root, llm_client_instance)\u001b[39m\n\u001b[32m    467\u001b[39m \u001b[38;5;28;01mtry\u001b[39;00m:\n\u001b[32m    468\u001b[39m     \u001b[38;5;66;03m# Process the requirements with enhanced token handling\u001b[39;00m\n\u001b[32m    469\u001b[39m     logging.info(\u001b[33mf\u001b[39m\u001b[33m\"\u001b[39m\u001b[33mSending requirements to \u001b[39m\u001b[38;5;132;01m{\u001b[39;00mapi_type\u001b[38;5;132;01m}\u001b[39;00m\u001b[33m for refinement...\u001b[39m\u001b[33m\"\u001b[39m)\n\u001b[32m--> \u001b[39m\u001b[32m470\u001b[39m     refined_requirements = \u001b[43mmake_api_request_with_limits\u001b[49m\u001b[43m(\u001b[49m\n\u001b[32m    471\u001b[39m \u001b[43m        \u001b[49m\u001b[43mclient_instance\u001b[49m\u001b[43m,\u001b[49m\u001b[43m \u001b[49m\u001b[43mapi_type\u001b[49m\u001b[43m,\u001b[49m\u001b[43m \u001b[49m\u001b[43mrequirements_content\u001b[49m\u001b[43m,\u001b[49m\n\u001b[32m    472\u001b[39m \u001b[43m        \u001b[49m\u001b[43menv\u001b[49m\u001b[43m[\u001b[49m\u001b[33;43m\"\u001b[39;49m\u001b[33;43mprompt_utils\u001b[39;49m\u001b[33;43m\"\u001b[39;49m\u001b[43m]\u001b[49m\u001b[43m,\u001b[49m\u001b[43m \u001b[49m\u001b[43menv\u001b[49m\u001b[43m[\u001b[49m\u001b[33;43m\"\u001b[39;49m\u001b[33;43mprompt_env\u001b[39;49m\u001b[33;43m\"\u001b[39;49m\u001b[43m]\u001b[49m\u001b[43m[\u001b[49m\u001b[33;43m\"\u001b[39;49m\u001b[33;43mrequirements_refinement_path\u001b[39;49m\u001b[33;43m\"\u001b[39;49m\u001b[43m]\u001b[49m\u001b[43m,\u001b[49m\n\u001b[32m    473\u001b[39m \u001b[43m        \u001b[49m\u001b[43menv\u001b[49m\u001b[43m[\u001b[49m\u001b[33;43m\"\u001b[39;49m\u001b[33;43msystem_prompts\u001b[39;49m\u001b[33;43m\"\u001b[39;49m\u001b[43m]\u001b[49m\u001b[43m,\u001b[49m\u001b[43m \u001b[49m\u001b[43menv\u001b[49m\u001b[43m[\u001b[49m\u001b[33;43m\"\u001b[39;49m\u001b[33;43mllm_utils\u001b[39;49m\u001b[33;43m\"\u001b[39;49m\u001b[43m]\u001b[49m\n\u001b[32m    474\u001b[39m \u001b[43m    \u001b[49m\u001b[43m)\u001b[49m\n\u001b[32m    476\u001b[39m     \u001b[38;5;28;01mif\u001b[39;00m \u001b[38;5;129;01mnot\u001b[39;00m refined_requirements \u001b[38;5;129;01mor\u001b[39;00m \u001b[38;5;129;01mnot\u001b[39;00m refined_requirements.strip():\n\u001b[32m    477\u001b[39m         \u001b[38;5;28;01mraise\u001b[39;00m \u001b[38;5;167;01mRuntimeError\u001b[39;00m(\u001b[33m\"\u001b[39m\u001b[33mAPI returned empty or whitespace-only response\u001b[39m\u001b[33m\"\u001b[39m)\n",
      "\u001b[36mFile \u001b[39m\u001b[32m~/Documents/onclaive/onclaive/pipeline/reqs_reviewer.py:339\u001b[39m, in \u001b[36mmake_api_request_with_limits\u001b[39m\u001b[34m(client_instance, api_type, content, prompt_utils, requirements_refinement_path, system_prompts, llm_utils)\u001b[39m\n\u001b[32m    337\u001b[39m \u001b[38;5;66;03m# Use existing LLMApiClient method\u001b[39;00m\n\u001b[32m    338\u001b[39m \u001b[38;5;28;01mtry\u001b[39;00m:\n\u001b[32m--> \u001b[39m\u001b[32m339\u001b[39m     response = \u001b[43mclient_instance\u001b[49m\u001b[43m.\u001b[49m\u001b[43mmake_llm_request\u001b[49m\u001b[43m(\u001b[49m\n\u001b[32m    340\u001b[39m \u001b[43m        \u001b[49m\u001b[43mapi_type\u001b[49m\u001b[43m=\u001b[49m\u001b[43mapi_type\u001b[49m\u001b[43m,\u001b[49m\n\u001b[32m    341\u001b[39m \u001b[43m        \u001b[49m\u001b[43mprompt\u001b[49m\u001b[43m=\u001b[49m\u001b[43mchunk_prompt\u001b[49m\u001b[43m,\u001b[49m\n\u001b[32m    342\u001b[39m \u001b[43m        \u001b[49m\u001b[43msys_prompt\u001b[49m\u001b[43m=\u001b[49m\u001b[43msystem_prompts\u001b[49m\u001b[43m[\u001b[49m\u001b[43mapi_type\u001b[49m\u001b[43m]\u001b[49m\u001b[43m,\u001b[49m\n\u001b[32m    343\u001b[39m \u001b[43m        \u001b[49m\u001b[43mreformat\u001b[49m\u001b[43m=\u001b[49m\u001b[38;5;28;43;01mFalse\u001b[39;49;00m\u001b[43m  \u001b[49m\u001b[38;5;66;43;03m# We're already providing the formatted prompt\u001b[39;49;00m\n\u001b[32m    344\u001b[39m \u001b[43m    \u001b[49m\u001b[43m)\u001b[49m\n\u001b[32m    345\u001b[39m     all_results.append(response)\n\u001b[32m    347\u001b[39m     \u001b[38;5;66;03m# Add small delay between chunks\u001b[39;00m\n",
      "\u001b[36mFile \u001b[39m\u001b[32m~/Documents/onclaive/onclaive/pipeline/llm_utils.py:518\u001b[39m, in \u001b[36mLLMApiClient.make_llm_request\u001b[39m\u001b[34m(self, api_type, prompt, sys_prompt, raise_on_error, reformat, max_tokens)\u001b[39m\n\u001b[32m    516\u001b[39m     query = prompt\n\u001b[32m    517\u001b[39m \u001b[38;5;28;01mtry\u001b[39;00m:\n\u001b[32m--> \u001b[39m\u001b[32m518\u001b[39m     \u001b[38;5;28;01mreturn\u001b[39;00m \u001b[38;5;28;43mself\u001b[39;49m\u001b[43m.\u001b[49m\u001b[43mmake_one_llm_request\u001b[49m\u001b[43m(\u001b[49m\u001b[43mapi_type\u001b[49m\u001b[43m,\u001b[49m\u001b[43m \u001b[49m\u001b[43mquery\u001b[49m\u001b[43m,\u001b[49m\u001b[43m \u001b[49m\u001b[43msystem_prompt\u001b[49m\u001b[43m,\u001b[49m\u001b[43m \u001b[49m\u001b[43mmax_tokens\u001b[49m\u001b[43m)\u001b[49m\n\u001b[32m    519\u001b[39m \u001b[38;5;28;01mexcept\u001b[39;00m SafetyFilterException \u001b[38;5;28;01mas\u001b[39;00m e:\n\u001b[32m    520\u001b[39m     \u001b[38;5;28mself\u001b[39m.safety_blocked_count += \u001b[32m1\u001b[39m\n",
      "\u001b[36mFile \u001b[39m\u001b[32m~/Documents/onclaive/onclaive/.venv/lib/python3.12/site-packages/tenacity/__init__.py:336\u001b[39m, in \u001b[36mBaseRetrying.wraps.<locals>.wrapped_f\u001b[39m\u001b[34m(*args, **kw)\u001b[39m\n\u001b[32m    334\u001b[39m copy = \u001b[38;5;28mself\u001b[39m.copy()\n\u001b[32m    335\u001b[39m wrapped_f.statistics = copy.statistics  \u001b[38;5;66;03m# type: ignore[attr-defined]\u001b[39;00m\n\u001b[32m--> \u001b[39m\u001b[32m336\u001b[39m \u001b[38;5;28;01mreturn\u001b[39;00m \u001b[43mcopy\u001b[49m\u001b[43m(\u001b[49m\u001b[43mf\u001b[49m\u001b[43m,\u001b[49m\u001b[43m \u001b[49m\u001b[43m*\u001b[49m\u001b[43margs\u001b[49m\u001b[43m,\u001b[49m\u001b[43m \u001b[49m\u001b[43m*\u001b[49m\u001b[43m*\u001b[49m\u001b[43mkw\u001b[49m\u001b[43m)\u001b[49m\n",
      "\u001b[36mFile \u001b[39m\u001b[32m~/Documents/onclaive/onclaive/.venv/lib/python3.12/site-packages/tenacity/__init__.py:475\u001b[39m, in \u001b[36mRetrying.__call__\u001b[39m\u001b[34m(self, fn, *args, **kwargs)\u001b[39m\n\u001b[32m    473\u001b[39m retry_state = RetryCallState(retry_object=\u001b[38;5;28mself\u001b[39m, fn=fn, args=args, kwargs=kwargs)\n\u001b[32m    474\u001b[39m \u001b[38;5;28;01mwhile\u001b[39;00m \u001b[38;5;28;01mTrue\u001b[39;00m:\n\u001b[32m--> \u001b[39m\u001b[32m475\u001b[39m     do = \u001b[38;5;28;43mself\u001b[39;49m\u001b[43m.\u001b[49m\u001b[43miter\u001b[49m\u001b[43m(\u001b[49m\u001b[43mretry_state\u001b[49m\u001b[43m=\u001b[49m\u001b[43mretry_state\u001b[49m\u001b[43m)\u001b[49m\n\u001b[32m    476\u001b[39m     \u001b[38;5;28;01mif\u001b[39;00m \u001b[38;5;28misinstance\u001b[39m(do, DoAttempt):\n\u001b[32m    477\u001b[39m         \u001b[38;5;28;01mtry\u001b[39;00m:\n",
      "\u001b[36mFile \u001b[39m\u001b[32m~/Documents/onclaive/onclaive/.venv/lib/python3.12/site-packages/tenacity/__init__.py:376\u001b[39m, in \u001b[36mBaseRetrying.iter\u001b[39m\u001b[34m(self, retry_state)\u001b[39m\n\u001b[32m    374\u001b[39m result = \u001b[38;5;28;01mNone\u001b[39;00m\n\u001b[32m    375\u001b[39m \u001b[38;5;28;01mfor\u001b[39;00m action \u001b[38;5;129;01min\u001b[39;00m \u001b[38;5;28mself\u001b[39m.iter_state.actions:\n\u001b[32m--> \u001b[39m\u001b[32m376\u001b[39m     result = \u001b[43maction\u001b[49m\u001b[43m(\u001b[49m\u001b[43mretry_state\u001b[49m\u001b[43m)\u001b[49m\n\u001b[32m    377\u001b[39m \u001b[38;5;28;01mreturn\u001b[39;00m result\n",
      "\u001b[36mFile \u001b[39m\u001b[32m~/Documents/onclaive/onclaive/.venv/lib/python3.12/site-packages/tenacity/__init__.py:398\u001b[39m, in \u001b[36mBaseRetrying._post_retry_check_actions.<locals>.<lambda>\u001b[39m\u001b[34m(rs)\u001b[39m\n\u001b[32m    396\u001b[39m \u001b[38;5;28;01mdef\u001b[39;00m\u001b[38;5;250m \u001b[39m\u001b[34m_post_retry_check_actions\u001b[39m(\u001b[38;5;28mself\u001b[39m, retry_state: \u001b[33m\"\u001b[39m\u001b[33mRetryCallState\u001b[39m\u001b[33m\"\u001b[39m) -> \u001b[38;5;28;01mNone\u001b[39;00m:\n\u001b[32m    397\u001b[39m     \u001b[38;5;28;01mif\u001b[39;00m \u001b[38;5;129;01mnot\u001b[39;00m (\u001b[38;5;28mself\u001b[39m.iter_state.is_explicit_retry \u001b[38;5;129;01mor\u001b[39;00m \u001b[38;5;28mself\u001b[39m.iter_state.retry_run_result):\n\u001b[32m--> \u001b[39m\u001b[32m398\u001b[39m         \u001b[38;5;28mself\u001b[39m._add_action_func(\u001b[38;5;28;01mlambda\u001b[39;00m rs: \u001b[43mrs\u001b[49m\u001b[43m.\u001b[49m\u001b[43moutcome\u001b[49m\u001b[43m.\u001b[49m\u001b[43mresult\u001b[49m\u001b[43m(\u001b[49m\u001b[43m)\u001b[49m)\n\u001b[32m    399\u001b[39m         \u001b[38;5;28;01mreturn\u001b[39;00m\n\u001b[32m    401\u001b[39m     \u001b[38;5;28;01mif\u001b[39;00m \u001b[38;5;28mself\u001b[39m.after \u001b[38;5;129;01mis\u001b[39;00m \u001b[38;5;129;01mnot\u001b[39;00m \u001b[38;5;28;01mNone\u001b[39;00m:\n",
      "\u001b[36mFile \u001b[39m\u001b[32m/opt/homebrew/Cellar/python@3.12/3.12.6/Frameworks/Python.framework/Versions/3.12/lib/python3.12/concurrent/futures/_base.py:449\u001b[39m, in \u001b[36mFuture.result\u001b[39m\u001b[34m(self, timeout)\u001b[39m\n\u001b[32m    447\u001b[39m     \u001b[38;5;28;01mraise\u001b[39;00m CancelledError()\n\u001b[32m    448\u001b[39m \u001b[38;5;28;01melif\u001b[39;00m \u001b[38;5;28mself\u001b[39m._state == FINISHED:\n\u001b[32m--> \u001b[39m\u001b[32m449\u001b[39m     \u001b[38;5;28;01mreturn\u001b[39;00m \u001b[38;5;28;43mself\u001b[39;49m\u001b[43m.\u001b[49m\u001b[43m__get_result\u001b[49m\u001b[43m(\u001b[49m\u001b[43m)\u001b[49m\n\u001b[32m    451\u001b[39m \u001b[38;5;28mself\u001b[39m._condition.wait(timeout)\n\u001b[32m    453\u001b[39m \u001b[38;5;28;01mif\u001b[39;00m \u001b[38;5;28mself\u001b[39m._state \u001b[38;5;129;01min\u001b[39;00m [CANCELLED, CANCELLED_AND_NOTIFIED]:\n",
      "\u001b[36mFile \u001b[39m\u001b[32m/opt/homebrew/Cellar/python@3.12/3.12.6/Frameworks/Python.framework/Versions/3.12/lib/python3.12/concurrent/futures/_base.py:401\u001b[39m, in \u001b[36mFuture.__get_result\u001b[39m\u001b[34m(self)\u001b[39m\n\u001b[32m    399\u001b[39m \u001b[38;5;28;01mif\u001b[39;00m \u001b[38;5;28mself\u001b[39m._exception:\n\u001b[32m    400\u001b[39m     \u001b[38;5;28;01mtry\u001b[39;00m:\n\u001b[32m--> \u001b[39m\u001b[32m401\u001b[39m         \u001b[38;5;28;01mraise\u001b[39;00m \u001b[38;5;28mself\u001b[39m._exception\n\u001b[32m    402\u001b[39m     \u001b[38;5;28;01mfinally\u001b[39;00m:\n\u001b[32m    403\u001b[39m         \u001b[38;5;66;03m# Break a reference cycle with the exception in self._exception\u001b[39;00m\n\u001b[32m    404\u001b[39m         \u001b[38;5;28mself\u001b[39m = \u001b[38;5;28;01mNone\u001b[39;00m\n",
      "\u001b[36mFile \u001b[39m\u001b[32m~/Documents/onclaive/onclaive/.venv/lib/python3.12/site-packages/tenacity/__init__.py:478\u001b[39m, in \u001b[36mRetrying.__call__\u001b[39m\u001b[34m(self, fn, *args, **kwargs)\u001b[39m\n\u001b[32m    476\u001b[39m \u001b[38;5;28;01mif\u001b[39;00m \u001b[38;5;28misinstance\u001b[39m(do, DoAttempt):\n\u001b[32m    477\u001b[39m     \u001b[38;5;28;01mtry\u001b[39;00m:\n\u001b[32m--> \u001b[39m\u001b[32m478\u001b[39m         result = \u001b[43mfn\u001b[49m\u001b[43m(\u001b[49m\u001b[43m*\u001b[49m\u001b[43margs\u001b[49m\u001b[43m,\u001b[49m\u001b[43m \u001b[49m\u001b[43m*\u001b[49m\u001b[43m*\u001b[49m\u001b[43mkwargs\u001b[49m\u001b[43m)\u001b[49m\n\u001b[32m    479\u001b[39m     \u001b[38;5;28;01mexcept\u001b[39;00m \u001b[38;5;167;01mBaseException\u001b[39;00m:  \u001b[38;5;66;03m# noqa: B902\u001b[39;00m\n\u001b[32m    480\u001b[39m         retry_state.set_exception(sys.exc_info())  \u001b[38;5;66;03m# type: ignore[arg-type]\u001b[39;00m\n",
      "\u001b[36mFile \u001b[39m\u001b[32m~/Documents/onclaive/onclaive/pipeline/llm_utils.py:342\u001b[39m, in \u001b[36mLLMApiClient.make_one_llm_request\u001b[39m\u001b[34m(self, api_type, prompt, system_prompt, max_tokens)\u001b[39m\n\u001b[32m    340\u001b[39m     \u001b[38;5;28;01mif\u001b[39;00m should_stream:\n\u001b[32m    341\u001b[39m         logging.info(\u001b[33mf\u001b[39m\u001b[33m\"\u001b[39m\u001b[33m🎯 Auto-streaming: \u001b[39m\u001b[38;5;132;01m{\u001b[39;00mestimated_input_tokens\u001b[38;5;132;01m}\u001b[39;00m\u001b[33m input + \u001b[39m\u001b[38;5;132;01m{\u001b[39;00mestimated_output_tokens\u001b[38;5;132;01m}\u001b[39;00m\u001b[33m output tokens\u001b[39m\u001b[33m\"\u001b[39m)\n\u001b[32m--> \u001b[39m\u001b[32m342\u001b[39m         \u001b[38;5;28;01mreturn\u001b[39;00m \u001b[38;5;28;43mself\u001b[39;49m\u001b[43m.\u001b[49m\u001b[43mmake_one_llm_request_streaming\u001b[49m\u001b[43m(\u001b[49m\u001b[43mapi_type\u001b[49m\u001b[43m,\u001b[49m\u001b[43m \u001b[49m\u001b[43mprompt\u001b[49m\u001b[43m,\u001b[49m\u001b[43m \u001b[49m\u001b[43msystem_prompt\u001b[49m\u001b[43m,\u001b[49m\u001b[43m \u001b[49m\u001b[43mmax_tokens\u001b[49m\u001b[43m)\u001b[49m\n\u001b[32m    345\u001b[39m full_input = \u001b[33mf\u001b[39m\u001b[33m\"\u001b[39m\u001b[38;5;132;01m{\u001b[39;00msystem_prompt\u001b[38;5;250m \u001b[39m\u001b[38;5;129;01mor\u001b[39;00m\u001b[38;5;250m \u001b[39m\u001b[33m'\u001b[39m\u001b[33m'\u001b[39m\u001b[38;5;132;01m}\u001b[39;00m\u001b[38;5;130;01m\\n\u001b[39;00m\u001b[38;5;132;01m{\u001b[39;00mprompt\u001b[38;5;132;01m}\u001b[39;00m\u001b[33m\"\u001b[39m\n\u001b[32m    346\u001b[39m \u001b[38;5;28mself\u001b[39m.check_rate_limits(api_type, full_input, tokens_limit)\n",
      "\u001b[36mFile \u001b[39m\u001b[32m~/Documents/onclaive/onclaive/pipeline/llm_utils.py:468\u001b[39m, in \u001b[36mLLMApiClient.make_one_llm_request_streaming\u001b[39m\u001b[34m(self, api_type, prompt, system_prompt, max_tokens)\u001b[39m\n\u001b[32m    465\u001b[39m logging.info(\u001b[33m\"\u001b[39m\u001b[33m🌊 Using streaming for large request...\u001b[39m\u001b[33m\"\u001b[39m)\n\u001b[32m    467\u001b[39m \u001b[38;5;66;03m# Use Anthropic SDK's built-in streaming\u001b[39;00m\n\u001b[32m--> \u001b[39m\u001b[32m468\u001b[39m \u001b[43m\u001b[49m\u001b[38;5;28;43;01mwith\u001b[39;49;00m\u001b[43m \u001b[49m\u001b[43mclient\u001b[49m\u001b[43m.\u001b[49m\u001b[43mmessages\u001b[49m\u001b[43m.\u001b[49m\u001b[43mstream\u001b[49m\u001b[43m(\u001b[49m\n\u001b[32m    469\u001b[39m \u001b[43m    \u001b[49m\u001b[43mmodel\u001b[49m\u001b[43m=\u001b[49m\u001b[43mconfig\u001b[49m\u001b[43m[\u001b[49m\u001b[33;43m\"\u001b[39;49m\u001b[33;43mmodel_name\u001b[39;49m\u001b[33;43m\"\u001b[39;49m\u001b[43m]\u001b[49m\u001b[43m,\u001b[49m\n\u001b[32m    470\u001b[39m \u001b[43m    \u001b[49m\u001b[43mmax_tokens\u001b[49m\u001b[43m=\u001b[49m\u001b[43mtokens_limit\u001b[49m\u001b[43m,\u001b[49m\n\u001b[32m    471\u001b[39m \u001b[43m    \u001b[49m\u001b[43mmessages\u001b[49m\u001b[43m=\u001b[49m\u001b[43m[\u001b[49m\u001b[43m{\u001b[49m\n\u001b[32m    472\u001b[39m \u001b[43m        \u001b[49m\u001b[33;43m\"\u001b[39;49m\u001b[33;43mrole\u001b[39;49m\u001b[33;43m\"\u001b[39;49m\u001b[43m:\u001b[49m\u001b[43m \u001b[49m\u001b[33;43m\"\u001b[39;49m\u001b[33;43muser\u001b[39;49m\u001b[33;43m\"\u001b[39;49m\u001b[43m,\u001b[49m\u001b[43m \u001b[49m\n\u001b[32m    473\u001b[39m \u001b[43m        \u001b[49m\u001b[33;43m\"\u001b[39;49m\u001b[33;43mcontent\u001b[39;49m\u001b[33;43m\"\u001b[39;49m\u001b[43m:\u001b[49m\u001b[43m \u001b[49m\u001b[43mprompt\u001b[49m\n\u001b[32m    474\u001b[39m \u001b[43m    \u001b[49m\u001b[43m}\u001b[49m\u001b[43m]\u001b[49m\u001b[43m,\u001b[49m\n\u001b[32m    475\u001b[39m \u001b[43m    \u001b[49m\u001b[43msystem\u001b[49m\u001b[43m=\u001b[49m\u001b[43msystem_prompt\u001b[49m\n\u001b[32m    476\u001b[39m \u001b[43m\u001b[49m\u001b[43m)\u001b[49m\u001b[43m \u001b[49m\u001b[38;5;28;43;01mas\u001b[39;49;00m\u001b[43m \u001b[49m\u001b[43mstream\u001b[49m\u001b[43m:\u001b[49m\n\u001b[32m    477\u001b[39m \u001b[43m    \u001b[49m\u001b[38;5;66;43;03m# Collect all text chunks\u001b[39;49;00m\n\u001b[32m    478\u001b[39m \u001b[43m    \u001b[49m\u001b[43mfull_response\u001b[49m\u001b[43m \u001b[49m\u001b[43m=\u001b[49m\u001b[43m \u001b[49m\u001b[33;43m\"\u001b[39;49m\u001b[33;43m\"\u001b[39;49m\n\u001b[32m    479\u001b[39m \u001b[43m    \u001b[49m\u001b[43mchunk_count\u001b[49m\u001b[43m \u001b[49m\u001b[43m=\u001b[49m\u001b[43m \u001b[49m\u001b[32;43m0\u001b[39;49m\n",
      "\u001b[36mFile \u001b[39m\u001b[32m~/Documents/onclaive/onclaive/.venv/lib/python3.12/site-packages/anthropic/lib/streaming/_messages.py:153\u001b[39m, in \u001b[36mMessageStreamManager.__enter__\u001b[39m\u001b[34m(self)\u001b[39m\n\u001b[32m    152\u001b[39m \u001b[38;5;28;01mdef\u001b[39;00m\u001b[38;5;250m \u001b[39m\u001b[34m__enter__\u001b[39m(\u001b[38;5;28mself\u001b[39m) -> MessageStream:\n\u001b[32m--> \u001b[39m\u001b[32m153\u001b[39m     raw_stream = \u001b[38;5;28;43mself\u001b[39;49m\u001b[43m.\u001b[49m\u001b[43m__api_request\u001b[49m\u001b[43m(\u001b[49m\u001b[43m)\u001b[49m\n\u001b[32m    155\u001b[39m     \u001b[38;5;28mself\u001b[39m.__stream = MessageStream(\n\u001b[32m    156\u001b[39m         cast_to=raw_stream._cast_to,\n\u001b[32m    157\u001b[39m         response=raw_stream.response,\n\u001b[32m    158\u001b[39m         client=raw_stream._client,\n\u001b[32m    159\u001b[39m     )\n\u001b[32m    161\u001b[39m     \u001b[38;5;28;01mreturn\u001b[39;00m \u001b[38;5;28mself\u001b[39m.__stream\n",
      "\u001b[36mFile \u001b[39m\u001b[32m~/Documents/onclaive/onclaive/.venv/lib/python3.12/site-packages/anthropic/_base_client.py:1277\u001b[39m, in \u001b[36mSyncAPIClient.post\u001b[39m\u001b[34m(self, path, cast_to, body, options, files, stream, stream_cls)\u001b[39m\n\u001b[32m   1263\u001b[39m \u001b[38;5;28;01mdef\u001b[39;00m\u001b[38;5;250m \u001b[39m\u001b[34mpost\u001b[39m(\n\u001b[32m   1264\u001b[39m     \u001b[38;5;28mself\u001b[39m,\n\u001b[32m   1265\u001b[39m     path: \u001b[38;5;28mstr\u001b[39m,\n\u001b[32m   (...)\u001b[39m\u001b[32m   1272\u001b[39m     stream_cls: \u001b[38;5;28mtype\u001b[39m[_StreamT] | \u001b[38;5;28;01mNone\u001b[39;00m = \u001b[38;5;28;01mNone\u001b[39;00m,\n\u001b[32m   1273\u001b[39m ) -> ResponseT | _StreamT:\n\u001b[32m   1274\u001b[39m     opts = FinalRequestOptions.construct(\n\u001b[32m   1275\u001b[39m         method=\u001b[33m\"\u001b[39m\u001b[33mpost\u001b[39m\u001b[33m\"\u001b[39m, url=path, json_data=body, files=to_httpx_files(files), **options\n\u001b[32m   1276\u001b[39m     )\n\u001b[32m-> \u001b[39m\u001b[32m1277\u001b[39m     \u001b[38;5;28;01mreturn\u001b[39;00m cast(ResponseT, \u001b[38;5;28;43mself\u001b[39;49m\u001b[43m.\u001b[49m\u001b[43mrequest\u001b[49m\u001b[43m(\u001b[49m\u001b[43mcast_to\u001b[49m\u001b[43m,\u001b[49m\u001b[43m \u001b[49m\u001b[43mopts\u001b[49m\u001b[43m,\u001b[49m\u001b[43m \u001b[49m\u001b[43mstream\u001b[49m\u001b[43m=\u001b[49m\u001b[43mstream\u001b[49m\u001b[43m,\u001b[49m\u001b[43m \u001b[49m\u001b[43mstream_cls\u001b[49m\u001b[43m=\u001b[49m\u001b[43mstream_cls\u001b[49m\u001b[43m)\u001b[49m)\n",
      "\u001b[36mFile \u001b[39m\u001b[32m~/Documents/onclaive/onclaive/.venv/lib/python3.12/site-packages/anthropic/_base_client.py:954\u001b[39m, in \u001b[36mSyncAPIClient.request\u001b[39m\u001b[34m(self, cast_to, options, remaining_retries, stream, stream_cls)\u001b[39m\n\u001b[32m    951\u001b[39m \u001b[38;5;28;01melse\u001b[39;00m:\n\u001b[32m    952\u001b[39m     retries_taken = \u001b[32m0\u001b[39m\n\u001b[32m--> \u001b[39m\u001b[32m954\u001b[39m \u001b[38;5;28;01mreturn\u001b[39;00m \u001b[38;5;28;43mself\u001b[39;49m\u001b[43m.\u001b[49m\u001b[43m_request\u001b[49m\u001b[43m(\u001b[49m\n\u001b[32m    955\u001b[39m \u001b[43m    \u001b[49m\u001b[43mcast_to\u001b[49m\u001b[43m=\u001b[49m\u001b[43mcast_to\u001b[49m\u001b[43m,\u001b[49m\n\u001b[32m    956\u001b[39m \u001b[43m    \u001b[49m\u001b[43moptions\u001b[49m\u001b[43m=\u001b[49m\u001b[43moptions\u001b[49m\u001b[43m,\u001b[49m\n\u001b[32m    957\u001b[39m \u001b[43m    \u001b[49m\u001b[43mstream\u001b[49m\u001b[43m=\u001b[49m\u001b[43mstream\u001b[49m\u001b[43m,\u001b[49m\n\u001b[32m    958\u001b[39m \u001b[43m    \u001b[49m\u001b[43mstream_cls\u001b[49m\u001b[43m=\u001b[49m\u001b[43mstream_cls\u001b[49m\u001b[43m,\u001b[49m\n\u001b[32m    959\u001b[39m \u001b[43m    \u001b[49m\u001b[43mretries_taken\u001b[49m\u001b[43m=\u001b[49m\u001b[43mretries_taken\u001b[49m\u001b[43m,\u001b[49m\n\u001b[32m    960\u001b[39m \u001b[43m\u001b[49m\u001b[43m)\u001b[49m\n",
      "\u001b[36mFile \u001b[39m\u001b[32m~/Documents/onclaive/onclaive/.venv/lib/python3.12/site-packages/anthropic/_base_client.py:990\u001b[39m, in \u001b[36mSyncAPIClient._request\u001b[39m\u001b[34m(self, cast_to, options, retries_taken, stream, stream_cls)\u001b[39m\n\u001b[32m    987\u001b[39m log.debug(\u001b[33m\"\u001b[39m\u001b[33mSending HTTP Request: \u001b[39m\u001b[38;5;132;01m%s\u001b[39;00m\u001b[33m \u001b[39m\u001b[38;5;132;01m%s\u001b[39;00m\u001b[33m\"\u001b[39m, request.method, request.url)\n\u001b[32m    989\u001b[39m \u001b[38;5;28;01mtry\u001b[39;00m:\n\u001b[32m--> \u001b[39m\u001b[32m990\u001b[39m     response = \u001b[38;5;28;43mself\u001b[39;49m\u001b[43m.\u001b[49m\u001b[43m_client\u001b[49m\u001b[43m.\u001b[49m\u001b[43msend\u001b[49m\u001b[43m(\u001b[49m\n\u001b[32m    991\u001b[39m \u001b[43m        \u001b[49m\u001b[43mrequest\u001b[49m\u001b[43m,\u001b[49m\n\u001b[32m    992\u001b[39m \u001b[43m        \u001b[49m\u001b[43mstream\u001b[49m\u001b[43m=\u001b[49m\u001b[43mstream\u001b[49m\u001b[43m \u001b[49m\u001b[38;5;129;43;01mor\u001b[39;49;00m\u001b[43m \u001b[49m\u001b[38;5;28;43mself\u001b[39;49m\u001b[43m.\u001b[49m\u001b[43m_should_stream_response_body\u001b[49m\u001b[43m(\u001b[49m\u001b[43mrequest\u001b[49m\u001b[43m=\u001b[49m\u001b[43mrequest\u001b[49m\u001b[43m)\u001b[49m\u001b[43m,\u001b[49m\n\u001b[32m    993\u001b[39m \u001b[43m        \u001b[49m\u001b[43m*\u001b[49m\u001b[43m*\u001b[49m\u001b[43mkwargs\u001b[49m\u001b[43m,\u001b[49m\n\u001b[32m    994\u001b[39m \u001b[43m    \u001b[49m\u001b[43m)\u001b[49m\n\u001b[32m    995\u001b[39m \u001b[38;5;28;01mexcept\u001b[39;00m httpx.TimeoutException \u001b[38;5;28;01mas\u001b[39;00m err:\n\u001b[32m    996\u001b[39m     log.debug(\u001b[33m\"\u001b[39m\u001b[33mEncountered httpx.TimeoutException\u001b[39m\u001b[33m\"\u001b[39m, exc_info=\u001b[38;5;28;01mTrue\u001b[39;00m)\n",
      "\u001b[36mFile \u001b[39m\u001b[32m~/Documents/onclaive/onclaive/.venv/lib/python3.12/site-packages/httpx/_client.py:926\u001b[39m, in \u001b[36mClient.send\u001b[39m\u001b[34m(self, request, stream, auth, follow_redirects)\u001b[39m\n\u001b[32m    922\u001b[39m \u001b[38;5;28mself\u001b[39m._set_timeout(request)\n\u001b[32m    924\u001b[39m auth = \u001b[38;5;28mself\u001b[39m._build_request_auth(request, auth)\n\u001b[32m--> \u001b[39m\u001b[32m926\u001b[39m response = \u001b[38;5;28;43mself\u001b[39;49m\u001b[43m.\u001b[49m\u001b[43m_send_handling_auth\u001b[49m\u001b[43m(\u001b[49m\n\u001b[32m    927\u001b[39m \u001b[43m    \u001b[49m\u001b[43mrequest\u001b[49m\u001b[43m,\u001b[49m\n\u001b[32m    928\u001b[39m \u001b[43m    \u001b[49m\u001b[43mauth\u001b[49m\u001b[43m=\u001b[49m\u001b[43mauth\u001b[49m\u001b[43m,\u001b[49m\n\u001b[32m    929\u001b[39m \u001b[43m    \u001b[49m\u001b[43mfollow_redirects\u001b[49m\u001b[43m=\u001b[49m\u001b[43mfollow_redirects\u001b[49m\u001b[43m,\u001b[49m\n\u001b[32m    930\u001b[39m \u001b[43m    \u001b[49m\u001b[43mhistory\u001b[49m\u001b[43m=\u001b[49m\u001b[43m[\u001b[49m\u001b[43m]\u001b[49m\u001b[43m,\u001b[49m\n\u001b[32m    931\u001b[39m \u001b[43m\u001b[49m\u001b[43m)\u001b[49m\n\u001b[32m    932\u001b[39m \u001b[38;5;28;01mtry\u001b[39;00m:\n\u001b[32m    933\u001b[39m     \u001b[38;5;28;01mif\u001b[39;00m \u001b[38;5;129;01mnot\u001b[39;00m stream:\n",
      "\u001b[36mFile \u001b[39m\u001b[32m~/Documents/onclaive/onclaive/.venv/lib/python3.12/site-packages/httpx/_client.py:954\u001b[39m, in \u001b[36mClient._send_handling_auth\u001b[39m\u001b[34m(self, request, auth, follow_redirects, history)\u001b[39m\n\u001b[32m    951\u001b[39m request = \u001b[38;5;28mnext\u001b[39m(auth_flow)\n\u001b[32m    953\u001b[39m \u001b[38;5;28;01mwhile\u001b[39;00m \u001b[38;5;28;01mTrue\u001b[39;00m:\n\u001b[32m--> \u001b[39m\u001b[32m954\u001b[39m     response = \u001b[38;5;28;43mself\u001b[39;49m\u001b[43m.\u001b[49m\u001b[43m_send_handling_redirects\u001b[49m\u001b[43m(\u001b[49m\n\u001b[32m    955\u001b[39m \u001b[43m        \u001b[49m\u001b[43mrequest\u001b[49m\u001b[43m,\u001b[49m\n\u001b[32m    956\u001b[39m \u001b[43m        \u001b[49m\u001b[43mfollow_redirects\u001b[49m\u001b[43m=\u001b[49m\u001b[43mfollow_redirects\u001b[49m\u001b[43m,\u001b[49m\n\u001b[32m    957\u001b[39m \u001b[43m        \u001b[49m\u001b[43mhistory\u001b[49m\u001b[43m=\u001b[49m\u001b[43mhistory\u001b[49m\u001b[43m,\u001b[49m\n\u001b[32m    958\u001b[39m \u001b[43m    \u001b[49m\u001b[43m)\u001b[49m\n\u001b[32m    959\u001b[39m     \u001b[38;5;28;01mtry\u001b[39;00m:\n\u001b[32m    960\u001b[39m         \u001b[38;5;28;01mtry\u001b[39;00m:\n",
      "\u001b[36mFile \u001b[39m\u001b[32m~/Documents/onclaive/onclaive/.venv/lib/python3.12/site-packages/httpx/_client.py:991\u001b[39m, in \u001b[36mClient._send_handling_redirects\u001b[39m\u001b[34m(self, request, follow_redirects, history)\u001b[39m\n\u001b[32m    988\u001b[39m \u001b[38;5;28;01mfor\u001b[39;00m hook \u001b[38;5;129;01min\u001b[39;00m \u001b[38;5;28mself\u001b[39m._event_hooks[\u001b[33m\"\u001b[39m\u001b[33mrequest\u001b[39m\u001b[33m\"\u001b[39m]:\n\u001b[32m    989\u001b[39m     hook(request)\n\u001b[32m--> \u001b[39m\u001b[32m991\u001b[39m response = \u001b[38;5;28;43mself\u001b[39;49m\u001b[43m.\u001b[49m\u001b[43m_send_single_request\u001b[49m\u001b[43m(\u001b[49m\u001b[43mrequest\u001b[49m\u001b[43m)\u001b[49m\n\u001b[32m    992\u001b[39m \u001b[38;5;28;01mtry\u001b[39;00m:\n\u001b[32m    993\u001b[39m     \u001b[38;5;28;01mfor\u001b[39;00m hook \u001b[38;5;129;01min\u001b[39;00m \u001b[38;5;28mself\u001b[39m._event_hooks[\u001b[33m\"\u001b[39m\u001b[33mresponse\u001b[39m\u001b[33m\"\u001b[39m]:\n",
      "\u001b[36mFile \u001b[39m\u001b[32m~/Documents/onclaive/onclaive/.venv/lib/python3.12/site-packages/httpx/_client.py:1027\u001b[39m, in \u001b[36mClient._send_single_request\u001b[39m\u001b[34m(self, request)\u001b[39m\n\u001b[32m   1022\u001b[39m     \u001b[38;5;28;01mraise\u001b[39;00m \u001b[38;5;167;01mRuntimeError\u001b[39;00m(\n\u001b[32m   1023\u001b[39m         \u001b[33m\"\u001b[39m\u001b[33mAttempted to send an async request with a sync Client instance.\u001b[39m\u001b[33m\"\u001b[39m\n\u001b[32m   1024\u001b[39m     )\n\u001b[32m   1026\u001b[39m \u001b[38;5;28;01mwith\u001b[39;00m request_context(request=request):\n\u001b[32m-> \u001b[39m\u001b[32m1027\u001b[39m     response = \u001b[43mtransport\u001b[49m\u001b[43m.\u001b[49m\u001b[43mhandle_request\u001b[49m\u001b[43m(\u001b[49m\u001b[43mrequest\u001b[49m\u001b[43m)\u001b[49m\n\u001b[32m   1029\u001b[39m \u001b[38;5;28;01massert\u001b[39;00m \u001b[38;5;28misinstance\u001b[39m(response.stream, SyncByteStream)\n\u001b[32m   1031\u001b[39m response.request = request\n",
      "\u001b[36mFile \u001b[39m\u001b[32m~/Documents/onclaive/onclaive/.venv/lib/python3.12/site-packages/httpx/_transports/default.py:236\u001b[39m, in \u001b[36mHTTPTransport.handle_request\u001b[39m\u001b[34m(self, request)\u001b[39m\n\u001b[32m    223\u001b[39m req = httpcore.Request(\n\u001b[32m    224\u001b[39m     method=request.method,\n\u001b[32m    225\u001b[39m     url=httpcore.URL(\n\u001b[32m   (...)\u001b[39m\u001b[32m    233\u001b[39m     extensions=request.extensions,\n\u001b[32m    234\u001b[39m )\n\u001b[32m    235\u001b[39m \u001b[38;5;28;01mwith\u001b[39;00m map_httpcore_exceptions():\n\u001b[32m--> \u001b[39m\u001b[32m236\u001b[39m     resp = \u001b[38;5;28;43mself\u001b[39;49m\u001b[43m.\u001b[49m\u001b[43m_pool\u001b[49m\u001b[43m.\u001b[49m\u001b[43mhandle_request\u001b[49m\u001b[43m(\u001b[49m\u001b[43mreq\u001b[49m\u001b[43m)\u001b[49m\n\u001b[32m    238\u001b[39m \u001b[38;5;28;01massert\u001b[39;00m \u001b[38;5;28misinstance\u001b[39m(resp.stream, typing.Iterable)\n\u001b[32m    240\u001b[39m \u001b[38;5;28;01mreturn\u001b[39;00m Response(\n\u001b[32m    241\u001b[39m     status_code=resp.status,\n\u001b[32m    242\u001b[39m     headers=resp.headers,\n\u001b[32m    243\u001b[39m     stream=ResponseStream(resp.stream),\n\u001b[32m    244\u001b[39m     extensions=resp.extensions,\n\u001b[32m    245\u001b[39m )\n",
      "\u001b[36mFile \u001b[39m\u001b[32m~/Documents/onclaive/onclaive/.venv/lib/python3.12/site-packages/httpcore/_sync/connection_pool.py:256\u001b[39m, in \u001b[36mConnectionPool.handle_request\u001b[39m\u001b[34m(self, request)\u001b[39m\n\u001b[32m    253\u001b[39m         closing = \u001b[38;5;28mself\u001b[39m._assign_requests_to_connections()\n\u001b[32m    255\u001b[39m     \u001b[38;5;28mself\u001b[39m._close_connections(closing)\n\u001b[32m--> \u001b[39m\u001b[32m256\u001b[39m     \u001b[38;5;28;01mraise\u001b[39;00m exc \u001b[38;5;28;01mfrom\u001b[39;00m\u001b[38;5;250m \u001b[39m\u001b[38;5;28;01mNone\u001b[39;00m\n\u001b[32m    258\u001b[39m \u001b[38;5;66;03m# Return the response. Note that in this case we still have to manage\u001b[39;00m\n\u001b[32m    259\u001b[39m \u001b[38;5;66;03m# the point at which the response is closed.\u001b[39;00m\n\u001b[32m    260\u001b[39m \u001b[38;5;28;01massert\u001b[39;00m \u001b[38;5;28misinstance\u001b[39m(response.stream, typing.Iterable)\n",
      "\u001b[36mFile \u001b[39m\u001b[32m~/Documents/onclaive/onclaive/.venv/lib/python3.12/site-packages/httpcore/_sync/connection_pool.py:236\u001b[39m, in \u001b[36mConnectionPool.handle_request\u001b[39m\u001b[34m(self, request)\u001b[39m\n\u001b[32m    232\u001b[39m connection = pool_request.wait_for_connection(timeout=timeout)\n\u001b[32m    234\u001b[39m \u001b[38;5;28;01mtry\u001b[39;00m:\n\u001b[32m    235\u001b[39m     \u001b[38;5;66;03m# Send the request on the assigned connection.\u001b[39;00m\n\u001b[32m--> \u001b[39m\u001b[32m236\u001b[39m     response = \u001b[43mconnection\u001b[49m\u001b[43m.\u001b[49m\u001b[43mhandle_request\u001b[49m\u001b[43m(\u001b[49m\n\u001b[32m    237\u001b[39m \u001b[43m        \u001b[49m\u001b[43mpool_request\u001b[49m\u001b[43m.\u001b[49m\u001b[43mrequest\u001b[49m\n\u001b[32m    238\u001b[39m \u001b[43m    \u001b[49m\u001b[43m)\u001b[49m\n\u001b[32m    239\u001b[39m \u001b[38;5;28;01mexcept\u001b[39;00m ConnectionNotAvailable:\n\u001b[32m    240\u001b[39m     \u001b[38;5;66;03m# In some cases a connection may initially be available to\u001b[39;00m\n\u001b[32m    241\u001b[39m     \u001b[38;5;66;03m# handle a request, but then become unavailable.\u001b[39;00m\n\u001b[32m    242\u001b[39m     \u001b[38;5;66;03m#\u001b[39;00m\n\u001b[32m    243\u001b[39m     \u001b[38;5;66;03m# In this case we clear the connection and try again.\u001b[39;00m\n\u001b[32m    244\u001b[39m     pool_request.clear_connection()\n",
      "\u001b[36mFile \u001b[39m\u001b[32m~/Documents/onclaive/onclaive/.venv/lib/python3.12/site-packages/httpcore/_sync/connection.py:101\u001b[39m, in \u001b[36mHTTPConnection.handle_request\u001b[39m\u001b[34m(self, request)\u001b[39m\n\u001b[32m     99\u001b[39m \u001b[38;5;28;01mexcept\u001b[39;00m \u001b[38;5;167;01mBaseException\u001b[39;00m \u001b[38;5;28;01mas\u001b[39;00m exc:\n\u001b[32m    100\u001b[39m     \u001b[38;5;28mself\u001b[39m._connect_failed = \u001b[38;5;28;01mTrue\u001b[39;00m\n\u001b[32m--> \u001b[39m\u001b[32m101\u001b[39m     \u001b[38;5;28;01mraise\u001b[39;00m exc\n\u001b[32m    103\u001b[39m \u001b[38;5;28;01mreturn\u001b[39;00m \u001b[38;5;28mself\u001b[39m._connection.handle_request(request)\n",
      "\u001b[36mFile \u001b[39m\u001b[32m~/Documents/onclaive/onclaive/.venv/lib/python3.12/site-packages/httpcore/_sync/connection.py:78\u001b[39m, in \u001b[36mHTTPConnection.handle_request\u001b[39m\u001b[34m(self, request)\u001b[39m\n\u001b[32m     76\u001b[39m \u001b[38;5;28;01mwith\u001b[39;00m \u001b[38;5;28mself\u001b[39m._request_lock:\n\u001b[32m     77\u001b[39m     \u001b[38;5;28;01mif\u001b[39;00m \u001b[38;5;28mself\u001b[39m._connection \u001b[38;5;129;01mis\u001b[39;00m \u001b[38;5;28;01mNone\u001b[39;00m:\n\u001b[32m---> \u001b[39m\u001b[32m78\u001b[39m         stream = \u001b[38;5;28;43mself\u001b[39;49m\u001b[43m.\u001b[49m\u001b[43m_connect\u001b[49m\u001b[43m(\u001b[49m\u001b[43mrequest\u001b[49m\u001b[43m)\u001b[49m\n\u001b[32m     80\u001b[39m         ssl_object = stream.get_extra_info(\u001b[33m\"\u001b[39m\u001b[33mssl_object\u001b[39m\u001b[33m\"\u001b[39m)\n\u001b[32m     81\u001b[39m         http2_negotiated = (\n\u001b[32m     82\u001b[39m             ssl_object \u001b[38;5;129;01mis\u001b[39;00m \u001b[38;5;129;01mnot\u001b[39;00m \u001b[38;5;28;01mNone\u001b[39;00m\n\u001b[32m     83\u001b[39m             \u001b[38;5;129;01mand\u001b[39;00m ssl_object.selected_alpn_protocol() == \u001b[33m\"\u001b[39m\u001b[33mh2\u001b[39m\u001b[33m\"\u001b[39m\n\u001b[32m     84\u001b[39m         )\n",
      "\u001b[36mFile \u001b[39m\u001b[32m~/Documents/onclaive/onclaive/.venv/lib/python3.12/site-packages/httpcore/_sync/connection.py:165\u001b[39m, in \u001b[36mHTTPConnection._connect\u001b[39m\u001b[34m(self, request)\u001b[39m\n\u001b[32m    163\u001b[39m delay = \u001b[38;5;28mnext\u001b[39m(delays)\n\u001b[32m    164\u001b[39m \u001b[38;5;28;01mwith\u001b[39;00m Trace(\u001b[33m\"\u001b[39m\u001b[33mretry\u001b[39m\u001b[33m\"\u001b[39m, logger, request, kwargs) \u001b[38;5;28;01mas\u001b[39;00m trace:\n\u001b[32m--> \u001b[39m\u001b[32m165\u001b[39m     \u001b[38;5;28;43mself\u001b[39;49m\u001b[43m.\u001b[49m\u001b[43m_network_backend\u001b[49m\u001b[43m.\u001b[49m\u001b[43msleep\u001b[49m\u001b[43m(\u001b[49m\u001b[43mdelay\u001b[49m\u001b[43m)\u001b[49m\n",
      "\u001b[36mFile \u001b[39m\u001b[32m~/Documents/onclaive/onclaive/.venv/lib/python3.12/site-packages/httpcore/_backends/base.py:56\u001b[39m, in \u001b[36mNetworkBackend.sleep\u001b[39m\u001b[34m(self, seconds)\u001b[39m\n\u001b[32m     55\u001b[39m \u001b[38;5;28;01mdef\u001b[39;00m\u001b[38;5;250m \u001b[39m\u001b[34msleep\u001b[39m(\u001b[38;5;28mself\u001b[39m, seconds: \u001b[38;5;28mfloat\u001b[39m) -> \u001b[38;5;28;01mNone\u001b[39;00m:\n\u001b[32m---> \u001b[39m\u001b[32m56\u001b[39m     \u001b[43mtime\u001b[49m\u001b[43m.\u001b[49m\u001b[43msleep\u001b[49m\u001b[43m(\u001b[49m\u001b[43mseconds\u001b[49m\u001b[43m)\u001b[49m\n",
      "\u001b[31mKeyboardInterrupt\u001b[39m: "
     ]
    }
   ],
   "source": [
    "# Manual refinement with specific file\n",
    "refinement_result = reqs_reviewer.refine_requirements(\n",
    "    input_file=\"/Users/ceadams/Documents/onclaive/onclaive/pipeline/checkpoints/requirements_extraction/us-core/gpt_reqs_list_v1_20250820_091156.md\",\n",
    "    api_type=\"claude\",\n",
    "    output_dir=\"checkpoints/revised_reqs_extraction\",\n",
    "    llm_client_instance=llm_clients\n",
    ")\n",
    "\n",
    "print(f\"✅ Refined requirements saved to: {refinement_result['output_file']}\")\n",
    "print(f\"📊 {refinement_result['original_requirements_count']} → {refinement_result['requirements_count']} requirements\")\n",
    "\n",
    "if refinement_result.get('warnings'):\n",
    "    print(\"⚠️  Warnings:\")\n",
    "    for warning in refinement_result['warnings']:\n",
    "        print(f\"  - {warning}\")"
   ]
  },
  {
   "cell_type": "markdown",
   "id": "0b2ccc40",
   "metadata": {},
   "source": [
    "## Requirement Downselection"
   ]
  },
  {
   "cell_type": "code",
   "execution_count": 41,
   "id": "78226f35",
   "metadata": {},
   "outputs": [
    {
     "name": "stderr",
     "output_type": "stream",
     "text": [
      "/Users/ceadams/Documents/onclaive/onclaive/pipeline/requirement_downselect.py:23: SyntaxWarning: invalid escape sequence '\\*'\n",
      "  headings = list(re.finditer(\"\\*\\*\\w+\\*\\*\\:\", split))\n",
      "INFO:sentence_transformers.SentenceTransformer:Use pytorch device_name: mps\n",
      "INFO:sentence_transformers.SentenceTransformer:Load pretrained SentenceTransformer: all-mpnet-base-v2\n"
     ]
    },
    {
     "data": {
      "application/vnd.jupyter.widget-view+json": {
       "model_id": "57886692028a417bbe31cb473d162371",
       "version_major": 2,
       "version_minor": 0
      },
      "text/plain": [
       "Batches:   0%|          | 0/1 [00:00<?, ?it/s]"
      ]
     },
     "metadata": {},
     "output_type": "display_data"
    },
    {
     "data": {
      "application/vnd.jupyter.widget-view+json": {
       "model_id": "bf0bfd1fb8db4da39717ca729c274810",
       "version_major": 2,
       "version_minor": 0
      },
      "text/plain": [
       "Batches:   0%|          | 0/1 [00:00<?, ?it/s]"
      ]
     },
     "metadata": {},
     "output_type": "display_data"
    },
    {
     "data": {
      "application/vnd.jupyter.widget-view+json": {
       "model_id": "53e6ce24dae340c28f8421605505ed83",
       "version_major": 2,
       "version_minor": 0
      },
      "text/plain": [
       "Batches:   0%|          | 0/1 [00:00<?, ?it/s]"
      ]
     },
     "metadata": {},
     "output_type": "display_data"
    },
    {
     "data": {
      "application/vnd.jupyter.widget-view+json": {
       "model_id": "297270bfcd33411690f7746da4795e28",
       "version_major": 2,
       "version_minor": 0
      },
      "text/plain": [
       "Batches:   0%|          | 0/1 [00:00<?, ?it/s]"
      ]
     },
     "metadata": {},
     "output_type": "display_data"
    },
    {
     "data": {
      "application/vnd.jupyter.widget-view+json": {
       "model_id": "20f83777a88e473b984db36a9f3dca89",
       "version_major": 2,
       "version_minor": 0
      },
      "text/plain": [
       "Batches:   0%|          | 0/1 [00:00<?, ?it/s]"
      ]
     },
     "metadata": {},
     "output_type": "display_data"
    },
    {
     "data": {
      "application/vnd.jupyter.widget-view+json": {
       "model_id": "4ce8dc7e84b54c26811c87a9e2807c30",
       "version_major": 2,
       "version_minor": 0
      },
      "text/plain": [
       "Batches:   0%|          | 0/1 [00:00<?, ?it/s]"
      ]
     },
     "metadata": {},
     "output_type": "display_data"
    },
    {
     "data": {
      "application/vnd.jupyter.widget-view+json": {
       "model_id": "1544dfe68add4701b5422ea2becd1407",
       "version_major": 2,
       "version_minor": 0
      },
      "text/plain": [
       "Batches:   0%|          | 0/1 [00:00<?, ?it/s]"
      ]
     },
     "metadata": {},
     "output_type": "display_data"
    },
    {
     "data": {
      "application/vnd.jupyter.widget-view+json": {
       "model_id": "d0734c7c87b74fb7a1c5c2db0d5f2550",
       "version_major": 2,
       "version_minor": 0
      },
      "text/plain": [
       "Batches:   0%|          | 0/1 [00:00<?, ?it/s]"
      ]
     },
     "metadata": {},
     "output_type": "display_data"
    },
    {
     "data": {
      "application/vnd.jupyter.widget-view+json": {
       "model_id": "d4b2dad613314b4a9ca3ef3b9d5ae877",
       "version_major": 2,
       "version_minor": 0
      },
      "text/plain": [
       "Batches:   0%|          | 0/1 [00:00<?, ?it/s]"
      ]
     },
     "metadata": {},
     "output_type": "display_data"
    },
    {
     "data": {
      "application/vnd.jupyter.widget-view+json": {
       "model_id": "b2adaca9213c4d019c8be94934bcee59",
       "version_major": 2,
       "version_minor": 0
      },
      "text/plain": [
       "Batches:   0%|          | 0/1 [00:00<?, ?it/s]"
      ]
     },
     "metadata": {},
     "output_type": "display_data"
    },
    {
     "data": {
      "application/vnd.jupyter.widget-view+json": {
       "model_id": "18a836f72e4a4f1f8c84488bc29f455b",
       "version_major": 2,
       "version_minor": 0
      },
      "text/plain": [
       "Batches:   0%|          | 0/1 [00:00<?, ?it/s]"
      ]
     },
     "metadata": {},
     "output_type": "display_data"
    },
    {
     "data": {
      "application/vnd.jupyter.widget-view+json": {
       "model_id": "eee85d107572449c997a353f84bc7b74",
       "version_major": 2,
       "version_minor": 0
      },
      "text/plain": [
       "Batches:   0%|          | 0/1 [00:00<?, ?it/s]"
      ]
     },
     "metadata": {},
     "output_type": "display_data"
    },
    {
     "data": {
      "application/vnd.jupyter.widget-view+json": {
       "model_id": "97763c1aa59a499397618c97905ce6bc",
       "version_major": 2,
       "version_minor": 0
      },
      "text/plain": [
       "Batches:   0%|          | 0/1 [00:00<?, ?it/s]"
      ]
     },
     "metadata": {},
     "output_type": "display_data"
    },
    {
     "data": {
      "application/vnd.jupyter.widget-view+json": {
       "model_id": "bf151ba756d44c90b5225e2cfafd9857",
       "version_major": 2,
       "version_minor": 0
      },
      "text/plain": [
       "Batches:   0%|          | 0/1 [00:00<?, ?it/s]"
      ]
     },
     "metadata": {},
     "output_type": "display_data"
    },
    {
     "data": {
      "application/vnd.jupyter.widget-view+json": {
       "model_id": "c71971c9ebe64d6c8b4fe98c92e2fcb4",
       "version_major": 2,
       "version_minor": 0
      },
      "text/plain": [
       "Batches:   0%|          | 0/1 [00:00<?, ?it/s]"
      ]
     },
     "metadata": {},
     "output_type": "display_data"
    },
    {
     "data": {
      "application/vnd.jupyter.widget-view+json": {
       "model_id": "1e1bdaeab99e45e3bd2c794dea5ba48c",
       "version_major": 2,
       "version_minor": 0
      },
      "text/plain": [
       "Batches:   0%|          | 0/1 [00:00<?, ?it/s]"
      ]
     },
     "metadata": {},
     "output_type": "display_data"
    },
    {
     "data": {
      "application/vnd.jupyter.widget-view+json": {
       "model_id": "1bb1e97e8efb49a99feec159dc1e6cd7",
       "version_major": 2,
       "version_minor": 0
      },
      "text/plain": [
       "Batches:   0%|          | 0/1 [00:00<?, ?it/s]"
      ]
     },
     "metadata": {},
     "output_type": "display_data"
    },
    {
     "data": {
      "application/vnd.jupyter.widget-view+json": {
       "model_id": "84b873487f0e4c0588c2d82ce9f07ef4",
       "version_major": 2,
       "version_minor": 0
      },
      "text/plain": [
       "Batches:   0%|          | 0/1 [00:00<?, ?it/s]"
      ]
     },
     "metadata": {},
     "output_type": "display_data"
    },
    {
     "data": {
      "application/vnd.jupyter.widget-view+json": {
       "model_id": "b5066eb743394681991d7c279428b273",
       "version_major": 2,
       "version_minor": 0
      },
      "text/plain": [
       "Batches:   0%|          | 0/1 [00:00<?, ?it/s]"
      ]
     },
     "metadata": {},
     "output_type": "display_data"
    },
    {
     "data": {
      "application/vnd.jupyter.widget-view+json": {
       "model_id": "61ff85bd644c4e7abd9b3a1458dbadf5",
       "version_major": 2,
       "version_minor": 0
      },
      "text/plain": [
       "Batches:   0%|          | 0/1 [00:00<?, ?it/s]"
      ]
     },
     "metadata": {},
     "output_type": "display_data"
    },
    {
     "data": {
      "application/vnd.jupyter.widget-view+json": {
       "model_id": "0714185e7ab14c7aa84f821326e7c196",
       "version_major": 2,
       "version_minor": 0
      },
      "text/plain": [
       "Batches:   0%|          | 0/1 [00:00<?, ?it/s]"
      ]
     },
     "metadata": {},
     "output_type": "display_data"
    },
    {
     "data": {
      "application/vnd.jupyter.widget-view+json": {
       "model_id": "94650af4ed7a4c0ebdfc98f6c21613aa",
       "version_major": 2,
       "version_minor": 0
      },
      "text/plain": [
       "Batches:   0%|          | 0/1 [00:00<?, ?it/s]"
      ]
     },
     "metadata": {},
     "output_type": "display_data"
    },
    {
     "data": {
      "application/vnd.jupyter.widget-view+json": {
       "model_id": "2b1761e8558a4ad7bcb83d2d1b202dfe",
       "version_major": 2,
       "version_minor": 0
      },
      "text/plain": [
       "Batches:   0%|          | 0/1 [00:00<?, ?it/s]"
      ]
     },
     "metadata": {},
     "output_type": "display_data"
    },
    {
     "data": {
      "application/vnd.jupyter.widget-view+json": {
       "model_id": "2e5adffea9e3477bb1b4959da4b84d99",
       "version_major": 2,
       "version_minor": 0
      },
      "text/plain": [
       "Batches:   0%|          | 0/1 [00:00<?, ?it/s]"
      ]
     },
     "metadata": {},
     "output_type": "display_data"
    },
    {
     "data": {
      "application/vnd.jupyter.widget-view+json": {
       "model_id": "c2aba7ecbec34973a23626423986a261",
       "version_major": 2,
       "version_minor": 0
      },
      "text/plain": [
       "Batches:   0%|          | 0/1 [00:00<?, ?it/s]"
      ]
     },
     "metadata": {},
     "output_type": "display_data"
    },
    {
     "data": {
      "application/vnd.jupyter.widget-view+json": {
       "model_id": "1051617baea04533b9c15eec4ad9e182",
       "version_major": 2,
       "version_minor": 0
      },
      "text/plain": [
       "Batches:   0%|          | 0/1 [00:00<?, ?it/s]"
      ]
     },
     "metadata": {},
     "output_type": "display_data"
    },
    {
     "data": {
      "application/vnd.jupyter.widget-view+json": {
       "model_id": "00ec35c6365c468595ed72cb73bd8013",
       "version_major": 2,
       "version_minor": 0
      },
      "text/plain": [
       "Batches:   0%|          | 0/1 [00:00<?, ?it/s]"
      ]
     },
     "metadata": {},
     "output_type": "display_data"
    },
    {
     "data": {
      "application/vnd.jupyter.widget-view+json": {
       "model_id": "000d4c7c8f2043a5baa671f7485edfe7",
       "version_major": 2,
       "version_minor": 0
      },
      "text/plain": [
       "Batches:   0%|          | 0/1 [00:00<?, ?it/s]"
      ]
     },
     "metadata": {},
     "output_type": "display_data"
    },
    {
     "data": {
      "application/vnd.jupyter.widget-view+json": {
       "model_id": "83115a8effbd402a88346705410f3758",
       "version_major": 2,
       "version_minor": 0
      },
      "text/plain": [
       "Batches:   0%|          | 0/1 [00:00<?, ?it/s]"
      ]
     },
     "metadata": {},
     "output_type": "display_data"
    },
    {
     "data": {
      "application/vnd.jupyter.widget-view+json": {
       "model_id": "b2329be417164519a13305318152c1f7",
       "version_major": 2,
       "version_minor": 0
      },
      "text/plain": [
       "Batches:   0%|          | 0/1 [00:00<?, ?it/s]"
      ]
     },
     "metadata": {},
     "output_type": "display_data"
    },
    {
     "data": {
      "application/vnd.jupyter.widget-view+json": {
       "model_id": "4127ade04a6a46c7b253131e36ae61bb",
       "version_major": 2,
       "version_minor": 0
      },
      "text/plain": [
       "Batches:   0%|          | 0/1 [00:00<?, ?it/s]"
      ]
     },
     "metadata": {},
     "output_type": "display_data"
    },
    {
     "data": {
      "application/vnd.jupyter.widget-view+json": {
       "model_id": "ab1039db40c644558a85957d7740161d",
       "version_major": 2,
       "version_minor": 0
      },
      "text/plain": [
       "Batches:   0%|          | 0/1 [00:00<?, ?it/s]"
      ]
     },
     "metadata": {},
     "output_type": "display_data"
    },
    {
     "data": {
      "application/vnd.jupyter.widget-view+json": {
       "model_id": "ae7123b74bf74118b4009b0cc61f1790",
       "version_major": 2,
       "version_minor": 0
      },
      "text/plain": [
       "Batches:   0%|          | 0/1 [00:00<?, ?it/s]"
      ]
     },
     "metadata": {},
     "output_type": "display_data"
    },
    {
     "data": {
      "application/vnd.jupyter.widget-view+json": {
       "model_id": "3fa40b519bd445a39733c0d1bae01c29",
       "version_major": 2,
       "version_minor": 0
      },
      "text/plain": [
       "Batches:   0%|          | 0/1 [00:00<?, ?it/s]"
      ]
     },
     "metadata": {},
     "output_type": "display_data"
    },
    {
     "data": {
      "application/vnd.jupyter.widget-view+json": {
       "model_id": "e44729974b984a21ab88c29bc8065bd8",
       "version_major": 2,
       "version_minor": 0
      },
      "text/plain": [
       "Batches:   0%|          | 0/1 [00:00<?, ?it/s]"
      ]
     },
     "metadata": {},
     "output_type": "display_data"
    },
    {
     "data": {
      "application/vnd.jupyter.widget-view+json": {
       "model_id": "1cd31e940545452995507f2571453788",
       "version_major": 2,
       "version_minor": 0
      },
      "text/plain": [
       "Batches:   0%|          | 0/1 [00:00<?, ?it/s]"
      ]
     },
     "metadata": {},
     "output_type": "display_data"
    },
    {
     "data": {
      "application/vnd.jupyter.widget-view+json": {
       "model_id": "51313cb79fac483a95ef0fe3c6c8426c",
       "version_major": 2,
       "version_minor": 0
      },
      "text/plain": [
       "Batches:   0%|          | 0/1 [00:00<?, ?it/s]"
      ]
     },
     "metadata": {},
     "output_type": "display_data"
    },
    {
     "data": {
      "application/vnd.jupyter.widget-view+json": {
       "model_id": "08c8c4f41d17432fa7e2b9c53855669d",
       "version_major": 2,
       "version_minor": 0
      },
      "text/plain": [
       "Batches:   0%|          | 0/1 [00:00<?, ?it/s]"
      ]
     },
     "metadata": {},
     "output_type": "display_data"
    },
    {
     "data": {
      "application/vnd.jupyter.widget-view+json": {
       "model_id": "42536591259a4b94981a4a22f86db09f",
       "version_major": 2,
       "version_minor": 0
      },
      "text/plain": [
       "Batches:   0%|          | 0/1 [00:00<?, ?it/s]"
      ]
     },
     "metadata": {},
     "output_type": "display_data"
    },
    {
     "data": {
      "application/vnd.jupyter.widget-view+json": {
       "model_id": "6e18bfa65dbc4c20a63ed08770f9b2f6",
       "version_major": 2,
       "version_minor": 0
      },
      "text/plain": [
       "Batches:   0%|          | 0/1 [00:00<?, ?it/s]"
      ]
     },
     "metadata": {},
     "output_type": "display_data"
    },
    {
     "data": {
      "application/vnd.jupyter.widget-view+json": {
       "model_id": "fdc19cbce345449d89716c8994fa30ca",
       "version_major": 2,
       "version_minor": 0
      },
      "text/plain": [
       "Batches:   0%|          | 0/1 [00:00<?, ?it/s]"
      ]
     },
     "metadata": {},
     "output_type": "display_data"
    },
    {
     "data": {
      "application/vnd.jupyter.widget-view+json": {
       "model_id": "8be1c9f0c76d4bd2ae67a6ff3d0afb9d",
       "version_major": 2,
       "version_minor": 0
      },
      "text/plain": [
       "Batches:   0%|          | 0/1 [00:00<?, ?it/s]"
      ]
     },
     "metadata": {},
     "output_type": "display_data"
    },
    {
     "data": {
      "application/vnd.jupyter.widget-view+json": {
       "model_id": "7adc6a08f0334dc0855056b05b38f406",
       "version_major": 2,
       "version_minor": 0
      },
      "text/plain": [
       "Batches:   0%|          | 0/1 [00:00<?, ?it/s]"
      ]
     },
     "metadata": {},
     "output_type": "display_data"
    },
    {
     "data": {
      "application/vnd.jupyter.widget-view+json": {
       "model_id": "9f9e7edafcb94991aab842e3f2497811",
       "version_major": 2,
       "version_minor": 0
      },
      "text/plain": [
       "Batches:   0%|          | 0/1 [00:00<?, ?it/s]"
      ]
     },
     "metadata": {},
     "output_type": "display_data"
    },
    {
     "data": {
      "application/vnd.jupyter.widget-view+json": {
       "model_id": "b29bb4c87ddb44f59001298da8bd9c1a",
       "version_major": 2,
       "version_minor": 0
      },
      "text/plain": [
       "Batches:   0%|          | 0/1 [00:00<?, ?it/s]"
      ]
     },
     "metadata": {},
     "output_type": "display_data"
    },
    {
     "data": {
      "application/vnd.jupyter.widget-view+json": {
       "model_id": "346de373f6514471bffe4b367029eb19",
       "version_major": 2,
       "version_minor": 0
      },
      "text/plain": [
       "Batches:   0%|          | 0/1 [00:00<?, ?it/s]"
      ]
     },
     "metadata": {},
     "output_type": "display_data"
    },
    {
     "data": {
      "application/vnd.jupyter.widget-view+json": {
       "model_id": "97e15b02833d462eb4ad208ad5759d1a",
       "version_major": 2,
       "version_minor": 0
      },
      "text/plain": [
       "Batches:   0%|          | 0/1 [00:00<?, ?it/s]"
      ]
     },
     "metadata": {},
     "output_type": "display_data"
    },
    {
     "data": {
      "application/vnd.jupyter.widget-view+json": {
       "model_id": "5612a0557e0a45a0addae84e749df1b3",
       "version_major": 2,
       "version_minor": 0
      },
      "text/plain": [
       "Batches:   0%|          | 0/1 [00:00<?, ?it/s]"
      ]
     },
     "metadata": {},
     "output_type": "display_data"
    },
    {
     "data": {
      "application/vnd.jupyter.widget-view+json": {
       "model_id": "b5a47f77d0274296ad3741f0c680685c",
       "version_major": 2,
       "version_minor": 0
      },
      "text/plain": [
       "Batches:   0%|          | 0/1 [00:00<?, ?it/s]"
      ]
     },
     "metadata": {},
     "output_type": "display_data"
    },
    {
     "name": "stdout",
     "output_type": "stream",
     "text": [
      "50 of 170\r"
     ]
    },
    {
     "data": {
      "application/vnd.jupyter.widget-view+json": {
       "model_id": "c8d6f272792b478d930485da7661c908",
       "version_major": 2,
       "version_minor": 0
      },
      "text/plain": [
       "Batches:   0%|          | 0/1 [00:00<?, ?it/s]"
      ]
     },
     "metadata": {},
     "output_type": "display_data"
    },
    {
     "data": {
      "application/vnd.jupyter.widget-view+json": {
       "model_id": "8099cba7dded43f398a46e5a1178f8da",
       "version_major": 2,
       "version_minor": 0
      },
      "text/plain": [
       "Batches:   0%|          | 0/1 [00:00<?, ?it/s]"
      ]
     },
     "metadata": {},
     "output_type": "display_data"
    },
    {
     "data": {
      "application/vnd.jupyter.widget-view+json": {
       "model_id": "11936b54289f4f6eba838a18b16f470f",
       "version_major": 2,
       "version_minor": 0
      },
      "text/plain": [
       "Batches:   0%|          | 0/1 [00:00<?, ?it/s]"
      ]
     },
     "metadata": {},
     "output_type": "display_data"
    },
    {
     "data": {
      "application/vnd.jupyter.widget-view+json": {
       "model_id": "4bf0ab2507f54ed884f7637296ebe4df",
       "version_major": 2,
       "version_minor": 0
      },
      "text/plain": [
       "Batches:   0%|          | 0/1 [00:00<?, ?it/s]"
      ]
     },
     "metadata": {},
     "output_type": "display_data"
    },
    {
     "data": {
      "application/vnd.jupyter.widget-view+json": {
       "model_id": "4b36db97e542425a8bb9ed9b35e083a4",
       "version_major": 2,
       "version_minor": 0
      },
      "text/plain": [
       "Batches:   0%|          | 0/1 [00:00<?, ?it/s]"
      ]
     },
     "metadata": {},
     "output_type": "display_data"
    },
    {
     "data": {
      "application/vnd.jupyter.widget-view+json": {
       "model_id": "d91fad6acc7443149178718fcc1d42a3",
       "version_major": 2,
       "version_minor": 0
      },
      "text/plain": [
       "Batches:   0%|          | 0/1 [00:00<?, ?it/s]"
      ]
     },
     "metadata": {},
     "output_type": "display_data"
    },
    {
     "data": {
      "application/vnd.jupyter.widget-view+json": {
       "model_id": "719f3b07cf624e4991dd3952281b3bb8",
       "version_major": 2,
       "version_minor": 0
      },
      "text/plain": [
       "Batches:   0%|          | 0/1 [00:00<?, ?it/s]"
      ]
     },
     "metadata": {},
     "output_type": "display_data"
    },
    {
     "data": {
      "application/vnd.jupyter.widget-view+json": {
       "model_id": "67745fa2f8704e599126ee55e37f4976",
       "version_major": 2,
       "version_minor": 0
      },
      "text/plain": [
       "Batches:   0%|          | 0/1 [00:00<?, ?it/s]"
      ]
     },
     "metadata": {},
     "output_type": "display_data"
    },
    {
     "data": {
      "application/vnd.jupyter.widget-view+json": {
       "model_id": "898c645049f64234ac5606f9d417ae60",
       "version_major": 2,
       "version_minor": 0
      },
      "text/plain": [
       "Batches:   0%|          | 0/1 [00:00<?, ?it/s]"
      ]
     },
     "metadata": {},
     "output_type": "display_data"
    },
    {
     "data": {
      "application/vnd.jupyter.widget-view+json": {
       "model_id": "9e2c3abb11014fd3b614f51aa552ede8",
       "version_major": 2,
       "version_minor": 0
      },
      "text/plain": [
       "Batches:   0%|          | 0/1 [00:00<?, ?it/s]"
      ]
     },
     "metadata": {},
     "output_type": "display_data"
    },
    {
     "data": {
      "application/vnd.jupyter.widget-view+json": {
       "model_id": "86e026cc24c24ffea05a3a5f60c29fc9",
       "version_major": 2,
       "version_minor": 0
      },
      "text/plain": [
       "Batches:   0%|          | 0/1 [00:00<?, ?it/s]"
      ]
     },
     "metadata": {},
     "output_type": "display_data"
    },
    {
     "data": {
      "application/vnd.jupyter.widget-view+json": {
       "model_id": "c1ccd0dc43a040ef9dd2e3fb6c9f5491",
       "version_major": 2,
       "version_minor": 0
      },
      "text/plain": [
       "Batches:   0%|          | 0/1 [00:00<?, ?it/s]"
      ]
     },
     "metadata": {},
     "output_type": "display_data"
    },
    {
     "data": {
      "application/vnd.jupyter.widget-view+json": {
       "model_id": "708773b6054d429a874defa5a20ef6fb",
       "version_major": 2,
       "version_minor": 0
      },
      "text/plain": [
       "Batches:   0%|          | 0/1 [00:00<?, ?it/s]"
      ]
     },
     "metadata": {},
     "output_type": "display_data"
    },
    {
     "data": {
      "application/vnd.jupyter.widget-view+json": {
       "model_id": "361aaaea028d47fda8a4015c3c8c3b5b",
       "version_major": 2,
       "version_minor": 0
      },
      "text/plain": [
       "Batches:   0%|          | 0/1 [00:00<?, ?it/s]"
      ]
     },
     "metadata": {},
     "output_type": "display_data"
    },
    {
     "data": {
      "application/vnd.jupyter.widget-view+json": {
       "model_id": "6cae09efd0984e36b61818be5f49830b",
       "version_major": 2,
       "version_minor": 0
      },
      "text/plain": [
       "Batches:   0%|          | 0/1 [00:00<?, ?it/s]"
      ]
     },
     "metadata": {},
     "output_type": "display_data"
    },
    {
     "data": {
      "application/vnd.jupyter.widget-view+json": {
       "model_id": "2aa2494c2311458386fb0a69f5bdda22",
       "version_major": 2,
       "version_minor": 0
      },
      "text/plain": [
       "Batches:   0%|          | 0/1 [00:00<?, ?it/s]"
      ]
     },
     "metadata": {},
     "output_type": "display_data"
    },
    {
     "data": {
      "application/vnd.jupyter.widget-view+json": {
       "model_id": "2e21547679aa412bb90d1e4d4f97c120",
       "version_major": 2,
       "version_minor": 0
      },
      "text/plain": [
       "Batches:   0%|          | 0/1 [00:00<?, ?it/s]"
      ]
     },
     "metadata": {},
     "output_type": "display_data"
    },
    {
     "data": {
      "application/vnd.jupyter.widget-view+json": {
       "model_id": "12c0650dda264638bf59f7854ed03f81",
       "version_major": 2,
       "version_minor": 0
      },
      "text/plain": [
       "Batches:   0%|          | 0/1 [00:00<?, ?it/s]"
      ]
     },
     "metadata": {},
     "output_type": "display_data"
    },
    {
     "data": {
      "application/vnd.jupyter.widget-view+json": {
       "model_id": "182ac598cb82413f9a1b07798fc8c0c5",
       "version_major": 2,
       "version_minor": 0
      },
      "text/plain": [
       "Batches:   0%|          | 0/1 [00:00<?, ?it/s]"
      ]
     },
     "metadata": {},
     "output_type": "display_data"
    },
    {
     "data": {
      "application/vnd.jupyter.widget-view+json": {
       "model_id": "4f659338f2144602a895bfd82dbb170a",
       "version_major": 2,
       "version_minor": 0
      },
      "text/plain": [
       "Batches:   0%|          | 0/1 [00:00<?, ?it/s]"
      ]
     },
     "metadata": {},
     "output_type": "display_data"
    },
    {
     "data": {
      "application/vnd.jupyter.widget-view+json": {
       "model_id": "25f59f1c79424132b6a07e1cea170ce4",
       "version_major": 2,
       "version_minor": 0
      },
      "text/plain": [
       "Batches:   0%|          | 0/1 [00:00<?, ?it/s]"
      ]
     },
     "metadata": {},
     "output_type": "display_data"
    },
    {
     "data": {
      "application/vnd.jupyter.widget-view+json": {
       "model_id": "d4505ecbe7064607a07530f3ba0169a9",
       "version_major": 2,
       "version_minor": 0
      },
      "text/plain": [
       "Batches:   0%|          | 0/1 [00:00<?, ?it/s]"
      ]
     },
     "metadata": {},
     "output_type": "display_data"
    },
    {
     "data": {
      "application/vnd.jupyter.widget-view+json": {
       "model_id": "1df3d4b8cd484589a416383a764d7718",
       "version_major": 2,
       "version_minor": 0
      },
      "text/plain": [
       "Batches:   0%|          | 0/1 [00:00<?, ?it/s]"
      ]
     },
     "metadata": {},
     "output_type": "display_data"
    },
    {
     "data": {
      "application/vnd.jupyter.widget-view+json": {
       "model_id": "0caa548389dc4f92bc9d78bd6e6dbb09",
       "version_major": 2,
       "version_minor": 0
      },
      "text/plain": [
       "Batches:   0%|          | 0/1 [00:00<?, ?it/s]"
      ]
     },
     "metadata": {},
     "output_type": "display_data"
    },
    {
     "data": {
      "application/vnd.jupyter.widget-view+json": {
       "model_id": "acc9395e669a433e84a13b8ca8063be5",
       "version_major": 2,
       "version_minor": 0
      },
      "text/plain": [
       "Batches:   0%|          | 0/1 [00:00<?, ?it/s]"
      ]
     },
     "metadata": {},
     "output_type": "display_data"
    },
    {
     "data": {
      "application/vnd.jupyter.widget-view+json": {
       "model_id": "24c7bdb06a354368b51fb0eb88fdbe7f",
       "version_major": 2,
       "version_minor": 0
      },
      "text/plain": [
       "Batches:   0%|          | 0/1 [00:00<?, ?it/s]"
      ]
     },
     "metadata": {},
     "output_type": "display_data"
    },
    {
     "data": {
      "application/vnd.jupyter.widget-view+json": {
       "model_id": "ab42f99ee8754b708acf58b48d478f18",
       "version_major": 2,
       "version_minor": 0
      },
      "text/plain": [
       "Batches:   0%|          | 0/1 [00:00<?, ?it/s]"
      ]
     },
     "metadata": {},
     "output_type": "display_data"
    },
    {
     "data": {
      "application/vnd.jupyter.widget-view+json": {
       "model_id": "c869b66dfb5e4ed4a7e47afc98ea4a08",
       "version_major": 2,
       "version_minor": 0
      },
      "text/plain": [
       "Batches:   0%|          | 0/1 [00:00<?, ?it/s]"
      ]
     },
     "metadata": {},
     "output_type": "display_data"
    },
    {
     "data": {
      "application/vnd.jupyter.widget-view+json": {
       "model_id": "06263039fb6d42c1bcc2100eeb8bbe4e",
       "version_major": 2,
       "version_minor": 0
      },
      "text/plain": [
       "Batches:   0%|          | 0/1 [00:00<?, ?it/s]"
      ]
     },
     "metadata": {},
     "output_type": "display_data"
    },
    {
     "data": {
      "application/vnd.jupyter.widget-view+json": {
       "model_id": "824673e12a7a4234aa360f30956b4128",
       "version_major": 2,
       "version_minor": 0
      },
      "text/plain": [
       "Batches:   0%|          | 0/1 [00:00<?, ?it/s]"
      ]
     },
     "metadata": {},
     "output_type": "display_data"
    },
    {
     "data": {
      "application/vnd.jupyter.widget-view+json": {
       "model_id": "b51ef53752b34ed7bb2cb54594d6d72a",
       "version_major": 2,
       "version_minor": 0
      },
      "text/plain": [
       "Batches:   0%|          | 0/1 [00:00<?, ?it/s]"
      ]
     },
     "metadata": {},
     "output_type": "display_data"
    },
    {
     "data": {
      "application/vnd.jupyter.widget-view+json": {
       "model_id": "2eff8a51fbf14af6976d23bf77df1e33",
       "version_major": 2,
       "version_minor": 0
      },
      "text/plain": [
       "Batches:   0%|          | 0/1 [00:00<?, ?it/s]"
      ]
     },
     "metadata": {},
     "output_type": "display_data"
    },
    {
     "data": {
      "application/vnd.jupyter.widget-view+json": {
       "model_id": "a958989dbc9f43828dfdc44148ab9081",
       "version_major": 2,
       "version_minor": 0
      },
      "text/plain": [
       "Batches:   0%|          | 0/1 [00:00<?, ?it/s]"
      ]
     },
     "metadata": {},
     "output_type": "display_data"
    },
    {
     "data": {
      "application/vnd.jupyter.widget-view+json": {
       "model_id": "0a5f06801d1b4cdebb266287c057c41d",
       "version_major": 2,
       "version_minor": 0
      },
      "text/plain": [
       "Batches:   0%|          | 0/1 [00:00<?, ?it/s]"
      ]
     },
     "metadata": {},
     "output_type": "display_data"
    },
    {
     "data": {
      "application/vnd.jupyter.widget-view+json": {
       "model_id": "70c8f7d9ad20409186d270dab41a006b",
       "version_major": 2,
       "version_minor": 0
      },
      "text/plain": [
       "Batches:   0%|          | 0/1 [00:00<?, ?it/s]"
      ]
     },
     "metadata": {},
     "output_type": "display_data"
    },
    {
     "data": {
      "application/vnd.jupyter.widget-view+json": {
       "model_id": "996599b670ef4508bc3536023e7b99f5",
       "version_major": 2,
       "version_minor": 0
      },
      "text/plain": [
       "Batches:   0%|          | 0/1 [00:00<?, ?it/s]"
      ]
     },
     "metadata": {},
     "output_type": "display_data"
    },
    {
     "data": {
      "application/vnd.jupyter.widget-view+json": {
       "model_id": "a6bc3351d4b94454ad04c6898cb28aad",
       "version_major": 2,
       "version_minor": 0
      },
      "text/plain": [
       "Batches:   0%|          | 0/1 [00:00<?, ?it/s]"
      ]
     },
     "metadata": {},
     "output_type": "display_data"
    },
    {
     "data": {
      "application/vnd.jupyter.widget-view+json": {
       "model_id": "14a0d08cd535449dbe29e96cd414dedf",
       "version_major": 2,
       "version_minor": 0
      },
      "text/plain": [
       "Batches:   0%|          | 0/1 [00:00<?, ?it/s]"
      ]
     },
     "metadata": {},
     "output_type": "display_data"
    },
    {
     "data": {
      "application/vnd.jupyter.widget-view+json": {
       "model_id": "2a9eeb01282a4221b04a0813804b1ce0",
       "version_major": 2,
       "version_minor": 0
      },
      "text/plain": [
       "Batches:   0%|          | 0/1 [00:00<?, ?it/s]"
      ]
     },
     "metadata": {},
     "output_type": "display_data"
    },
    {
     "data": {
      "application/vnd.jupyter.widget-view+json": {
       "model_id": "823a330fc8ca48bfa3cde88a3893e4d7",
       "version_major": 2,
       "version_minor": 0
      },
      "text/plain": [
       "Batches:   0%|          | 0/1 [00:00<?, ?it/s]"
      ]
     },
     "metadata": {},
     "output_type": "display_data"
    },
    {
     "data": {
      "application/vnd.jupyter.widget-view+json": {
       "model_id": "8b1861ccf2334946af7b7eeadff9b131",
       "version_major": 2,
       "version_minor": 0
      },
      "text/plain": [
       "Batches:   0%|          | 0/1 [00:00<?, ?it/s]"
      ]
     },
     "metadata": {},
     "output_type": "display_data"
    },
    {
     "data": {
      "application/vnd.jupyter.widget-view+json": {
       "model_id": "6de8e4f9f2ed4a56b57060746b9de35d",
       "version_major": 2,
       "version_minor": 0
      },
      "text/plain": [
       "Batches:   0%|          | 0/1 [00:00<?, ?it/s]"
      ]
     },
     "metadata": {},
     "output_type": "display_data"
    },
    {
     "data": {
      "application/vnd.jupyter.widget-view+json": {
       "model_id": "6e08c20f49034bf0bf5fd6ba79925171",
       "version_major": 2,
       "version_minor": 0
      },
      "text/plain": [
       "Batches:   0%|          | 0/1 [00:00<?, ?it/s]"
      ]
     },
     "metadata": {},
     "output_type": "display_data"
    },
    {
     "data": {
      "application/vnd.jupyter.widget-view+json": {
       "model_id": "ce3bce6d6095437fbfe6783601a4bf7c",
       "version_major": 2,
       "version_minor": 0
      },
      "text/plain": [
       "Batches:   0%|          | 0/1 [00:00<?, ?it/s]"
      ]
     },
     "metadata": {},
     "output_type": "display_data"
    },
    {
     "data": {
      "application/vnd.jupyter.widget-view+json": {
       "model_id": "1e6c09b40c984e658689ab28ccc2685e",
       "version_major": 2,
       "version_minor": 0
      },
      "text/plain": [
       "Batches:   0%|          | 0/1 [00:00<?, ?it/s]"
      ]
     },
     "metadata": {},
     "output_type": "display_data"
    },
    {
     "data": {
      "application/vnd.jupyter.widget-view+json": {
       "model_id": "d403dd0fddda4c1ab3fcac2d1bd38977",
       "version_major": 2,
       "version_minor": 0
      },
      "text/plain": [
       "Batches:   0%|          | 0/1 [00:00<?, ?it/s]"
      ]
     },
     "metadata": {},
     "output_type": "display_data"
    },
    {
     "data": {
      "application/vnd.jupyter.widget-view+json": {
       "model_id": "5174eaba4a61477eaf937e32c2d57cb7",
       "version_major": 2,
       "version_minor": 0
      },
      "text/plain": [
       "Batches:   0%|          | 0/1 [00:00<?, ?it/s]"
      ]
     },
     "metadata": {},
     "output_type": "display_data"
    },
    {
     "data": {
      "application/vnd.jupyter.widget-view+json": {
       "model_id": "35be2ee564984b3fa2e480d6af4fa742",
       "version_major": 2,
       "version_minor": 0
      },
      "text/plain": [
       "Batches:   0%|          | 0/1 [00:00<?, ?it/s]"
      ]
     },
     "metadata": {},
     "output_type": "display_data"
    },
    {
     "data": {
      "application/vnd.jupyter.widget-view+json": {
       "model_id": "49d3fbd766a84df0a8959dfd877cfebf",
       "version_major": 2,
       "version_minor": 0
      },
      "text/plain": [
       "Batches:   0%|          | 0/1 [00:00<?, ?it/s]"
      ]
     },
     "metadata": {},
     "output_type": "display_data"
    },
    {
     "data": {
      "application/vnd.jupyter.widget-view+json": {
       "model_id": "36252c5b8a1d43d0944f0c22da9f473d",
       "version_major": 2,
       "version_minor": 0
      },
      "text/plain": [
       "Batches:   0%|          | 0/1 [00:00<?, ?it/s]"
      ]
     },
     "metadata": {},
     "output_type": "display_data"
    },
    {
     "name": "stdout",
     "output_type": "stream",
     "text": [
      "100 of 170\r"
     ]
    },
    {
     "data": {
      "application/vnd.jupyter.widget-view+json": {
       "model_id": "b828f2db4b7c471b98294229b20a8ccf",
       "version_major": 2,
       "version_minor": 0
      },
      "text/plain": [
       "Batches:   0%|          | 0/1 [00:00<?, ?it/s]"
      ]
     },
     "metadata": {},
     "output_type": "display_data"
    },
    {
     "data": {
      "application/vnd.jupyter.widget-view+json": {
       "model_id": "a348c0791a564f1cb5fafdbe6dcb4c08",
       "version_major": 2,
       "version_minor": 0
      },
      "text/plain": [
       "Batches:   0%|          | 0/1 [00:00<?, ?it/s]"
      ]
     },
     "metadata": {},
     "output_type": "display_data"
    },
    {
     "data": {
      "application/vnd.jupyter.widget-view+json": {
       "model_id": "4b9e1d9f35da4039a1d628205ca26bf1",
       "version_major": 2,
       "version_minor": 0
      },
      "text/plain": [
       "Batches:   0%|          | 0/1 [00:00<?, ?it/s]"
      ]
     },
     "metadata": {},
     "output_type": "display_data"
    },
    {
     "data": {
      "application/vnd.jupyter.widget-view+json": {
       "model_id": "7e8df56960a144f1bda9a55321e3fa92",
       "version_major": 2,
       "version_minor": 0
      },
      "text/plain": [
       "Batches:   0%|          | 0/1 [00:00<?, ?it/s]"
      ]
     },
     "metadata": {},
     "output_type": "display_data"
    },
    {
     "data": {
      "application/vnd.jupyter.widget-view+json": {
       "model_id": "5c8382a3351746799ab0aa93f40eac93",
       "version_major": 2,
       "version_minor": 0
      },
      "text/plain": [
       "Batches:   0%|          | 0/1 [00:00<?, ?it/s]"
      ]
     },
     "metadata": {},
     "output_type": "display_data"
    },
    {
     "data": {
      "application/vnd.jupyter.widget-view+json": {
       "model_id": "7fdd4c3724674968992dcc01eb3e0ad7",
       "version_major": 2,
       "version_minor": 0
      },
      "text/plain": [
       "Batches:   0%|          | 0/1 [00:00<?, ?it/s]"
      ]
     },
     "metadata": {},
     "output_type": "display_data"
    },
    {
     "data": {
      "application/vnd.jupyter.widget-view+json": {
       "model_id": "1b7805ff1f4c4ffab2150413b4895ab2",
       "version_major": 2,
       "version_minor": 0
      },
      "text/plain": [
       "Batches:   0%|          | 0/1 [00:00<?, ?it/s]"
      ]
     },
     "metadata": {},
     "output_type": "display_data"
    },
    {
     "data": {
      "application/vnd.jupyter.widget-view+json": {
       "model_id": "37a0c28c4b30483bb652e19d14d6d598",
       "version_major": 2,
       "version_minor": 0
      },
      "text/plain": [
       "Batches:   0%|          | 0/1 [00:00<?, ?it/s]"
      ]
     },
     "metadata": {},
     "output_type": "display_data"
    },
    {
     "data": {
      "application/vnd.jupyter.widget-view+json": {
       "model_id": "1fd872c8277545d893a3d1ada1e6abb4",
       "version_major": 2,
       "version_minor": 0
      },
      "text/plain": [
       "Batches:   0%|          | 0/1 [00:00<?, ?it/s]"
      ]
     },
     "metadata": {},
     "output_type": "display_data"
    },
    {
     "data": {
      "application/vnd.jupyter.widget-view+json": {
       "model_id": "29d27c4e82ba456b99ac20ffb1430a25",
       "version_major": 2,
       "version_minor": 0
      },
      "text/plain": [
       "Batches:   0%|          | 0/1 [00:00<?, ?it/s]"
      ]
     },
     "metadata": {},
     "output_type": "display_data"
    },
    {
     "data": {
      "application/vnd.jupyter.widget-view+json": {
       "model_id": "91b478432e3d4733b44fdac6feeb90d4",
       "version_major": 2,
       "version_minor": 0
      },
      "text/plain": [
       "Batches:   0%|          | 0/1 [00:00<?, ?it/s]"
      ]
     },
     "metadata": {},
     "output_type": "display_data"
    },
    {
     "data": {
      "application/vnd.jupyter.widget-view+json": {
       "model_id": "41e2cbefe96c489e99e264e66e8d14e4",
       "version_major": 2,
       "version_minor": 0
      },
      "text/plain": [
       "Batches:   0%|          | 0/1 [00:00<?, ?it/s]"
      ]
     },
     "metadata": {},
     "output_type": "display_data"
    },
    {
     "data": {
      "application/vnd.jupyter.widget-view+json": {
       "model_id": "6f0ea658e96846df93bf0aa7f541d1b1",
       "version_major": 2,
       "version_minor": 0
      },
      "text/plain": [
       "Batches:   0%|          | 0/1 [00:00<?, ?it/s]"
      ]
     },
     "metadata": {},
     "output_type": "display_data"
    },
    {
     "data": {
      "application/vnd.jupyter.widget-view+json": {
       "model_id": "ea303dadea52482794ec976d97b0545a",
       "version_major": 2,
       "version_minor": 0
      },
      "text/plain": [
       "Batches:   0%|          | 0/1 [00:00<?, ?it/s]"
      ]
     },
     "metadata": {},
     "output_type": "display_data"
    },
    {
     "data": {
      "application/vnd.jupyter.widget-view+json": {
       "model_id": "c312e631e47748f8893a49d852120f76",
       "version_major": 2,
       "version_minor": 0
      },
      "text/plain": [
       "Batches:   0%|          | 0/1 [00:00<?, ?it/s]"
      ]
     },
     "metadata": {},
     "output_type": "display_data"
    },
    {
     "data": {
      "application/vnd.jupyter.widget-view+json": {
       "model_id": "81bfb861bed541df8a3132991ad33a63",
       "version_major": 2,
       "version_minor": 0
      },
      "text/plain": [
       "Batches:   0%|          | 0/1 [00:00<?, ?it/s]"
      ]
     },
     "metadata": {},
     "output_type": "display_data"
    },
    {
     "data": {
      "application/vnd.jupyter.widget-view+json": {
       "model_id": "7d1e054790a74fe49e4c8540964d9ced",
       "version_major": 2,
       "version_minor": 0
      },
      "text/plain": [
       "Batches:   0%|          | 0/1 [00:00<?, ?it/s]"
      ]
     },
     "metadata": {},
     "output_type": "display_data"
    },
    {
     "data": {
      "application/vnd.jupyter.widget-view+json": {
       "model_id": "2ea31a3fdd504490b2bca467d9e10845",
       "version_major": 2,
       "version_minor": 0
      },
      "text/plain": [
       "Batches:   0%|          | 0/1 [00:00<?, ?it/s]"
      ]
     },
     "metadata": {},
     "output_type": "display_data"
    },
    {
     "data": {
      "application/vnd.jupyter.widget-view+json": {
       "model_id": "c6313fc679f04cae9dede1ebb9558a89",
       "version_major": 2,
       "version_minor": 0
      },
      "text/plain": [
       "Batches:   0%|          | 0/1 [00:00<?, ?it/s]"
      ]
     },
     "metadata": {},
     "output_type": "display_data"
    },
    {
     "data": {
      "application/vnd.jupyter.widget-view+json": {
       "model_id": "6f3a03b1e54f4386ba77658aa7af1321",
       "version_major": 2,
       "version_minor": 0
      },
      "text/plain": [
       "Batches:   0%|          | 0/1 [00:00<?, ?it/s]"
      ]
     },
     "metadata": {},
     "output_type": "display_data"
    },
    {
     "data": {
      "application/vnd.jupyter.widget-view+json": {
       "model_id": "50854ad90e7d4553bfaefc47e2a396ab",
       "version_major": 2,
       "version_minor": 0
      },
      "text/plain": [
       "Batches:   0%|          | 0/1 [00:00<?, ?it/s]"
      ]
     },
     "metadata": {},
     "output_type": "display_data"
    },
    {
     "data": {
      "application/vnd.jupyter.widget-view+json": {
       "model_id": "08b395c3d74a497ab11fb5b14b405ced",
       "version_major": 2,
       "version_minor": 0
      },
      "text/plain": [
       "Batches:   0%|          | 0/1 [00:00<?, ?it/s]"
      ]
     },
     "metadata": {},
     "output_type": "display_data"
    },
    {
     "data": {
      "application/vnd.jupyter.widget-view+json": {
       "model_id": "0c09ea291d114fdaadacb999721d41d2",
       "version_major": 2,
       "version_minor": 0
      },
      "text/plain": [
       "Batches:   0%|          | 0/1 [00:00<?, ?it/s]"
      ]
     },
     "metadata": {},
     "output_type": "display_data"
    },
    {
     "data": {
      "application/vnd.jupyter.widget-view+json": {
       "model_id": "eeed5a70f64b49288a8e2b67cbf9c97c",
       "version_major": 2,
       "version_minor": 0
      },
      "text/plain": [
       "Batches:   0%|          | 0/1 [00:00<?, ?it/s]"
      ]
     },
     "metadata": {},
     "output_type": "display_data"
    },
    {
     "data": {
      "application/vnd.jupyter.widget-view+json": {
       "model_id": "1eaa6852760b46859687ba7ede39ed31",
       "version_major": 2,
       "version_minor": 0
      },
      "text/plain": [
       "Batches:   0%|          | 0/1 [00:00<?, ?it/s]"
      ]
     },
     "metadata": {},
     "output_type": "display_data"
    },
    {
     "data": {
      "application/vnd.jupyter.widget-view+json": {
       "model_id": "ab92fa8422f94706b86d7dfbac467a75",
       "version_major": 2,
       "version_minor": 0
      },
      "text/plain": [
       "Batches:   0%|          | 0/1 [00:00<?, ?it/s]"
      ]
     },
     "metadata": {},
     "output_type": "display_data"
    },
    {
     "data": {
      "application/vnd.jupyter.widget-view+json": {
       "model_id": "32796c15b47149059f5c1547047da8c7",
       "version_major": 2,
       "version_minor": 0
      },
      "text/plain": [
       "Batches:   0%|          | 0/1 [00:00<?, ?it/s]"
      ]
     },
     "metadata": {},
     "output_type": "display_data"
    },
    {
     "data": {
      "application/vnd.jupyter.widget-view+json": {
       "model_id": "bc818588ed7544e5bcb9b8ffda42b106",
       "version_major": 2,
       "version_minor": 0
      },
      "text/plain": [
       "Batches:   0%|          | 0/1 [00:00<?, ?it/s]"
      ]
     },
     "metadata": {},
     "output_type": "display_data"
    },
    {
     "data": {
      "application/vnd.jupyter.widget-view+json": {
       "model_id": "b55f1e6f4b814f04a4420cac1544d571",
       "version_major": 2,
       "version_minor": 0
      },
      "text/plain": [
       "Batches:   0%|          | 0/1 [00:00<?, ?it/s]"
      ]
     },
     "metadata": {},
     "output_type": "display_data"
    },
    {
     "data": {
      "application/vnd.jupyter.widget-view+json": {
       "model_id": "48001e94cb024171816cdc5fbe905b1b",
       "version_major": 2,
       "version_minor": 0
      },
      "text/plain": [
       "Batches:   0%|          | 0/1 [00:00<?, ?it/s]"
      ]
     },
     "metadata": {},
     "output_type": "display_data"
    },
    {
     "data": {
      "application/vnd.jupyter.widget-view+json": {
       "model_id": "21606562a6e145bbafe7f19cf079135a",
       "version_major": 2,
       "version_minor": 0
      },
      "text/plain": [
       "Batches:   0%|          | 0/1 [00:00<?, ?it/s]"
      ]
     },
     "metadata": {},
     "output_type": "display_data"
    },
    {
     "data": {
      "application/vnd.jupyter.widget-view+json": {
       "model_id": "7fee3e658a9249f39580272421d75648",
       "version_major": 2,
       "version_minor": 0
      },
      "text/plain": [
       "Batches:   0%|          | 0/1 [00:00<?, ?it/s]"
      ]
     },
     "metadata": {},
     "output_type": "display_data"
    },
    {
     "data": {
      "application/vnd.jupyter.widget-view+json": {
       "model_id": "f0451a7153034b2ab8383fe496755ccc",
       "version_major": 2,
       "version_minor": 0
      },
      "text/plain": [
       "Batches:   0%|          | 0/1 [00:00<?, ?it/s]"
      ]
     },
     "metadata": {},
     "output_type": "display_data"
    },
    {
     "data": {
      "application/vnd.jupyter.widget-view+json": {
       "model_id": "f3d2b0dfdf064cada5b27818f502c68d",
       "version_major": 2,
       "version_minor": 0
      },
      "text/plain": [
       "Batches:   0%|          | 0/1 [00:00<?, ?it/s]"
      ]
     },
     "metadata": {},
     "output_type": "display_data"
    },
    {
     "data": {
      "application/vnd.jupyter.widget-view+json": {
       "model_id": "6abac6b0e2404eab9fa463194546424a",
       "version_major": 2,
       "version_minor": 0
      },
      "text/plain": [
       "Batches:   0%|          | 0/1 [00:00<?, ?it/s]"
      ]
     },
     "metadata": {},
     "output_type": "display_data"
    },
    {
     "data": {
      "application/vnd.jupyter.widget-view+json": {
       "model_id": "ead8be5130af40369f763743af6f64ba",
       "version_major": 2,
       "version_minor": 0
      },
      "text/plain": [
       "Batches:   0%|          | 0/1 [00:00<?, ?it/s]"
      ]
     },
     "metadata": {},
     "output_type": "display_data"
    },
    {
     "data": {
      "application/vnd.jupyter.widget-view+json": {
       "model_id": "a8a5983a24b8462388af17793439a659",
       "version_major": 2,
       "version_minor": 0
      },
      "text/plain": [
       "Batches:   0%|          | 0/1 [00:00<?, ?it/s]"
      ]
     },
     "metadata": {},
     "output_type": "display_data"
    },
    {
     "data": {
      "application/vnd.jupyter.widget-view+json": {
       "model_id": "841a3969ead34eceb7acf45e10e50c67",
       "version_major": 2,
       "version_minor": 0
      },
      "text/plain": [
       "Batches:   0%|          | 0/1 [00:00<?, ?it/s]"
      ]
     },
     "metadata": {},
     "output_type": "display_data"
    },
    {
     "data": {
      "application/vnd.jupyter.widget-view+json": {
       "model_id": "8e5198b2e1a94613ae69358ea0d20259",
       "version_major": 2,
       "version_minor": 0
      },
      "text/plain": [
       "Batches:   0%|          | 0/1 [00:00<?, ?it/s]"
      ]
     },
     "metadata": {},
     "output_type": "display_data"
    },
    {
     "data": {
      "application/vnd.jupyter.widget-view+json": {
       "model_id": "863bfab17cdb4630b728833b96603c83",
       "version_major": 2,
       "version_minor": 0
      },
      "text/plain": [
       "Batches:   0%|          | 0/1 [00:00<?, ?it/s]"
      ]
     },
     "metadata": {},
     "output_type": "display_data"
    },
    {
     "data": {
      "application/vnd.jupyter.widget-view+json": {
       "model_id": "1cb8bc12878c47e6b747ed5c594b9a09",
       "version_major": 2,
       "version_minor": 0
      },
      "text/plain": [
       "Batches:   0%|          | 0/1 [00:00<?, ?it/s]"
      ]
     },
     "metadata": {},
     "output_type": "display_data"
    },
    {
     "data": {
      "application/vnd.jupyter.widget-view+json": {
       "model_id": "e23918660c7c464eae0239da74ea3d59",
       "version_major": 2,
       "version_minor": 0
      },
      "text/plain": [
       "Batches:   0%|          | 0/1 [00:00<?, ?it/s]"
      ]
     },
     "metadata": {},
     "output_type": "display_data"
    },
    {
     "data": {
      "application/vnd.jupyter.widget-view+json": {
       "model_id": "86c05bf9fad14f99b354ea170d863739",
       "version_major": 2,
       "version_minor": 0
      },
      "text/plain": [
       "Batches:   0%|          | 0/1 [00:00<?, ?it/s]"
      ]
     },
     "metadata": {},
     "output_type": "display_data"
    },
    {
     "data": {
      "application/vnd.jupyter.widget-view+json": {
       "model_id": "f192f7c6309342129cec58e414a82054",
       "version_major": 2,
       "version_minor": 0
      },
      "text/plain": [
       "Batches:   0%|          | 0/1 [00:00<?, ?it/s]"
      ]
     },
     "metadata": {},
     "output_type": "display_data"
    },
    {
     "data": {
      "application/vnd.jupyter.widget-view+json": {
       "model_id": "ce2915eef25f46cc8c44e4b3344643ce",
       "version_major": 2,
       "version_minor": 0
      },
      "text/plain": [
       "Batches:   0%|          | 0/1 [00:00<?, ?it/s]"
      ]
     },
     "metadata": {},
     "output_type": "display_data"
    },
    {
     "data": {
      "application/vnd.jupyter.widget-view+json": {
       "model_id": "d92018de5a9f4f9eb4bed584fc27e832",
       "version_major": 2,
       "version_minor": 0
      },
      "text/plain": [
       "Batches:   0%|          | 0/1 [00:00<?, ?it/s]"
      ]
     },
     "metadata": {},
     "output_type": "display_data"
    },
    {
     "data": {
      "application/vnd.jupyter.widget-view+json": {
       "model_id": "a72bae89e0b14188bd16baff316d5130",
       "version_major": 2,
       "version_minor": 0
      },
      "text/plain": [
       "Batches:   0%|          | 0/1 [00:00<?, ?it/s]"
      ]
     },
     "metadata": {},
     "output_type": "display_data"
    },
    {
     "data": {
      "application/vnd.jupyter.widget-view+json": {
       "model_id": "d81f0443ed3940a588b1f062527a552c",
       "version_major": 2,
       "version_minor": 0
      },
      "text/plain": [
       "Batches:   0%|          | 0/1 [00:00<?, ?it/s]"
      ]
     },
     "metadata": {},
     "output_type": "display_data"
    },
    {
     "data": {
      "application/vnd.jupyter.widget-view+json": {
       "model_id": "1c948f05b9314e6caa6477304fcf66d9",
       "version_major": 2,
       "version_minor": 0
      },
      "text/plain": [
       "Batches:   0%|          | 0/1 [00:00<?, ?it/s]"
      ]
     },
     "metadata": {},
     "output_type": "display_data"
    },
    {
     "data": {
      "application/vnd.jupyter.widget-view+json": {
       "model_id": "4a10af0aafd04026b66ad9e4a47b485b",
       "version_major": 2,
       "version_minor": 0
      },
      "text/plain": [
       "Batches:   0%|          | 0/1 [00:00<?, ?it/s]"
      ]
     },
     "metadata": {},
     "output_type": "display_data"
    },
    {
     "name": "stdout",
     "output_type": "stream",
     "text": [
      "150 of 170\r"
     ]
    },
    {
     "data": {
      "application/vnd.jupyter.widget-view+json": {
       "model_id": "92134244363742c1aa84a0db26f73d46",
       "version_major": 2,
       "version_minor": 0
      },
      "text/plain": [
       "Batches:   0%|          | 0/1 [00:00<?, ?it/s]"
      ]
     },
     "metadata": {},
     "output_type": "display_data"
    },
    {
     "data": {
      "application/vnd.jupyter.widget-view+json": {
       "model_id": "94eab37f40a84408beeded3eedba463b",
       "version_major": 2,
       "version_minor": 0
      },
      "text/plain": [
       "Batches:   0%|          | 0/1 [00:00<?, ?it/s]"
      ]
     },
     "metadata": {},
     "output_type": "display_data"
    },
    {
     "data": {
      "application/vnd.jupyter.widget-view+json": {
       "model_id": "639adbbeb6034417b487c7d4c2b7f603",
       "version_major": 2,
       "version_minor": 0
      },
      "text/plain": [
       "Batches:   0%|          | 0/1 [00:00<?, ?it/s]"
      ]
     },
     "metadata": {},
     "output_type": "display_data"
    },
    {
     "data": {
      "application/vnd.jupyter.widget-view+json": {
       "model_id": "87e848ff114a4c5ca6d69d18df4de2fd",
       "version_major": 2,
       "version_minor": 0
      },
      "text/plain": [
       "Batches:   0%|          | 0/1 [00:00<?, ?it/s]"
      ]
     },
     "metadata": {},
     "output_type": "display_data"
    },
    {
     "data": {
      "application/vnd.jupyter.widget-view+json": {
       "model_id": "2910e1aa60534fc9bb9eb89de73b8b85",
       "version_major": 2,
       "version_minor": 0
      },
      "text/plain": [
       "Batches:   0%|          | 0/1 [00:00<?, ?it/s]"
      ]
     },
     "metadata": {},
     "output_type": "display_data"
    },
    {
     "data": {
      "application/vnd.jupyter.widget-view+json": {
       "model_id": "f2f552969fdf4f46badae9d58583b677",
       "version_major": 2,
       "version_minor": 0
      },
      "text/plain": [
       "Batches:   0%|          | 0/1 [00:00<?, ?it/s]"
      ]
     },
     "metadata": {},
     "output_type": "display_data"
    },
    {
     "data": {
      "application/vnd.jupyter.widget-view+json": {
       "model_id": "f7e101b9bc164ec3a07c23debe3fd52e",
       "version_major": 2,
       "version_minor": 0
      },
      "text/plain": [
       "Batches:   0%|          | 0/1 [00:00<?, ?it/s]"
      ]
     },
     "metadata": {},
     "output_type": "display_data"
    },
    {
     "data": {
      "application/vnd.jupyter.widget-view+json": {
       "model_id": "e7121118ac914f619f7eb05313bf902d",
       "version_major": 2,
       "version_minor": 0
      },
      "text/plain": [
       "Batches:   0%|          | 0/1 [00:00<?, ?it/s]"
      ]
     },
     "metadata": {},
     "output_type": "display_data"
    },
    {
     "data": {
      "application/vnd.jupyter.widget-view+json": {
       "model_id": "ee818ae05364487f8a0bcf08517146b3",
       "version_major": 2,
       "version_minor": 0
      },
      "text/plain": [
       "Batches:   0%|          | 0/1 [00:00<?, ?it/s]"
      ]
     },
     "metadata": {},
     "output_type": "display_data"
    },
    {
     "data": {
      "application/vnd.jupyter.widget-view+json": {
       "model_id": "3f3e3747f6c94fe58b550bd7e77f3875",
       "version_major": 2,
       "version_minor": 0
      },
      "text/plain": [
       "Batches:   0%|          | 0/1 [00:00<?, ?it/s]"
      ]
     },
     "metadata": {},
     "output_type": "display_data"
    },
    {
     "data": {
      "application/vnd.jupyter.widget-view+json": {
       "model_id": "4f48a24193424baabb732921f489b17b",
       "version_major": 2,
       "version_minor": 0
      },
      "text/plain": [
       "Batches:   0%|          | 0/1 [00:00<?, ?it/s]"
      ]
     },
     "metadata": {},
     "output_type": "display_data"
    },
    {
     "data": {
      "application/vnd.jupyter.widget-view+json": {
       "model_id": "b8cc6dcfa6b440879ec0834a10562756",
       "version_major": 2,
       "version_minor": 0
      },
      "text/plain": [
       "Batches:   0%|          | 0/1 [00:00<?, ?it/s]"
      ]
     },
     "metadata": {},
     "output_type": "display_data"
    },
    {
     "data": {
      "application/vnd.jupyter.widget-view+json": {
       "model_id": "742bb1e756f048349444d819f2cfd34c",
       "version_major": 2,
       "version_minor": 0
      },
      "text/plain": [
       "Batches:   0%|          | 0/1 [00:00<?, ?it/s]"
      ]
     },
     "metadata": {},
     "output_type": "display_data"
    },
    {
     "data": {
      "application/vnd.jupyter.widget-view+json": {
       "model_id": "b6ad5a850d334dc7b5dcf6e9f1b8cf9a",
       "version_major": 2,
       "version_minor": 0
      },
      "text/plain": [
       "Batches:   0%|          | 0/1 [00:00<?, ?it/s]"
      ]
     },
     "metadata": {},
     "output_type": "display_data"
    },
    {
     "data": {
      "application/vnd.jupyter.widget-view+json": {
       "model_id": "21bc9cb262034ad7a13f77fb0c22e311",
       "version_major": 2,
       "version_minor": 0
      },
      "text/plain": [
       "Batches:   0%|          | 0/1 [00:00<?, ?it/s]"
      ]
     },
     "metadata": {},
     "output_type": "display_data"
    },
    {
     "data": {
      "application/vnd.jupyter.widget-view+json": {
       "model_id": "b4007799d5544dd0874181576d0a9be9",
       "version_major": 2,
       "version_minor": 0
      },
      "text/plain": [
       "Batches:   0%|          | 0/1 [00:00<?, ?it/s]"
      ]
     },
     "metadata": {},
     "output_type": "display_data"
    },
    {
     "data": {
      "application/vnd.jupyter.widget-view+json": {
       "model_id": "9ad67b49251c43129003ad9ed28b597a",
       "version_major": 2,
       "version_minor": 0
      },
      "text/plain": [
       "Batches:   0%|          | 0/1 [00:00<?, ?it/s]"
      ]
     },
     "metadata": {},
     "output_type": "display_data"
    },
    {
     "data": {
      "application/vnd.jupyter.widget-view+json": {
       "model_id": "000a539069e944d78fd68f04588e2513",
       "version_major": 2,
       "version_minor": 0
      },
      "text/plain": [
       "Batches:   0%|          | 0/1 [00:00<?, ?it/s]"
      ]
     },
     "metadata": {},
     "output_type": "display_data"
    },
    {
     "data": {
      "application/vnd.jupyter.widget-view+json": {
       "model_id": "023277a762544d3ebe7c2a76ac3ac0e1",
       "version_major": 2,
       "version_minor": 0
      },
      "text/plain": [
       "Batches:   0%|          | 0/1 [00:00<?, ?it/s]"
      ]
     },
     "metadata": {},
     "output_type": "display_data"
    },
    {
     "data": {
      "application/vnd.jupyter.widget-view+json": {
       "model_id": "96eab068c80b4f0f8e0cde4e047fdc16",
       "version_major": 2,
       "version_minor": 0
      },
      "text/plain": [
       "Batches:   0%|          | 0/1 [00:00<?, ?it/s]"
      ]
     },
     "metadata": {},
     "output_type": "display_data"
    },
    {
     "data": {
      "application/vnd.jupyter.widget-view+json": {
       "model_id": "3c05541d63fb427bb02533331bc0f115",
       "version_major": 2,
       "version_minor": 0
      },
      "text/plain": [
       "Batches:   0%|          | 0/1 [00:00<?, ?it/s]"
      ]
     },
     "metadata": {},
     "output_type": "display_data"
    },
    {
     "name": "stdout",
     "output_type": "stream",
     "text": [
      "Final number of requirements: 30\n",
      "Output saved in Markdown format in directory: checkpoints/requirements_downselect\n"
     ]
    }
   ],
   "source": [
    "import requirement_downselect\n",
    "importlib.reload(requirement_downselect)\n",
    "requirement_downselect.full_pass(\n",
    "    md_files=[\"/Users/ceadams/Documents/onclaive/onclaive/pipeline/checkpoints/revised_reqs_extraction/claude_reqs_list_v2_20250805_125844.md\", \"/Users/ceadams/Documents/onclaive/onclaive/pipeline/checkpoints/revised_reqs_extraction/claude_reqs_list_v2_20250805_125935.md\", \"/Users/ceadams/Documents/onclaive/onclaive/pipeline/checkpoints/revised_reqs_extraction/claude_reqs_list_v2_20250805_130022.md\", \"/Users/ceadams/Documents/onclaive/onclaive/pipeline/checkpoints/revised_reqs_extraction/claude_reqs_list_v2_20250805_130106.md\", \"/Users/ceadams/Documents/onclaive/onclaive/pipeline/checkpoints/revised_reqs_extraction/claude_reqs_list_v2_20250805_130905.md\", \"/Users/ceadams/Documents/onclaive/onclaive/pipeline/checkpoints/revised_reqs_extraction/claude_reqs_list_v2_20250805_133736.md\", \"/Users/ceadams/Documents/onclaive/onclaive/pipeline/checkpoints/revised_reqs_extraction/claude_reqs_list_v2_20250805_135555.md\" ,\"/Users/ceadams/Documents/onclaive/onclaive/pipeline/checkpoints/revised_reqs_extraction/claude_reqs_list_v2_20250805_144850.md\"]\n",
    "    #rag_files=[\"checkpoints/requirements_extraction/RAG/raw_output.json\"]\n",
    "    )"
   ]
  },
  {
   "cell_type": "markdown",
   "id": "669a69ed",
   "metadata": {},
   "source": [
    "## Test Plan Generation"
   ]
  },
  {
   "cell_type": "code",
   "execution_count": 8,
   "id": "4ee31b17",
   "metadata": {},
   "outputs": [],
   "source": [
    "import logging\n",
    "llm_clients.logger.setLevel(logging.INFO)"
   ]
  },
  {
   "cell_type": "markdown",
   "id": "8cbd731d",
   "metadata": {},
   "source": [
    "##### Without RAG- Faster"
   ]
  },
  {
   "cell_type": "code",
   "execution_count": 9,
   "id": "8be0d386",
   "metadata": {},
   "outputs": [
    {
     "name": "stderr",
     "output_type": "stream",
     "text": [
      "INFO:llm_utils:Starting test plan generation with claude for Plan-Net IG\n",
      "INFO:llm_utils:Parsed 19 requirements from /Users/ceadams/Documents/onclaive/onclaive/pipeline/checkpoints/revised_reqs_extraction/claude_reqs_list_v2_20250730_122703.md\n",
      "INFO:llm_utils:Parsed capability statement from /Users/ceadams/Documents/onclaive/onclaive/full-ig/markdown7_cleaned/CapabilityStatement_plan_net.md\n",
      "INFO:llm_utils:Identifying group for requirement REQ-01 using claude...\n",
      "INFO:llm_utils:Identifying group for requirement REQ-02 using claude...\n",
      "INFO:llm_utils:Identifying group for requirement REQ-03 using claude...\n",
      "INFO:llm_utils:Identifying group for requirement REQ-04 using claude...\n",
      "INFO:llm_utils:Identifying group for requirement REQ-05 using claude...\n",
      "INFO:llm_utils:Identifying group for requirement REQ-06 using claude...\n",
      "INFO:llm_utils:Identifying group for requirement REQ-07 using claude...\n",
      "INFO:llm_utils:Identifying group for requirement REQ-08 using claude...\n",
      "INFO:llm_utils:Identifying group for requirement REQ-09 using claude...\n",
      "INFO:llm_utils:Identifying group for requirement REQ-10 using claude...\n",
      "INFO:llm_utils:Identifying group for requirement REQ-11 using claude...\n",
      "INFO:llm_utils:Identifying group for requirement REQ-12 using claude...\n",
      "INFO:llm_utils:Identifying group for requirement REQ-13 using claude...\n",
      "INFO:llm_utils:Identifying group for requirement REQ-14 using claude...\n",
      "INFO:llm_utils:Identifying group for requirement REQ-15 using claude...\n",
      "INFO:llm_utils:Identifying group for requirement REQ-16 using claude...\n",
      "INFO:llm_utils:Identifying group for requirement REQ-17 using claude...\n",
      "INFO:llm_utils:Identifying group for requirement REQ-18 using claude...\n",
      "INFO:llm_utils:Identifying group for requirement REQ-19 using claude...\n",
      "INFO:llm_utils:Requirements grouped into 18 categories\n",
      "INFO:llm_utils:Group 'This requirement does not fit into any of the specific FHIR resource profile categories listed. It is a cross-cutting technical and privacy requirement that applies to the overall Plan-Net service implementation rather than to a specific resource profile.': 1 requirements\n",
      "INFO:llm_utils:Group 'This requirement does not map to a specific resource profile. It is a cross-cutting privacy and security requirement that applies to the overall system behavior rather than to any particular FHIR resource type.': 1 requirements\n",
      "INFO:llm_utils:Group 'This requirement does not fit into any of the specific resource profile categories, as it describes a general API capability that applies across all resource types rather than being specific to any single resource profile.': 1 requirements\n",
      "INFO:llm_utils:Group 'This requirement applies to all resource profiles as it is a general API behavior requirement for handling missing Must Support data elements across all Plan-Net resources.': 1 requirements\n",
      "INFO:llm_utils:Group 'This requirement is cross-cutting and applies to all resource profiles, but since I must choose one category:': 1 requirements\n",
      "INFO:llm_utils:Group 'General Application Requirements': 1 requirements\n",
      "INFO:llm_utils:Group 'This requirement does not fit into any of the specific resource profile categories listed. It is a general application capability requirement that applies across all resource types.': 1 requirements\n",
      "INFO:llm_utils:Group 'This requirement does not fit into any of the specific resource profile categories, as it addresses a general application behavior requirement that applies across all resource types when interpreting missing Must Support data elements.': 1 requirements\n",
      "INFO:llm_utils:Group 'General/Cross-Resource Requirements': 1 requirements\n",
      "INFO:llm_utils:Group 'Server Capability': 1 requirements\n",
      "INFO:llm_utils:Group 'FHIR RESTful Capabilities': 2 requirements\n",
      "INFO:llm_utils:Group 'This requirement does not belong to any of the specific resource profiles listed. It is a general server capability requirement that applies across all resources and operations in the Plan-Net implementation guide.': 1 requirements\n",
      "INFO:llm_utils:Group 'Cross-cutting/Server Capabilities': 1 requirements\n",
      "INFO:llm_utils:Group 'General/Cross-cutting': 1 requirements\n",
      "INFO:llm_utils:Group 'This requirement does not fit into any of the specific resource profile categories as it applies to search parameter support across all profiles in the implementation guide rather than being specific to any single resource type.': 1 requirements\n",
      "INFO:llm_utils:Group 'General/Infrastructure': 1 requirements\n",
      "INFO:llm_utils:Group 'This requirement does not fit into any of the specific resource profile categories as it is a general security requirement that applies to all Plan-Net Server operations across all resource types.': 1 requirements\n",
      "INFO:llm_utils:Group 'Plan-Net HealthcareService': 1 requirements\n",
      "INFO:llm_utils:Processing requirement for group 'Cross-cutting/Server Capabilities': REQ-13\n",
      "INFO:llm_utils:Generating test specification for REQ-13 using claude...\n",
      "INFO:llm_utils:Processing requirement for group 'FHIR RESTful Capabilities': REQ-11\n",
      "INFO:llm_utils:Generating test specification for REQ-11 using claude...\n",
      "INFO:llm_utils:Processing requirement for group 'FHIR RESTful Capabilities': REQ-16\n",
      "INFO:llm_utils:Generating test specification for REQ-16 using claude...\n",
      "INFO:llm_utils:Processing requirement for group 'General Application Requirements': REQ-06\n",
      "INFO:llm_utils:Generating test specification for REQ-06 using claude...\n",
      "INFO:llm_utils:Processing requirement for group 'General/Cross-Resource Requirements': REQ-09\n",
      "INFO:llm_utils:Generating test specification for REQ-09 using claude...\n",
      "INFO:llm_utils:Processing requirement for group 'General/Cross-cutting': REQ-14\n",
      "INFO:llm_utils:Generating test specification for REQ-14 using claude...\n",
      "INFO:llm_utils:Processing requirement for group 'General/Infrastructure': REQ-17\n",
      "INFO:llm_utils:Generating test specification for REQ-17 using claude...\n",
      "INFO:llm_utils:Processing requirement for group 'Plan-Net HealthcareService': REQ-19\n",
      "INFO:llm_utils:Generating test specification for REQ-19 using claude...\n",
      "INFO:llm_utils:Processing requirement for group 'Server Capability': REQ-10\n",
      "INFO:llm_utils:Generating test specification for REQ-10 using claude...\n",
      "INFO:llm_utils:Processing requirement for group 'This requirement applies to all resource profiles as it is a general API behavior requirement for handling missing Must Support data elements across all Plan-Net resources.': REQ-04\n",
      "INFO:llm_utils:Generating test specification for REQ-04 using claude...\n",
      "INFO:llm_utils:Processing requirement for group 'This requirement does not belong to any of the specific resource profiles listed. It is a general server capability requirement that applies across all resources and operations in the Plan-Net implementation guide.': REQ-12\n",
      "INFO:llm_utils:Generating test specification for REQ-12 using claude...\n",
      "INFO:llm_utils:Processing requirement for group 'This requirement does not fit into any of the specific FHIR resource profile categories listed. It is a cross-cutting technical and privacy requirement that applies to the overall Plan-Net service implementation rather than to a specific resource profile.': REQ-01\n",
      "INFO:llm_utils:Generating test specification for REQ-01 using claude...\n",
      "INFO:llm_utils:Processing requirement for group 'This requirement does not fit into any of the specific resource profile categories as it applies to search parameter support across all profiles in the implementation guide rather than being specific to any single resource type.': REQ-15\n",
      "INFO:llm_utils:Generating test specification for REQ-15 using claude...\n",
      "INFO:llm_utils:Processing requirement for group 'This requirement does not fit into any of the specific resource profile categories as it is a general security requirement that applies to all Plan-Net Server operations across all resource types.': REQ-18\n",
      "INFO:llm_utils:Generating test specification for REQ-18 using claude...\n",
      "INFO:llm_utils:Processing requirement for group 'This requirement does not fit into any of the specific resource profile categories listed. It is a general application capability requirement that applies across all resource types.': REQ-07\n",
      "INFO:llm_utils:Generating test specification for REQ-07 using claude...\n",
      "INFO:llm_utils:Processing requirement for group 'This requirement does not fit into any of the specific resource profile categories, as it addresses a general application behavior requirement that applies across all resource types when interpreting missing Must Support data elements.': REQ-08\n",
      "INFO:llm_utils:Generating test specification for REQ-08 using claude...\n",
      "INFO:llm_utils:Processing requirement for group 'This requirement does not fit into any of the specific resource profile categories, as it describes a general API capability that applies across all resource types rather than being specific to any single resource profile.': REQ-03\n",
      "INFO:llm_utils:Generating test specification for REQ-03 using claude...\n",
      "INFO:llm_utils:Processing requirement for group 'This requirement does not map to a specific resource profile. It is a cross-cutting privacy and security requirement that applies to the overall system behavior rather than to any particular FHIR resource type.': REQ-02\n",
      "INFO:llm_utils:Generating test specification for REQ-02 using claude...\n",
      "INFO:llm_utils:Processing requirement for group 'This requirement is cross-cutting and applies to all resource profiles, but since I must choose one category:': REQ-05\n",
      "INFO:llm_utils:Generating test specification for REQ-05 using claude...\n",
      "INFO:llm_utils:Consolidated test plan saved to checkpoints/testplan_generation/claude_test_plan_20250730_123104.md\n"
     ]
    },
    {
     "name": "stdout",
     "output_type": "stream",
     "text": [
      "Generated test plan with improved capability parsing: checkpoints/testplan_generation/claude_test_plan_20250730_123104.md\n"
     ]
    }
   ],
   "source": [
    "import req_to_testplan\n",
    "importlib.reload(req_to_testplan)\n",
    "\n",
    "result = req_to_testplan.generate_consolidated_test_plan(\n",
    "    llm_clients,\n",
    "    'claude',  # 'claude' or 'gemini' or 'gpt'\n",
    "    llm_clients.logger,\n",
    "    \"/Users/ceadams/Documents/onclaive/onclaive/pipeline/checkpoints/revised_reqs_extraction/claude_reqs_list_v2_20250730_122703.md\",\n",
    "    \"/Users/ceadams/Documents/onclaive/onclaive/full-ig/markdown7_cleaned/CapabilityStatement_plan_net.md\",\n",
    "    \"Plan-Net IG\",\n",
    "    output_dir='checkpoints/testplan_generation'\n",
    ")\n",
    "\n",
    "print(f\"Generated test plan with improved capability parsing: {result['test_plan_path']}\")"
   ]
  },
  {
   "cell_type": "markdown",
   "id": "f54f6a62",
   "metadata": {},
   "source": [
    "##### With RAG"
   ]
  },
  {
   "cell_type": "code",
   "execution_count": null,
   "id": "5cf1f5b1",
   "metadata": {},
   "outputs": [
    {
     "name": "stdout",
     "output_type": "stream",
     "text": [
      "Deleted existing collection: capability_statements\n"
     ]
    },
    {
     "name": "stderr",
     "output_type": "stream",
     "text": [
      "ERROR:backoff:Giving up send_request(...) after 4 tries (requests.exceptions.SSLError: HTTPSConnectionPool(host='us.i.posthog.com', port=443): Max retries exceeded with url: /batch/ (Caused by SSLError(SSLCertVerificationError(1, '[SSL: CERTIFICATE_VERIFY_FAILED] certificate verify failed: unable to get local issuer certificate (_ssl.c:1000)'))))\n"
     ]
    }
   ],
   "source": [
    "import warnings\n",
    "import urllib3\n",
    "urllib3.disable_warnings(urllib3.exceptions.InsecureRequestWarning)\n",
    "\n",
    "# Set logging level to reduce noise\n",
    "import logging\n",
    "logging.getLogger(\"urllib3.connectionpool\").setLevel(logging.ERROR)\n",
    "logging.getLogger(\"backoff\").setLevel(logging.ERROR)\n",
    "\n",
    "import req_to_testplan_rag\n",
    "importlib.reload(req_to_testplan_rag)\n",
    "\n",
    "#clearing any existing capability statements from vector database\n",
    "req_to_testplan_rag.clear_capability_collection(\"capability_statements\")"
   ]
  },
  {
   "cell_type": "code",
   "execution_count": null,
   "id": "a668d468",
   "metadata": {},
   "outputs": [
    {
     "name": "stderr",
     "output_type": "stream",
     "text": [
      "INFO:llm_utils:Starting test plan generation with claude for Plan-Net IG\n",
      "INFO:llm_utils:Parsed 19 requirements from /Users/ceadams/Documents/onclaive/onclaive/pipeline/checkpoints/revised_reqs_extraction/claude_reqs_list_v2_20250730_122703.md\n",
      "INFO:llm_utils:Initialized capability collection from ../full-ig/markdown7_cleaned/CapabilityStatement_plan_net.md\n",
      "INFO:llm_utils:Identifying group for requirement REQ-01 using claude...\n",
      "INFO:llm_utils:Identifying group for requirement REQ-02 using claude...\n",
      "ERROR:backoff:Giving up send_request(...) after 4 tries (requests.exceptions.SSLError: HTTPSConnectionPool(host='us.i.posthog.com', port=443): Max retries exceeded with url: /batch/ (Caused by SSLError(SSLCertVerificationError(1, '[SSL: CERTIFICATE_VERIFY_FAILED] certificate verify failed: unable to get local issuer certificate (_ssl.c:1000)'))))\n",
      "INFO:llm_utils:Identifying group for requirement REQ-03 using claude...\n",
      "INFO:llm_utils:Identifying group for requirement REQ-04 using claude...\n",
      "INFO:llm_utils:Identifying group for requirement REQ-05 using claude...\n",
      "ERROR:backoff:Giving up send_request(...) after 4 tries (requests.exceptions.SSLError: HTTPSConnectionPool(host='us.i.posthog.com', port=443): Max retries exceeded with url: /batch/ (Caused by SSLError(SSLCertVerificationError(1, '[SSL: CERTIFICATE_VERIFY_FAILED] certificate verify failed: unable to get local issuer certificate (_ssl.c:1000)'))))\n",
      "INFO:llm_utils:Identifying group for requirement REQ-06 using claude...\n",
      "INFO:llm_utils:Identifying group for requirement REQ-07 using claude...\n",
      "INFO:llm_utils:Identifying group for requirement REQ-08 using claude...\n",
      "INFO:llm_utils:Identifying group for requirement REQ-09 using claude...\n",
      "INFO:llm_utils:Identifying group for requirement REQ-10 using claude...\n",
      "INFO:llm_utils:Identifying group for requirement REQ-11 using claude...\n",
      "INFO:llm_utils:Identifying group for requirement REQ-12 using claude...\n",
      "INFO:llm_utils:Identifying group for requirement REQ-13 using claude...\n",
      "INFO:llm_utils:Identifying group for requirement REQ-14 using claude...\n",
      "INFO:llm_utils:Identifying group for requirement REQ-15 using claude...\n",
      "INFO:llm_utils:Identifying group for requirement REQ-16 using claude...\n",
      "INFO:llm_utils:Identifying group for requirement REQ-17 using claude...\n",
      "INFO:llm_utils:Identifying group for requirement REQ-18 using claude...\n",
      "INFO:llm_utils:Identifying group for requirement REQ-19 using claude...\n",
      "INFO:llm_utils:Requirements grouped into 4 categories\n",
      "INFO:llm_utils:Group 'Privacy': 2 requirements\n",
      "INFO:llm_utils:Group 'General/Cross-Resource': 15 requirements\n",
      "INFO:llm_utils:Group 'Security': 1 requirements\n",
      "INFO:llm_utils:Group 'Plan-Net HealthcareService': 1 requirements\n",
      "INFO:llm_utils:Processing requirement for group 'General/Cross-Resource': REQ-03\n",
      "INFO:llm_utils:Generating test specification for REQ-03 using claude...\n"
     ]
    },
    {
     "name": "stdout",
     "output_type": "stream",
     "text": [
      "\n",
      "Processing Group: General/Cross-Resource (15 requirements)\n",
      "\n",
      "Processing REQ-03: Health Plan API Must Support data population capability\n",
      "\n",
      "================================================================================\n",
      "RAG RETRIEVAL FOR REQ-03\n",
      "================================================================================\n",
      "Query: Health Plan API Must Support data population capability \"Health Plan API actors SHALL be capable of populating all Must Support data elements as part of the query results.\" Health Plan API FHIR SHALL\n",
      "Searching for 5 most relevant capability chunks...\n",
      "\n",
      "Found 5 matching chunks:\n",
      "\n",
      "  Match 1 (distance: 0.7221184968948364):\n",
      "  Length: 3036 chars\n",
      "  Preview: FHIR Resource Detail: #### HealthcareService\n",
      "\n",
      "Conformance Expectation: **SHALL**\n",
      "\n",
      "Supported Profiles...\n",
      "  ...lthcareService?_lastUpdated=[_lastUpdated]` |\n",
      "\n",
      "---\n",
      "\n",
      "  Match 2 (distance: 0.7407464981079102):\n",
      "  Length: 3288 chars\n",
      "  Preview: FHIR Resource/Component: ### RESTful Capabilities by Resource/Profile:\n",
      "\n",
      "**Summary of Search Criteria...\n",
      "  ...nerRole:network, PractitionerRole:endpoint |  |  |\n",
      "\n",
      "  Match 3 (distance: 0.8931890726089478):\n",
      "  Length: 3225 chars\n",
      "  Preview: FHIR Resource Detail: #### Organization\n",
      "\n",
      "Conformance Expectation: **SHALL**\n",
      "\n",
      "Supported Profiles:\n",
      "\n",
      " [...\n",
      "  ...Organization?coverage-area=[coverage-area]` |\n",
      "\n",
      "---\n",
      "\n",
      "  Match 4 (distance: 0.9035460352897644):\n",
      "  Length: 996 chars\n",
      "  Preview: FHIR Major Section: ## CapabilityStatement: Plan\\-Net CapabilityStatement\n",
      "\n",
      "| *Official URL*: http://...\n",
      "  ...openapi.json) \\| [Download](plan-net.openapi.json)\n",
      "\n",
      "  Match 5 (distance: 0.9197363257408142):\n",
      "  Length: 2302 chars\n",
      "  Preview: FHIR Resource Detail: #### InsurancePlan\n",
      "\n",
      "Conformance Expectation: **SHALL**\n",
      "\n",
      "Supported Profiles:\n",
      "\n",
      " ...\n",
      "  ... [base]/InsurancePlan?type=[system]|[code]` |\n",
      "\n",
      "---\n",
      "================================================================================\n",
      "\n",
      "Sending request to CLAUDE API...\n"
     ]
    },
    {
     "name": "stderr",
     "output_type": "stream",
     "text": [
      "ERROR:backoff:Giving up send_request(...) after 4 tries (requests.exceptions.SSLError: HTTPSConnectionPool(host='us.i.posthog.com', port=443): Max retries exceeded with url: /batch/ (Caused by SSLError(SSLCertVerificationError(1, '[SSL: CERTIFICATE_VERIFY_FAILED] certificate verify failed: unable to get local issuer certificate (_ssl.c:1000)'))))\n"
     ]
    },
    {
     "name": "stdout",
     "output_type": "stream",
     "text": [
      "Completed test specification for REQ-03\n"
     ]
    },
    {
     "name": "stderr",
     "output_type": "stream",
     "text": [
      "INFO:llm_utils:Processing requirement for group 'General/Cross-Resource': REQ-04\n",
      "INFO:llm_utils:Generating test specification for REQ-04 using claude...\n"
     ]
    },
    {
     "name": "stdout",
     "output_type": "stream",
     "text": [
      "\n",
      "Processing REQ-04: Health Plan API missing data element exclusion\n",
      "\n",
      "================================================================================\n",
      "RAG RETRIEVAL FOR REQ-04\n",
      "================================================================================\n",
      "Query: Health Plan API missing data element exclusion \"In situations where information on a particular Must Support data element is not present and the minimum cardinality is 0, the Health Plan API actors SHALL NOT include the data elements in the resource instance returned as part of the query results.\" Health Plan API FHIR SHALL NOT\n",
      "Searching for 5 most relevant capability chunks...\n",
      "\n",
      "Found 5 matching chunks:\n",
      "\n",
      "  Match 1 (distance: 0.8133128881454468):\n",
      "  Length: 3036 chars\n",
      "  Preview: FHIR Resource Detail: #### HealthcareService\n",
      "\n",
      "Conformance Expectation: **SHALL**\n",
      "\n",
      "Supported Profiles...\n",
      "  ...lthcareService?_lastUpdated=[_lastUpdated]` |\n",
      "\n",
      "---\n",
      "\n",
      "  Match 2 (distance: 0.8196702599525452):\n",
      "  Length: 3288 chars\n",
      "  Preview: FHIR Resource/Component: ### RESTful Capabilities by Resource/Profile:\n",
      "\n",
      "**Summary of Search Criteria...\n",
      "  ...nerRole:network, PractitionerRole:endpoint |  |  |\n",
      "\n",
      "  Match 3 (distance: 0.8978815078735352):\n",
      "  Length: 2302 chars\n",
      "  Preview: FHIR Resource Detail: #### InsurancePlan\n",
      "\n",
      "Conformance Expectation: **SHALL**\n",
      "\n",
      "Supported Profiles:\n",
      "\n",
      " ...\n",
      "  ... [base]/InsurancePlan?type=[system]|[code]` |\n",
      "\n",
      "---\n",
      "\n",
      "  Match 4 (distance: 0.911388099193573):\n",
      "  Length: 3225 chars\n",
      "  Preview: FHIR Resource Detail: #### Organization\n",
      "\n",
      "Conformance Expectation: **SHALL**\n",
      "\n",
      "Supported Profiles:\n",
      "\n",
      " [...\n",
      "  ...Organization?coverage-area=[coverage-area]` |\n",
      "\n",
      "---\n",
      "\n",
      "  Match 5 (distance: 0.9605564475059509):\n",
      "  Length: 2809 chars\n",
      "  Preview: FHIR Resource Detail: #### Location\n",
      "\n",
      "Conformance Expectation: **SHALL**\n",
      "\n",
      "Supported Profiles:\n",
      "\n",
      " [Plan...\n",
      "  ...base]/Location?_lastUpdated=[_lastUpdated]` |\n",
      "\n",
      "---\n",
      "================================================================================\n",
      "\n",
      "Sending request to CLAUDE API...\n",
      "Completed test specification for REQ-04\n"
     ]
    },
    {
     "name": "stderr",
     "output_type": "stream",
     "text": [
      "INFO:llm_utils:Processing requirement for group 'General/Cross-Resource': REQ-05\n",
      "INFO:llm_utils:Generating test specification for REQ-05 using claude...\n"
     ]
    },
    {
     "name": "stdout",
     "output_type": "stream",
     "text": [
      "\n",
      "Processing REQ-05: Health Plan API missing information reason requirement\n",
      "\n",
      "================================================================================\n",
      "RAG RETRIEVAL FOR REQ-05\n",
      "================================================================================\n",
      "Query: Health Plan API missing information reason requirement \"In situations where information on a particular data element is not present and the minimum cardinality is >0 SHALL send the reason for the missing information using values (such as nullFlavors) from the value set where they exist or use the dataAbsentReason extension.\" Health Plan API FHIR SHALL\n",
      "Searching for 5 most relevant capability chunks...\n",
      "\n",
      "Found 5 matching chunks:\n",
      "\n",
      "  Match 1 (distance: 0.9029258489608765):\n",
      "  Length: 3036 chars\n",
      "  Preview: FHIR Resource Detail: #### HealthcareService\n",
      "\n",
      "Conformance Expectation: **SHALL**\n",
      "\n",
      "Supported Profiles...\n",
      "  ...lthcareService?_lastUpdated=[_lastUpdated]` |\n",
      "\n",
      "---\n",
      "\n",
      "  Match 2 (distance: 0.9266811609268188):\n",
      "  Length: 3288 chars\n",
      "  Preview: FHIR Resource/Component: ### RESTful Capabilities by Resource/Profile:\n",
      "\n",
      "**Summary of Search Criteria...\n",
      "  ...nerRole:network, PractitionerRole:endpoint |  |  |\n",
      "\n",
      "  Match 3 (distance: 0.9644936323165894):\n",
      "  Length: 2302 chars\n",
      "  Preview: FHIR Resource Detail: #### InsurancePlan\n",
      "\n",
      "Conformance Expectation: **SHALL**\n",
      "\n",
      "Supported Profiles:\n",
      "\n",
      " ...\n",
      "  ... [base]/InsurancePlan?type=[system]|[code]` |\n",
      "\n",
      "---\n",
      "\n",
      "  Match 4 (distance: 1.0232651233673096):\n",
      "  Length: 3225 chars\n",
      "  Preview: FHIR Resource Detail: #### Organization\n",
      "\n",
      "Conformance Expectation: **SHALL**\n",
      "\n",
      "Supported Profiles:\n",
      "\n",
      " [...\n",
      "  ...Organization?coverage-area=[coverage-area]` |\n",
      "\n",
      "---\n",
      "\n",
      "  Match 5 (distance: 1.0742599964141846):\n",
      "  Length: 2809 chars\n",
      "  Preview: FHIR Resource Detail: #### Location\n",
      "\n",
      "Conformance Expectation: **SHALL**\n",
      "\n",
      "Supported Profiles:\n",
      "\n",
      " [Plan...\n",
      "  ...base]/Location?_lastUpdated=[_lastUpdated]` |\n",
      "\n",
      "---\n",
      "================================================================================\n",
      "\n",
      "Sending request to CLAUDE API...\n",
      "Completed test specification for REQ-05\n"
     ]
    },
    {
     "name": "stderr",
     "output_type": "stream",
     "text": [
      "INFO:llm_utils:Processing requirement for group 'General/Cross-Resource': REQ-06\n",
      "INFO:llm_utils:Generating test specification for REQ-06 using claude...\n"
     ]
    },
    {
     "name": "stdout",
     "output_type": "stream",
     "text": [
      "\n",
      "Processing REQ-06: Application Must Support data processing capability\n",
      "\n",
      "================================================================================\n",
      "RAG RETRIEVAL FOR REQ-06\n",
      "================================================================================\n",
      "Query: Application Must Support data processing capability \"Application actors SHALL be capable of processing resource instances containing the Must Support data elements without generating an error or causing the application to fail.\" Application FHIR SHALL\n",
      "Searching for 5 most relevant capability chunks...\n",
      "\n",
      "Found 5 matching chunks:\n",
      "\n",
      "  Match 1 (distance: 0.7878591418266296):\n",
      "  Length: 802 chars\n",
      "  Preview: FHIR Major Section: ## Plan\\-Net CapabilityStatement\n",
      "\n",
      "* Implementation Guide Version: 1\\.0\\.0\n",
      "* FHIR...\n",
      "  ...local use cases and other contextual requirements.\n",
      "\n",
      "  Match 2 (distance: 0.9288669228553772):\n",
      "  Length: 996 chars\n",
      "  Preview: FHIR Major Section: ## CapabilityStatement: Plan\\-Net CapabilityStatement\n",
      "\n",
      "| *Official URL*: http://...\n",
      "  ...openapi.json) \\| [Download](plan-net.openapi.json)\n",
      "\n",
      "  Match 3 (distance: 0.9662339687347412):\n",
      "  Length: 1169 chars\n",
      "  Preview: FHIR Resource/Component: ### FHIR RESTful Capabilities\n",
      "\n",
      "The Plan\\-Net Server **SHALL**:\n",
      "\n",
      "1. Support ...\n",
      "  ...eturning an `HTTP 401` unauthorized response code.\n",
      "\n",
      "  Match 4 (distance: 0.9697123169898987):\n",
      "  Length: 3225 chars\n",
      "  Preview: FHIR Resource Detail: #### Organization\n",
      "\n",
      "Conformance Expectation: **SHALL**\n",
      "\n",
      "Supported Profiles:\n",
      "\n",
      " [...\n",
      "  ...Organization?coverage-area=[coverage-area]` |\n",
      "\n",
      "---\n",
      "\n",
      "  Match 5 (distance: 0.9856300354003906):\n",
      "  Length: 2854 chars\n",
      "  Preview: FHIR Resource Detail: #### PractitionerRole\n",
      "\n",
      "Conformance Expectation: **SHALL**\n",
      "\n",
      "Supported Profiles:...\n",
      "  ...actitionerRole?_lastUpdated=[_lastUpdated]` |\n",
      "\n",
      "---\n",
      "================================================================================\n",
      "\n",
      "Sending request to CLAUDE API...\n",
      "Completed test specification for REQ-06\n"
     ]
    },
    {
     "name": "stderr",
     "output_type": "stream",
     "text": [
      "INFO:llm_utils:Processing requirement for group 'General/Cross-Resource': REQ-07\n",
      "INFO:llm_utils:Generating test specification for REQ-07 using claude...\n"
     ]
    },
    {
     "name": "stdout",
     "output_type": "stream",
     "text": [
      "\n",
      "Processing REQ-07: Application data display capability\n",
      "\n",
      "================================================================================\n",
      "RAG RETRIEVAL FOR REQ-07\n",
      "================================================================================\n",
      "Query: Application data display capability \"Application actors SHOULD be capable of displaying the data elements for human use or storing the information for other purposes.\" Application FHIR SHOULD\n",
      "Searching for 5 most relevant capability chunks...\n",
      "\n",
      "Found 5 matching chunks:\n",
      "\n",
      "  Match 1 (distance: 0.9109271764755249):\n",
      "  Length: 802 chars\n",
      "  Preview: FHIR Major Section: ## Plan\\-Net CapabilityStatement\n",
      "\n",
      "* Implementation Guide Version: 1\\.0\\.0\n",
      "* FHIR...\n",
      "  ...local use cases and other contextual requirements.\n",
      "\n",
      "  Match 2 (distance: 1.0563591718673706):\n",
      "  Length: 996 chars\n",
      "  Preview: FHIR Major Section: ## CapabilityStatement: Plan\\-Net CapabilityStatement\n",
      "\n",
      "| *Official URL*: http://...\n",
      "  ...openapi.json) \\| [Download](plan-net.openapi.json)\n",
      "\n",
      "  Match 3 (distance: 1.068983793258667):\n",
      "  Length: 603 chars\n",
      "  Preview: FHIR Document Title: # CapabilityStatement: Plan\\-Net CapabilityStatement\n",
      "\n",
      "* [**Table of Contents**]...\n",
      "  ...x-plan-net/history.html)\n",
      "\n",
      "* [Narrative Content](#)\n",
      "\n",
      "  Match 4 (distance: 1.0850831270217896):\n",
      "  Length: 2854 chars\n",
      "  Preview: FHIR Resource Detail: #### PractitionerRole\n",
      "\n",
      "Conformance Expectation: **SHALL**\n",
      "\n",
      "Supported Profiles:...\n",
      "  ...actitionerRole?_lastUpdated=[_lastUpdated]` |\n",
      "\n",
      "---\n",
      "\n",
      "  Match 5 (distance: 1.1521000862121582):\n",
      "  Length: 3225 chars\n",
      "  Preview: FHIR Resource Detail: #### Organization\n",
      "\n",
      "Conformance Expectation: **SHALL**\n",
      "\n",
      "Supported Profiles:\n",
      "\n",
      " [...\n",
      "  ...Organization?coverage-area=[coverage-area]` |\n",
      "\n",
      "---\n",
      "================================================================================\n",
      "\n",
      "Sending request to CLAUDE API...\n",
      "Completed test specification for REQ-07\n"
     ]
    },
    {
     "name": "stderr",
     "output_type": "stream",
     "text": [
      "INFO:llm_utils:Processing requirement for group 'General/Cross-Resource': REQ-08\n",
      "INFO:llm_utils:Generating test specification for REQ-08 using claude...\n"
     ]
    },
    {
     "name": "stdout",
     "output_type": "stream",
     "text": [
      "\n",
      "Processing REQ-08: Application missing data interpretation requirement\n",
      "\n",
      "================================================================================\n",
      "RAG RETRIEVAL FOR REQ-08\n",
      "================================================================================\n",
      "Query: Application missing data interpretation requirement \"When querying Health Plan API actors, Application actors SHALL interpret missing Must Support data elements within resource instances as data not present in the Health Plan API actors system.\" Application FHIR SHALL\n",
      "Searching for 5 most relevant capability chunks...\n",
      "\n",
      "Found 5 matching chunks:\n",
      "\n",
      "  Match 1 (distance: 0.7869606614112854):\n",
      "  Length: 3036 chars\n",
      "  Preview: FHIR Resource Detail: #### HealthcareService\n",
      "\n",
      "Conformance Expectation: **SHALL**\n",
      "\n",
      "Supported Profiles...\n",
      "  ...lthcareService?_lastUpdated=[_lastUpdated]` |\n",
      "\n",
      "---\n",
      "\n",
      "  Match 2 (distance: 0.8035112619400024):\n",
      "  Length: 3288 chars\n",
      "  Preview: FHIR Resource/Component: ### RESTful Capabilities by Resource/Profile:\n",
      "\n",
      "**Summary of Search Criteria...\n",
      "  ...nerRole:network, PractitionerRole:endpoint |  |  |\n",
      "\n",
      "  Match 3 (distance: 0.8775110244750977):\n",
      "  Length: 3225 chars\n",
      "  Preview: FHIR Resource Detail: #### Organization\n",
      "\n",
      "Conformance Expectation: **SHALL**\n",
      "\n",
      "Supported Profiles:\n",
      "\n",
      " [...\n",
      "  ...Organization?coverage-area=[coverage-area]` |\n",
      "\n",
      "---\n",
      "\n",
      "  Match 4 (distance: 0.9003857970237732):\n",
      "  Length: 2302 chars\n",
      "  Preview: FHIR Resource Detail: #### InsurancePlan\n",
      "\n",
      "Conformance Expectation: **SHALL**\n",
      "\n",
      "Supported Profiles:\n",
      "\n",
      " ...\n",
      "  ... [base]/InsurancePlan?type=[system]|[code]` |\n",
      "\n",
      "---\n",
      "\n",
      "  Match 5 (distance: 0.9378758668899536):\n",
      "  Length: 2809 chars\n",
      "  Preview: FHIR Resource Detail: #### Location\n",
      "\n",
      "Conformance Expectation: **SHALL**\n",
      "\n",
      "Supported Profiles:\n",
      "\n",
      " [Plan...\n",
      "  ...base]/Location?_lastUpdated=[_lastUpdated]` |\n",
      "\n",
      "---\n",
      "================================================================================\n",
      "\n",
      "Sending request to CLAUDE API...\n",
      "Completed test specification for REQ-08\n"
     ]
    },
    {
     "name": "stderr",
     "output_type": "stream",
     "text": [
      "INFO:llm_utils:Processing requirement for group 'General/Cross-Resource': REQ-09\n",
      "INFO:llm_utils:Generating test specification for REQ-09 using claude...\n"
     ]
    },
    {
     "name": "stdout",
     "output_type": "stream",
     "text": [
      "\n",
      "Processing REQ-09: Consumer App missing information processing capability\n",
      "\n",
      "================================================================================\n",
      "RAG RETRIEVAL FOR REQ-09\n",
      "================================================================================\n",
      "Query: Consumer App missing information processing capability \"Consumer App actors SHALL be able to process resource instances containing Must Support data elements asserting missing information.\" Consumer App FHIR SHALL\n",
      "Searching for 5 most relevant capability chunks...\n",
      "\n",
      "Found 5 matching chunks:\n",
      "\n",
      "  Match 1 (distance: 0.9663683176040649):\n",
      "  Length: 802 chars\n",
      "  Preview: FHIR Major Section: ## Plan\\-Net CapabilityStatement\n",
      "\n",
      "* Implementation Guide Version: 1\\.0\\.0\n",
      "* FHIR...\n",
      "  ...local use cases and other contextual requirements.\n",
      "\n",
      "  Match 2 (distance: 0.9810687303543091):\n",
      "  Length: 996 chars\n",
      "  Preview: FHIR Major Section: ## CapabilityStatement: Plan\\-Net CapabilityStatement\n",
      "\n",
      "| *Official URL*: http://...\n",
      "  ...openapi.json) \\| [Download](plan-net.openapi.json)\n",
      "\n",
      "  Match 3 (distance: 1.033816933631897):\n",
      "  Length: 2854 chars\n",
      "  Preview: FHIR Resource Detail: #### PractitionerRole\n",
      "\n",
      "Conformance Expectation: **SHALL**\n",
      "\n",
      "Supported Profiles:...\n",
      "  ...actitionerRole?_lastUpdated=[_lastUpdated]` |\n",
      "\n",
      "---\n",
      "\n",
      "  Match 4 (distance: 1.0360426902770996):\n",
      "  Length: 3225 chars\n",
      "  Preview: FHIR Resource Detail: #### Organization\n",
      "\n",
      "Conformance Expectation: **SHALL**\n",
      "\n",
      "Supported Profiles:\n",
      "\n",
      " [...\n",
      "  ...Organization?coverage-area=[coverage-area]` |\n",
      "\n",
      "---\n",
      "\n",
      "  Match 5 (distance: 1.0530052185058594):\n",
      "  Length: 3288 chars\n",
      "  Preview: FHIR Resource/Component: ### RESTful Capabilities by Resource/Profile:\n",
      "\n",
      "**Summary of Search Criteria...\n",
      "  ...nerRole:network, PractitionerRole:endpoint |  |  |\n",
      "================================================================================\n",
      "\n",
      "Sending request to CLAUDE API...\n",
      "Completed test specification for REQ-09\n"
     ]
    },
    {
     "name": "stderr",
     "output_type": "stream",
     "text": [
      "INFO:llm_utils:Processing requirement for group 'General/Cross-Resource': REQ-10\n",
      "INFO:llm_utils:Generating test specification for REQ-10 using claude...\n"
     ]
    },
    {
     "name": "stdout",
     "output_type": "stream",
     "text": [
      "\n",
      "Processing REQ-10: Plan-Net Server profile support\n",
      "\n",
      "================================================================================\n",
      "RAG RETRIEVAL FOR REQ-10\n",
      "================================================================================\n",
      "Query: Plan-Net Server profile support \"The Plan-Net Server SHALL: Support all profiles defined in this Implementation Guide.\" Plan-Net Server FHIR SHALL\n",
      "Searching for 5 most relevant capability chunks...\n",
      "\n",
      "Found 5 matching chunks:\n",
      "\n",
      "  Match 1 (distance: 0.7196947932243347):\n",
      "  Length: 802 chars\n",
      "  Preview: FHIR Major Section: ## Plan\\-Net CapabilityStatement\n",
      "\n",
      "* Implementation Guide Version: 1\\.0\\.0\n",
      "* FHIR...\n",
      "  ...local use cases and other contextual requirements.\n",
      "\n",
      "  Match 2 (distance: 0.7957321405410767):\n",
      "  Length: 996 chars\n",
      "  Preview: FHIR Major Section: ## CapabilityStatement: Plan\\-Net CapabilityStatement\n",
      "\n",
      "| *Official URL*: http://...\n",
      "  ...openapi.json) \\| [Download](plan-net.openapi.json)\n",
      "\n",
      "  Match 3 (distance: 0.8047237396240234):\n",
      "  Length: 3225 chars\n",
      "  Preview: FHIR Resource Detail: #### Organization\n",
      "\n",
      "Conformance Expectation: **SHALL**\n",
      "\n",
      "Supported Profiles:\n",
      "\n",
      " [...\n",
      "  ...Organization?coverage-area=[coverage-area]` |\n",
      "\n",
      "---\n",
      "\n",
      "  Match 4 (distance: 0.8337710499763489):\n",
      "  Length: 1169 chars\n",
      "  Preview: FHIR Resource/Component: ### FHIR RESTful Capabilities\n",
      "\n",
      "The Plan\\-Net Server **SHALL**:\n",
      "\n",
      "1. Support ...\n",
      "  ...eturning an `HTTP 401` unauthorized response code.\n",
      "\n",
      "  Match 5 (distance: 0.8872054815292358):\n",
      "  Length: 3291 chars\n",
      "  Preview: FHIR Resource Detail: #### OrganizationAffiliation\n",
      "\n",
      "Conformance Expectation: **SHALL**\n",
      "\n",
      "Supported Pr...\n",
      "  ...ionAffiliation?_lastUpdated=[_lastUpdated]` |\n",
      "\n",
      "---\n",
      "================================================================================\n",
      "\n",
      "Sending request to CLAUDE API...\n",
      "Completed test specification for REQ-10\n"
     ]
    },
    {
     "name": "stderr",
     "output_type": "stream",
     "text": [
      "INFO:llm_utils:Processing requirement for group 'General/Cross-Resource': REQ-11\n",
      "INFO:llm_utils:Generating test specification for REQ-11 using claude...\n"
     ]
    },
    {
     "name": "stdout",
     "output_type": "stream",
     "text": [
      "\n",
      "Processing REQ-11: Plan-Net Server RESTful behavior implementation\n",
      "\n",
      "================================================================================\n",
      "RAG RETRIEVAL FOR REQ-11\n",
      "================================================================================\n",
      "Query: Plan-Net Server RESTful behavior implementation \"The Plan-Net Server SHALL: Implement the RESTful behavior according to the FHIR specification.\" Plan-Net Server FHIR SHALL\n",
      "Searching for 5 most relevant capability chunks...\n",
      "\n",
      "Found 5 matching chunks:\n",
      "\n",
      "  Match 1 (distance: 0.402856707572937):\n",
      "  Length: 1169 chars\n",
      "  Preview: FHIR Resource/Component: ### FHIR RESTful Capabilities\n",
      "\n",
      "The Plan\\-Net Server **SHALL**:\n",
      "\n",
      "1. Support ...\n",
      "  ...eturning an `HTTP 401` unauthorized response code.\n",
      "\n",
      "  Match 2 (distance: 0.5020473003387451):\n",
      "  Length: 802 chars\n",
      "  Preview: FHIR Major Section: ## Plan\\-Net CapabilityStatement\n",
      "\n",
      "* Implementation Guide Version: 1\\.0\\.0\n",
      "* FHIR...\n",
      "  ...local use cases and other contextual requirements.\n",
      "\n",
      "  Match 3 (distance: 0.5936377048492432):\n",
      "  Length: 996 chars\n",
      "  Preview: FHIR Major Section: ## CapabilityStatement: Plan\\-Net CapabilityStatement\n",
      "\n",
      "| *Official URL*: http://...\n",
      "  ...openapi.json) \\| [Download](plan-net.openapi.json)\n",
      "\n",
      "  Match 4 (distance: 0.634201169013977):\n",
      "  Length: 3288 chars\n",
      "  Preview: FHIR Resource/Component: ### RESTful Capabilities by Resource/Profile:\n",
      "\n",
      "**Summary of Search Criteria...\n",
      "  ...nerRole:network, PractitionerRole:endpoint |  |  |\n",
      "\n",
      "  Match 5 (distance: 0.7178943753242493):\n",
      "  Length: 1184 chars\n",
      "  Preview: FHIR Resource Detail: #### Endpoint\n",
      "\n",
      "Conformance Expectation: **SHALL**\n",
      "\n",
      "Supported Profiles:\n",
      "\n",
      " [Plan...\n",
      "  ...base]/Endpoint?_lastUpdated=[_lastUpdated]` |\n",
      "\n",
      "---\n",
      "================================================================================\n",
      "\n",
      "Sending request to CLAUDE API...\n",
      "Completed test specification for REQ-11\n"
     ]
    },
    {
     "name": "stderr",
     "output_type": "stream",
     "text": [
      "INFO:llm_utils:Processing requirement for group 'General/Cross-Resource': REQ-12\n",
      "INFO:llm_utils:Generating test specification for REQ-12 using claude...\n"
     ]
    },
    {
     "name": "stdout",
     "output_type": "stream",
     "text": [
      "\n",
      "Processing REQ-12: Plan-Net Server response classes\n",
      "\n",
      "================================================================================\n",
      "RAG RETRIEVAL FOR REQ-12\n",
      "================================================================================\n",
      "Query: Plan-Net Server response classes \"The Plan-Net Server SHALL: Return the following response classes: (Status 400): invalid parameter; (Status 401/4xx): unauthorized request; (Status 403): insufficient scope; (Status 404): unknown resource; (Status 410): deleted resource.\" Plan-Net Server FHIR SHALL\n",
      "Searching for 5 most relevant capability chunks...\n",
      "\n",
      "Found 5 matching chunks:\n",
      "\n",
      "  Match 1 (distance: 0.5708727240562439):\n",
      "  Length: 1169 chars\n",
      "  Preview: FHIR Resource/Component: ### FHIR RESTful Capabilities\n",
      "\n",
      "The Plan\\-Net Server **SHALL**:\n",
      "\n",
      "1. Support ...\n",
      "  ...eturning an `HTTP 401` unauthorized response code.\n",
      "\n",
      "  Match 2 (distance: 0.764784574508667):\n",
      "  Length: 996 chars\n",
      "  Preview: FHIR Major Section: ## CapabilityStatement: Plan\\-Net CapabilityStatement\n",
      "\n",
      "| *Official URL*: http://...\n",
      "  ...openapi.json) \\| [Download](plan-net.openapi.json)\n",
      "\n",
      "  Match 3 (distance: 0.7849286794662476):\n",
      "  Length: 802 chars\n",
      "  Preview: FHIR Major Section: ## Plan\\-Net CapabilityStatement\n",
      "\n",
      "* Implementation Guide Version: 1\\.0\\.0\n",
      "* FHIR...\n",
      "  ...local use cases and other contextual requirements.\n",
      "\n",
      "  Match 4 (distance: 0.8623014688491821):\n",
      "  Length: 3291 chars\n",
      "  Preview: FHIR Resource Detail: #### OrganizationAffiliation\n",
      "\n",
      "Conformance Expectation: **SHALL**\n",
      "\n",
      "Supported Pr...\n",
      "  ...ionAffiliation?_lastUpdated=[_lastUpdated]` |\n",
      "\n",
      "---\n",
      "\n",
      "  Match 5 (distance: 0.8780801296234131):\n",
      "  Length: 3288 chars\n",
      "  Preview: FHIR Resource/Component: ### RESTful Capabilities by Resource/Profile:\n",
      "\n",
      "**Summary of Search Criteria...\n",
      "  ...nerRole:network, PractitionerRole:endpoint |  |  |\n",
      "================================================================================\n",
      "\n",
      "Sending request to CLAUDE API...\n",
      "Completed test specification for REQ-12\n"
     ]
    },
    {
     "name": "stderr",
     "output_type": "stream",
     "text": [
      "INFO:llm_utils:Processing requirement for group 'General/Cross-Resource': REQ-13\n",
      "INFO:llm_utils:Generating test specification for REQ-13 using claude...\n"
     ]
    },
    {
     "name": "stdout",
     "output_type": "stream",
     "text": [
      "\n",
      "Processing REQ-13: Plan-Net Server JSON format support\n",
      "\n",
      "================================================================================\n",
      "RAG RETRIEVAL FOR REQ-13\n",
      "================================================================================\n",
      "Query: Plan-Net Server JSON format support \"The Plan-Net Server SHALL: Support json source formats for all Plan-Net interactions.\" Plan-Net Server FHIR SHALL\n",
      "Searching for 5 most relevant capability chunks...\n",
      "\n",
      "Found 5 matching chunks:\n",
      "\n",
      "  Match 1 (distance: 0.807853102684021):\n",
      "  Length: 996 chars\n",
      "  Preview: FHIR Major Section: ## CapabilityStatement: Plan\\-Net CapabilityStatement\n",
      "\n",
      "| *Official URL*: http://...\n",
      "  ...openapi.json) \\| [Download](plan-net.openapi.json)\n",
      "\n",
      "  Match 2 (distance: 0.8553909063339233):\n",
      "  Length: 1169 chars\n",
      "  Preview: FHIR Resource/Component: ### FHIR RESTful Capabilities\n",
      "\n",
      "The Plan\\-Net Server **SHALL**:\n",
      "\n",
      "1. Support ...\n",
      "  ...eturning an `HTTP 401` unauthorized response code.\n",
      "\n",
      "  Match 3 (distance: 0.8710610866546631):\n",
      "  Length: 802 chars\n",
      "  Preview: FHIR Major Section: ## Plan\\-Net CapabilityStatement\n",
      "\n",
      "* Implementation Guide Version: 1\\.0\\.0\n",
      "* FHIR...\n",
      "  ...local use cases and other contextual requirements.\n",
      "\n",
      "  Match 4 (distance: 0.9815592765808105):\n",
      "  Length: 3288 chars\n",
      "  Preview: FHIR Resource/Component: ### RESTful Capabilities by Resource/Profile:\n",
      "\n",
      "**Summary of Search Criteria...\n",
      "  ...nerRole:network, PractitionerRole:endpoint |  |  |\n",
      "\n",
      "  Match 5 (distance: 1.0066852569580078):\n",
      "  Length: 3225 chars\n",
      "  Preview: FHIR Resource Detail: #### Organization\n",
      "\n",
      "Conformance Expectation: **SHALL**\n",
      "\n",
      "Supported Profiles:\n",
      "\n",
      " [...\n",
      "  ...Organization?coverage-area=[coverage-area]` |\n",
      "\n",
      "---\n",
      "================================================================================\n",
      "\n",
      "Sending request to CLAUDE API...\n",
      "Completed test specification for REQ-13\n"
     ]
    },
    {
     "name": "stderr",
     "output_type": "stream",
     "text": [
      "INFO:llm_utils:Processing requirement for group 'General/Cross-Resource': REQ-14\n",
      "INFO:llm_utils:Generating test specification for REQ-14 using claude...\n"
     ]
    },
    {
     "name": "stdout",
     "output_type": "stream",
     "text": [
      "\n",
      "Processing REQ-14: Plan-Net Server profile identification\n",
      "\n",
      "================================================================================\n",
      "RAG RETRIEVAL FOR REQ-14\n",
      "================================================================================\n",
      "Query: Plan-Net Server profile identification \"The Plan-Net Server SHALL: Identify the Plan-Net profiles supported as part of the FHIR `meta.profile` attribute for each instance.\" Plan-Net Server FHIR SHALL\n",
      "Searching for 5 most relevant capability chunks...\n",
      "\n",
      "Found 5 matching chunks:\n",
      "\n",
      "  Match 1 (distance: 0.7986505031585693):\n",
      "  Length: 802 chars\n",
      "  Preview: FHIR Major Section: ## Plan\\-Net CapabilityStatement\n",
      "\n",
      "* Implementation Guide Version: 1\\.0\\.0\n",
      "* FHIR...\n",
      "  ...local use cases and other contextual requirements.\n",
      "\n",
      "  Match 2 (distance: 0.8021136522293091):\n",
      "  Length: 1169 chars\n",
      "  Preview: FHIR Resource/Component: ### FHIR RESTful Capabilities\n",
      "\n",
      "The Plan\\-Net Server **SHALL**:\n",
      "\n",
      "1. Support ...\n",
      "  ...eturning an `HTTP 401` unauthorized response code.\n",
      "\n",
      "  Match 3 (distance: 0.8742940425872803):\n",
      "  Length: 3225 chars\n",
      "  Preview: FHIR Resource Detail: #### Organization\n",
      "\n",
      "Conformance Expectation: **SHALL**\n",
      "\n",
      "Supported Profiles:\n",
      "\n",
      " [...\n",
      "  ...Organization?coverage-area=[coverage-area]` |\n",
      "\n",
      "---\n",
      "\n",
      "  Match 4 (distance: 0.8986352682113647):\n",
      "  Length: 996 chars\n",
      "  Preview: FHIR Major Section: ## CapabilityStatement: Plan\\-Net CapabilityStatement\n",
      "\n",
      "| *Official URL*: http://...\n",
      "  ...openapi.json) \\| [Download](plan-net.openapi.json)\n",
      "\n",
      "  Match 5 (distance: 0.9319689869880676):\n",
      "  Length: 3291 chars\n",
      "  Preview: FHIR Resource Detail: #### OrganizationAffiliation\n",
      "\n",
      "Conformance Expectation: **SHALL**\n",
      "\n",
      "Supported Pr...\n",
      "  ...ionAffiliation?_lastUpdated=[_lastUpdated]` |\n",
      "\n",
      "---\n",
      "================================================================================\n",
      "\n",
      "Sending request to CLAUDE API...\n",
      "Completed test specification for REQ-14\n"
     ]
    },
    {
     "name": "stderr",
     "output_type": "stream",
     "text": [
      "INFO:llm_utils:Processing requirement for group 'General/Cross-Resource': REQ-15\n",
      "INFO:llm_utils:Generating test specification for REQ-15 using claude...\n"
     ]
    },
    {
     "name": "stdout",
     "output_type": "stream",
     "text": [
      "\n",
      "Processing REQ-15: Plan-Net Server search parameter support\n",
      "\n",
      "================================================================================\n",
      "RAG RETRIEVAL FOR REQ-15\n",
      "================================================================================\n",
      "Query: Plan-Net Server search parameter support \"The Plan-Net Server SHALL: Support the searchParameters on each profile individually and in combination.\" Plan-Net Server FHIR SHALL\n",
      "Searching for 5 most relevant capability chunks...\n",
      "\n",
      "Found 5 matching chunks:\n",
      "\n",
      "  Match 1 (distance: 0.7607966661453247):\n",
      "  Length: 2302 chars\n",
      "  Preview: FHIR Resource Detail: #### InsurancePlan\n",
      "\n",
      "Conformance Expectation: **SHALL**\n",
      "\n",
      "Supported Profiles:\n",
      "\n",
      " ...\n",
      "  ... [base]/InsurancePlan?type=[system]|[code]` |\n",
      "\n",
      "---\n",
      "\n",
      "  Match 2 (distance: 0.7741947770118713):\n",
      "  Length: 1184 chars\n",
      "  Preview: FHIR Resource Detail: #### Endpoint\n",
      "\n",
      "Conformance Expectation: **SHALL**\n",
      "\n",
      "Supported Profiles:\n",
      "\n",
      " [Plan...\n",
      "  ...base]/Endpoint?_lastUpdated=[_lastUpdated]` |\n",
      "\n",
      "---\n",
      "\n",
      "  Match 3 (distance: 0.8080031871795654):\n",
      "  Length: 3225 chars\n",
      "  Preview: FHIR Resource Detail: #### Organization\n",
      "\n",
      "Conformance Expectation: **SHALL**\n",
      "\n",
      "Supported Profiles:\n",
      "\n",
      " [...\n",
      "  ...Organization?coverage-area=[coverage-area]` |\n",
      "\n",
      "---\n",
      "\n",
      "  Match 4 (distance: 0.815399169921875):\n",
      "  Length: 802 chars\n",
      "  Preview: FHIR Major Section: ## Plan\\-Net CapabilityStatement\n",
      "\n",
      "* Implementation Guide Version: 1\\.0\\.0\n",
      "* FHIR...\n",
      "  ...local use cases and other contextual requirements.\n",
      "\n",
      "  Match 5 (distance: 0.8378009796142578):\n",
      "  Length: 996 chars\n",
      "  Preview: FHIR Major Section: ## CapabilityStatement: Plan\\-Net CapabilityStatement\n",
      "\n",
      "| *Official URL*: http://...\n",
      "  ...openapi.json) \\| [Download](plan-net.openapi.json)\n",
      "================================================================================\n",
      "\n",
      "Sending request to CLAUDE API...\n",
      "Completed test specification for REQ-15\n"
     ]
    },
    {
     "name": "stderr",
     "output_type": "stream",
     "text": [
      "INFO:llm_utils:Processing requirement for group 'General/Cross-Resource': REQ-16\n",
      "INFO:llm_utils:Generating test specification for REQ-16 using claude...\n"
     ]
    },
    {
     "name": "stdout",
     "output_type": "stream",
     "text": [
      "\n",
      "Processing REQ-16: Plan-Net Server chaining support\n",
      "\n",
      "================================================================================\n",
      "RAG RETRIEVAL FOR REQ-16\n",
      "================================================================================\n",
      "Query: Plan-Net Server chaining support \"The Plan-Net Server SHALL: Support forward and reverse chaining on all search parameters that specify the 'chain' property\" Plan-Net Server FHIR SHALL\n",
      "Searching for 5 most relevant capability chunks...\n",
      "\n",
      "Found 5 matching chunks:\n",
      "\n",
      "  Match 1 (distance: 0.8550699353218079):\n",
      "  Length: 802 chars\n",
      "  Preview: FHIR Major Section: ## Plan\\-Net CapabilityStatement\n",
      "\n",
      "* Implementation Guide Version: 1\\.0\\.0\n",
      "* FHIR...\n",
      "  ...local use cases and other contextual requirements.\n",
      "\n",
      "  Match 2 (distance: 0.8909978866577148):\n",
      "  Length: 1169 chars\n",
      "  Preview: FHIR Resource/Component: ### FHIR RESTful Capabilities\n",
      "\n",
      "The Plan\\-Net Server **SHALL**:\n",
      "\n",
      "1. Support ...\n",
      "  ...eturning an `HTTP 401` unauthorized response code.\n",
      "\n",
      "  Match 3 (distance: 0.9448855519294739):\n",
      "  Length: 1184 chars\n",
      "  Preview: FHIR Resource Detail: #### Endpoint\n",
      "\n",
      "Conformance Expectation: **SHALL**\n",
      "\n",
      "Supported Profiles:\n",
      "\n",
      " [Plan...\n",
      "  ...base]/Endpoint?_lastUpdated=[_lastUpdated]` |\n",
      "\n",
      "---\n",
      "\n",
      "  Match 4 (distance: 0.9603161811828613):\n",
      "  Length: 996 chars\n",
      "  Preview: FHIR Major Section: ## CapabilityStatement: Plan\\-Net CapabilityStatement\n",
      "\n",
      "| *Official URL*: http://...\n",
      "  ...openapi.json) \\| [Download](plan-net.openapi.json)\n",
      "\n",
      "  Match 5 (distance: 0.9868970513343811):\n",
      "  Length: 3225 chars\n",
      "  Preview: FHIR Resource Detail: #### Organization\n",
      "\n",
      "Conformance Expectation: **SHALL**\n",
      "\n",
      "Supported Profiles:\n",
      "\n",
      " [...\n",
      "  ...Organization?coverage-area=[coverage-area]` |\n",
      "\n",
      "---\n",
      "================================================================================\n",
      "\n",
      "Sending request to CLAUDE API...\n",
      "Completed test specification for REQ-16\n"
     ]
    },
    {
     "name": "stderr",
     "output_type": "stream",
     "text": [
      "INFO:llm_utils:Processing requirement for group 'General/Cross-Resource': REQ-17\n",
      "INFO:llm_utils:Generating test specification for REQ-17 using claude...\n"
     ]
    },
    {
     "name": "stdout",
     "output_type": "stream",
     "text": [
      "\n",
      "Processing REQ-17: Plan-Net Server XML format support\n",
      "\n",
      "================================================================================\n",
      "RAG RETRIEVAL FOR REQ-17\n",
      "================================================================================\n",
      "Query: Plan-Net Server XML format support \"The Plan-Net Server SHOULD: Support xml source formats for all Plan-Net interactions.\" Plan-Net Server FHIR SHOULD\n",
      "Searching for 5 most relevant capability chunks...\n",
      "\n",
      "Found 5 matching chunks:\n",
      "\n",
      "  Match 1 (distance: 0.8277300000190735):\n",
      "  Length: 802 chars\n",
      "  Preview: FHIR Major Section: ## Plan\\-Net CapabilityStatement\n",
      "\n",
      "* Implementation Guide Version: 1\\.0\\.0\n",
      "* FHIR...\n",
      "  ...local use cases and other contextual requirements.\n",
      "\n",
      "  Match 2 (distance: 0.8620308041572571):\n",
      "  Length: 1169 chars\n",
      "  Preview: FHIR Resource/Component: ### FHIR RESTful Capabilities\n",
      "\n",
      "The Plan\\-Net Server **SHALL**:\n",
      "\n",
      "1. Support ...\n",
      "  ...eturning an `HTTP 401` unauthorized response code.\n",
      "\n",
      "  Match 3 (distance: 0.8647143840789795):\n",
      "  Length: 996 chars\n",
      "  Preview: FHIR Major Section: ## CapabilityStatement: Plan\\-Net CapabilityStatement\n",
      "\n",
      "| *Official URL*: http://...\n",
      "  ...openapi.json) \\| [Download](plan-net.openapi.json)\n",
      "\n",
      "  Match 4 (distance: 0.9676610827445984):\n",
      "  Length: 3225 chars\n",
      "  Preview: FHIR Resource Detail: #### Organization\n",
      "\n",
      "Conformance Expectation: **SHALL**\n",
      "\n",
      "Supported Profiles:\n",
      "\n",
      " [...\n",
      "  ...Organization?coverage-area=[coverage-area]` |\n",
      "\n",
      "---\n",
      "\n",
      "  Match 5 (distance: 1.0047434568405151):\n",
      "  Length: 3291 chars\n",
      "  Preview: FHIR Resource Detail: #### OrganizationAffiliation\n",
      "\n",
      "Conformance Expectation: **SHALL**\n",
      "\n",
      "Supported Pr...\n",
      "  ...ionAffiliation?_lastUpdated=[_lastUpdated]` |\n",
      "\n",
      "---\n",
      "================================================================================\n",
      "\n",
      "Sending request to CLAUDE API...\n"
     ]
    },
    {
     "name": "stderr",
     "output_type": "stream",
     "text": [
      "INFO:llm_utils:Processing requirement for group 'Plan-Net HealthcareService': REQ-19\n",
      "INFO:llm_utils:Generating test specification for REQ-19 using claude...\n"
     ]
    },
    {
     "name": "stdout",
     "output_type": "stream",
     "text": [
      "Completed test specification for REQ-17\n",
      "\n",
      "Processing Group: Plan-Net HealthcareService (1 requirements)\n",
      "\n",
      "Processing REQ-19: New patients characteristics constraint\n",
      "\n",
      "================================================================================\n",
      "RAG RETRIEVAL FOR REQ-19\n",
      "================================================================================\n",
      "Query: New patients characteristics constraint \"If no new patients are accepted, no characteristics are allowed: extension('acceptingPatients').valueCodeableConcept.coding.exists(code = 'no') implies extension('characteristics').empty()\" Implementation FHIR SHALL\n",
      "Searching for 5 most relevant capability chunks...\n",
      "\n",
      "Found 5 matching chunks:\n",
      "\n",
      "  Match 1 (distance: 1.1589241027832031):\n",
      "  Length: 3036 chars\n",
      "  Preview: FHIR Resource Detail: #### HealthcareService\n",
      "\n",
      "Conformance Expectation: **SHALL**\n",
      "\n",
      "Supported Profiles...\n",
      "  ...lthcareService?_lastUpdated=[_lastUpdated]` |\n",
      "\n",
      "---\n",
      "\n",
      "  Match 2 (distance: 1.2437915802001953):\n",
      "  Length: 3288 chars\n",
      "  Preview: FHIR Resource/Component: ### RESTful Capabilities by Resource/Profile:\n",
      "\n",
      "**Summary of Search Criteria...\n",
      "  ...nerRole:network, PractitionerRole:endpoint |  |  |\n",
      "\n",
      "  Match 3 (distance: 1.2784152030944824):\n",
      "  Length: 2302 chars\n",
      "  Preview: FHIR Resource Detail: #### InsurancePlan\n",
      "\n",
      "Conformance Expectation: **SHALL**\n",
      "\n",
      "Supported Profiles:\n",
      "\n",
      " ...\n",
      "  ... [base]/InsurancePlan?type=[system]|[code]` |\n",
      "\n",
      "---\n",
      "\n",
      "  Match 4 (distance: 1.3665509223937988):\n",
      "  Length: 1466 chars\n",
      "  Preview: FHIR Resource Detail: #### Practitioner\n",
      "\n",
      "Conformance Expectation: **SHALL**\n",
      "\n",
      "Supported Profiles:\n",
      "\n",
      " [...\n",
      "  ...g | `GET [base]/Practitioner?given=[given]` |\n",
      "\n",
      "---\n",
      "\n",
      "  Match 5 (distance: 1.3675825595855713):\n",
      "  Length: 3225 chars\n",
      "  Preview: FHIR Resource Detail: #### Organization\n",
      "\n",
      "Conformance Expectation: **SHALL**\n",
      "\n",
      "Supported Profiles:\n",
      "\n",
      " [...\n",
      "  ...Organization?coverage-area=[coverage-area]` |\n",
      "\n",
      "---\n",
      "================================================================================\n",
      "\n",
      "Sending request to CLAUDE API...\n"
     ]
    },
    {
     "name": "stderr",
     "output_type": "stream",
     "text": [
      "INFO:llm_utils:Processing requirement for group 'Privacy': REQ-01\n",
      "INFO:llm_utils:Generating test specification for REQ-01 using claude...\n"
     ]
    },
    {
     "name": "stdout",
     "output_type": "stream",
     "text": [
      "Completed test specification for REQ-19\n",
      "\n",
      "Processing Group: Privacy (2 requirements)\n",
      "\n",
      "Processing REQ-01: Plan-Net service consumer identification prohibition\n",
      "\n",
      "================================================================================\n",
      "RAG RETRIEVAL FOR REQ-01\n",
      "================================================================================\n",
      "Query: Plan-Net service consumer identification prohibition \"A conformant Plan-Net service SHALL NOT require a directory mobile application to send consumer identifying information in order to query content.\" Plan-Net Service FHIR SHALL NOT\n",
      "Searching for 5 most relevant capability chunks...\n",
      "\n",
      "Found 5 matching chunks:\n",
      "\n",
      "  Match 1 (distance: 0.7830391526222229):\n",
      "  Length: 802 chars\n",
      "  Preview: FHIR Major Section: ## Plan\\-Net CapabilityStatement\n",
      "\n",
      "* Implementation Guide Version: 1\\.0\\.0\n",
      "* FHIR...\n",
      "  ...local use cases and other contextual requirements.\n",
      "\n",
      "  Match 2 (distance: 0.880466103553772):\n",
      "  Length: 996 chars\n",
      "  Preview: FHIR Major Section: ## CapabilityStatement: Plan\\-Net CapabilityStatement\n",
      "\n",
      "| *Official URL*: http://...\n",
      "  ...openapi.json) \\| [Download](plan-net.openapi.json)\n",
      "\n",
      "  Match 3 (distance: 0.8974548578262329):\n",
      "  Length: 1169 chars\n",
      "  Preview: FHIR Resource/Component: ### FHIR RESTful Capabilities\n",
      "\n",
      "The Plan\\-Net Server **SHALL**:\n",
      "\n",
      "1. Support ...\n",
      "  ...eturning an `HTTP 401` unauthorized response code.\n",
      "\n",
      "  Match 4 (distance: 0.9710675477981567):\n",
      "  Length: 3225 chars\n",
      "  Preview: FHIR Resource Detail: #### Organization\n",
      "\n",
      "Conformance Expectation: **SHALL**\n",
      "\n",
      "Supported Profiles:\n",
      "\n",
      " [...\n",
      "  ...Organization?coverage-area=[coverage-area]` |\n",
      "\n",
      "---\n",
      "\n",
      "  Match 5 (distance: 1.005134105682373):\n",
      "  Length: 2809 chars\n",
      "  Preview: FHIR Resource Detail: #### Location\n",
      "\n",
      "Conformance Expectation: **SHALL**\n",
      "\n",
      "Supported Profiles:\n",
      "\n",
      " [Plan...\n",
      "  ...base]/Location?_lastUpdated=[_lastUpdated]` |\n",
      "\n",
      "---\n",
      "================================================================================\n",
      "\n",
      "Sending request to CLAUDE API...\n",
      "Completed test specification for REQ-01\n"
     ]
    },
    {
     "name": "stderr",
     "output_type": "stream",
     "text": [
      "INFO:llm_utils:Processing requirement for group 'Privacy': REQ-02\n",
      "INFO:llm_utils:Generating test specification for REQ-02 using claude...\n"
     ]
    },
    {
     "name": "stdout",
     "output_type": "stream",
     "text": [
      "\n",
      "Processing REQ-02: Directory mobile application consumer information restriction\n",
      "\n",
      "================================================================================\n",
      "RAG RETRIEVAL FOR REQ-02\n",
      "================================================================================\n",
      "Query: Directory mobile application consumer information restriction \"A directory mobile application SHALL NOT send consumer identifiable information when querying a Plan-Net service.\" Directory Mobile Application FHIR SHALL NOT\n",
      "Searching for 5 most relevant capability chunks...\n",
      "\n",
      "Found 5 matching chunks:\n",
      "\n",
      "  Match 1 (distance: 0.8629611730575562):\n",
      "  Length: 802 chars\n",
      "  Preview: FHIR Major Section: ## Plan\\-Net CapabilityStatement\n",
      "\n",
      "* Implementation Guide Version: 1\\.0\\.0\n",
      "* FHIR...\n",
      "  ...local use cases and other contextual requirements.\n",
      "\n",
      "  Match 2 (distance: 0.9713437557220459):\n",
      "  Length: 996 chars\n",
      "  Preview: FHIR Major Section: ## CapabilityStatement: Plan\\-Net CapabilityStatement\n",
      "\n",
      "| *Official URL*: http://...\n",
      "  ...openapi.json) \\| [Download](plan-net.openapi.json)\n",
      "\n",
      "  Match 3 (distance: 1.0642756223678589):\n",
      "  Length: 1169 chars\n",
      "  Preview: FHIR Resource/Component: ### FHIR RESTful Capabilities\n",
      "\n",
      "The Plan\\-Net Server **SHALL**:\n",
      "\n",
      "1. Support ...\n",
      "  ...eturning an `HTTP 401` unauthorized response code.\n",
      "\n",
      "  Match 4 (distance: 1.0800178050994873):\n",
      "  Length: 3225 chars\n",
      "  Preview: FHIR Resource Detail: #### Organization\n",
      "\n",
      "Conformance Expectation: **SHALL**\n",
      "\n",
      "Supported Profiles:\n",
      "\n",
      " [...\n",
      "  ...Organization?coverage-area=[coverage-area]` |\n",
      "\n",
      "---\n",
      "\n",
      "  Match 5 (distance: 1.096843957901001):\n",
      "  Length: 2854 chars\n",
      "  Preview: FHIR Resource Detail: #### PractitionerRole\n",
      "\n",
      "Conformance Expectation: **SHALL**\n",
      "\n",
      "Supported Profiles:...\n",
      "  ...actitionerRole?_lastUpdated=[_lastUpdated]` |\n",
      "\n",
      "---\n",
      "================================================================================\n",
      "\n",
      "Sending request to CLAUDE API...\n"
     ]
    },
    {
     "name": "stderr",
     "output_type": "stream",
     "text": [
      "INFO:llm_utils:Processing requirement for group 'Security': REQ-18\n",
      "INFO:llm_utils:Generating test specification for REQ-18 using claude...\n"
     ]
    },
    {
     "name": "stdout",
     "output_type": "stream",
     "text": [
      "Completed test specification for REQ-02\n",
      "\n",
      "Processing Group: Security (1 requirements)\n",
      "\n",
      "Processing REQ-18: Plan-Net Server unauthorized request rejection\n",
      "\n",
      "================================================================================\n",
      "RAG RETRIEVAL FOR REQ-18\n",
      "================================================================================\n",
      "Query: Plan-Net Server unauthorized request rejection \"A server SHALL reject any unauthorized requests by returning an `HTTP 401` unauthorized response code.\" Plan-Net Server FHIR SHALL\n",
      "Searching for 5 most relevant capability chunks...\n",
      "\n",
      "Found 5 matching chunks:\n",
      "\n",
      "  Match 1 (distance: 0.5878045558929443):\n",
      "  Length: 1169 chars\n",
      "  Preview: FHIR Resource/Component: ### FHIR RESTful Capabilities\n",
      "\n",
      "The Plan\\-Net Server **SHALL**:\n",
      "\n",
      "1. Support ...\n",
      "  ...eturning an `HTTP 401` unauthorized response code.\n",
      "\n",
      "  Match 2 (distance: 0.7881736159324646):\n",
      "  Length: 996 chars\n",
      "  Preview: FHIR Major Section: ## CapabilityStatement: Plan\\-Net CapabilityStatement\n",
      "\n",
      "| *Official URL*: http://...\n",
      "  ...openapi.json) \\| [Download](plan-net.openapi.json)\n",
      "\n",
      "  Match 3 (distance: 0.9208030700683594):\n",
      "  Length: 802 chars\n",
      "  Preview: FHIR Major Section: ## Plan\\-Net CapabilityStatement\n",
      "\n",
      "* Implementation Guide Version: 1\\.0\\.0\n",
      "* FHIR...\n",
      "  ...local use cases and other contextual requirements.\n",
      "\n",
      "  Match 4 (distance: 0.9359489679336548):\n",
      "  Length: 3291 chars\n",
      "  Preview: FHIR Resource Detail: #### OrganizationAffiliation\n",
      "\n",
      "Conformance Expectation: **SHALL**\n",
      "\n",
      "Supported Pr...\n",
      "  ...ionAffiliation?_lastUpdated=[_lastUpdated]` |\n",
      "\n",
      "---\n",
      "\n",
      "  Match 5 (distance: 0.9585806131362915):\n",
      "  Length: 2854 chars\n",
      "  Preview: FHIR Resource Detail: #### PractitionerRole\n",
      "\n",
      "Conformance Expectation: **SHALL**\n",
      "\n",
      "Supported Profiles:...\n",
      "  ...actitionerRole?_lastUpdated=[_lastUpdated]` |\n",
      "\n",
      "---\n",
      "================================================================================\n",
      "\n",
      "Sending request to CLAUDE API...\n"
     ]
    },
    {
     "name": "stderr",
     "output_type": "stream",
     "text": [
      "INFO:llm_utils:Consolidated test plan saved to checkpoints/testplan_generation/claude_test_plan_20250730_140520.md\n"
     ]
    },
    {
     "name": "stdout",
     "output_type": "stream",
     "text": [
      "Completed test specification for REQ-18\n"
     ]
    },
    {
     "data": {
      "text/plain": [
       "{'requirements_count': 19,\n",
       " 'group_count': 4,\n",
       " 'test_plan_path': 'checkpoints/testplan_generation/claude_test_plan_20250730_140520.md'}"
      ]
     },
     "execution_count": 18,
     "metadata": {},
     "output_type": "execute_result"
    }
   ],
   "source": [
    "req_to_testplan_rag.generate_consolidated_test_plan(\n",
    "    llm_clients, \n",
    "    'claude', \n",
    "    llm_clients.logger, \n",
    "    \"checkpoints/revised_reqs_extraction/claude_reqs_list_v2_20250730_122703.md\", \n",
    "    \"checkpoints/markdown2/CapabilityStatement-us-core-server.md\", \n",
    "    \"US Core IG\",\n",
    "    output_dir='checkpoints/testplan_generation',\n",
    "    verbose=True)"
   ]
  },
  {
   "cell_type": "markdown",
   "id": "d080ace6",
   "metadata": {},
   "source": [
    "## Test Kit Generation"
   ]
  },
  {
   "cell_type": "code",
   "execution_count": null,
   "id": "4ef90585",
   "metadata": {},
   "outputs": [
    {
     "name": "stderr",
     "output_type": "stream",
     "text": [
      "/Users/ceadams/Documents/onclaive/onclaive/pipeline/plan_to_tests.py:775: SyntaxWarning: invalid escape sequence '\\A'\n",
      "  \"\"\"\n",
      "INFO:plan_to_tests:Starting Inferno test generation with gpt for PlanNet\n",
      "INFO:plan_to_tests:Parsed test plan into 4 sections\n",
      "INFO:plan_to_tests:Found 19 total requirements\n",
      "INFO:plan_to_tests:Loaded Inferno DSL guidance\n",
      "INFO:plan_to_tests:Processing section: General/Cross-Resource with 15 requirements\n",
      "INFO:plan_to_tests:Generating tests for section: General/Cross-Resource\n",
      "INFO:plan_to_tests:Sending 122 tokens to gpt API (limit: 16000)\n",
      "INFO:plan_to_tests:Attempting to generate tests for entire section: General/Cross-Resource\n"
     ]
    },
    {
     "name": "stdout",
     "output_type": "stream",
     "text": [
      "Found 19 potential requirements\n",
      "Processing requirement: REQ-03\n",
      "Added requirement REQ-03 to section General/Cross-Resource\n",
      "Processing requirement: REQ-04\n",
      "Added requirement REQ-04 to section General/Cross-Resource\n",
      "Processing requirement: REQ-05\n",
      "Added requirement REQ-05 to section General/Cross-Resource\n",
      "Processing requirement: REQ-06\n",
      "Added requirement REQ-06 to section General/Cross-Resource\n",
      "Processing requirement: REQ-07\n",
      "Added requirement REQ-07 to section General/Cross-Resource\n",
      "Processing requirement: REQ-08\n",
      "Added requirement REQ-08 to section General/Cross-Resource\n",
      "Processing requirement: REQ-09\n",
      "Added requirement REQ-09 to section General/Cross-Resource\n",
      "Processing requirement: REQ-10\n",
      "Added requirement REQ-10 to section General/Cross-Resource\n",
      "Processing requirement: REQ-11\n",
      "Added requirement REQ-11 to section General/Cross-Resource\n",
      "Processing requirement: REQ-12\n",
      "Added requirement REQ-12 to section General/Cross-Resource\n",
      "Processing requirement: REQ-13\n",
      "Added requirement REQ-13 to section General/Cross-Resource\n",
      "Processing requirement: REQ-14\n",
      "Added requirement REQ-14 to section General/Cross-Resource\n",
      "Processing requirement: REQ-15\n",
      "Added requirement REQ-15 to section General/Cross-Resource\n",
      "Processing requirement: REQ-16\n",
      "Added requirement REQ-16 to section General/Cross-Resource\n",
      "Processing requirement: REQ-17\n",
      "Added requirement REQ-17 to section General/Cross-Resource\n",
      "Processing requirement: REQ-19\n",
      "Added requirement REQ-19 to section Plan-Net HealthcareService\n",
      "Processing requirement: REQ-01\n",
      "Added requirement REQ-01 to section Privacy\n",
      "Processing requirement: REQ-02\n",
      "Added requirement REQ-02 to section Privacy\n",
      "Processing requirement: REQ-18\n",
      "Added requirement REQ-18 to section Security\n"
     ]
    },
    {
     "name": "stderr",
     "output_type": "stream",
     "text": [
      "INFO:httpx:HTTP Request: POST https://api.openai.com/v1/chat/completions \"HTTP/1.1 200 OK\"\n",
      "WARNING:plan_to_tests:Generated tests for only 4 of 15 requirements in section: General/Cross-Resource\n",
      "INFO:plan_to_tests:Generating test for requirement: REQ-03\n",
      "INFO:plan_to_tests:Requirement REQ-03: Sending 1111 tokens to gpt API (limit: 16000)\n",
      "INFO:httpx:HTTP Request: POST https://api.openai.com/v1/chat/completions \"HTTP/1.1 200 OK\"\n",
      "INFO:plan_to_tests:Successfully generated test for requirement: REQ-03\n",
      "INFO:plan_to_tests:Generating test for requirement: REQ-04\n",
      "INFO:plan_to_tests:Requirement REQ-04: Sending 1135 tokens to gpt API (limit: 16000)\n",
      "INFO:httpx:HTTP Request: POST https://api.openai.com/v1/chat/completions \"HTTP/1.1 200 OK\"\n",
      "INFO:plan_to_tests:Successfully generated test for requirement: REQ-04\n",
      "INFO:plan_to_tests:Generating test for requirement: REQ-05\n",
      "INFO:plan_to_tests:Requirement REQ-05: Sending 1140 tokens to gpt API (limit: 16000)\n",
      "INFO:httpx:HTTP Request: POST https://api.openai.com/v1/chat/completions \"HTTP/1.1 200 OK\"\n",
      "INFO:plan_to_tests:Successfully generated test for requirement: REQ-05\n",
      "INFO:plan_to_tests:Generating test for requirement: REQ-06\n",
      "INFO:plan_to_tests:Requirement REQ-06: Sending 1111 tokens to gpt API (limit: 16000)\n",
      "INFO:httpx:HTTP Request: POST https://api.openai.com/v1/chat/completions \"HTTP/1.1 200 OK\"\n",
      "INFO:plan_to_tests:Successfully generated test for requirement: REQ-06\n",
      "INFO:plan_to_tests:Generating test for requirement: REQ-07\n",
      "INFO:plan_to_tests:Requirement REQ-07: Sending 1104 tokens to gpt API (limit: 16000)\n",
      "INFO:httpx:HTTP Request: POST https://api.openai.com/v1/chat/completions \"HTTP/1.1 200 OK\"\n",
      "INFO:plan_to_tests:Successfully generated test for requirement: REQ-07\n",
      "INFO:plan_to_tests:Generating test for requirement: REQ-08\n",
      "INFO:plan_to_tests:Requirement REQ-08: Sending 1115 tokens to gpt API (limit: 16000)\n",
      "INFO:httpx:HTTP Request: POST https://api.openai.com/v1/chat/completions \"HTTP/1.1 200 OK\"\n",
      "INFO:plan_to_tests:Successfully generated test for requirement: REQ-08\n",
      "INFO:plan_to_tests:Generating test for requirement: REQ-09\n",
      "INFO:plan_to_tests:Requirement REQ-09: Sending 1105 tokens to gpt API (limit: 16000)\n",
      "INFO:httpx:HTTP Request: POST https://api.openai.com/v1/chat/completions \"HTTP/1.1 200 OK\"\n",
      "INFO:plan_to_tests:Successfully generated test for requirement: REQ-09\n",
      "INFO:plan_to_tests:Generating test for requirement: REQ-10\n",
      "INFO:plan_to_tests:Requirement REQ-10: Sending 1104 tokens to gpt API (limit: 16000)\n",
      "INFO:httpx:HTTP Request: POST https://api.openai.com/v1/chat/completions \"HTTP/1.1 200 OK\"\n",
      "INFO:plan_to_tests:Successfully generated test for requirement: REQ-10\n",
      "INFO:plan_to_tests:Generating test for requirement: REQ-11\n",
      "INFO:plan_to_tests:Requirement REQ-11: Sending 1109 tokens to gpt API (limit: 16000)\n",
      "INFO:httpx:HTTP Request: POST https://api.openai.com/v1/chat/completions \"HTTP/1.1 200 OK\"\n",
      "INFO:plan_to_tests:Successfully generated test for requirement: REQ-11\n",
      "INFO:plan_to_tests:Generating test for requirement: REQ-12\n",
      "INFO:plan_to_tests:Requirement REQ-12: Sending 1144 tokens to gpt API (limit: 16000)\n",
      "INFO:httpx:HTTP Request: POST https://api.openai.com/v1/chat/completions \"HTTP/1.1 200 OK\"\n",
      "INFO:plan_to_tests:Successfully generated test for requirement: REQ-12\n",
      "INFO:plan_to_tests:Generating test for requirement: REQ-13\n",
      "INFO:plan_to_tests:Requirement REQ-13: Sending 1107 tokens to gpt API (limit: 16000)\n",
      "INFO:httpx:HTTP Request: POST https://api.openai.com/v1/chat/completions \"HTTP/1.1 200 OK\"\n",
      "INFO:plan_to_tests:Successfully generated test for requirement: REQ-13\n",
      "INFO:plan_to_tests:Generating test for requirement: REQ-14\n",
      "INFO:plan_to_tests:Requirement REQ-14: Sending 1117 tokens to gpt API (limit: 16000)\n",
      "INFO:httpx:HTTP Request: POST https://api.openai.com/v1/chat/completions \"HTTP/1.1 200 OK\"\n",
      "INFO:plan_to_tests:Successfully generated test for requirement: REQ-14\n",
      "INFO:plan_to_tests:Generating test for requirement: REQ-15\n",
      "INFO:plan_to_tests:Requirement REQ-15: Sending 1108 tokens to gpt API (limit: 16000)\n",
      "INFO:httpx:HTTP Request: POST https://api.openai.com/v1/chat/completions \"HTTP/1.1 200 OK\"\n",
      "INFO:plan_to_tests:Successfully generated test for requirement: REQ-15\n",
      "INFO:plan_to_tests:Generating test for requirement: REQ-16\n",
      "INFO:plan_to_tests:Requirement REQ-16: Sending 1112 tokens to gpt API (limit: 16000)\n",
      "INFO:httpx:HTTP Request: POST https://api.openai.com/v1/chat/completions \"HTTP/1.1 200 OK\"\n",
      "INFO:plan_to_tests:Successfully generated test for requirement: REQ-16\n",
      "INFO:plan_to_tests:Generating test for requirement: REQ-17\n",
      "INFO:plan_to_tests:Requirement REQ-17: Sending 1107 tokens to gpt API (limit: 16000)\n",
      "INFO:httpx:HTTP Request: POST https://api.openai.com/v1/chat/completions \"HTTP/1.1 200 OK\"\n",
      "INFO:plan_to_tests:Successfully generated test for requirement: REQ-17\n",
      "INFO:plan_to_tests:Validating test for requirement: REQ-03\n",
      "INFO:plan_to_tests:Validation for test: Sending 1137 tokens to gpt API\n",
      "INFO:httpx:HTTP Request: POST https://api.openai.com/v1/chat/completions \"HTTP/1.1 200 OK\"\n",
      "INFO:plan_to_tests:Successfully validated test for requirement: REQ-03\n",
      "INFO:plan_to_tests:Validating test for requirement: REQ-04\n",
      "INFO:plan_to_tests:Validation for test: Sending 1083 tokens to gpt API\n",
      "INFO:httpx:HTTP Request: POST https://api.openai.com/v1/chat/completions \"HTTP/1.1 200 OK\"\n",
      "INFO:plan_to_tests:Successfully validated test for requirement: REQ-04\n",
      "INFO:plan_to_tests:Validating test for requirement: REQ-05\n",
      "INFO:plan_to_tests:Validation for test: Sending 1270 tokens to gpt API\n",
      "INFO:httpx:HTTP Request: POST https://api.openai.com/v1/chat/completions \"HTTP/1.1 200 OK\"\n",
      "INFO:plan_to_tests:Successfully validated test for requirement: REQ-05\n",
      "INFO:plan_to_tests:Validating test for requirement: REQ-06\n",
      "INFO:plan_to_tests:Validation for test: Sending 1026 tokens to gpt API\n",
      "INFO:httpx:HTTP Request: POST https://api.openai.com/v1/chat/completions \"HTTP/1.1 200 OK\"\n",
      "INFO:plan_to_tests:Successfully validated test for requirement: REQ-06\n",
      "INFO:plan_to_tests:Validating test for requirement: REQ-07\n",
      "INFO:plan_to_tests:Validation for test: Sending 1119 tokens to gpt API\n",
      "INFO:httpx:HTTP Request: POST https://api.openai.com/v1/chat/completions \"HTTP/1.1 200 OK\"\n",
      "INFO:plan_to_tests:Successfully validated test for requirement: REQ-07\n",
      "INFO:plan_to_tests:Validating test for requirement: REQ-08\n",
      "INFO:plan_to_tests:Validation for test: Sending 1105 tokens to gpt API\n",
      "INFO:httpx:HTTP Request: POST https://api.openai.com/v1/chat/completions \"HTTP/1.1 200 OK\"\n",
      "INFO:plan_to_tests:Successfully validated test for requirement: REQ-08\n",
      "INFO:plan_to_tests:Validating test for requirement: REQ-09\n",
      "INFO:plan_to_tests:Validation for test: Sending 1157 tokens to gpt API\n",
      "INFO:httpx:HTTP Request: POST https://api.openai.com/v1/chat/completions \"HTTP/1.1 200 OK\"\n",
      "INFO:plan_to_tests:Successfully validated test for requirement: REQ-09\n",
      "INFO:plan_to_tests:Validating test for requirement: REQ-10\n",
      "INFO:plan_to_tests:Validation for test: Sending 1011 tokens to gpt API\n",
      "INFO:httpx:HTTP Request: POST https://api.openai.com/v1/chat/completions \"HTTP/1.1 200 OK\"\n",
      "INFO:plan_to_tests:Successfully validated test for requirement: REQ-10\n",
      "INFO:plan_to_tests:Validating test for requirement: REQ-11\n",
      "INFO:plan_to_tests:Validation for test: Sending 1106 tokens to gpt API\n",
      "INFO:httpx:HTTP Request: POST https://api.openai.com/v1/chat/completions \"HTTP/1.1 200 OK\"\n",
      "INFO:plan_to_tests:Successfully validated test for requirement: REQ-11\n",
      "INFO:plan_to_tests:Validating test for requirement: REQ-12\n",
      "INFO:plan_to_tests:Validation for test: Sending 1359 tokens to gpt API\n",
      "INFO:httpx:HTTP Request: POST https://api.openai.com/v1/chat/completions \"HTTP/1.1 200 OK\"\n",
      "INFO:plan_to_tests:Successfully validated test for requirement: REQ-12\n",
      "INFO:plan_to_tests:Validating test for requirement: REQ-13\n",
      "INFO:plan_to_tests:Validation for test: Sending 979 tokens to gpt API\n",
      "INFO:httpx:HTTP Request: POST https://api.openai.com/v1/chat/completions \"HTTP/1.1 200 OK\"\n",
      "INFO:plan_to_tests:Successfully validated test for requirement: REQ-13\n",
      "INFO:plan_to_tests:Validating test for requirement: REQ-14\n",
      "INFO:plan_to_tests:Validation for test: Sending 1083 tokens to gpt API\n",
      "INFO:httpx:HTTP Request: POST https://api.openai.com/v1/chat/completions \"HTTP/1.1 200 OK\"\n",
      "INFO:plan_to_tests:Successfully validated test for requirement: REQ-14\n",
      "INFO:plan_to_tests:Validating test for requirement: REQ-15\n",
      "INFO:plan_to_tests:Validation for test: Sending 1200 tokens to gpt API\n",
      "INFO:httpx:HTTP Request: POST https://api.openai.com/v1/chat/completions \"HTTP/1.1 200 OK\"\n",
      "INFO:plan_to_tests:Successfully validated test for requirement: REQ-15\n",
      "INFO:plan_to_tests:Validating test for requirement: REQ-16\n",
      "INFO:plan_to_tests:Validation for test: Sending 1176 tokens to gpt API\n",
      "INFO:httpx:HTTP Request: POST https://api.openai.com/v1/chat/completions \"HTTP/1.1 200 OK\"\n",
      "INFO:plan_to_tests:Successfully validated test for requirement: REQ-16\n",
      "INFO:plan_to_tests:Validating test for requirement: REQ-17\n",
      "INFO:plan_to_tests:Validation for test: Sending 1182 tokens to gpt API\n",
      "INFO:httpx:HTTP Request: POST https://api.openai.com/v1/chat/completions \"HTTP/1.1 200 OK\"\n",
      "INFO:plan_to_tests:Successfully validated test for requirement: REQ-17\n",
      "INFO:plan_to_tests:Processing section: Plan-Net HealthcareService with 1 requirements\n",
      "INFO:plan_to_tests:Generating tests for section: Plan-Net HealthcareService\n",
      "INFO:plan_to_tests:Generating test for requirement: REQ-19\n",
      "INFO:plan_to_tests:Requirement REQ-19: Sending 1122 tokens to gpt API (limit: 16000)\n",
      "INFO:httpx:HTTP Request: POST https://api.openai.com/v1/chat/completions \"HTTP/1.1 200 OK\"\n",
      "INFO:plan_to_tests:Successfully generated test for requirement: REQ-19\n",
      "INFO:plan_to_tests:Validating test for requirement: REQ-19\n",
      "INFO:plan_to_tests:Validation for test: Sending 1185 tokens to gpt API\n",
      "INFO:httpx:HTTP Request: POST https://api.openai.com/v1/chat/completions \"HTTP/1.1 200 OK\"\n",
      "INFO:plan_to_tests:Successfully validated test for requirement: REQ-19\n",
      "INFO:plan_to_tests:Processing section: Privacy with 2 requirements\n",
      "INFO:plan_to_tests:Generating tests for section: Privacy\n",
      "INFO:plan_to_tests:Sending 118 tokens to gpt API (limit: 16000)\n",
      "INFO:plan_to_tests:Attempting to generate tests for entire section: Privacy\n",
      "INFO:httpx:HTTP Request: POST https://api.openai.com/v1/chat/completions \"HTTP/1.1 200 OK\"\n",
      "WARNING:plan_to_tests:Generated tests for only 0 of 2 requirements in section: Privacy\n",
      "INFO:plan_to_tests:Generating test for requirement: REQ-01\n",
      "INFO:plan_to_tests:Requirement REQ-01: Sending 1115 tokens to gpt API (limit: 16000)\n",
      "INFO:httpx:HTTP Request: POST https://api.openai.com/v1/chat/completions \"HTTP/1.1 200 OK\"\n",
      "INFO:plan_to_tests:Successfully generated test for requirement: REQ-01\n",
      "INFO:plan_to_tests:Generating test for requirement: REQ-02\n",
      "INFO:plan_to_tests:Requirement REQ-02: Sending 1106 tokens to gpt API (limit: 16000)\n",
      "INFO:httpx:HTTP Request: POST https://api.openai.com/v1/chat/completions \"HTTP/1.1 200 OK\"\n",
      "INFO:plan_to_tests:Successfully generated test for requirement: REQ-02\n",
      "INFO:plan_to_tests:Validating test for requirement: REQ-01\n",
      "INFO:plan_to_tests:Validation for test: Sending 1028 tokens to gpt API\n",
      "INFO:httpx:HTTP Request: POST https://api.openai.com/v1/chat/completions \"HTTP/1.1 200 OK\"\n",
      "INFO:plan_to_tests:Successfully validated test for requirement: REQ-01\n",
      "INFO:plan_to_tests:Validating test for requirement: REQ-02\n",
      "INFO:plan_to_tests:Validation for test: Sending 1110 tokens to gpt API\n",
      "INFO:httpx:HTTP Request: POST https://api.openai.com/v1/chat/completions \"HTTP/1.1 200 OK\"\n",
      "INFO:plan_to_tests:Successfully validated test for requirement: REQ-02\n",
      "INFO:plan_to_tests:Processing section: Security with 1 requirements\n",
      "INFO:plan_to_tests:Generating tests for section: Security\n",
      "INFO:plan_to_tests:Generating test for requirement: REQ-18\n",
      "INFO:plan_to_tests:Requirement REQ-18: Sending 1108 tokens to gpt API (limit: 16000)\n",
      "INFO:httpx:HTTP Request: POST https://api.openai.com/v1/chat/completions \"HTTP/1.1 200 OK\"\n",
      "INFO:plan_to_tests:Successfully generated test for requirement: REQ-18\n",
      "INFO:plan_to_tests:Validating test for requirement: REQ-18\n",
      "INFO:plan_to_tests:Validation for test: Sending 1046 tokens to gpt API\n",
      "INFO:httpx:HTTP Request: POST https://api.openai.com/v1/chat/completions \"HTTP/1.1 200 OK\"\n",
      "INFO:plan_to_tests:Successfully validated test for requirement: REQ-18\n",
      "INFO:plan_to_tests:Generated tests for 19 requirements\n",
      "INFO:plan_to_tests:Wrote test for REQ-03 to checkpoints/testkit_generation/gpt_testkit_20250819_225027/plannet/general_cross_resource/req_03_test.rb\n",
      "INFO:plan_to_tests:Wrote test for REQ-04 to checkpoints/testkit_generation/gpt_testkit_20250819_225027/plannet/general_cross_resource/req_04_test.rb\n",
      "INFO:plan_to_tests:Wrote test for REQ-05 to checkpoints/testkit_generation/gpt_testkit_20250819_225027/plannet/general_cross_resource/req_05_test.rb\n",
      "INFO:plan_to_tests:Wrote test for REQ-06 to checkpoints/testkit_generation/gpt_testkit_20250819_225027/plannet/general_cross_resource/req_06_test.rb\n",
      "INFO:plan_to_tests:Wrote test for REQ-07 to checkpoints/testkit_generation/gpt_testkit_20250819_225027/plannet/general_cross_resource/req_07_test.rb\n",
      "INFO:plan_to_tests:Wrote test for REQ-08 to checkpoints/testkit_generation/gpt_testkit_20250819_225027/plannet/general_cross_resource/req_08_test.rb\n",
      "INFO:plan_to_tests:Wrote test for REQ-09 to checkpoints/testkit_generation/gpt_testkit_20250819_225027/plannet/general_cross_resource/req_09_test.rb\n",
      "INFO:plan_to_tests:Wrote test for REQ-10 to checkpoints/testkit_generation/gpt_testkit_20250819_225027/plannet/general_cross_resource/req_10_test.rb\n",
      "INFO:plan_to_tests:Wrote test for REQ-11 to checkpoints/testkit_generation/gpt_testkit_20250819_225027/plannet/general_cross_resource/req_11_test.rb\n",
      "INFO:plan_to_tests:Wrote test for REQ-12 to checkpoints/testkit_generation/gpt_testkit_20250819_225027/plannet/general_cross_resource/req_12_test.rb\n",
      "INFO:plan_to_tests:Wrote test for REQ-13 to checkpoints/testkit_generation/gpt_testkit_20250819_225027/plannet/general_cross_resource/req_13_test.rb\n",
      "INFO:plan_to_tests:Wrote test for REQ-14 to checkpoints/testkit_generation/gpt_testkit_20250819_225027/plannet/general_cross_resource/req_14_test.rb\n",
      "INFO:plan_to_tests:Wrote test for REQ-15 to checkpoints/testkit_generation/gpt_testkit_20250819_225027/plannet/general_cross_resource/req_15_test.rb\n",
      "INFO:plan_to_tests:Wrote test for REQ-16 to checkpoints/testkit_generation/gpt_testkit_20250819_225027/plannet/general_cross_resource/req_16_test.rb\n",
      "INFO:plan_to_tests:Wrote test for REQ-17 to checkpoints/testkit_generation/gpt_testkit_20250819_225027/plannet/general_cross_resource/req_17_test.rb\n",
      "INFO:plan_to_tests:Created section directory: general_cross_resource with 15 tests\n",
      "INFO:plan_to_tests:Wrote test for REQ-19 to checkpoints/testkit_generation/gpt_testkit_20250819_225027/plannet/plan_net_healthcareservice/req_19_test.rb\n",
      "INFO:plan_to_tests:Created section directory: plan_net_healthcareservice with 1 tests\n",
      "INFO:plan_to_tests:Wrote test for REQ-01 to checkpoints/testkit_generation/gpt_testkit_20250819_225027/plannet/privacy/req_01_test.rb\n",
      "INFO:plan_to_tests:Wrote test for REQ-02 to checkpoints/testkit_generation/gpt_testkit_20250819_225027/plannet/privacy/req_02_test.rb\n",
      "INFO:plan_to_tests:Created section directory: privacy with 2 tests\n",
      "INFO:plan_to_tests:Wrote test for REQ-18 to checkpoints/testkit_generation/gpt_testkit_20250819_225027/plannet/security/req_18_test.rb\n",
      "INFO:plan_to_tests:Created section directory: security with 1 tests\n",
      "INFO:plan_to_tests:Collecting test data for module file generation\n",
      "INFO:plan_to_tests:Created structure representation of test files\n",
      "INFO:plan_to_tests:Generating module file with LLM\n",
      "INFO:httpx:HTTP Request: POST https://api.openai.com/v1/chat/completions \"HTTP/1.1 200 OK\"\n",
      "INFO:plan_to_tests:Wrote module file to checkpoints/testkit_generation/gpt_testkit_20250819_225027/gpt_plannet_20250819_225027.rb\n",
      "INFO:plan_to_tests:Starting LLM-based alignment validation...\n",
      "INFO:plan_to_tests:Collecting alignment data for LLM analysis...\n",
      "INFO:plan_to_tests:Generating LLM alignment report...\n",
      "INFO:httpx:HTTP Request: POST https://api.openai.com/v1/chat/completions \"HTTP/1.1 200 OK\"\n",
      "INFO:plan_to_tests:Getting LLM alignment fixes...\n",
      "INFO:httpx:HTTP Request: POST https://api.openai.com/v1/chat/completions \"HTTP/1.1 200 OK\"\n",
      "INFO:plan_to_tests:LLM-corrected module file written successfully\n",
      "INFO:plan_to_tests:✅ LLM alignment validation completed successfully\n",
      "INFO:plan_to_tests:🔧 LLM applied fixes to module file\n",
      "INFO:plan_to_tests:=== LLM ALIGNMENT REPORT ===\n",
      "INFO:plan_to_tests:# Inferno Test Suite Alignment Report\n",
      "INFO:plan_to_tests:## 1. Missing Files\n",
      "INFO:plan_to_tests:These are files that are required by the `REQUIRE_RELATIVE STATEMENTS` but do not exist in the `ACTUAL TEST FILES`.\n",
      "INFO:plan_to_tests:- `plannet/general_cross_resource/req_18_test`\n",
      "INFO:plan_to_tests:- Note: All other required files are accounted for in the `ACTUAL TEST FILES`.\n",
      "INFO:plan_to_tests:## 2. Missing Group IDs\n",
      "INFO:plan_to_tests:These are group IDs that are referenced in the `GROUP FROM REFERENCES` but do not exist in the `ACTUAL GROUP IDs`.\n",
      "INFO:plan_to_tests:- `req_04_missing_data_element_exclusion`\n",
      "INFO:plan_to_tests:- `req_05_health_plan_api_missing_information_reason`\n",
      "INFO:plan_to_tests:- `req_06_must_support_data_processing`\n",
      "INFO:plan_to_tests:- `req_07_application_data_display_capability`\n",
      "INFO:plan_to_tests:- `req_08_missing_data_interpretation`\n",
      "INFO:plan_to_tests:- `req_09_consumer_app_missing_information`\n",
      "INFO:plan_to_tests:- `req_11_plan_net_server_restful_behavior`\n",
      "INFO:plan_to_tests:- `req_12_plan_net_server_response_classes`\n",
      "INFO:plan_to_tests:- `req_13_json_format_support`\n",
      "INFO:plan_to_tests:- `req_14_plannet_server_profile_identification`\n",
      "INFO:plan_to_tests:- `req_15_plan_net_server_search_parameter_support`\n",
      "INFO:plan_to_tests:- `req_16_plan_net_server_chaining_support`\n",
      "INFO:plan_to_tests:- `req_17_plan_net_xml_support`\n",
      "INFO:plan_to_tests:- `req_19_new_patients_characteristics_constraint`\n",
      "INFO:plan_to_tests:- `plan_net_service_consumer_identification_prohibition`\n",
      "INFO:plan_to_tests:- `req_02_directory_mobile_application_consumer_information_restriction`\n",
      "INFO:plan_to_tests:- `req_18_unauthorized_request_rejection`\n",
      "INFO:plan_to_tests:## 3. Orphaned Files\n",
      "INFO:plan_to_tests:These are files that exist in the `ACTUAL TEST FILES` but are not required by the `REQUIRE_RELATIVE STATEMENTS`.\n",
      "INFO:plan_to_tests:- None. All files in `ACTUAL TEST FILES` are required by `REQUIRE_RELATIVE STATEMENTS`.\n",
      "INFO:plan_to_tests:## 4. Orphaned Group IDs\n",
      "INFO:plan_to_tests:These are group IDs that exist in the `ACTUAL GROUP IDs` but are not referenced in the `GROUP FROM REFERENCES`.\n",
      "INFO:plan_to_tests:- `plannet_server_profile_support_test`\n",
      "INFO:plan_to_tests:- `consumer_app_missing_must_support_elements`\n",
      "INFO:plan_to_tests:- `req_08_missing_data_interpretation_test`\n",
      "INFO:plan_to_tests:- `req_11_restful_interactions`\n",
      "INFO:plan_to_tests:- `req_13_json_format_support_test`\n",
      "INFO:plan_to_tests:- `health_plan_api_must_support_data_elements`\n",
      "INFO:plan_to_tests:- `req_12_invalid_parameter`\n",
      "INFO:plan_to_tests:- `req_12_unauthorized_request`\n",
      "INFO:plan_to_tests:- `req_12_insufficient_scope`\n",
      "INFO:plan_to_tests:- `req_12_unknown_resource`\n",
      "INFO:plan_to_tests:- `req_12_deleted_resource`\n",
      "INFO:plan_to_tests:- `req_17_capability_statement_xml`\n",
      "INFO:plan_to_tests:- `req_17_organization_xml`\n",
      "INFO:plan_to_tests:- `req_17_unsupported_xml_request`\n",
      "INFO:plan_to_tests:- `req_07_application_display_store_test`\n",
      "INFO:plan_to_tests:- `req_06_must_support_data_processing_test`\n",
      "INFO:plan_to_tests:- `req_16_forward_chaining_support`\n",
      "INFO:plan_to_tests:- `req_16_reverse_chaining_support`\n",
      "INFO:plan_to_tests:- `req_14_verify_meta_profile`\n",
      "INFO:plan_to_tests:- `req_05_missing_information_reason_test`\n",
      "INFO:plan_to_tests:- `req_15_individual_search_parameter_support`\n",
      "INFO:plan_to_tests:- `req_15_combined_search_parameter_support`\n",
      "INFO:plan_to_tests:- `plan_net_service_no_consumer_identification_required`\n",
      "INFO:plan_to_tests:- `req_02_no_identifiable_information_in_requests`\n",
      "INFO:plan_to_tests:- `req_18_unauthorized_request`\n",
      "INFO:plan_to_tests:## 5. Overall Alignment Status\n",
      "INFO:plan_to_tests:- **File Alignment:** All required files except `plannet/general_cross_resource/req_18_test` are present. No orphaned files exist.\n",
      "INFO:plan_to_tests:- **Group ID Alignment:** There are significant discrepancies between referenced group IDs and actual group IDs. Many group IDs are missing or orphaned.\n",
      "INFO:plan_to_tests:## 6. Recommendations for Fixes\n",
      "INFO:plan_to_tests:- **Address Missing Files:**\n",
      "INFO:plan_to_tests:  - Implement the missing file `plannet/general_cross_resource/req_18_test` to ensure all required tests are covered.\n",
      "INFO:plan_to_tests:- **Resolve Missing Group IDs:**\n",
      "INFO:plan_to_tests:  - Verify and implement the missing group IDs in the test files to ensure all referenced requirements are tested.\n",
      "INFO:plan_to_tests:- **Review Orphaned Group IDs:**\n",
      "INFO:plan_to_tests:  - Investigate the necessity of orphaned group IDs. If they are not needed, consider removing them to clean up the test suite.\n",
      "INFO:plan_to_tests:  - If they are required, ensure they are referenced appropriately in the `GROUP FROM REFERENCES`.\n",
      "INFO:plan_to_tests:- **Regular Audits:**\n",
      "INFO:plan_to_tests:  - Conduct regular audits of the test suite to maintain alignment between required files, group IDs, and actual implementations.\n",
      "INFO:plan_to_tests:By addressing these discrepancies, the test suite can achieve better alignment and ensure comprehensive coverage of all requirements.\n"
     ]
    },
    {
     "data": {
      "text/plain": [
       "{'total_sections': 4,\n",
       " 'total_requirements': 19,\n",
       " 'generated_tests': 19,\n",
       " 'module_dir': 'checkpoints/testkit_generation/gpt_testkit_20250819_225027/plannet',\n",
       " 'module_file': 'checkpoints/testkit_generation/gpt_testkit_20250819_225027/gpt_plannet_20250819_225027.rb',\n",
       " 'output_dir': 'checkpoints/testkit_generation/gpt_testkit_20250819_225027',\n",
       " 'timestamp': '20250819_225027'}"
      ]
     },
     "execution_count": 61,
     "metadata": {},
     "output_type": "execute_result"
    }
   ],
   "source": [
    "import plan_to_tests\n",
    "import importlib\n",
    "importlib.reload(plan_to_tests)\n",
    "\n",
    "plan_to_tests.generate_inferno_test_kit(\n",
    "    llm_clients,\n",
    "    'gpt',\n",
    "    'checkpoints/testplan_generation/claude_test_plan_20250730_140520.md',\n",
    "    #'../test_kit_dev/inferno-guidance.md',\n",
    "    output_dir='checkpoints/testkit_generation',\n",
    "    expected_actors=[\"Server\", \"Client\"]\n",
    ")"
   ]
  },
  {
   "cell_type": "code",
   "execution_count": 28,
   "id": "bdf7dc24",
   "metadata": {},
   "outputs": [
    {
     "data": {
      "text/plain": [
       "False"
      ]
     },
     "execution_count": 28,
     "metadata": {},
     "output_type": "execute_result"
    }
   ],
   "source": [
    "bool(True and None)"
   ]
  },
  {
   "cell_type": "code",
   "execution_count": null,
   "id": "ab3a0aee",
   "metadata": {},
   "outputs": [],
   "source": []
  }
 ],
 "metadata": {
  "kernelspec": {
   "display_name": ".venv (3.12.6)",
   "language": "python",
   "name": "python3"
  },
  "language_info": {
   "codemirror_mode": {
    "name": "ipython",
    "version": 3
   },
   "file_extension": ".py",
   "mimetype": "text/x-python",
   "name": "python",
   "nbconvert_exporter": "python",
   "pygments_lexer": "ipython3",
   "version": "3.10.16"
  }
 },
 "nbformat": 4,
 "nbformat_minor": 5
}
