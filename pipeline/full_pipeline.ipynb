{
 "cells": [
  {
   "cell_type": "markdown",
   "id": "73e3a524",
   "metadata": {},
   "source": [
    "# IG to Test Kit FULL pipeline"
   ]
  },
  {
   "cell_type": "markdown",
   "id": "8a5d267b",
   "metadata": {},
   "source": [
    "## Setup"
   ]
  },
  {
   "cell_type": "markdown",
   "id": "9de19ee6",
   "metadata": {},
   "source": [
    "### Importing Notebooks as Modules (from the [Jupyter Notebook Documentation](https://jupyter-notebook.readthedocs.io/en/4.x/examples/Notebook/rstversions/Importing%20Notebooks.html))"
   ]
  },
  {
   "cell_type": "code",
   "execution_count": 44,
   "id": "d9fc5ddc",
   "metadata": {},
   "outputs": [],
   "source": [
    "import inspect\n",
    "import json\n",
    "import llm_utils\n",
    "import importlib\n",
    "import tiktoken"
   ]
  },
  {
   "cell_type": "markdown",
   "id": "0de7a6cc",
   "metadata": {},
   "source": [
    "## Initializing LLM Clients"
   ]
  },
  {
   "cell_type": "code",
   "execution_count": 45,
   "id": "3ead91a2",
   "metadata": {},
   "outputs": [],
   "source": [
    "importlib.reload(llm_utils)\n",
    "llm_clients = llm_utils.LLMApiClient()"
   ]
  },
  {
   "cell_type": "code",
   "execution_count": 46,
   "id": "c39d130b",
   "metadata": {},
   "outputs": [
    {
     "data": {
      "text/plain": [
       "{'claude': <anthropic.Anthropic at 0x32b1104d0>,\n",
       " 'gemini': genai.GenerativeModel(\n",
       "     model_name='models/gemini-2.5-flash',\n",
       "     generation_config={'max_output_tokens': 8192, 'temperature': 0.3},\n",
       "     safety_settings={<HarmCategory.HARM_CATEGORY_HARASSMENT: 7>: <HarmBlockThreshold.BLOCK_NONE: 4>, <HarmCategory.HARM_CATEGORY_HATE_SPEECH: 8>: <HarmBlockThreshold.BLOCK_NONE: 4>, <HarmCategory.HARM_CATEGORY_SEXUALLY_EXPLICIT: 9>: <HarmBlockThreshold.BLOCK_NONE: 4>, <HarmCategory.HARM_CATEGORY_DANGEROUS_CONTENT: 10>: <HarmBlockThreshold.BLOCK_NONE: 4>},\n",
       "     tools=None,\n",
       "     system_instruction=None,\n",
       "     cached_content=None\n",
       " ),\n",
       " 'gpt': <openai.OpenAI at 0x33339bf80>}"
      ]
     },
     "execution_count": 46,
     "metadata": {},
     "output_type": "execute_result"
    }
   ],
   "source": [
    "llm_clients.clients"
   ]
  },
  {
   "cell_type": "markdown",
   "id": "8e6d80d1",
   "metadata": {},
   "source": [
    "## Text Extraction"
   ]
  },
  {
   "cell_type": "markdown",
   "id": "08717e1c",
   "metadata": {},
   "source": [
    "### HTML to Markdown Conversion Using Markdownify (Langchain Tool)"
   ]
  },
  {
   "cell_type": "code",
   "execution_count": 4,
   "id": "7e9d960b",
   "metadata": {},
   "outputs": [
    {
     "name": "stderr",
     "output_type": "stream",
     "text": [
      "USER_AGENT environment variable not set, consider setting it to identify your requests.\n"
     ]
    }
   ],
   "source": [
    "import HTML_extractor"
   ]
  },
  {
   "cell_type": "code",
   "execution_count": 6,
   "id": "ac0340e1",
   "metadata": {},
   "outputs": [
    {
     "name": "stderr",
     "output_type": "stream",
     "text": [
      "Fetching pages: 100%|##########| 7/7 [00:00<00:00,  7.93it/s]\n"
     ]
    },
    {
     "name": "stdout",
     "output_type": "stream",
     "text": [
      "Created: index.md\n",
      "Created: ChangeHistory.md\n",
      "Created: examples.md\n",
      "Created: implementation.md\n",
      "Created: profiles.md\n",
      "Created: artifacts.md\n",
      "Created: CapabilityStatement_plan_net.md\n"
     ]
    }
   ],
   "source": [
    "urls = [\n",
    "    \"https://hl7.org/fhir/us/davinci-pdex-plan-net/index.html\",\n",
    "    \"https://hl7.org/fhir/us/davinci-pdex-plan-net/ChangeHistory.html\",\n",
    "    \"https://hl7.org/fhir/us/davinci-pdex-plan-net/examples.html\",\n",
    "    \"https://hl7.org/fhir/us/davinci-pdex-plan-net/implementation.html\",\n",
    "    \"https://hl7.org/fhir/us/davinci-pdex-plan-net/profiles.html\",\n",
    "    \"https://hl7.org/fhir/us/davinci-pdex-plan-net/artifacts.html\",\n",
    "    \"https://hl7.org/fhir/us/davinci-pdex-plan-net/CapabilityStatement-plan-net.html\"\n",
    "]\n",
    "\n",
    "HTML_extractor.convert_urls_to_markdown(urls, output_dir=\"text_extraction/PlanNet/site/markdown\")"
   ]
  },
  {
   "cell_type": "markdown",
   "id": "b0108ece",
   "metadata": {},
   "source": [
    "### Markdown Post-processing"
   ]
  },
  {
   "cell_type": "code",
   "execution_count": 7,
   "id": "aec7806b",
   "metadata": {},
   "outputs": [
    {
     "name": "stdout",
     "output_type": "stream",
     "text": [
      "Found 7 markdown files in checkpoints/text_extraction/PlanNet/site/markdown\n",
      "Cleaned and saved: checkpoints/post_processing/implementation.md\n",
      "Cleaned and saved: checkpoints/post_processing/examples.md\n",
      "Cleaned and saved: checkpoints/post_processing/profiles.md\n",
      "Cleaned and saved: checkpoints/post_processing/ChangeHistory.md\n",
      "Cleaned and saved: checkpoints/post_processing/artifacts.md\n",
      "Cleaned and saved: checkpoints/post_processing/index.md\n",
      "Cleaned and saved: checkpoints/post_processing/CapabilityStatement_plan_net.md\n",
      "\n",
      "Processing complete: 7 files successfully cleaned, 0 failed\n"
     ]
    }
   ],
   "source": [
    "import markdown_cleaner\n",
    "markdown_cleaner.process_directory(\"checkpoints/text_extraction/PlanNet/site/markdown\", \"checkpoints/post_processing/\")"
   ]
  },
  {
   "cell_type": "markdown",
   "id": "eb3fa2d1",
   "metadata": {},
   "source": [
    "## Requirements Extraction"
   ]
  },
  {
   "cell_type": "markdown",
   "id": "be0566ab",
   "metadata": {},
   "source": [
    "### Prompt-based Requirement Extraction"
   ]
  },
  {
   "cell_type": "code",
   "execution_count": null,
   "id": "8d4e5a8c",
   "metadata": {},
   "outputs": [
    {
     "ename": "NameError",
     "evalue": "name 'reqs_extraction' is not defined",
     "output_type": "error",
     "traceback": [
      "\u001b[31m---------------------------------------------------------------------------\u001b[39m",
      "\u001b[31mNameError\u001b[39m                                 Traceback (most recent call last)",
      "\u001b[36mCell\u001b[39m\u001b[36m \u001b[39m\u001b[32mIn[4]\u001b[39m\u001b[32m, line 1\u001b[39m\n\u001b[32m----> \u001b[39m\u001b[32m1\u001b[39m importlib.reload(\u001b[43mreqs_extraction\u001b[49m)\n",
      "\u001b[31mNameError\u001b[39m: name 'reqs_extraction' is not defined"
     ]
    }
   ],
   "source": [
    "#importlib.reload(reqs_extraction)"
   ]
  },
  {
   "cell_type": "code",
   "execution_count": 42,
   "id": "c7fd5bf6",
   "metadata": {},
   "outputs": [],
   "source": [
    "import reqs_extraction"
   ]
  },
  {
   "cell_type": "code",
   "execution_count": 43,
   "id": "31999d1d",
   "metadata": {},
   "outputs": [
    {
     "name": "stderr",
     "output_type": "stream",
     "text": [
      "INFO:root:Found markdown directory at /Users/ceadams/Documents/onclaive/onclaive/full-ig/markdown_cleaned\n",
      "INFO:root:Found 242 markdown files\n",
      "INFO:root:Processing with claude...\n",
      "INFO:root:Starting processing with claude on directory: /Users/ceadams/Documents/onclaive/onclaive/full-ig/markdown_cleaned\n",
      "INFO:root:Found 242 markdown files:\n",
      "INFO:root:  - Location-HospLoc1.md\n",
      "INFO:root:  - SearchParameter-location-endpoint.md\n",
      "INFO:root:  - HealthcareService-HartfordOrthopedicServices.md\n",
      "INFO:root:  - implementation.md\n",
      "INFO:root:  - StructureDefinition-plannet-Organization-definitions.md\n",
      "INFO:root:  - StructureDefinition-practitioner-qualification.profile.history.md\n",
      "INFO:root:  - StructureDefinition-communication-proficiency-mappings.md\n",
      "INFO:root:  - examples.md\n",
      "INFO:root:  - StructureDefinition-plannet-InsurancePlan-examples.md\n",
      "INFO:root:  - PractitionerRole-JoeSmithRole2.md\n",
      "INFO:root:  - SearchParameter-healthcareservice-location.md\n",
      "INFO:root:  - SearchParameter-practitionerrole-period.md\n",
      "INFO:root:  - SearchParameter-healthcareservice-endpoint.md\n",
      "INFO:root:  - CodeSystem-DeliveryMethodCS.md\n",
      "INFO:root:  - HealthcareService-PharmChainRetailService.md\n",
      "INFO:root:  - SearchParameter-insuranceplan-identifier.md\n",
      "INFO:root:  - SearchParameter-healthcareservice-organization.md\n",
      "INFO:root:  - OrganizationAffiliation-HamiltonClinicAffil.md\n",
      "INFO:root:  - StructureDefinition-practitioner-qualification-definitions.md\n",
      "INFO:root:  - StructureDefinition-plannet-PractitionerRole.md\n",
      "INFO:root:  - SearchParameter-practitionerrole-location.md\n",
      "INFO:root:  - SearchParameter-location-organization.md\n",
      "INFO:root:  - SearchParameter-practitionerrole-endpoint.md\n",
      "INFO:root:  - SearchParameter-organization-coverage-area.md\n",
      "INFO:root:  - StructureDefinition-via-intermediary-definitions.md\n",
      "INFO:root:  - StructureDefinition-plannet-HealthcareService-definitions.md\n",
      "INFO:root:  - StructureDefinition-endpoint-usecase-mappings.md\n",
      "INFO:root:  - ValueSet-EndpointConnectionTypeVS.md\n",
      "INFO:root:  - StructureDefinition-newpatients-definitions.md\n",
      "INFO:root:  - ValueSet-NonIndividualSpecialtyAndDegreeLicenseCertificateVS.md\n",
      "INFO:root:  - SearchParameter-practitionerrole-service.md\n",
      "INFO:root:  - ValueSet-IndividualSpecialtyAndDegreeLicenseCertificateVS.md\n",
      "INFO:root:  - ValueSet-IndividualAndGroupSpecialtiesVS.md\n",
      "INFO:root:  - Organization-AcmeofCTStdNet.md\n",
      "INFO:root:  - StructureDefinition-org-description.profile.history.md\n",
      "INFO:root:  - Location-HansSoloClinic.md\n",
      "INFO:root:  - SearchParameter-location-address-state.md\n",
      "INFO:root:  - Practitioner-Counselor.md\n",
      "INFO:root:  - StructureDefinition-plannet-Network.md\n",
      "INFO:root:  - StructureDefinition-plannet-OrganizationAffiliation-mappings.md\n",
      "INFO:root:  - HealthcareService-BurrClinicServices.md\n",
      "INFO:root:  - StructureDefinition-plannet-Practitioner-mappings.md\n",
      "INFO:root:  - StructureDefinition-plannet-Location.md\n",
      "INFO:root:  - SearchParameter-organization-name.md\n",
      "INFO:root:  - StructureDefinition-plannet-Endpoint.md\n",
      "INFO:root:  - StructureDefinition-plannet-Endpoint-examples.md\n",
      "INFO:root:  - SearchParameter-location-address.md\n",
      "INFO:root:  - SearchParameter-organizationaffiliation-endpoint.md\n",
      "INFO:root:  - PractitionerRole-JoeSmithRole3.md\n",
      "INFO:root:  - StructureDefinition-plannet-Location-examples.md\n",
      "INFO:root:  - SearchParameter-organizationaffiliation-location.md\n",
      "INFO:root:  - CodeSystem-QualificationStatusCS.md\n",
      "INFO:root:  - StructureDefinition-plannet-PractitionerRole-mappings.md\n",
      "INFO:root:  - SearchParameter-practitionerrole-specialty.md\n",
      "INFO:root:  - ValueSet-NetworkTypeVS.md\n",
      "INFO:root:  - HealthcareService-HospERService.md\n",
      "INFO:root:  - SearchParameter-healthcareservice-service-category.md\n",
      "INFO:root:  - SearchParameter-insuranceplan-name.md\n",
      "INFO:root:  - Location-PharmLoc3.md\n",
      "INFO:root:  - StructureDefinition-endpoint-usecase.profile.history.md\n",
      "INFO:root:  - StructureDefinition-network-reference-mappings.md\n",
      "INFO:root:  - SearchParameter-healthcareservice-coverage-area.md\n",
      "INFO:root:  - StructureDefinition-plannet-Endpoint-definitions.md\n",
      "INFO:root:  - SearchParameter-location-address-city.md\n",
      "INFO:root:  - profiles.md\n",
      "INFO:root:  - CodeSystem-VirtualModalitiesCS.md\n",
      "INFO:root:  - CodeSystem-LanguageProficiencyCS.md\n",
      "INFO:root:  - OrganizationAffiliation-PharmChainAffil3.md\n",
      "INFO:root:  - HealthcareService-CancerClinicService.md\n",
      "INFO:root:  - HealthcareService-HamiltonClinicServices.md\n",
      "INFO:root:  - SearchParameter-healthcareservice-service-type.md\n",
      "INFO:root:  - StructureDefinition-via-intermediary-mappings.md\n",
      "INFO:root:  - ValueSet-AcceptingPatientsVS.md\n",
      "INFO:root:  - SearchParameter-insuranceplan-coverage-area.md\n",
      "INFO:root:  - ValueSet-InsurancePlanTypeVS.md\n",
      "INFO:root:  - OrganizationAffiliation-BurrClinicAffil.md\n",
      "INFO:root:  - Organization-BigBox.md\n",
      "INFO:root:  - StructureDefinition-plannet-InsurancePlan-definitions.md\n",
      "INFO:root:  - PractitionerRole-AnonRole.md\n",
      "INFO:root:  - StructureDefinition-communication-proficiency.profile.history.md\n",
      "INFO:root:  - StructureDefinition-plannet-Practitioner.md\n",
      "INFO:root:  - StructureDefinition-delivery-method-mappings.md\n",
      "INFO:root:  - SearchParameter-practitioner-given-name.md\n",
      "INFO:root:  - StructureDefinition-location-reference-definitions.md\n",
      "INFO:root:  - SearchParameter-organizationaffiliation-network.md\n",
      "INFO:root:  - CodeSystem-OrganizationAffiliationRoleCS.md\n",
      "INFO:root:  - StructureDefinition-qualification.profile.history.md\n",
      "INFO:root:  - ValueSet-NonIndividualSpecialtiesVS.md\n",
      "INFO:root:  - StructureDefinition-accessibility-mappings.md\n",
      "INFO:root:  - PractitionerRole-HansSoloRole1.md\n",
      "INFO:root:  - CodeSystem-EndpointPayloadTypeCS.md\n",
      "INFO:root:  - StructureDefinition-plannet-InsurancePlan-mappings.md\n",
      "INFO:root:  - StructureDefinition-plannet-Practitioner-definitions.md\n",
      "INFO:root:  - StructureDefinition-plannet-Network.profile.history.md\n",
      "INFO:root:  - ChangeHistory.md\n",
      "INFO:root:  - StructureDefinition-plannet-Endpoint-mappings.md\n",
      "INFO:root:  - StructureDefinition-plannet-Practitioner-examples.md\n",
      "INFO:root:  - artifacts.md\n",
      "INFO:root:  - StructureDefinition-plannet-PractitionerRole-examples.md\n",
      "INFO:root:  - StructureDefinition-org-description.md\n",
      "INFO:root:  - SearchParameter-practitionerrole-practitioner.md\n",
      "INFO:root:  - StructureDefinition-plannet-Location-mappings.md\n",
      "INFO:root:  - StructureDefinition-plannet-OrganizationAffiliation.md\n",
      "INFO:root:  - HealthcareService-VirtualCounselService.md\n",
      "INFO:root:  - Location-PharmLoc2.md\n",
      "INFO:root:  - SearchParameter-organization-endpoint.md\n",
      "INFO:root:  - SearchParameter-organization-address.md\n",
      "INFO:root:  - StructureDefinition-plannet-OrganizationAffiliation-definitions.md\n",
      "INFO:root:  - OrganizationAffiliation-PharmChainAffil2.md\n",
      "INFO:root:  - SearchParameter-location-type.md\n",
      "INFO:root:  - StructureDefinition-contactpoint-availabletime.profile.history.md\n",
      "INFO:root:  - ValueSet-PractitionerRoleVS.md\n",
      "INFO:root:  - StructureDefinition-newpatients-mappings.md\n",
      "INFO:root:  - StructureDefinition-plannet-PractitionerRole.profile.history.md\n",
      "INFO:root:  - StructureDefinition-contactpoint-availabletime.md\n",
      "INFO:root:  - StructureDefinition-accessibility.profile.history.md\n",
      "INFO:root:  - CodeSystem-EndpointConnectionTypeCS.md\n",
      "INFO:root:  - SearchParameter-insuranceplan-administered-by.md\n",
      "INFO:root:  - StructureDefinition-plannet-OrganizationAffiliation-examples.md\n",
      "INFO:root:  - ValueSet-HealthcareServiceCategoryVS.md\n",
      "INFO:root:  - ValueSet-OrganizationAffiliationRoleVS.md\n",
      "INFO:root:  - ValueSet-SpecialtiesVS.md\n",
      "INFO:root:  - StructureDefinition-plannet-Location-definitions.md\n",
      "INFO:root:  - CodeSystem-InsurancePlanTypeCS.md\n",
      "INFO:root:  - SearchParameter-practitionerrole-network.md\n",
      "INFO:root:  - ValueSet-HealthcareServiceTypeVS.md\n",
      "INFO:root:  - CodeSystem-AcceptingPatientsCS.md\n",
      "INFO:root:  - SearchParameter-organizationaffiliation-role.md\n",
      "INFO:root:  - Location-CancerClinicLoc.md\n",
      "INFO:root:  - StructureDefinition-plannet-Organization-mappings.md\n",
      "INFO:root:  - StructureDefinition-plannet-HealthcareService-examples.md\n",
      "INFO:root:  - HealthcareService-PharmChainCompService.md\n",
      "INFO:root:  - ValueSet-VirtualModalitiesVS.md\n",
      "INFO:root:  - Organization-BurrClinic.md\n",
      "INFO:root:  - StructureDefinition-communication-proficiency-definitions.md\n",
      "INFO:root:  - Organization-CancerClinic.md\n",
      "INFO:root:  - HealthcareService-HansSoloService.md\n",
      "INFO:root:  - Practitioner-HansSolo.md\n",
      "INFO:root:  - StructureDefinition-plannet-Network-examples.md\n",
      "INFO:root:  - StructureDefinition-org-description-definitions.md\n",
      "INFO:root:  - SearchParameter-practitioner-name.md\n",
      "INFO:root:  - Location-PharmLoc1.md\n",
      "INFO:root:  - ValueSet-AccessibilityVS.md\n",
      "INFO:root:  - searchform.md\n",
      "INFO:root:  - StructureDefinition-location-reference-mappings.md\n",
      "INFO:root:  - StructureDefinition-newpatients.profile.history.md\n",
      "INFO:root:  - StructureDefinition-newpatients.md\n",
      "INFO:root:  - SearchParameter-organization-type.md\n",
      "INFO:root:  - OrganizationAffiliation-PharmChainAffil1.md\n",
      "INFO:root:  - StructureDefinition-plannet-Practitioner.profile.history.md\n",
      "INFO:root:  - Practitioner-JoeSmith.md\n",
      "INFO:root:  - Organization-Acme.md\n",
      "INFO:root:  - index.md\n",
      "INFO:root:  - SearchParameter-practitioner-family-name.md\n",
      "INFO:root:  - ValueSet-QualificationStatusVS.md\n",
      "INFO:root:  - SearchParameter-organizationaffiliation-participating-organization.md\n",
      "INFO:root:  - CapabilityStatement_plan_net.md\n",
      "INFO:root:  - StructureDefinition-practitioner-qualification-mappings.md\n",
      "INFO:root:  - CodeSystem-InsuranceProductTypeCS.md\n",
      "INFO:root:  - toc.md\n",
      "INFO:root:  - SearchParameter-insuranceplan-owned-by.md\n",
      "INFO:root:  - StructureDefinition-delivery-method-definitions.md\n",
      "INFO:root:  - CodeSystem-HealthcareServiceCategoryCS.md\n",
      "INFO:root:  - SearchParameter-endpoint-organization.md\n",
      "INFO:root:  - ValueSet-EndpointUsecaseVS.md\n",
      "INFO:root:  - SearchParameter-organizationaffiliation-specialty.md\n",
      "INFO:root:  - StructureDefinition-qualification-definitions.md\n",
      "INFO:root:  - StructureDefinition-accessibility.md\n",
      "INFO:root:  - ValueSet-DeliveryMethodVS.md\n",
      "INFO:root:  - StructureDefinition-endpoint-usecase-definitions.md\n",
      "INFO:root:  - InsurancePlan-AcmeQHPBronze.md\n",
      "INFO:root:  - CodeSystem-OrgTypeCS.md\n",
      "INFO:root:  - StructureDefinition-network-reference-definitions.md\n",
      "INFO:root:  - ValueSet-SpecialtyAndDegreeLicenseCertificateVS.md\n",
      "INFO:root:  - ValueSet-InsuranceProductTypeVS.md\n",
      "INFO:root:  - StructureDefinition-plannet-OrganizationAffiliation.profile.history.md\n",
      "INFO:root:  - Location-PharmLoc4.md\n",
      "INFO:root:  - StructureDefinition-communication-proficiency.md\n",
      "INFO:root:  - SearchParameter-organizationaffiliation-period.md\n",
      "INFO:root:  - StructureDefinition-plannet-Network-definitions.md\n",
      "INFO:root:  - ValueSet-MinEndpointConnectionTypeVS.md\n",
      "INFO:root:  - SearchParameter-organization-partof.md\n",
      "INFO:root:  - StructureDefinition-location-reference.md\n",
      "INFO:root:  - SearchParameter-location-partof.md\n",
      "INFO:root:  - StructureDefinition-practitioner-qualification.md\n",
      "INFO:root:  - ValueSet-OrgTypeVS.md\n",
      "INFO:root:  - StructureDefinition-endpoint-usecase.md\n",
      "INFO:root:  - InsurancePlan-AcmeQHPGold.md\n",
      "INFO:root:  - SearchParameter-insuranceplan-plan-type.md\n",
      "INFO:root:  - OrganizationAffiliation-ConnHIEAffil.md\n",
      "INFO:root:  - CapabilityStatement-plan-net.md\n",
      "INFO:root:  - StructureDefinition-qualification.md\n",
      "INFO:root:  - OrganizationAffiliation-HartfordOrthopedicAffil.md\n",
      "INFO:root:  - SearchParameter-location-address-postalcode.md\n",
      "INFO:root:  - StructureDefinition-plannet-Organization.profile.history.md\n",
      "INFO:root:  - SearchParameter-healthcareservice-specialty.md\n",
      "INFO:root:  - StructureDefinition-via-intermediary.profile.history.md\n",
      "INFO:root:  - Endpoint-AcmeOfCTPortalEndpoint.md\n",
      "INFO:root:  - StructureDefinition-plannet-PractitionerRole-definitions.md\n",
      "INFO:root:  - StructureDefinition-contactpoint-availabletime-definitions.md\n",
      "INFO:root:  - StructureDefinition-delivery-method.md\n",
      "INFO:root:  - CodeSystem-AccessibilityCS.md\n",
      "INFO:root:  - downloads.md\n",
      "INFO:root:  - SearchParameter-organizationaffiliation-primary-organization.md\n",
      "INFO:root:  - StructureDefinition-contactpoint-availabletime-mappings.md\n",
      "INFO:root:  - StructureDefinition-plannet-Network-mappings.md\n",
      "INFO:root:  - StructureDefinition-plannet-InsurancePlan.md\n",
      "INFO:root:  - StructureDefinition-location-reference.profile.history.md\n",
      "INFO:root:  - StructureDefinition-plannet-Organization-examples.md\n",
      "INFO:root:  - SearchParameter-practitionerrole-organization.md\n",
      "INFO:root:  - StructureDefinition-plannet-HealthcareService-mappings.md\n",
      "INFO:root:  - SearchParameter-healthcareservice-name.md\n",
      "INFO:root:  - Location-HospLoc2.md\n",
      "INFO:root:  - Location-StateOfCTLocation.md\n",
      "INFO:root:  - ValueSet-LanguageProficiencyVS.md\n",
      "INFO:root:  - StructureDefinition-org-description-mappings.md\n",
      "INFO:root:  - SearchParameter-practitionerrole-role.md\n",
      "INFO:root:  - SearchParameter-insuranceplan-type.md\n",
      "INFO:root:  - Organization-Hospital.md\n",
      "INFO:root:  - StructureDefinition-qualification-mappings.md\n",
      "INFO:root:  - StructureDefinition-accessibility-definitions.md\n",
      "INFO:root:  - StructureDefinition-network-reference.profile.history.md\n",
      "INFO:root:  - StructureDefinition-plannet-Location.profile.history.md\n",
      "INFO:root:  - StructureDefinition-network-reference.md\n",
      "INFO:root:  - PractitionerRole-JoeSmithRole1.md\n",
      "INFO:root:  - StructureDefinition-plannet-HealthcareService.md\n",
      "INFO:root:  - Organization-HartfordOrthopedics.md\n",
      "INFO:root:  - Organization-AcmeofCTPremNet.md\n",
      "INFO:root:  - CodeSystem-ProviderRoleCS.md\n",
      "INFO:root:  - StructureDefinition-plannet-Endpoint.profile.history.md\n",
      "INFO:root:  - StructureDefinition-delivery-method.profile.history.md\n",
      "INFO:root:  - HealthcareService-PharmChainMailService.md\n",
      "INFO:root:  - Organization-ConnHIE.md\n",
      "INFO:root:  - SearchParameter-organizationaffiliation-service.md\n",
      "INFO:root:  - PractitionerRole-CounselorRole1.md\n",
      "INFO:root:  - StructureDefinition-plannet-InsurancePlan.profile.history.md\n",
      "INFO:root:  - StructureDefinition-plannet-HealthcareService.profile.history.md\n",
      "INFO:root:  - StructureDefinition-via-intermediary.md\n",
      "INFO:root:  - ValueSet-EndpointPayloadTypeVS.md\n",
      "INFO:root:  - StructureDefinition-plannet-Organization.md\n",
      "INFO:root:  - Organization-HamiltonClinic.md\n",
      "INFO:root:  - Organization-PharmChain.md\n",
      "INFO:root:Organized 242 files into 93 processing groups\n",
      "INFO:root:Processing combined group of 23 files\n",
      "INFO:root:Split combined content into 1 chunks\n",
      "INFO:root:Processing chunk 1/1 of combined files\n"
     ]
    },
    {
     "name": "stdout",
     "output_type": "stream",
     "text": [
      "\n",
      "Processing Implementation Guide with Claude...\n",
      "This may take several minutes depending on the size of the Implementation Guide.\n"
     ]
    },
    {
     "name": "stderr",
     "output_type": "stream",
     "text": [
      "INFO:httpx:HTTP Request: POST https://api.anthropic.com/v1/messages \"HTTP/1.1 200 OK\"\n",
      "INFO:root:Processing combined group of 15 files\n",
      "INFO:root:Split combined content into 1 chunks\n",
      "INFO:root:Processing chunk 1/1 of combined files\n",
      "INFO:httpx:HTTP Request: POST https://api.anthropic.com/v1/messages \"HTTP/1.1 200 OK\"\n",
      "INFO:root:Processing combined group of 10 files\n",
      "INFO:root:Split combined content into 1 chunks\n",
      "INFO:root:Processing chunk 1/1 of combined files\n",
      "INFO:httpx:HTTP Request: POST https://api.anthropic.com/v1/messages \"HTTP/1.1 200 OK\"\n",
      "INFO:root:Processing combined group of 8 files\n",
      "INFO:root:Split combined content into 1 chunks\n",
      "INFO:root:Processing chunk 1/1 of combined files\n",
      "INFO:httpx:HTTP Request: POST https://api.anthropic.com/v1/messages \"HTTP/1.1 200 OK\"\n",
      "INFO:root:Processing combined group of 8 files\n",
      "INFO:root:Split combined content into 1 chunks\n",
      "INFO:root:Processing chunk 1/1 of combined files\n",
      "INFO:httpx:HTTP Request: POST https://api.anthropic.com/v1/messages \"HTTP/1.1 200 OK\"\n",
      "INFO:root:Processing combined group of 7 files\n",
      "INFO:root:Split combined content into 1 chunks\n",
      "INFO:root:Processing chunk 1/1 of combined files\n",
      "INFO:httpx:HTTP Request: POST https://api.anthropic.com/v1/messages \"HTTP/1.1 200 OK\"\n",
      "INFO:root:Processing combined group of 7 files\n",
      "INFO:root:Split combined content into 1 chunks\n",
      "INFO:root:Processing chunk 1/1 of combined files\n",
      "INFO:httpx:HTTP Request: POST https://api.anthropic.com/v1/messages \"HTTP/1.1 200 OK\"\n",
      "INFO:root:Processing combined group of 7 files\n",
      "INFO:root:Split combined content into 1 chunks\n",
      "INFO:root:Processing chunk 1/1 of combined files\n",
      "INFO:httpx:HTTP Request: POST https://api.anthropic.com/v1/messages \"HTTP/1.1 200 OK\"\n",
      "INFO:root:Processing combined group of 7 files\n",
      "INFO:root:Split combined content into 1 chunks\n",
      "INFO:root:Processing chunk 1/1 of combined files\n",
      "INFO:httpx:HTTP Request: POST https://api.anthropic.com/v1/messages \"HTTP/1.1 200 OK\"\n",
      "INFO:root:Processing combined group of 7 files\n",
      "INFO:root:Split combined content into 1 chunks\n",
      "INFO:root:Processing chunk 1/1 of combined files\n",
      "INFO:httpx:HTTP Request: POST https://api.anthropic.com/v1/messages \"HTTP/1.1 200 OK\"\n",
      "INFO:root:Processing combined group of 6 files\n",
      "INFO:root:Split combined content into 1 chunks\n",
      "INFO:root:Processing chunk 1/1 of combined files\n",
      "INFO:httpx:HTTP Request: POST https://api.anthropic.com/v1/messages \"HTTP/1.1 200 OK\"\n",
      "INFO:root:Processing combined group of 6 files\n",
      "INFO:root:Split combined content into 1 chunks\n",
      "INFO:root:Processing chunk 1/1 of combined files\n",
      "INFO:httpx:HTTP Request: POST https://api.anthropic.com/v1/messages \"HTTP/1.1 200 OK\"\n",
      "INFO:root:Processing combined group of 5 files\n",
      "INFO:root:Split combined content into 1 chunks\n",
      "INFO:root:Processing chunk 1/1 of combined files\n",
      "INFO:httpx:HTTP Request: POST https://api.anthropic.com/v1/messages \"HTTP/1.1 200 OK\"\n",
      "INFO:root:Processing combined group of 5 files\n",
      "INFO:root:Split combined content into 1 chunks\n",
      "INFO:root:Processing chunk 1/1 of combined files\n",
      "INFO:httpx:HTTP Request: POST https://api.anthropic.com/v1/messages \"HTTP/1.1 200 OK\"\n",
      "INFO:root:Processing combined group of 5 files\n",
      "INFO:root:Split combined content into 1 chunks\n",
      "INFO:root:Processing chunk 1/1 of combined files\n",
      "INFO:httpx:HTTP Request: POST https://api.anthropic.com/v1/messages \"HTTP/1.1 200 OK\"\n",
      "INFO:root:Processing combined group of 5 files\n",
      "INFO:root:Split combined content into 1 chunks\n",
      "INFO:root:Processing chunk 1/1 of combined files\n",
      "INFO:httpx:HTTP Request: POST https://api.anthropic.com/v1/messages \"HTTP/1.1 200 OK\"\n",
      "INFO:root:Processing combined group of 5 files\n",
      "INFO:root:Split combined content into 1 chunks\n",
      "INFO:root:Processing chunk 1/1 of combined files\n",
      "INFO:httpx:HTTP Request: POST https://api.anthropic.com/v1/messages \"HTTP/1.1 200 OK\"\n",
      "INFO:root:Processing combined group of 4 files\n",
      "INFO:root:Split combined content into 1 chunks\n",
      "INFO:root:Processing chunk 1/1 of combined files\n",
      "INFO:httpx:HTTP Request: POST https://api.anthropic.com/v1/messages \"HTTP/1.1 200 OK\"\n",
      "INFO:root:Processing combined group of 4 files\n",
      "INFO:root:Split combined content into 1 chunks\n",
      "INFO:root:Processing chunk 1/1 of combined files\n",
      "INFO:httpx:HTTP Request: POST https://api.anthropic.com/v1/messages \"HTTP/1.1 200 OK\"\n",
      "INFO:root:Processing combined group of 4 files\n",
      "INFO:root:Split combined content into 1 chunks\n",
      "INFO:root:Processing chunk 1/1 of combined files\n",
      "INFO:httpx:HTTP Request: POST https://api.anthropic.com/v1/messages \"HTTP/1.1 200 OK\"\n",
      "INFO:root:Processing combined group of 3 files\n",
      "INFO:root:Split combined content into 1 chunks\n",
      "INFO:root:Processing chunk 1/1 of combined files\n",
      "INFO:httpx:HTTP Request: POST https://api.anthropic.com/v1/messages \"HTTP/1.1 200 OK\"\n",
      "INFO:root:Processing combined group of 3 files\n",
      "INFO:root:Split combined content into 1 chunks\n",
      "INFO:root:Processing chunk 1/1 of combined files\n",
      "INFO:httpx:HTTP Request: POST https://api.anthropic.com/v1/messages \"HTTP/1.1 200 OK\"\n",
      "INFO:root:Processing combined group of 3 files\n",
      "INFO:root:Split combined content into 1 chunks\n",
      "INFO:root:Processing chunk 1/1 of combined files\n",
      "INFO:httpx:HTTP Request: POST https://api.anthropic.com/v1/messages \"HTTP/1.1 200 OK\"\n",
      "INFO:root:Processing combined group of 3 files\n",
      "INFO:root:Split combined content into 1 chunks\n",
      "INFO:root:Processing chunk 1/1 of combined files\n",
      "INFO:httpx:HTTP Request: POST https://api.anthropic.com/v1/messages \"HTTP/1.1 200 OK\"\n",
      "INFO:root:Processing combined group of 3 files\n",
      "INFO:root:Split combined content into 1 chunks\n",
      "INFO:root:Processing chunk 1/1 of combined files\n",
      "INFO:httpx:HTTP Request: POST https://api.anthropic.com/v1/messages \"HTTP/1.1 200 OK\"\n",
      "INFO:root:Processing combined group of 2 files\n",
      "INFO:root:Split combined content into 1 chunks\n",
      "INFO:root:Processing chunk 1/1 of combined files\n",
      "INFO:httpx:HTTP Request: POST https://api.anthropic.com/v1/messages \"HTTP/1.1 200 OK\"\n",
      "INFO:root:Processing combined group of 2 files\n",
      "INFO:root:Split combined content into 1 chunks\n",
      "INFO:root:Processing chunk 1/1 of combined files\n",
      "INFO:httpx:HTTP Request: POST https://api.anthropic.com/v1/messages \"HTTP/1.1 200 OK\"\n",
      "INFO:root:Processing combined group of 2 files\n",
      "INFO:root:Split combined content into 1 chunks\n",
      "INFO:root:Processing chunk 1/1 of combined files\n",
      "INFO:httpx:HTTP Request: POST https://api.anthropic.com/v1/messages \"HTTP/1.1 200 OK\"\n",
      "INFO:root:Processing combined group of 2 files\n",
      "INFO:root:Split combined content into 1 chunks\n",
      "INFO:root:Processing chunk 1/1 of combined files\n",
      "INFO:httpx:HTTP Request: POST https://api.anthropic.com/v1/messages \"HTTP/1.1 200 OK\"\n",
      "INFO:root:Processing combined group of 2 files\n",
      "INFO:root:Split combined content into 1 chunks\n",
      "INFO:root:Processing chunk 1/1 of combined files\n",
      "INFO:httpx:HTTP Request: POST https://api.anthropic.com/v1/messages \"HTTP/1.1 200 OK\"\n",
      "INFO:root:Processing combined group of 2 files\n",
      "INFO:root:Split combined content into 1 chunks\n",
      "INFO:root:Processing chunk 1/1 of combined files\n",
      "INFO:httpx:HTTP Request: POST https://api.anthropic.com/v1/messages \"HTTP/1.1 200 OK\"\n",
      "INFO:root:Processing combined group of 2 files\n",
      "INFO:root:Split combined content into 1 chunks\n",
      "INFO:root:Processing chunk 1/1 of combined files\n",
      "INFO:httpx:HTTP Request: POST https://api.anthropic.com/v1/messages \"HTTP/1.1 200 OK\"\n",
      "INFO:root:Processing combined group of 2 files\n",
      "INFO:root:Split combined content into 1 chunks\n",
      "INFO:root:Processing chunk 1/1 of combined files\n",
      "INFO:httpx:HTTP Request: POST https://api.anthropic.com/v1/messages \"HTTP/1.1 200 OK\"\n",
      "INFO:root:Processing combined group of 2 files\n",
      "INFO:root:Split combined content into 1 chunks\n",
      "INFO:root:Processing chunk 1/1 of combined files\n",
      "INFO:httpx:HTTP Request: POST https://api.anthropic.com/v1/messages \"HTTP/1.1 200 OK\"\n",
      "INFO:root:Processing combined group of 2 files\n",
      "INFO:root:Split combined content into 1 chunks\n",
      "INFO:root:Processing chunk 1/1 of combined files\n",
      "INFO:httpx:HTTP Request: POST https://api.anthropic.com/v1/messages \"HTTP/1.1 200 OK\"\n",
      "INFO:root:Processing combined group of 2 files\n",
      "INFO:root:Split combined content into 1 chunks\n",
      "INFO:root:Processing chunk 1/1 of combined files\n",
      "INFO:httpx:HTTP Request: POST https://api.anthropic.com/v1/messages \"HTTP/1.1 200 OK\"\n",
      "INFO:root:Processing single file: StructureDefinition-plannet-Practitioner-mappings.md\n",
      "INFO:root:Split StructureDefinition-plannet-Practitioner-mappings.md into 1 chunks using dynamic sizing\n",
      "INFO:root:Processing chunk 1/1 of StructureDefinition-plannet-Practitioner-mappings.md\n",
      "INFO:httpx:HTTP Request: POST https://api.anthropic.com/v1/messages \"HTTP/1.1 200 OK\"\n",
      "INFO:root:Processing single file: ValueSet-InsuranceProductTypeVS.md\n",
      "INFO:root:Split ValueSet-InsuranceProductTypeVS.md into 1 chunks using dynamic sizing\n",
      "INFO:root:Processing chunk 1/1 of ValueSet-InsuranceProductTypeVS.md\n",
      "INFO:httpx:HTTP Request: POST https://api.anthropic.com/v1/messages \"HTTP/1.1 200 OK\"\n",
      "INFO:root:Processing single file: ValueSet-EndpointConnectionTypeVS.md\n",
      "INFO:root:Split ValueSet-EndpointConnectionTypeVS.md into 1 chunks using dynamic sizing\n",
      "INFO:root:Processing chunk 1/1 of ValueSet-EndpointConnectionTypeVS.md\n",
      "INFO:httpx:HTTP Request: POST https://api.anthropic.com/v1/messages \"HTTP/1.1 200 OK\"\n",
      "INFO:root:Processing single file: index.md\n",
      "INFO:root:Split index.md into 1 chunks using dynamic sizing\n",
      "INFO:root:Processing chunk 1/1 of index.md\n",
      "INFO:httpx:HTTP Request: POST https://api.anthropic.com/v1/messages \"HTTP/1.1 200 OK\"\n",
      "INFO:root:Processing single file: StructureDefinition-org-description.md\n",
      "INFO:root:Split StructureDefinition-org-description.md into 1 chunks using dynamic sizing\n",
      "INFO:root:Processing chunk 1/1 of StructureDefinition-org-description.md\n",
      "INFO:httpx:HTTP Request: POST https://api.anthropic.com/v1/messages \"HTTP/1.1 200 OK\"\n",
      "INFO:root:Processing single file: ValueSet-OrganizationAffiliationRoleVS.md\n",
      "INFO:root:Split ValueSet-OrganizationAffiliationRoleVS.md into 1 chunks using dynamic sizing\n",
      "INFO:root:Processing chunk 1/1 of ValueSet-OrganizationAffiliationRoleVS.md\n",
      "INFO:httpx:HTTP Request: POST https://api.anthropic.com/v1/messages \"HTTP/1.1 200 OK\"\n",
      "INFO:root:Processing single file: examples.md\n",
      "INFO:root:Split examples.md into 1 chunks using dynamic sizing\n",
      "INFO:root:Processing chunk 1/1 of examples.md\n",
      "INFO:httpx:HTTP Request: POST https://api.anthropic.com/v1/messages \"HTTP/1.1 200 OK\"\n",
      "INFO:root:Processing single file: StructureDefinition-location-reference.md\n",
      "INFO:root:Split StructureDefinition-location-reference.md into 1 chunks using dynamic sizing\n",
      "INFO:root:Processing chunk 1/1 of StructureDefinition-location-reference.md\n",
      "INFO:httpx:HTTP Request: POST https://api.anthropic.com/v1/messages \"HTTP/1.1 200 OK\"\n",
      "INFO:root:Processing single file: StructureDefinition-network-reference.md\n",
      "INFO:root:Split StructureDefinition-network-reference.md into 1 chunks using dynamic sizing\n",
      "INFO:root:Processing chunk 1/1 of StructureDefinition-network-reference.md\n",
      "INFO:httpx:HTTP Request: POST https://api.anthropic.com/v1/messages \"HTTP/1.1 200 OK\"\n",
      "INFO:root:Processing single file: ValueSet-EndpointUsecaseVS.md\n",
      "INFO:root:Split ValueSet-EndpointUsecaseVS.md into 1 chunks using dynamic sizing\n",
      "INFO:root:Processing chunk 1/1 of ValueSet-EndpointUsecaseVS.md\n",
      "INFO:httpx:HTTP Request: POST https://api.anthropic.com/v1/messages \"HTTP/1.1 200 OK\"\n",
      "INFO:root:Processing single file: ValueSet-PractitionerRoleVS.md\n",
      "INFO:root:Split ValueSet-PractitionerRoleVS.md into 1 chunks using dynamic sizing\n",
      "INFO:root:Processing chunk 1/1 of ValueSet-PractitionerRoleVS.md\n",
      "INFO:httpx:HTTP Request: POST https://api.anthropic.com/v1/messages \"HTTP/1.1 200 OK\"\n",
      "INFO:root:Processing single file: StructureDefinition-accessibility.md\n",
      "INFO:root:Split StructureDefinition-accessibility.md into 1 chunks using dynamic sizing\n",
      "INFO:root:Processing chunk 1/1 of StructureDefinition-accessibility.md\n",
      "INFO:httpx:HTTP Request: POST https://api.anthropic.com/v1/messages \"HTTP/1.1 200 OK\"\n",
      "INFO:root:Processing single file: Location-StateOfCTLocation.md\n",
      "INFO:root:Split Location-StateOfCTLocation.md into 1 chunks using dynamic sizing\n",
      "INFO:root:Processing chunk 1/1 of Location-StateOfCTLocation.md\n",
      "INFO:httpx:HTTP Request: POST https://api.anthropic.com/v1/messages \"HTTP/1.1 200 OK\"\n",
      "INFO:root:Processing single file: StructureDefinition-communication-proficiency.md\n",
      "INFO:root:Split StructureDefinition-communication-proficiency.md into 1 chunks using dynamic sizing\n",
      "INFO:root:Processing chunk 1/1 of StructureDefinition-communication-proficiency.md\n",
      "INFO:httpx:HTTP Request: POST https://api.anthropic.com/v1/messages \"HTTP/1.1 200 OK\"\n",
      "INFO:root:Processing single file: StructureDefinition-via-intermediary.md\n",
      "INFO:root:Split StructureDefinition-via-intermediary.md into 1 chunks using dynamic sizing\n",
      "INFO:root:Processing chunk 1/1 of StructureDefinition-via-intermediary.md\n",
      "INFO:httpx:HTTP Request: POST https://api.anthropic.com/v1/messages \"HTTP/1.1 200 OK\"\n",
      "INFO:root:Processing single file: StructureDefinition-endpoint-usecase-definitions.md\n",
      "INFO:root:Split StructureDefinition-endpoint-usecase-definitions.md into 1 chunks using dynamic sizing\n",
      "INFO:root:Processing chunk 1/1 of StructureDefinition-endpoint-usecase-definitions.md\n",
      "INFO:httpx:HTTP Request: POST https://api.anthropic.com/v1/messages \"HTTP/1.1 200 OK\"\n",
      "INFO:root:Processing single file: StructureDefinition-delivery-method-definitions.md\n",
      "INFO:root:Split StructureDefinition-delivery-method-definitions.md into 1 chunks using dynamic sizing\n",
      "INFO:root:Processing chunk 1/1 of StructureDefinition-delivery-method-definitions.md\n",
      "INFO:httpx:HTTP Request: POST https://api.anthropic.com/v1/messages \"HTTP/1.1 200 OK\"\n",
      "INFO:root:Processing single file: implementation.md\n",
      "INFO:root:Split implementation.md into 1 chunks using dynamic sizing\n",
      "INFO:root:Processing chunk 1/1 of implementation.md\n",
      "INFO:httpx:HTTP Request: POST https://api.anthropic.com/v1/messages \"HTTP/1.1 200 OK\"\n",
      "INFO:root:Processing single file: ValueSet-HealthcareServiceTypeVS.md\n",
      "INFO:root:Split ValueSet-HealthcareServiceTypeVS.md into 1 chunks using dynamic sizing\n",
      "INFO:root:Processing chunk 1/1 of ValueSet-HealthcareServiceTypeVS.md\n",
      "INFO:httpx:HTTP Request: POST https://api.anthropic.com/v1/messages \"HTTP/1.1 200 OK\"\n",
      "INFO:root:Processing single file: StructureDefinition-practitioner-qualification-definitions.md\n",
      "INFO:root:Split StructureDefinition-practitioner-qualification-definitions.md into 1 chunks using dynamic sizing\n",
      "INFO:root:Processing chunk 1/1 of StructureDefinition-practitioner-qualification-definitions.md\n",
      "INFO:httpx:HTTP Request: POST https://api.anthropic.com/v1/messages \"HTTP/1.1 200 OK\"\n",
      "INFO:root:Processing single file: StructureDefinition-newpatients-definitions.md\n",
      "INFO:root:Split StructureDefinition-newpatients-definitions.md into 1 chunks using dynamic sizing\n",
      "INFO:root:Processing chunk 1/1 of StructureDefinition-newpatients-definitions.md\n",
      "INFO:httpx:HTTP Request: POST https://api.anthropic.com/v1/messages \"HTTP/1.1 200 OK\"\n",
      "INFO:root:Processing single file: toc.md\n",
      "INFO:root:Split toc.md into 1 chunks using dynamic sizing\n",
      "INFO:root:Processing chunk 1/1 of toc.md\n",
      "INFO:httpx:HTTP Request: POST https://api.anthropic.com/v1/messages \"HTTP/1.1 200 OK\"\n",
      "INFO:root:Processing single file: StructureDefinition-endpoint-usecase.md\n",
      "INFO:root:Split StructureDefinition-endpoint-usecase.md into 1 chunks using dynamic sizing\n",
      "INFO:root:Processing chunk 1/1 of StructureDefinition-endpoint-usecase.md\n",
      "INFO:httpx:HTTP Request: POST https://api.anthropic.com/v1/messages \"HTTP/1.1 200 OK\"\n",
      "INFO:root:Processing single file: ValueSet-NonIndividualSpecialtiesVS.md\n",
      "INFO:root:Split ValueSet-NonIndividualSpecialtiesVS.md into 1 chunks using dynamic sizing\n",
      "INFO:root:Processing chunk 1/1 of ValueSet-NonIndividualSpecialtiesVS.md\n",
      "INFO:httpx:HTTP Request: POST https://api.anthropic.com/v1/messages \"HTTP/1.1 200 OK\"\n",
      "INFO:root:Processing single file: StructureDefinition-contactpoint-availabletime-definitions.md\n",
      "INFO:root:Split StructureDefinition-contactpoint-availabletime-definitions.md into 1 chunks using dynamic sizing\n",
      "INFO:root:Processing chunk 1/1 of StructureDefinition-contactpoint-availabletime-definitions.md\n",
      "INFO:httpx:HTTP Request: POST https://api.anthropic.com/v1/messages \"HTTP/1.1 200 OK\"\n",
      "INFO:root:Processing single file: StructureDefinition-delivery-method.md\n",
      "INFO:root:Split StructureDefinition-delivery-method.md into 1 chunks using dynamic sizing\n",
      "INFO:root:Processing chunk 1/1 of StructureDefinition-delivery-method.md\n",
      "INFO:httpx:HTTP Request: POST https://api.anthropic.com/v1/messages \"HTTP/1.1 200 OK\"\n",
      "INFO:root:Processing single file: StructureDefinition-practitioner-qualification.md\n",
      "INFO:root:Split StructureDefinition-practitioner-qualification.md into 1 chunks using dynamic sizing\n",
      "INFO:root:Processing chunk 1/1 of StructureDefinition-practitioner-qualification.md\n",
      "INFO:httpx:HTTP Request: POST https://api.anthropic.com/v1/messages \"HTTP/1.1 200 OK\"\n",
      "INFO:root:Processing single file: StructureDefinition-newpatients.md\n",
      "INFO:root:Split StructureDefinition-newpatients.md into 1 chunks using dynamic sizing\n",
      "INFO:root:Processing chunk 1/1 of StructureDefinition-newpatients.md\n",
      "INFO:httpx:HTTP Request: POST https://api.anthropic.com/v1/messages \"HTTP/1.1 200 OK\"\n",
      "INFO:root:Processing single file: CapabilityStatement-plan-net.md\n",
      "INFO:root:Split CapabilityStatement-plan-net.md into 1 chunks using dynamic sizing\n",
      "INFO:root:Processing chunk 1/1 of CapabilityStatement-plan-net.md\n",
      "INFO:httpx:HTTP Request: POST https://api.anthropic.com/v1/messages \"HTTP/1.1 200 OK\"\n",
      "INFO:root:Processing single file: CapabilityStatement_plan_net.md\n",
      "INFO:root:Split CapabilityStatement_plan_net.md into 1 chunks using dynamic sizing\n",
      "INFO:root:Processing chunk 1/1 of CapabilityStatement_plan_net.md\n",
      "INFO:httpx:HTTP Request: POST https://api.anthropic.com/v1/messages \"HTTP/1.1 200 OK\"\n",
      "INFO:root:Processing single file: StructureDefinition-qualification-definitions.md\n",
      "INFO:root:Split StructureDefinition-qualification-definitions.md into 1 chunks using dynamic sizing\n",
      "INFO:root:Processing chunk 1/1 of StructureDefinition-qualification-definitions.md\n",
      "INFO:httpx:HTTP Request: POST https://api.anthropic.com/v1/messages \"HTTP/1.1 200 OK\"\n",
      "INFO:root:Processing single file: ValueSet-NonIndividualSpecialtyAndDegreeLicenseCertificateVS.md\n",
      "INFO:root:Split ValueSet-NonIndividualSpecialtyAndDegreeLicenseCertificateVS.md into 1 chunks using dynamic sizing\n",
      "INFO:root:Processing chunk 1/1 of ValueSet-NonIndividualSpecialtyAndDegreeLicenseCertificateVS.md\n",
      "INFO:httpx:HTTP Request: POST https://api.anthropic.com/v1/messages \"HTTP/1.1 200 OK\"\n",
      "INFO:root:Processing single file: StructureDefinition-contactpoint-availabletime.md\n",
      "INFO:root:Split StructureDefinition-contactpoint-availabletime.md into 1 chunks using dynamic sizing\n",
      "INFO:root:Processing chunk 1/1 of StructureDefinition-contactpoint-availabletime.md\n",
      "INFO:httpx:HTTP Request: POST https://api.anthropic.com/v1/messages \"HTTP/1.1 200 OK\"\n",
      "INFO:root:Processing single file: artifacts.md\n",
      "INFO:root:Split artifacts.md into 1 chunks using dynamic sizing\n",
      "INFO:root:Processing chunk 1/1 of artifacts.md\n",
      "INFO:httpx:HTTP Request: POST https://api.anthropic.com/v1/messages \"HTTP/1.1 200 OK\"\n",
      "INFO:root:Processing single file: StructureDefinition-plannet-Endpoint-definitions.md\n",
      "INFO:root:Split StructureDefinition-plannet-Endpoint-definitions.md into 1 chunks using dynamic sizing\n",
      "INFO:root:Processing chunk 1/1 of StructureDefinition-plannet-Endpoint-definitions.md\n",
      "INFO:httpx:HTTP Request: POST https://api.anthropic.com/v1/messages \"HTTP/1.1 200 OK\"\n",
      "INFO:root:Processing single file: StructureDefinition-qualification.md\n",
      "INFO:root:Split StructureDefinition-qualification.md into 1 chunks using dynamic sizing\n",
      "INFO:root:Processing chunk 1/1 of StructureDefinition-qualification.md\n",
      "INFO:httpx:HTTP Request: POST https://api.anthropic.com/v1/messages \"HTTP/1.1 200 OK\"\n",
      "INFO:root:Processing single file: StructureDefinition-plannet-OrganizationAffiliation-definitions.md\n",
      "INFO:root:Split StructureDefinition-plannet-OrganizationAffiliation-definitions.md into 1 chunks using dynamic sizing\n",
      "INFO:root:Processing chunk 1/1 of StructureDefinition-plannet-OrganizationAffiliation-definitions.md\n",
      "INFO:httpx:HTTP Request: POST https://api.anthropic.com/v1/messages \"HTTP/1.1 200 OK\"\n",
      "INFO:root:Processing single file: ValueSet-SpecialtiesVS.md\n",
      "INFO:root:Split ValueSet-SpecialtiesVS.md into 1 chunks using dynamic sizing\n",
      "INFO:root:Processing chunk 1/1 of ValueSet-SpecialtiesVS.md\n",
      "INFO:httpx:HTTP Request: POST https://api.anthropic.com/v1/messages \"HTTP/1.1 200 OK\"\n",
      "INFO:root:Processing single file: StructureDefinition-plannet-Endpoint.md\n",
      "INFO:root:Split StructureDefinition-plannet-Endpoint.md into 1 chunks using dynamic sizing\n",
      "INFO:root:Processing chunk 1/1 of StructureDefinition-plannet-Endpoint.md\n",
      "INFO:httpx:HTTP Request: POST https://api.anthropic.com/v1/messages \"HTTP/1.1 200 OK\"\n",
      "INFO:root:Processing single file: StructureDefinition-plannet-Network-definitions.md\n",
      "INFO:root:Split StructureDefinition-plannet-Network-definitions.md into 1 chunks using dynamic sizing\n",
      "INFO:root:Processing chunk 1/1 of StructureDefinition-plannet-Network-definitions.md\n",
      "INFO:httpx:HTTP Request: POST https://api.anthropic.com/v1/messages \"HTTP/1.1 200 OK\"\n",
      "INFO:root:Processing single file: ValueSet-IndividualAndGroupSpecialtiesVS.md\n",
      "INFO:root:Split ValueSet-IndividualAndGroupSpecialtiesVS.md into 1 chunks using dynamic sizing\n",
      "INFO:root:Processing chunk 1/1 of ValueSet-IndividualAndGroupSpecialtiesVS.md\n",
      "INFO:httpx:HTTP Request: POST https://api.anthropic.com/v1/messages \"HTTP/1.1 200 OK\"\n",
      "INFO:root:Processing single file: StructureDefinition-plannet-HealthcareService-definitions.md\n",
      "INFO:root:Split StructureDefinition-plannet-HealthcareService-definitions.md into 1 chunks using dynamic sizing\n",
      "INFO:root:Processing chunk 1/1 of StructureDefinition-plannet-HealthcareService-definitions.md\n",
      "INFO:httpx:HTTP Request: POST https://api.anthropic.com/v1/messages \"HTTP/1.1 200 OK\"\n",
      "INFO:root:Processing single file: StructureDefinition-plannet-Location-definitions.md\n",
      "INFO:root:Split StructureDefinition-plannet-Location-definitions.md into 1 chunks using dynamic sizing\n",
      "INFO:root:Processing chunk 1/1 of StructureDefinition-plannet-Location-definitions.md\n",
      "INFO:httpx:HTTP Request: POST https://api.anthropic.com/v1/messages \"HTTP/1.1 200 OK\"\n",
      "INFO:root:Processing single file: ValueSet-IndividualSpecialtyAndDegreeLicenseCertificateVS.md\n",
      "INFO:root:Split ValueSet-IndividualSpecialtyAndDegreeLicenseCertificateVS.md into 1 chunks using dynamic sizing\n",
      "INFO:root:Processing chunk 1/1 of ValueSet-IndividualSpecialtyAndDegreeLicenseCertificateVS.md\n",
      "INFO:httpx:HTTP Request: POST https://api.anthropic.com/v1/messages \"HTTP/1.1 200 OK\"\n",
      "INFO:root:Processing single file: StructureDefinition-plannet-Practitioner-definitions.md\n",
      "INFO:root:Split StructureDefinition-plannet-Practitioner-definitions.md into 1 chunks using dynamic sizing\n",
      "INFO:root:Processing chunk 1/1 of StructureDefinition-plannet-Practitioner-definitions.md\n",
      "INFO:httpx:HTTP Request: POST https://api.anthropic.com/v1/messages \"HTTP/1.1 200 OK\"\n",
      "INFO:root:Processing single file: StructureDefinition-plannet-Organization-definitions.md\n",
      "INFO:root:Split StructureDefinition-plannet-Organization-definitions.md into 1 chunks using dynamic sizing\n",
      "INFO:root:Processing chunk 1/1 of StructureDefinition-plannet-Organization-definitions.md\n",
      "INFO:httpx:HTTP Request: POST https://api.anthropic.com/v1/messages \"HTTP/1.1 200 OK\"\n",
      "INFO:root:Processing single file: StructureDefinition-plannet-OrganizationAffiliation.md\n",
      "INFO:root:Split StructureDefinition-plannet-OrganizationAffiliation.md into 1 chunks using dynamic sizing\n",
      "INFO:root:Processing chunk 1/1 of StructureDefinition-plannet-OrganizationAffiliation.md\n",
      "INFO:httpx:HTTP Request: POST https://api.anthropic.com/v1/messages \"HTTP/1.1 200 OK\"\n",
      "INFO:root:Processing single file: StructureDefinition-plannet-PractitionerRole-definitions.md\n",
      "INFO:root:Split StructureDefinition-plannet-PractitionerRole-definitions.md into 1 chunks using dynamic sizing\n",
      "INFO:root:Processing chunk 1/1 of StructureDefinition-plannet-PractitionerRole-definitions.md\n",
      "INFO:httpx:HTTP Request: POST https://api.anthropic.com/v1/messages \"HTTP/1.1 200 OK\"\n",
      "INFO:root:Processing single file: ValueSet-SpecialtyAndDegreeLicenseCertificateVS.md\n",
      "INFO:root:Split ValueSet-SpecialtyAndDegreeLicenseCertificateVS.md into 1 chunks using dynamic sizing\n",
      "INFO:root:Processing chunk 1/1 of ValueSet-SpecialtyAndDegreeLicenseCertificateVS.md\n",
      "INFO:httpx:HTTP Request: POST https://api.anthropic.com/v1/messages \"HTTP/1.1 200 OK\"\n",
      "INFO:root:Processing single file: StructureDefinition-plannet-Network.md\n",
      "INFO:root:Split StructureDefinition-plannet-Network.md into 1 chunks using dynamic sizing\n",
      "INFO:root:Processing chunk 1/1 of StructureDefinition-plannet-Network.md\n",
      "INFO:httpx:HTTP Request: POST https://api.anthropic.com/v1/messages \"HTTP/1.1 200 OK\"\n",
      "INFO:root:Processing single file: StructureDefinition-plannet-InsurancePlan-definitions.md\n",
      "INFO:root:Split StructureDefinition-plannet-InsurancePlan-definitions.md into 1 chunks using dynamic sizing\n",
      "INFO:root:Processing chunk 1/1 of StructureDefinition-plannet-InsurancePlan-definitions.md\n",
      "INFO:httpx:HTTP Request: POST https://api.anthropic.com/v1/messages \"HTTP/1.1 200 OK\"\n",
      "INFO:root:Processing single file: StructureDefinition-plannet-Practitioner.md\n",
      "INFO:root:Split StructureDefinition-plannet-Practitioner.md into 1 chunks using dynamic sizing\n",
      "INFO:root:Processing chunk 1/1 of StructureDefinition-plannet-Practitioner.md\n",
      "INFO:httpx:HTTP Request: POST https://api.anthropic.com/v1/messages \"HTTP/1.1 200 OK\"\n",
      "INFO:root:Processing single file: StructureDefinition-plannet-Location.md\n",
      "INFO:root:Split StructureDefinition-plannet-Location.md into 1 chunks using dynamic sizing\n",
      "INFO:root:Processing chunk 1/1 of StructureDefinition-plannet-Location.md\n",
      "INFO:httpx:HTTP Request: POST https://api.anthropic.com/v1/messages \"HTTP/1.1 200 OK\"\n",
      "INFO:root:Processing single file: StructureDefinition-plannet-Organization.md\n",
      "INFO:root:Split StructureDefinition-plannet-Organization.md into 1 chunks using dynamic sizing\n",
      "INFO:root:Processing chunk 1/1 of StructureDefinition-plannet-Organization.md\n",
      "INFO:httpx:HTTP Request: POST https://api.anthropic.com/v1/messages \"HTTP/1.1 200 OK\"\n",
      "INFO:root:Processing single file: StructureDefinition-plannet-HealthcareService.md\n",
      "INFO:root:Split StructureDefinition-plannet-HealthcareService.md into 1 chunks using dynamic sizing\n",
      "INFO:root:Processing chunk 1/1 of StructureDefinition-plannet-HealthcareService.md\n",
      "INFO:httpx:HTTP Request: POST https://api.anthropic.com/v1/messages \"HTTP/1.1 200 OK\"\n",
      "INFO:root:Processing single file: StructureDefinition-plannet-PractitionerRole.md\n",
      "INFO:root:Split StructureDefinition-plannet-PractitionerRole.md into 1 chunks using dynamic sizing\n",
      "INFO:root:Processing chunk 1/1 of StructureDefinition-plannet-PractitionerRole.md\n",
      "INFO:httpx:HTTP Request: POST https://api.anthropic.com/v1/messages \"HTTP/1.1 200 OK\"\n",
      "INFO:root:Processing single file: StructureDefinition-plannet-InsurancePlan.md\n",
      "INFO:root:Split StructureDefinition-plannet-InsurancePlan.md into 1 chunks using dynamic sizing\n",
      "INFO:root:Processing chunk 1/1 of StructureDefinition-plannet-InsurancePlan.md\n",
      "INFO:httpx:HTTP Request: POST https://api.anthropic.com/v1/messages \"HTTP/1.1 200 OK\"\n",
      "INFO:root:Completed processing 242 files\n",
      "INFO:root:Generated requirements document saved to checkpoints/requirements_extraction/markdown/plan-net/claude_reqs_list_v1_20250806_150005.md\n"
     ]
    },
    {
     "name": "stdout",
     "output_type": "stream",
     "text": [
      "\n",
      "================================================================================\n",
      "Processing complete!\n",
      "Generated requirements document: checkpoints/requirements_extraction/markdown/plan-net/claude_reqs_list_v1_20250806_150005.md\n",
      "Processed 242 files\n",
      "================================================================================\n"
     ]
    }
   ],
   "source": [
    "reqs_extraction.run_requirements_extractor(\n",
    "    '/Users/ceadams/Documents/onclaive/onclaive/full-ig/markdown_cleaned', \n",
    "    'checkpoints/requirements_extraction/markdown/plan-net', \n",
    "    'claude', \n",
    "    llm_clients)"
   ]
  },
  {
   "cell_type": "markdown",
   "id": "47056998",
   "metadata": {},
   "source": [
    "## Requirement Refinement with LLM"
   ]
  },
  {
   "cell_type": "code",
   "execution_count": 24,
   "id": "547fa2a7",
   "metadata": {},
   "outputs": [
    {
     "data": {
      "text/plain": [
       "<module 'reqs_reviewer' from '/Users/ceadams/Documents/onclaive/onclaive/pipeline/reqs_reviewer.py'>"
      ]
     },
     "execution_count": 24,
     "metadata": {},
     "output_type": "execute_result"
    }
   ],
   "source": [
    "import reqs_reviewer\n",
    "importlib.reload(reqs_reviewer)"
   ]
  },
  {
   "cell_type": "code",
   "execution_count": 31,
   "id": "687e4667",
   "metadata": {},
   "outputs": [
    {
     "name": "stderr",
     "output_type": "stream",
     "text": [
      "INFO:root:Prompt environment set up at: /Users/ceadams/Documents/onclaive/onclaive/prompts\n",
      "INFO:root:Starting requirements refinement with gpt\n",
      "INFO:root:Original requirements count: 399\n",
      "INFO:root:Input size: 189679 characters, ~41931 tokens\n",
      "INFO:root:Sending requirements to gpt for refinement...\n",
      "INFO:root:Estimated input tokens: 42399\n",
      "INFO:root:API input limit: 120000\n",
      "INFO:root:API output limit: 8192\n",
      "INFO:httpx:HTTP Request: POST https://api.openai.com/v1/chat/completions \"HTTP/1.1 200 OK\"\n",
      "WARNING:root:Large reduction in requirements count (from 399 to 52). Verify this is expected.\n",
      "INFO:root:Requirements refinement complete. Output saved to: checkpoints/revised_reqs_extraction/gpt_reqs_list_v2_20250805_150029.md\n",
      "INFO:root:Refined 399 -> 52 requirements\n",
      "INFO:root:Output size: 18828 characters, ~4449 tokens\n"
     ]
    },
    {
     "name": "stdout",
     "output_type": "stream",
     "text": [
      "WARNING: Large reduction in requirements count (from 399 to 52). Verify this is expected.\n",
      "✅ Refined requirements saved to: checkpoints/revised_reqs_extraction/gpt_reqs_list_v2_20250805_150029.md\n",
      "📊 399 → 52 requirements\n",
      "⚠️  Warnings:\n",
      "  - Large reduction in requirements count (from 399 to 52). Verify this is expected.\n"
     ]
    }
   ],
   "source": [
    "# Manual refinement with specific file\n",
    "refinement_result = reqs_reviewer.refine_requirements(\n",
    "    input_file=\"checkpoints/requirements_extraction/markdown/plan-net/claude_reqs_list_v1_20250805_133030.md\",\n",
    "    api_type=\"gpt\",\n",
    "    output_dir=\"checkpoints/revised_reqs_extraction\",\n",
    "    llm_client_instance=llm_clients\n",
    ")\n",
    "\n",
    "print(f\"✅ Refined requirements saved to: {refinement_result['output_file']}\")\n",
    "print(f\"📊 {refinement_result['original_requirements_count']} → {refinement_result['requirements_count']} requirements\")\n",
    "\n",
    "if refinement_result.get('warnings'):\n",
    "    print(\"⚠️  Warnings:\")\n",
    "    for warning in refinement_result['warnings']:\n",
    "        print(f\"  - {warning}\")"
   ]
  },
  {
   "cell_type": "code",
   "execution_count": null,
   "id": "790dfbb7",
   "metadata": {},
   "outputs": [],
   "source": [
    "# Interactive refinement\n",
    "refinement_result = reqs_reviewer.run_interactive_refinement()"
   ]
  },
  {
   "cell_type": "markdown",
   "id": "0b2ccc40",
   "metadata": {},
   "source": [
    "## Requirement Downselection"
   ]
  },
  {
   "cell_type": "code",
   "execution_count": 41,
   "id": "78226f35",
   "metadata": {},
   "outputs": [
    {
     "name": "stderr",
     "output_type": "stream",
     "text": [
      "/Users/ceadams/Documents/onclaive/onclaive/pipeline/requirement_downselect.py:23: SyntaxWarning: invalid escape sequence '\\*'\n",
      "  headings = list(re.finditer(\"\\*\\*\\w+\\*\\*\\:\", split))\n",
      "INFO:sentence_transformers.SentenceTransformer:Use pytorch device_name: mps\n",
      "INFO:sentence_transformers.SentenceTransformer:Load pretrained SentenceTransformer: all-mpnet-base-v2\n"
     ]
    },
    {
     "data": {
      "application/vnd.jupyter.widget-view+json": {
       "model_id": "57886692028a417bbe31cb473d162371",
       "version_major": 2,
       "version_minor": 0
      },
      "text/plain": [
       "Batches:   0%|          | 0/1 [00:00<?, ?it/s]"
      ]
     },
     "metadata": {},
     "output_type": "display_data"
    },
    {
     "data": {
      "application/vnd.jupyter.widget-view+json": {
       "model_id": "bf0bfd1fb8db4da39717ca729c274810",
       "version_major": 2,
       "version_minor": 0
      },
      "text/plain": [
       "Batches:   0%|          | 0/1 [00:00<?, ?it/s]"
      ]
     },
     "metadata": {},
     "output_type": "display_data"
    },
    {
     "data": {
      "application/vnd.jupyter.widget-view+json": {
       "model_id": "53e6ce24dae340c28f8421605505ed83",
       "version_major": 2,
       "version_minor": 0
      },
      "text/plain": [
       "Batches:   0%|          | 0/1 [00:00<?, ?it/s]"
      ]
     },
     "metadata": {},
     "output_type": "display_data"
    },
    {
     "data": {
      "application/vnd.jupyter.widget-view+json": {
       "model_id": "297270bfcd33411690f7746da4795e28",
       "version_major": 2,
       "version_minor": 0
      },
      "text/plain": [
       "Batches:   0%|          | 0/1 [00:00<?, ?it/s]"
      ]
     },
     "metadata": {},
     "output_type": "display_data"
    },
    {
     "data": {
      "application/vnd.jupyter.widget-view+json": {
       "model_id": "20f83777a88e473b984db36a9f3dca89",
       "version_major": 2,
       "version_minor": 0
      },
      "text/plain": [
       "Batches:   0%|          | 0/1 [00:00<?, ?it/s]"
      ]
     },
     "metadata": {},
     "output_type": "display_data"
    },
    {
     "data": {
      "application/vnd.jupyter.widget-view+json": {
       "model_id": "4ce8dc7e84b54c26811c87a9e2807c30",
       "version_major": 2,
       "version_minor": 0
      },
      "text/plain": [
       "Batches:   0%|          | 0/1 [00:00<?, ?it/s]"
      ]
     },
     "metadata": {},
     "output_type": "display_data"
    },
    {
     "data": {
      "application/vnd.jupyter.widget-view+json": {
       "model_id": "1544dfe68add4701b5422ea2becd1407",
       "version_major": 2,
       "version_minor": 0
      },
      "text/plain": [
       "Batches:   0%|          | 0/1 [00:00<?, ?it/s]"
      ]
     },
     "metadata": {},
     "output_type": "display_data"
    },
    {
     "data": {
      "application/vnd.jupyter.widget-view+json": {
       "model_id": "d0734c7c87b74fb7a1c5c2db0d5f2550",
       "version_major": 2,
       "version_minor": 0
      },
      "text/plain": [
       "Batches:   0%|          | 0/1 [00:00<?, ?it/s]"
      ]
     },
     "metadata": {},
     "output_type": "display_data"
    },
    {
     "data": {
      "application/vnd.jupyter.widget-view+json": {
       "model_id": "d4b2dad613314b4a9ca3ef3b9d5ae877",
       "version_major": 2,
       "version_minor": 0
      },
      "text/plain": [
       "Batches:   0%|          | 0/1 [00:00<?, ?it/s]"
      ]
     },
     "metadata": {},
     "output_type": "display_data"
    },
    {
     "data": {
      "application/vnd.jupyter.widget-view+json": {
       "model_id": "b2adaca9213c4d019c8be94934bcee59",
       "version_major": 2,
       "version_minor": 0
      },
      "text/plain": [
       "Batches:   0%|          | 0/1 [00:00<?, ?it/s]"
      ]
     },
     "metadata": {},
     "output_type": "display_data"
    },
    {
     "data": {
      "application/vnd.jupyter.widget-view+json": {
       "model_id": "18a836f72e4a4f1f8c84488bc29f455b",
       "version_major": 2,
       "version_minor": 0
      },
      "text/plain": [
       "Batches:   0%|          | 0/1 [00:00<?, ?it/s]"
      ]
     },
     "metadata": {},
     "output_type": "display_data"
    },
    {
     "data": {
      "application/vnd.jupyter.widget-view+json": {
       "model_id": "eee85d107572449c997a353f84bc7b74",
       "version_major": 2,
       "version_minor": 0
      },
      "text/plain": [
       "Batches:   0%|          | 0/1 [00:00<?, ?it/s]"
      ]
     },
     "metadata": {},
     "output_type": "display_data"
    },
    {
     "data": {
      "application/vnd.jupyter.widget-view+json": {
       "model_id": "97763c1aa59a499397618c97905ce6bc",
       "version_major": 2,
       "version_minor": 0
      },
      "text/plain": [
       "Batches:   0%|          | 0/1 [00:00<?, ?it/s]"
      ]
     },
     "metadata": {},
     "output_type": "display_data"
    },
    {
     "data": {
      "application/vnd.jupyter.widget-view+json": {
       "model_id": "bf151ba756d44c90b5225e2cfafd9857",
       "version_major": 2,
       "version_minor": 0
      },
      "text/plain": [
       "Batches:   0%|          | 0/1 [00:00<?, ?it/s]"
      ]
     },
     "metadata": {},
     "output_type": "display_data"
    },
    {
     "data": {
      "application/vnd.jupyter.widget-view+json": {
       "model_id": "c71971c9ebe64d6c8b4fe98c92e2fcb4",
       "version_major": 2,
       "version_minor": 0
      },
      "text/plain": [
       "Batches:   0%|          | 0/1 [00:00<?, ?it/s]"
      ]
     },
     "metadata": {},
     "output_type": "display_data"
    },
    {
     "data": {
      "application/vnd.jupyter.widget-view+json": {
       "model_id": "1e1bdaeab99e45e3bd2c794dea5ba48c",
       "version_major": 2,
       "version_minor": 0
      },
      "text/plain": [
       "Batches:   0%|          | 0/1 [00:00<?, ?it/s]"
      ]
     },
     "metadata": {},
     "output_type": "display_data"
    },
    {
     "data": {
      "application/vnd.jupyter.widget-view+json": {
       "model_id": "1bb1e97e8efb49a99feec159dc1e6cd7",
       "version_major": 2,
       "version_minor": 0
      },
      "text/plain": [
       "Batches:   0%|          | 0/1 [00:00<?, ?it/s]"
      ]
     },
     "metadata": {},
     "output_type": "display_data"
    },
    {
     "data": {
      "application/vnd.jupyter.widget-view+json": {
       "model_id": "84b873487f0e4c0588c2d82ce9f07ef4",
       "version_major": 2,
       "version_minor": 0
      },
      "text/plain": [
       "Batches:   0%|          | 0/1 [00:00<?, ?it/s]"
      ]
     },
     "metadata": {},
     "output_type": "display_data"
    },
    {
     "data": {
      "application/vnd.jupyter.widget-view+json": {
       "model_id": "b5066eb743394681991d7c279428b273",
       "version_major": 2,
       "version_minor": 0
      },
      "text/plain": [
       "Batches:   0%|          | 0/1 [00:00<?, ?it/s]"
      ]
     },
     "metadata": {},
     "output_type": "display_data"
    },
    {
     "data": {
      "application/vnd.jupyter.widget-view+json": {
       "model_id": "61ff85bd644c4e7abd9b3a1458dbadf5",
       "version_major": 2,
       "version_minor": 0
      },
      "text/plain": [
       "Batches:   0%|          | 0/1 [00:00<?, ?it/s]"
      ]
     },
     "metadata": {},
     "output_type": "display_data"
    },
    {
     "data": {
      "application/vnd.jupyter.widget-view+json": {
       "model_id": "0714185e7ab14c7aa84f821326e7c196",
       "version_major": 2,
       "version_minor": 0
      },
      "text/plain": [
       "Batches:   0%|          | 0/1 [00:00<?, ?it/s]"
      ]
     },
     "metadata": {},
     "output_type": "display_data"
    },
    {
     "data": {
      "application/vnd.jupyter.widget-view+json": {
       "model_id": "94650af4ed7a4c0ebdfc98f6c21613aa",
       "version_major": 2,
       "version_minor": 0
      },
      "text/plain": [
       "Batches:   0%|          | 0/1 [00:00<?, ?it/s]"
      ]
     },
     "metadata": {},
     "output_type": "display_data"
    },
    {
     "data": {
      "application/vnd.jupyter.widget-view+json": {
       "model_id": "2b1761e8558a4ad7bcb83d2d1b202dfe",
       "version_major": 2,
       "version_minor": 0
      },
      "text/plain": [
       "Batches:   0%|          | 0/1 [00:00<?, ?it/s]"
      ]
     },
     "metadata": {},
     "output_type": "display_data"
    },
    {
     "data": {
      "application/vnd.jupyter.widget-view+json": {
       "model_id": "2e5adffea9e3477bb1b4959da4b84d99",
       "version_major": 2,
       "version_minor": 0
      },
      "text/plain": [
       "Batches:   0%|          | 0/1 [00:00<?, ?it/s]"
      ]
     },
     "metadata": {},
     "output_type": "display_data"
    },
    {
     "data": {
      "application/vnd.jupyter.widget-view+json": {
       "model_id": "c2aba7ecbec34973a23626423986a261",
       "version_major": 2,
       "version_minor": 0
      },
      "text/plain": [
       "Batches:   0%|          | 0/1 [00:00<?, ?it/s]"
      ]
     },
     "metadata": {},
     "output_type": "display_data"
    },
    {
     "data": {
      "application/vnd.jupyter.widget-view+json": {
       "model_id": "1051617baea04533b9c15eec4ad9e182",
       "version_major": 2,
       "version_minor": 0
      },
      "text/plain": [
       "Batches:   0%|          | 0/1 [00:00<?, ?it/s]"
      ]
     },
     "metadata": {},
     "output_type": "display_data"
    },
    {
     "data": {
      "application/vnd.jupyter.widget-view+json": {
       "model_id": "00ec35c6365c468595ed72cb73bd8013",
       "version_major": 2,
       "version_minor": 0
      },
      "text/plain": [
       "Batches:   0%|          | 0/1 [00:00<?, ?it/s]"
      ]
     },
     "metadata": {},
     "output_type": "display_data"
    },
    {
     "data": {
      "application/vnd.jupyter.widget-view+json": {
       "model_id": "000d4c7c8f2043a5baa671f7485edfe7",
       "version_major": 2,
       "version_minor": 0
      },
      "text/plain": [
       "Batches:   0%|          | 0/1 [00:00<?, ?it/s]"
      ]
     },
     "metadata": {},
     "output_type": "display_data"
    },
    {
     "data": {
      "application/vnd.jupyter.widget-view+json": {
       "model_id": "83115a8effbd402a88346705410f3758",
       "version_major": 2,
       "version_minor": 0
      },
      "text/plain": [
       "Batches:   0%|          | 0/1 [00:00<?, ?it/s]"
      ]
     },
     "metadata": {},
     "output_type": "display_data"
    },
    {
     "data": {
      "application/vnd.jupyter.widget-view+json": {
       "model_id": "b2329be417164519a13305318152c1f7",
       "version_major": 2,
       "version_minor": 0
      },
      "text/plain": [
       "Batches:   0%|          | 0/1 [00:00<?, ?it/s]"
      ]
     },
     "metadata": {},
     "output_type": "display_data"
    },
    {
     "data": {
      "application/vnd.jupyter.widget-view+json": {
       "model_id": "4127ade04a6a46c7b253131e36ae61bb",
       "version_major": 2,
       "version_minor": 0
      },
      "text/plain": [
       "Batches:   0%|          | 0/1 [00:00<?, ?it/s]"
      ]
     },
     "metadata": {},
     "output_type": "display_data"
    },
    {
     "data": {
      "application/vnd.jupyter.widget-view+json": {
       "model_id": "ab1039db40c644558a85957d7740161d",
       "version_major": 2,
       "version_minor": 0
      },
      "text/plain": [
       "Batches:   0%|          | 0/1 [00:00<?, ?it/s]"
      ]
     },
     "metadata": {},
     "output_type": "display_data"
    },
    {
     "data": {
      "application/vnd.jupyter.widget-view+json": {
       "model_id": "ae7123b74bf74118b4009b0cc61f1790",
       "version_major": 2,
       "version_minor": 0
      },
      "text/plain": [
       "Batches:   0%|          | 0/1 [00:00<?, ?it/s]"
      ]
     },
     "metadata": {},
     "output_type": "display_data"
    },
    {
     "data": {
      "application/vnd.jupyter.widget-view+json": {
       "model_id": "3fa40b519bd445a39733c0d1bae01c29",
       "version_major": 2,
       "version_minor": 0
      },
      "text/plain": [
       "Batches:   0%|          | 0/1 [00:00<?, ?it/s]"
      ]
     },
     "metadata": {},
     "output_type": "display_data"
    },
    {
     "data": {
      "application/vnd.jupyter.widget-view+json": {
       "model_id": "e44729974b984a21ab88c29bc8065bd8",
       "version_major": 2,
       "version_minor": 0
      },
      "text/plain": [
       "Batches:   0%|          | 0/1 [00:00<?, ?it/s]"
      ]
     },
     "metadata": {},
     "output_type": "display_data"
    },
    {
     "data": {
      "application/vnd.jupyter.widget-view+json": {
       "model_id": "1cd31e940545452995507f2571453788",
       "version_major": 2,
       "version_minor": 0
      },
      "text/plain": [
       "Batches:   0%|          | 0/1 [00:00<?, ?it/s]"
      ]
     },
     "metadata": {},
     "output_type": "display_data"
    },
    {
     "data": {
      "application/vnd.jupyter.widget-view+json": {
       "model_id": "51313cb79fac483a95ef0fe3c6c8426c",
       "version_major": 2,
       "version_minor": 0
      },
      "text/plain": [
       "Batches:   0%|          | 0/1 [00:00<?, ?it/s]"
      ]
     },
     "metadata": {},
     "output_type": "display_data"
    },
    {
     "data": {
      "application/vnd.jupyter.widget-view+json": {
       "model_id": "08c8c4f41d17432fa7e2b9c53855669d",
       "version_major": 2,
       "version_minor": 0
      },
      "text/plain": [
       "Batches:   0%|          | 0/1 [00:00<?, ?it/s]"
      ]
     },
     "metadata": {},
     "output_type": "display_data"
    },
    {
     "data": {
      "application/vnd.jupyter.widget-view+json": {
       "model_id": "42536591259a4b94981a4a22f86db09f",
       "version_major": 2,
       "version_minor": 0
      },
      "text/plain": [
       "Batches:   0%|          | 0/1 [00:00<?, ?it/s]"
      ]
     },
     "metadata": {},
     "output_type": "display_data"
    },
    {
     "data": {
      "application/vnd.jupyter.widget-view+json": {
       "model_id": "6e18bfa65dbc4c20a63ed08770f9b2f6",
       "version_major": 2,
       "version_minor": 0
      },
      "text/plain": [
       "Batches:   0%|          | 0/1 [00:00<?, ?it/s]"
      ]
     },
     "metadata": {},
     "output_type": "display_data"
    },
    {
     "data": {
      "application/vnd.jupyter.widget-view+json": {
       "model_id": "fdc19cbce345449d89716c8994fa30ca",
       "version_major": 2,
       "version_minor": 0
      },
      "text/plain": [
       "Batches:   0%|          | 0/1 [00:00<?, ?it/s]"
      ]
     },
     "metadata": {},
     "output_type": "display_data"
    },
    {
     "data": {
      "application/vnd.jupyter.widget-view+json": {
       "model_id": "8be1c9f0c76d4bd2ae67a6ff3d0afb9d",
       "version_major": 2,
       "version_minor": 0
      },
      "text/plain": [
       "Batches:   0%|          | 0/1 [00:00<?, ?it/s]"
      ]
     },
     "metadata": {},
     "output_type": "display_data"
    },
    {
     "data": {
      "application/vnd.jupyter.widget-view+json": {
       "model_id": "7adc6a08f0334dc0855056b05b38f406",
       "version_major": 2,
       "version_minor": 0
      },
      "text/plain": [
       "Batches:   0%|          | 0/1 [00:00<?, ?it/s]"
      ]
     },
     "metadata": {},
     "output_type": "display_data"
    },
    {
     "data": {
      "application/vnd.jupyter.widget-view+json": {
       "model_id": "9f9e7edafcb94991aab842e3f2497811",
       "version_major": 2,
       "version_minor": 0
      },
      "text/plain": [
       "Batches:   0%|          | 0/1 [00:00<?, ?it/s]"
      ]
     },
     "metadata": {},
     "output_type": "display_data"
    },
    {
     "data": {
      "application/vnd.jupyter.widget-view+json": {
       "model_id": "b29bb4c87ddb44f59001298da8bd9c1a",
       "version_major": 2,
       "version_minor": 0
      },
      "text/plain": [
       "Batches:   0%|          | 0/1 [00:00<?, ?it/s]"
      ]
     },
     "metadata": {},
     "output_type": "display_data"
    },
    {
     "data": {
      "application/vnd.jupyter.widget-view+json": {
       "model_id": "346de373f6514471bffe4b367029eb19",
       "version_major": 2,
       "version_minor": 0
      },
      "text/plain": [
       "Batches:   0%|          | 0/1 [00:00<?, ?it/s]"
      ]
     },
     "metadata": {},
     "output_type": "display_data"
    },
    {
     "data": {
      "application/vnd.jupyter.widget-view+json": {
       "model_id": "97e15b02833d462eb4ad208ad5759d1a",
       "version_major": 2,
       "version_minor": 0
      },
      "text/plain": [
       "Batches:   0%|          | 0/1 [00:00<?, ?it/s]"
      ]
     },
     "metadata": {},
     "output_type": "display_data"
    },
    {
     "data": {
      "application/vnd.jupyter.widget-view+json": {
       "model_id": "5612a0557e0a45a0addae84e749df1b3",
       "version_major": 2,
       "version_minor": 0
      },
      "text/plain": [
       "Batches:   0%|          | 0/1 [00:00<?, ?it/s]"
      ]
     },
     "metadata": {},
     "output_type": "display_data"
    },
    {
     "data": {
      "application/vnd.jupyter.widget-view+json": {
       "model_id": "b5a47f77d0274296ad3741f0c680685c",
       "version_major": 2,
       "version_minor": 0
      },
      "text/plain": [
       "Batches:   0%|          | 0/1 [00:00<?, ?it/s]"
      ]
     },
     "metadata": {},
     "output_type": "display_data"
    },
    {
     "name": "stdout",
     "output_type": "stream",
     "text": [
      "50 of 170\r"
     ]
    },
    {
     "data": {
      "application/vnd.jupyter.widget-view+json": {
       "model_id": "c8d6f272792b478d930485da7661c908",
       "version_major": 2,
       "version_minor": 0
      },
      "text/plain": [
       "Batches:   0%|          | 0/1 [00:00<?, ?it/s]"
      ]
     },
     "metadata": {},
     "output_type": "display_data"
    },
    {
     "data": {
      "application/vnd.jupyter.widget-view+json": {
       "model_id": "8099cba7dded43f398a46e5a1178f8da",
       "version_major": 2,
       "version_minor": 0
      },
      "text/plain": [
       "Batches:   0%|          | 0/1 [00:00<?, ?it/s]"
      ]
     },
     "metadata": {},
     "output_type": "display_data"
    },
    {
     "data": {
      "application/vnd.jupyter.widget-view+json": {
       "model_id": "11936b54289f4f6eba838a18b16f470f",
       "version_major": 2,
       "version_minor": 0
      },
      "text/plain": [
       "Batches:   0%|          | 0/1 [00:00<?, ?it/s]"
      ]
     },
     "metadata": {},
     "output_type": "display_data"
    },
    {
     "data": {
      "application/vnd.jupyter.widget-view+json": {
       "model_id": "4bf0ab2507f54ed884f7637296ebe4df",
       "version_major": 2,
       "version_minor": 0
      },
      "text/plain": [
       "Batches:   0%|          | 0/1 [00:00<?, ?it/s]"
      ]
     },
     "metadata": {},
     "output_type": "display_data"
    },
    {
     "data": {
      "application/vnd.jupyter.widget-view+json": {
       "model_id": "4b36db97e542425a8bb9ed9b35e083a4",
       "version_major": 2,
       "version_minor": 0
      },
      "text/plain": [
       "Batches:   0%|          | 0/1 [00:00<?, ?it/s]"
      ]
     },
     "metadata": {},
     "output_type": "display_data"
    },
    {
     "data": {
      "application/vnd.jupyter.widget-view+json": {
       "model_id": "d91fad6acc7443149178718fcc1d42a3",
       "version_major": 2,
       "version_minor": 0
      },
      "text/plain": [
       "Batches:   0%|          | 0/1 [00:00<?, ?it/s]"
      ]
     },
     "metadata": {},
     "output_type": "display_data"
    },
    {
     "data": {
      "application/vnd.jupyter.widget-view+json": {
       "model_id": "719f3b07cf624e4991dd3952281b3bb8",
       "version_major": 2,
       "version_minor": 0
      },
      "text/plain": [
       "Batches:   0%|          | 0/1 [00:00<?, ?it/s]"
      ]
     },
     "metadata": {},
     "output_type": "display_data"
    },
    {
     "data": {
      "application/vnd.jupyter.widget-view+json": {
       "model_id": "67745fa2f8704e599126ee55e37f4976",
       "version_major": 2,
       "version_minor": 0
      },
      "text/plain": [
       "Batches:   0%|          | 0/1 [00:00<?, ?it/s]"
      ]
     },
     "metadata": {},
     "output_type": "display_data"
    },
    {
     "data": {
      "application/vnd.jupyter.widget-view+json": {
       "model_id": "898c645049f64234ac5606f9d417ae60",
       "version_major": 2,
       "version_minor": 0
      },
      "text/plain": [
       "Batches:   0%|          | 0/1 [00:00<?, ?it/s]"
      ]
     },
     "metadata": {},
     "output_type": "display_data"
    },
    {
     "data": {
      "application/vnd.jupyter.widget-view+json": {
       "model_id": "9e2c3abb11014fd3b614f51aa552ede8",
       "version_major": 2,
       "version_minor": 0
      },
      "text/plain": [
       "Batches:   0%|          | 0/1 [00:00<?, ?it/s]"
      ]
     },
     "metadata": {},
     "output_type": "display_data"
    },
    {
     "data": {
      "application/vnd.jupyter.widget-view+json": {
       "model_id": "86e026cc24c24ffea05a3a5f60c29fc9",
       "version_major": 2,
       "version_minor": 0
      },
      "text/plain": [
       "Batches:   0%|          | 0/1 [00:00<?, ?it/s]"
      ]
     },
     "metadata": {},
     "output_type": "display_data"
    },
    {
     "data": {
      "application/vnd.jupyter.widget-view+json": {
       "model_id": "c1ccd0dc43a040ef9dd2e3fb6c9f5491",
       "version_major": 2,
       "version_minor": 0
      },
      "text/plain": [
       "Batches:   0%|          | 0/1 [00:00<?, ?it/s]"
      ]
     },
     "metadata": {},
     "output_type": "display_data"
    },
    {
     "data": {
      "application/vnd.jupyter.widget-view+json": {
       "model_id": "708773b6054d429a874defa5a20ef6fb",
       "version_major": 2,
       "version_minor": 0
      },
      "text/plain": [
       "Batches:   0%|          | 0/1 [00:00<?, ?it/s]"
      ]
     },
     "metadata": {},
     "output_type": "display_data"
    },
    {
     "data": {
      "application/vnd.jupyter.widget-view+json": {
       "model_id": "361aaaea028d47fda8a4015c3c8c3b5b",
       "version_major": 2,
       "version_minor": 0
      },
      "text/plain": [
       "Batches:   0%|          | 0/1 [00:00<?, ?it/s]"
      ]
     },
     "metadata": {},
     "output_type": "display_data"
    },
    {
     "data": {
      "application/vnd.jupyter.widget-view+json": {
       "model_id": "6cae09efd0984e36b61818be5f49830b",
       "version_major": 2,
       "version_minor": 0
      },
      "text/plain": [
       "Batches:   0%|          | 0/1 [00:00<?, ?it/s]"
      ]
     },
     "metadata": {},
     "output_type": "display_data"
    },
    {
     "data": {
      "application/vnd.jupyter.widget-view+json": {
       "model_id": "2aa2494c2311458386fb0a69f5bdda22",
       "version_major": 2,
       "version_minor": 0
      },
      "text/plain": [
       "Batches:   0%|          | 0/1 [00:00<?, ?it/s]"
      ]
     },
     "metadata": {},
     "output_type": "display_data"
    },
    {
     "data": {
      "application/vnd.jupyter.widget-view+json": {
       "model_id": "2e21547679aa412bb90d1e4d4f97c120",
       "version_major": 2,
       "version_minor": 0
      },
      "text/plain": [
       "Batches:   0%|          | 0/1 [00:00<?, ?it/s]"
      ]
     },
     "metadata": {},
     "output_type": "display_data"
    },
    {
     "data": {
      "application/vnd.jupyter.widget-view+json": {
       "model_id": "12c0650dda264638bf59f7854ed03f81",
       "version_major": 2,
       "version_minor": 0
      },
      "text/plain": [
       "Batches:   0%|          | 0/1 [00:00<?, ?it/s]"
      ]
     },
     "metadata": {},
     "output_type": "display_data"
    },
    {
     "data": {
      "application/vnd.jupyter.widget-view+json": {
       "model_id": "182ac598cb82413f9a1b07798fc8c0c5",
       "version_major": 2,
       "version_minor": 0
      },
      "text/plain": [
       "Batches:   0%|          | 0/1 [00:00<?, ?it/s]"
      ]
     },
     "metadata": {},
     "output_type": "display_data"
    },
    {
     "data": {
      "application/vnd.jupyter.widget-view+json": {
       "model_id": "4f659338f2144602a895bfd82dbb170a",
       "version_major": 2,
       "version_minor": 0
      },
      "text/plain": [
       "Batches:   0%|          | 0/1 [00:00<?, ?it/s]"
      ]
     },
     "metadata": {},
     "output_type": "display_data"
    },
    {
     "data": {
      "application/vnd.jupyter.widget-view+json": {
       "model_id": "25f59f1c79424132b6a07e1cea170ce4",
       "version_major": 2,
       "version_minor": 0
      },
      "text/plain": [
       "Batches:   0%|          | 0/1 [00:00<?, ?it/s]"
      ]
     },
     "metadata": {},
     "output_type": "display_data"
    },
    {
     "data": {
      "application/vnd.jupyter.widget-view+json": {
       "model_id": "d4505ecbe7064607a07530f3ba0169a9",
       "version_major": 2,
       "version_minor": 0
      },
      "text/plain": [
       "Batches:   0%|          | 0/1 [00:00<?, ?it/s]"
      ]
     },
     "metadata": {},
     "output_type": "display_data"
    },
    {
     "data": {
      "application/vnd.jupyter.widget-view+json": {
       "model_id": "1df3d4b8cd484589a416383a764d7718",
       "version_major": 2,
       "version_minor": 0
      },
      "text/plain": [
       "Batches:   0%|          | 0/1 [00:00<?, ?it/s]"
      ]
     },
     "metadata": {},
     "output_type": "display_data"
    },
    {
     "data": {
      "application/vnd.jupyter.widget-view+json": {
       "model_id": "0caa548389dc4f92bc9d78bd6e6dbb09",
       "version_major": 2,
       "version_minor": 0
      },
      "text/plain": [
       "Batches:   0%|          | 0/1 [00:00<?, ?it/s]"
      ]
     },
     "metadata": {},
     "output_type": "display_data"
    },
    {
     "data": {
      "application/vnd.jupyter.widget-view+json": {
       "model_id": "acc9395e669a433e84a13b8ca8063be5",
       "version_major": 2,
       "version_minor": 0
      },
      "text/plain": [
       "Batches:   0%|          | 0/1 [00:00<?, ?it/s]"
      ]
     },
     "metadata": {},
     "output_type": "display_data"
    },
    {
     "data": {
      "application/vnd.jupyter.widget-view+json": {
       "model_id": "24c7bdb06a354368b51fb0eb88fdbe7f",
       "version_major": 2,
       "version_minor": 0
      },
      "text/plain": [
       "Batches:   0%|          | 0/1 [00:00<?, ?it/s]"
      ]
     },
     "metadata": {},
     "output_type": "display_data"
    },
    {
     "data": {
      "application/vnd.jupyter.widget-view+json": {
       "model_id": "ab42f99ee8754b708acf58b48d478f18",
       "version_major": 2,
       "version_minor": 0
      },
      "text/plain": [
       "Batches:   0%|          | 0/1 [00:00<?, ?it/s]"
      ]
     },
     "metadata": {},
     "output_type": "display_data"
    },
    {
     "data": {
      "application/vnd.jupyter.widget-view+json": {
       "model_id": "c869b66dfb5e4ed4a7e47afc98ea4a08",
       "version_major": 2,
       "version_minor": 0
      },
      "text/plain": [
       "Batches:   0%|          | 0/1 [00:00<?, ?it/s]"
      ]
     },
     "metadata": {},
     "output_type": "display_data"
    },
    {
     "data": {
      "application/vnd.jupyter.widget-view+json": {
       "model_id": "06263039fb6d42c1bcc2100eeb8bbe4e",
       "version_major": 2,
       "version_minor": 0
      },
      "text/plain": [
       "Batches:   0%|          | 0/1 [00:00<?, ?it/s]"
      ]
     },
     "metadata": {},
     "output_type": "display_data"
    },
    {
     "data": {
      "application/vnd.jupyter.widget-view+json": {
       "model_id": "824673e12a7a4234aa360f30956b4128",
       "version_major": 2,
       "version_minor": 0
      },
      "text/plain": [
       "Batches:   0%|          | 0/1 [00:00<?, ?it/s]"
      ]
     },
     "metadata": {},
     "output_type": "display_data"
    },
    {
     "data": {
      "application/vnd.jupyter.widget-view+json": {
       "model_id": "b51ef53752b34ed7bb2cb54594d6d72a",
       "version_major": 2,
       "version_minor": 0
      },
      "text/plain": [
       "Batches:   0%|          | 0/1 [00:00<?, ?it/s]"
      ]
     },
     "metadata": {},
     "output_type": "display_data"
    },
    {
     "data": {
      "application/vnd.jupyter.widget-view+json": {
       "model_id": "2eff8a51fbf14af6976d23bf77df1e33",
       "version_major": 2,
       "version_minor": 0
      },
      "text/plain": [
       "Batches:   0%|          | 0/1 [00:00<?, ?it/s]"
      ]
     },
     "metadata": {},
     "output_type": "display_data"
    },
    {
     "data": {
      "application/vnd.jupyter.widget-view+json": {
       "model_id": "a958989dbc9f43828dfdc44148ab9081",
       "version_major": 2,
       "version_minor": 0
      },
      "text/plain": [
       "Batches:   0%|          | 0/1 [00:00<?, ?it/s]"
      ]
     },
     "metadata": {},
     "output_type": "display_data"
    },
    {
     "data": {
      "application/vnd.jupyter.widget-view+json": {
       "model_id": "0a5f06801d1b4cdebb266287c057c41d",
       "version_major": 2,
       "version_minor": 0
      },
      "text/plain": [
       "Batches:   0%|          | 0/1 [00:00<?, ?it/s]"
      ]
     },
     "metadata": {},
     "output_type": "display_data"
    },
    {
     "data": {
      "application/vnd.jupyter.widget-view+json": {
       "model_id": "70c8f7d9ad20409186d270dab41a006b",
       "version_major": 2,
       "version_minor": 0
      },
      "text/plain": [
       "Batches:   0%|          | 0/1 [00:00<?, ?it/s]"
      ]
     },
     "metadata": {},
     "output_type": "display_data"
    },
    {
     "data": {
      "application/vnd.jupyter.widget-view+json": {
       "model_id": "996599b670ef4508bc3536023e7b99f5",
       "version_major": 2,
       "version_minor": 0
      },
      "text/plain": [
       "Batches:   0%|          | 0/1 [00:00<?, ?it/s]"
      ]
     },
     "metadata": {},
     "output_type": "display_data"
    },
    {
     "data": {
      "application/vnd.jupyter.widget-view+json": {
       "model_id": "a6bc3351d4b94454ad04c6898cb28aad",
       "version_major": 2,
       "version_minor": 0
      },
      "text/plain": [
       "Batches:   0%|          | 0/1 [00:00<?, ?it/s]"
      ]
     },
     "metadata": {},
     "output_type": "display_data"
    },
    {
     "data": {
      "application/vnd.jupyter.widget-view+json": {
       "model_id": "14a0d08cd535449dbe29e96cd414dedf",
       "version_major": 2,
       "version_minor": 0
      },
      "text/plain": [
       "Batches:   0%|          | 0/1 [00:00<?, ?it/s]"
      ]
     },
     "metadata": {},
     "output_type": "display_data"
    },
    {
     "data": {
      "application/vnd.jupyter.widget-view+json": {
       "model_id": "2a9eeb01282a4221b04a0813804b1ce0",
       "version_major": 2,
       "version_minor": 0
      },
      "text/plain": [
       "Batches:   0%|          | 0/1 [00:00<?, ?it/s]"
      ]
     },
     "metadata": {},
     "output_type": "display_data"
    },
    {
     "data": {
      "application/vnd.jupyter.widget-view+json": {
       "model_id": "823a330fc8ca48bfa3cde88a3893e4d7",
       "version_major": 2,
       "version_minor": 0
      },
      "text/plain": [
       "Batches:   0%|          | 0/1 [00:00<?, ?it/s]"
      ]
     },
     "metadata": {},
     "output_type": "display_data"
    },
    {
     "data": {
      "application/vnd.jupyter.widget-view+json": {
       "model_id": "8b1861ccf2334946af7b7eeadff9b131",
       "version_major": 2,
       "version_minor": 0
      },
      "text/plain": [
       "Batches:   0%|          | 0/1 [00:00<?, ?it/s]"
      ]
     },
     "metadata": {},
     "output_type": "display_data"
    },
    {
     "data": {
      "application/vnd.jupyter.widget-view+json": {
       "model_id": "6de8e4f9f2ed4a56b57060746b9de35d",
       "version_major": 2,
       "version_minor": 0
      },
      "text/plain": [
       "Batches:   0%|          | 0/1 [00:00<?, ?it/s]"
      ]
     },
     "metadata": {},
     "output_type": "display_data"
    },
    {
     "data": {
      "application/vnd.jupyter.widget-view+json": {
       "model_id": "6e08c20f49034bf0bf5fd6ba79925171",
       "version_major": 2,
       "version_minor": 0
      },
      "text/plain": [
       "Batches:   0%|          | 0/1 [00:00<?, ?it/s]"
      ]
     },
     "metadata": {},
     "output_type": "display_data"
    },
    {
     "data": {
      "application/vnd.jupyter.widget-view+json": {
       "model_id": "ce3bce6d6095437fbfe6783601a4bf7c",
       "version_major": 2,
       "version_minor": 0
      },
      "text/plain": [
       "Batches:   0%|          | 0/1 [00:00<?, ?it/s]"
      ]
     },
     "metadata": {},
     "output_type": "display_data"
    },
    {
     "data": {
      "application/vnd.jupyter.widget-view+json": {
       "model_id": "1e6c09b40c984e658689ab28ccc2685e",
       "version_major": 2,
       "version_minor": 0
      },
      "text/plain": [
       "Batches:   0%|          | 0/1 [00:00<?, ?it/s]"
      ]
     },
     "metadata": {},
     "output_type": "display_data"
    },
    {
     "data": {
      "application/vnd.jupyter.widget-view+json": {
       "model_id": "d403dd0fddda4c1ab3fcac2d1bd38977",
       "version_major": 2,
       "version_minor": 0
      },
      "text/plain": [
       "Batches:   0%|          | 0/1 [00:00<?, ?it/s]"
      ]
     },
     "metadata": {},
     "output_type": "display_data"
    },
    {
     "data": {
      "application/vnd.jupyter.widget-view+json": {
       "model_id": "5174eaba4a61477eaf937e32c2d57cb7",
       "version_major": 2,
       "version_minor": 0
      },
      "text/plain": [
       "Batches:   0%|          | 0/1 [00:00<?, ?it/s]"
      ]
     },
     "metadata": {},
     "output_type": "display_data"
    },
    {
     "data": {
      "application/vnd.jupyter.widget-view+json": {
       "model_id": "35be2ee564984b3fa2e480d6af4fa742",
       "version_major": 2,
       "version_minor": 0
      },
      "text/plain": [
       "Batches:   0%|          | 0/1 [00:00<?, ?it/s]"
      ]
     },
     "metadata": {},
     "output_type": "display_data"
    },
    {
     "data": {
      "application/vnd.jupyter.widget-view+json": {
       "model_id": "49d3fbd766a84df0a8959dfd877cfebf",
       "version_major": 2,
       "version_minor": 0
      },
      "text/plain": [
       "Batches:   0%|          | 0/1 [00:00<?, ?it/s]"
      ]
     },
     "metadata": {},
     "output_type": "display_data"
    },
    {
     "data": {
      "application/vnd.jupyter.widget-view+json": {
       "model_id": "36252c5b8a1d43d0944f0c22da9f473d",
       "version_major": 2,
       "version_minor": 0
      },
      "text/plain": [
       "Batches:   0%|          | 0/1 [00:00<?, ?it/s]"
      ]
     },
     "metadata": {},
     "output_type": "display_data"
    },
    {
     "name": "stdout",
     "output_type": "stream",
     "text": [
      "100 of 170\r"
     ]
    },
    {
     "data": {
      "application/vnd.jupyter.widget-view+json": {
       "model_id": "b828f2db4b7c471b98294229b20a8ccf",
       "version_major": 2,
       "version_minor": 0
      },
      "text/plain": [
       "Batches:   0%|          | 0/1 [00:00<?, ?it/s]"
      ]
     },
     "metadata": {},
     "output_type": "display_data"
    },
    {
     "data": {
      "application/vnd.jupyter.widget-view+json": {
       "model_id": "a348c0791a564f1cb5fafdbe6dcb4c08",
       "version_major": 2,
       "version_minor": 0
      },
      "text/plain": [
       "Batches:   0%|          | 0/1 [00:00<?, ?it/s]"
      ]
     },
     "metadata": {},
     "output_type": "display_data"
    },
    {
     "data": {
      "application/vnd.jupyter.widget-view+json": {
       "model_id": "4b9e1d9f35da4039a1d628205ca26bf1",
       "version_major": 2,
       "version_minor": 0
      },
      "text/plain": [
       "Batches:   0%|          | 0/1 [00:00<?, ?it/s]"
      ]
     },
     "metadata": {},
     "output_type": "display_data"
    },
    {
     "data": {
      "application/vnd.jupyter.widget-view+json": {
       "model_id": "7e8df56960a144f1bda9a55321e3fa92",
       "version_major": 2,
       "version_minor": 0
      },
      "text/plain": [
       "Batches:   0%|          | 0/1 [00:00<?, ?it/s]"
      ]
     },
     "metadata": {},
     "output_type": "display_data"
    },
    {
     "data": {
      "application/vnd.jupyter.widget-view+json": {
       "model_id": "5c8382a3351746799ab0aa93f40eac93",
       "version_major": 2,
       "version_minor": 0
      },
      "text/plain": [
       "Batches:   0%|          | 0/1 [00:00<?, ?it/s]"
      ]
     },
     "metadata": {},
     "output_type": "display_data"
    },
    {
     "data": {
      "application/vnd.jupyter.widget-view+json": {
       "model_id": "7fdd4c3724674968992dcc01eb3e0ad7",
       "version_major": 2,
       "version_minor": 0
      },
      "text/plain": [
       "Batches:   0%|          | 0/1 [00:00<?, ?it/s]"
      ]
     },
     "metadata": {},
     "output_type": "display_data"
    },
    {
     "data": {
      "application/vnd.jupyter.widget-view+json": {
       "model_id": "1b7805ff1f4c4ffab2150413b4895ab2",
       "version_major": 2,
       "version_minor": 0
      },
      "text/plain": [
       "Batches:   0%|          | 0/1 [00:00<?, ?it/s]"
      ]
     },
     "metadata": {},
     "output_type": "display_data"
    },
    {
     "data": {
      "application/vnd.jupyter.widget-view+json": {
       "model_id": "37a0c28c4b30483bb652e19d14d6d598",
       "version_major": 2,
       "version_minor": 0
      },
      "text/plain": [
       "Batches:   0%|          | 0/1 [00:00<?, ?it/s]"
      ]
     },
     "metadata": {},
     "output_type": "display_data"
    },
    {
     "data": {
      "application/vnd.jupyter.widget-view+json": {
       "model_id": "1fd872c8277545d893a3d1ada1e6abb4",
       "version_major": 2,
       "version_minor": 0
      },
      "text/plain": [
       "Batches:   0%|          | 0/1 [00:00<?, ?it/s]"
      ]
     },
     "metadata": {},
     "output_type": "display_data"
    },
    {
     "data": {
      "application/vnd.jupyter.widget-view+json": {
       "model_id": "29d27c4e82ba456b99ac20ffb1430a25",
       "version_major": 2,
       "version_minor": 0
      },
      "text/plain": [
       "Batches:   0%|          | 0/1 [00:00<?, ?it/s]"
      ]
     },
     "metadata": {},
     "output_type": "display_data"
    },
    {
     "data": {
      "application/vnd.jupyter.widget-view+json": {
       "model_id": "91b478432e3d4733b44fdac6feeb90d4",
       "version_major": 2,
       "version_minor": 0
      },
      "text/plain": [
       "Batches:   0%|          | 0/1 [00:00<?, ?it/s]"
      ]
     },
     "metadata": {},
     "output_type": "display_data"
    },
    {
     "data": {
      "application/vnd.jupyter.widget-view+json": {
       "model_id": "41e2cbefe96c489e99e264e66e8d14e4",
       "version_major": 2,
       "version_minor": 0
      },
      "text/plain": [
       "Batches:   0%|          | 0/1 [00:00<?, ?it/s]"
      ]
     },
     "metadata": {},
     "output_type": "display_data"
    },
    {
     "data": {
      "application/vnd.jupyter.widget-view+json": {
       "model_id": "6f0ea658e96846df93bf0aa7f541d1b1",
       "version_major": 2,
       "version_minor": 0
      },
      "text/plain": [
       "Batches:   0%|          | 0/1 [00:00<?, ?it/s]"
      ]
     },
     "metadata": {},
     "output_type": "display_data"
    },
    {
     "data": {
      "application/vnd.jupyter.widget-view+json": {
       "model_id": "ea303dadea52482794ec976d97b0545a",
       "version_major": 2,
       "version_minor": 0
      },
      "text/plain": [
       "Batches:   0%|          | 0/1 [00:00<?, ?it/s]"
      ]
     },
     "metadata": {},
     "output_type": "display_data"
    },
    {
     "data": {
      "application/vnd.jupyter.widget-view+json": {
       "model_id": "c312e631e47748f8893a49d852120f76",
       "version_major": 2,
       "version_minor": 0
      },
      "text/plain": [
       "Batches:   0%|          | 0/1 [00:00<?, ?it/s]"
      ]
     },
     "metadata": {},
     "output_type": "display_data"
    },
    {
     "data": {
      "application/vnd.jupyter.widget-view+json": {
       "model_id": "81bfb861bed541df8a3132991ad33a63",
       "version_major": 2,
       "version_minor": 0
      },
      "text/plain": [
       "Batches:   0%|          | 0/1 [00:00<?, ?it/s]"
      ]
     },
     "metadata": {},
     "output_type": "display_data"
    },
    {
     "data": {
      "application/vnd.jupyter.widget-view+json": {
       "model_id": "7d1e054790a74fe49e4c8540964d9ced",
       "version_major": 2,
       "version_minor": 0
      },
      "text/plain": [
       "Batches:   0%|          | 0/1 [00:00<?, ?it/s]"
      ]
     },
     "metadata": {},
     "output_type": "display_data"
    },
    {
     "data": {
      "application/vnd.jupyter.widget-view+json": {
       "model_id": "2ea31a3fdd504490b2bca467d9e10845",
       "version_major": 2,
       "version_minor": 0
      },
      "text/plain": [
       "Batches:   0%|          | 0/1 [00:00<?, ?it/s]"
      ]
     },
     "metadata": {},
     "output_type": "display_data"
    },
    {
     "data": {
      "application/vnd.jupyter.widget-view+json": {
       "model_id": "c6313fc679f04cae9dede1ebb9558a89",
       "version_major": 2,
       "version_minor": 0
      },
      "text/plain": [
       "Batches:   0%|          | 0/1 [00:00<?, ?it/s]"
      ]
     },
     "metadata": {},
     "output_type": "display_data"
    },
    {
     "data": {
      "application/vnd.jupyter.widget-view+json": {
       "model_id": "6f3a03b1e54f4386ba77658aa7af1321",
       "version_major": 2,
       "version_minor": 0
      },
      "text/plain": [
       "Batches:   0%|          | 0/1 [00:00<?, ?it/s]"
      ]
     },
     "metadata": {},
     "output_type": "display_data"
    },
    {
     "data": {
      "application/vnd.jupyter.widget-view+json": {
       "model_id": "50854ad90e7d4553bfaefc47e2a396ab",
       "version_major": 2,
       "version_minor": 0
      },
      "text/plain": [
       "Batches:   0%|          | 0/1 [00:00<?, ?it/s]"
      ]
     },
     "metadata": {},
     "output_type": "display_data"
    },
    {
     "data": {
      "application/vnd.jupyter.widget-view+json": {
       "model_id": "08b395c3d74a497ab11fb5b14b405ced",
       "version_major": 2,
       "version_minor": 0
      },
      "text/plain": [
       "Batches:   0%|          | 0/1 [00:00<?, ?it/s]"
      ]
     },
     "metadata": {},
     "output_type": "display_data"
    },
    {
     "data": {
      "application/vnd.jupyter.widget-view+json": {
       "model_id": "0c09ea291d114fdaadacb999721d41d2",
       "version_major": 2,
       "version_minor": 0
      },
      "text/plain": [
       "Batches:   0%|          | 0/1 [00:00<?, ?it/s]"
      ]
     },
     "metadata": {},
     "output_type": "display_data"
    },
    {
     "data": {
      "application/vnd.jupyter.widget-view+json": {
       "model_id": "eeed5a70f64b49288a8e2b67cbf9c97c",
       "version_major": 2,
       "version_minor": 0
      },
      "text/plain": [
       "Batches:   0%|          | 0/1 [00:00<?, ?it/s]"
      ]
     },
     "metadata": {},
     "output_type": "display_data"
    },
    {
     "data": {
      "application/vnd.jupyter.widget-view+json": {
       "model_id": "1eaa6852760b46859687ba7ede39ed31",
       "version_major": 2,
       "version_minor": 0
      },
      "text/plain": [
       "Batches:   0%|          | 0/1 [00:00<?, ?it/s]"
      ]
     },
     "metadata": {},
     "output_type": "display_data"
    },
    {
     "data": {
      "application/vnd.jupyter.widget-view+json": {
       "model_id": "ab92fa8422f94706b86d7dfbac467a75",
       "version_major": 2,
       "version_minor": 0
      },
      "text/plain": [
       "Batches:   0%|          | 0/1 [00:00<?, ?it/s]"
      ]
     },
     "metadata": {},
     "output_type": "display_data"
    },
    {
     "data": {
      "application/vnd.jupyter.widget-view+json": {
       "model_id": "32796c15b47149059f5c1547047da8c7",
       "version_major": 2,
       "version_minor": 0
      },
      "text/plain": [
       "Batches:   0%|          | 0/1 [00:00<?, ?it/s]"
      ]
     },
     "metadata": {},
     "output_type": "display_data"
    },
    {
     "data": {
      "application/vnd.jupyter.widget-view+json": {
       "model_id": "bc818588ed7544e5bcb9b8ffda42b106",
       "version_major": 2,
       "version_minor": 0
      },
      "text/plain": [
       "Batches:   0%|          | 0/1 [00:00<?, ?it/s]"
      ]
     },
     "metadata": {},
     "output_type": "display_data"
    },
    {
     "data": {
      "application/vnd.jupyter.widget-view+json": {
       "model_id": "b55f1e6f4b814f04a4420cac1544d571",
       "version_major": 2,
       "version_minor": 0
      },
      "text/plain": [
       "Batches:   0%|          | 0/1 [00:00<?, ?it/s]"
      ]
     },
     "metadata": {},
     "output_type": "display_data"
    },
    {
     "data": {
      "application/vnd.jupyter.widget-view+json": {
       "model_id": "48001e94cb024171816cdc5fbe905b1b",
       "version_major": 2,
       "version_minor": 0
      },
      "text/plain": [
       "Batches:   0%|          | 0/1 [00:00<?, ?it/s]"
      ]
     },
     "metadata": {},
     "output_type": "display_data"
    },
    {
     "data": {
      "application/vnd.jupyter.widget-view+json": {
       "model_id": "21606562a6e145bbafe7f19cf079135a",
       "version_major": 2,
       "version_minor": 0
      },
      "text/plain": [
       "Batches:   0%|          | 0/1 [00:00<?, ?it/s]"
      ]
     },
     "metadata": {},
     "output_type": "display_data"
    },
    {
     "data": {
      "application/vnd.jupyter.widget-view+json": {
       "model_id": "7fee3e658a9249f39580272421d75648",
       "version_major": 2,
       "version_minor": 0
      },
      "text/plain": [
       "Batches:   0%|          | 0/1 [00:00<?, ?it/s]"
      ]
     },
     "metadata": {},
     "output_type": "display_data"
    },
    {
     "data": {
      "application/vnd.jupyter.widget-view+json": {
       "model_id": "f0451a7153034b2ab8383fe496755ccc",
       "version_major": 2,
       "version_minor": 0
      },
      "text/plain": [
       "Batches:   0%|          | 0/1 [00:00<?, ?it/s]"
      ]
     },
     "metadata": {},
     "output_type": "display_data"
    },
    {
     "data": {
      "application/vnd.jupyter.widget-view+json": {
       "model_id": "f3d2b0dfdf064cada5b27818f502c68d",
       "version_major": 2,
       "version_minor": 0
      },
      "text/plain": [
       "Batches:   0%|          | 0/1 [00:00<?, ?it/s]"
      ]
     },
     "metadata": {},
     "output_type": "display_data"
    },
    {
     "data": {
      "application/vnd.jupyter.widget-view+json": {
       "model_id": "6abac6b0e2404eab9fa463194546424a",
       "version_major": 2,
       "version_minor": 0
      },
      "text/plain": [
       "Batches:   0%|          | 0/1 [00:00<?, ?it/s]"
      ]
     },
     "metadata": {},
     "output_type": "display_data"
    },
    {
     "data": {
      "application/vnd.jupyter.widget-view+json": {
       "model_id": "ead8be5130af40369f763743af6f64ba",
       "version_major": 2,
       "version_minor": 0
      },
      "text/plain": [
       "Batches:   0%|          | 0/1 [00:00<?, ?it/s]"
      ]
     },
     "metadata": {},
     "output_type": "display_data"
    },
    {
     "data": {
      "application/vnd.jupyter.widget-view+json": {
       "model_id": "a8a5983a24b8462388af17793439a659",
       "version_major": 2,
       "version_minor": 0
      },
      "text/plain": [
       "Batches:   0%|          | 0/1 [00:00<?, ?it/s]"
      ]
     },
     "metadata": {},
     "output_type": "display_data"
    },
    {
     "data": {
      "application/vnd.jupyter.widget-view+json": {
       "model_id": "841a3969ead34eceb7acf45e10e50c67",
       "version_major": 2,
       "version_minor": 0
      },
      "text/plain": [
       "Batches:   0%|          | 0/1 [00:00<?, ?it/s]"
      ]
     },
     "metadata": {},
     "output_type": "display_data"
    },
    {
     "data": {
      "application/vnd.jupyter.widget-view+json": {
       "model_id": "8e5198b2e1a94613ae69358ea0d20259",
       "version_major": 2,
       "version_minor": 0
      },
      "text/plain": [
       "Batches:   0%|          | 0/1 [00:00<?, ?it/s]"
      ]
     },
     "metadata": {},
     "output_type": "display_data"
    },
    {
     "data": {
      "application/vnd.jupyter.widget-view+json": {
       "model_id": "863bfab17cdb4630b728833b96603c83",
       "version_major": 2,
       "version_minor": 0
      },
      "text/plain": [
       "Batches:   0%|          | 0/1 [00:00<?, ?it/s]"
      ]
     },
     "metadata": {},
     "output_type": "display_data"
    },
    {
     "data": {
      "application/vnd.jupyter.widget-view+json": {
       "model_id": "1cb8bc12878c47e6b747ed5c594b9a09",
       "version_major": 2,
       "version_minor": 0
      },
      "text/plain": [
       "Batches:   0%|          | 0/1 [00:00<?, ?it/s]"
      ]
     },
     "metadata": {},
     "output_type": "display_data"
    },
    {
     "data": {
      "application/vnd.jupyter.widget-view+json": {
       "model_id": "e23918660c7c464eae0239da74ea3d59",
       "version_major": 2,
       "version_minor": 0
      },
      "text/plain": [
       "Batches:   0%|          | 0/1 [00:00<?, ?it/s]"
      ]
     },
     "metadata": {},
     "output_type": "display_data"
    },
    {
     "data": {
      "application/vnd.jupyter.widget-view+json": {
       "model_id": "86c05bf9fad14f99b354ea170d863739",
       "version_major": 2,
       "version_minor": 0
      },
      "text/plain": [
       "Batches:   0%|          | 0/1 [00:00<?, ?it/s]"
      ]
     },
     "metadata": {},
     "output_type": "display_data"
    },
    {
     "data": {
      "application/vnd.jupyter.widget-view+json": {
       "model_id": "f192f7c6309342129cec58e414a82054",
       "version_major": 2,
       "version_minor": 0
      },
      "text/plain": [
       "Batches:   0%|          | 0/1 [00:00<?, ?it/s]"
      ]
     },
     "metadata": {},
     "output_type": "display_data"
    },
    {
     "data": {
      "application/vnd.jupyter.widget-view+json": {
       "model_id": "ce2915eef25f46cc8c44e4b3344643ce",
       "version_major": 2,
       "version_minor": 0
      },
      "text/plain": [
       "Batches:   0%|          | 0/1 [00:00<?, ?it/s]"
      ]
     },
     "metadata": {},
     "output_type": "display_data"
    },
    {
     "data": {
      "application/vnd.jupyter.widget-view+json": {
       "model_id": "d92018de5a9f4f9eb4bed584fc27e832",
       "version_major": 2,
       "version_minor": 0
      },
      "text/plain": [
       "Batches:   0%|          | 0/1 [00:00<?, ?it/s]"
      ]
     },
     "metadata": {},
     "output_type": "display_data"
    },
    {
     "data": {
      "application/vnd.jupyter.widget-view+json": {
       "model_id": "a72bae89e0b14188bd16baff316d5130",
       "version_major": 2,
       "version_minor": 0
      },
      "text/plain": [
       "Batches:   0%|          | 0/1 [00:00<?, ?it/s]"
      ]
     },
     "metadata": {},
     "output_type": "display_data"
    },
    {
     "data": {
      "application/vnd.jupyter.widget-view+json": {
       "model_id": "d81f0443ed3940a588b1f062527a552c",
       "version_major": 2,
       "version_minor": 0
      },
      "text/plain": [
       "Batches:   0%|          | 0/1 [00:00<?, ?it/s]"
      ]
     },
     "metadata": {},
     "output_type": "display_data"
    },
    {
     "data": {
      "application/vnd.jupyter.widget-view+json": {
       "model_id": "1c948f05b9314e6caa6477304fcf66d9",
       "version_major": 2,
       "version_minor": 0
      },
      "text/plain": [
       "Batches:   0%|          | 0/1 [00:00<?, ?it/s]"
      ]
     },
     "metadata": {},
     "output_type": "display_data"
    },
    {
     "data": {
      "application/vnd.jupyter.widget-view+json": {
       "model_id": "4a10af0aafd04026b66ad9e4a47b485b",
       "version_major": 2,
       "version_minor": 0
      },
      "text/plain": [
       "Batches:   0%|          | 0/1 [00:00<?, ?it/s]"
      ]
     },
     "metadata": {},
     "output_type": "display_data"
    },
    {
     "name": "stdout",
     "output_type": "stream",
     "text": [
      "150 of 170\r"
     ]
    },
    {
     "data": {
      "application/vnd.jupyter.widget-view+json": {
       "model_id": "92134244363742c1aa84a0db26f73d46",
       "version_major": 2,
       "version_minor": 0
      },
      "text/plain": [
       "Batches:   0%|          | 0/1 [00:00<?, ?it/s]"
      ]
     },
     "metadata": {},
     "output_type": "display_data"
    },
    {
     "data": {
      "application/vnd.jupyter.widget-view+json": {
       "model_id": "94eab37f40a84408beeded3eedba463b",
       "version_major": 2,
       "version_minor": 0
      },
      "text/plain": [
       "Batches:   0%|          | 0/1 [00:00<?, ?it/s]"
      ]
     },
     "metadata": {},
     "output_type": "display_data"
    },
    {
     "data": {
      "application/vnd.jupyter.widget-view+json": {
       "model_id": "639adbbeb6034417b487c7d4c2b7f603",
       "version_major": 2,
       "version_minor": 0
      },
      "text/plain": [
       "Batches:   0%|          | 0/1 [00:00<?, ?it/s]"
      ]
     },
     "metadata": {},
     "output_type": "display_data"
    },
    {
     "data": {
      "application/vnd.jupyter.widget-view+json": {
       "model_id": "87e848ff114a4c5ca6d69d18df4de2fd",
       "version_major": 2,
       "version_minor": 0
      },
      "text/plain": [
       "Batches:   0%|          | 0/1 [00:00<?, ?it/s]"
      ]
     },
     "metadata": {},
     "output_type": "display_data"
    },
    {
     "data": {
      "application/vnd.jupyter.widget-view+json": {
       "model_id": "2910e1aa60534fc9bb9eb89de73b8b85",
       "version_major": 2,
       "version_minor": 0
      },
      "text/plain": [
       "Batches:   0%|          | 0/1 [00:00<?, ?it/s]"
      ]
     },
     "metadata": {},
     "output_type": "display_data"
    },
    {
     "data": {
      "application/vnd.jupyter.widget-view+json": {
       "model_id": "f2f552969fdf4f46badae9d58583b677",
       "version_major": 2,
       "version_minor": 0
      },
      "text/plain": [
       "Batches:   0%|          | 0/1 [00:00<?, ?it/s]"
      ]
     },
     "metadata": {},
     "output_type": "display_data"
    },
    {
     "data": {
      "application/vnd.jupyter.widget-view+json": {
       "model_id": "f7e101b9bc164ec3a07c23debe3fd52e",
       "version_major": 2,
       "version_minor": 0
      },
      "text/plain": [
       "Batches:   0%|          | 0/1 [00:00<?, ?it/s]"
      ]
     },
     "metadata": {},
     "output_type": "display_data"
    },
    {
     "data": {
      "application/vnd.jupyter.widget-view+json": {
       "model_id": "e7121118ac914f619f7eb05313bf902d",
       "version_major": 2,
       "version_minor": 0
      },
      "text/plain": [
       "Batches:   0%|          | 0/1 [00:00<?, ?it/s]"
      ]
     },
     "metadata": {},
     "output_type": "display_data"
    },
    {
     "data": {
      "application/vnd.jupyter.widget-view+json": {
       "model_id": "ee818ae05364487f8a0bcf08517146b3",
       "version_major": 2,
       "version_minor": 0
      },
      "text/plain": [
       "Batches:   0%|          | 0/1 [00:00<?, ?it/s]"
      ]
     },
     "metadata": {},
     "output_type": "display_data"
    },
    {
     "data": {
      "application/vnd.jupyter.widget-view+json": {
       "model_id": "3f3e3747f6c94fe58b550bd7e77f3875",
       "version_major": 2,
       "version_minor": 0
      },
      "text/plain": [
       "Batches:   0%|          | 0/1 [00:00<?, ?it/s]"
      ]
     },
     "metadata": {},
     "output_type": "display_data"
    },
    {
     "data": {
      "application/vnd.jupyter.widget-view+json": {
       "model_id": "4f48a24193424baabb732921f489b17b",
       "version_major": 2,
       "version_minor": 0
      },
      "text/plain": [
       "Batches:   0%|          | 0/1 [00:00<?, ?it/s]"
      ]
     },
     "metadata": {},
     "output_type": "display_data"
    },
    {
     "data": {
      "application/vnd.jupyter.widget-view+json": {
       "model_id": "b8cc6dcfa6b440879ec0834a10562756",
       "version_major": 2,
       "version_minor": 0
      },
      "text/plain": [
       "Batches:   0%|          | 0/1 [00:00<?, ?it/s]"
      ]
     },
     "metadata": {},
     "output_type": "display_data"
    },
    {
     "data": {
      "application/vnd.jupyter.widget-view+json": {
       "model_id": "742bb1e756f048349444d819f2cfd34c",
       "version_major": 2,
       "version_minor": 0
      },
      "text/plain": [
       "Batches:   0%|          | 0/1 [00:00<?, ?it/s]"
      ]
     },
     "metadata": {},
     "output_type": "display_data"
    },
    {
     "data": {
      "application/vnd.jupyter.widget-view+json": {
       "model_id": "b6ad5a850d334dc7b5dcf6e9f1b8cf9a",
       "version_major": 2,
       "version_minor": 0
      },
      "text/plain": [
       "Batches:   0%|          | 0/1 [00:00<?, ?it/s]"
      ]
     },
     "metadata": {},
     "output_type": "display_data"
    },
    {
     "data": {
      "application/vnd.jupyter.widget-view+json": {
       "model_id": "21bc9cb262034ad7a13f77fb0c22e311",
       "version_major": 2,
       "version_minor": 0
      },
      "text/plain": [
       "Batches:   0%|          | 0/1 [00:00<?, ?it/s]"
      ]
     },
     "metadata": {},
     "output_type": "display_data"
    },
    {
     "data": {
      "application/vnd.jupyter.widget-view+json": {
       "model_id": "b4007799d5544dd0874181576d0a9be9",
       "version_major": 2,
       "version_minor": 0
      },
      "text/plain": [
       "Batches:   0%|          | 0/1 [00:00<?, ?it/s]"
      ]
     },
     "metadata": {},
     "output_type": "display_data"
    },
    {
     "data": {
      "application/vnd.jupyter.widget-view+json": {
       "model_id": "9ad67b49251c43129003ad9ed28b597a",
       "version_major": 2,
       "version_minor": 0
      },
      "text/plain": [
       "Batches:   0%|          | 0/1 [00:00<?, ?it/s]"
      ]
     },
     "metadata": {},
     "output_type": "display_data"
    },
    {
     "data": {
      "application/vnd.jupyter.widget-view+json": {
       "model_id": "000a539069e944d78fd68f04588e2513",
       "version_major": 2,
       "version_minor": 0
      },
      "text/plain": [
       "Batches:   0%|          | 0/1 [00:00<?, ?it/s]"
      ]
     },
     "metadata": {},
     "output_type": "display_data"
    },
    {
     "data": {
      "application/vnd.jupyter.widget-view+json": {
       "model_id": "023277a762544d3ebe7c2a76ac3ac0e1",
       "version_major": 2,
       "version_minor": 0
      },
      "text/plain": [
       "Batches:   0%|          | 0/1 [00:00<?, ?it/s]"
      ]
     },
     "metadata": {},
     "output_type": "display_data"
    },
    {
     "data": {
      "application/vnd.jupyter.widget-view+json": {
       "model_id": "96eab068c80b4f0f8e0cde4e047fdc16",
       "version_major": 2,
       "version_minor": 0
      },
      "text/plain": [
       "Batches:   0%|          | 0/1 [00:00<?, ?it/s]"
      ]
     },
     "metadata": {},
     "output_type": "display_data"
    },
    {
     "data": {
      "application/vnd.jupyter.widget-view+json": {
       "model_id": "3c05541d63fb427bb02533331bc0f115",
       "version_major": 2,
       "version_minor": 0
      },
      "text/plain": [
       "Batches:   0%|          | 0/1 [00:00<?, ?it/s]"
      ]
     },
     "metadata": {},
     "output_type": "display_data"
    },
    {
     "name": "stdout",
     "output_type": "stream",
     "text": [
      "Final number of requirements: 30\n",
      "Output saved in Markdown format in directory: checkpoints/requirements_downselect\n"
     ]
    }
   ],
   "source": [
    "import requirement_downselect\n",
    "importlib.reload(requirement_downselect)\n",
    "requirement_downselect.full_pass(\n",
    "    md_files=[\"/Users/ceadams/Documents/onclaive/onclaive/pipeline/checkpoints/revised_reqs_extraction/claude_reqs_list_v2_20250805_125844.md\", \"/Users/ceadams/Documents/onclaive/onclaive/pipeline/checkpoints/revised_reqs_extraction/claude_reqs_list_v2_20250805_125935.md\", \"/Users/ceadams/Documents/onclaive/onclaive/pipeline/checkpoints/revised_reqs_extraction/claude_reqs_list_v2_20250805_130022.md\", \"/Users/ceadams/Documents/onclaive/onclaive/pipeline/checkpoints/revised_reqs_extraction/claude_reqs_list_v2_20250805_130106.md\", \"/Users/ceadams/Documents/onclaive/onclaive/pipeline/checkpoints/revised_reqs_extraction/claude_reqs_list_v2_20250805_130905.md\", \"/Users/ceadams/Documents/onclaive/onclaive/pipeline/checkpoints/revised_reqs_extraction/claude_reqs_list_v2_20250805_133736.md\", \"/Users/ceadams/Documents/onclaive/onclaive/pipeline/checkpoints/revised_reqs_extraction/claude_reqs_list_v2_20250805_135555.md\" ,\"/Users/ceadams/Documents/onclaive/onclaive/pipeline/checkpoints/revised_reqs_extraction/claude_reqs_list_v2_20250805_144850.md\"]\n",
    "    #rag_files=[\"checkpoints/requirements_extraction/RAG/raw_output.json\"]\n",
    "    )"
   ]
  },
  {
   "cell_type": "markdown",
   "id": "669a69ed",
   "metadata": {},
   "source": [
    "## Test Plan Generation"
   ]
  },
  {
   "cell_type": "code",
   "execution_count": 8,
   "id": "4ee31b17",
   "metadata": {},
   "outputs": [],
   "source": [
    "import logging\n",
    "llm_clients.logger.setLevel(logging.INFO)"
   ]
  },
  {
   "cell_type": "code",
   "execution_count": 9,
   "id": "8be0d386",
   "metadata": {},
   "outputs": [
    {
     "name": "stderr",
     "output_type": "stream",
     "text": [
      "INFO:llm_utils:Starting test plan generation with claude for Plan-Net IG\n",
      "INFO:llm_utils:Parsed 19 requirements from /Users/ceadams/Documents/onclaive/onclaive/pipeline/checkpoints/revised_reqs_extraction/claude_reqs_list_v2_20250730_122703.md\n",
      "INFO:llm_utils:Parsed capability statement from /Users/ceadams/Documents/onclaive/onclaive/full-ig/markdown7_cleaned/CapabilityStatement_plan_net.md\n",
      "INFO:llm_utils:Identifying group for requirement REQ-01 using claude...\n",
      "INFO:llm_utils:Identifying group for requirement REQ-02 using claude...\n",
      "INFO:llm_utils:Identifying group for requirement REQ-03 using claude...\n",
      "INFO:llm_utils:Identifying group for requirement REQ-04 using claude...\n",
      "INFO:llm_utils:Identifying group for requirement REQ-05 using claude...\n",
      "INFO:llm_utils:Identifying group for requirement REQ-06 using claude...\n",
      "INFO:llm_utils:Identifying group for requirement REQ-07 using claude...\n",
      "INFO:llm_utils:Identifying group for requirement REQ-08 using claude...\n",
      "INFO:llm_utils:Identifying group for requirement REQ-09 using claude...\n",
      "INFO:llm_utils:Identifying group for requirement REQ-10 using claude...\n",
      "INFO:llm_utils:Identifying group for requirement REQ-11 using claude...\n",
      "INFO:llm_utils:Identifying group for requirement REQ-12 using claude...\n",
      "INFO:llm_utils:Identifying group for requirement REQ-13 using claude...\n",
      "INFO:llm_utils:Identifying group for requirement REQ-14 using claude...\n",
      "INFO:llm_utils:Identifying group for requirement REQ-15 using claude...\n",
      "INFO:llm_utils:Identifying group for requirement REQ-16 using claude...\n",
      "INFO:llm_utils:Identifying group for requirement REQ-17 using claude...\n",
      "INFO:llm_utils:Identifying group for requirement REQ-18 using claude...\n",
      "INFO:llm_utils:Identifying group for requirement REQ-19 using claude...\n",
      "INFO:llm_utils:Requirements grouped into 18 categories\n",
      "INFO:llm_utils:Group 'This requirement does not fit into any of the specific FHIR resource profile categories listed. It is a cross-cutting technical and privacy requirement that applies to the overall Plan-Net service implementation rather than to a specific resource profile.': 1 requirements\n",
      "INFO:llm_utils:Group 'This requirement does not map to a specific resource profile. It is a cross-cutting privacy and security requirement that applies to the overall system behavior rather than to any particular FHIR resource type.': 1 requirements\n",
      "INFO:llm_utils:Group 'This requirement does not fit into any of the specific resource profile categories, as it describes a general API capability that applies across all resource types rather than being specific to any single resource profile.': 1 requirements\n",
      "INFO:llm_utils:Group 'This requirement applies to all resource profiles as it is a general API behavior requirement for handling missing Must Support data elements across all Plan-Net resources.': 1 requirements\n",
      "INFO:llm_utils:Group 'This requirement is cross-cutting and applies to all resource profiles, but since I must choose one category:': 1 requirements\n",
      "INFO:llm_utils:Group 'General Application Requirements': 1 requirements\n",
      "INFO:llm_utils:Group 'This requirement does not fit into any of the specific resource profile categories listed. It is a general application capability requirement that applies across all resource types.': 1 requirements\n",
      "INFO:llm_utils:Group 'This requirement does not fit into any of the specific resource profile categories, as it addresses a general application behavior requirement that applies across all resource types when interpreting missing Must Support data elements.': 1 requirements\n",
      "INFO:llm_utils:Group 'General/Cross-Resource Requirements': 1 requirements\n",
      "INFO:llm_utils:Group 'Server Capability': 1 requirements\n",
      "INFO:llm_utils:Group 'FHIR RESTful Capabilities': 2 requirements\n",
      "INFO:llm_utils:Group 'This requirement does not belong to any of the specific resource profiles listed. It is a general server capability requirement that applies across all resources and operations in the Plan-Net implementation guide.': 1 requirements\n",
      "INFO:llm_utils:Group 'Cross-cutting/Server Capabilities': 1 requirements\n",
      "INFO:llm_utils:Group 'General/Cross-cutting': 1 requirements\n",
      "INFO:llm_utils:Group 'This requirement does not fit into any of the specific resource profile categories as it applies to search parameter support across all profiles in the implementation guide rather than being specific to any single resource type.': 1 requirements\n",
      "INFO:llm_utils:Group 'General/Infrastructure': 1 requirements\n",
      "INFO:llm_utils:Group 'This requirement does not fit into any of the specific resource profile categories as it is a general security requirement that applies to all Plan-Net Server operations across all resource types.': 1 requirements\n",
      "INFO:llm_utils:Group 'Plan-Net HealthcareService': 1 requirements\n",
      "INFO:llm_utils:Processing requirement for group 'Cross-cutting/Server Capabilities': REQ-13\n",
      "INFO:llm_utils:Generating test specification for REQ-13 using claude...\n",
      "INFO:llm_utils:Processing requirement for group 'FHIR RESTful Capabilities': REQ-11\n",
      "INFO:llm_utils:Generating test specification for REQ-11 using claude...\n",
      "INFO:llm_utils:Processing requirement for group 'FHIR RESTful Capabilities': REQ-16\n",
      "INFO:llm_utils:Generating test specification for REQ-16 using claude...\n",
      "INFO:llm_utils:Processing requirement for group 'General Application Requirements': REQ-06\n",
      "INFO:llm_utils:Generating test specification for REQ-06 using claude...\n",
      "INFO:llm_utils:Processing requirement for group 'General/Cross-Resource Requirements': REQ-09\n",
      "INFO:llm_utils:Generating test specification for REQ-09 using claude...\n",
      "INFO:llm_utils:Processing requirement for group 'General/Cross-cutting': REQ-14\n",
      "INFO:llm_utils:Generating test specification for REQ-14 using claude...\n",
      "INFO:llm_utils:Processing requirement for group 'General/Infrastructure': REQ-17\n",
      "INFO:llm_utils:Generating test specification for REQ-17 using claude...\n",
      "INFO:llm_utils:Processing requirement for group 'Plan-Net HealthcareService': REQ-19\n",
      "INFO:llm_utils:Generating test specification for REQ-19 using claude...\n",
      "INFO:llm_utils:Processing requirement for group 'Server Capability': REQ-10\n",
      "INFO:llm_utils:Generating test specification for REQ-10 using claude...\n",
      "INFO:llm_utils:Processing requirement for group 'This requirement applies to all resource profiles as it is a general API behavior requirement for handling missing Must Support data elements across all Plan-Net resources.': REQ-04\n",
      "INFO:llm_utils:Generating test specification for REQ-04 using claude...\n",
      "INFO:llm_utils:Processing requirement for group 'This requirement does not belong to any of the specific resource profiles listed. It is a general server capability requirement that applies across all resources and operations in the Plan-Net implementation guide.': REQ-12\n",
      "INFO:llm_utils:Generating test specification for REQ-12 using claude...\n",
      "INFO:llm_utils:Processing requirement for group 'This requirement does not fit into any of the specific FHIR resource profile categories listed. It is a cross-cutting technical and privacy requirement that applies to the overall Plan-Net service implementation rather than to a specific resource profile.': REQ-01\n",
      "INFO:llm_utils:Generating test specification for REQ-01 using claude...\n",
      "INFO:llm_utils:Processing requirement for group 'This requirement does not fit into any of the specific resource profile categories as it applies to search parameter support across all profiles in the implementation guide rather than being specific to any single resource type.': REQ-15\n",
      "INFO:llm_utils:Generating test specification for REQ-15 using claude...\n",
      "INFO:llm_utils:Processing requirement for group 'This requirement does not fit into any of the specific resource profile categories as it is a general security requirement that applies to all Plan-Net Server operations across all resource types.': REQ-18\n",
      "INFO:llm_utils:Generating test specification for REQ-18 using claude...\n",
      "INFO:llm_utils:Processing requirement for group 'This requirement does not fit into any of the specific resource profile categories listed. It is a general application capability requirement that applies across all resource types.': REQ-07\n",
      "INFO:llm_utils:Generating test specification for REQ-07 using claude...\n",
      "INFO:llm_utils:Processing requirement for group 'This requirement does not fit into any of the specific resource profile categories, as it addresses a general application behavior requirement that applies across all resource types when interpreting missing Must Support data elements.': REQ-08\n",
      "INFO:llm_utils:Generating test specification for REQ-08 using claude...\n",
      "INFO:llm_utils:Processing requirement for group 'This requirement does not fit into any of the specific resource profile categories, as it describes a general API capability that applies across all resource types rather than being specific to any single resource profile.': REQ-03\n",
      "INFO:llm_utils:Generating test specification for REQ-03 using claude...\n",
      "INFO:llm_utils:Processing requirement for group 'This requirement does not map to a specific resource profile. It is a cross-cutting privacy and security requirement that applies to the overall system behavior rather than to any particular FHIR resource type.': REQ-02\n",
      "INFO:llm_utils:Generating test specification for REQ-02 using claude...\n",
      "INFO:llm_utils:Processing requirement for group 'This requirement is cross-cutting and applies to all resource profiles, but since I must choose one category:': REQ-05\n",
      "INFO:llm_utils:Generating test specification for REQ-05 using claude...\n",
      "INFO:llm_utils:Consolidated test plan saved to checkpoints/testplan_generation/claude_test_plan_20250730_123104.md\n"
     ]
    },
    {
     "name": "stdout",
     "output_type": "stream",
     "text": [
      "Generated test plan with improved capability parsing: checkpoints/testplan_generation/claude_test_plan_20250730_123104.md\n"
     ]
    }
   ],
   "source": [
    "import req_to_testplan\n",
    "importlib.reload(req_to_testplan)\n",
    "\n",
    "result = req_to_testplan.generate_consolidated_test_plan(\n",
    "    llm_clients,\n",
    "    'claude',  # 'claude' or 'gemini' or 'gpt'\n",
    "    llm_clients.logger,\n",
    "    \"/Users/ceadams/Documents/onclaive/onclaive/pipeline/checkpoints/revised_reqs_extraction/claude_reqs_list_v2_20250730_122703.md\",\n",
    "    \"/Users/ceadams/Documents/onclaive/onclaive/full-ig/markdown7_cleaned/CapabilityStatement_plan_net.md\",\n",
    "    \"Plan-Net IG\",\n",
    "    output_dir='checkpoints/testplan_generation'\n",
    ")\n",
    "\n",
    "print(f\"Generated test plan with improved capability parsing: {result['test_plan_path']}\")"
   ]
  },
  {
   "cell_type": "code",
   "execution_count": null,
   "id": "54914262",
   "metadata": {},
   "outputs": [
    {
     "name": "stdout",
     "output_type": "stream",
     "text": [
      "\n",
      "Capability Statement Analysis:\n",
      "- Found 8 resources: ['Endpoint', 'HealthcareService', 'InsurancePlan', 'Location', 'Organization', 'OrganizationAffiliation', 'Practitioner', 'PractitionerRole']\n",
      "- General capabilities text length: 1113 characters\n"
     ]
    }
   ],
   "source": [
    "capability_statement = req_to_testplan.parse_capability_statement_by_chunks(\n",
    "    \"/Users/ceadams/Documents/onclaive/onclaive/full-ig/markdown7_cleaned/CapabilityStatement_plan_net.md\"\n",
    ")\n",
    "\n",
    "print(f\"\\nCapability Statement Analysis:\")\n",
    "print(f\"- Found {len(capability_statement['resource_list'])} resources: {capability_statement['resource_list']}\")\n",
    "print(f\"- General capabilities text length: {len(capability_statement['general_capabilities'])} characters\")\n"
   ]
  },
  {
   "cell_type": "code",
   "execution_count": null,
   "id": "48cc38ae",
   "metadata": {},
   "outputs": [
    {
     "name": "stdout",
     "output_type": "stream",
     "text": [
      "\n",
      "Sample requirement matching:\n",
      "- Relevant capability info length: 6082 characters\n",
      "- Preview: ### Applicable Capability Statement Information\n",
      "\n",
      "#### Relevant Resource Capabilities\n",
      "\n",
      "#### Location\n",
      "\n",
      "Conformance Expectation: **SHALL**\n",
      "\n",
      "Supported Profiles:\n",
      "\n",
      " [Plan\\-Net Location](StructureDefinition-plannet-Location.html)\n",
      "\n",
      "Reference Policy: `resolves`\n",
      "\n",
      "Profile Interaction Summary:\n",
      "\n",
      "* **SHALL** support \n",
      " `search-type`, \n",
      " `read`.\n",
      "* **SHOULD** support \n",
      " `vread`.\n",
      "\n",
      "Fetch and Search Criteria:\n",
      "\n",
      "* A Server **SHALL** be capable of returning a Location resource using:\n",
      "\n",
      "`GET [base]/Location/[id]`\n",
      "\n",
      "* A Server **SHOULD** be capable of returning a Location resource using:\n",
      "\n",
      "`GET [base]/Location/[id]/_history/vid`\n",
      "\n",
      " * A Server **SHALL** be capable of supporting the following \\_includes:\n",
      "\n",
      " Location:endpoint \\- `GET [base]/Location?[parameter=value]&_include=Location:endpoint`  \n",
      "\n",
      " Location:organization \\- `GET [base]/Location?[parameter=value]&_include=Location:organization`  \n",
      "\n",
      " Location:partof \\- `GET [base]/Location?[parameter=value]&_include=Location:partof`\n",
      "\n",
      " * A Server **SHALL** be capable of supporting the following \\_revincludes:\n",
      "\n",
      " HealthcareService:location \\- `GET [base]/Location?[parameter=value]&_revinclude=HealthcareService:location`  \n",
      "\n",
      " InsurancePlan:coverage\\-area \\- `GET [base]/Location?[parameter=value]&_revinclude=InsurancePlan:coverage-area`  \n",
      "\n",
      " OrganizationAffiliation:location \\- `GET [base]/Location?[parameter=value]&_revinclude=OrganizationAffiliation:location`  \n",
      "\n",
      " PractitionerRole:location \\- `GET [base]/Location?[parameter=value]&_revinclude=PractitionerRole:location`\n",
      "\n",
      "Search Parameter Summary:\n",
      "\n",
      "| Conformance | Parameter | Type | Example |\n",
      "| --- | --- | --- | --- |\n",
      "| **SHALL** | [partof](SearchParameter-location-partof.html) | reference | `GET [base]/Location?partof=[partof]` |\n",
      "| **SHALL** | [organization](SearchParameter-location-organization.html) | reference | `GET [base]/Location?organization=[organization]` |\n",
      "| **SHALL** | [endpoint](SearchParameter-location-endpoint.html) | reference | `GET [base]/Location?endpoint=[endpoint]` |\n",
      "| **SHALL** | [address\\-city](SearchParameter-location-address-city.html) | string | `GET [base]/Location?address-city=[address-city]` |\n",
      "| **SHALL** | [address\\-state](SearchParameter-location-address-state.html) | string | `GET [base]/Location?address-state=[address-state]` |\n",
      "| **SHALL** | [address\\-postalcode](SearchParameter-location-address-postalcode.html) | string | `GET [base]/Location?address-postalcode=[address-postalcode]` |\n",
      "| **SHALL** | [address](SearchParameter-location-address.html) | string | `GET [base]/Location?address=[address]` |\n",
      "| **SHALL** | [type](SearchParameter-location-type.html) | token | `GET [base]/Location?type=[system]|[code]` |\n",
      "| **SHALL** | [\\_id](http://hl7.org/fhir/R4/search.html) | token | `GET [base]/Location?_id=[id]` |\n",
      "| **SHALL** | [\\_lastUpdated](http://hl7.org/fhir/R4/search.html) | date | `GET [base]/Location?_lastUpdated=[_lastUpdated]` |\n",
      "\n",
      "\n",
      "---\n",
      "\n",
      "#### Organization\n",
      "\n",
      "Conformance Expectation: **SHALL**\n",
      "\n",
      "Supported Profiles:\n",
      "\n",
      " [Plan\\-Net Network](StructureDefinition-plannet-Network.html), \n",
      "\n",
      " [Plan\\-Net Organization](StructureDefinition-plannet-Organization.html)\n",
      "\n",
      "Reference Policy: `resolves`\n",
      "\n",
      "Profile Interaction Summary:\n",
      "\n",
      "* **SHALL** support \n",
      " `search-type`, \n",
      " `read`.\n",
      "* **SHOULD** support \n",
      " `vread`.\n",
      "\n",
      "Fetch and Search Criteria:\n",
      "\n",
      "* A Server **SHALL** be capable of returning a Organization resource using:\n",
      "\n",
      "`GET [base]/Organization/[id]`\n",
      "\n",
      "* A Server **SHOULD** be capable of returning a Organization resource using:\n",
      "\n",
      "`GET [base]/Organization/[id]/_history/vid`\n",
      "\n",
      " * A Server **SHALL** be capable of supporting the following \\_includes:\n",
      "\n",
      " Organization:partof \\- `GET [base]/Organization?[parameter=value]&_include=Organization:partof`  \n",
      "\n",
      " Organization:endpoint \\- `GET [base]/Organization?[parameter=value]&_include=Organization:endpoint`  \n",
      "\n",
      " Organization:coverage\\-area \\- `GET [base]/Organization?[parameter=value]&_include=Organization:coverage-area`\n",
      "\n",
      " * A Server **SHALL** be capable of supporting the following \\_revincludes:\n",
      "\n",
      " Endpoint:organization \\- `GET [base]/Organization?[parameter=value]&_revinclude=Endpoint:organization`  \n",
      "\n",
      " HealthcareService:organization \\- `GET [base]/Organization?[parameter=value]&_revinclude=HealthcareService:organization`  \n",
      "\n",
      " InsurancePlan:administered\\-by \\- `GET [base]/Organization?[parameter=value]&_revinclude=InsurancePlan:administered-by`  \n",
      "\n",
      " InsurancePlan:owned\\-by \\- `GET [base]/Organization?[parameter=value]&_revinclude=InsurancePlan:owned-by`  \n",
      "\n",
      " OrganizationAffiliation:primary\\-organization \\- `GET [base]/Organization?[parameter=value]&_revinclude=OrganizationAffiliation:primary-organization`  \n",
      "\n",
      " PractitionerRole:organization \\- `GET [base]/Organization?[parameter=value]&_revinclude=PractitionerRole:organization`  \n",
      "\n",
      " PractitionerRole:network \\- `GET [base]/Organization?[parameter=value]&_revinclude=PractitionerRole:network`  \n",
      "\n",
      " OrganizationAffiliation:participating\\-organization \\- `GET [base]/Organization?[parameter=value]&_revinclude=OrganizationAffiliation:participating-organization`\n",
      "\n",
      "Search Parameter Summary:\n",
      "\n",
      "| Conformance | Parameter | Type | Example |\n",
      "| --- | --- | --- | --- |\n",
      "| **SHALL** | [partof](SearchParameter-organization-partof.html) | reference | `GET [base]/Organization?partof=[partof]` |\n",
      "| **SHALL** | [endpoint](SearchParameter-organization-endpoint.html) | reference | `GET [base]/Organization?endpoint=[endpoint]` |\n",
      "| **SHALL** | [address](SearchParameter-organization-address.html) | string | `GET [base]/Organization?address=[address]` |\n",
      "| **SHALL** | [name](SearchParameter-organization-name.html) | string | `GET [base]/Organization?name=[name]` |\n",
      "| **SHALL** | [\\_id](http://hl7.org/fhir/R4/search.html) | token | `GET [base]/Organization?_id=[id]` |\n",
      "| **SHALL** | [\\_lastUpdated](http://hl7.org/fhir/R4/search.html) | date | `GET [base]/Organization?_lastUpdated=[_lastUpdated]` |\n",
      "| **SHALL** | [type](SearchParameter-organization-type.html) | token | `GET [base]/Organization?type=[system]|[code]` |\n",
      "| **SHALL** | [coverage\\-area](SearchParameter-organization-coverage-area.html) | reference | `GET [base]/Organization?coverage-area=[coverage-area]` |\n",
      "\n",
      "\n",
      "---\n",
      "\n",
      "...\n"
     ]
    }
   ],
   "source": [
    "sample_requirement = {\n",
    "    'summary': 'Organization search by name',\n",
    "    'description': 'The Plan-Net design is based around the following types of searches: Organization by Name - Example: Montgomery Cardiology or CVS - Focal Resource and Field: Organization.name - Qualifications of Search: Location, network, specialty.',\n",
    "    'verification': 'Automatically testable',\n",
    "    'actor': 'Health Plan API'\n",
    "}\n",
    "\n",
    "relevant_info = req_to_testplan.extract_relevant_capability_chunks(sample_requirement, capability_statement)\n",
    "print(f\"\\nSample requirement matching:\")\n",
    "print(f\"- Relevant capability info length: {len(relevant_info)} characters\")\n",
    "print(f\"- Preview: {relevant_info}...\")"
   ]
  },
  {
   "cell_type": "markdown",
   "id": "f54f6a62",
   "metadata": {},
   "source": [
    "### RAG Approach"
   ]
  },
  {
   "cell_type": "code",
   "execution_count": null,
   "id": "bfbf87c7",
   "metadata": {},
   "outputs": [],
   "source": []
  },
  {
   "cell_type": "code",
   "execution_count": 17,
   "id": "5cf1f5b1",
   "metadata": {},
   "outputs": [
    {
     "name": "stdout",
     "output_type": "stream",
     "text": [
      "Deleted existing collection: capability_statements\n"
     ]
    },
    {
     "name": "stderr",
     "output_type": "stream",
     "text": [
      "ERROR:backoff:Giving up send_request(...) after 4 tries (requests.exceptions.SSLError: HTTPSConnectionPool(host='us.i.posthog.com', port=443): Max retries exceeded with url: /batch/ (Caused by SSLError(SSLCertVerificationError(1, '[SSL: CERTIFICATE_VERIFY_FAILED] certificate verify failed: unable to get local issuer certificate (_ssl.c:1000)'))))\n"
     ]
    }
   ],
   "source": [
    "import warnings\n",
    "import urllib3\n",
    "urllib3.disable_warnings(urllib3.exceptions.InsecureRequestWarning)\n",
    "\n",
    "# Set logging level to reduce noise\n",
    "import logging\n",
    "logging.getLogger(\"urllib3.connectionpool\").setLevel(logging.ERROR)\n",
    "logging.getLogger(\"backoff\").setLevel(logging.ERROR)\n",
    "\n",
    "import req_to_testplan_rag\n",
    "importlib.reload(req_to_testplan_rag)\n",
    "\n",
    "req_to_testplan_rag.clear_capability_collection(\"capability_statements\")\n"
   ]
  },
  {
   "cell_type": "code",
   "execution_count": 18,
   "id": "a668d468",
   "metadata": {},
   "outputs": [
    {
     "name": "stderr",
     "output_type": "stream",
     "text": [
      "INFO:llm_utils:Starting test plan generation with claude for Plan-Net IG\n",
      "INFO:llm_utils:Parsed 19 requirements from /Users/ceadams/Documents/onclaive/onclaive/pipeline/checkpoints/revised_reqs_extraction/claude_reqs_list_v2_20250730_122703.md\n",
      "INFO:llm_utils:Initialized capability collection from ../full-ig/markdown7_cleaned/CapabilityStatement_plan_net.md\n",
      "INFO:llm_utils:Identifying group for requirement REQ-01 using claude...\n",
      "INFO:llm_utils:Identifying group for requirement REQ-02 using claude...\n",
      "ERROR:backoff:Giving up send_request(...) after 4 tries (requests.exceptions.SSLError: HTTPSConnectionPool(host='us.i.posthog.com', port=443): Max retries exceeded with url: /batch/ (Caused by SSLError(SSLCertVerificationError(1, '[SSL: CERTIFICATE_VERIFY_FAILED] certificate verify failed: unable to get local issuer certificate (_ssl.c:1000)'))))\n",
      "INFO:llm_utils:Identifying group for requirement REQ-03 using claude...\n",
      "INFO:llm_utils:Identifying group for requirement REQ-04 using claude...\n",
      "INFO:llm_utils:Identifying group for requirement REQ-05 using claude...\n",
      "ERROR:backoff:Giving up send_request(...) after 4 tries (requests.exceptions.SSLError: HTTPSConnectionPool(host='us.i.posthog.com', port=443): Max retries exceeded with url: /batch/ (Caused by SSLError(SSLCertVerificationError(1, '[SSL: CERTIFICATE_VERIFY_FAILED] certificate verify failed: unable to get local issuer certificate (_ssl.c:1000)'))))\n",
      "INFO:llm_utils:Identifying group for requirement REQ-06 using claude...\n",
      "INFO:llm_utils:Identifying group for requirement REQ-07 using claude...\n",
      "INFO:llm_utils:Identifying group for requirement REQ-08 using claude...\n",
      "INFO:llm_utils:Identifying group for requirement REQ-09 using claude...\n",
      "INFO:llm_utils:Identifying group for requirement REQ-10 using claude...\n",
      "INFO:llm_utils:Identifying group for requirement REQ-11 using claude...\n",
      "INFO:llm_utils:Identifying group for requirement REQ-12 using claude...\n",
      "INFO:llm_utils:Identifying group for requirement REQ-13 using claude...\n",
      "INFO:llm_utils:Identifying group for requirement REQ-14 using claude...\n",
      "INFO:llm_utils:Identifying group for requirement REQ-15 using claude...\n",
      "INFO:llm_utils:Identifying group for requirement REQ-16 using claude...\n",
      "INFO:llm_utils:Identifying group for requirement REQ-17 using claude...\n",
      "INFO:llm_utils:Identifying group for requirement REQ-18 using claude...\n",
      "INFO:llm_utils:Identifying group for requirement REQ-19 using claude...\n",
      "INFO:llm_utils:Requirements grouped into 4 categories\n",
      "INFO:llm_utils:Group 'Privacy': 2 requirements\n",
      "INFO:llm_utils:Group 'General/Cross-Resource': 15 requirements\n",
      "INFO:llm_utils:Group 'Security': 1 requirements\n",
      "INFO:llm_utils:Group 'Plan-Net HealthcareService': 1 requirements\n",
      "INFO:llm_utils:Processing requirement for group 'General/Cross-Resource': REQ-03\n",
      "INFO:llm_utils:Generating test specification for REQ-03 using claude...\n"
     ]
    },
    {
     "name": "stdout",
     "output_type": "stream",
     "text": [
      "\n",
      "Processing Group: General/Cross-Resource (15 requirements)\n",
      "\n",
      "Processing REQ-03: Health Plan API Must Support data population capability\n",
      "\n",
      "================================================================================\n",
      "RAG RETRIEVAL FOR REQ-03\n",
      "================================================================================\n",
      "Query: Health Plan API Must Support data population capability \"Health Plan API actors SHALL be capable of populating all Must Support data elements as part of the query results.\" Health Plan API FHIR SHALL\n",
      "Searching for 5 most relevant capability chunks...\n",
      "\n",
      "Found 5 matching chunks:\n",
      "\n",
      "  Match 1 (distance: 0.7221184968948364):\n",
      "  Length: 3036 chars\n",
      "  Preview: FHIR Resource Detail: #### HealthcareService\n",
      "\n",
      "Conformance Expectation: **SHALL**\n",
      "\n",
      "Supported Profiles...\n",
      "  ...lthcareService?_lastUpdated=[_lastUpdated]` |\n",
      "\n",
      "---\n",
      "\n",
      "  Match 2 (distance: 0.7407464981079102):\n",
      "  Length: 3288 chars\n",
      "  Preview: FHIR Resource/Component: ### RESTful Capabilities by Resource/Profile:\n",
      "\n",
      "**Summary of Search Criteria...\n",
      "  ...nerRole:network, PractitionerRole:endpoint |  |  |\n",
      "\n",
      "  Match 3 (distance: 0.8931890726089478):\n",
      "  Length: 3225 chars\n",
      "  Preview: FHIR Resource Detail: #### Organization\n",
      "\n",
      "Conformance Expectation: **SHALL**\n",
      "\n",
      "Supported Profiles:\n",
      "\n",
      " [...\n",
      "  ...Organization?coverage-area=[coverage-area]` |\n",
      "\n",
      "---\n",
      "\n",
      "  Match 4 (distance: 0.9035460352897644):\n",
      "  Length: 996 chars\n",
      "  Preview: FHIR Major Section: ## CapabilityStatement: Plan\\-Net CapabilityStatement\n",
      "\n",
      "| *Official URL*: http://...\n",
      "  ...openapi.json) \\| [Download](plan-net.openapi.json)\n",
      "\n",
      "  Match 5 (distance: 0.9197363257408142):\n",
      "  Length: 2302 chars\n",
      "  Preview: FHIR Resource Detail: #### InsurancePlan\n",
      "\n",
      "Conformance Expectation: **SHALL**\n",
      "\n",
      "Supported Profiles:\n",
      "\n",
      " ...\n",
      "  ... [base]/InsurancePlan?type=[system]|[code]` |\n",
      "\n",
      "---\n",
      "================================================================================\n",
      "\n",
      "Sending request to CLAUDE API...\n"
     ]
    },
    {
     "name": "stderr",
     "output_type": "stream",
     "text": [
      "ERROR:backoff:Giving up send_request(...) after 4 tries (requests.exceptions.SSLError: HTTPSConnectionPool(host='us.i.posthog.com', port=443): Max retries exceeded with url: /batch/ (Caused by SSLError(SSLCertVerificationError(1, '[SSL: CERTIFICATE_VERIFY_FAILED] certificate verify failed: unable to get local issuer certificate (_ssl.c:1000)'))))\n"
     ]
    },
    {
     "name": "stdout",
     "output_type": "stream",
     "text": [
      "Completed test specification for REQ-03\n"
     ]
    },
    {
     "name": "stderr",
     "output_type": "stream",
     "text": [
      "INFO:llm_utils:Processing requirement for group 'General/Cross-Resource': REQ-04\n",
      "INFO:llm_utils:Generating test specification for REQ-04 using claude...\n"
     ]
    },
    {
     "name": "stdout",
     "output_type": "stream",
     "text": [
      "\n",
      "Processing REQ-04: Health Plan API missing data element exclusion\n",
      "\n",
      "================================================================================\n",
      "RAG RETRIEVAL FOR REQ-04\n",
      "================================================================================\n",
      "Query: Health Plan API missing data element exclusion \"In situations where information on a particular Must Support data element is not present and the minimum cardinality is 0, the Health Plan API actors SHALL NOT include the data elements in the resource instance returned as part of the query results.\" Health Plan API FHIR SHALL NOT\n",
      "Searching for 5 most relevant capability chunks...\n",
      "\n",
      "Found 5 matching chunks:\n",
      "\n",
      "  Match 1 (distance: 0.8133128881454468):\n",
      "  Length: 3036 chars\n",
      "  Preview: FHIR Resource Detail: #### HealthcareService\n",
      "\n",
      "Conformance Expectation: **SHALL**\n",
      "\n",
      "Supported Profiles...\n",
      "  ...lthcareService?_lastUpdated=[_lastUpdated]` |\n",
      "\n",
      "---\n",
      "\n",
      "  Match 2 (distance: 0.8196702599525452):\n",
      "  Length: 3288 chars\n",
      "  Preview: FHIR Resource/Component: ### RESTful Capabilities by Resource/Profile:\n",
      "\n",
      "**Summary of Search Criteria...\n",
      "  ...nerRole:network, PractitionerRole:endpoint |  |  |\n",
      "\n",
      "  Match 3 (distance: 0.8978815078735352):\n",
      "  Length: 2302 chars\n",
      "  Preview: FHIR Resource Detail: #### InsurancePlan\n",
      "\n",
      "Conformance Expectation: **SHALL**\n",
      "\n",
      "Supported Profiles:\n",
      "\n",
      " ...\n",
      "  ... [base]/InsurancePlan?type=[system]|[code]` |\n",
      "\n",
      "---\n",
      "\n",
      "  Match 4 (distance: 0.911388099193573):\n",
      "  Length: 3225 chars\n",
      "  Preview: FHIR Resource Detail: #### Organization\n",
      "\n",
      "Conformance Expectation: **SHALL**\n",
      "\n",
      "Supported Profiles:\n",
      "\n",
      " [...\n",
      "  ...Organization?coverage-area=[coverage-area]` |\n",
      "\n",
      "---\n",
      "\n",
      "  Match 5 (distance: 0.9605564475059509):\n",
      "  Length: 2809 chars\n",
      "  Preview: FHIR Resource Detail: #### Location\n",
      "\n",
      "Conformance Expectation: **SHALL**\n",
      "\n",
      "Supported Profiles:\n",
      "\n",
      " [Plan...\n",
      "  ...base]/Location?_lastUpdated=[_lastUpdated]` |\n",
      "\n",
      "---\n",
      "================================================================================\n",
      "\n",
      "Sending request to CLAUDE API...\n",
      "Completed test specification for REQ-04\n"
     ]
    },
    {
     "name": "stderr",
     "output_type": "stream",
     "text": [
      "INFO:llm_utils:Processing requirement for group 'General/Cross-Resource': REQ-05\n",
      "INFO:llm_utils:Generating test specification for REQ-05 using claude...\n"
     ]
    },
    {
     "name": "stdout",
     "output_type": "stream",
     "text": [
      "\n",
      "Processing REQ-05: Health Plan API missing information reason requirement\n",
      "\n",
      "================================================================================\n",
      "RAG RETRIEVAL FOR REQ-05\n",
      "================================================================================\n",
      "Query: Health Plan API missing information reason requirement \"In situations where information on a particular data element is not present and the minimum cardinality is >0 SHALL send the reason for the missing information using values (such as nullFlavors) from the value set where they exist or use the dataAbsentReason extension.\" Health Plan API FHIR SHALL\n",
      "Searching for 5 most relevant capability chunks...\n",
      "\n",
      "Found 5 matching chunks:\n",
      "\n",
      "  Match 1 (distance: 0.9029258489608765):\n",
      "  Length: 3036 chars\n",
      "  Preview: FHIR Resource Detail: #### HealthcareService\n",
      "\n",
      "Conformance Expectation: **SHALL**\n",
      "\n",
      "Supported Profiles...\n",
      "  ...lthcareService?_lastUpdated=[_lastUpdated]` |\n",
      "\n",
      "---\n",
      "\n",
      "  Match 2 (distance: 0.9266811609268188):\n",
      "  Length: 3288 chars\n",
      "  Preview: FHIR Resource/Component: ### RESTful Capabilities by Resource/Profile:\n",
      "\n",
      "**Summary of Search Criteria...\n",
      "  ...nerRole:network, PractitionerRole:endpoint |  |  |\n",
      "\n",
      "  Match 3 (distance: 0.9644936323165894):\n",
      "  Length: 2302 chars\n",
      "  Preview: FHIR Resource Detail: #### InsurancePlan\n",
      "\n",
      "Conformance Expectation: **SHALL**\n",
      "\n",
      "Supported Profiles:\n",
      "\n",
      " ...\n",
      "  ... [base]/InsurancePlan?type=[system]|[code]` |\n",
      "\n",
      "---\n",
      "\n",
      "  Match 4 (distance: 1.0232651233673096):\n",
      "  Length: 3225 chars\n",
      "  Preview: FHIR Resource Detail: #### Organization\n",
      "\n",
      "Conformance Expectation: **SHALL**\n",
      "\n",
      "Supported Profiles:\n",
      "\n",
      " [...\n",
      "  ...Organization?coverage-area=[coverage-area]` |\n",
      "\n",
      "---\n",
      "\n",
      "  Match 5 (distance: 1.0742599964141846):\n",
      "  Length: 2809 chars\n",
      "  Preview: FHIR Resource Detail: #### Location\n",
      "\n",
      "Conformance Expectation: **SHALL**\n",
      "\n",
      "Supported Profiles:\n",
      "\n",
      " [Plan...\n",
      "  ...base]/Location?_lastUpdated=[_lastUpdated]` |\n",
      "\n",
      "---\n",
      "================================================================================\n",
      "\n",
      "Sending request to CLAUDE API...\n",
      "Completed test specification for REQ-05\n"
     ]
    },
    {
     "name": "stderr",
     "output_type": "stream",
     "text": [
      "INFO:llm_utils:Processing requirement for group 'General/Cross-Resource': REQ-06\n",
      "INFO:llm_utils:Generating test specification for REQ-06 using claude...\n"
     ]
    },
    {
     "name": "stdout",
     "output_type": "stream",
     "text": [
      "\n",
      "Processing REQ-06: Application Must Support data processing capability\n",
      "\n",
      "================================================================================\n",
      "RAG RETRIEVAL FOR REQ-06\n",
      "================================================================================\n",
      "Query: Application Must Support data processing capability \"Application actors SHALL be capable of processing resource instances containing the Must Support data elements without generating an error or causing the application to fail.\" Application FHIR SHALL\n",
      "Searching for 5 most relevant capability chunks...\n",
      "\n",
      "Found 5 matching chunks:\n",
      "\n",
      "  Match 1 (distance: 0.7878591418266296):\n",
      "  Length: 802 chars\n",
      "  Preview: FHIR Major Section: ## Plan\\-Net CapabilityStatement\n",
      "\n",
      "* Implementation Guide Version: 1\\.0\\.0\n",
      "* FHIR...\n",
      "  ...local use cases and other contextual requirements.\n",
      "\n",
      "  Match 2 (distance: 0.9288669228553772):\n",
      "  Length: 996 chars\n",
      "  Preview: FHIR Major Section: ## CapabilityStatement: Plan\\-Net CapabilityStatement\n",
      "\n",
      "| *Official URL*: http://...\n",
      "  ...openapi.json) \\| [Download](plan-net.openapi.json)\n",
      "\n",
      "  Match 3 (distance: 0.9662339687347412):\n",
      "  Length: 1169 chars\n",
      "  Preview: FHIR Resource/Component: ### FHIR RESTful Capabilities\n",
      "\n",
      "The Plan\\-Net Server **SHALL**:\n",
      "\n",
      "1. Support ...\n",
      "  ...eturning an `HTTP 401` unauthorized response code.\n",
      "\n",
      "  Match 4 (distance: 0.9697123169898987):\n",
      "  Length: 3225 chars\n",
      "  Preview: FHIR Resource Detail: #### Organization\n",
      "\n",
      "Conformance Expectation: **SHALL**\n",
      "\n",
      "Supported Profiles:\n",
      "\n",
      " [...\n",
      "  ...Organization?coverage-area=[coverage-area]` |\n",
      "\n",
      "---\n",
      "\n",
      "  Match 5 (distance: 0.9856300354003906):\n",
      "  Length: 2854 chars\n",
      "  Preview: FHIR Resource Detail: #### PractitionerRole\n",
      "\n",
      "Conformance Expectation: **SHALL**\n",
      "\n",
      "Supported Profiles:...\n",
      "  ...actitionerRole?_lastUpdated=[_lastUpdated]` |\n",
      "\n",
      "---\n",
      "================================================================================\n",
      "\n",
      "Sending request to CLAUDE API...\n",
      "Completed test specification for REQ-06\n"
     ]
    },
    {
     "name": "stderr",
     "output_type": "stream",
     "text": [
      "INFO:llm_utils:Processing requirement for group 'General/Cross-Resource': REQ-07\n",
      "INFO:llm_utils:Generating test specification for REQ-07 using claude...\n"
     ]
    },
    {
     "name": "stdout",
     "output_type": "stream",
     "text": [
      "\n",
      "Processing REQ-07: Application data display capability\n",
      "\n",
      "================================================================================\n",
      "RAG RETRIEVAL FOR REQ-07\n",
      "================================================================================\n",
      "Query: Application data display capability \"Application actors SHOULD be capable of displaying the data elements for human use or storing the information for other purposes.\" Application FHIR SHOULD\n",
      "Searching for 5 most relevant capability chunks...\n",
      "\n",
      "Found 5 matching chunks:\n",
      "\n",
      "  Match 1 (distance: 0.9109271764755249):\n",
      "  Length: 802 chars\n",
      "  Preview: FHIR Major Section: ## Plan\\-Net CapabilityStatement\n",
      "\n",
      "* Implementation Guide Version: 1\\.0\\.0\n",
      "* FHIR...\n",
      "  ...local use cases and other contextual requirements.\n",
      "\n",
      "  Match 2 (distance: 1.0563591718673706):\n",
      "  Length: 996 chars\n",
      "  Preview: FHIR Major Section: ## CapabilityStatement: Plan\\-Net CapabilityStatement\n",
      "\n",
      "| *Official URL*: http://...\n",
      "  ...openapi.json) \\| [Download](plan-net.openapi.json)\n",
      "\n",
      "  Match 3 (distance: 1.068983793258667):\n",
      "  Length: 603 chars\n",
      "  Preview: FHIR Document Title: # CapabilityStatement: Plan\\-Net CapabilityStatement\n",
      "\n",
      "* [**Table of Contents**]...\n",
      "  ...x-plan-net/history.html)\n",
      "\n",
      "* [Narrative Content](#)\n",
      "\n",
      "  Match 4 (distance: 1.0850831270217896):\n",
      "  Length: 2854 chars\n",
      "  Preview: FHIR Resource Detail: #### PractitionerRole\n",
      "\n",
      "Conformance Expectation: **SHALL**\n",
      "\n",
      "Supported Profiles:...\n",
      "  ...actitionerRole?_lastUpdated=[_lastUpdated]` |\n",
      "\n",
      "---\n",
      "\n",
      "  Match 5 (distance: 1.1521000862121582):\n",
      "  Length: 3225 chars\n",
      "  Preview: FHIR Resource Detail: #### Organization\n",
      "\n",
      "Conformance Expectation: **SHALL**\n",
      "\n",
      "Supported Profiles:\n",
      "\n",
      " [...\n",
      "  ...Organization?coverage-area=[coverage-area]` |\n",
      "\n",
      "---\n",
      "================================================================================\n",
      "\n",
      "Sending request to CLAUDE API...\n",
      "Completed test specification for REQ-07\n"
     ]
    },
    {
     "name": "stderr",
     "output_type": "stream",
     "text": [
      "INFO:llm_utils:Processing requirement for group 'General/Cross-Resource': REQ-08\n",
      "INFO:llm_utils:Generating test specification for REQ-08 using claude...\n"
     ]
    },
    {
     "name": "stdout",
     "output_type": "stream",
     "text": [
      "\n",
      "Processing REQ-08: Application missing data interpretation requirement\n",
      "\n",
      "================================================================================\n",
      "RAG RETRIEVAL FOR REQ-08\n",
      "================================================================================\n",
      "Query: Application missing data interpretation requirement \"When querying Health Plan API actors, Application actors SHALL interpret missing Must Support data elements within resource instances as data not present in the Health Plan API actors system.\" Application FHIR SHALL\n",
      "Searching for 5 most relevant capability chunks...\n",
      "\n",
      "Found 5 matching chunks:\n",
      "\n",
      "  Match 1 (distance: 0.7869606614112854):\n",
      "  Length: 3036 chars\n",
      "  Preview: FHIR Resource Detail: #### HealthcareService\n",
      "\n",
      "Conformance Expectation: **SHALL**\n",
      "\n",
      "Supported Profiles...\n",
      "  ...lthcareService?_lastUpdated=[_lastUpdated]` |\n",
      "\n",
      "---\n",
      "\n",
      "  Match 2 (distance: 0.8035112619400024):\n",
      "  Length: 3288 chars\n",
      "  Preview: FHIR Resource/Component: ### RESTful Capabilities by Resource/Profile:\n",
      "\n",
      "**Summary of Search Criteria...\n",
      "  ...nerRole:network, PractitionerRole:endpoint |  |  |\n",
      "\n",
      "  Match 3 (distance: 0.8775110244750977):\n",
      "  Length: 3225 chars\n",
      "  Preview: FHIR Resource Detail: #### Organization\n",
      "\n",
      "Conformance Expectation: **SHALL**\n",
      "\n",
      "Supported Profiles:\n",
      "\n",
      " [...\n",
      "  ...Organization?coverage-area=[coverage-area]` |\n",
      "\n",
      "---\n",
      "\n",
      "  Match 4 (distance: 0.9003857970237732):\n",
      "  Length: 2302 chars\n",
      "  Preview: FHIR Resource Detail: #### InsurancePlan\n",
      "\n",
      "Conformance Expectation: **SHALL**\n",
      "\n",
      "Supported Profiles:\n",
      "\n",
      " ...\n",
      "  ... [base]/InsurancePlan?type=[system]|[code]` |\n",
      "\n",
      "---\n",
      "\n",
      "  Match 5 (distance: 0.9378758668899536):\n",
      "  Length: 2809 chars\n",
      "  Preview: FHIR Resource Detail: #### Location\n",
      "\n",
      "Conformance Expectation: **SHALL**\n",
      "\n",
      "Supported Profiles:\n",
      "\n",
      " [Plan...\n",
      "  ...base]/Location?_lastUpdated=[_lastUpdated]` |\n",
      "\n",
      "---\n",
      "================================================================================\n",
      "\n",
      "Sending request to CLAUDE API...\n",
      "Completed test specification for REQ-08\n"
     ]
    },
    {
     "name": "stderr",
     "output_type": "stream",
     "text": [
      "INFO:llm_utils:Processing requirement for group 'General/Cross-Resource': REQ-09\n",
      "INFO:llm_utils:Generating test specification for REQ-09 using claude...\n"
     ]
    },
    {
     "name": "stdout",
     "output_type": "stream",
     "text": [
      "\n",
      "Processing REQ-09: Consumer App missing information processing capability\n",
      "\n",
      "================================================================================\n",
      "RAG RETRIEVAL FOR REQ-09\n",
      "================================================================================\n",
      "Query: Consumer App missing information processing capability \"Consumer App actors SHALL be able to process resource instances containing Must Support data elements asserting missing information.\" Consumer App FHIR SHALL\n",
      "Searching for 5 most relevant capability chunks...\n",
      "\n",
      "Found 5 matching chunks:\n",
      "\n",
      "  Match 1 (distance: 0.9663683176040649):\n",
      "  Length: 802 chars\n",
      "  Preview: FHIR Major Section: ## Plan\\-Net CapabilityStatement\n",
      "\n",
      "* Implementation Guide Version: 1\\.0\\.0\n",
      "* FHIR...\n",
      "  ...local use cases and other contextual requirements.\n",
      "\n",
      "  Match 2 (distance: 0.9810687303543091):\n",
      "  Length: 996 chars\n",
      "  Preview: FHIR Major Section: ## CapabilityStatement: Plan\\-Net CapabilityStatement\n",
      "\n",
      "| *Official URL*: http://...\n",
      "  ...openapi.json) \\| [Download](plan-net.openapi.json)\n",
      "\n",
      "  Match 3 (distance: 1.033816933631897):\n",
      "  Length: 2854 chars\n",
      "  Preview: FHIR Resource Detail: #### PractitionerRole\n",
      "\n",
      "Conformance Expectation: **SHALL**\n",
      "\n",
      "Supported Profiles:...\n",
      "  ...actitionerRole?_lastUpdated=[_lastUpdated]` |\n",
      "\n",
      "---\n",
      "\n",
      "  Match 4 (distance: 1.0360426902770996):\n",
      "  Length: 3225 chars\n",
      "  Preview: FHIR Resource Detail: #### Organization\n",
      "\n",
      "Conformance Expectation: **SHALL**\n",
      "\n",
      "Supported Profiles:\n",
      "\n",
      " [...\n",
      "  ...Organization?coverage-area=[coverage-area]` |\n",
      "\n",
      "---\n",
      "\n",
      "  Match 5 (distance: 1.0530052185058594):\n",
      "  Length: 3288 chars\n",
      "  Preview: FHIR Resource/Component: ### RESTful Capabilities by Resource/Profile:\n",
      "\n",
      "**Summary of Search Criteria...\n",
      "  ...nerRole:network, PractitionerRole:endpoint |  |  |\n",
      "================================================================================\n",
      "\n",
      "Sending request to CLAUDE API...\n",
      "Completed test specification for REQ-09\n"
     ]
    },
    {
     "name": "stderr",
     "output_type": "stream",
     "text": [
      "INFO:llm_utils:Processing requirement for group 'General/Cross-Resource': REQ-10\n",
      "INFO:llm_utils:Generating test specification for REQ-10 using claude...\n"
     ]
    },
    {
     "name": "stdout",
     "output_type": "stream",
     "text": [
      "\n",
      "Processing REQ-10: Plan-Net Server profile support\n",
      "\n",
      "================================================================================\n",
      "RAG RETRIEVAL FOR REQ-10\n",
      "================================================================================\n",
      "Query: Plan-Net Server profile support \"The Plan-Net Server SHALL: Support all profiles defined in this Implementation Guide.\" Plan-Net Server FHIR SHALL\n",
      "Searching for 5 most relevant capability chunks...\n",
      "\n",
      "Found 5 matching chunks:\n",
      "\n",
      "  Match 1 (distance: 0.7196947932243347):\n",
      "  Length: 802 chars\n",
      "  Preview: FHIR Major Section: ## Plan\\-Net CapabilityStatement\n",
      "\n",
      "* Implementation Guide Version: 1\\.0\\.0\n",
      "* FHIR...\n",
      "  ...local use cases and other contextual requirements.\n",
      "\n",
      "  Match 2 (distance: 0.7957321405410767):\n",
      "  Length: 996 chars\n",
      "  Preview: FHIR Major Section: ## CapabilityStatement: Plan\\-Net CapabilityStatement\n",
      "\n",
      "| *Official URL*: http://...\n",
      "  ...openapi.json) \\| [Download](plan-net.openapi.json)\n",
      "\n",
      "  Match 3 (distance: 0.8047237396240234):\n",
      "  Length: 3225 chars\n",
      "  Preview: FHIR Resource Detail: #### Organization\n",
      "\n",
      "Conformance Expectation: **SHALL**\n",
      "\n",
      "Supported Profiles:\n",
      "\n",
      " [...\n",
      "  ...Organization?coverage-area=[coverage-area]` |\n",
      "\n",
      "---\n",
      "\n",
      "  Match 4 (distance: 0.8337710499763489):\n",
      "  Length: 1169 chars\n",
      "  Preview: FHIR Resource/Component: ### FHIR RESTful Capabilities\n",
      "\n",
      "The Plan\\-Net Server **SHALL**:\n",
      "\n",
      "1. Support ...\n",
      "  ...eturning an `HTTP 401` unauthorized response code.\n",
      "\n",
      "  Match 5 (distance: 0.8872054815292358):\n",
      "  Length: 3291 chars\n",
      "  Preview: FHIR Resource Detail: #### OrganizationAffiliation\n",
      "\n",
      "Conformance Expectation: **SHALL**\n",
      "\n",
      "Supported Pr...\n",
      "  ...ionAffiliation?_lastUpdated=[_lastUpdated]` |\n",
      "\n",
      "---\n",
      "================================================================================\n",
      "\n",
      "Sending request to CLAUDE API...\n",
      "Completed test specification for REQ-10\n"
     ]
    },
    {
     "name": "stderr",
     "output_type": "stream",
     "text": [
      "INFO:llm_utils:Processing requirement for group 'General/Cross-Resource': REQ-11\n",
      "INFO:llm_utils:Generating test specification for REQ-11 using claude...\n"
     ]
    },
    {
     "name": "stdout",
     "output_type": "stream",
     "text": [
      "\n",
      "Processing REQ-11: Plan-Net Server RESTful behavior implementation\n",
      "\n",
      "================================================================================\n",
      "RAG RETRIEVAL FOR REQ-11\n",
      "================================================================================\n",
      "Query: Plan-Net Server RESTful behavior implementation \"The Plan-Net Server SHALL: Implement the RESTful behavior according to the FHIR specification.\" Plan-Net Server FHIR SHALL\n",
      "Searching for 5 most relevant capability chunks...\n",
      "\n",
      "Found 5 matching chunks:\n",
      "\n",
      "  Match 1 (distance: 0.402856707572937):\n",
      "  Length: 1169 chars\n",
      "  Preview: FHIR Resource/Component: ### FHIR RESTful Capabilities\n",
      "\n",
      "The Plan\\-Net Server **SHALL**:\n",
      "\n",
      "1. Support ...\n",
      "  ...eturning an `HTTP 401` unauthorized response code.\n",
      "\n",
      "  Match 2 (distance: 0.5020473003387451):\n",
      "  Length: 802 chars\n",
      "  Preview: FHIR Major Section: ## Plan\\-Net CapabilityStatement\n",
      "\n",
      "* Implementation Guide Version: 1\\.0\\.0\n",
      "* FHIR...\n",
      "  ...local use cases and other contextual requirements.\n",
      "\n",
      "  Match 3 (distance: 0.5936377048492432):\n",
      "  Length: 996 chars\n",
      "  Preview: FHIR Major Section: ## CapabilityStatement: Plan\\-Net CapabilityStatement\n",
      "\n",
      "| *Official URL*: http://...\n",
      "  ...openapi.json) \\| [Download](plan-net.openapi.json)\n",
      "\n",
      "  Match 4 (distance: 0.634201169013977):\n",
      "  Length: 3288 chars\n",
      "  Preview: FHIR Resource/Component: ### RESTful Capabilities by Resource/Profile:\n",
      "\n",
      "**Summary of Search Criteria...\n",
      "  ...nerRole:network, PractitionerRole:endpoint |  |  |\n",
      "\n",
      "  Match 5 (distance: 0.7178943753242493):\n",
      "  Length: 1184 chars\n",
      "  Preview: FHIR Resource Detail: #### Endpoint\n",
      "\n",
      "Conformance Expectation: **SHALL**\n",
      "\n",
      "Supported Profiles:\n",
      "\n",
      " [Plan...\n",
      "  ...base]/Endpoint?_lastUpdated=[_lastUpdated]` |\n",
      "\n",
      "---\n",
      "================================================================================\n",
      "\n",
      "Sending request to CLAUDE API...\n",
      "Completed test specification for REQ-11\n"
     ]
    },
    {
     "name": "stderr",
     "output_type": "stream",
     "text": [
      "INFO:llm_utils:Processing requirement for group 'General/Cross-Resource': REQ-12\n",
      "INFO:llm_utils:Generating test specification for REQ-12 using claude...\n"
     ]
    },
    {
     "name": "stdout",
     "output_type": "stream",
     "text": [
      "\n",
      "Processing REQ-12: Plan-Net Server response classes\n",
      "\n",
      "================================================================================\n",
      "RAG RETRIEVAL FOR REQ-12\n",
      "================================================================================\n",
      "Query: Plan-Net Server response classes \"The Plan-Net Server SHALL: Return the following response classes: (Status 400): invalid parameter; (Status 401/4xx): unauthorized request; (Status 403): insufficient scope; (Status 404): unknown resource; (Status 410): deleted resource.\" Plan-Net Server FHIR SHALL\n",
      "Searching for 5 most relevant capability chunks...\n",
      "\n",
      "Found 5 matching chunks:\n",
      "\n",
      "  Match 1 (distance: 0.5708727240562439):\n",
      "  Length: 1169 chars\n",
      "  Preview: FHIR Resource/Component: ### FHIR RESTful Capabilities\n",
      "\n",
      "The Plan\\-Net Server **SHALL**:\n",
      "\n",
      "1. Support ...\n",
      "  ...eturning an `HTTP 401` unauthorized response code.\n",
      "\n",
      "  Match 2 (distance: 0.764784574508667):\n",
      "  Length: 996 chars\n",
      "  Preview: FHIR Major Section: ## CapabilityStatement: Plan\\-Net CapabilityStatement\n",
      "\n",
      "| *Official URL*: http://...\n",
      "  ...openapi.json) \\| [Download](plan-net.openapi.json)\n",
      "\n",
      "  Match 3 (distance: 0.7849286794662476):\n",
      "  Length: 802 chars\n",
      "  Preview: FHIR Major Section: ## Plan\\-Net CapabilityStatement\n",
      "\n",
      "* Implementation Guide Version: 1\\.0\\.0\n",
      "* FHIR...\n",
      "  ...local use cases and other contextual requirements.\n",
      "\n",
      "  Match 4 (distance: 0.8623014688491821):\n",
      "  Length: 3291 chars\n",
      "  Preview: FHIR Resource Detail: #### OrganizationAffiliation\n",
      "\n",
      "Conformance Expectation: **SHALL**\n",
      "\n",
      "Supported Pr...\n",
      "  ...ionAffiliation?_lastUpdated=[_lastUpdated]` |\n",
      "\n",
      "---\n",
      "\n",
      "  Match 5 (distance: 0.8780801296234131):\n",
      "  Length: 3288 chars\n",
      "  Preview: FHIR Resource/Component: ### RESTful Capabilities by Resource/Profile:\n",
      "\n",
      "**Summary of Search Criteria...\n",
      "  ...nerRole:network, PractitionerRole:endpoint |  |  |\n",
      "================================================================================\n",
      "\n",
      "Sending request to CLAUDE API...\n",
      "Completed test specification for REQ-12\n"
     ]
    },
    {
     "name": "stderr",
     "output_type": "stream",
     "text": [
      "INFO:llm_utils:Processing requirement for group 'General/Cross-Resource': REQ-13\n",
      "INFO:llm_utils:Generating test specification for REQ-13 using claude...\n"
     ]
    },
    {
     "name": "stdout",
     "output_type": "stream",
     "text": [
      "\n",
      "Processing REQ-13: Plan-Net Server JSON format support\n",
      "\n",
      "================================================================================\n",
      "RAG RETRIEVAL FOR REQ-13\n",
      "================================================================================\n",
      "Query: Plan-Net Server JSON format support \"The Plan-Net Server SHALL: Support json source formats for all Plan-Net interactions.\" Plan-Net Server FHIR SHALL\n",
      "Searching for 5 most relevant capability chunks...\n",
      "\n",
      "Found 5 matching chunks:\n",
      "\n",
      "  Match 1 (distance: 0.807853102684021):\n",
      "  Length: 996 chars\n",
      "  Preview: FHIR Major Section: ## CapabilityStatement: Plan\\-Net CapabilityStatement\n",
      "\n",
      "| *Official URL*: http://...\n",
      "  ...openapi.json) \\| [Download](plan-net.openapi.json)\n",
      "\n",
      "  Match 2 (distance: 0.8553909063339233):\n",
      "  Length: 1169 chars\n",
      "  Preview: FHIR Resource/Component: ### FHIR RESTful Capabilities\n",
      "\n",
      "The Plan\\-Net Server **SHALL**:\n",
      "\n",
      "1. Support ...\n",
      "  ...eturning an `HTTP 401` unauthorized response code.\n",
      "\n",
      "  Match 3 (distance: 0.8710610866546631):\n",
      "  Length: 802 chars\n",
      "  Preview: FHIR Major Section: ## Plan\\-Net CapabilityStatement\n",
      "\n",
      "* Implementation Guide Version: 1\\.0\\.0\n",
      "* FHIR...\n",
      "  ...local use cases and other contextual requirements.\n",
      "\n",
      "  Match 4 (distance: 0.9815592765808105):\n",
      "  Length: 3288 chars\n",
      "  Preview: FHIR Resource/Component: ### RESTful Capabilities by Resource/Profile:\n",
      "\n",
      "**Summary of Search Criteria...\n",
      "  ...nerRole:network, PractitionerRole:endpoint |  |  |\n",
      "\n",
      "  Match 5 (distance: 1.0066852569580078):\n",
      "  Length: 3225 chars\n",
      "  Preview: FHIR Resource Detail: #### Organization\n",
      "\n",
      "Conformance Expectation: **SHALL**\n",
      "\n",
      "Supported Profiles:\n",
      "\n",
      " [...\n",
      "  ...Organization?coverage-area=[coverage-area]` |\n",
      "\n",
      "---\n",
      "================================================================================\n",
      "\n",
      "Sending request to CLAUDE API...\n",
      "Completed test specification for REQ-13\n"
     ]
    },
    {
     "name": "stderr",
     "output_type": "stream",
     "text": [
      "INFO:llm_utils:Processing requirement for group 'General/Cross-Resource': REQ-14\n",
      "INFO:llm_utils:Generating test specification for REQ-14 using claude...\n"
     ]
    },
    {
     "name": "stdout",
     "output_type": "stream",
     "text": [
      "\n",
      "Processing REQ-14: Plan-Net Server profile identification\n",
      "\n",
      "================================================================================\n",
      "RAG RETRIEVAL FOR REQ-14\n",
      "================================================================================\n",
      "Query: Plan-Net Server profile identification \"The Plan-Net Server SHALL: Identify the Plan-Net profiles supported as part of the FHIR `meta.profile` attribute for each instance.\" Plan-Net Server FHIR SHALL\n",
      "Searching for 5 most relevant capability chunks...\n",
      "\n",
      "Found 5 matching chunks:\n",
      "\n",
      "  Match 1 (distance: 0.7986505031585693):\n",
      "  Length: 802 chars\n",
      "  Preview: FHIR Major Section: ## Plan\\-Net CapabilityStatement\n",
      "\n",
      "* Implementation Guide Version: 1\\.0\\.0\n",
      "* FHIR...\n",
      "  ...local use cases and other contextual requirements.\n",
      "\n",
      "  Match 2 (distance: 0.8021136522293091):\n",
      "  Length: 1169 chars\n",
      "  Preview: FHIR Resource/Component: ### FHIR RESTful Capabilities\n",
      "\n",
      "The Plan\\-Net Server **SHALL**:\n",
      "\n",
      "1. Support ...\n",
      "  ...eturning an `HTTP 401` unauthorized response code.\n",
      "\n",
      "  Match 3 (distance: 0.8742940425872803):\n",
      "  Length: 3225 chars\n",
      "  Preview: FHIR Resource Detail: #### Organization\n",
      "\n",
      "Conformance Expectation: **SHALL**\n",
      "\n",
      "Supported Profiles:\n",
      "\n",
      " [...\n",
      "  ...Organization?coverage-area=[coverage-area]` |\n",
      "\n",
      "---\n",
      "\n",
      "  Match 4 (distance: 0.8986352682113647):\n",
      "  Length: 996 chars\n",
      "  Preview: FHIR Major Section: ## CapabilityStatement: Plan\\-Net CapabilityStatement\n",
      "\n",
      "| *Official URL*: http://...\n",
      "  ...openapi.json) \\| [Download](plan-net.openapi.json)\n",
      "\n",
      "  Match 5 (distance: 0.9319689869880676):\n",
      "  Length: 3291 chars\n",
      "  Preview: FHIR Resource Detail: #### OrganizationAffiliation\n",
      "\n",
      "Conformance Expectation: **SHALL**\n",
      "\n",
      "Supported Pr...\n",
      "  ...ionAffiliation?_lastUpdated=[_lastUpdated]` |\n",
      "\n",
      "---\n",
      "================================================================================\n",
      "\n",
      "Sending request to CLAUDE API...\n",
      "Completed test specification for REQ-14\n"
     ]
    },
    {
     "name": "stderr",
     "output_type": "stream",
     "text": [
      "INFO:llm_utils:Processing requirement for group 'General/Cross-Resource': REQ-15\n",
      "INFO:llm_utils:Generating test specification for REQ-15 using claude...\n"
     ]
    },
    {
     "name": "stdout",
     "output_type": "stream",
     "text": [
      "\n",
      "Processing REQ-15: Plan-Net Server search parameter support\n",
      "\n",
      "================================================================================\n",
      "RAG RETRIEVAL FOR REQ-15\n",
      "================================================================================\n",
      "Query: Plan-Net Server search parameter support \"The Plan-Net Server SHALL: Support the searchParameters on each profile individually and in combination.\" Plan-Net Server FHIR SHALL\n",
      "Searching for 5 most relevant capability chunks...\n",
      "\n",
      "Found 5 matching chunks:\n",
      "\n",
      "  Match 1 (distance: 0.7607966661453247):\n",
      "  Length: 2302 chars\n",
      "  Preview: FHIR Resource Detail: #### InsurancePlan\n",
      "\n",
      "Conformance Expectation: **SHALL**\n",
      "\n",
      "Supported Profiles:\n",
      "\n",
      " ...\n",
      "  ... [base]/InsurancePlan?type=[system]|[code]` |\n",
      "\n",
      "---\n",
      "\n",
      "  Match 2 (distance: 0.7741947770118713):\n",
      "  Length: 1184 chars\n",
      "  Preview: FHIR Resource Detail: #### Endpoint\n",
      "\n",
      "Conformance Expectation: **SHALL**\n",
      "\n",
      "Supported Profiles:\n",
      "\n",
      " [Plan...\n",
      "  ...base]/Endpoint?_lastUpdated=[_lastUpdated]` |\n",
      "\n",
      "---\n",
      "\n",
      "  Match 3 (distance: 0.8080031871795654):\n",
      "  Length: 3225 chars\n",
      "  Preview: FHIR Resource Detail: #### Organization\n",
      "\n",
      "Conformance Expectation: **SHALL**\n",
      "\n",
      "Supported Profiles:\n",
      "\n",
      " [...\n",
      "  ...Organization?coverage-area=[coverage-area]` |\n",
      "\n",
      "---\n",
      "\n",
      "  Match 4 (distance: 0.815399169921875):\n",
      "  Length: 802 chars\n",
      "  Preview: FHIR Major Section: ## Plan\\-Net CapabilityStatement\n",
      "\n",
      "* Implementation Guide Version: 1\\.0\\.0\n",
      "* FHIR...\n",
      "  ...local use cases and other contextual requirements.\n",
      "\n",
      "  Match 5 (distance: 0.8378009796142578):\n",
      "  Length: 996 chars\n",
      "  Preview: FHIR Major Section: ## CapabilityStatement: Plan\\-Net CapabilityStatement\n",
      "\n",
      "| *Official URL*: http://...\n",
      "  ...openapi.json) \\| [Download](plan-net.openapi.json)\n",
      "================================================================================\n",
      "\n",
      "Sending request to CLAUDE API...\n",
      "Completed test specification for REQ-15\n"
     ]
    },
    {
     "name": "stderr",
     "output_type": "stream",
     "text": [
      "INFO:llm_utils:Processing requirement for group 'General/Cross-Resource': REQ-16\n",
      "INFO:llm_utils:Generating test specification for REQ-16 using claude...\n"
     ]
    },
    {
     "name": "stdout",
     "output_type": "stream",
     "text": [
      "\n",
      "Processing REQ-16: Plan-Net Server chaining support\n",
      "\n",
      "================================================================================\n",
      "RAG RETRIEVAL FOR REQ-16\n",
      "================================================================================\n",
      "Query: Plan-Net Server chaining support \"The Plan-Net Server SHALL: Support forward and reverse chaining on all search parameters that specify the 'chain' property\" Plan-Net Server FHIR SHALL\n",
      "Searching for 5 most relevant capability chunks...\n",
      "\n",
      "Found 5 matching chunks:\n",
      "\n",
      "  Match 1 (distance: 0.8550699353218079):\n",
      "  Length: 802 chars\n",
      "  Preview: FHIR Major Section: ## Plan\\-Net CapabilityStatement\n",
      "\n",
      "* Implementation Guide Version: 1\\.0\\.0\n",
      "* FHIR...\n",
      "  ...local use cases and other contextual requirements.\n",
      "\n",
      "  Match 2 (distance: 0.8909978866577148):\n",
      "  Length: 1169 chars\n",
      "  Preview: FHIR Resource/Component: ### FHIR RESTful Capabilities\n",
      "\n",
      "The Plan\\-Net Server **SHALL**:\n",
      "\n",
      "1. Support ...\n",
      "  ...eturning an `HTTP 401` unauthorized response code.\n",
      "\n",
      "  Match 3 (distance: 0.9448855519294739):\n",
      "  Length: 1184 chars\n",
      "  Preview: FHIR Resource Detail: #### Endpoint\n",
      "\n",
      "Conformance Expectation: **SHALL**\n",
      "\n",
      "Supported Profiles:\n",
      "\n",
      " [Plan...\n",
      "  ...base]/Endpoint?_lastUpdated=[_lastUpdated]` |\n",
      "\n",
      "---\n",
      "\n",
      "  Match 4 (distance: 0.9603161811828613):\n",
      "  Length: 996 chars\n",
      "  Preview: FHIR Major Section: ## CapabilityStatement: Plan\\-Net CapabilityStatement\n",
      "\n",
      "| *Official URL*: http://...\n",
      "  ...openapi.json) \\| [Download](plan-net.openapi.json)\n",
      "\n",
      "  Match 5 (distance: 0.9868970513343811):\n",
      "  Length: 3225 chars\n",
      "  Preview: FHIR Resource Detail: #### Organization\n",
      "\n",
      "Conformance Expectation: **SHALL**\n",
      "\n",
      "Supported Profiles:\n",
      "\n",
      " [...\n",
      "  ...Organization?coverage-area=[coverage-area]` |\n",
      "\n",
      "---\n",
      "================================================================================\n",
      "\n",
      "Sending request to CLAUDE API...\n",
      "Completed test specification for REQ-16\n"
     ]
    },
    {
     "name": "stderr",
     "output_type": "stream",
     "text": [
      "INFO:llm_utils:Processing requirement for group 'General/Cross-Resource': REQ-17\n",
      "INFO:llm_utils:Generating test specification for REQ-17 using claude...\n"
     ]
    },
    {
     "name": "stdout",
     "output_type": "stream",
     "text": [
      "\n",
      "Processing REQ-17: Plan-Net Server XML format support\n",
      "\n",
      "================================================================================\n",
      "RAG RETRIEVAL FOR REQ-17\n",
      "================================================================================\n",
      "Query: Plan-Net Server XML format support \"The Plan-Net Server SHOULD: Support xml source formats for all Plan-Net interactions.\" Plan-Net Server FHIR SHOULD\n",
      "Searching for 5 most relevant capability chunks...\n",
      "\n",
      "Found 5 matching chunks:\n",
      "\n",
      "  Match 1 (distance: 0.8277300000190735):\n",
      "  Length: 802 chars\n",
      "  Preview: FHIR Major Section: ## Plan\\-Net CapabilityStatement\n",
      "\n",
      "* Implementation Guide Version: 1\\.0\\.0\n",
      "* FHIR...\n",
      "  ...local use cases and other contextual requirements.\n",
      "\n",
      "  Match 2 (distance: 0.8620308041572571):\n",
      "  Length: 1169 chars\n",
      "  Preview: FHIR Resource/Component: ### FHIR RESTful Capabilities\n",
      "\n",
      "The Plan\\-Net Server **SHALL**:\n",
      "\n",
      "1. Support ...\n",
      "  ...eturning an `HTTP 401` unauthorized response code.\n",
      "\n",
      "  Match 3 (distance: 0.8647143840789795):\n",
      "  Length: 996 chars\n",
      "  Preview: FHIR Major Section: ## CapabilityStatement: Plan\\-Net CapabilityStatement\n",
      "\n",
      "| *Official URL*: http://...\n",
      "  ...openapi.json) \\| [Download](plan-net.openapi.json)\n",
      "\n",
      "  Match 4 (distance: 0.9676610827445984):\n",
      "  Length: 3225 chars\n",
      "  Preview: FHIR Resource Detail: #### Organization\n",
      "\n",
      "Conformance Expectation: **SHALL**\n",
      "\n",
      "Supported Profiles:\n",
      "\n",
      " [...\n",
      "  ...Organization?coverage-area=[coverage-area]` |\n",
      "\n",
      "---\n",
      "\n",
      "  Match 5 (distance: 1.0047434568405151):\n",
      "  Length: 3291 chars\n",
      "  Preview: FHIR Resource Detail: #### OrganizationAffiliation\n",
      "\n",
      "Conformance Expectation: **SHALL**\n",
      "\n",
      "Supported Pr...\n",
      "  ...ionAffiliation?_lastUpdated=[_lastUpdated]` |\n",
      "\n",
      "---\n",
      "================================================================================\n",
      "\n",
      "Sending request to CLAUDE API...\n"
     ]
    },
    {
     "name": "stderr",
     "output_type": "stream",
     "text": [
      "INFO:llm_utils:Processing requirement for group 'Plan-Net HealthcareService': REQ-19\n",
      "INFO:llm_utils:Generating test specification for REQ-19 using claude...\n"
     ]
    },
    {
     "name": "stdout",
     "output_type": "stream",
     "text": [
      "Completed test specification for REQ-17\n",
      "\n",
      "Processing Group: Plan-Net HealthcareService (1 requirements)\n",
      "\n",
      "Processing REQ-19: New patients characteristics constraint\n",
      "\n",
      "================================================================================\n",
      "RAG RETRIEVAL FOR REQ-19\n",
      "================================================================================\n",
      "Query: New patients characteristics constraint \"If no new patients are accepted, no characteristics are allowed: extension('acceptingPatients').valueCodeableConcept.coding.exists(code = 'no') implies extension('characteristics').empty()\" Implementation FHIR SHALL\n",
      "Searching for 5 most relevant capability chunks...\n",
      "\n",
      "Found 5 matching chunks:\n",
      "\n",
      "  Match 1 (distance: 1.1589241027832031):\n",
      "  Length: 3036 chars\n",
      "  Preview: FHIR Resource Detail: #### HealthcareService\n",
      "\n",
      "Conformance Expectation: **SHALL**\n",
      "\n",
      "Supported Profiles...\n",
      "  ...lthcareService?_lastUpdated=[_lastUpdated]` |\n",
      "\n",
      "---\n",
      "\n",
      "  Match 2 (distance: 1.2437915802001953):\n",
      "  Length: 3288 chars\n",
      "  Preview: FHIR Resource/Component: ### RESTful Capabilities by Resource/Profile:\n",
      "\n",
      "**Summary of Search Criteria...\n",
      "  ...nerRole:network, PractitionerRole:endpoint |  |  |\n",
      "\n",
      "  Match 3 (distance: 1.2784152030944824):\n",
      "  Length: 2302 chars\n",
      "  Preview: FHIR Resource Detail: #### InsurancePlan\n",
      "\n",
      "Conformance Expectation: **SHALL**\n",
      "\n",
      "Supported Profiles:\n",
      "\n",
      " ...\n",
      "  ... [base]/InsurancePlan?type=[system]|[code]` |\n",
      "\n",
      "---\n",
      "\n",
      "  Match 4 (distance: 1.3665509223937988):\n",
      "  Length: 1466 chars\n",
      "  Preview: FHIR Resource Detail: #### Practitioner\n",
      "\n",
      "Conformance Expectation: **SHALL**\n",
      "\n",
      "Supported Profiles:\n",
      "\n",
      " [...\n",
      "  ...g | `GET [base]/Practitioner?given=[given]` |\n",
      "\n",
      "---\n",
      "\n",
      "  Match 5 (distance: 1.3675825595855713):\n",
      "  Length: 3225 chars\n",
      "  Preview: FHIR Resource Detail: #### Organization\n",
      "\n",
      "Conformance Expectation: **SHALL**\n",
      "\n",
      "Supported Profiles:\n",
      "\n",
      " [...\n",
      "  ...Organization?coverage-area=[coverage-area]` |\n",
      "\n",
      "---\n",
      "================================================================================\n",
      "\n",
      "Sending request to CLAUDE API...\n"
     ]
    },
    {
     "name": "stderr",
     "output_type": "stream",
     "text": [
      "INFO:llm_utils:Processing requirement for group 'Privacy': REQ-01\n",
      "INFO:llm_utils:Generating test specification for REQ-01 using claude...\n"
     ]
    },
    {
     "name": "stdout",
     "output_type": "stream",
     "text": [
      "Completed test specification for REQ-19\n",
      "\n",
      "Processing Group: Privacy (2 requirements)\n",
      "\n",
      "Processing REQ-01: Plan-Net service consumer identification prohibition\n",
      "\n",
      "================================================================================\n",
      "RAG RETRIEVAL FOR REQ-01\n",
      "================================================================================\n",
      "Query: Plan-Net service consumer identification prohibition \"A conformant Plan-Net service SHALL NOT require a directory mobile application to send consumer identifying information in order to query content.\" Plan-Net Service FHIR SHALL NOT\n",
      "Searching for 5 most relevant capability chunks...\n",
      "\n",
      "Found 5 matching chunks:\n",
      "\n",
      "  Match 1 (distance: 0.7830391526222229):\n",
      "  Length: 802 chars\n",
      "  Preview: FHIR Major Section: ## Plan\\-Net CapabilityStatement\n",
      "\n",
      "* Implementation Guide Version: 1\\.0\\.0\n",
      "* FHIR...\n",
      "  ...local use cases and other contextual requirements.\n",
      "\n",
      "  Match 2 (distance: 0.880466103553772):\n",
      "  Length: 996 chars\n",
      "  Preview: FHIR Major Section: ## CapabilityStatement: Plan\\-Net CapabilityStatement\n",
      "\n",
      "| *Official URL*: http://...\n",
      "  ...openapi.json) \\| [Download](plan-net.openapi.json)\n",
      "\n",
      "  Match 3 (distance: 0.8974548578262329):\n",
      "  Length: 1169 chars\n",
      "  Preview: FHIR Resource/Component: ### FHIR RESTful Capabilities\n",
      "\n",
      "The Plan\\-Net Server **SHALL**:\n",
      "\n",
      "1. Support ...\n",
      "  ...eturning an `HTTP 401` unauthorized response code.\n",
      "\n",
      "  Match 4 (distance: 0.9710675477981567):\n",
      "  Length: 3225 chars\n",
      "  Preview: FHIR Resource Detail: #### Organization\n",
      "\n",
      "Conformance Expectation: **SHALL**\n",
      "\n",
      "Supported Profiles:\n",
      "\n",
      " [...\n",
      "  ...Organization?coverage-area=[coverage-area]` |\n",
      "\n",
      "---\n",
      "\n",
      "  Match 5 (distance: 1.005134105682373):\n",
      "  Length: 2809 chars\n",
      "  Preview: FHIR Resource Detail: #### Location\n",
      "\n",
      "Conformance Expectation: **SHALL**\n",
      "\n",
      "Supported Profiles:\n",
      "\n",
      " [Plan...\n",
      "  ...base]/Location?_lastUpdated=[_lastUpdated]` |\n",
      "\n",
      "---\n",
      "================================================================================\n",
      "\n",
      "Sending request to CLAUDE API...\n",
      "Completed test specification for REQ-01\n"
     ]
    },
    {
     "name": "stderr",
     "output_type": "stream",
     "text": [
      "INFO:llm_utils:Processing requirement for group 'Privacy': REQ-02\n",
      "INFO:llm_utils:Generating test specification for REQ-02 using claude...\n"
     ]
    },
    {
     "name": "stdout",
     "output_type": "stream",
     "text": [
      "\n",
      "Processing REQ-02: Directory mobile application consumer information restriction\n",
      "\n",
      "================================================================================\n",
      "RAG RETRIEVAL FOR REQ-02\n",
      "================================================================================\n",
      "Query: Directory mobile application consumer information restriction \"A directory mobile application SHALL NOT send consumer identifiable information when querying a Plan-Net service.\" Directory Mobile Application FHIR SHALL NOT\n",
      "Searching for 5 most relevant capability chunks...\n",
      "\n",
      "Found 5 matching chunks:\n",
      "\n",
      "  Match 1 (distance: 0.8629611730575562):\n",
      "  Length: 802 chars\n",
      "  Preview: FHIR Major Section: ## Plan\\-Net CapabilityStatement\n",
      "\n",
      "* Implementation Guide Version: 1\\.0\\.0\n",
      "* FHIR...\n",
      "  ...local use cases and other contextual requirements.\n",
      "\n",
      "  Match 2 (distance: 0.9713437557220459):\n",
      "  Length: 996 chars\n",
      "  Preview: FHIR Major Section: ## CapabilityStatement: Plan\\-Net CapabilityStatement\n",
      "\n",
      "| *Official URL*: http://...\n",
      "  ...openapi.json) \\| [Download](plan-net.openapi.json)\n",
      "\n",
      "  Match 3 (distance: 1.0642756223678589):\n",
      "  Length: 1169 chars\n",
      "  Preview: FHIR Resource/Component: ### FHIR RESTful Capabilities\n",
      "\n",
      "The Plan\\-Net Server **SHALL**:\n",
      "\n",
      "1. Support ...\n",
      "  ...eturning an `HTTP 401` unauthorized response code.\n",
      "\n",
      "  Match 4 (distance: 1.0800178050994873):\n",
      "  Length: 3225 chars\n",
      "  Preview: FHIR Resource Detail: #### Organization\n",
      "\n",
      "Conformance Expectation: **SHALL**\n",
      "\n",
      "Supported Profiles:\n",
      "\n",
      " [...\n",
      "  ...Organization?coverage-area=[coverage-area]` |\n",
      "\n",
      "---\n",
      "\n",
      "  Match 5 (distance: 1.096843957901001):\n",
      "  Length: 2854 chars\n",
      "  Preview: FHIR Resource Detail: #### PractitionerRole\n",
      "\n",
      "Conformance Expectation: **SHALL**\n",
      "\n",
      "Supported Profiles:...\n",
      "  ...actitionerRole?_lastUpdated=[_lastUpdated]` |\n",
      "\n",
      "---\n",
      "================================================================================\n",
      "\n",
      "Sending request to CLAUDE API...\n"
     ]
    },
    {
     "name": "stderr",
     "output_type": "stream",
     "text": [
      "INFO:llm_utils:Processing requirement for group 'Security': REQ-18\n",
      "INFO:llm_utils:Generating test specification for REQ-18 using claude...\n"
     ]
    },
    {
     "name": "stdout",
     "output_type": "stream",
     "text": [
      "Completed test specification for REQ-02\n",
      "\n",
      "Processing Group: Security (1 requirements)\n",
      "\n",
      "Processing REQ-18: Plan-Net Server unauthorized request rejection\n",
      "\n",
      "================================================================================\n",
      "RAG RETRIEVAL FOR REQ-18\n",
      "================================================================================\n",
      "Query: Plan-Net Server unauthorized request rejection \"A server SHALL reject any unauthorized requests by returning an `HTTP 401` unauthorized response code.\" Plan-Net Server FHIR SHALL\n",
      "Searching for 5 most relevant capability chunks...\n",
      "\n",
      "Found 5 matching chunks:\n",
      "\n",
      "  Match 1 (distance: 0.5878045558929443):\n",
      "  Length: 1169 chars\n",
      "  Preview: FHIR Resource/Component: ### FHIR RESTful Capabilities\n",
      "\n",
      "The Plan\\-Net Server **SHALL**:\n",
      "\n",
      "1. Support ...\n",
      "  ...eturning an `HTTP 401` unauthorized response code.\n",
      "\n",
      "  Match 2 (distance: 0.7881736159324646):\n",
      "  Length: 996 chars\n",
      "  Preview: FHIR Major Section: ## CapabilityStatement: Plan\\-Net CapabilityStatement\n",
      "\n",
      "| *Official URL*: http://...\n",
      "  ...openapi.json) \\| [Download](plan-net.openapi.json)\n",
      "\n",
      "  Match 3 (distance: 0.9208030700683594):\n",
      "  Length: 802 chars\n",
      "  Preview: FHIR Major Section: ## Plan\\-Net CapabilityStatement\n",
      "\n",
      "* Implementation Guide Version: 1\\.0\\.0\n",
      "* FHIR...\n",
      "  ...local use cases and other contextual requirements.\n",
      "\n",
      "  Match 4 (distance: 0.9359489679336548):\n",
      "  Length: 3291 chars\n",
      "  Preview: FHIR Resource Detail: #### OrganizationAffiliation\n",
      "\n",
      "Conformance Expectation: **SHALL**\n",
      "\n",
      "Supported Pr...\n",
      "  ...ionAffiliation?_lastUpdated=[_lastUpdated]` |\n",
      "\n",
      "---\n",
      "\n",
      "  Match 5 (distance: 0.9585806131362915):\n",
      "  Length: 2854 chars\n",
      "  Preview: FHIR Resource Detail: #### PractitionerRole\n",
      "\n",
      "Conformance Expectation: **SHALL**\n",
      "\n",
      "Supported Profiles:...\n",
      "  ...actitionerRole?_lastUpdated=[_lastUpdated]` |\n",
      "\n",
      "---\n",
      "================================================================================\n",
      "\n",
      "Sending request to CLAUDE API...\n"
     ]
    },
    {
     "name": "stderr",
     "output_type": "stream",
     "text": [
      "INFO:llm_utils:Consolidated test plan saved to checkpoints/testplan_generation/claude_test_plan_20250730_140520.md\n"
     ]
    },
    {
     "name": "stdout",
     "output_type": "stream",
     "text": [
      "Completed test specification for REQ-18\n"
     ]
    },
    {
     "data": {
      "text/plain": [
       "{'requirements_count': 19,\n",
       " 'group_count': 4,\n",
       " 'test_plan_path': 'checkpoints/testplan_generation/claude_test_plan_20250730_140520.md'}"
      ]
     },
     "execution_count": 18,
     "metadata": {},
     "output_type": "execute_result"
    }
   ],
   "source": [
    "\n",
    "req_to_testplan_rag.generate_consolidated_test_plan(\n",
    "    llm_clients, \n",
    "    'claude', \n",
    "    llm_clients.logger, \n",
    "    \"/Users/ceadams/Documents/onclaive/onclaive/pipeline/checkpoints/revised_reqs_extraction/claude_reqs_list_v2_20250730_122703.md\", \n",
    "    \"../full-ig/markdown7_cleaned/CapabilityStatement_plan_net.md\", \n",
    "    \"Plan-Net IG\",\n",
    "    output_dir='checkpoints/testplan_generation',\n",
    "    verbose=True)"
   ]
  },
  {
   "cell_type": "code",
   "execution_count": 24,
   "id": "a1c5f32a",
   "metadata": {},
   "outputs": [
    {
     "name": "stdout",
     "output_type": "stream",
     "text": [
      "✅ Chunk analysis saved to: capability_chunks_analysis_20250702_135655.md\n",
      "📊 Total chunks analyzed: 13\n",
      "\n",
      "📋 QUICK SUMMARY:\n",
      "   Total chunks: 13\n",
      "   Resource sections: 0\n",
      "   Table sections: 0\n",
      "   General sections: 0\n",
      "   Other: 13\n"
     ]
    },
    {
     "name": "stderr",
     "output_type": "stream",
     "text": [
      "2025-07-02 13:57:00,559 - backoff - ERROR - Giving up send_request(...) after 4 tries (requests.exceptions.SSLError: HTTPSConnectionPool(host='us.i.posthog.com', port=443): Max retries exceeded with url: /batch/ (Caused by SSLError(SSLCertVerificationError(1, '[SSL: CERTIFICATE_VERIFY_FAILED] certificate verify failed: unable to get local issuer certificate (_ssl.c:1000)'))))\n"
     ]
    }
   ],
   "source": [
    "import chromadb\n",
    "from chromadb.utils import embedding_functions\n",
    "from datetime import datetime\n",
    "from pathlib import Path\n",
    "\n",
    "\n",
    "def inspect_capability_chunks(output_file=None):\n",
    "    \"\"\"\n",
    "    Inspect all chunks stored in the ChromaDB collection and save to markdown file\n",
    "    \"\"\"\n",
    "    # Connect to ChromaDB\n",
    "    chroma_client = chromadb.Client()\n",
    "    sentence_transformer_ef = embedding_functions.SentenceTransformerEmbeddingFunction(\n",
    "        model_name=\"all-mpnet-base-v2\"\n",
    "    )\n",
    "    \n",
    "    try:\n",
    "        # Get the existing collection\n",
    "        collection = chroma_client.get_collection('capability_statements', embedding_function=sentence_transformer_ef)\n",
    "        \n",
    "        # Get all documents\n",
    "        all_docs = collection.get()\n",
    "        \n",
    "        # Create output file name if not provided\n",
    "        if output_file is None:\n",
    "            timestamp = datetime.now().strftime(\"%Y%m%d_%H%M%S\")\n",
    "            output_file = f\"capability_chunks_analysis_{timestamp}.md\"\n",
    "        \n",
    "        # Prepare markdown content\n",
    "        markdown_content = []\n",
    "        \n",
    "        # Header\n",
    "        markdown_content.append(\"# Capability Statement Chunking Analysis\")\n",
    "        markdown_content.append(f\"*Generated on: {datetime.now().strftime('%Y-%m-%d %H:%M:%S')}*\\n\")\n",
    "        \n",
    "        # Summary statistics\n",
    "        chunk_lengths = [len(doc) for doc in all_docs['documents']]\n",
    "        markdown_content.append(\"## 📊 Summary Statistics\")\n",
    "        markdown_content.append(f\"- **Total chunks**: {len(all_docs['documents'])}\")\n",
    "        markdown_content.append(f\"- **Average chunk length**: {sum(chunk_lengths) / len(chunk_lengths):.1f} characters\")\n",
    "        markdown_content.append(f\"- **Shortest chunk**: {min(chunk_lengths)} characters\")\n",
    "        markdown_content.append(f\"- **Longest chunk**: {max(chunk_lengths)} characters\\n\")\n",
    "        \n",
    "        # Chunk type analysis\n",
    "        chunk_types = {\n",
    "            'Resource sections': 0,\n",
    "            'Table sections': 0,\n",
    "            'General sections': 0,\n",
    "            'Other': 0\n",
    "        }\n",
    "        \n",
    "        for doc in all_docs['documents']:\n",
    "            if 'FHIR' in doc and 'Resource:' in doc:\n",
    "                chunk_types['Resource sections'] += 1\n",
    "            elif 'FHIR Capability Table:' in doc:\n",
    "                chunk_types['Table sections'] += 1\n",
    "            elif 'FHIR Capability Statement:' in doc:\n",
    "                chunk_types['General sections'] += 1\n",
    "            else:\n",
    "                chunk_types['Other'] += 1\n",
    "        \n",
    "        markdown_content.append(\"## 🔍 Chunk Type Analysis\")\n",
    "        for chunk_type, count in chunk_types.items():\n",
    "            markdown_content.append(f\"- **{chunk_type}**: {count} chunks\")\n",
    "        markdown_content.append(\"\")\n",
    "        \n",
    "        # Table of contents\n",
    "        markdown_content.append(\"## 📋 Table of Contents\")\n",
    "        for i in range(len(all_docs['documents'])):\n",
    "            doc = all_docs['documents'][i]\n",
    "            # Create a short preview for TOC\n",
    "            preview = doc[:50].replace('\\n', ' ').strip()\n",
    "            if len(doc) > 50:\n",
    "                preview += \"...\"\n",
    "            markdown_content.append(f\"- [Chunk {i+1}](#chunk-{i+1}) ({len(doc)} chars): {preview}\")\n",
    "        markdown_content.append(\"\")\n",
    "        \n",
    "        # Detailed chunks\n",
    "        markdown_content.append(\"## 📄 Detailed Chunk Analysis\")\n",
    "        \n",
    "        for i, doc in enumerate(all_docs['documents']):\n",
    "            # Chunk header\n",
    "            markdown_content.append(f\"### Chunk {i+1}\")\n",
    "            markdown_content.append(f\"**Length**: {len(doc)} characters  \")\n",
    "            markdown_content.append(f\"**ID**: {all_docs['ids'][i]}  \")\n",
    "            \n",
    "            # Determine chunk type\n",
    "            chunk_type = \"Other\"\n",
    "            if 'FHIR' in doc and 'Resource:' in doc:\n",
    "                chunk_type = \"Resource Section\"\n",
    "            elif 'FHIR Capability Table:' in doc:\n",
    "                chunk_type = \"Table Section\"\n",
    "            elif 'FHIR Capability Statement:' in doc:\n",
    "                chunk_type = \"General Section\"\n",
    "            \n",
    "            markdown_content.append(f\"**Type**: {chunk_type}\\n\")\n",
    "            \n",
    "            # Content in code block for better formatting\n",
    "            markdown_content.append(\"**Content:**\")\n",
    "            markdown_content.append(\"```\")\n",
    "            markdown_content.append(doc)\n",
    "            markdown_content.append(\"```\\n\")\n",
    "            \n",
    "            markdown_content.append(\"---\\n\")\n",
    "        \n",
    "        # Write to file\n",
    "        with open(output_file, 'w', encoding='utf-8') as f:\n",
    "            f.write('\\n'.join(markdown_content))\n",
    "        \n",
    "        print(f\"✅ Chunk analysis saved to: {output_file}\")\n",
    "        print(f\"📊 Total chunks analyzed: {len(all_docs['documents'])}\")\n",
    "        \n",
    "        # Also print summary to console\n",
    "        print(f\"\\n📋 QUICK SUMMARY:\")\n",
    "        print(f\"   Total chunks: {len(all_docs['documents'])}\")\n",
    "        for chunk_type, count in chunk_types.items():\n",
    "            print(f\"   {chunk_type}: {count}\")\n",
    "            \n",
    "        return all_docs, output_file\n",
    "        \n",
    "    except Exception as e:\n",
    "        print(f\"❌ Error inspecting collection: {e}\")\n",
    "        print(\"Make sure you've run the script first to create the collection!\")\n",
    "        return None, None\n",
    "\n",
    "def quick_chunk_preview(output_file=None, num_chunks=5):\n",
    "    \"\"\"Create a shorter markdown file with just preview of first few chunks\"\"\"\n",
    "    chroma_client = chromadb.Client()\n",
    "    sentence_transformer_ef = embedding_functions.SentenceTransformerEmbeddingFunction(\n",
    "        model_name=\"all-mpnet-base-v2\"\n",
    "    )\n",
    "    \n",
    "    try:\n",
    "        collection = chroma_client.get_collection('capability_statements', embedding_function=sentence_transformer_ef)\n",
    "        all_docs = collection.get()\n",
    "        \n",
    "        if output_file is None:\n",
    "            timestamp = datetime.now().strftime(\"%Y%m%d_%H%M%S\")\n",
    "            output_file = f\"capability_chunks_preview_{timestamp}.md\"\n",
    "        \n",
    "        markdown_content = []\n",
    "        markdown_content.append(\"# Capability Statement Chunks Preview\")\n",
    "        markdown_content.append(f\"*Generated on: {datetime.now().strftime('%Y-%m-%d %H:%M:%S')}*\\n\")\n",
    "        markdown_content.append(f\"Showing first {num_chunks} chunks out of {len(all_docs['documents'])} total\\n\")\n",
    "        \n",
    "        for i in range(min(num_chunks, len(all_docs['documents']))):\n",
    "            doc = all_docs['documents'][i]\n",
    "            markdown_content.append(f\"## Chunk {i+1}\")\n",
    "            markdown_content.append(f\"**Length**: {len(doc)} characters\\n\")\n",
    "            markdown_content.append(\"```\")\n",
    "            markdown_content.append(doc)\n",
    "            markdown_content.append(\"```\\n\")\n",
    "        \n",
    "        with open(output_file, 'w', encoding='utf-8') as f:\n",
    "            f.write('\\n'.join(markdown_content))\n",
    "        \n",
    "        print(f\"✅ Chunk preview saved to: {output_file}\")\n",
    "        return output_file\n",
    "        \n",
    "    except Exception as e:\n",
    "        print(f\"Error: {e}\")\n",
    "        return None\n",
    "\n",
    "# Run the full analysis and save to markdown\n",
    "chunks_data, analysis_file = inspect_capability_chunks()"
   ]
  },
  {
   "cell_type": "markdown",
   "id": "d080ace6",
   "metadata": {},
   "source": [
    "## Test Kit Generation"
   ]
  },
  {
   "cell_type": "code",
   "execution_count": 49,
   "id": "4ef90585",
   "metadata": {},
   "outputs": [
    {
     "name": "stderr",
     "output_type": "stream",
     "text": [
      "/Users/ceadams/Documents/onclaive/onclaive/pipeline/plan_to_tests.py:775: SyntaxWarning: invalid escape sequence '\\A'\n",
      "  api_type,\n",
      "INFO:plan_to_tests:Starting Inferno test generation with claude for PlanNet\n",
      "INFO:plan_to_tests:Parsed test plan into 4 sections\n",
      "INFO:plan_to_tests:Found 19 total requirements\n",
      "INFO:plan_to_tests:Loaded Inferno DSL guidance\n",
      "INFO:plan_to_tests:Processing section: General/Cross-Resource with 15 requirements\n",
      "INFO:plan_to_tests:Generating tests for section: General/Cross-Resource\n",
      "INFO:plan_to_tests:Sending 161 tokens to claude API (limit: 16000)\n",
      "INFO:plan_to_tests:Attempting to generate tests for entire section: General/Cross-Resource\n"
     ]
    },
    {
     "name": "stdout",
     "output_type": "stream",
     "text": [
      "Found 19 potential requirements\n",
      "Processing requirement: REQ-03\n",
      "Added requirement REQ-03 to section General/Cross-Resource\n",
      "Processing requirement: REQ-04\n",
      "Added requirement REQ-04 to section General/Cross-Resource\n",
      "Processing requirement: REQ-05\n",
      "Added requirement REQ-05 to section General/Cross-Resource\n",
      "Processing requirement: REQ-06\n",
      "Added requirement REQ-06 to section General/Cross-Resource\n",
      "Processing requirement: REQ-07\n",
      "Added requirement REQ-07 to section General/Cross-Resource\n",
      "Processing requirement: REQ-08\n",
      "Added requirement REQ-08 to section General/Cross-Resource\n",
      "Processing requirement: REQ-09\n",
      "Added requirement REQ-09 to section General/Cross-Resource\n",
      "Processing requirement: REQ-10\n",
      "Added requirement REQ-10 to section General/Cross-Resource\n",
      "Processing requirement: REQ-11\n",
      "Added requirement REQ-11 to section General/Cross-Resource\n",
      "Processing requirement: REQ-12\n",
      "Added requirement REQ-12 to section General/Cross-Resource\n",
      "Processing requirement: REQ-13\n",
      "Added requirement REQ-13 to section General/Cross-Resource\n",
      "Processing requirement: REQ-14\n",
      "Added requirement REQ-14 to section General/Cross-Resource\n",
      "Processing requirement: REQ-15\n",
      "Added requirement REQ-15 to section General/Cross-Resource\n",
      "Processing requirement: REQ-16\n",
      "Added requirement REQ-16 to section General/Cross-Resource\n",
      "Processing requirement: REQ-17\n",
      "Added requirement REQ-17 to section General/Cross-Resource\n",
      "Processing requirement: REQ-19\n",
      "Added requirement REQ-19 to section Plan-Net HealthcareService\n",
      "Processing requirement: REQ-01\n",
      "Added requirement REQ-01 to section Privacy\n",
      "Processing requirement: REQ-02\n",
      "Added requirement REQ-02 to section Privacy\n",
      "Processing requirement: REQ-18\n",
      "Added requirement REQ-18 to section Security\n"
     ]
    },
    {
     "name": "stderr",
     "output_type": "stream",
     "text": [
      "INFO:httpx:HTTP Request: POST https://api.anthropic.com/v1/messages \"HTTP/1.1 200 OK\"\n",
      "WARNING:plan_to_tests:Generated tests for only 0 of 15 requirements in section: General/Cross-Resource\n",
      "INFO:plan_to_tests:Generating test for requirement: REQ-03\n",
      "INFO:plan_to_tests:Requirement REQ-03: Sending 1275 tokens to claude API (limit: 16000)\n",
      "INFO:httpx:HTTP Request: POST https://api.anthropic.com/v1/messages \"HTTP/1.1 200 OK\"\n",
      "INFO:plan_to_tests:Successfully generated test for requirement: REQ-03\n",
      "INFO:plan_to_tests:Generating test for requirement: REQ-04\n",
      "INFO:plan_to_tests:Requirement REQ-04: Sending 1307 tokens to claude API (limit: 16000)\n",
      "INFO:httpx:HTTP Request: POST https://api.anthropic.com/v1/messages \"HTTP/1.1 200 OK\"\n",
      "INFO:plan_to_tests:Successfully generated test for requirement: REQ-04\n",
      "INFO:plan_to_tests:Generating test for requirement: REQ-05\n",
      "INFO:plan_to_tests:Requirement REQ-05: Sending 1313 tokens to claude API (limit: 16000)\n",
      "INFO:httpx:HTTP Request: POST https://api.anthropic.com/v1/messages \"HTTP/1.1 200 OK\"\n",
      "INFO:plan_to_tests:Successfully generated test for requirement: REQ-05\n",
      "INFO:plan_to_tests:Generating test for requirement: REQ-06\n",
      "INFO:plan_to_tests:Requirement REQ-06: Sending 1288 tokens to claude API (limit: 16000)\n",
      "INFO:httpx:HTTP Request: POST https://api.anthropic.com/v1/messages \"HTTP/1.1 200 OK\"\n",
      "INFO:plan_to_tests:Successfully generated test for requirement: REQ-06\n",
      "INFO:plan_to_tests:Generating test for requirement: REQ-07\n",
      "INFO:plan_to_tests:Requirement REQ-07: Sending 1273 tokens to claude API (limit: 16000)\n",
      "INFO:httpx:HTTP Request: POST https://api.anthropic.com/v1/messages \"HTTP/1.1 200 OK\"\n",
      "INFO:plan_to_tests:Successfully generated test for requirement: REQ-07\n",
      "INFO:plan_to_tests:Generating test for requirement: REQ-08\n",
      "INFO:plan_to_tests:Requirement REQ-08: Sending 1292 tokens to claude API (limit: 16000)\n",
      "INFO:httpx:HTTP Request: POST https://api.anthropic.com/v1/messages \"HTTP/1.1 200 OK\"\n",
      "INFO:plan_to_tests:Successfully generated test for requirement: REQ-08\n",
      "INFO:plan_to_tests:Generating test for requirement: REQ-09\n",
      "INFO:plan_to_tests:Requirement REQ-09: Sending 1278 tokens to claude API (limit: 16000)\n",
      "INFO:httpx:HTTP Request: POST https://api.anthropic.com/v1/messages \"HTTP/1.1 200 OK\"\n",
      "INFO:plan_to_tests:Successfully generated test for requirement: REQ-09\n",
      "INFO:plan_to_tests:Generating test for requirement: REQ-10\n",
      "INFO:plan_to_tests:Requirement REQ-10: Sending 1262 tokens to claude API (limit: 16000)\n",
      "INFO:httpx:HTTP Request: POST https://api.anthropic.com/v1/messages \"HTTP/1.1 200 OK\"\n",
      "INFO:plan_to_tests:Successfully generated test for requirement: REQ-10\n",
      "INFO:plan_to_tests:Generating test for requirement: REQ-11\n",
      "INFO:plan_to_tests:Requirement REQ-11: Sending 1268 tokens to claude API (limit: 16000)\n",
      "INFO:httpx:HTTP Request: POST https://api.anthropic.com/v1/messages \"HTTP/1.1 200 OK\"\n",
      "INFO:plan_to_tests:Successfully generated test for requirement: REQ-11\n",
      "INFO:plan_to_tests:Generating test for requirement: REQ-12\n",
      "INFO:plan_to_tests:Requirement REQ-12: Sending 1300 tokens to claude API (limit: 16000)\n",
      "INFO:httpx:HTTP Request: POST https://api.anthropic.com/v1/messages \"HTTP/1.1 200 OK\"\n",
      "INFO:plan_to_tests:Successfully generated test for requirement: REQ-12\n",
      "INFO:plan_to_tests:Generating test for requirement: REQ-13\n",
      "INFO:plan_to_tests:Requirement REQ-13: Sending 1263 tokens to claude API (limit: 16000)\n",
      "INFO:httpx:HTTP Request: POST https://api.anthropic.com/v1/messages \"HTTP/1.1 200 OK\"\n",
      "INFO:plan_to_tests:Successfully generated test for requirement: REQ-13\n",
      "INFO:plan_to_tests:Generating test for requirement: REQ-14\n",
      "INFO:plan_to_tests:Requirement REQ-14: Sending 1275 tokens to claude API (limit: 16000)\n",
      "INFO:httpx:HTTP Request: POST https://api.anthropic.com/v1/messages \"HTTP/1.1 200 OK\"\n",
      "INFO:plan_to_tests:Successfully generated test for requirement: REQ-14\n",
      "INFO:plan_to_tests:Generating test for requirement: REQ-15\n",
      "INFO:plan_to_tests:Requirement REQ-15: Sending 1269 tokens to claude API (limit: 16000)\n",
      "INFO:httpx:HTTP Request: POST https://api.anthropic.com/v1/messages \"HTTP/1.1 200 OK\"\n",
      "INFO:plan_to_tests:Successfully generated test for requirement: REQ-15\n",
      "INFO:plan_to_tests:Generating test for requirement: REQ-16\n",
      "INFO:plan_to_tests:Requirement REQ-16: Sending 1271 tokens to claude API (limit: 16000)\n",
      "INFO:httpx:HTTP Request: POST https://api.anthropic.com/v1/messages \"HTTP/1.1 200 OK\"\n",
      "INFO:plan_to_tests:Successfully generated test for requirement: REQ-16\n",
      "INFO:plan_to_tests:Generating test for requirement: REQ-17\n",
      "INFO:plan_to_tests:Requirement REQ-17: Sending 1263 tokens to claude API (limit: 16000)\n",
      "INFO:httpx:HTTP Request: POST https://api.anthropic.com/v1/messages \"HTTP/1.1 200 OK\"\n",
      "INFO:plan_to_tests:Successfully generated test for requirement: REQ-17\n",
      "INFO:plan_to_tests:Validating test for requirement: REQ-03\n",
      "INFO:plan_to_tests:Validation for test: Sending 3442 tokens to claude API\n",
      "INFO:httpx:HTTP Request: POST https://api.anthropic.com/v1/messages \"HTTP/1.1 200 OK\"\n",
      "INFO:plan_to_tests:Successfully validated test for requirement: REQ-03\n",
      "INFO:plan_to_tests:Validating test for requirement: REQ-04\n",
      "INFO:plan_to_tests:Validation for test: Sending 3007 tokens to claude API\n",
      "INFO:httpx:HTTP Request: POST https://api.anthropic.com/v1/messages \"HTTP/1.1 200 OK\"\n",
      "INFO:plan_to_tests:Successfully validated test for requirement: REQ-04\n",
      "INFO:plan_to_tests:Validating test for requirement: REQ-05\n",
      "INFO:plan_to_tests:Validation for test: Sending 3161 tokens to claude API\n",
      "INFO:httpx:HTTP Request: POST https://api.anthropic.com/v1/messages \"HTTP/1.1 200 OK\"\n",
      "INFO:plan_to_tests:Successfully validated test for requirement: REQ-05\n",
      "INFO:plan_to_tests:Validating test for requirement: REQ-06\n",
      "INFO:plan_to_tests:Validation for test: Sending 2665 tokens to claude API\n",
      "INFO:httpx:HTTP Request: POST https://api.anthropic.com/v1/messages \"HTTP/1.1 200 OK\"\n",
      "INFO:plan_to_tests:Successfully validated test for requirement: REQ-06\n",
      "INFO:plan_to_tests:Validating test for requirement: REQ-07\n",
      "INFO:plan_to_tests:Validation for test: Sending 2873 tokens to claude API\n",
      "INFO:httpx:HTTP Request: POST https://api.anthropic.com/v1/messages \"HTTP/1.1 200 OK\"\n",
      "INFO:plan_to_tests:Successfully validated test for requirement: REQ-07\n",
      "INFO:plan_to_tests:Validating test for requirement: REQ-08\n",
      "INFO:plan_to_tests:Validation for test: Sending 4332 tokens to claude API\n",
      "INFO:httpx:HTTP Request: POST https://api.anthropic.com/v1/messages \"HTTP/1.1 200 OK\"\n",
      "INFO:plan_to_tests:Successfully validated test for requirement: REQ-08\n",
      "INFO:plan_to_tests:Validating test for requirement: REQ-09\n",
      "INFO:plan_to_tests:Validation for test: Sending 3681 tokens to claude API\n",
      "INFO:httpx:HTTP Request: POST https://api.anthropic.com/v1/messages \"HTTP/1.1 200 OK\"\n",
      "INFO:plan_to_tests:Successfully validated test for requirement: REQ-09\n",
      "INFO:plan_to_tests:Validating test for requirement: REQ-10\n",
      "INFO:plan_to_tests:Validation for test: Sending 3519 tokens to claude API\n",
      "INFO:httpx:HTTP Request: POST https://api.anthropic.com/v1/messages \"HTTP/1.1 200 OK\"\n",
      "INFO:plan_to_tests:Successfully validated test for requirement: REQ-10\n",
      "INFO:plan_to_tests:Validating test for requirement: REQ-11\n",
      "INFO:plan_to_tests:Validation for test: Sending 2724 tokens to claude API\n",
      "INFO:httpx:HTTP Request: POST https://api.anthropic.com/v1/messages \"HTTP/1.1 200 OK\"\n",
      "INFO:plan_to_tests:Successfully validated test for requirement: REQ-11\n",
      "INFO:plan_to_tests:Validating test for requirement: REQ-12\n",
      "INFO:plan_to_tests:Validation for test: Sending 2598 tokens to claude API\n",
      "INFO:httpx:HTTP Request: POST https://api.anthropic.com/v1/messages \"HTTP/1.1 200 OK\"\n",
      "INFO:plan_to_tests:Successfully validated test for requirement: REQ-12\n",
      "INFO:plan_to_tests:Validating test for requirement: REQ-13\n",
      "INFO:plan_to_tests:Validation for test: Sending 2588 tokens to claude API\n",
      "INFO:httpx:HTTP Request: POST https://api.anthropic.com/v1/messages \"HTTP/1.1 200 OK\"\n",
      "INFO:plan_to_tests:Successfully validated test for requirement: REQ-13\n",
      "INFO:plan_to_tests:Validating test for requirement: REQ-14\n",
      "INFO:plan_to_tests:Validation for test: Sending 2919 tokens to claude API\n",
      "INFO:httpx:HTTP Request: POST https://api.anthropic.com/v1/messages \"HTTP/1.1 200 OK\"\n",
      "INFO:plan_to_tests:Successfully validated test for requirement: REQ-14\n",
      "INFO:plan_to_tests:Validating test for requirement: REQ-15\n",
      "INFO:plan_to_tests:Validation for test: Sending 3134 tokens to claude API\n",
      "INFO:httpx:HTTP Request: POST https://api.anthropic.com/v1/messages \"HTTP/1.1 200 OK\"\n",
      "INFO:plan_to_tests:Successfully validated test for requirement: REQ-15\n",
      "INFO:plan_to_tests:Validating test for requirement: REQ-16\n",
      "INFO:plan_to_tests:Validation for test: Sending 3319 tokens to claude API\n",
      "INFO:httpx:HTTP Request: POST https://api.anthropic.com/v1/messages \"HTTP/1.1 200 OK\"\n",
      "INFO:plan_to_tests:Successfully validated test for requirement: REQ-16\n",
      "INFO:plan_to_tests:Validating test for requirement: REQ-17\n",
      "INFO:plan_to_tests:Validation for test: Sending 3118 tokens to claude API\n",
      "INFO:httpx:HTTP Request: POST https://api.anthropic.com/v1/messages \"HTTP/1.1 200 OK\"\n",
      "INFO:plan_to_tests:Successfully validated test for requirement: REQ-17\n",
      "INFO:plan_to_tests:Processing section: Plan-Net HealthcareService with 1 requirements\n",
      "INFO:plan_to_tests:Generating tests for section: Plan-Net HealthcareService\n",
      "INFO:plan_to_tests:Generating test for requirement: REQ-19\n",
      "INFO:plan_to_tests:Requirement REQ-19: Sending 1289 tokens to claude API (limit: 16000)\n",
      "INFO:httpx:HTTP Request: POST https://api.anthropic.com/v1/messages \"HTTP/1.1 200 OK\"\n",
      "INFO:plan_to_tests:Successfully generated test for requirement: REQ-19\n",
      "INFO:plan_to_tests:Validating test for requirement: REQ-19\n",
      "INFO:plan_to_tests:Validation for test: Sending 2769 tokens to claude API\n",
      "INFO:httpx:HTTP Request: POST https://api.anthropic.com/v1/messages \"HTTP/1.1 200 OK\"\n",
      "INFO:plan_to_tests:Successfully validated test for requirement: REQ-19\n",
      "INFO:plan_to_tests:Processing section: Privacy with 2 requirements\n",
      "INFO:plan_to_tests:Generating tests for section: Privacy\n",
      "INFO:plan_to_tests:Sending 157 tokens to claude API (limit: 16000)\n",
      "INFO:plan_to_tests:Attempting to generate tests for entire section: Privacy\n",
      "INFO:httpx:HTTP Request: POST https://api.anthropic.com/v1/messages \"HTTP/1.1 200 OK\"\n",
      "WARNING:plan_to_tests:Generated tests for only 0 of 2 requirements in section: Privacy\n",
      "INFO:plan_to_tests:Generating test for requirement: REQ-01\n",
      "INFO:plan_to_tests:Requirement REQ-01: Sending 1283 tokens to claude API (limit: 16000)\n",
      "INFO:httpx:HTTP Request: POST https://api.anthropic.com/v1/messages \"HTTP/1.1 200 OK\"\n",
      "INFO:plan_to_tests:Successfully generated test for requirement: REQ-01\n",
      "INFO:plan_to_tests:Generating test for requirement: REQ-02\n",
      "INFO:plan_to_tests:Requirement REQ-02: Sending 1280 tokens to claude API (limit: 16000)\n",
      "/Users/ceadams/Documents/onclaive/onclaive/pipeline/plan_to_tests.py:775: SyntaxWarning: invalid escape sequence '\\A'\n",
      "  \"\"\"\n"
     ]
    },
    {
     "ename": "KeyboardInterrupt",
     "evalue": "",
     "output_type": "error",
     "traceback": [
      "\u001b[31m---------------------------------------------------------------------------\u001b[39m",
      "\u001b[31mKeyboardInterrupt\u001b[39m                         Traceback (most recent call last)",
      "\u001b[36mCell\u001b[39m\u001b[36m \u001b[39m\u001b[32mIn[49]\u001b[39m\u001b[32m, line 5\u001b[39m\n\u001b[32m      2\u001b[39m \u001b[38;5;28;01mimport\u001b[39;00m\u001b[38;5;250m \u001b[39m\u001b[34;01mimportlib\u001b[39;00m\n\u001b[32m      3\u001b[39m importlib.reload(plan_to_tests)\n\u001b[32m----> \u001b[39m\u001b[32m5\u001b[39m \u001b[43mplan_to_tests\u001b[49m\u001b[43m.\u001b[49m\u001b[43mgenerate_inferno_test_kit\u001b[49m\u001b[43m(\u001b[49m\n\u001b[32m      6\u001b[39m \u001b[43m    \u001b[49m\u001b[43mllm_clients\u001b[49m\u001b[43m,\u001b[49m\n\u001b[32m      7\u001b[39m \u001b[43m    \u001b[49m\u001b[33;43m'\u001b[39;49m\u001b[33;43mclaude\u001b[39;49m\u001b[33;43m'\u001b[39;49m\u001b[43m,\u001b[49m\n\u001b[32m      8\u001b[39m \u001b[43m    \u001b[49m\u001b[33;43m'\u001b[39;49m\u001b[33;43mcheckpoints/testplan_generation/claude_test_plan_20250730_140520.md\u001b[39;49m\u001b[33;43m'\u001b[39;49m\u001b[43m,\u001b[49m\n\u001b[32m      9\u001b[39m \u001b[43m    \u001b[49m\u001b[38;5;66;43;03m#'../test_kit_dev/inferno-guidance.md',\u001b[39;49;00m\n\u001b[32m     10\u001b[39m \u001b[43m    \u001b[49m\u001b[43moutput_dir\u001b[49m\u001b[43m=\u001b[49m\u001b[33;43m'\u001b[39;49m\u001b[33;43mcheckpoints/testkit_generation\u001b[39;49m\u001b[33;43m'\u001b[39;49m\u001b[43m,\u001b[49m\n\u001b[32m     11\u001b[39m \u001b[43m    \u001b[49m\u001b[43mexpected_actors\u001b[49m\u001b[43m=\u001b[49m\u001b[43m[\u001b[49m\u001b[33;43m\"\u001b[39;49m\u001b[33;43mHealth Plan API Actor\u001b[39;49m\u001b[33;43m\"\u001b[39;49m\u001b[43m,\u001b[49m\u001b[43m \u001b[49m\u001b[33;43m\"\u001b[39;49m\u001b[33;43mApplication Actor\u001b[39;49m\u001b[33;43m\"\u001b[39;49m\u001b[43m]\u001b[49m\n\u001b[32m     12\u001b[39m \u001b[43m)\u001b[49m\n",
      "\u001b[36mFile \u001b[39m\u001b[32m~/Documents/onclaive/onclaive/pipeline/plan_to_tests.py:1129\u001b[39m, in \u001b[36mgenerate_inferno_test_kit\u001b[39m\u001b[34m(llm_clients, api_type, test_plan_file, module_name, output_dir, expected_actors)\u001b[39m\n\u001b[32m   1126\u001b[39m     \u001b[38;5;28;01mcontinue\u001b[39;00m\n\u001b[32m   1128\u001b[39m \u001b[38;5;66;03m# Generate tests for this section\u001b[39;00m\n\u001b[32m-> \u001b[39m\u001b[32m1129\u001b[39m section_tests = \u001b[43mgenerate_tests_for_section\u001b[49m\u001b[43m(\u001b[49m\n\u001b[32m   1130\u001b[39m \u001b[43m    \u001b[49m\u001b[43mllm_clients\u001b[49m\u001b[43m,\u001b[49m\u001b[43m \u001b[49m\n\u001b[32m   1131\u001b[39m \u001b[43m    \u001b[49m\u001b[43mapi_type\u001b[49m\u001b[43m,\u001b[49m\u001b[43m \u001b[49m\n\u001b[32m   1132\u001b[39m \u001b[43m    \u001b[49m\u001b[43msection\u001b[49m\u001b[43m,\u001b[49m\u001b[43m \u001b[49m\n\u001b[32m   1133\u001b[39m \u001b[43m    \u001b[49m\u001b[38;5;66;43;03m#inferno_guidance, \u001b[39;49;00m\n\u001b[32m   1134\u001b[39m \u001b[43m    \u001b[49m\u001b[43mdsl_guidance\u001b[49m\u001b[43m,\u001b[49m\n\u001b[32m   1135\u001b[39m \u001b[43m    \u001b[49m\u001b[43mmodule_name_camel\u001b[49m\u001b[43m,\u001b[49m\u001b[43m \u001b[49m\n\u001b[32m   1136\u001b[39m \u001b[43m    \u001b[49m\u001b[32;43m70000\u001b[39;49m\n\u001b[32m   1137\u001b[39m \u001b[43m\u001b[49m\u001b[43m)\u001b[49m\n\u001b[32m   1139\u001b[39m \u001b[38;5;66;03m# Add to our collection\u001b[39;00m\n\u001b[32m   1140\u001b[39m all_tests.update(section_tests)\n",
      "\u001b[36mFile \u001b[39m\u001b[32m~/Documents/onclaive/onclaive/pipeline/plan_to_tests.py:498\u001b[39m, in \u001b[36mgenerate_tests_for_section\u001b[39m\u001b[34m(llm_clients, api_type, section, inferno_guidance, dsl_guidance, module_name, max_input_token_limit)\u001b[39m\n\u001b[32m    495\u001b[39m logger.info(\u001b[33mf\u001b[39m\u001b[33m\"\u001b[39m\u001b[33mRequirement \u001b[39m\u001b[38;5;132;01m{\u001b[39;00mrequirement[\u001b[33m'\u001b[39m\u001b[33mid\u001b[39m\u001b[33m'\u001b[39m]\u001b[38;5;132;01m}\u001b[39;00m\u001b[33m: Sending \u001b[39m\u001b[38;5;132;01m{\u001b[39;00mactual_tokens\u001b[38;5;132;01m}\u001b[39;00m\u001b[33m tokens to \u001b[39m\u001b[38;5;132;01m{\u001b[39;00mapi_type\u001b[38;5;132;01m}\u001b[39;00m\u001b[33m API (limit: \u001b[39m\u001b[38;5;132;01m{\u001b[39;00mmax_input_token_limit\u001b[38;5;132;01m}\u001b[39;00m\u001b[33m)\u001b[39m\u001b[33m\"\u001b[39m)\n\u001b[32m    497\u001b[39m \u001b[38;5;66;03m# Generate the test\u001b[39;00m\n\u001b[32m--> \u001b[39m\u001b[32m498\u001b[39m test_code = \u001b[43mllm_clients\u001b[49m\u001b[43m.\u001b[49m\u001b[43mmake_llm_request\u001b[49m\u001b[43m(\u001b[49m\n\u001b[32m    499\u001b[39m \u001b[43m    \u001b[49m\u001b[43mapi_type\u001b[49m\u001b[43m,\u001b[49m\u001b[43m \u001b[49m\n\u001b[32m    500\u001b[39m \u001b[43m    \u001b[49m\u001b[43mreq_prompt\u001b[49m\u001b[43m,\u001b[49m\u001b[43m \u001b[49m\n\u001b[32m    501\u001b[39m \u001b[43m    \u001b[49m\u001b[43mINFERNO_TEST_SYSTEM_PROMPT\u001b[49m\u001b[43m,\u001b[49m\u001b[43m \u001b[49m\n\u001b[32m    502\u001b[39m \u001b[43m\u001b[49m\u001b[43m)\u001b[49m\n\u001b[32m    504\u001b[39m \u001b[38;5;66;03m# Clean up any markdown formatting\u001b[39;00m\n\u001b[32m    505\u001b[39m \u001b[38;5;28;01mif\u001b[39;00m test_code.startswith(\u001b[33m'\u001b[39m\u001b[33m```ruby\u001b[39m\u001b[33m'\u001b[39m):\n",
      "\u001b[36mFile \u001b[39m\u001b[32m~/Documents/onclaive/onclaive/pipeline/llm_utils.py:317\u001b[39m, in \u001b[36mLLMApiClient.make_llm_request\u001b[39m\u001b[34m(self, api_type, prompt, sys_prompt, raise_on_error, reformat, max_tokens)\u001b[39m\n\u001b[32m    315\u001b[39m     query = prompt\n\u001b[32m    316\u001b[39m \u001b[38;5;28;01mtry\u001b[39;00m:\n\u001b[32m--> \u001b[39m\u001b[32m317\u001b[39m     \u001b[38;5;28;01mreturn\u001b[39;00m \u001b[38;5;28;43mself\u001b[39;49m\u001b[43m.\u001b[49m\u001b[43mmake_one_llm_request\u001b[49m\u001b[43m(\u001b[49m\u001b[43mapi_type\u001b[49m\u001b[43m,\u001b[49m\u001b[43m \u001b[49m\u001b[43mquery\u001b[49m\u001b[43m,\u001b[49m\u001b[43m \u001b[49m\u001b[43msystem_prompt\u001b[49m\u001b[43m,\u001b[49m\u001b[43m \u001b[49m\u001b[43mmax_tokens\u001b[49m\u001b[43m)\u001b[49m\n\u001b[32m    318\u001b[39m \u001b[38;5;28;01mexcept\u001b[39;00m SafetyFilterException \u001b[38;5;28;01mas\u001b[39;00m e:\n\u001b[32m    319\u001b[39m     \u001b[38;5;28mself\u001b[39m.safety_blocked_count += \u001b[32m1\u001b[39m\n",
      "\u001b[36mFile \u001b[39m\u001b[32m~/Documents/onclaive/onclaive/.venv/lib/python3.12/site-packages/tenacity/__init__.py:336\u001b[39m, in \u001b[36mBaseRetrying.wraps.<locals>.wrapped_f\u001b[39m\u001b[34m(*args, **kw)\u001b[39m\n\u001b[32m    334\u001b[39m copy = \u001b[38;5;28mself\u001b[39m.copy()\n\u001b[32m    335\u001b[39m wrapped_f.statistics = copy.statistics  \u001b[38;5;66;03m# type: ignore[attr-defined]\u001b[39;00m\n\u001b[32m--> \u001b[39m\u001b[32m336\u001b[39m \u001b[38;5;28;01mreturn\u001b[39;00m \u001b[43mcopy\u001b[49m\u001b[43m(\u001b[49m\u001b[43mf\u001b[49m\u001b[43m,\u001b[49m\u001b[43m \u001b[49m\u001b[43m*\u001b[49m\u001b[43margs\u001b[49m\u001b[43m,\u001b[49m\u001b[43m \u001b[49m\u001b[43m*\u001b[49m\u001b[43m*\u001b[49m\u001b[43mkw\u001b[49m\u001b[43m)\u001b[49m\n",
      "\u001b[36mFile \u001b[39m\u001b[32m~/Documents/onclaive/onclaive/.venv/lib/python3.12/site-packages/tenacity/__init__.py:475\u001b[39m, in \u001b[36mRetrying.__call__\u001b[39m\u001b[34m(self, fn, *args, **kwargs)\u001b[39m\n\u001b[32m    473\u001b[39m retry_state = RetryCallState(retry_object=\u001b[38;5;28mself\u001b[39m, fn=fn, args=args, kwargs=kwargs)\n\u001b[32m    474\u001b[39m \u001b[38;5;28;01mwhile\u001b[39;00m \u001b[38;5;28;01mTrue\u001b[39;00m:\n\u001b[32m--> \u001b[39m\u001b[32m475\u001b[39m     do = \u001b[38;5;28;43mself\u001b[39;49m\u001b[43m.\u001b[49m\u001b[43miter\u001b[49m\u001b[43m(\u001b[49m\u001b[43mretry_state\u001b[49m\u001b[43m=\u001b[49m\u001b[43mretry_state\u001b[49m\u001b[43m)\u001b[49m\n\u001b[32m    476\u001b[39m     \u001b[38;5;28;01mif\u001b[39;00m \u001b[38;5;28misinstance\u001b[39m(do, DoAttempt):\n\u001b[32m    477\u001b[39m         \u001b[38;5;28;01mtry\u001b[39;00m:\n",
      "\u001b[36mFile \u001b[39m\u001b[32m~/Documents/onclaive/onclaive/.venv/lib/python3.12/site-packages/tenacity/__init__.py:376\u001b[39m, in \u001b[36mBaseRetrying.iter\u001b[39m\u001b[34m(self, retry_state)\u001b[39m\n\u001b[32m    374\u001b[39m result = \u001b[38;5;28;01mNone\u001b[39;00m\n\u001b[32m    375\u001b[39m \u001b[38;5;28;01mfor\u001b[39;00m action \u001b[38;5;129;01min\u001b[39;00m \u001b[38;5;28mself\u001b[39m.iter_state.actions:\n\u001b[32m--> \u001b[39m\u001b[32m376\u001b[39m     result = \u001b[43maction\u001b[49m\u001b[43m(\u001b[49m\u001b[43mretry_state\u001b[49m\u001b[43m)\u001b[49m\n\u001b[32m    377\u001b[39m \u001b[38;5;28;01mreturn\u001b[39;00m result\n",
      "\u001b[36mFile \u001b[39m\u001b[32m~/Documents/onclaive/onclaive/.venv/lib/python3.12/site-packages/tenacity/__init__.py:398\u001b[39m, in \u001b[36mBaseRetrying._post_retry_check_actions.<locals>.<lambda>\u001b[39m\u001b[34m(rs)\u001b[39m\n\u001b[32m    396\u001b[39m \u001b[38;5;28;01mdef\u001b[39;00m\u001b[38;5;250m \u001b[39m\u001b[34m_post_retry_check_actions\u001b[39m(\u001b[38;5;28mself\u001b[39m, retry_state: \u001b[33m\"\u001b[39m\u001b[33mRetryCallState\u001b[39m\u001b[33m\"\u001b[39m) -> \u001b[38;5;28;01mNone\u001b[39;00m:\n\u001b[32m    397\u001b[39m     \u001b[38;5;28;01mif\u001b[39;00m \u001b[38;5;129;01mnot\u001b[39;00m (\u001b[38;5;28mself\u001b[39m.iter_state.is_explicit_retry \u001b[38;5;129;01mor\u001b[39;00m \u001b[38;5;28mself\u001b[39m.iter_state.retry_run_result):\n\u001b[32m--> \u001b[39m\u001b[32m398\u001b[39m         \u001b[38;5;28mself\u001b[39m._add_action_func(\u001b[38;5;28;01mlambda\u001b[39;00m rs: \u001b[43mrs\u001b[49m\u001b[43m.\u001b[49m\u001b[43moutcome\u001b[49m\u001b[43m.\u001b[49m\u001b[43mresult\u001b[49m\u001b[43m(\u001b[49m\u001b[43m)\u001b[49m)\n\u001b[32m    399\u001b[39m         \u001b[38;5;28;01mreturn\u001b[39;00m\n\u001b[32m    401\u001b[39m     \u001b[38;5;28;01mif\u001b[39;00m \u001b[38;5;28mself\u001b[39m.after \u001b[38;5;129;01mis\u001b[39;00m \u001b[38;5;129;01mnot\u001b[39;00m \u001b[38;5;28;01mNone\u001b[39;00m:\n",
      "\u001b[36mFile \u001b[39m\u001b[32m/opt/homebrew/Cellar/python@3.12/3.12.6/Frameworks/Python.framework/Versions/3.12/lib/python3.12/concurrent/futures/_base.py:449\u001b[39m, in \u001b[36mFuture.result\u001b[39m\u001b[34m(self, timeout)\u001b[39m\n\u001b[32m    447\u001b[39m     \u001b[38;5;28;01mraise\u001b[39;00m CancelledError()\n\u001b[32m    448\u001b[39m \u001b[38;5;28;01melif\u001b[39;00m \u001b[38;5;28mself\u001b[39m._state == FINISHED:\n\u001b[32m--> \u001b[39m\u001b[32m449\u001b[39m     \u001b[38;5;28;01mreturn\u001b[39;00m \u001b[38;5;28;43mself\u001b[39;49m\u001b[43m.\u001b[49m\u001b[43m__get_result\u001b[49m\u001b[43m(\u001b[49m\u001b[43m)\u001b[49m\n\u001b[32m    451\u001b[39m \u001b[38;5;28mself\u001b[39m._condition.wait(timeout)\n\u001b[32m    453\u001b[39m \u001b[38;5;28;01mif\u001b[39;00m \u001b[38;5;28mself\u001b[39m._state \u001b[38;5;129;01min\u001b[39;00m [CANCELLED, CANCELLED_AND_NOTIFIED]:\n",
      "\u001b[36mFile \u001b[39m\u001b[32m/opt/homebrew/Cellar/python@3.12/3.12.6/Frameworks/Python.framework/Versions/3.12/lib/python3.12/concurrent/futures/_base.py:401\u001b[39m, in \u001b[36mFuture.__get_result\u001b[39m\u001b[34m(self)\u001b[39m\n\u001b[32m    399\u001b[39m \u001b[38;5;28;01mif\u001b[39;00m \u001b[38;5;28mself\u001b[39m._exception:\n\u001b[32m    400\u001b[39m     \u001b[38;5;28;01mtry\u001b[39;00m:\n\u001b[32m--> \u001b[39m\u001b[32m401\u001b[39m         \u001b[38;5;28;01mraise\u001b[39;00m \u001b[38;5;28mself\u001b[39m._exception\n\u001b[32m    402\u001b[39m     \u001b[38;5;28;01mfinally\u001b[39;00m:\n\u001b[32m    403\u001b[39m         \u001b[38;5;66;03m# Break a reference cycle with the exception in self._exception\u001b[39;00m\n\u001b[32m    404\u001b[39m         \u001b[38;5;28mself\u001b[39m = \u001b[38;5;28;01mNone\u001b[39;00m\n",
      "\u001b[36mFile \u001b[39m\u001b[32m~/Documents/onclaive/onclaive/.venv/lib/python3.12/site-packages/tenacity/__init__.py:478\u001b[39m, in \u001b[36mRetrying.__call__\u001b[39m\u001b[34m(self, fn, *args, **kwargs)\u001b[39m\n\u001b[32m    476\u001b[39m \u001b[38;5;28;01mif\u001b[39;00m \u001b[38;5;28misinstance\u001b[39m(do, DoAttempt):\n\u001b[32m    477\u001b[39m     \u001b[38;5;28;01mtry\u001b[39;00m:\n\u001b[32m--> \u001b[39m\u001b[32m478\u001b[39m         result = \u001b[43mfn\u001b[49m\u001b[43m(\u001b[49m\u001b[43m*\u001b[49m\u001b[43margs\u001b[49m\u001b[43m,\u001b[49m\u001b[43m \u001b[49m\u001b[43m*\u001b[49m\u001b[43m*\u001b[49m\u001b[43mkwargs\u001b[49m\u001b[43m)\u001b[49m\n\u001b[32m    479\u001b[39m     \u001b[38;5;28;01mexcept\u001b[39;00m \u001b[38;5;167;01mBaseException\u001b[39;00m:  \u001b[38;5;66;03m# noqa: B902\u001b[39;00m\n\u001b[32m    480\u001b[39m         retry_state.set_exception(sys.exc_info())  \u001b[38;5;66;03m# type: ignore[arg-type]\u001b[39;00m\n",
      "\u001b[36mFile \u001b[39m\u001b[32m~/Documents/onclaive/onclaive/pipeline/llm_utils.py:225\u001b[39m, in \u001b[36mLLMApiClient.make_one_llm_request\u001b[39m\u001b[34m(self, api_type, prompt, system_prompt, max_tokens)\u001b[39m\n\u001b[32m    223\u001b[39m \u001b[38;5;28;01mtry\u001b[39;00m:\n\u001b[32m    224\u001b[39m     \u001b[38;5;28;01mif\u001b[39;00m api_type == \u001b[33m\"\u001b[39m\u001b[33mclaude\u001b[39m\u001b[33m\"\u001b[39m:\n\u001b[32m--> \u001b[39m\u001b[32m225\u001b[39m         response = \u001b[43mclient\u001b[49m\u001b[43m.\u001b[49m\u001b[43mmessages\u001b[49m\u001b[43m.\u001b[49m\u001b[43mcreate\u001b[49m\u001b[43m(\u001b[49m\n\u001b[32m    226\u001b[39m \u001b[43m            \u001b[49m\u001b[43mmodel\u001b[49m\u001b[43m=\u001b[49m\u001b[43mconfig\u001b[49m\u001b[43m[\u001b[49m\u001b[33;43m\"\u001b[39;49m\u001b[33;43mmodel_name\u001b[39;49m\u001b[33;43m\"\u001b[39;49m\u001b[43m]\u001b[49m\u001b[43m,\u001b[49m\n\u001b[32m    227\u001b[39m \u001b[43m            \u001b[49m\u001b[43mmax_tokens\u001b[49m\u001b[43m=\u001b[49m\u001b[43mtokens_limit\u001b[49m\u001b[43m,\u001b[49m\u001b[43m  \u001b[49m\u001b[38;5;66;43;03m# Use the tokens_limit variable\u001b[39;49;00m\n\u001b[32m    228\u001b[39m \u001b[43m            \u001b[49m\u001b[43mmessages\u001b[49m\u001b[43m=\u001b[49m\u001b[43m[\u001b[49m\u001b[43m{\u001b[49m\n\u001b[32m    229\u001b[39m \u001b[43m                \u001b[49m\u001b[33;43m\"\u001b[39;49m\u001b[33;43mrole\u001b[39;49m\u001b[33;43m\"\u001b[39;49m\u001b[43m:\u001b[49m\u001b[43m \u001b[49m\u001b[33;43m\"\u001b[39;49m\u001b[33;43muser\u001b[39;49m\u001b[33;43m\"\u001b[39;49m\u001b[43m,\u001b[49m\u001b[43m \u001b[49m\n\u001b[32m    230\u001b[39m \u001b[43m                \u001b[49m\u001b[33;43m\"\u001b[39;49m\u001b[33;43mcontent\u001b[39;49m\u001b[33;43m\"\u001b[39;49m\u001b[43m:\u001b[49m\u001b[43m \u001b[49m\u001b[43mprompt\u001b[49m\n\u001b[32m    231\u001b[39m \u001b[43m            \u001b[49m\u001b[43m}\u001b[49m\u001b[43m]\u001b[49m\u001b[43m,\u001b[49m\n\u001b[32m    232\u001b[39m \u001b[43m            \u001b[49m\u001b[43msystem\u001b[49m\u001b[43m=\u001b[49m\u001b[43msystem_prompt\u001b[49m\n\u001b[32m    233\u001b[39m \u001b[43m        \u001b[49m\u001b[43m)\u001b[49m\n\u001b[32m    234\u001b[39m         \u001b[38;5;28;01mreturn\u001b[39;00m response.content[\u001b[32m0\u001b[39m].text\n\u001b[32m    236\u001b[39m     \u001b[38;5;28;01melif\u001b[39;00m api_type == \u001b[33m\"\u001b[39m\u001b[33mgemini\u001b[39m\u001b[33m\"\u001b[39m:\n\u001b[32m    237\u001b[39m         \u001b[38;5;66;03m# Combine system prompt and user prompt for Gemini\u001b[39;00m\n",
      "\u001b[36mFile \u001b[39m\u001b[32m~/Documents/onclaive/onclaive/.venv/lib/python3.12/site-packages/anthropic/_utils/_utils.py:274\u001b[39m, in \u001b[36mrequired_args.<locals>.inner.<locals>.wrapper\u001b[39m\u001b[34m(*args, **kwargs)\u001b[39m\n\u001b[32m    272\u001b[39m             msg = \u001b[33mf\u001b[39m\u001b[33m\"\u001b[39m\u001b[33mMissing required argument: \u001b[39m\u001b[38;5;132;01m{\u001b[39;00mquote(missing[\u001b[32m0\u001b[39m])\u001b[38;5;132;01m}\u001b[39;00m\u001b[33m\"\u001b[39m\n\u001b[32m    273\u001b[39m     \u001b[38;5;28;01mraise\u001b[39;00m \u001b[38;5;167;01mTypeError\u001b[39;00m(msg)\n\u001b[32m--> \u001b[39m\u001b[32m274\u001b[39m \u001b[38;5;28;01mreturn\u001b[39;00m \u001b[43mfunc\u001b[49m\u001b[43m(\u001b[49m\u001b[43m*\u001b[49m\u001b[43margs\u001b[49m\u001b[43m,\u001b[49m\u001b[43m \u001b[49m\u001b[43m*\u001b[49m\u001b[43m*\u001b[49m\u001b[43mkwargs\u001b[49m\u001b[43m)\u001b[49m\n",
      "\u001b[36mFile \u001b[39m\u001b[32m~/Documents/onclaive/onclaive/.venv/lib/python3.12/site-packages/anthropic/resources/messages.py:888\u001b[39m, in \u001b[36mMessages.create\u001b[39m\u001b[34m(self, max_tokens, messages, model, metadata, stop_sequences, stream, system, temperature, tool_choice, tools, top_k, top_p, extra_headers, extra_query, extra_body, timeout)\u001b[39m\n\u001b[32m    881\u001b[39m \u001b[38;5;28;01mif\u001b[39;00m model \u001b[38;5;129;01min\u001b[39;00m DEPRECATED_MODELS:\n\u001b[32m    882\u001b[39m     warnings.warn(\n\u001b[32m    883\u001b[39m         \u001b[33mf\u001b[39m\u001b[33m\"\u001b[39m\u001b[33mThe model \u001b[39m\u001b[33m'\u001b[39m\u001b[38;5;132;01m{\u001b[39;00mmodel\u001b[38;5;132;01m}\u001b[39;00m\u001b[33m'\u001b[39m\u001b[33m is deprecated and will reach end-of-life on \u001b[39m\u001b[38;5;132;01m{\u001b[39;00mDEPRECATED_MODELS[model]\u001b[38;5;132;01m}\u001b[39;00m\u001b[33m.\u001b[39m\u001b[38;5;130;01m\\n\u001b[39;00m\u001b[33mPlease migrate to a newer model. Visit https://docs.anthropic.com/en/docs/resources/model-deprecations for more information.\u001b[39m\u001b[33m\"\u001b[39m,\n\u001b[32m    884\u001b[39m         \u001b[38;5;167;01mDeprecationWarning\u001b[39;00m,\n\u001b[32m    885\u001b[39m         stacklevel=\u001b[32m3\u001b[39m,\n\u001b[32m    886\u001b[39m     )\n\u001b[32m--> \u001b[39m\u001b[32m888\u001b[39m \u001b[38;5;28;01mreturn\u001b[39;00m \u001b[38;5;28;43mself\u001b[39;49m\u001b[43m.\u001b[49m\u001b[43m_post\u001b[49m\u001b[43m(\u001b[49m\n\u001b[32m    889\u001b[39m \u001b[43m    \u001b[49m\u001b[33;43m\"\u001b[39;49m\u001b[33;43m/v1/messages\u001b[39;49m\u001b[33;43m\"\u001b[39;49m\u001b[43m,\u001b[49m\n\u001b[32m    890\u001b[39m \u001b[43m    \u001b[49m\u001b[43mbody\u001b[49m\u001b[43m=\u001b[49m\u001b[43mmaybe_transform\u001b[49m\u001b[43m(\u001b[49m\n\u001b[32m    891\u001b[39m \u001b[43m        \u001b[49m\u001b[43m{\u001b[49m\n\u001b[32m    892\u001b[39m \u001b[43m            \u001b[49m\u001b[33;43m\"\u001b[39;49m\u001b[33;43mmax_tokens\u001b[39;49m\u001b[33;43m\"\u001b[39;49m\u001b[43m:\u001b[49m\u001b[43m \u001b[49m\u001b[43mmax_tokens\u001b[49m\u001b[43m,\u001b[49m\n\u001b[32m    893\u001b[39m \u001b[43m            \u001b[49m\u001b[33;43m\"\u001b[39;49m\u001b[33;43mmessages\u001b[39;49m\u001b[33;43m\"\u001b[39;49m\u001b[43m:\u001b[49m\u001b[43m \u001b[49m\u001b[43mmessages\u001b[49m\u001b[43m,\u001b[49m\n\u001b[32m    894\u001b[39m \u001b[43m            \u001b[49m\u001b[33;43m\"\u001b[39;49m\u001b[33;43mmodel\u001b[39;49m\u001b[33;43m\"\u001b[39;49m\u001b[43m:\u001b[49m\u001b[43m \u001b[49m\u001b[43mmodel\u001b[49m\u001b[43m,\u001b[49m\n\u001b[32m    895\u001b[39m \u001b[43m            \u001b[49m\u001b[33;43m\"\u001b[39;49m\u001b[33;43mmetadata\u001b[39;49m\u001b[33;43m\"\u001b[39;49m\u001b[43m:\u001b[49m\u001b[43m \u001b[49m\u001b[43mmetadata\u001b[49m\u001b[43m,\u001b[49m\n\u001b[32m    896\u001b[39m \u001b[43m            \u001b[49m\u001b[33;43m\"\u001b[39;49m\u001b[33;43mstop_sequences\u001b[39;49m\u001b[33;43m\"\u001b[39;49m\u001b[43m:\u001b[49m\u001b[43m \u001b[49m\u001b[43mstop_sequences\u001b[49m\u001b[43m,\u001b[49m\n\u001b[32m    897\u001b[39m \u001b[43m            \u001b[49m\u001b[33;43m\"\u001b[39;49m\u001b[33;43mstream\u001b[39;49m\u001b[33;43m\"\u001b[39;49m\u001b[43m:\u001b[49m\u001b[43m \u001b[49m\u001b[43mstream\u001b[49m\u001b[43m,\u001b[49m\n\u001b[32m    898\u001b[39m \u001b[43m            \u001b[49m\u001b[33;43m\"\u001b[39;49m\u001b[33;43msystem\u001b[39;49m\u001b[33;43m\"\u001b[39;49m\u001b[43m:\u001b[49m\u001b[43m \u001b[49m\u001b[43msystem\u001b[49m\u001b[43m,\u001b[49m\n\u001b[32m    899\u001b[39m \u001b[43m            \u001b[49m\u001b[33;43m\"\u001b[39;49m\u001b[33;43mtemperature\u001b[39;49m\u001b[33;43m\"\u001b[39;49m\u001b[43m:\u001b[49m\u001b[43m \u001b[49m\u001b[43mtemperature\u001b[49m\u001b[43m,\u001b[49m\n\u001b[32m    900\u001b[39m \u001b[43m            \u001b[49m\u001b[33;43m\"\u001b[39;49m\u001b[33;43mtool_choice\u001b[39;49m\u001b[33;43m\"\u001b[39;49m\u001b[43m:\u001b[49m\u001b[43m \u001b[49m\u001b[43mtool_choice\u001b[49m\u001b[43m,\u001b[49m\n\u001b[32m    901\u001b[39m \u001b[43m            \u001b[49m\u001b[33;43m\"\u001b[39;49m\u001b[33;43mtools\u001b[39;49m\u001b[33;43m\"\u001b[39;49m\u001b[43m:\u001b[49m\u001b[43m \u001b[49m\u001b[43mtools\u001b[49m\u001b[43m,\u001b[49m\n\u001b[32m    902\u001b[39m \u001b[43m            \u001b[49m\u001b[33;43m\"\u001b[39;49m\u001b[33;43mtop_k\u001b[39;49m\u001b[33;43m\"\u001b[39;49m\u001b[43m:\u001b[49m\u001b[43m \u001b[49m\u001b[43mtop_k\u001b[49m\u001b[43m,\u001b[49m\n\u001b[32m    903\u001b[39m \u001b[43m            \u001b[49m\u001b[33;43m\"\u001b[39;49m\u001b[33;43mtop_p\u001b[39;49m\u001b[33;43m\"\u001b[39;49m\u001b[43m:\u001b[49m\u001b[43m \u001b[49m\u001b[43mtop_p\u001b[49m\u001b[43m,\u001b[49m\n\u001b[32m    904\u001b[39m \u001b[43m        \u001b[49m\u001b[43m}\u001b[49m\u001b[43m,\u001b[49m\n\u001b[32m    905\u001b[39m \u001b[43m        \u001b[49m\u001b[43mmessage_create_params\u001b[49m\u001b[43m.\u001b[49m\u001b[43mMessageCreateParams\u001b[49m\u001b[43m,\u001b[49m\n\u001b[32m    906\u001b[39m \u001b[43m    \u001b[49m\u001b[43m)\u001b[49m\u001b[43m,\u001b[49m\n\u001b[32m    907\u001b[39m \u001b[43m    \u001b[49m\u001b[43moptions\u001b[49m\u001b[43m=\u001b[49m\u001b[43mmake_request_options\u001b[49m\u001b[43m(\u001b[49m\n\u001b[32m    908\u001b[39m \u001b[43m        \u001b[49m\u001b[43mextra_headers\u001b[49m\u001b[43m=\u001b[49m\u001b[43mextra_headers\u001b[49m\u001b[43m,\u001b[49m\u001b[43m \u001b[49m\u001b[43mextra_query\u001b[49m\u001b[43m=\u001b[49m\u001b[43mextra_query\u001b[49m\u001b[43m,\u001b[49m\u001b[43m \u001b[49m\u001b[43mextra_body\u001b[49m\u001b[43m=\u001b[49m\u001b[43mextra_body\u001b[49m\u001b[43m,\u001b[49m\u001b[43m \u001b[49m\u001b[43mtimeout\u001b[49m\u001b[43m=\u001b[49m\u001b[43mtimeout\u001b[49m\n\u001b[32m    909\u001b[39m \u001b[43m    \u001b[49m\u001b[43m)\u001b[49m\u001b[43m,\u001b[49m\n\u001b[32m    910\u001b[39m \u001b[43m    \u001b[49m\u001b[43mcast_to\u001b[49m\u001b[43m=\u001b[49m\u001b[43mMessage\u001b[49m\u001b[43m,\u001b[49m\n\u001b[32m    911\u001b[39m \u001b[43m    \u001b[49m\u001b[43mstream\u001b[49m\u001b[43m=\u001b[49m\u001b[43mstream\u001b[49m\u001b[43m \u001b[49m\u001b[38;5;129;43;01mor\u001b[39;49;00m\u001b[43m \u001b[49m\u001b[38;5;28;43;01mFalse\u001b[39;49;00m\u001b[43m,\u001b[49m\n\u001b[32m    912\u001b[39m \u001b[43m    \u001b[49m\u001b[43mstream_cls\u001b[49m\u001b[43m=\u001b[49m\u001b[43mStream\u001b[49m\u001b[43m[\u001b[49m\u001b[43mRawMessageStreamEvent\u001b[49m\u001b[43m]\u001b[49m\u001b[43m,\u001b[49m\n\u001b[32m    913\u001b[39m \u001b[43m\u001b[49m\u001b[43m)\u001b[49m\n",
      "\u001b[36mFile \u001b[39m\u001b[32m~/Documents/onclaive/onclaive/.venv/lib/python3.12/site-packages/anthropic/_base_client.py:1277\u001b[39m, in \u001b[36mSyncAPIClient.post\u001b[39m\u001b[34m(self, path, cast_to, body, options, files, stream, stream_cls)\u001b[39m\n\u001b[32m   1263\u001b[39m \u001b[38;5;28;01mdef\u001b[39;00m\u001b[38;5;250m \u001b[39m\u001b[34mpost\u001b[39m(\n\u001b[32m   1264\u001b[39m     \u001b[38;5;28mself\u001b[39m,\n\u001b[32m   1265\u001b[39m     path: \u001b[38;5;28mstr\u001b[39m,\n\u001b[32m   (...)\u001b[39m\u001b[32m   1272\u001b[39m     stream_cls: \u001b[38;5;28mtype\u001b[39m[_StreamT] | \u001b[38;5;28;01mNone\u001b[39;00m = \u001b[38;5;28;01mNone\u001b[39;00m,\n\u001b[32m   1273\u001b[39m ) -> ResponseT | _StreamT:\n\u001b[32m   1274\u001b[39m     opts = FinalRequestOptions.construct(\n\u001b[32m   1275\u001b[39m         method=\u001b[33m\"\u001b[39m\u001b[33mpost\u001b[39m\u001b[33m\"\u001b[39m, url=path, json_data=body, files=to_httpx_files(files), **options\n\u001b[32m   1276\u001b[39m     )\n\u001b[32m-> \u001b[39m\u001b[32m1277\u001b[39m     \u001b[38;5;28;01mreturn\u001b[39;00m cast(ResponseT, \u001b[38;5;28;43mself\u001b[39;49m\u001b[43m.\u001b[49m\u001b[43mrequest\u001b[49m\u001b[43m(\u001b[49m\u001b[43mcast_to\u001b[49m\u001b[43m,\u001b[49m\u001b[43m \u001b[49m\u001b[43mopts\u001b[49m\u001b[43m,\u001b[49m\u001b[43m \u001b[49m\u001b[43mstream\u001b[49m\u001b[43m=\u001b[49m\u001b[43mstream\u001b[49m\u001b[43m,\u001b[49m\u001b[43m \u001b[49m\u001b[43mstream_cls\u001b[49m\u001b[43m=\u001b[49m\u001b[43mstream_cls\u001b[49m\u001b[43m)\u001b[49m)\n",
      "\u001b[36mFile \u001b[39m\u001b[32m~/Documents/onclaive/onclaive/.venv/lib/python3.12/site-packages/anthropic/_base_client.py:954\u001b[39m, in \u001b[36mSyncAPIClient.request\u001b[39m\u001b[34m(self, cast_to, options, remaining_retries, stream, stream_cls)\u001b[39m\n\u001b[32m    951\u001b[39m \u001b[38;5;28;01melse\u001b[39;00m:\n\u001b[32m    952\u001b[39m     retries_taken = \u001b[32m0\u001b[39m\n\u001b[32m--> \u001b[39m\u001b[32m954\u001b[39m \u001b[38;5;28;01mreturn\u001b[39;00m \u001b[38;5;28;43mself\u001b[39;49m\u001b[43m.\u001b[49m\u001b[43m_request\u001b[49m\u001b[43m(\u001b[49m\n\u001b[32m    955\u001b[39m \u001b[43m    \u001b[49m\u001b[43mcast_to\u001b[49m\u001b[43m=\u001b[49m\u001b[43mcast_to\u001b[49m\u001b[43m,\u001b[49m\n\u001b[32m    956\u001b[39m \u001b[43m    \u001b[49m\u001b[43moptions\u001b[49m\u001b[43m=\u001b[49m\u001b[43moptions\u001b[49m\u001b[43m,\u001b[49m\n\u001b[32m    957\u001b[39m \u001b[43m    \u001b[49m\u001b[43mstream\u001b[49m\u001b[43m=\u001b[49m\u001b[43mstream\u001b[49m\u001b[43m,\u001b[49m\n\u001b[32m    958\u001b[39m \u001b[43m    \u001b[49m\u001b[43mstream_cls\u001b[49m\u001b[43m=\u001b[49m\u001b[43mstream_cls\u001b[49m\u001b[43m,\u001b[49m\n\u001b[32m    959\u001b[39m \u001b[43m    \u001b[49m\u001b[43mretries_taken\u001b[49m\u001b[43m=\u001b[49m\u001b[43mretries_taken\u001b[49m\u001b[43m,\u001b[49m\n\u001b[32m    960\u001b[39m \u001b[43m\u001b[49m\u001b[43m)\u001b[49m\n",
      "\u001b[36mFile \u001b[39m\u001b[32m~/Documents/onclaive/onclaive/.venv/lib/python3.12/site-packages/anthropic/_base_client.py:990\u001b[39m, in \u001b[36mSyncAPIClient._request\u001b[39m\u001b[34m(self, cast_to, options, retries_taken, stream, stream_cls)\u001b[39m\n\u001b[32m    987\u001b[39m log.debug(\u001b[33m\"\u001b[39m\u001b[33mSending HTTP Request: \u001b[39m\u001b[38;5;132;01m%s\u001b[39;00m\u001b[33m \u001b[39m\u001b[38;5;132;01m%s\u001b[39;00m\u001b[33m\"\u001b[39m, request.method, request.url)\n\u001b[32m    989\u001b[39m \u001b[38;5;28;01mtry\u001b[39;00m:\n\u001b[32m--> \u001b[39m\u001b[32m990\u001b[39m     response = \u001b[38;5;28;43mself\u001b[39;49m\u001b[43m.\u001b[49m\u001b[43m_client\u001b[49m\u001b[43m.\u001b[49m\u001b[43msend\u001b[49m\u001b[43m(\u001b[49m\n\u001b[32m    991\u001b[39m \u001b[43m        \u001b[49m\u001b[43mrequest\u001b[49m\u001b[43m,\u001b[49m\n\u001b[32m    992\u001b[39m \u001b[43m        \u001b[49m\u001b[43mstream\u001b[49m\u001b[43m=\u001b[49m\u001b[43mstream\u001b[49m\u001b[43m \u001b[49m\u001b[38;5;129;43;01mor\u001b[39;49;00m\u001b[43m \u001b[49m\u001b[38;5;28;43mself\u001b[39;49m\u001b[43m.\u001b[49m\u001b[43m_should_stream_response_body\u001b[49m\u001b[43m(\u001b[49m\u001b[43mrequest\u001b[49m\u001b[43m=\u001b[49m\u001b[43mrequest\u001b[49m\u001b[43m)\u001b[49m\u001b[43m,\u001b[49m\n\u001b[32m    993\u001b[39m \u001b[43m        \u001b[49m\u001b[43m*\u001b[49m\u001b[43m*\u001b[49m\u001b[43mkwargs\u001b[49m\u001b[43m,\u001b[49m\n\u001b[32m    994\u001b[39m \u001b[43m    \u001b[49m\u001b[43m)\u001b[49m\n\u001b[32m    995\u001b[39m \u001b[38;5;28;01mexcept\u001b[39;00m httpx.TimeoutException \u001b[38;5;28;01mas\u001b[39;00m err:\n\u001b[32m    996\u001b[39m     log.debug(\u001b[33m\"\u001b[39m\u001b[33mEncountered httpx.TimeoutException\u001b[39m\u001b[33m\"\u001b[39m, exc_info=\u001b[38;5;28;01mTrue\u001b[39;00m)\n",
      "\u001b[36mFile \u001b[39m\u001b[32m~/Documents/onclaive/onclaive/.venv/lib/python3.12/site-packages/httpx/_client.py:926\u001b[39m, in \u001b[36mClient.send\u001b[39m\u001b[34m(self, request, stream, auth, follow_redirects)\u001b[39m\n\u001b[32m    922\u001b[39m \u001b[38;5;28mself\u001b[39m._set_timeout(request)\n\u001b[32m    924\u001b[39m auth = \u001b[38;5;28mself\u001b[39m._build_request_auth(request, auth)\n\u001b[32m--> \u001b[39m\u001b[32m926\u001b[39m response = \u001b[38;5;28;43mself\u001b[39;49m\u001b[43m.\u001b[49m\u001b[43m_send_handling_auth\u001b[49m\u001b[43m(\u001b[49m\n\u001b[32m    927\u001b[39m \u001b[43m    \u001b[49m\u001b[43mrequest\u001b[49m\u001b[43m,\u001b[49m\n\u001b[32m    928\u001b[39m \u001b[43m    \u001b[49m\u001b[43mauth\u001b[49m\u001b[43m=\u001b[49m\u001b[43mauth\u001b[49m\u001b[43m,\u001b[49m\n\u001b[32m    929\u001b[39m \u001b[43m    \u001b[49m\u001b[43mfollow_redirects\u001b[49m\u001b[43m=\u001b[49m\u001b[43mfollow_redirects\u001b[49m\u001b[43m,\u001b[49m\n\u001b[32m    930\u001b[39m \u001b[43m    \u001b[49m\u001b[43mhistory\u001b[49m\u001b[43m=\u001b[49m\u001b[43m[\u001b[49m\u001b[43m]\u001b[49m\u001b[43m,\u001b[49m\n\u001b[32m    931\u001b[39m \u001b[43m\u001b[49m\u001b[43m)\u001b[49m\n\u001b[32m    932\u001b[39m \u001b[38;5;28;01mtry\u001b[39;00m:\n\u001b[32m    933\u001b[39m     \u001b[38;5;28;01mif\u001b[39;00m \u001b[38;5;129;01mnot\u001b[39;00m stream:\n",
      "\u001b[36mFile \u001b[39m\u001b[32m~/Documents/onclaive/onclaive/.venv/lib/python3.12/site-packages/httpx/_client.py:954\u001b[39m, in \u001b[36mClient._send_handling_auth\u001b[39m\u001b[34m(self, request, auth, follow_redirects, history)\u001b[39m\n\u001b[32m    951\u001b[39m request = \u001b[38;5;28mnext\u001b[39m(auth_flow)\n\u001b[32m    953\u001b[39m \u001b[38;5;28;01mwhile\u001b[39;00m \u001b[38;5;28;01mTrue\u001b[39;00m:\n\u001b[32m--> \u001b[39m\u001b[32m954\u001b[39m     response = \u001b[38;5;28;43mself\u001b[39;49m\u001b[43m.\u001b[49m\u001b[43m_send_handling_redirects\u001b[49m\u001b[43m(\u001b[49m\n\u001b[32m    955\u001b[39m \u001b[43m        \u001b[49m\u001b[43mrequest\u001b[49m\u001b[43m,\u001b[49m\n\u001b[32m    956\u001b[39m \u001b[43m        \u001b[49m\u001b[43mfollow_redirects\u001b[49m\u001b[43m=\u001b[49m\u001b[43mfollow_redirects\u001b[49m\u001b[43m,\u001b[49m\n\u001b[32m    957\u001b[39m \u001b[43m        \u001b[49m\u001b[43mhistory\u001b[49m\u001b[43m=\u001b[49m\u001b[43mhistory\u001b[49m\u001b[43m,\u001b[49m\n\u001b[32m    958\u001b[39m \u001b[43m    \u001b[49m\u001b[43m)\u001b[49m\n\u001b[32m    959\u001b[39m     \u001b[38;5;28;01mtry\u001b[39;00m:\n\u001b[32m    960\u001b[39m         \u001b[38;5;28;01mtry\u001b[39;00m:\n",
      "\u001b[36mFile \u001b[39m\u001b[32m~/Documents/onclaive/onclaive/.venv/lib/python3.12/site-packages/httpx/_client.py:991\u001b[39m, in \u001b[36mClient._send_handling_redirects\u001b[39m\u001b[34m(self, request, follow_redirects, history)\u001b[39m\n\u001b[32m    988\u001b[39m \u001b[38;5;28;01mfor\u001b[39;00m hook \u001b[38;5;129;01min\u001b[39;00m \u001b[38;5;28mself\u001b[39m._event_hooks[\u001b[33m\"\u001b[39m\u001b[33mrequest\u001b[39m\u001b[33m\"\u001b[39m]:\n\u001b[32m    989\u001b[39m     hook(request)\n\u001b[32m--> \u001b[39m\u001b[32m991\u001b[39m response = \u001b[38;5;28;43mself\u001b[39;49m\u001b[43m.\u001b[49m\u001b[43m_send_single_request\u001b[49m\u001b[43m(\u001b[49m\u001b[43mrequest\u001b[49m\u001b[43m)\u001b[49m\n\u001b[32m    992\u001b[39m \u001b[38;5;28;01mtry\u001b[39;00m:\n\u001b[32m    993\u001b[39m     \u001b[38;5;28;01mfor\u001b[39;00m hook \u001b[38;5;129;01min\u001b[39;00m \u001b[38;5;28mself\u001b[39m._event_hooks[\u001b[33m\"\u001b[39m\u001b[33mresponse\u001b[39m\u001b[33m\"\u001b[39m]:\n",
      "\u001b[36mFile \u001b[39m\u001b[32m~/Documents/onclaive/onclaive/.venv/lib/python3.12/site-packages/httpx/_client.py:1027\u001b[39m, in \u001b[36mClient._send_single_request\u001b[39m\u001b[34m(self, request)\u001b[39m\n\u001b[32m   1022\u001b[39m     \u001b[38;5;28;01mraise\u001b[39;00m \u001b[38;5;167;01mRuntimeError\u001b[39;00m(\n\u001b[32m   1023\u001b[39m         \u001b[33m\"\u001b[39m\u001b[33mAttempted to send an async request with a sync Client instance.\u001b[39m\u001b[33m\"\u001b[39m\n\u001b[32m   1024\u001b[39m     )\n\u001b[32m   1026\u001b[39m \u001b[38;5;28;01mwith\u001b[39;00m request_context(request=request):\n\u001b[32m-> \u001b[39m\u001b[32m1027\u001b[39m     response = \u001b[43mtransport\u001b[49m\u001b[43m.\u001b[49m\u001b[43mhandle_request\u001b[49m\u001b[43m(\u001b[49m\u001b[43mrequest\u001b[49m\u001b[43m)\u001b[49m\n\u001b[32m   1029\u001b[39m \u001b[38;5;28;01massert\u001b[39;00m \u001b[38;5;28misinstance\u001b[39m(response.stream, SyncByteStream)\n\u001b[32m   1031\u001b[39m response.request = request\n",
      "\u001b[36mFile \u001b[39m\u001b[32m~/Documents/onclaive/onclaive/.venv/lib/python3.12/site-packages/httpx/_transports/default.py:236\u001b[39m, in \u001b[36mHTTPTransport.handle_request\u001b[39m\u001b[34m(self, request)\u001b[39m\n\u001b[32m    223\u001b[39m req = httpcore.Request(\n\u001b[32m    224\u001b[39m     method=request.method,\n\u001b[32m    225\u001b[39m     url=httpcore.URL(\n\u001b[32m   (...)\u001b[39m\u001b[32m    233\u001b[39m     extensions=request.extensions,\n\u001b[32m    234\u001b[39m )\n\u001b[32m    235\u001b[39m \u001b[38;5;28;01mwith\u001b[39;00m map_httpcore_exceptions():\n\u001b[32m--> \u001b[39m\u001b[32m236\u001b[39m     resp = \u001b[38;5;28;43mself\u001b[39;49m\u001b[43m.\u001b[49m\u001b[43m_pool\u001b[49m\u001b[43m.\u001b[49m\u001b[43mhandle_request\u001b[49m\u001b[43m(\u001b[49m\u001b[43mreq\u001b[49m\u001b[43m)\u001b[49m\n\u001b[32m    238\u001b[39m \u001b[38;5;28;01massert\u001b[39;00m \u001b[38;5;28misinstance\u001b[39m(resp.stream, typing.Iterable)\n\u001b[32m    240\u001b[39m \u001b[38;5;28;01mreturn\u001b[39;00m Response(\n\u001b[32m    241\u001b[39m     status_code=resp.status,\n\u001b[32m    242\u001b[39m     headers=resp.headers,\n\u001b[32m    243\u001b[39m     stream=ResponseStream(resp.stream),\n\u001b[32m    244\u001b[39m     extensions=resp.extensions,\n\u001b[32m    245\u001b[39m )\n",
      "\u001b[36mFile \u001b[39m\u001b[32m~/Documents/onclaive/onclaive/.venv/lib/python3.12/site-packages/httpcore/_sync/connection_pool.py:256\u001b[39m, in \u001b[36mConnectionPool.handle_request\u001b[39m\u001b[34m(self, request)\u001b[39m\n\u001b[32m    253\u001b[39m         closing = \u001b[38;5;28mself\u001b[39m._assign_requests_to_connections()\n\u001b[32m    255\u001b[39m     \u001b[38;5;28mself\u001b[39m._close_connections(closing)\n\u001b[32m--> \u001b[39m\u001b[32m256\u001b[39m     \u001b[38;5;28;01mraise\u001b[39;00m exc \u001b[38;5;28;01mfrom\u001b[39;00m\u001b[38;5;250m \u001b[39m\u001b[38;5;28;01mNone\u001b[39;00m\n\u001b[32m    258\u001b[39m \u001b[38;5;66;03m# Return the response. Note that in this case we still have to manage\u001b[39;00m\n\u001b[32m    259\u001b[39m \u001b[38;5;66;03m# the point at which the response is closed.\u001b[39;00m\n\u001b[32m    260\u001b[39m \u001b[38;5;28;01massert\u001b[39;00m \u001b[38;5;28misinstance\u001b[39m(response.stream, typing.Iterable)\n",
      "\u001b[36mFile \u001b[39m\u001b[32m~/Documents/onclaive/onclaive/.venv/lib/python3.12/site-packages/httpcore/_sync/connection_pool.py:236\u001b[39m, in \u001b[36mConnectionPool.handle_request\u001b[39m\u001b[34m(self, request)\u001b[39m\n\u001b[32m    232\u001b[39m connection = pool_request.wait_for_connection(timeout=timeout)\n\u001b[32m    234\u001b[39m \u001b[38;5;28;01mtry\u001b[39;00m:\n\u001b[32m    235\u001b[39m     \u001b[38;5;66;03m# Send the request on the assigned connection.\u001b[39;00m\n\u001b[32m--> \u001b[39m\u001b[32m236\u001b[39m     response = \u001b[43mconnection\u001b[49m\u001b[43m.\u001b[49m\u001b[43mhandle_request\u001b[49m\u001b[43m(\u001b[49m\n\u001b[32m    237\u001b[39m \u001b[43m        \u001b[49m\u001b[43mpool_request\u001b[49m\u001b[43m.\u001b[49m\u001b[43mrequest\u001b[49m\n\u001b[32m    238\u001b[39m \u001b[43m    \u001b[49m\u001b[43m)\u001b[49m\n\u001b[32m    239\u001b[39m \u001b[38;5;28;01mexcept\u001b[39;00m ConnectionNotAvailable:\n\u001b[32m    240\u001b[39m     \u001b[38;5;66;03m# In some cases a connection may initially be available to\u001b[39;00m\n\u001b[32m    241\u001b[39m     \u001b[38;5;66;03m# handle a request, but then become unavailable.\u001b[39;00m\n\u001b[32m    242\u001b[39m     \u001b[38;5;66;03m#\u001b[39;00m\n\u001b[32m    243\u001b[39m     \u001b[38;5;66;03m# In this case we clear the connection and try again.\u001b[39;00m\n\u001b[32m    244\u001b[39m     pool_request.clear_connection()\n",
      "\u001b[36mFile \u001b[39m\u001b[32m~/Documents/onclaive/onclaive/.venv/lib/python3.12/site-packages/httpcore/_sync/connection.py:103\u001b[39m, in \u001b[36mHTTPConnection.handle_request\u001b[39m\u001b[34m(self, request)\u001b[39m\n\u001b[32m    100\u001b[39m     \u001b[38;5;28mself\u001b[39m._connect_failed = \u001b[38;5;28;01mTrue\u001b[39;00m\n\u001b[32m    101\u001b[39m     \u001b[38;5;28;01mraise\u001b[39;00m exc\n\u001b[32m--> \u001b[39m\u001b[32m103\u001b[39m \u001b[38;5;28;01mreturn\u001b[39;00m \u001b[38;5;28;43mself\u001b[39;49m\u001b[43m.\u001b[49m\u001b[43m_connection\u001b[49m\u001b[43m.\u001b[49m\u001b[43mhandle_request\u001b[49m\u001b[43m(\u001b[49m\u001b[43mrequest\u001b[49m\u001b[43m)\u001b[49m\n",
      "\u001b[36mFile \u001b[39m\u001b[32m~/Documents/onclaive/onclaive/.venv/lib/python3.12/site-packages/httpcore/_sync/http11.py:136\u001b[39m, in \u001b[36mHTTP11Connection.handle_request\u001b[39m\u001b[34m(self, request)\u001b[39m\n\u001b[32m    134\u001b[39m     \u001b[38;5;28;01mwith\u001b[39;00m Trace(\u001b[33m\"\u001b[39m\u001b[33mresponse_closed\u001b[39m\u001b[33m\"\u001b[39m, logger, request) \u001b[38;5;28;01mas\u001b[39;00m trace:\n\u001b[32m    135\u001b[39m         \u001b[38;5;28mself\u001b[39m._response_closed()\n\u001b[32m--> \u001b[39m\u001b[32m136\u001b[39m \u001b[38;5;28;01mraise\u001b[39;00m exc\n",
      "\u001b[36mFile \u001b[39m\u001b[32m~/Documents/onclaive/onclaive/.venv/lib/python3.12/site-packages/httpcore/_sync/http11.py:106\u001b[39m, in \u001b[36mHTTP11Connection.handle_request\u001b[39m\u001b[34m(self, request)\u001b[39m\n\u001b[32m     95\u001b[39m     \u001b[38;5;28;01mpass\u001b[39;00m\n\u001b[32m     97\u001b[39m \u001b[38;5;28;01mwith\u001b[39;00m Trace(\n\u001b[32m     98\u001b[39m     \u001b[33m\"\u001b[39m\u001b[33mreceive_response_headers\u001b[39m\u001b[33m\"\u001b[39m, logger, request, kwargs\n\u001b[32m     99\u001b[39m ) \u001b[38;5;28;01mas\u001b[39;00m trace:\n\u001b[32m    100\u001b[39m     (\n\u001b[32m    101\u001b[39m         http_version,\n\u001b[32m    102\u001b[39m         status,\n\u001b[32m    103\u001b[39m         reason_phrase,\n\u001b[32m    104\u001b[39m         headers,\n\u001b[32m    105\u001b[39m         trailing_data,\n\u001b[32m--> \u001b[39m\u001b[32m106\u001b[39m     ) = \u001b[38;5;28;43mself\u001b[39;49m\u001b[43m.\u001b[49m\u001b[43m_receive_response_headers\u001b[49m\u001b[43m(\u001b[49m\u001b[43m*\u001b[49m\u001b[43m*\u001b[49m\u001b[43mkwargs\u001b[49m\u001b[43m)\u001b[49m\n\u001b[32m    107\u001b[39m     trace.return_value = (\n\u001b[32m    108\u001b[39m         http_version,\n\u001b[32m    109\u001b[39m         status,\n\u001b[32m    110\u001b[39m         reason_phrase,\n\u001b[32m    111\u001b[39m         headers,\n\u001b[32m    112\u001b[39m     )\n\u001b[32m    114\u001b[39m network_stream = \u001b[38;5;28mself\u001b[39m._network_stream\n",
      "\u001b[36mFile \u001b[39m\u001b[32m~/Documents/onclaive/onclaive/.venv/lib/python3.12/site-packages/httpcore/_sync/http11.py:177\u001b[39m, in \u001b[36mHTTP11Connection._receive_response_headers\u001b[39m\u001b[34m(self, request)\u001b[39m\n\u001b[32m    174\u001b[39m timeout = timeouts.get(\u001b[33m\"\u001b[39m\u001b[33mread\u001b[39m\u001b[33m\"\u001b[39m, \u001b[38;5;28;01mNone\u001b[39;00m)\n\u001b[32m    176\u001b[39m \u001b[38;5;28;01mwhile\u001b[39;00m \u001b[38;5;28;01mTrue\u001b[39;00m:\n\u001b[32m--> \u001b[39m\u001b[32m177\u001b[39m     event = \u001b[38;5;28;43mself\u001b[39;49m\u001b[43m.\u001b[49m\u001b[43m_receive_event\u001b[49m\u001b[43m(\u001b[49m\u001b[43mtimeout\u001b[49m\u001b[43m=\u001b[49m\u001b[43mtimeout\u001b[49m\u001b[43m)\u001b[49m\n\u001b[32m    178\u001b[39m     \u001b[38;5;28;01mif\u001b[39;00m \u001b[38;5;28misinstance\u001b[39m(event, h11.Response):\n\u001b[32m    179\u001b[39m         \u001b[38;5;28;01mbreak\u001b[39;00m\n",
      "\u001b[36mFile \u001b[39m\u001b[32m~/Documents/onclaive/onclaive/.venv/lib/python3.12/site-packages/httpcore/_sync/http11.py:217\u001b[39m, in \u001b[36mHTTP11Connection._receive_event\u001b[39m\u001b[34m(self, timeout)\u001b[39m\n\u001b[32m    214\u001b[39m     event = \u001b[38;5;28mself\u001b[39m._h11_state.next_event()\n\u001b[32m    216\u001b[39m \u001b[38;5;28;01mif\u001b[39;00m event \u001b[38;5;129;01mis\u001b[39;00m h11.NEED_DATA:\n\u001b[32m--> \u001b[39m\u001b[32m217\u001b[39m     data = \u001b[38;5;28;43mself\u001b[39;49m\u001b[43m.\u001b[49m\u001b[43m_network_stream\u001b[49m\u001b[43m.\u001b[49m\u001b[43mread\u001b[49m\u001b[43m(\u001b[49m\n\u001b[32m    218\u001b[39m \u001b[43m        \u001b[49m\u001b[38;5;28;43mself\u001b[39;49m\u001b[43m.\u001b[49m\u001b[43mREAD_NUM_BYTES\u001b[49m\u001b[43m,\u001b[49m\u001b[43m \u001b[49m\u001b[43mtimeout\u001b[49m\u001b[43m=\u001b[49m\u001b[43mtimeout\u001b[49m\n\u001b[32m    219\u001b[39m \u001b[43m    \u001b[49m\u001b[43m)\u001b[49m\n\u001b[32m    221\u001b[39m     \u001b[38;5;66;03m# If we feed this case through h11 we'll raise an exception like:\u001b[39;00m\n\u001b[32m    222\u001b[39m     \u001b[38;5;66;03m#\u001b[39;00m\n\u001b[32m    223\u001b[39m     \u001b[38;5;66;03m#     httpcore.RemoteProtocolError: can't handle event type\u001b[39;00m\n\u001b[32m   (...)\u001b[39m\u001b[32m    227\u001b[39m     \u001b[38;5;66;03m# perspective. Instead we handle this case distinctly and treat\u001b[39;00m\n\u001b[32m    228\u001b[39m     \u001b[38;5;66;03m# it as a ConnectError.\u001b[39;00m\n\u001b[32m    229\u001b[39m     \u001b[38;5;28;01mif\u001b[39;00m data == \u001b[33mb\u001b[39m\u001b[33m\"\u001b[39m\u001b[33m\"\u001b[39m \u001b[38;5;129;01mand\u001b[39;00m \u001b[38;5;28mself\u001b[39m._h11_state.their_state == h11.SEND_RESPONSE:\n",
      "\u001b[36mFile \u001b[39m\u001b[32m~/Documents/onclaive/onclaive/.venv/lib/python3.12/site-packages/httpcore/_backends/sync.py:128\u001b[39m, in \u001b[36mSyncStream.read\u001b[39m\u001b[34m(self, max_bytes, timeout)\u001b[39m\n\u001b[32m    126\u001b[39m \u001b[38;5;28;01mwith\u001b[39;00m map_exceptions(exc_map):\n\u001b[32m    127\u001b[39m     \u001b[38;5;28mself\u001b[39m._sock.settimeout(timeout)\n\u001b[32m--> \u001b[39m\u001b[32m128\u001b[39m     \u001b[38;5;28;01mreturn\u001b[39;00m \u001b[38;5;28;43mself\u001b[39;49m\u001b[43m.\u001b[49m\u001b[43m_sock\u001b[49m\u001b[43m.\u001b[49m\u001b[43mrecv\u001b[49m\u001b[43m(\u001b[49m\u001b[43mmax_bytes\u001b[49m\u001b[43m)\u001b[49m\n",
      "\u001b[36mFile \u001b[39m\u001b[32m/opt/homebrew/Cellar/python@3.12/3.12.6/Frameworks/Python.framework/Versions/3.12/lib/python3.12/ssl.py:1232\u001b[39m, in \u001b[36mSSLSocket.recv\u001b[39m\u001b[34m(self, buflen, flags)\u001b[39m\n\u001b[32m   1228\u001b[39m     \u001b[38;5;28;01mif\u001b[39;00m flags != \u001b[32m0\u001b[39m:\n\u001b[32m   1229\u001b[39m         \u001b[38;5;28;01mraise\u001b[39;00m \u001b[38;5;167;01mValueError\u001b[39;00m(\n\u001b[32m   1230\u001b[39m             \u001b[33m\"\u001b[39m\u001b[33mnon-zero flags not allowed in calls to recv() on \u001b[39m\u001b[38;5;132;01m%s\u001b[39;00m\u001b[33m\"\u001b[39m %\n\u001b[32m   1231\u001b[39m             \u001b[38;5;28mself\u001b[39m.\u001b[34m__class__\u001b[39m)\n\u001b[32m-> \u001b[39m\u001b[32m1232\u001b[39m     \u001b[38;5;28;01mreturn\u001b[39;00m \u001b[38;5;28;43mself\u001b[39;49m\u001b[43m.\u001b[49m\u001b[43mread\u001b[49m\u001b[43m(\u001b[49m\u001b[43mbuflen\u001b[49m\u001b[43m)\u001b[49m\n\u001b[32m   1233\u001b[39m \u001b[38;5;28;01melse\u001b[39;00m:\n\u001b[32m   1234\u001b[39m     \u001b[38;5;28;01mreturn\u001b[39;00m \u001b[38;5;28msuper\u001b[39m().recv(buflen, flags)\n",
      "\u001b[36mFile \u001b[39m\u001b[32m/opt/homebrew/Cellar/python@3.12/3.12.6/Frameworks/Python.framework/Versions/3.12/lib/python3.12/ssl.py:1105\u001b[39m, in \u001b[36mSSLSocket.read\u001b[39m\u001b[34m(self, len, buffer)\u001b[39m\n\u001b[32m   1103\u001b[39m         \u001b[38;5;28;01mreturn\u001b[39;00m \u001b[38;5;28mself\u001b[39m._sslobj.read(\u001b[38;5;28mlen\u001b[39m, buffer)\n\u001b[32m   1104\u001b[39m     \u001b[38;5;28;01melse\u001b[39;00m:\n\u001b[32m-> \u001b[39m\u001b[32m1105\u001b[39m         \u001b[38;5;28;01mreturn\u001b[39;00m \u001b[38;5;28;43mself\u001b[39;49m\u001b[43m.\u001b[49m\u001b[43m_sslobj\u001b[49m\u001b[43m.\u001b[49m\u001b[43mread\u001b[49m\u001b[43m(\u001b[49m\u001b[38;5;28;43mlen\u001b[39;49m\u001b[43m)\u001b[49m\n\u001b[32m   1106\u001b[39m \u001b[38;5;28;01mexcept\u001b[39;00m SSLError \u001b[38;5;28;01mas\u001b[39;00m x:\n\u001b[32m   1107\u001b[39m     \u001b[38;5;28;01mif\u001b[39;00m x.args[\u001b[32m0\u001b[39m] == SSL_ERROR_EOF \u001b[38;5;129;01mand\u001b[39;00m \u001b[38;5;28mself\u001b[39m.suppress_ragged_eofs:\n",
      "\u001b[31mKeyboardInterrupt\u001b[39m: "
     ]
    }
   ],
   "source": [
    "import plan_to_tests\n",
    "import importlib\n",
    "importlib.reload(plan_to_tests)\n",
    "\n",
    "plan_to_tests.generate_inferno_test_kit(\n",
    "    llm_clients,\n",
    "    'claude',\n",
    "    'checkpoints/testplan_generation/claude_test_plan_20250730_140520.md',\n",
    "    #'../test_kit_dev/inferno-guidance.md',\n",
    "    output_dir='checkpoints/testkit_generation',\n",
    "    expected_actors=[\"Health Plan API Actor\", \"Application Actor\"]\n",
    ")"
   ]
  },
  {
   "cell_type": "code",
   "execution_count": null,
   "id": "bdf7dc24",
   "metadata": {},
   "outputs": [],
   "source": []
  }
 ],
 "metadata": {
  "kernelspec": {
   "display_name": ".venv (3.12.6)",
   "language": "python",
   "name": "python3"
  },
  "language_info": {
   "codemirror_mode": {
    "name": "ipython",
    "version": 3
   },
   "file_extension": ".py",
   "mimetype": "text/x-python",
   "name": "python",
   "nbconvert_exporter": "python",
   "pygments_lexer": "ipython3",
   "version": "3.12.6"
  }
 },
 "nbformat": 4,
 "nbformat_minor": 5
}
