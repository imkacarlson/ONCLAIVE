{
 "cells": [
  {
   "cell_type": "markdown",
   "id": "73e3a524",
   "metadata": {},
   "source": [
    "# FHIR Implementation Guide Testing Pipeline\n",
    "This notebook provides a comprehensive pipeline for automatically extracting requirements from FHIR Implementation Guides and generating executable test suites. The pipeline transforms Implementation Guide (IG) documentation into structured test code that can validate FHIR server implementations.\n",
    "\n",
    "## Overview\n",
    "This automated pipeline takes FHIR Implementation Guide documentation and produces comprehensive test suites through several integrated stages:\n",
    "\n",
    "- Implementation Guide Preparation: Convert and clean IG HTML documentation to markdown format\n",
    "- Requirements Extraction: Use AI to identify and extract testable requirements from the IG\n",
    "- Requirements Refinement: Consolidate and refine the extracted requirements\n",
    "- Requirements Downselection: Combine multiple requirement sets and remove duplicates\n",
    "- Test Plan Generation: Convert requirements into detailed test specifications\n",
    "- Test Kit Generation: Generate executable Inferno test code\n",
    "\n",
    "## Running this Notebook\n",
    "The notebook is structured to run each stage sequentially. You can either:\n",
    "\n",
    "- Run the complete pipeline: Execute all cells to process a complete IG\n",
    "- Run individual stages: Execute specific sections as needed\n",
    "\n",
    "Each stage will prompt you for inputs or use sensible defaults. The pipeline automatically saves intermediate outputs in checkpoint directories for review and iteration.\n",
    "\n",
    "### Pipeline Stages\n",
    "#### Stage 1: Implementation Guide Preparation\n",
    "Text Extraction and Cleaning\n",
    "- Converts HTML IG files to markdown format using Markdownify\n",
    "- Cleans unnecessary content (navigation, headers, formatting artifacts)\n",
    "- Prepares clean, structured text for AI processing\n",
    "Inputs: HTML files from FHIR IG downloads\n",
    "Outputs: Clean markdown files in checkpoints/text_extraction/ and checkpoints/post_processing/\n",
    "\n",
    "#### Stage 2: Requirements Extraction\n",
    "AI-Powered Requirements Identification\n",
    "- Processes markdown files using AI to extract clear, testable requirements\n",
    "- Formats requirements according to INCOSE Systems Engineering standards\n",
    "- Generates structured requirements with IDs, descriptions, actors, and conformance levels\n",
    "- Handles large documents through intelligent chunking\n",
    "- Provides proper attribution and source tracking\n",
    "Inputs: Cleaned markdown files\n",
    "Outputs: Structured requirements list in checkpoints/requirements_extraction/ in markdown file\n",
    "\n",
    "#### Stage 3: Requirements Refinement\n",
    "AI-Based Requirements Consolidation\n",
    "- Filters and identifies only testable requirements from raw extractions\n",
    "- Consolidates duplicate requirements and merges related ones\n",
    "- Applies consistent formatting and structure\n",
    "- Removes non-testable assertions and narrative content\n",
    "Inputs: Raw requirements from extraction stage in markdown file\n",
    "Outputs: Refined requirements list in checkpoints/revised_reqs_extraction/\n",
    "\n",
    "#### Stage 4: Requirements Downselection\n",
    "Multi-Source Requirements Integration\n",
    "- Combines multiple requirements lists from different extraction runs\n",
    "- Uses semantic similarity analysis to identify and remove duplicates\n",
    "- Creates a comprehensive, deduplicated final requirements set\n",
    "- Provides statistical analysis of the consolidation process\n",
    "Inputs: Multiple refined requirements files in markdown or JSON format\n",
    "Outputs: Final consolidated requirements in checkpoints/requirements_downselect/ in markdown file\n",
    "\n",
    "#### Stage 5: Test Plan Generation\n",
    "Comprehensive Test Specification Development\n",
    "- Transforms requirements into detailed test specifications\n",
    "- Analyzes IG capability statements for context\n",
    "- Generates implementation strategies with specific FHIR operations\n",
    "- Creates structured test plans with validation criteria\n",
    "Inputs: Refined requirements and IG capability statements in markdown format\n",
    "Outputs: Detailed test plan in checkpoints/testplan_generation/ in markdown file\n",
    "\n",
    "#### Stage 6: Test Kit Generation\n",
    "Executable Test Code Creation\n",
    "- Converts test specifications into executable Inferno Ruby tests\n",
    "- Generates complete test suites with proper file organization\n",
    "- Creates modular test structures following Inferno framework patterns\n",
    "- Includes validation and alignment checking\n",
    "Inputs: Test plan specification in markdown format\n",
    "Outputs: Complete Inferno test kit in checkpoints/testkit_generation/\n",
    "\n",
    "### Output Structure\n",
    "The pipeline generates organized outputs in checkpoint directories:\n",
    "checkpoints/\n",
    "├── text_extraction/          # Converted markdown files\n",
    "├── post_processing/          # Cleaned markdown files  \n",
    "├── requirements_extraction/   # Initial AI-extracted requirements\n",
    "├── revised_reqs_extraction/  # Refined requirements lists\n",
    "├── requirements_downselect/  # Final consolidated requirements\n",
    "├── testplan_generation/     # Detailed test specifications\n",
    "└── testkit_generation/      # Executable Inferno test suites\n",
    "Each stage preserves its outputs, allowing for iteration, review, and alternative processing paths."
   ]
  },
  {
   "cell_type": "markdown",
   "id": "8a5d267b",
   "metadata": {},
   "source": [
    "## Setup"
   ]
  },
  {
   "cell_type": "markdown",
   "id": "9de19ee6",
   "metadata": {},
   "source": [
    "#### Importing Notebooks as Modules (from the [Jupyter Notebook Documentation](https://jupyter-notebook.readthedocs.io/en/4.x/examples/Notebook/rstversions/Importing%20Notebooks.html))"
   ]
  },
  {
   "cell_type": "code",
   "execution_count": 1,
   "id": "d9fc5ddc",
   "metadata": {},
   "outputs": [],
   "source": [
    "import inspect\n",
    "import json\n",
    "import llm_utils\n",
    "import importlib\n",
    "import tiktoken\n",
    "import requests\n",
    "from bs4 import BeautifulSoup\n",
    "from urllib.parse import urlparse\n",
    "from glob import glob"
   ]
  },
  {
   "cell_type": "markdown",
   "id": "0de7a6cc",
   "metadata": {},
   "source": [
    "## Initializing LLM Clients"
   ]
  },
  {
   "cell_type": "code",
   "execution_count": 2,
   "id": "3ead91a2",
   "metadata": {},
   "outputs": [],
   "source": [
    "importlib.reload(llm_utils)\n",
    "llm_clients = llm_utils.LLMApiClient()"
   ]
  },
  {
   "cell_type": "code",
   "execution_count": 3,
   "id": "c39d130b",
   "metadata": {},
   "outputs": [
    {
     "data": {
      "text/plain": [
       "{'claude': <anthropic.Anthropic at 0x105ee6b10>,\n",
       " 'gemini': genai.GenerativeModel(\n",
       "     model_name='models/gemini-2.5-pro',\n",
       "     generation_config={'max_output_tokens': 8192, 'temperature': 0.3},\n",
       "     safety_settings={<HarmCategory.HARM_CATEGORY_HARASSMENT: 7>: <HarmBlockThreshold.BLOCK_NONE: 4>, <HarmCategory.HARM_CATEGORY_HATE_SPEECH: 8>: <HarmBlockThreshold.BLOCK_NONE: 4>, <HarmCategory.HARM_CATEGORY_SEXUALLY_EXPLICIT: 9>: <HarmBlockThreshold.BLOCK_NONE: 4>, <HarmCategory.HARM_CATEGORY_DANGEROUS_CONTENT: 10>: <HarmBlockThreshold.BLOCK_NONE: 4>},\n",
       "     tools=None,\n",
       "     system_instruction=None,\n",
       "     cached_content=None\n",
       " ),\n",
       " 'gpt': <openai.OpenAI at 0x111d4fc80>}"
      ]
     },
     "execution_count": 3,
     "metadata": {},
     "output_type": "execute_result"
    }
   ],
   "source": [
    "llm_clients.clients"
   ]
  },
  {
   "cell_type": "markdown",
   "id": "8e6d80d1",
   "metadata": {},
   "source": [
    "## Text Extraction"
   ]
  },
  {
   "cell_type": "markdown",
   "id": "08717e1c",
   "metadata": {},
   "source": [
    "### HTML to Markdown Conversion"
   ]
  },
  {
   "cell_type": "code",
   "execution_count": 5,
   "id": "61ff8f8d",
   "metadata": {},
   "outputs": [
    {
     "name": "stdout",
     "output_type": "stream",
     "text": [
      "Found 1 HTML files to process\n",
      "Processed 1/1 files\n",
      "Conversion complete. Successfully processed 1 files. Encountered 0 errors.\n"
     ]
    }
   ],
   "source": [
    "import html_narrative_extractor #import html extractor module\n",
    "\n",
    "# Process directory with default settings\n",
    "result = html_narrative_extractor.convert_local_html_to_markdown(\n",
    "    \"../us-core/test_set\", #input directory\n",
    "    \"checkpoints/markdown1_test/\" #output directory\n",
    ")"
   ]
  },
  {
   "cell_type": "markdown",
   "id": "b0108ece",
   "metadata": {},
   "source": [
    "### Markdown Post-processing"
   ]
  },
  {
   "cell_type": "code",
   "execution_count": 6,
   "id": "aec7806b",
   "metadata": {},
   "outputs": [
    {
     "name": "stdout",
     "output_type": "stream",
     "text": [
      "Found 1 markdown files in checkpoints/markdown1_test\n",
      "Cleaned and saved: checkpoints/markdown2_test/CapabilityStatement-us-core-server.md\n",
      "\n",
      "Processing complete: 1 files successfully cleaned, 0 failed\n"
     ]
    }
   ],
   "source": [
    "import markdown_cleaner #import markdown cleaner module\n",
    "markdown_cleaner.process_directory(\"checkpoints/markdown1_test\", #input directory\n",
    "                                   \"checkpoints/markdown2_test/\") #output directory"
   ]
  },
  {
   "cell_type": "markdown",
   "id": "eb3fa2d1",
   "metadata": {},
   "source": [
    "## Requirements Extraction"
   ]
  },
  {
   "cell_type": "markdown",
   "id": "be0566ab",
   "metadata": {},
   "source": [
    "### Prompt-based Requirement Extraction"
   ]
  },
  {
   "cell_type": "code",
   "execution_count": 7,
   "id": "c7fd5bf6",
   "metadata": {},
   "outputs": [
    {
     "name": "stderr",
     "output_type": "stream",
     "text": [
      "INFO:root:Current working directory: /Users/ceadams/Documents/onclaive/onclaive/pipeline\n",
      "INFO:root:Project root: /Users/ceadams/Documents/onclaive/onclaive\n",
      "INFO:root:Prompt environment set up at: /Users/ceadams/Documents/onclaive/onclaive/prompts\n",
      "INFO:root:Using prompts directory: /Users/ceadams/Documents/onclaive/onclaive/prompts\n",
      "INFO:root:Requirements extraction prompt: /Users/ceadams/Documents/onclaive/onclaive/prompts/requirements_extraction.md\n"
     ]
    }
   ],
   "source": [
    "import reqs_extraction #import LLM requirements extraction module"
   ]
  },
  {
   "cell_type": "code",
   "execution_count": 8,
   "id": "31999d1d",
   "metadata": {},
   "outputs": [
    {
     "name": "stderr",
     "output_type": "stream",
     "text": [
      "INFO:root:Found markdown directory at checkpoints/markdown2_test\n",
      "INFO:root:Found 1 markdown files\n",
      "INFO:root:Processing with claude...\n",
      "INFO:root:Starting processing with claude on directory: checkpoints/markdown2_test\n",
      "INFO:root:Found 1 markdown files\n",
      "INFO:root:Organized 1 files into 1 processing groups\n",
      "INFO:root:Processing single file: CapabilityStatement-us-core-server.md\n",
      "INFO:root:Split CapabilityStatement-us-core-server.md into 1 chunks using dynamic sizing\n",
      "INFO:root:Processing chunk 1/1 of CapabilityStatement-us-core-server.md\n"
     ]
    },
    {
     "name": "stdout",
     "output_type": "stream",
     "text": [
      "\n",
      "Processing Implementation Guide with Claude...\n",
      "This may take several minutes depending on the size of the Implementation Guide.\n"
     ]
    },
    {
     "name": "stderr",
     "output_type": "stream",
     "text": [
      "INFO:httpx:HTTP Request: POST https://api.anthropic.com/v1/messages \"HTTP/1.1 200 OK\"\n",
      "INFO:root:Completed processing 1 files\n",
      "INFO:root:Generated requirements document saved to checkpoints/requirements_extraction/us-core/claude_reqs_list_v1_20250826_084443.md\n"
     ]
    },
    {
     "name": "stdout",
     "output_type": "stream",
     "text": [
      "\n",
      "================================================================================\n",
      "Processing complete!\n",
      "Generated requirements document: checkpoints/requirements_extraction/us-core/claude_reqs_list_v1_20250826_084443.md\n",
      "Processed 1 files\n",
      "================================================================================\n"
     ]
    }
   ],
   "source": [
    "reqs_extraction.run_requirements_extractor(\n",
    "    'checkpoints/markdown2_test', #input directory\n",
    "    'checkpoints/requirements_extraction/us-core', #output directory\n",
    "    'claude', #LLM API of choice\n",
    "    llm_clients)"
   ]
  },
  {
   "cell_type": "markdown",
   "id": "47056998",
   "metadata": {},
   "source": [
    "## Requirement Refinement with LLM"
   ]
  },
  {
   "cell_type": "code",
   "execution_count": 12,
   "id": "547fa2a7",
   "metadata": {},
   "outputs": [
    {
     "data": {
      "text/plain": [
       "<module 'reqs_reviewer' from '/Users/ceadams/Documents/onclaive/onclaive/pipeline/reqs_reviewer.py'>"
      ]
     },
     "execution_count": 12,
     "metadata": {},
     "output_type": "execute_result"
    }
   ],
   "source": [
    "import reqs_reviewer\n",
    "importlib.reload(reqs_reviewer)"
   ]
  },
  {
   "cell_type": "markdown",
   "id": "10c48b37",
   "metadata": {},
   "source": [
    "### Large Number of Requirements (500+)"
   ]
  },
  {
   "cell_type": "code",
   "execution_count": 13,
   "id": "53363a50",
   "metadata": {},
   "outputs": [
    {
     "name": "stderr",
     "output_type": "stream",
     "text": [
      "INFO:root:Prompt environment set up at: /Users/ceadams/Documents/onclaive/onclaive/prompts\n"
     ]
    },
    {
     "name": "stdout",
     "output_type": "stream",
     "text": [
      "STARTING BATCH PROCESSING\n",
      "==================================================\n",
      "Input: checkpoints/requirements_extraction/us-core/claude_reqs_list_v1_20250826_084443.md\n",
      "Output: checkpoints/revised_reqs_extraction\n",
      "Batch size: 50 requirements\n",
      "API: claude\n",
      "\n",
      "File size: 30,785 characters\n",
      "Splitting requirements...\n",
      "Found 67 total requirements\n",
      "Will process in 2 batches\n",
      "\n",
      "BATCH 1/2\n",
      "   Requirements: 50 (#1-#50)\n",
      "   Size: 23,375 chars (~5,843 tokens)\n"
     ]
    },
    {
     "name": "stderr",
     "output_type": "stream",
     "text": [
      "INFO:httpx:HTTP Request: POST https://api.anthropic.com/v1/messages \"HTTP/1.1 200 OK\"\n"
     ]
    },
    {
     "name": "stdout",
     "output_type": "stream",
     "text": [
      "   Completed in 79.3s\n",
      "   Pausing 2s...\n",
      "   Progress: 1/2 (50.0%)\n",
      "   ETA: 1.4 minutes remaining\n",
      "\n",
      "BATCH 2/2\n",
      "   Requirements: 17 (#51-#67)\n",
      "   Size: 7,408 chars (~1,852 tokens)\n"
     ]
    },
    {
     "name": "stderr",
     "output_type": "stream",
     "text": [
      "INFO:httpx:HTTP Request: POST https://api.anthropic.com/v1/messages \"HTTP/1.1 200 OK\"\n"
     ]
    },
    {
     "name": "stdout",
     "output_type": "stream",
     "text": [
      "   Completed in 16.1s\n",
      "   Progress: 2/2 (100.0%)\n",
      "   ETA: 0.0 minutes remaining\n",
      "\n",
      "COMBINING RESULTS\n",
      "--------------------\n",
      "Merging batch results and renumbering...\n",
      "   Processing batch 1 results...\n",
      "   Processing batch 2 results...\n",
      "   Renumbered 66 requirements\n",
      "BATCH PROCESSING COMPLETE!\n",
      "========================================\n",
      "Output saved: checkpoints/revised_reqs_extraction/claude_refined_requirements_batch_20250826_085149.md\n",
      "Original requirements: 67\n",
      "Final requirements: 66\n",
      "Successful batches: 2/2\n",
      "Failed batches: 0/2\n",
      "Total time: 1.6 minutes\n",
      "Average per batch: 48.7 seconds\n"
     ]
    }
   ],
   "source": [
    "result = reqs_reviewer.run_batch_requirements_refinement(\n",
    "    input_file=\"checkpoints/requirements_extraction/us-core/claude_reqs_list_v1_20250826_084443.md\",\n",
    "    llm_client_instance=llm_clients,\n",
    "    batch_size=50,\n",
    "    api_type=\"claude\"\n",
    ")"
   ]
  },
  {
   "cell_type": "markdown",
   "id": "832ef294",
   "metadata": {},
   "source": [
    "### Small Number of Requirements (<500)"
   ]
  },
  {
   "cell_type": "code",
   "execution_count": 14,
   "id": "687e4667",
   "metadata": {},
   "outputs": [
    {
     "name": "stderr",
     "output_type": "stream",
     "text": [
      "INFO:root:Prompt environment set up at: /Users/ceadams/Documents/onclaive/onclaive/prompts\n",
      "INFO:root:Starting requirements refinement with claude\n",
      "INFO:root:Original requirements count: 67\n",
      "INFO:root:Input size: 30785 characters, ~7696 tokens\n",
      "INFO:root:Sending requirements to claude for refinement...\n",
      "INFO:root:Estimated input tokens: 8307\n",
      "INFO:root:API input limit: 180000\n",
      "INFO:root:API output limit: 8192\n",
      "INFO:httpx:HTTP Request: POST https://api.anthropic.com/v1/messages \"HTTP/1.1 200 OK\"\n",
      "INFO:root:Requirements refinement complete. Output saved to: checkpoints/revised_reqs_extraction/claude_reqs_list_v2_20250826_085415.md\n",
      "INFO:root:Refined 67 -> 66 requirements\n",
      "INFO:root:Output size: 29582 characters, ~7395 tokens\n"
     ]
    },
    {
     "name": "stdout",
     "output_type": "stream",
     "text": [
      "✅ Refined requirements saved to: checkpoints/revised_reqs_extraction/claude_reqs_list_v2_20250826_085415.md\n",
      "📊 67 → 66 requirements\n"
     ]
    }
   ],
   "source": [
    "# Manual refinement with specific file\n",
    "refinement_result = reqs_reviewer.refine_requirements(\n",
    "    input_file=\"checkpoints/requirements_extraction/us-core/claude_reqs_list_v1_20250826_084443.md\",\n",
    "    api_type=\"claude\",\n",
    "    output_dir=\"checkpoints/revised_reqs_extraction\",\n",
    "    llm_client_instance=llm_clients\n",
    ")\n",
    "\n",
    "print(f\"✅ Refined requirements saved to: {refinement_result['output_file']}\")\n",
    "print(f\"📊 {refinement_result['original_requirements_count']} → {refinement_result['requirements_count']} requirements\")\n",
    "\n",
    "if refinement_result.get('warnings'):\n",
    "    print(\"⚠️  Warnings:\")\n",
    "    for warning in refinement_result['warnings']:\n",
    "        print(f\"  - {warning}\")"
   ]
  },
  {
   "cell_type": "markdown",
   "id": "0b2ccc40",
   "metadata": {},
   "source": [
    "## Requirement Downselection\n",
    "#NOTE: right now, output file will overwrite itself- need to update code to change name of output file"
   ]
  },
  {
   "cell_type": "code",
   "execution_count": 19,
   "id": "78226f35",
   "metadata": {},
   "outputs": [
    {
     "name": "stderr",
     "output_type": "stream",
     "text": [
      "/Users/ceadams/Documents/onclaive/onclaive/pipeline/requirement_downselect.py:23: SyntaxWarning: invalid escape sequence '\\*'\n",
      "  headings = list(re.finditer(\"\\*\\*\\w+\\*\\*\\:\", split))\n",
      "INFO:sentence_transformers.SentenceTransformer:Use pytorch device_name: mps\n",
      "INFO:sentence_transformers.SentenceTransformer:Load pretrained SentenceTransformer: all-mpnet-base-v2\n"
     ]
    },
    {
     "data": {
      "application/vnd.jupyter.widget-view+json": {
       "model_id": "e2ce532314f14ec491b7da726da9d635",
       "version_major": 2,
       "version_minor": 0
      },
      "text/plain": [
       "Batches:   0%|          | 0/1 [00:00<?, ?it/s]"
      ]
     },
     "metadata": {},
     "output_type": "display_data"
    },
    {
     "data": {
      "application/vnd.jupyter.widget-view+json": {
       "model_id": "4d76551bc4294a7f8928d3be833a0d7e",
       "version_major": 2,
       "version_minor": 0
      },
      "text/plain": [
       "Batches:   0%|          | 0/1 [00:00<?, ?it/s]"
      ]
     },
     "metadata": {},
     "output_type": "display_data"
    },
    {
     "data": {
      "application/vnd.jupyter.widget-view+json": {
       "model_id": "41d5c7ca067342d7b3acc09725625b63",
       "version_major": 2,
       "version_minor": 0
      },
      "text/plain": [
       "Batches:   0%|          | 0/1 [00:00<?, ?it/s]"
      ]
     },
     "metadata": {},
     "output_type": "display_data"
    },
    {
     "data": {
      "application/vnd.jupyter.widget-view+json": {
       "model_id": "cb682eabacca4287a85a127b2128ee96",
       "version_major": 2,
       "version_minor": 0
      },
      "text/plain": [
       "Batches:   0%|          | 0/1 [00:00<?, ?it/s]"
      ]
     },
     "metadata": {},
     "output_type": "display_data"
    },
    {
     "data": {
      "application/vnd.jupyter.widget-view+json": {
       "model_id": "8fff16ddc3cb4c6f9c957b613975656e",
       "version_major": 2,
       "version_minor": 0
      },
      "text/plain": [
       "Batches:   0%|          | 0/1 [00:00<?, ?it/s]"
      ]
     },
     "metadata": {},
     "output_type": "display_data"
    },
    {
     "data": {
      "application/vnd.jupyter.widget-view+json": {
       "model_id": "333fc849ccae44f38ba27484ba455685",
       "version_major": 2,
       "version_minor": 0
      },
      "text/plain": [
       "Batches:   0%|          | 0/1 [00:00<?, ?it/s]"
      ]
     },
     "metadata": {},
     "output_type": "display_data"
    },
    {
     "data": {
      "application/vnd.jupyter.widget-view+json": {
       "model_id": "53adfa4bffe5438fa3c58c5e92eb4e71",
       "version_major": 2,
       "version_minor": 0
      },
      "text/plain": [
       "Batches:   0%|          | 0/1 [00:00<?, ?it/s]"
      ]
     },
     "metadata": {},
     "output_type": "display_data"
    },
    {
     "data": {
      "application/vnd.jupyter.widget-view+json": {
       "model_id": "d3ef25796900472f990f51d2c7ade224",
       "version_major": 2,
       "version_minor": 0
      },
      "text/plain": [
       "Batches:   0%|          | 0/1 [00:00<?, ?it/s]"
      ]
     },
     "metadata": {},
     "output_type": "display_data"
    },
    {
     "data": {
      "application/vnd.jupyter.widget-view+json": {
       "model_id": "c77b2653876b4655b914eba35f087440",
       "version_major": 2,
       "version_minor": 0
      },
      "text/plain": [
       "Batches:   0%|          | 0/1 [00:00<?, ?it/s]"
      ]
     },
     "metadata": {},
     "output_type": "display_data"
    },
    {
     "data": {
      "application/vnd.jupyter.widget-view+json": {
       "model_id": "5f81002ab1cf49c8a0b2977fb8a5ac59",
       "version_major": 2,
       "version_minor": 0
      },
      "text/plain": [
       "Batches:   0%|          | 0/1 [00:00<?, ?it/s]"
      ]
     },
     "metadata": {},
     "output_type": "display_data"
    },
    {
     "data": {
      "application/vnd.jupyter.widget-view+json": {
       "model_id": "8d7b8d8a7022447dac62503c708c31b2",
       "version_major": 2,
       "version_minor": 0
      },
      "text/plain": [
       "Batches:   0%|          | 0/1 [00:00<?, ?it/s]"
      ]
     },
     "metadata": {},
     "output_type": "display_data"
    },
    {
     "data": {
      "application/vnd.jupyter.widget-view+json": {
       "model_id": "06e3f33b60cc4606b0f2d53d9fc38b83",
       "version_major": 2,
       "version_minor": 0
      },
      "text/plain": [
       "Batches:   0%|          | 0/1 [00:00<?, ?it/s]"
      ]
     },
     "metadata": {},
     "output_type": "display_data"
    },
    {
     "data": {
      "application/vnd.jupyter.widget-view+json": {
       "model_id": "2c99497033cf49e1aad46745fb7ab6c0",
       "version_major": 2,
       "version_minor": 0
      },
      "text/plain": [
       "Batches:   0%|          | 0/1 [00:00<?, ?it/s]"
      ]
     },
     "metadata": {},
     "output_type": "display_data"
    },
    {
     "data": {
      "application/vnd.jupyter.widget-view+json": {
       "model_id": "6e366e91644a4ea8b1c83aade3498a88",
       "version_major": 2,
       "version_minor": 0
      },
      "text/plain": [
       "Batches:   0%|          | 0/1 [00:00<?, ?it/s]"
      ]
     },
     "metadata": {},
     "output_type": "display_data"
    },
    {
     "data": {
      "application/vnd.jupyter.widget-view+json": {
       "model_id": "d33a190e0820436597f1c9c5718fcfa4",
       "version_major": 2,
       "version_minor": 0
      },
      "text/plain": [
       "Batches:   0%|          | 0/1 [00:00<?, ?it/s]"
      ]
     },
     "metadata": {},
     "output_type": "display_data"
    },
    {
     "data": {
      "application/vnd.jupyter.widget-view+json": {
       "model_id": "ed5944bebead45a3ab5efcbea23b2cea",
       "version_major": 2,
       "version_minor": 0
      },
      "text/plain": [
       "Batches:   0%|          | 0/1 [00:00<?, ?it/s]"
      ]
     },
     "metadata": {},
     "output_type": "display_data"
    },
    {
     "data": {
      "application/vnd.jupyter.widget-view+json": {
       "model_id": "8b8b65f28b4046a3ae157057fe8246fe",
       "version_major": 2,
       "version_minor": 0
      },
      "text/plain": [
       "Batches:   0%|          | 0/1 [00:00<?, ?it/s]"
      ]
     },
     "metadata": {},
     "output_type": "display_data"
    },
    {
     "data": {
      "application/vnd.jupyter.widget-view+json": {
       "model_id": "61ae7ac75e8d4175ac57719e10c02875",
       "version_major": 2,
       "version_minor": 0
      },
      "text/plain": [
       "Batches:   0%|          | 0/1 [00:00<?, ?it/s]"
      ]
     },
     "metadata": {},
     "output_type": "display_data"
    },
    {
     "data": {
      "application/vnd.jupyter.widget-view+json": {
       "model_id": "0a4dd087ca9f422599c5d17309bdbdcd",
       "version_major": 2,
       "version_minor": 0
      },
      "text/plain": [
       "Batches:   0%|          | 0/1 [00:00<?, ?it/s]"
      ]
     },
     "metadata": {},
     "output_type": "display_data"
    },
    {
     "data": {
      "application/vnd.jupyter.widget-view+json": {
       "model_id": "b0ec27e68319461e812f64d6adafc3e9",
       "version_major": 2,
       "version_minor": 0
      },
      "text/plain": [
       "Batches:   0%|          | 0/1 [00:00<?, ?it/s]"
      ]
     },
     "metadata": {},
     "output_type": "display_data"
    },
    {
     "data": {
      "application/vnd.jupyter.widget-view+json": {
       "model_id": "42dcf6959610445bb5241804c98ea9ab",
       "version_major": 2,
       "version_minor": 0
      },
      "text/plain": [
       "Batches:   0%|          | 0/1 [00:00<?, ?it/s]"
      ]
     },
     "metadata": {},
     "output_type": "display_data"
    },
    {
     "data": {
      "application/vnd.jupyter.widget-view+json": {
       "model_id": "b11ca1ce38744d8f9d9a1c4ffdc441f5",
       "version_major": 2,
       "version_minor": 0
      },
      "text/plain": [
       "Batches:   0%|          | 0/1 [00:00<?, ?it/s]"
      ]
     },
     "metadata": {},
     "output_type": "display_data"
    },
    {
     "data": {
      "application/vnd.jupyter.widget-view+json": {
       "model_id": "4bc94f337af641b5a2748a1673faaea1",
       "version_major": 2,
       "version_minor": 0
      },
      "text/plain": [
       "Batches:   0%|          | 0/1 [00:00<?, ?it/s]"
      ]
     },
     "metadata": {},
     "output_type": "display_data"
    },
    {
     "data": {
      "application/vnd.jupyter.widget-view+json": {
       "model_id": "0d59f522f2ab48d5830283ef68109054",
       "version_major": 2,
       "version_minor": 0
      },
      "text/plain": [
       "Batches:   0%|          | 0/1 [00:00<?, ?it/s]"
      ]
     },
     "metadata": {},
     "output_type": "display_data"
    },
    {
     "data": {
      "application/vnd.jupyter.widget-view+json": {
       "model_id": "bb13d1b2ccc446abb7db945e483c0d55",
       "version_major": 2,
       "version_minor": 0
      },
      "text/plain": [
       "Batches:   0%|          | 0/1 [00:00<?, ?it/s]"
      ]
     },
     "metadata": {},
     "output_type": "display_data"
    },
    {
     "data": {
      "application/vnd.jupyter.widget-view+json": {
       "model_id": "08b94e7b514b4e1b9f72476b022e91f2",
       "version_major": 2,
       "version_minor": 0
      },
      "text/plain": [
       "Batches:   0%|          | 0/1 [00:00<?, ?it/s]"
      ]
     },
     "metadata": {},
     "output_type": "display_data"
    },
    {
     "data": {
      "application/vnd.jupyter.widget-view+json": {
       "model_id": "34742442fe45496aa6829d65000ada7d",
       "version_major": 2,
       "version_minor": 0
      },
      "text/plain": [
       "Batches:   0%|          | 0/1 [00:00<?, ?it/s]"
      ]
     },
     "metadata": {},
     "output_type": "display_data"
    },
    {
     "data": {
      "application/vnd.jupyter.widget-view+json": {
       "model_id": "a776a11bf777428c9e7b16d802fb7444",
       "version_major": 2,
       "version_minor": 0
      },
      "text/plain": [
       "Batches:   0%|          | 0/1 [00:00<?, ?it/s]"
      ]
     },
     "metadata": {},
     "output_type": "display_data"
    },
    {
     "data": {
      "application/vnd.jupyter.widget-view+json": {
       "model_id": "a4cbd5b8f8554f2c897c21f811cd7fff",
       "version_major": 2,
       "version_minor": 0
      },
      "text/plain": [
       "Batches:   0%|          | 0/1 [00:00<?, ?it/s]"
      ]
     },
     "metadata": {},
     "output_type": "display_data"
    },
    {
     "data": {
      "application/vnd.jupyter.widget-view+json": {
       "model_id": "e5acbef0225146d083a0167b413433e9",
       "version_major": 2,
       "version_minor": 0
      },
      "text/plain": [
       "Batches:   0%|          | 0/1 [00:00<?, ?it/s]"
      ]
     },
     "metadata": {},
     "output_type": "display_data"
    },
    {
     "data": {
      "application/vnd.jupyter.widget-view+json": {
       "model_id": "1d0e852d2a2d449da7e1c382758e4780",
       "version_major": 2,
       "version_minor": 0
      },
      "text/plain": [
       "Batches:   0%|          | 0/1 [00:00<?, ?it/s]"
      ]
     },
     "metadata": {},
     "output_type": "display_data"
    },
    {
     "data": {
      "application/vnd.jupyter.widget-view+json": {
       "model_id": "bf70442d772349358ff067eac0f551fe",
       "version_major": 2,
       "version_minor": 0
      },
      "text/plain": [
       "Batches:   0%|          | 0/1 [00:00<?, ?it/s]"
      ]
     },
     "metadata": {},
     "output_type": "display_data"
    },
    {
     "data": {
      "application/vnd.jupyter.widget-view+json": {
       "model_id": "33f9295b18fd499eb0bd954bf9c76f3c",
       "version_major": 2,
       "version_minor": 0
      },
      "text/plain": [
       "Batches:   0%|          | 0/1 [00:00<?, ?it/s]"
      ]
     },
     "metadata": {},
     "output_type": "display_data"
    },
    {
     "data": {
      "application/vnd.jupyter.widget-view+json": {
       "model_id": "3780edc11a464aabb1afe558454a3cb8",
       "version_major": 2,
       "version_minor": 0
      },
      "text/plain": [
       "Batches:   0%|          | 0/1 [00:00<?, ?it/s]"
      ]
     },
     "metadata": {},
     "output_type": "display_data"
    },
    {
     "data": {
      "application/vnd.jupyter.widget-view+json": {
       "model_id": "44f5e8c0974d4940a3b75a85fc664344",
       "version_major": 2,
       "version_minor": 0
      },
      "text/plain": [
       "Batches:   0%|          | 0/1 [00:00<?, ?it/s]"
      ]
     },
     "metadata": {},
     "output_type": "display_data"
    },
    {
     "data": {
      "application/vnd.jupyter.widget-view+json": {
       "model_id": "6184367759f0479c98b6aca36cc3d990",
       "version_major": 2,
       "version_minor": 0
      },
      "text/plain": [
       "Batches:   0%|          | 0/1 [00:00<?, ?it/s]"
      ]
     },
     "metadata": {},
     "output_type": "display_data"
    },
    {
     "data": {
      "application/vnd.jupyter.widget-view+json": {
       "model_id": "669577f3824248a88168205aed3ec8b7",
       "version_major": 2,
       "version_minor": 0
      },
      "text/plain": [
       "Batches:   0%|          | 0/1 [00:00<?, ?it/s]"
      ]
     },
     "metadata": {},
     "output_type": "display_data"
    },
    {
     "data": {
      "application/vnd.jupyter.widget-view+json": {
       "model_id": "bb4bcd6253e94de9953558edac4dc95c",
       "version_major": 2,
       "version_minor": 0
      },
      "text/plain": [
       "Batches:   0%|          | 0/1 [00:00<?, ?it/s]"
      ]
     },
     "metadata": {},
     "output_type": "display_data"
    },
    {
     "data": {
      "application/vnd.jupyter.widget-view+json": {
       "model_id": "dcdea46095a94e8eb4ed9a14f7daeca8",
       "version_major": 2,
       "version_minor": 0
      },
      "text/plain": [
       "Batches:   0%|          | 0/1 [00:00<?, ?it/s]"
      ]
     },
     "metadata": {},
     "output_type": "display_data"
    },
    {
     "data": {
      "application/vnd.jupyter.widget-view+json": {
       "model_id": "62ed1bf5af3d4a73ae8d19ff2c4356ef",
       "version_major": 2,
       "version_minor": 0
      },
      "text/plain": [
       "Batches:   0%|          | 0/1 [00:00<?, ?it/s]"
      ]
     },
     "metadata": {},
     "output_type": "display_data"
    },
    {
     "data": {
      "application/vnd.jupyter.widget-view+json": {
       "model_id": "82127737ce5c4756962af51e74c3b585",
       "version_major": 2,
       "version_minor": 0
      },
      "text/plain": [
       "Batches:   0%|          | 0/1 [00:00<?, ?it/s]"
      ]
     },
     "metadata": {},
     "output_type": "display_data"
    },
    {
     "data": {
      "application/vnd.jupyter.widget-view+json": {
       "model_id": "4fcf3a207eb54187879d6ab5b2dde21c",
       "version_major": 2,
       "version_minor": 0
      },
      "text/plain": [
       "Batches:   0%|          | 0/1 [00:00<?, ?it/s]"
      ]
     },
     "metadata": {},
     "output_type": "display_data"
    },
    {
     "data": {
      "application/vnd.jupyter.widget-view+json": {
       "model_id": "8ef052d820574e00826b9832189eec84",
       "version_major": 2,
       "version_minor": 0
      },
      "text/plain": [
       "Batches:   0%|          | 0/1 [00:00<?, ?it/s]"
      ]
     },
     "metadata": {},
     "output_type": "display_data"
    },
    {
     "data": {
      "application/vnd.jupyter.widget-view+json": {
       "model_id": "2693e23fd5754371871b9ff1feb1fab9",
       "version_major": 2,
       "version_minor": 0
      },
      "text/plain": [
       "Batches:   0%|          | 0/1 [00:00<?, ?it/s]"
      ]
     },
     "metadata": {},
     "output_type": "display_data"
    },
    {
     "data": {
      "application/vnd.jupyter.widget-view+json": {
       "model_id": "c55ea964b8314cea8260dc843c321cca",
       "version_major": 2,
       "version_minor": 0
      },
      "text/plain": [
       "Batches:   0%|          | 0/1 [00:00<?, ?it/s]"
      ]
     },
     "metadata": {},
     "output_type": "display_data"
    },
    {
     "data": {
      "application/vnd.jupyter.widget-view+json": {
       "model_id": "1a0185c5b3cb49b48dc6644c024dad41",
       "version_major": 2,
       "version_minor": 0
      },
      "text/plain": [
       "Batches:   0%|          | 0/1 [00:00<?, ?it/s]"
      ]
     },
     "metadata": {},
     "output_type": "display_data"
    },
    {
     "data": {
      "application/vnd.jupyter.widget-view+json": {
       "model_id": "edaf3403e0ef425f824253aac417654f",
       "version_major": 2,
       "version_minor": 0
      },
      "text/plain": [
       "Batches:   0%|          | 0/1 [00:00<?, ?it/s]"
      ]
     },
     "metadata": {},
     "output_type": "display_data"
    },
    {
     "data": {
      "application/vnd.jupyter.widget-view+json": {
       "model_id": "75a893638e574f48acc59a79d8ea1eb0",
       "version_major": 2,
       "version_minor": 0
      },
      "text/plain": [
       "Batches:   0%|          | 0/1 [00:00<?, ?it/s]"
      ]
     },
     "metadata": {},
     "output_type": "display_data"
    },
    {
     "data": {
      "application/vnd.jupyter.widget-view+json": {
       "model_id": "76aeef868a2b4e2f8f282118af974746",
       "version_major": 2,
       "version_minor": 0
      },
      "text/plain": [
       "Batches:   0%|          | 0/1 [00:00<?, ?it/s]"
      ]
     },
     "metadata": {},
     "output_type": "display_data"
    },
    {
     "name": "stdout",
     "output_type": "stream",
     "text": [
      "50 of 133\r"
     ]
    },
    {
     "data": {
      "application/vnd.jupyter.widget-view+json": {
       "model_id": "c119e4394b974128958f913cfd4404a3",
       "version_major": 2,
       "version_minor": 0
      },
      "text/plain": [
       "Batches:   0%|          | 0/1 [00:00<?, ?it/s]"
      ]
     },
     "metadata": {},
     "output_type": "display_data"
    },
    {
     "data": {
      "application/vnd.jupyter.widget-view+json": {
       "model_id": "8e4e4d8675ec4d12a0ebbe827a43bc76",
       "version_major": 2,
       "version_minor": 0
      },
      "text/plain": [
       "Batches:   0%|          | 0/1 [00:00<?, ?it/s]"
      ]
     },
     "metadata": {},
     "output_type": "display_data"
    },
    {
     "data": {
      "application/vnd.jupyter.widget-view+json": {
       "model_id": "4e608c055e54424fbf534e9519fa0cf8",
       "version_major": 2,
       "version_minor": 0
      },
      "text/plain": [
       "Batches:   0%|          | 0/1 [00:00<?, ?it/s]"
      ]
     },
     "metadata": {},
     "output_type": "display_data"
    },
    {
     "data": {
      "application/vnd.jupyter.widget-view+json": {
       "model_id": "12f6554aa6a9484c969fdaf0cdafa1b8",
       "version_major": 2,
       "version_minor": 0
      },
      "text/plain": [
       "Batches:   0%|          | 0/1 [00:00<?, ?it/s]"
      ]
     },
     "metadata": {},
     "output_type": "display_data"
    },
    {
     "data": {
      "application/vnd.jupyter.widget-view+json": {
       "model_id": "97db41cda75548399947a5771ffe1af9",
       "version_major": 2,
       "version_minor": 0
      },
      "text/plain": [
       "Batches:   0%|          | 0/1 [00:00<?, ?it/s]"
      ]
     },
     "metadata": {},
     "output_type": "display_data"
    },
    {
     "data": {
      "application/vnd.jupyter.widget-view+json": {
       "model_id": "180fd73a537b4ee3a9225f92c9580c17",
       "version_major": 2,
       "version_minor": 0
      },
      "text/plain": [
       "Batches:   0%|          | 0/1 [00:00<?, ?it/s]"
      ]
     },
     "metadata": {},
     "output_type": "display_data"
    },
    {
     "data": {
      "application/vnd.jupyter.widget-view+json": {
       "model_id": "36568b3aecfb4aacbc752c8d86499486",
       "version_major": 2,
       "version_minor": 0
      },
      "text/plain": [
       "Batches:   0%|          | 0/1 [00:00<?, ?it/s]"
      ]
     },
     "metadata": {},
     "output_type": "display_data"
    },
    {
     "data": {
      "application/vnd.jupyter.widget-view+json": {
       "model_id": "da3b89355fac47a68801d4571f5d59fa",
       "version_major": 2,
       "version_minor": 0
      },
      "text/plain": [
       "Batches:   0%|          | 0/1 [00:00<?, ?it/s]"
      ]
     },
     "metadata": {},
     "output_type": "display_data"
    },
    {
     "data": {
      "application/vnd.jupyter.widget-view+json": {
       "model_id": "2177ddc971414e16be1ed030142f2358",
       "version_major": 2,
       "version_minor": 0
      },
      "text/plain": [
       "Batches:   0%|          | 0/1 [00:00<?, ?it/s]"
      ]
     },
     "metadata": {},
     "output_type": "display_data"
    },
    {
     "data": {
      "application/vnd.jupyter.widget-view+json": {
       "model_id": "b6456e0d29864834821e4913d3c81852",
       "version_major": 2,
       "version_minor": 0
      },
      "text/plain": [
       "Batches:   0%|          | 0/1 [00:00<?, ?it/s]"
      ]
     },
     "metadata": {},
     "output_type": "display_data"
    },
    {
     "data": {
      "application/vnd.jupyter.widget-view+json": {
       "model_id": "47a4dfc672694c84a72971c1bd536315",
       "version_major": 2,
       "version_minor": 0
      },
      "text/plain": [
       "Batches:   0%|          | 0/1 [00:00<?, ?it/s]"
      ]
     },
     "metadata": {},
     "output_type": "display_data"
    },
    {
     "data": {
      "application/vnd.jupyter.widget-view+json": {
       "model_id": "e3bb49aa50ed4cd393a0a62a1dd455e2",
       "version_major": 2,
       "version_minor": 0
      },
      "text/plain": [
       "Batches:   0%|          | 0/1 [00:00<?, ?it/s]"
      ]
     },
     "metadata": {},
     "output_type": "display_data"
    },
    {
     "data": {
      "application/vnd.jupyter.widget-view+json": {
       "model_id": "66efd6b677444d69a50b7247b29d09cf",
       "version_major": 2,
       "version_minor": 0
      },
      "text/plain": [
       "Batches:   0%|          | 0/1 [00:00<?, ?it/s]"
      ]
     },
     "metadata": {},
     "output_type": "display_data"
    },
    {
     "data": {
      "application/vnd.jupyter.widget-view+json": {
       "model_id": "1612794cd7144e0ca3f7a6718518a2af",
       "version_major": 2,
       "version_minor": 0
      },
      "text/plain": [
       "Batches:   0%|          | 0/1 [00:00<?, ?it/s]"
      ]
     },
     "metadata": {},
     "output_type": "display_data"
    },
    {
     "data": {
      "application/vnd.jupyter.widget-view+json": {
       "model_id": "f44898497fda431ba64f2b9100b1dd75",
       "version_major": 2,
       "version_minor": 0
      },
      "text/plain": [
       "Batches:   0%|          | 0/1 [00:00<?, ?it/s]"
      ]
     },
     "metadata": {},
     "output_type": "display_data"
    },
    {
     "data": {
      "application/vnd.jupyter.widget-view+json": {
       "model_id": "4b10e93b1d3642e1a1756a421441aa42",
       "version_major": 2,
       "version_minor": 0
      },
      "text/plain": [
       "Batches:   0%|          | 0/1 [00:00<?, ?it/s]"
      ]
     },
     "metadata": {},
     "output_type": "display_data"
    },
    {
     "data": {
      "application/vnd.jupyter.widget-view+json": {
       "model_id": "de316e1519ed4388950e8754030511e0",
       "version_major": 2,
       "version_minor": 0
      },
      "text/plain": [
       "Batches:   0%|          | 0/1 [00:00<?, ?it/s]"
      ]
     },
     "metadata": {},
     "output_type": "display_data"
    },
    {
     "data": {
      "application/vnd.jupyter.widget-view+json": {
       "model_id": "c95d90b6ddf24750805895ba40042788",
       "version_major": 2,
       "version_minor": 0
      },
      "text/plain": [
       "Batches:   0%|          | 0/1 [00:00<?, ?it/s]"
      ]
     },
     "metadata": {},
     "output_type": "display_data"
    },
    {
     "data": {
      "application/vnd.jupyter.widget-view+json": {
       "model_id": "9ebc5cd2b84a40c3bc8617e5ebd5bc75",
       "version_major": 2,
       "version_minor": 0
      },
      "text/plain": [
       "Batches:   0%|          | 0/1 [00:00<?, ?it/s]"
      ]
     },
     "metadata": {},
     "output_type": "display_data"
    },
    {
     "data": {
      "application/vnd.jupyter.widget-view+json": {
       "model_id": "57992d8a62cb4bcfa5527ecef57b4c27",
       "version_major": 2,
       "version_minor": 0
      },
      "text/plain": [
       "Batches:   0%|          | 0/1 [00:00<?, ?it/s]"
      ]
     },
     "metadata": {},
     "output_type": "display_data"
    },
    {
     "data": {
      "application/vnd.jupyter.widget-view+json": {
       "model_id": "50cee5fe730344ac82750bafb6695319",
       "version_major": 2,
       "version_minor": 0
      },
      "text/plain": [
       "Batches:   0%|          | 0/1 [00:00<?, ?it/s]"
      ]
     },
     "metadata": {},
     "output_type": "display_data"
    },
    {
     "data": {
      "application/vnd.jupyter.widget-view+json": {
       "model_id": "12a95cac0c734d04acced27087d076de",
       "version_major": 2,
       "version_minor": 0
      },
      "text/plain": [
       "Batches:   0%|          | 0/1 [00:00<?, ?it/s]"
      ]
     },
     "metadata": {},
     "output_type": "display_data"
    },
    {
     "data": {
      "application/vnd.jupyter.widget-view+json": {
       "model_id": "5604cf54de0047718a94ae4d52d68c85",
       "version_major": 2,
       "version_minor": 0
      },
      "text/plain": [
       "Batches:   0%|          | 0/1 [00:00<?, ?it/s]"
      ]
     },
     "metadata": {},
     "output_type": "display_data"
    },
    {
     "data": {
      "application/vnd.jupyter.widget-view+json": {
       "model_id": "33f567e1beec47c7a7a5e9fa8585627e",
       "version_major": 2,
       "version_minor": 0
      },
      "text/plain": [
       "Batches:   0%|          | 0/1 [00:00<?, ?it/s]"
      ]
     },
     "metadata": {},
     "output_type": "display_data"
    },
    {
     "data": {
      "application/vnd.jupyter.widget-view+json": {
       "model_id": "b0055e395b854f84bbcf7551fa2bda22",
       "version_major": 2,
       "version_minor": 0
      },
      "text/plain": [
       "Batches:   0%|          | 0/1 [00:00<?, ?it/s]"
      ]
     },
     "metadata": {},
     "output_type": "display_data"
    },
    {
     "data": {
      "application/vnd.jupyter.widget-view+json": {
       "model_id": "6e4dea290f61427ab5a30748a3a521fe",
       "version_major": 2,
       "version_minor": 0
      },
      "text/plain": [
       "Batches:   0%|          | 0/1 [00:00<?, ?it/s]"
      ]
     },
     "metadata": {},
     "output_type": "display_data"
    },
    {
     "data": {
      "application/vnd.jupyter.widget-view+json": {
       "model_id": "b8ea6f9f801146b09dadf5196ec34f70",
       "version_major": 2,
       "version_minor": 0
      },
      "text/plain": [
       "Batches:   0%|          | 0/1 [00:00<?, ?it/s]"
      ]
     },
     "metadata": {},
     "output_type": "display_data"
    },
    {
     "data": {
      "application/vnd.jupyter.widget-view+json": {
       "model_id": "74f2758bc65f44dfa7caa95526dcb63d",
       "version_major": 2,
       "version_minor": 0
      },
      "text/plain": [
       "Batches:   0%|          | 0/1 [00:00<?, ?it/s]"
      ]
     },
     "metadata": {},
     "output_type": "display_data"
    },
    {
     "data": {
      "application/vnd.jupyter.widget-view+json": {
       "model_id": "726728074f3c4950b427c1100bc219ba",
       "version_major": 2,
       "version_minor": 0
      },
      "text/plain": [
       "Batches:   0%|          | 0/1 [00:00<?, ?it/s]"
      ]
     },
     "metadata": {},
     "output_type": "display_data"
    },
    {
     "data": {
      "application/vnd.jupyter.widget-view+json": {
       "model_id": "aae6182b639c4902a44e22a418567dba",
       "version_major": 2,
       "version_minor": 0
      },
      "text/plain": [
       "Batches:   0%|          | 0/1 [00:00<?, ?it/s]"
      ]
     },
     "metadata": {},
     "output_type": "display_data"
    },
    {
     "data": {
      "application/vnd.jupyter.widget-view+json": {
       "model_id": "7930da62301e4722829edceb20b2d908",
       "version_major": 2,
       "version_minor": 0
      },
      "text/plain": [
       "Batches:   0%|          | 0/1 [00:00<?, ?it/s]"
      ]
     },
     "metadata": {},
     "output_type": "display_data"
    },
    {
     "data": {
      "application/vnd.jupyter.widget-view+json": {
       "model_id": "2de168311f23477b8a749a1675a9f36f",
       "version_major": 2,
       "version_minor": 0
      },
      "text/plain": [
       "Batches:   0%|          | 0/1 [00:00<?, ?it/s]"
      ]
     },
     "metadata": {},
     "output_type": "display_data"
    },
    {
     "data": {
      "application/vnd.jupyter.widget-view+json": {
       "model_id": "5504b4a016d04db4ab9c455b49467989",
       "version_major": 2,
       "version_minor": 0
      },
      "text/plain": [
       "Batches:   0%|          | 0/1 [00:00<?, ?it/s]"
      ]
     },
     "metadata": {},
     "output_type": "display_data"
    },
    {
     "data": {
      "application/vnd.jupyter.widget-view+json": {
       "model_id": "793274e945864f46830e6efdef9ce020",
       "version_major": 2,
       "version_minor": 0
      },
      "text/plain": [
       "Batches:   0%|          | 0/1 [00:00<?, ?it/s]"
      ]
     },
     "metadata": {},
     "output_type": "display_data"
    },
    {
     "data": {
      "application/vnd.jupyter.widget-view+json": {
       "model_id": "2685498954364250898cbd908ba3f6a7",
       "version_major": 2,
       "version_minor": 0
      },
      "text/plain": [
       "Batches:   0%|          | 0/1 [00:00<?, ?it/s]"
      ]
     },
     "metadata": {},
     "output_type": "display_data"
    },
    {
     "data": {
      "application/vnd.jupyter.widget-view+json": {
       "model_id": "978da70c02a846b6a292a0f71759144c",
       "version_major": 2,
       "version_minor": 0
      },
      "text/plain": [
       "Batches:   0%|          | 0/1 [00:00<?, ?it/s]"
      ]
     },
     "metadata": {},
     "output_type": "display_data"
    },
    {
     "data": {
      "application/vnd.jupyter.widget-view+json": {
       "model_id": "ecac1468167a41cda0014da521ad9485",
       "version_major": 2,
       "version_minor": 0
      },
      "text/plain": [
       "Batches:   0%|          | 0/1 [00:00<?, ?it/s]"
      ]
     },
     "metadata": {},
     "output_type": "display_data"
    },
    {
     "data": {
      "application/vnd.jupyter.widget-view+json": {
       "model_id": "993db72d12e44c65ac6ce18852796a88",
       "version_major": 2,
       "version_minor": 0
      },
      "text/plain": [
       "Batches:   0%|          | 0/1 [00:00<?, ?it/s]"
      ]
     },
     "metadata": {},
     "output_type": "display_data"
    },
    {
     "data": {
      "application/vnd.jupyter.widget-view+json": {
       "model_id": "b151016069624de8b7cbec8eb1b47a5c",
       "version_major": 2,
       "version_minor": 0
      },
      "text/plain": [
       "Batches:   0%|          | 0/1 [00:00<?, ?it/s]"
      ]
     },
     "metadata": {},
     "output_type": "display_data"
    },
    {
     "data": {
      "application/vnd.jupyter.widget-view+json": {
       "model_id": "8e41a7b0557d4a3bb8cb506415e2c826",
       "version_major": 2,
       "version_minor": 0
      },
      "text/plain": [
       "Batches:   0%|          | 0/1 [00:00<?, ?it/s]"
      ]
     },
     "metadata": {},
     "output_type": "display_data"
    },
    {
     "data": {
      "application/vnd.jupyter.widget-view+json": {
       "model_id": "fd4772a9f1c84176a0accfdaf9aa392a",
       "version_major": 2,
       "version_minor": 0
      },
      "text/plain": [
       "Batches:   0%|          | 0/1 [00:00<?, ?it/s]"
      ]
     },
     "metadata": {},
     "output_type": "display_data"
    },
    {
     "data": {
      "application/vnd.jupyter.widget-view+json": {
       "model_id": "1f53a174cf054c4c869d367448d239f4",
       "version_major": 2,
       "version_minor": 0
      },
      "text/plain": [
       "Batches:   0%|          | 0/1 [00:00<?, ?it/s]"
      ]
     },
     "metadata": {},
     "output_type": "display_data"
    },
    {
     "data": {
      "application/vnd.jupyter.widget-view+json": {
       "model_id": "6ccd2d43bb6a4a53a67f08a79044953f",
       "version_major": 2,
       "version_minor": 0
      },
      "text/plain": [
       "Batches:   0%|          | 0/1 [00:00<?, ?it/s]"
      ]
     },
     "metadata": {},
     "output_type": "display_data"
    },
    {
     "data": {
      "application/vnd.jupyter.widget-view+json": {
       "model_id": "2d6231d21f8743fc861a6145e1b89884",
       "version_major": 2,
       "version_minor": 0
      },
      "text/plain": [
       "Batches:   0%|          | 0/1 [00:00<?, ?it/s]"
      ]
     },
     "metadata": {},
     "output_type": "display_data"
    },
    {
     "data": {
      "application/vnd.jupyter.widget-view+json": {
       "model_id": "79a6d2dc258d4665a94a0446cde890d9",
       "version_major": 2,
       "version_minor": 0
      },
      "text/plain": [
       "Batches:   0%|          | 0/1 [00:00<?, ?it/s]"
      ]
     },
     "metadata": {},
     "output_type": "display_data"
    },
    {
     "data": {
      "application/vnd.jupyter.widget-view+json": {
       "model_id": "26f799925ca249e6ad1d83ffda8bd270",
       "version_major": 2,
       "version_minor": 0
      },
      "text/plain": [
       "Batches:   0%|          | 0/1 [00:00<?, ?it/s]"
      ]
     },
     "metadata": {},
     "output_type": "display_data"
    },
    {
     "data": {
      "application/vnd.jupyter.widget-view+json": {
       "model_id": "41f857ee3db64fd197b859d31cece703",
       "version_major": 2,
       "version_minor": 0
      },
      "text/plain": [
       "Batches:   0%|          | 0/1 [00:00<?, ?it/s]"
      ]
     },
     "metadata": {},
     "output_type": "display_data"
    },
    {
     "data": {
      "application/vnd.jupyter.widget-view+json": {
       "model_id": "132e4f72ba7a4c3181dcccf9643631f1",
       "version_major": 2,
       "version_minor": 0
      },
      "text/plain": [
       "Batches:   0%|          | 0/1 [00:00<?, ?it/s]"
      ]
     },
     "metadata": {},
     "output_type": "display_data"
    },
    {
     "data": {
      "application/vnd.jupyter.widget-view+json": {
       "model_id": "4fb25833b0de45579554c4082cf0eda9",
       "version_major": 2,
       "version_minor": 0
      },
      "text/plain": [
       "Batches:   0%|          | 0/1 [00:00<?, ?it/s]"
      ]
     },
     "metadata": {},
     "output_type": "display_data"
    },
    {
     "data": {
      "application/vnd.jupyter.widget-view+json": {
       "model_id": "81fdd7147984473c9e90cc23d640279d",
       "version_major": 2,
       "version_minor": 0
      },
      "text/plain": [
       "Batches:   0%|          | 0/1 [00:00<?, ?it/s]"
      ]
     },
     "metadata": {},
     "output_type": "display_data"
    },
    {
     "name": "stdout",
     "output_type": "stream",
     "text": [
      "100 of 133\r"
     ]
    },
    {
     "data": {
      "application/vnd.jupyter.widget-view+json": {
       "model_id": "ad7475b416864a79bb135e722b897161",
       "version_major": 2,
       "version_minor": 0
      },
      "text/plain": [
       "Batches:   0%|          | 0/1 [00:00<?, ?it/s]"
      ]
     },
     "metadata": {},
     "output_type": "display_data"
    },
    {
     "data": {
      "application/vnd.jupyter.widget-view+json": {
       "model_id": "07772118cef34978a154c3ba91aaeecb",
       "version_major": 2,
       "version_minor": 0
      },
      "text/plain": [
       "Batches:   0%|          | 0/1 [00:00<?, ?it/s]"
      ]
     },
     "metadata": {},
     "output_type": "display_data"
    },
    {
     "data": {
      "application/vnd.jupyter.widget-view+json": {
       "model_id": "2e0e3de821f04b279a55a9429f0465df",
       "version_major": 2,
       "version_minor": 0
      },
      "text/plain": [
       "Batches:   0%|          | 0/1 [00:00<?, ?it/s]"
      ]
     },
     "metadata": {},
     "output_type": "display_data"
    },
    {
     "data": {
      "application/vnd.jupyter.widget-view+json": {
       "model_id": "d467684abefb493e8e2fba0e838e24ce",
       "version_major": 2,
       "version_minor": 0
      },
      "text/plain": [
       "Batches:   0%|          | 0/1 [00:00<?, ?it/s]"
      ]
     },
     "metadata": {},
     "output_type": "display_data"
    },
    {
     "data": {
      "application/vnd.jupyter.widget-view+json": {
       "model_id": "b6d072be12184bcebdab22717e792df6",
       "version_major": 2,
       "version_minor": 0
      },
      "text/plain": [
       "Batches:   0%|          | 0/1 [00:00<?, ?it/s]"
      ]
     },
     "metadata": {},
     "output_type": "display_data"
    },
    {
     "data": {
      "application/vnd.jupyter.widget-view+json": {
       "model_id": "1c090fd1e0c8494f85811438a69ecc35",
       "version_major": 2,
       "version_minor": 0
      },
      "text/plain": [
       "Batches:   0%|          | 0/1 [00:00<?, ?it/s]"
      ]
     },
     "metadata": {},
     "output_type": "display_data"
    },
    {
     "data": {
      "application/vnd.jupyter.widget-view+json": {
       "model_id": "9478287f9d2845d999d7250a5183f436",
       "version_major": 2,
       "version_minor": 0
      },
      "text/plain": [
       "Batches:   0%|          | 0/1 [00:00<?, ?it/s]"
      ]
     },
     "metadata": {},
     "output_type": "display_data"
    },
    {
     "data": {
      "application/vnd.jupyter.widget-view+json": {
       "model_id": "6662fc14b4e64ac0934201bc382e2d68",
       "version_major": 2,
       "version_minor": 0
      },
      "text/plain": [
       "Batches:   0%|          | 0/1 [00:00<?, ?it/s]"
      ]
     },
     "metadata": {},
     "output_type": "display_data"
    },
    {
     "data": {
      "application/vnd.jupyter.widget-view+json": {
       "model_id": "643857f9cf694a25a07672e467802adf",
       "version_major": 2,
       "version_minor": 0
      },
      "text/plain": [
       "Batches:   0%|          | 0/1 [00:00<?, ?it/s]"
      ]
     },
     "metadata": {},
     "output_type": "display_data"
    },
    {
     "data": {
      "application/vnd.jupyter.widget-view+json": {
       "model_id": "2a9b1ce8dde549e28a8582838ba8d804",
       "version_major": 2,
       "version_minor": 0
      },
      "text/plain": [
       "Batches:   0%|          | 0/1 [00:00<?, ?it/s]"
      ]
     },
     "metadata": {},
     "output_type": "display_data"
    },
    {
     "data": {
      "application/vnd.jupyter.widget-view+json": {
       "model_id": "b200286ab38d4411a86ff0474a3b4155",
       "version_major": 2,
       "version_minor": 0
      },
      "text/plain": [
       "Batches:   0%|          | 0/1 [00:00<?, ?it/s]"
      ]
     },
     "metadata": {},
     "output_type": "display_data"
    },
    {
     "data": {
      "application/vnd.jupyter.widget-view+json": {
       "model_id": "8cb8a8feb4014cc4a3629f9b1ee05f60",
       "version_major": 2,
       "version_minor": 0
      },
      "text/plain": [
       "Batches:   0%|          | 0/1 [00:00<?, ?it/s]"
      ]
     },
     "metadata": {},
     "output_type": "display_data"
    },
    {
     "data": {
      "application/vnd.jupyter.widget-view+json": {
       "model_id": "121fcbdc2b6d47c2962d5d69de0c066d",
       "version_major": 2,
       "version_minor": 0
      },
      "text/plain": [
       "Batches:   0%|          | 0/1 [00:00<?, ?it/s]"
      ]
     },
     "metadata": {},
     "output_type": "display_data"
    },
    {
     "data": {
      "application/vnd.jupyter.widget-view+json": {
       "model_id": "3c953d96002a47dc9c6714d0bb57684f",
       "version_major": 2,
       "version_minor": 0
      },
      "text/plain": [
       "Batches:   0%|          | 0/1 [00:00<?, ?it/s]"
      ]
     },
     "metadata": {},
     "output_type": "display_data"
    },
    {
     "data": {
      "application/vnd.jupyter.widget-view+json": {
       "model_id": "e626b354f3494a94a9c6d96191995b1a",
       "version_major": 2,
       "version_minor": 0
      },
      "text/plain": [
       "Batches:   0%|          | 0/1 [00:00<?, ?it/s]"
      ]
     },
     "metadata": {},
     "output_type": "display_data"
    },
    {
     "data": {
      "application/vnd.jupyter.widget-view+json": {
       "model_id": "2f9a6bdcfe3f4e99854055b892645d77",
       "version_major": 2,
       "version_minor": 0
      },
      "text/plain": [
       "Batches:   0%|          | 0/1 [00:00<?, ?it/s]"
      ]
     },
     "metadata": {},
     "output_type": "display_data"
    },
    {
     "data": {
      "application/vnd.jupyter.widget-view+json": {
       "model_id": "d31ff79f20294382bd3c78707ba46c8c",
       "version_major": 2,
       "version_minor": 0
      },
      "text/plain": [
       "Batches:   0%|          | 0/1 [00:00<?, ?it/s]"
      ]
     },
     "metadata": {},
     "output_type": "display_data"
    },
    {
     "data": {
      "application/vnd.jupyter.widget-view+json": {
       "model_id": "3df18f51428f479795ff2ca22165763c",
       "version_major": 2,
       "version_minor": 0
      },
      "text/plain": [
       "Batches:   0%|          | 0/1 [00:00<?, ?it/s]"
      ]
     },
     "metadata": {},
     "output_type": "display_data"
    },
    {
     "data": {
      "application/vnd.jupyter.widget-view+json": {
       "model_id": "5a6434a9857444a5b6e56cad5d85ecdc",
       "version_major": 2,
       "version_minor": 0
      },
      "text/plain": [
       "Batches:   0%|          | 0/1 [00:00<?, ?it/s]"
      ]
     },
     "metadata": {},
     "output_type": "display_data"
    },
    {
     "data": {
      "application/vnd.jupyter.widget-view+json": {
       "model_id": "4d6ba99ffa1745c6ba26cc9c75bf1797",
       "version_major": 2,
       "version_minor": 0
      },
      "text/plain": [
       "Batches:   0%|          | 0/1 [00:00<?, ?it/s]"
      ]
     },
     "metadata": {},
     "output_type": "display_data"
    },
    {
     "data": {
      "application/vnd.jupyter.widget-view+json": {
       "model_id": "50e63029e8194bc9be86100d9a1c8fd2",
       "version_major": 2,
       "version_minor": 0
      },
      "text/plain": [
       "Batches:   0%|          | 0/1 [00:00<?, ?it/s]"
      ]
     },
     "metadata": {},
     "output_type": "display_data"
    },
    {
     "data": {
      "application/vnd.jupyter.widget-view+json": {
       "model_id": "a3129defaf9e45b6a99c7d206ef3a426",
       "version_major": 2,
       "version_minor": 0
      },
      "text/plain": [
       "Batches:   0%|          | 0/1 [00:00<?, ?it/s]"
      ]
     },
     "metadata": {},
     "output_type": "display_data"
    },
    {
     "data": {
      "application/vnd.jupyter.widget-view+json": {
       "model_id": "8eb25b67de174cd2a882f36ad21e7569",
       "version_major": 2,
       "version_minor": 0
      },
      "text/plain": [
       "Batches:   0%|          | 0/1 [00:00<?, ?it/s]"
      ]
     },
     "metadata": {},
     "output_type": "display_data"
    },
    {
     "data": {
      "application/vnd.jupyter.widget-view+json": {
       "model_id": "31703aa98e1f46af9b85177621e0ad82",
       "version_major": 2,
       "version_minor": 0
      },
      "text/plain": [
       "Batches:   0%|          | 0/1 [00:00<?, ?it/s]"
      ]
     },
     "metadata": {},
     "output_type": "display_data"
    },
    {
     "data": {
      "application/vnd.jupyter.widget-view+json": {
       "model_id": "7aa950523a2d4821b0318df8abf02738",
       "version_major": 2,
       "version_minor": 0
      },
      "text/plain": [
       "Batches:   0%|          | 0/1 [00:00<?, ?it/s]"
      ]
     },
     "metadata": {},
     "output_type": "display_data"
    },
    {
     "data": {
      "application/vnd.jupyter.widget-view+json": {
       "model_id": "1284f2c726214e0b8b86239cc9ea63e2",
       "version_major": 2,
       "version_minor": 0
      },
      "text/plain": [
       "Batches:   0%|          | 0/1 [00:00<?, ?it/s]"
      ]
     },
     "metadata": {},
     "output_type": "display_data"
    },
    {
     "data": {
      "application/vnd.jupyter.widget-view+json": {
       "model_id": "40417b98b3d349ad8a319e06af959f16",
       "version_major": 2,
       "version_minor": 0
      },
      "text/plain": [
       "Batches:   0%|          | 0/1 [00:00<?, ?it/s]"
      ]
     },
     "metadata": {},
     "output_type": "display_data"
    },
    {
     "data": {
      "application/vnd.jupyter.widget-view+json": {
       "model_id": "66bd9921d8104700b3a02b75093506e4",
       "version_major": 2,
       "version_minor": 0
      },
      "text/plain": [
       "Batches:   0%|          | 0/1 [00:00<?, ?it/s]"
      ]
     },
     "metadata": {},
     "output_type": "display_data"
    },
    {
     "data": {
      "application/vnd.jupyter.widget-view+json": {
       "model_id": "8fce10562ed144138f11f85f1c762292",
       "version_major": 2,
       "version_minor": 0
      },
      "text/plain": [
       "Batches:   0%|          | 0/1 [00:00<?, ?it/s]"
      ]
     },
     "metadata": {},
     "output_type": "display_data"
    },
    {
     "data": {
      "application/vnd.jupyter.widget-view+json": {
       "model_id": "57b347329a274d8897ec038101aa1ab0",
       "version_major": 2,
       "version_minor": 0
      },
      "text/plain": [
       "Batches:   0%|          | 0/1 [00:00<?, ?it/s]"
      ]
     },
     "metadata": {},
     "output_type": "display_data"
    },
    {
     "data": {
      "application/vnd.jupyter.widget-view+json": {
       "model_id": "280465d6e2e74ec89c033169434f2423",
       "version_major": 2,
       "version_minor": 0
      },
      "text/plain": [
       "Batches:   0%|          | 0/1 [00:00<?, ?it/s]"
      ]
     },
     "metadata": {},
     "output_type": "display_data"
    },
    {
     "data": {
      "application/vnd.jupyter.widget-view+json": {
       "model_id": "377d5cd42ae44c32982341bbb3808c28",
       "version_major": 2,
       "version_minor": 0
      },
      "text/plain": [
       "Batches:   0%|          | 0/1 [00:00<?, ?it/s]"
      ]
     },
     "metadata": {},
     "output_type": "display_data"
    },
    {
     "data": {
      "application/vnd.jupyter.widget-view+json": {
       "model_id": "266b133a481a4de593710272cb935a54",
       "version_major": 2,
       "version_minor": 0
      },
      "text/plain": [
       "Batches:   0%|          | 0/1 [00:00<?, ?it/s]"
      ]
     },
     "metadata": {},
     "output_type": "display_data"
    },
    {
     "data": {
      "application/vnd.jupyter.widget-view+json": {
       "model_id": "fb07427e9f1b4c6aaf07f5266de50de4",
       "version_major": 2,
       "version_minor": 0
      },
      "text/plain": [
       "Batches:   0%|          | 0/1 [00:00<?, ?it/s]"
      ]
     },
     "metadata": {},
     "output_type": "display_data"
    },
    {
     "name": "stdout",
     "output_type": "stream",
     "text": [
      "Final number of requirements: 62\n",
      "Output saved in Markdown format in directory: checkpoints/requirements_downselect\n"
     ]
    }
   ],
   "source": [
    "import requirement_downselect\n",
    "importlib.reload(requirement_downselect)\n",
    "requirement_downselect.full_pass(\n",
    "    md_files=[\"checkpoints/requirements_extraction/us-core/claude_reqs_list_v1_20250826_084443.md\", \"checkpoints/revised_reqs_extraction/claude_reqs_list_v2_20250826_085415.md\"]\n",
    "    #rag_files=[\"checkpoints/requirements_extraction/RAG/raw_output.json\"]\n",
    "    )"
   ]
  },
  {
   "cell_type": "markdown",
   "id": "669a69ed",
   "metadata": {},
   "source": [
    "## Test Plan Generation"
   ]
  },
  {
   "cell_type": "code",
   "execution_count": 17,
   "id": "4ee31b17",
   "metadata": {},
   "outputs": [],
   "source": [
    "import logging\n",
    "llm_clients.logger.setLevel(logging.INFO)"
   ]
  },
  {
   "cell_type": "markdown",
   "id": "8cbd731d",
   "metadata": {},
   "source": [
    "##### Without RAG- Faster"
   ]
  },
  {
   "cell_type": "code",
   "execution_count": null,
   "id": "8be0d386",
   "metadata": {},
   "outputs": [
    {
     "name": "stderr",
     "output_type": "stream",
     "text": [
      "INFO:root:Prompt environment set up at: /Users/ceadams/Documents/onclaive/onclaive/prompts\n",
      "INFO:llm_utils:Starting test plan generation with claude for US Core IG\n",
      "INFO:llm_utils:Parsed 22 requirements from checkpoints/requirements_downselect/filtered_requirements.md\n",
      "INFO:llm_utils:Parsed capability statement from ../us-core/test_set/CapabilityStatement-us-core-server.html\n",
      "INFO:llm_utils:Identifying group for requirement REQ-01 using claude...\n",
      "INFO:httpx:HTTP Request: POST https://api.anthropic.com/v1/messages \"HTTP/1.1 200 OK\"\n",
      "INFO:llm_utils:Identifying group for requirement REQ-42 using claude...\n",
      "INFO:httpx:HTTP Request: POST https://api.anthropic.com/v1/messages \"HTTP/1.1 200 OK\"\n",
      "INFO:llm_utils:Identifying group for requirement REQ-43 using claude...\n",
      "INFO:httpx:HTTP Request: POST https://api.anthropic.com/v1/messages \"HTTP/1.1 200 OK\"\n",
      "INFO:llm_utils:Identifying group for requirement REQ-44 using claude...\n",
      "INFO:httpx:HTTP Request: POST https://api.anthropic.com/v1/messages \"HTTP/1.1 200 OK\"\n",
      "INFO:llm_utils:Identifying group for requirement REQ-45 using claude...\n",
      "INFO:httpx:HTTP Request: POST https://api.anthropic.com/v1/messages \"HTTP/1.1 200 OK\"\n",
      "INFO:llm_utils:Identifying group for requirement REQ-46 using claude...\n",
      "INFO:httpx:HTTP Request: POST https://api.anthropic.com/v1/messages \"HTTP/1.1 200 OK\"\n",
      "INFO:llm_utils:Identifying group for requirement REQ-47 using claude...\n",
      "INFO:httpx:HTTP Request: POST https://api.anthropic.com/v1/messages \"HTTP/1.1 200 OK\"\n",
      "INFO:llm_utils:Identifying group for requirement REQ-48 using claude...\n",
      "INFO:httpx:HTTP Request: POST https://api.anthropic.com/v1/messages \"HTTP/1.1 200 OK\"\n",
      "INFO:llm_utils:Identifying group for requirement REQ-49 using claude...\n",
      "INFO:httpx:HTTP Request: POST https://api.anthropic.com/v1/messages \"HTTP/1.1 200 OK\"\n",
      "INFO:llm_utils:Identifying group for requirement REQ-50 using claude...\n",
      "INFO:httpx:HTTP Request: POST https://api.anthropic.com/v1/messages \"HTTP/1.1 200 OK\"\n",
      "INFO:llm_utils:Identifying group for requirement REQ-51 using claude...\n",
      "INFO:llm_utils:claude rate limit hit (output_tokens), waiting 44.1s\n",
      "INFO:llm_utils:Usage: 10 req, 12787 in_tokens, 81920 out_tokens\n",
      "INFO:httpx:HTTP Request: POST https://api.anthropic.com/v1/messages \"HTTP/1.1 200 OK\"\n",
      "INFO:llm_utils:Identifying group for requirement REQ-52 using claude...\n",
      "INFO:httpx:HTTP Request: POST https://api.anthropic.com/v1/messages \"HTTP/1.1 200 OK\"\n",
      "INFO:llm_utils:Identifying group for requirement REQ-53 using claude...\n",
      "INFO:httpx:HTTP Request: POST https://api.anthropic.com/v1/messages \"HTTP/1.1 529 \"\n",
      "INFO:anthropic._base_client:Retrying request to /v1/messages in 0.411089 seconds\n",
      "INFO:httpx:HTTP Request: POST https://api.anthropic.com/v1/messages \"HTTP/1.1 200 OK\"\n",
      "INFO:llm_utils:Identifying group for requirement REQ-54 using claude...\n",
      "INFO:httpx:HTTP Request: POST https://api.anthropic.com/v1/messages \"HTTP/1.1 200 OK\"\n",
      "INFO:llm_utils:Identifying group for requirement REQ-55 using claude...\n",
      "INFO:httpx:HTTP Request: POST https://api.anthropic.com/v1/messages \"HTTP/1.1 200 OK\"\n",
      "INFO:llm_utils:Identifying group for requirement REQ-56 using claude...\n",
      "INFO:httpx:HTTP Request: POST https://api.anthropic.com/v1/messages \"HTTP/1.1 200 OK\"\n",
      "INFO:llm_utils:Identifying group for requirement REQ-57 using claude...\n",
      "INFO:httpx:HTTP Request: POST https://api.anthropic.com/v1/messages \"HTTP/1.1 200 OK\"\n",
      "INFO:llm_utils:Identifying group for requirement REQ-58 using claude...\n",
      "INFO:httpx:HTTP Request: POST https://api.anthropic.com/v1/messages \"HTTP/1.1 200 OK\"\n",
      "INFO:llm_utils:Identifying group for requirement REQ-59 using claude...\n",
      "INFO:httpx:HTTP Request: POST https://api.anthropic.com/v1/messages \"HTTP/1.1 200 OK\"\n",
      "INFO:llm_utils:Identifying group for requirement REQ-60 using claude...\n",
      "INFO:httpx:HTTP Request: POST https://api.anthropic.com/v1/messages \"HTTP/1.1 200 OK\"\n",
      "INFO:llm_utils:Identifying group for requirement REQ-61 using claude...\n",
      "INFO:llm_utils:claude rate limit hit (output_tokens), waiting 32.6s\n",
      "INFO:llm_utils:Usage: 10 req, 12738 in_tokens, 81920 out_tokens\n",
      "INFO:httpx:HTTP Request: POST https://api.anthropic.com/v1/messages \"HTTP/1.1 200 OK\"\n",
      "INFO:llm_utils:Identifying group for requirement REQ-62 using claude...\n",
      "INFO:llm_utils:claude rate limit hit (output_tokens), waiting 2.1s\n",
      "INFO:llm_utils:Usage: 10 req, 12757 in_tokens, 81920 out_tokens\n",
      "INFO:httpx:HTTP Request: POST https://api.anthropic.com/v1/messages \"HTTP/1.1 200 OK\"\n",
      "INFO:llm_utils:Requirements grouped into 9 categories\n",
      "INFO:llm_utils:Group 'General/Cross-Resource': 12 requirements\n",
      "INFO:llm_utils:Group 'AllergyIntolerance': 2 requirements\n",
      "INFO:llm_utils:Group 'CareTeam': 1 requirements\n",
      "INFO:llm_utils:Group 'DiagnosticReport': 1 requirements\n",
      "INFO:llm_utils:Group 'Encounter': 1 requirements\n",
      "INFO:llm_utils:Group 'Immunization': 1 requirements\n",
      "INFO:llm_utils:Group 'MedicationDispense': 1 requirements\n",
      "INFO:llm_utils:Group 'Organization': 2 requirements\n",
      "INFO:llm_utils:Group 'SDC Questionnaire Profile': 1 requirements\n",
      "INFO:llm_utils:Processing requirement for group 'AllergyIntolerance': REQ-44\n",
      "INFO:llm_utils:Generating test specification for REQ-44 using claude...\n",
      "INFO:httpx:HTTP Request: POST https://api.anthropic.com/v1/messages \"HTTP/1.1 200 OK\"\n",
      "INFO:llm_utils:Processing requirement for group 'AllergyIntolerance': REQ-45\n",
      "INFO:llm_utils:Generating test specification for REQ-45 using claude...\n",
      "INFO:httpx:HTTP Request: POST https://api.anthropic.com/v1/messages \"HTTP/1.1 200 OK\"\n",
      "INFO:llm_utils:Processing requirement for group 'CareTeam': REQ-47\n",
      "INFO:llm_utils:Generating test specification for REQ-47 using claude...\n",
      "INFO:httpx:HTTP Request: POST https://api.anthropic.com/v1/messages \"HTTP/1.1 200 OK\"\n",
      "INFO:llm_utils:Processing requirement for group 'DiagnosticReport': REQ-49\n",
      "INFO:llm_utils:Generating test specification for REQ-49 using claude...\n",
      "INFO:httpx:HTTP Request: POST https://api.anthropic.com/v1/messages \"HTTP/1.1 200 OK\"\n",
      "INFO:llm_utils:Processing requirement for group 'Encounter': REQ-52\n",
      "INFO:llm_utils:Generating test specification for REQ-52 using claude...\n",
      "INFO:httpx:HTTP Request: POST https://api.anthropic.com/v1/messages \"HTTP/1.1 200 OK\"\n",
      "INFO:llm_utils:Processing requirement for group 'General/Cross-Resource': REQ-01\n",
      "INFO:llm_utils:Generating test specification for REQ-01 using claude...\n",
      "INFO:httpx:HTTP Request: POST https://api.anthropic.com/v1/messages \"HTTP/1.1 200 OK\"\n",
      "INFO:llm_utils:Processing requirement for group 'General/Cross-Resource': REQ-42\n",
      "INFO:llm_utils:Generating test specification for REQ-42 using claude...\n",
      "INFO:httpx:HTTP Request: POST https://api.anthropic.com/v1/messages \"HTTP/1.1 200 OK\"\n",
      "INFO:llm_utils:Processing requirement for group 'General/Cross-Resource': REQ-43\n",
      "INFO:llm_utils:Generating test specification for REQ-43 using claude...\n",
      "INFO:httpx:HTTP Request: POST https://api.anthropic.com/v1/messages \"HTTP/1.1 200 OK\"\n",
      "INFO:llm_utils:Processing requirement for group 'General/Cross-Resource': REQ-46\n",
      "INFO:llm_utils:Generating test specification for REQ-46 using claude...\n",
      "INFO:httpx:HTTP Request: POST https://api.anthropic.com/v1/messages \"HTTP/1.1 200 OK\"\n",
      "INFO:llm_utils:Processing requirement for group 'General/Cross-Resource': REQ-48\n",
      "INFO:llm_utils:Generating test specification for REQ-48 using claude...\n",
      "INFO:httpx:HTTP Request: POST https://api.anthropic.com/v1/messages \"HTTP/1.1 200 OK\"\n",
      "INFO:llm_utils:Processing requirement for group 'General/Cross-Resource': REQ-50\n",
      "INFO:llm_utils:Generating test specification for REQ-50 using claude...\n",
      "INFO:httpx:HTTP Request: POST https://api.anthropic.com/v1/messages \"HTTP/1.1 200 OK\"\n",
      "INFO:llm_utils:Processing requirement for group 'General/Cross-Resource': REQ-51\n",
      "INFO:llm_utils:Generating test specification for REQ-51 using claude...\n"
     ]
    }
   ],
   "source": [
    "import req_to_testplan\n",
    "importlib.reload(req_to_testplan)\n",
    "\n",
    "result = req_to_testplan.generate_consolidated_test_plan(\n",
    "    llm_clients,\n",
    "    'claude',  # 'claude' or 'gemini' or 'gpt'\n",
    "    llm_clients.logger,\n",
    "    \"checkpoints/requirements_downselect/filtered_requirements.md\",\n",
    "    \"../us-core/test_set/CapabilityStatement-us-core-server.html\",\n",
    "    \"US Core IG\",\n",
    "    output_dir='checkpoints/testplan_generation/us-core'\n",
    ")\n",
    "\n",
    "print(f\"Generated test plan with improved capability parsing: {result['test_plan_path']}\")"
   ]
  },
  {
   "cell_type": "markdown",
   "id": "f54f6a62",
   "metadata": {},
   "source": [
    "##### With RAG"
   ]
  },
  {
   "cell_type": "code",
   "execution_count": null,
   "id": "5cf1f5b1",
   "metadata": {},
   "outputs": [
    {
     "name": "stdout",
     "output_type": "stream",
     "text": [
      "Deleted existing collection: capability_statements\n"
     ]
    },
    {
     "name": "stderr",
     "output_type": "stream",
     "text": [
      "ERROR:backoff:Giving up send_request(...) after 4 tries (requests.exceptions.SSLError: HTTPSConnectionPool(host='us.i.posthog.com', port=443): Max retries exceeded with url: /batch/ (Caused by SSLError(SSLCertVerificationError(1, '[SSL: CERTIFICATE_VERIFY_FAILED] certificate verify failed: unable to get local issuer certificate (_ssl.c:1000)'))))\n"
     ]
    }
   ],
   "source": [
    "import warnings\n",
    "import urllib3\n",
    "urllib3.disable_warnings(urllib3.exceptions.InsecureRequestWarning)\n",
    "\n",
    "# Set logging level to reduce noise\n",
    "import logging\n",
    "logging.getLogger(\"urllib3.connectionpool\").setLevel(logging.ERROR)\n",
    "logging.getLogger(\"backoff\").setLevel(logging.ERROR)\n",
    "\n",
    "import req_to_testplan_rag\n",
    "importlib.reload(req_to_testplan_rag)\n",
    "\n",
    "#clearing any existing capability statements from vector database\n",
    "req_to_testplan_rag.clear_capability_collection(\"capability_statements\")"
   ]
  },
  {
   "cell_type": "code",
   "execution_count": null,
   "id": "a668d468",
   "metadata": {},
   "outputs": [
    {
     "name": "stderr",
     "output_type": "stream",
     "text": [
      "INFO:llm_utils:Starting test plan generation with claude for Plan-Net IG\n",
      "INFO:llm_utils:Parsed 19 requirements from /Users/ceadams/Documents/onclaive/onclaive/pipeline/checkpoints/revised_reqs_extraction/claude_reqs_list_v2_20250730_122703.md\n",
      "INFO:llm_utils:Initialized capability collection from ../full-ig/markdown7_cleaned/CapabilityStatement_plan_net.md\n",
      "INFO:llm_utils:Identifying group for requirement REQ-01 using claude...\n",
      "INFO:llm_utils:Identifying group for requirement REQ-02 using claude...\n",
      "ERROR:backoff:Giving up send_request(...) after 4 tries (requests.exceptions.SSLError: HTTPSConnectionPool(host='us.i.posthog.com', port=443): Max retries exceeded with url: /batch/ (Caused by SSLError(SSLCertVerificationError(1, '[SSL: CERTIFICATE_VERIFY_FAILED] certificate verify failed: unable to get local issuer certificate (_ssl.c:1000)'))))\n",
      "INFO:llm_utils:Identifying group for requirement REQ-03 using claude...\n",
      "INFO:llm_utils:Identifying group for requirement REQ-04 using claude...\n",
      "INFO:llm_utils:Identifying group for requirement REQ-05 using claude...\n",
      "ERROR:backoff:Giving up send_request(...) after 4 tries (requests.exceptions.SSLError: HTTPSConnectionPool(host='us.i.posthog.com', port=443): Max retries exceeded with url: /batch/ (Caused by SSLError(SSLCertVerificationError(1, '[SSL: CERTIFICATE_VERIFY_FAILED] certificate verify failed: unable to get local issuer certificate (_ssl.c:1000)'))))\n",
      "INFO:llm_utils:Identifying group for requirement REQ-06 using claude...\n",
      "INFO:llm_utils:Identifying group for requirement REQ-07 using claude...\n",
      "INFO:llm_utils:Identifying group for requirement REQ-08 using claude...\n",
      "INFO:llm_utils:Identifying group for requirement REQ-09 using claude...\n",
      "INFO:llm_utils:Identifying group for requirement REQ-10 using claude...\n",
      "INFO:llm_utils:Identifying group for requirement REQ-11 using claude...\n",
      "INFO:llm_utils:Identifying group for requirement REQ-12 using claude...\n",
      "INFO:llm_utils:Identifying group for requirement REQ-13 using claude...\n",
      "INFO:llm_utils:Identifying group for requirement REQ-14 using claude...\n",
      "INFO:llm_utils:Identifying group for requirement REQ-15 using claude...\n",
      "INFO:llm_utils:Identifying group for requirement REQ-16 using claude...\n",
      "INFO:llm_utils:Identifying group for requirement REQ-17 using claude...\n",
      "INFO:llm_utils:Identifying group for requirement REQ-18 using claude...\n",
      "INFO:llm_utils:Identifying group for requirement REQ-19 using claude...\n",
      "INFO:llm_utils:Requirements grouped into 4 categories\n",
      "INFO:llm_utils:Group 'Privacy': 2 requirements\n",
      "INFO:llm_utils:Group 'General/Cross-Resource': 15 requirements\n",
      "INFO:llm_utils:Group 'Security': 1 requirements\n",
      "INFO:llm_utils:Group 'Plan-Net HealthcareService': 1 requirements\n",
      "INFO:llm_utils:Processing requirement for group 'General/Cross-Resource': REQ-03\n",
      "INFO:llm_utils:Generating test specification for REQ-03 using claude...\n"
     ]
    },
    {
     "name": "stdout",
     "output_type": "stream",
     "text": [
      "\n",
      "Processing Group: General/Cross-Resource (15 requirements)\n",
      "\n",
      "Processing REQ-03: Health Plan API Must Support data population capability\n",
      "\n",
      "================================================================================\n",
      "RAG RETRIEVAL FOR REQ-03\n",
      "================================================================================\n",
      "Query: Health Plan API Must Support data population capability \"Health Plan API actors SHALL be capable of populating all Must Support data elements as part of the query results.\" Health Plan API FHIR SHALL\n",
      "Searching for 5 most relevant capability chunks...\n",
      "\n",
      "Found 5 matching chunks:\n",
      "\n",
      "  Match 1 (distance: 0.7221184968948364):\n",
      "  Length: 3036 chars\n",
      "  Preview: FHIR Resource Detail: #### HealthcareService\n",
      "\n",
      "Conformance Expectation: **SHALL**\n",
      "\n",
      "Supported Profiles...\n",
      "  ...lthcareService?_lastUpdated=[_lastUpdated]` |\n",
      "\n",
      "---\n",
      "\n",
      "  Match 2 (distance: 0.7407464981079102):\n",
      "  Length: 3288 chars\n",
      "  Preview: FHIR Resource/Component: ### RESTful Capabilities by Resource/Profile:\n",
      "\n",
      "**Summary of Search Criteria...\n",
      "  ...nerRole:network, PractitionerRole:endpoint |  |  |\n",
      "\n",
      "  Match 3 (distance: 0.8931890726089478):\n",
      "  Length: 3225 chars\n",
      "  Preview: FHIR Resource Detail: #### Organization\n",
      "\n",
      "Conformance Expectation: **SHALL**\n",
      "\n",
      "Supported Profiles:\n",
      "\n",
      " [...\n",
      "  ...Organization?coverage-area=[coverage-area]` |\n",
      "\n",
      "---\n",
      "\n",
      "  Match 4 (distance: 0.9035460352897644):\n",
      "  Length: 996 chars\n",
      "  Preview: FHIR Major Section: ## CapabilityStatement: Plan\\-Net CapabilityStatement\n",
      "\n",
      "| *Official URL*: http://...\n",
      "  ...openapi.json) \\| [Download](plan-net.openapi.json)\n",
      "\n",
      "  Match 5 (distance: 0.9197363257408142):\n",
      "  Length: 2302 chars\n",
      "  Preview: FHIR Resource Detail: #### InsurancePlan\n",
      "\n",
      "Conformance Expectation: **SHALL**\n",
      "\n",
      "Supported Profiles:\n",
      "\n",
      " ...\n",
      "  ... [base]/InsurancePlan?type=[system]|[code]` |\n",
      "\n",
      "---\n",
      "================================================================================\n",
      "\n",
      "Sending request to CLAUDE API...\n"
     ]
    },
    {
     "name": "stderr",
     "output_type": "stream",
     "text": [
      "ERROR:backoff:Giving up send_request(...) after 4 tries (requests.exceptions.SSLError: HTTPSConnectionPool(host='us.i.posthog.com', port=443): Max retries exceeded with url: /batch/ (Caused by SSLError(SSLCertVerificationError(1, '[SSL: CERTIFICATE_VERIFY_FAILED] certificate verify failed: unable to get local issuer certificate (_ssl.c:1000)'))))\n"
     ]
    },
    {
     "name": "stdout",
     "output_type": "stream",
     "text": [
      "Completed test specification for REQ-03\n"
     ]
    },
    {
     "name": "stderr",
     "output_type": "stream",
     "text": [
      "INFO:llm_utils:Processing requirement for group 'General/Cross-Resource': REQ-04\n",
      "INFO:llm_utils:Generating test specification for REQ-04 using claude...\n"
     ]
    },
    {
     "name": "stdout",
     "output_type": "stream",
     "text": [
      "\n",
      "Processing REQ-04: Health Plan API missing data element exclusion\n",
      "\n",
      "================================================================================\n",
      "RAG RETRIEVAL FOR REQ-04\n",
      "================================================================================\n",
      "Query: Health Plan API missing data element exclusion \"In situations where information on a particular Must Support data element is not present and the minimum cardinality is 0, the Health Plan API actors SHALL NOT include the data elements in the resource instance returned as part of the query results.\" Health Plan API FHIR SHALL NOT\n",
      "Searching for 5 most relevant capability chunks...\n",
      "\n",
      "Found 5 matching chunks:\n",
      "\n",
      "  Match 1 (distance: 0.8133128881454468):\n",
      "  Length: 3036 chars\n",
      "  Preview: FHIR Resource Detail: #### HealthcareService\n",
      "\n",
      "Conformance Expectation: **SHALL**\n",
      "\n",
      "Supported Profiles...\n",
      "  ...lthcareService?_lastUpdated=[_lastUpdated]` |\n",
      "\n",
      "---\n",
      "\n",
      "  Match 2 (distance: 0.8196702599525452):\n",
      "  Length: 3288 chars\n",
      "  Preview: FHIR Resource/Component: ### RESTful Capabilities by Resource/Profile:\n",
      "\n",
      "**Summary of Search Criteria...\n",
      "  ...nerRole:network, PractitionerRole:endpoint |  |  |\n",
      "\n",
      "  Match 3 (distance: 0.8978815078735352):\n",
      "  Length: 2302 chars\n",
      "  Preview: FHIR Resource Detail: #### InsurancePlan\n",
      "\n",
      "Conformance Expectation: **SHALL**\n",
      "\n",
      "Supported Profiles:\n",
      "\n",
      " ...\n",
      "  ... [base]/InsurancePlan?type=[system]|[code]` |\n",
      "\n",
      "---\n",
      "\n",
      "  Match 4 (distance: 0.911388099193573):\n",
      "  Length: 3225 chars\n",
      "  Preview: FHIR Resource Detail: #### Organization\n",
      "\n",
      "Conformance Expectation: **SHALL**\n",
      "\n",
      "Supported Profiles:\n",
      "\n",
      " [...\n",
      "  ...Organization?coverage-area=[coverage-area]` |\n",
      "\n",
      "---\n",
      "\n",
      "  Match 5 (distance: 0.9605564475059509):\n",
      "  Length: 2809 chars\n",
      "  Preview: FHIR Resource Detail: #### Location\n",
      "\n",
      "Conformance Expectation: **SHALL**\n",
      "\n",
      "Supported Profiles:\n",
      "\n",
      " [Plan...\n",
      "  ...base]/Location?_lastUpdated=[_lastUpdated]` |\n",
      "\n",
      "---\n",
      "================================================================================\n",
      "\n",
      "Sending request to CLAUDE API...\n",
      "Completed test specification for REQ-04\n"
     ]
    },
    {
     "name": "stderr",
     "output_type": "stream",
     "text": [
      "INFO:llm_utils:Processing requirement for group 'General/Cross-Resource': REQ-05\n",
      "INFO:llm_utils:Generating test specification for REQ-05 using claude...\n"
     ]
    },
    {
     "name": "stdout",
     "output_type": "stream",
     "text": [
      "\n",
      "Processing REQ-05: Health Plan API missing information reason requirement\n",
      "\n",
      "================================================================================\n",
      "RAG RETRIEVAL FOR REQ-05\n",
      "================================================================================\n",
      "Query: Health Plan API missing information reason requirement \"In situations where information on a particular data element is not present and the minimum cardinality is >0 SHALL send the reason for the missing information using values (such as nullFlavors) from the value set where they exist or use the dataAbsentReason extension.\" Health Plan API FHIR SHALL\n",
      "Searching for 5 most relevant capability chunks...\n",
      "\n",
      "Found 5 matching chunks:\n",
      "\n",
      "  Match 1 (distance: 0.9029258489608765):\n",
      "  Length: 3036 chars\n",
      "  Preview: FHIR Resource Detail: #### HealthcareService\n",
      "\n",
      "Conformance Expectation: **SHALL**\n",
      "\n",
      "Supported Profiles...\n",
      "  ...lthcareService?_lastUpdated=[_lastUpdated]` |\n",
      "\n",
      "---\n",
      "\n",
      "  Match 2 (distance: 0.9266811609268188):\n",
      "  Length: 3288 chars\n",
      "  Preview: FHIR Resource/Component: ### RESTful Capabilities by Resource/Profile:\n",
      "\n",
      "**Summary of Search Criteria...\n",
      "  ...nerRole:network, PractitionerRole:endpoint |  |  |\n",
      "\n",
      "  Match 3 (distance: 0.9644936323165894):\n",
      "  Length: 2302 chars\n",
      "  Preview: FHIR Resource Detail: #### InsurancePlan\n",
      "\n",
      "Conformance Expectation: **SHALL**\n",
      "\n",
      "Supported Profiles:\n",
      "\n",
      " ...\n",
      "  ... [base]/InsurancePlan?type=[system]|[code]` |\n",
      "\n",
      "---\n",
      "\n",
      "  Match 4 (distance: 1.0232651233673096):\n",
      "  Length: 3225 chars\n",
      "  Preview: FHIR Resource Detail: #### Organization\n",
      "\n",
      "Conformance Expectation: **SHALL**\n",
      "\n",
      "Supported Profiles:\n",
      "\n",
      " [...\n",
      "  ...Organization?coverage-area=[coverage-area]` |\n",
      "\n",
      "---\n",
      "\n",
      "  Match 5 (distance: 1.0742599964141846):\n",
      "  Length: 2809 chars\n",
      "  Preview: FHIR Resource Detail: #### Location\n",
      "\n",
      "Conformance Expectation: **SHALL**\n",
      "\n",
      "Supported Profiles:\n",
      "\n",
      " [Plan...\n",
      "  ...base]/Location?_lastUpdated=[_lastUpdated]` |\n",
      "\n",
      "---\n",
      "================================================================================\n",
      "\n",
      "Sending request to CLAUDE API...\n",
      "Completed test specification for REQ-05\n"
     ]
    },
    {
     "name": "stderr",
     "output_type": "stream",
     "text": [
      "INFO:llm_utils:Processing requirement for group 'General/Cross-Resource': REQ-06\n",
      "INFO:llm_utils:Generating test specification for REQ-06 using claude...\n"
     ]
    },
    {
     "name": "stdout",
     "output_type": "stream",
     "text": [
      "\n",
      "Processing REQ-06: Application Must Support data processing capability\n",
      "\n",
      "================================================================================\n",
      "RAG RETRIEVAL FOR REQ-06\n",
      "================================================================================\n",
      "Query: Application Must Support data processing capability \"Application actors SHALL be capable of processing resource instances containing the Must Support data elements without generating an error or causing the application to fail.\" Application FHIR SHALL\n",
      "Searching for 5 most relevant capability chunks...\n",
      "\n",
      "Found 5 matching chunks:\n",
      "\n",
      "  Match 1 (distance: 0.7878591418266296):\n",
      "  Length: 802 chars\n",
      "  Preview: FHIR Major Section: ## Plan\\-Net CapabilityStatement\n",
      "\n",
      "* Implementation Guide Version: 1\\.0\\.0\n",
      "* FHIR...\n",
      "  ...local use cases and other contextual requirements.\n",
      "\n",
      "  Match 2 (distance: 0.9288669228553772):\n",
      "  Length: 996 chars\n",
      "  Preview: FHIR Major Section: ## CapabilityStatement: Plan\\-Net CapabilityStatement\n",
      "\n",
      "| *Official URL*: http://...\n",
      "  ...openapi.json) \\| [Download](plan-net.openapi.json)\n",
      "\n",
      "  Match 3 (distance: 0.9662339687347412):\n",
      "  Length: 1169 chars\n",
      "  Preview: FHIR Resource/Component: ### FHIR RESTful Capabilities\n",
      "\n",
      "The Plan\\-Net Server **SHALL**:\n",
      "\n",
      "1. Support ...\n",
      "  ...eturning an `HTTP 401` unauthorized response code.\n",
      "\n",
      "  Match 4 (distance: 0.9697123169898987):\n",
      "  Length: 3225 chars\n",
      "  Preview: FHIR Resource Detail: #### Organization\n",
      "\n",
      "Conformance Expectation: **SHALL**\n",
      "\n",
      "Supported Profiles:\n",
      "\n",
      " [...\n",
      "  ...Organization?coverage-area=[coverage-area]` |\n",
      "\n",
      "---\n",
      "\n",
      "  Match 5 (distance: 0.9856300354003906):\n",
      "  Length: 2854 chars\n",
      "  Preview: FHIR Resource Detail: #### PractitionerRole\n",
      "\n",
      "Conformance Expectation: **SHALL**\n",
      "\n",
      "Supported Profiles:...\n",
      "  ...actitionerRole?_lastUpdated=[_lastUpdated]` |\n",
      "\n",
      "---\n",
      "================================================================================\n",
      "\n",
      "Sending request to CLAUDE API...\n",
      "Completed test specification for REQ-06\n"
     ]
    },
    {
     "name": "stderr",
     "output_type": "stream",
     "text": [
      "INFO:llm_utils:Processing requirement for group 'General/Cross-Resource': REQ-07\n",
      "INFO:llm_utils:Generating test specification for REQ-07 using claude...\n"
     ]
    },
    {
     "name": "stdout",
     "output_type": "stream",
     "text": [
      "\n",
      "Processing REQ-07: Application data display capability\n",
      "\n",
      "================================================================================\n",
      "RAG RETRIEVAL FOR REQ-07\n",
      "================================================================================\n",
      "Query: Application data display capability \"Application actors SHOULD be capable of displaying the data elements for human use or storing the information for other purposes.\" Application FHIR SHOULD\n",
      "Searching for 5 most relevant capability chunks...\n",
      "\n",
      "Found 5 matching chunks:\n",
      "\n",
      "  Match 1 (distance: 0.9109271764755249):\n",
      "  Length: 802 chars\n",
      "  Preview: FHIR Major Section: ## Plan\\-Net CapabilityStatement\n",
      "\n",
      "* Implementation Guide Version: 1\\.0\\.0\n",
      "* FHIR...\n",
      "  ...local use cases and other contextual requirements.\n",
      "\n",
      "  Match 2 (distance: 1.0563591718673706):\n",
      "  Length: 996 chars\n",
      "  Preview: FHIR Major Section: ## CapabilityStatement: Plan\\-Net CapabilityStatement\n",
      "\n",
      "| *Official URL*: http://...\n",
      "  ...openapi.json) \\| [Download](plan-net.openapi.json)\n",
      "\n",
      "  Match 3 (distance: 1.068983793258667):\n",
      "  Length: 603 chars\n",
      "  Preview: FHIR Document Title: # CapabilityStatement: Plan\\-Net CapabilityStatement\n",
      "\n",
      "* [**Table of Contents**]...\n",
      "  ...x-plan-net/history.html)\n",
      "\n",
      "* [Narrative Content](#)\n",
      "\n",
      "  Match 4 (distance: 1.0850831270217896):\n",
      "  Length: 2854 chars\n",
      "  Preview: FHIR Resource Detail: #### PractitionerRole\n",
      "\n",
      "Conformance Expectation: **SHALL**\n",
      "\n",
      "Supported Profiles:...\n",
      "  ...actitionerRole?_lastUpdated=[_lastUpdated]` |\n",
      "\n",
      "---\n",
      "\n",
      "  Match 5 (distance: 1.1521000862121582):\n",
      "  Length: 3225 chars\n",
      "  Preview: FHIR Resource Detail: #### Organization\n",
      "\n",
      "Conformance Expectation: **SHALL**\n",
      "\n",
      "Supported Profiles:\n",
      "\n",
      " [...\n",
      "  ...Organization?coverage-area=[coverage-area]` |\n",
      "\n",
      "---\n",
      "================================================================================\n",
      "\n",
      "Sending request to CLAUDE API...\n",
      "Completed test specification for REQ-07\n"
     ]
    },
    {
     "name": "stderr",
     "output_type": "stream",
     "text": [
      "INFO:llm_utils:Processing requirement for group 'General/Cross-Resource': REQ-08\n",
      "INFO:llm_utils:Generating test specification for REQ-08 using claude...\n"
     ]
    },
    {
     "name": "stdout",
     "output_type": "stream",
     "text": [
      "\n",
      "Processing REQ-08: Application missing data interpretation requirement\n",
      "\n",
      "================================================================================\n",
      "RAG RETRIEVAL FOR REQ-08\n",
      "================================================================================\n",
      "Query: Application missing data interpretation requirement \"When querying Health Plan API actors, Application actors SHALL interpret missing Must Support data elements within resource instances as data not present in the Health Plan API actors system.\" Application FHIR SHALL\n",
      "Searching for 5 most relevant capability chunks...\n",
      "\n",
      "Found 5 matching chunks:\n",
      "\n",
      "  Match 1 (distance: 0.7869606614112854):\n",
      "  Length: 3036 chars\n",
      "  Preview: FHIR Resource Detail: #### HealthcareService\n",
      "\n",
      "Conformance Expectation: **SHALL**\n",
      "\n",
      "Supported Profiles...\n",
      "  ...lthcareService?_lastUpdated=[_lastUpdated]` |\n",
      "\n",
      "---\n",
      "\n",
      "  Match 2 (distance: 0.8035112619400024):\n",
      "  Length: 3288 chars\n",
      "  Preview: FHIR Resource/Component: ### RESTful Capabilities by Resource/Profile:\n",
      "\n",
      "**Summary of Search Criteria...\n",
      "  ...nerRole:network, PractitionerRole:endpoint |  |  |\n",
      "\n",
      "  Match 3 (distance: 0.8775110244750977):\n",
      "  Length: 3225 chars\n",
      "  Preview: FHIR Resource Detail: #### Organization\n",
      "\n",
      "Conformance Expectation: **SHALL**\n",
      "\n",
      "Supported Profiles:\n",
      "\n",
      " [...\n",
      "  ...Organization?coverage-area=[coverage-area]` |\n",
      "\n",
      "---\n",
      "\n",
      "  Match 4 (distance: 0.9003857970237732):\n",
      "  Length: 2302 chars\n",
      "  Preview: FHIR Resource Detail: #### InsurancePlan\n",
      "\n",
      "Conformance Expectation: **SHALL**\n",
      "\n",
      "Supported Profiles:\n",
      "\n",
      " ...\n",
      "  ... [base]/InsurancePlan?type=[system]|[code]` |\n",
      "\n",
      "---\n",
      "\n",
      "  Match 5 (distance: 0.9378758668899536):\n",
      "  Length: 2809 chars\n",
      "  Preview: FHIR Resource Detail: #### Location\n",
      "\n",
      "Conformance Expectation: **SHALL**\n",
      "\n",
      "Supported Profiles:\n",
      "\n",
      " [Plan...\n",
      "  ...base]/Location?_lastUpdated=[_lastUpdated]` |\n",
      "\n",
      "---\n",
      "================================================================================\n",
      "\n",
      "Sending request to CLAUDE API...\n",
      "Completed test specification for REQ-08\n"
     ]
    },
    {
     "name": "stderr",
     "output_type": "stream",
     "text": [
      "INFO:llm_utils:Processing requirement for group 'General/Cross-Resource': REQ-09\n",
      "INFO:llm_utils:Generating test specification for REQ-09 using claude...\n"
     ]
    },
    {
     "name": "stdout",
     "output_type": "stream",
     "text": [
      "\n",
      "Processing REQ-09: Consumer App missing information processing capability\n",
      "\n",
      "================================================================================\n",
      "RAG RETRIEVAL FOR REQ-09\n",
      "================================================================================\n",
      "Query: Consumer App missing information processing capability \"Consumer App actors SHALL be able to process resource instances containing Must Support data elements asserting missing information.\" Consumer App FHIR SHALL\n",
      "Searching for 5 most relevant capability chunks...\n",
      "\n",
      "Found 5 matching chunks:\n",
      "\n",
      "  Match 1 (distance: 0.9663683176040649):\n",
      "  Length: 802 chars\n",
      "  Preview: FHIR Major Section: ## Plan\\-Net CapabilityStatement\n",
      "\n",
      "* Implementation Guide Version: 1\\.0\\.0\n",
      "* FHIR...\n",
      "  ...local use cases and other contextual requirements.\n",
      "\n",
      "  Match 2 (distance: 0.9810687303543091):\n",
      "  Length: 996 chars\n",
      "  Preview: FHIR Major Section: ## CapabilityStatement: Plan\\-Net CapabilityStatement\n",
      "\n",
      "| *Official URL*: http://...\n",
      "  ...openapi.json) \\| [Download](plan-net.openapi.json)\n",
      "\n",
      "  Match 3 (distance: 1.033816933631897):\n",
      "  Length: 2854 chars\n",
      "  Preview: FHIR Resource Detail: #### PractitionerRole\n",
      "\n",
      "Conformance Expectation: **SHALL**\n",
      "\n",
      "Supported Profiles:...\n",
      "  ...actitionerRole?_lastUpdated=[_lastUpdated]` |\n",
      "\n",
      "---\n",
      "\n",
      "  Match 4 (distance: 1.0360426902770996):\n",
      "  Length: 3225 chars\n",
      "  Preview: FHIR Resource Detail: #### Organization\n",
      "\n",
      "Conformance Expectation: **SHALL**\n",
      "\n",
      "Supported Profiles:\n",
      "\n",
      " [...\n",
      "  ...Organization?coverage-area=[coverage-area]` |\n",
      "\n",
      "---\n",
      "\n",
      "  Match 5 (distance: 1.0530052185058594):\n",
      "  Length: 3288 chars\n",
      "  Preview: FHIR Resource/Component: ### RESTful Capabilities by Resource/Profile:\n",
      "\n",
      "**Summary of Search Criteria...\n",
      "  ...nerRole:network, PractitionerRole:endpoint |  |  |\n",
      "================================================================================\n",
      "\n",
      "Sending request to CLAUDE API...\n",
      "Completed test specification for REQ-09\n"
     ]
    },
    {
     "name": "stderr",
     "output_type": "stream",
     "text": [
      "INFO:llm_utils:Processing requirement for group 'General/Cross-Resource': REQ-10\n",
      "INFO:llm_utils:Generating test specification for REQ-10 using claude...\n"
     ]
    },
    {
     "name": "stdout",
     "output_type": "stream",
     "text": [
      "\n",
      "Processing REQ-10: Plan-Net Server profile support\n",
      "\n",
      "================================================================================\n",
      "RAG RETRIEVAL FOR REQ-10\n",
      "================================================================================\n",
      "Query: Plan-Net Server profile support \"The Plan-Net Server SHALL: Support all profiles defined in this Implementation Guide.\" Plan-Net Server FHIR SHALL\n",
      "Searching for 5 most relevant capability chunks...\n",
      "\n",
      "Found 5 matching chunks:\n",
      "\n",
      "  Match 1 (distance: 0.7196947932243347):\n",
      "  Length: 802 chars\n",
      "  Preview: FHIR Major Section: ## Plan\\-Net CapabilityStatement\n",
      "\n",
      "* Implementation Guide Version: 1\\.0\\.0\n",
      "* FHIR...\n",
      "  ...local use cases and other contextual requirements.\n",
      "\n",
      "  Match 2 (distance: 0.7957321405410767):\n",
      "  Length: 996 chars\n",
      "  Preview: FHIR Major Section: ## CapabilityStatement: Plan\\-Net CapabilityStatement\n",
      "\n",
      "| *Official URL*: http://...\n",
      "  ...openapi.json) \\| [Download](plan-net.openapi.json)\n",
      "\n",
      "  Match 3 (distance: 0.8047237396240234):\n",
      "  Length: 3225 chars\n",
      "  Preview: FHIR Resource Detail: #### Organization\n",
      "\n",
      "Conformance Expectation: **SHALL**\n",
      "\n",
      "Supported Profiles:\n",
      "\n",
      " [...\n",
      "  ...Organization?coverage-area=[coverage-area]` |\n",
      "\n",
      "---\n",
      "\n",
      "  Match 4 (distance: 0.8337710499763489):\n",
      "  Length: 1169 chars\n",
      "  Preview: FHIR Resource/Component: ### FHIR RESTful Capabilities\n",
      "\n",
      "The Plan\\-Net Server **SHALL**:\n",
      "\n",
      "1. Support ...\n",
      "  ...eturning an `HTTP 401` unauthorized response code.\n",
      "\n",
      "  Match 5 (distance: 0.8872054815292358):\n",
      "  Length: 3291 chars\n",
      "  Preview: FHIR Resource Detail: #### OrganizationAffiliation\n",
      "\n",
      "Conformance Expectation: **SHALL**\n",
      "\n",
      "Supported Pr...\n",
      "  ...ionAffiliation?_lastUpdated=[_lastUpdated]` |\n",
      "\n",
      "---\n",
      "================================================================================\n",
      "\n",
      "Sending request to CLAUDE API...\n",
      "Completed test specification for REQ-10\n"
     ]
    },
    {
     "name": "stderr",
     "output_type": "stream",
     "text": [
      "INFO:llm_utils:Processing requirement for group 'General/Cross-Resource': REQ-11\n",
      "INFO:llm_utils:Generating test specification for REQ-11 using claude...\n"
     ]
    },
    {
     "name": "stdout",
     "output_type": "stream",
     "text": [
      "\n",
      "Processing REQ-11: Plan-Net Server RESTful behavior implementation\n",
      "\n",
      "================================================================================\n",
      "RAG RETRIEVAL FOR REQ-11\n",
      "================================================================================\n",
      "Query: Plan-Net Server RESTful behavior implementation \"The Plan-Net Server SHALL: Implement the RESTful behavior according to the FHIR specification.\" Plan-Net Server FHIR SHALL\n",
      "Searching for 5 most relevant capability chunks...\n",
      "\n",
      "Found 5 matching chunks:\n",
      "\n",
      "  Match 1 (distance: 0.402856707572937):\n",
      "  Length: 1169 chars\n",
      "  Preview: FHIR Resource/Component: ### FHIR RESTful Capabilities\n",
      "\n",
      "The Plan\\-Net Server **SHALL**:\n",
      "\n",
      "1. Support ...\n",
      "  ...eturning an `HTTP 401` unauthorized response code.\n",
      "\n",
      "  Match 2 (distance: 0.5020473003387451):\n",
      "  Length: 802 chars\n",
      "  Preview: FHIR Major Section: ## Plan\\-Net CapabilityStatement\n",
      "\n",
      "* Implementation Guide Version: 1\\.0\\.0\n",
      "* FHIR...\n",
      "  ...local use cases and other contextual requirements.\n",
      "\n",
      "  Match 3 (distance: 0.5936377048492432):\n",
      "  Length: 996 chars\n",
      "  Preview: FHIR Major Section: ## CapabilityStatement: Plan\\-Net CapabilityStatement\n",
      "\n",
      "| *Official URL*: http://...\n",
      "  ...openapi.json) \\| [Download](plan-net.openapi.json)\n",
      "\n",
      "  Match 4 (distance: 0.634201169013977):\n",
      "  Length: 3288 chars\n",
      "  Preview: FHIR Resource/Component: ### RESTful Capabilities by Resource/Profile:\n",
      "\n",
      "**Summary of Search Criteria...\n",
      "  ...nerRole:network, PractitionerRole:endpoint |  |  |\n",
      "\n",
      "  Match 5 (distance: 0.7178943753242493):\n",
      "  Length: 1184 chars\n",
      "  Preview: FHIR Resource Detail: #### Endpoint\n",
      "\n",
      "Conformance Expectation: **SHALL**\n",
      "\n",
      "Supported Profiles:\n",
      "\n",
      " [Plan...\n",
      "  ...base]/Endpoint?_lastUpdated=[_lastUpdated]` |\n",
      "\n",
      "---\n",
      "================================================================================\n",
      "\n",
      "Sending request to CLAUDE API...\n",
      "Completed test specification for REQ-11\n"
     ]
    },
    {
     "name": "stderr",
     "output_type": "stream",
     "text": [
      "INFO:llm_utils:Processing requirement for group 'General/Cross-Resource': REQ-12\n",
      "INFO:llm_utils:Generating test specification for REQ-12 using claude...\n"
     ]
    },
    {
     "name": "stdout",
     "output_type": "stream",
     "text": [
      "\n",
      "Processing REQ-12: Plan-Net Server response classes\n",
      "\n",
      "================================================================================\n",
      "RAG RETRIEVAL FOR REQ-12\n",
      "================================================================================\n",
      "Query: Plan-Net Server response classes \"The Plan-Net Server SHALL: Return the following response classes: (Status 400): invalid parameter; (Status 401/4xx): unauthorized request; (Status 403): insufficient scope; (Status 404): unknown resource; (Status 410): deleted resource.\" Plan-Net Server FHIR SHALL\n",
      "Searching for 5 most relevant capability chunks...\n",
      "\n",
      "Found 5 matching chunks:\n",
      "\n",
      "  Match 1 (distance: 0.5708727240562439):\n",
      "  Length: 1169 chars\n",
      "  Preview: FHIR Resource/Component: ### FHIR RESTful Capabilities\n",
      "\n",
      "The Plan\\-Net Server **SHALL**:\n",
      "\n",
      "1. Support ...\n",
      "  ...eturning an `HTTP 401` unauthorized response code.\n",
      "\n",
      "  Match 2 (distance: 0.764784574508667):\n",
      "  Length: 996 chars\n",
      "  Preview: FHIR Major Section: ## CapabilityStatement: Plan\\-Net CapabilityStatement\n",
      "\n",
      "| *Official URL*: http://...\n",
      "  ...openapi.json) \\| [Download](plan-net.openapi.json)\n",
      "\n",
      "  Match 3 (distance: 0.7849286794662476):\n",
      "  Length: 802 chars\n",
      "  Preview: FHIR Major Section: ## Plan\\-Net CapabilityStatement\n",
      "\n",
      "* Implementation Guide Version: 1\\.0\\.0\n",
      "* FHIR...\n",
      "  ...local use cases and other contextual requirements.\n",
      "\n",
      "  Match 4 (distance: 0.8623014688491821):\n",
      "  Length: 3291 chars\n",
      "  Preview: FHIR Resource Detail: #### OrganizationAffiliation\n",
      "\n",
      "Conformance Expectation: **SHALL**\n",
      "\n",
      "Supported Pr...\n",
      "  ...ionAffiliation?_lastUpdated=[_lastUpdated]` |\n",
      "\n",
      "---\n",
      "\n",
      "  Match 5 (distance: 0.8780801296234131):\n",
      "  Length: 3288 chars\n",
      "  Preview: FHIR Resource/Component: ### RESTful Capabilities by Resource/Profile:\n",
      "\n",
      "**Summary of Search Criteria...\n",
      "  ...nerRole:network, PractitionerRole:endpoint |  |  |\n",
      "================================================================================\n",
      "\n",
      "Sending request to CLAUDE API...\n",
      "Completed test specification for REQ-12\n"
     ]
    },
    {
     "name": "stderr",
     "output_type": "stream",
     "text": [
      "INFO:llm_utils:Processing requirement for group 'General/Cross-Resource': REQ-13\n",
      "INFO:llm_utils:Generating test specification for REQ-13 using claude...\n"
     ]
    },
    {
     "name": "stdout",
     "output_type": "stream",
     "text": [
      "\n",
      "Processing REQ-13: Plan-Net Server JSON format support\n",
      "\n",
      "================================================================================\n",
      "RAG RETRIEVAL FOR REQ-13\n",
      "================================================================================\n",
      "Query: Plan-Net Server JSON format support \"The Plan-Net Server SHALL: Support json source formats for all Plan-Net interactions.\" Plan-Net Server FHIR SHALL\n",
      "Searching for 5 most relevant capability chunks...\n",
      "\n",
      "Found 5 matching chunks:\n",
      "\n",
      "  Match 1 (distance: 0.807853102684021):\n",
      "  Length: 996 chars\n",
      "  Preview: FHIR Major Section: ## CapabilityStatement: Plan\\-Net CapabilityStatement\n",
      "\n",
      "| *Official URL*: http://...\n",
      "  ...openapi.json) \\| [Download](plan-net.openapi.json)\n",
      "\n",
      "  Match 2 (distance: 0.8553909063339233):\n",
      "  Length: 1169 chars\n",
      "  Preview: FHIR Resource/Component: ### FHIR RESTful Capabilities\n",
      "\n",
      "The Plan\\-Net Server **SHALL**:\n",
      "\n",
      "1. Support ...\n",
      "  ...eturning an `HTTP 401` unauthorized response code.\n",
      "\n",
      "  Match 3 (distance: 0.8710610866546631):\n",
      "  Length: 802 chars\n",
      "  Preview: FHIR Major Section: ## Plan\\-Net CapabilityStatement\n",
      "\n",
      "* Implementation Guide Version: 1\\.0\\.0\n",
      "* FHIR...\n",
      "  ...local use cases and other contextual requirements.\n",
      "\n",
      "  Match 4 (distance: 0.9815592765808105):\n",
      "  Length: 3288 chars\n",
      "  Preview: FHIR Resource/Component: ### RESTful Capabilities by Resource/Profile:\n",
      "\n",
      "**Summary of Search Criteria...\n",
      "  ...nerRole:network, PractitionerRole:endpoint |  |  |\n",
      "\n",
      "  Match 5 (distance: 1.0066852569580078):\n",
      "  Length: 3225 chars\n",
      "  Preview: FHIR Resource Detail: #### Organization\n",
      "\n",
      "Conformance Expectation: **SHALL**\n",
      "\n",
      "Supported Profiles:\n",
      "\n",
      " [...\n",
      "  ...Organization?coverage-area=[coverage-area]` |\n",
      "\n",
      "---\n",
      "================================================================================\n",
      "\n",
      "Sending request to CLAUDE API...\n",
      "Completed test specification for REQ-13\n"
     ]
    },
    {
     "name": "stderr",
     "output_type": "stream",
     "text": [
      "INFO:llm_utils:Processing requirement for group 'General/Cross-Resource': REQ-14\n",
      "INFO:llm_utils:Generating test specification for REQ-14 using claude...\n"
     ]
    },
    {
     "name": "stdout",
     "output_type": "stream",
     "text": [
      "\n",
      "Processing REQ-14: Plan-Net Server profile identification\n",
      "\n",
      "================================================================================\n",
      "RAG RETRIEVAL FOR REQ-14\n",
      "================================================================================\n",
      "Query: Plan-Net Server profile identification \"The Plan-Net Server SHALL: Identify the Plan-Net profiles supported as part of the FHIR `meta.profile` attribute for each instance.\" Plan-Net Server FHIR SHALL\n",
      "Searching for 5 most relevant capability chunks...\n",
      "\n",
      "Found 5 matching chunks:\n",
      "\n",
      "  Match 1 (distance: 0.7986505031585693):\n",
      "  Length: 802 chars\n",
      "  Preview: FHIR Major Section: ## Plan\\-Net CapabilityStatement\n",
      "\n",
      "* Implementation Guide Version: 1\\.0\\.0\n",
      "* FHIR...\n",
      "  ...local use cases and other contextual requirements.\n",
      "\n",
      "  Match 2 (distance: 0.8021136522293091):\n",
      "  Length: 1169 chars\n",
      "  Preview: FHIR Resource/Component: ### FHIR RESTful Capabilities\n",
      "\n",
      "The Plan\\-Net Server **SHALL**:\n",
      "\n",
      "1. Support ...\n",
      "  ...eturning an `HTTP 401` unauthorized response code.\n",
      "\n",
      "  Match 3 (distance: 0.8742940425872803):\n",
      "  Length: 3225 chars\n",
      "  Preview: FHIR Resource Detail: #### Organization\n",
      "\n",
      "Conformance Expectation: **SHALL**\n",
      "\n",
      "Supported Profiles:\n",
      "\n",
      " [...\n",
      "  ...Organization?coverage-area=[coverage-area]` |\n",
      "\n",
      "---\n",
      "\n",
      "  Match 4 (distance: 0.8986352682113647):\n",
      "  Length: 996 chars\n",
      "  Preview: FHIR Major Section: ## CapabilityStatement: Plan\\-Net CapabilityStatement\n",
      "\n",
      "| *Official URL*: http://...\n",
      "  ...openapi.json) \\| [Download](plan-net.openapi.json)\n",
      "\n",
      "  Match 5 (distance: 0.9319689869880676):\n",
      "  Length: 3291 chars\n",
      "  Preview: FHIR Resource Detail: #### OrganizationAffiliation\n",
      "\n",
      "Conformance Expectation: **SHALL**\n",
      "\n",
      "Supported Pr...\n",
      "  ...ionAffiliation?_lastUpdated=[_lastUpdated]` |\n",
      "\n",
      "---\n",
      "================================================================================\n",
      "\n",
      "Sending request to CLAUDE API...\n",
      "Completed test specification for REQ-14\n"
     ]
    },
    {
     "name": "stderr",
     "output_type": "stream",
     "text": [
      "INFO:llm_utils:Processing requirement for group 'General/Cross-Resource': REQ-15\n",
      "INFO:llm_utils:Generating test specification for REQ-15 using claude...\n"
     ]
    },
    {
     "name": "stdout",
     "output_type": "stream",
     "text": [
      "\n",
      "Processing REQ-15: Plan-Net Server search parameter support\n",
      "\n",
      "================================================================================\n",
      "RAG RETRIEVAL FOR REQ-15\n",
      "================================================================================\n",
      "Query: Plan-Net Server search parameter support \"The Plan-Net Server SHALL: Support the searchParameters on each profile individually and in combination.\" Plan-Net Server FHIR SHALL\n",
      "Searching for 5 most relevant capability chunks...\n",
      "\n",
      "Found 5 matching chunks:\n",
      "\n",
      "  Match 1 (distance: 0.7607966661453247):\n",
      "  Length: 2302 chars\n",
      "  Preview: FHIR Resource Detail: #### InsurancePlan\n",
      "\n",
      "Conformance Expectation: **SHALL**\n",
      "\n",
      "Supported Profiles:\n",
      "\n",
      " ...\n",
      "  ... [base]/InsurancePlan?type=[system]|[code]` |\n",
      "\n",
      "---\n",
      "\n",
      "  Match 2 (distance: 0.7741947770118713):\n",
      "  Length: 1184 chars\n",
      "  Preview: FHIR Resource Detail: #### Endpoint\n",
      "\n",
      "Conformance Expectation: **SHALL**\n",
      "\n",
      "Supported Profiles:\n",
      "\n",
      " [Plan...\n",
      "  ...base]/Endpoint?_lastUpdated=[_lastUpdated]` |\n",
      "\n",
      "---\n",
      "\n",
      "  Match 3 (distance: 0.8080031871795654):\n",
      "  Length: 3225 chars\n",
      "  Preview: FHIR Resource Detail: #### Organization\n",
      "\n",
      "Conformance Expectation: **SHALL**\n",
      "\n",
      "Supported Profiles:\n",
      "\n",
      " [...\n",
      "  ...Organization?coverage-area=[coverage-area]` |\n",
      "\n",
      "---\n",
      "\n",
      "  Match 4 (distance: 0.815399169921875):\n",
      "  Length: 802 chars\n",
      "  Preview: FHIR Major Section: ## Plan\\-Net CapabilityStatement\n",
      "\n",
      "* Implementation Guide Version: 1\\.0\\.0\n",
      "* FHIR...\n",
      "  ...local use cases and other contextual requirements.\n",
      "\n",
      "  Match 5 (distance: 0.8378009796142578):\n",
      "  Length: 996 chars\n",
      "  Preview: FHIR Major Section: ## CapabilityStatement: Plan\\-Net CapabilityStatement\n",
      "\n",
      "| *Official URL*: http://...\n",
      "  ...openapi.json) \\| [Download](plan-net.openapi.json)\n",
      "================================================================================\n",
      "\n",
      "Sending request to CLAUDE API...\n",
      "Completed test specification for REQ-15\n"
     ]
    },
    {
     "name": "stderr",
     "output_type": "stream",
     "text": [
      "INFO:llm_utils:Processing requirement for group 'General/Cross-Resource': REQ-16\n",
      "INFO:llm_utils:Generating test specification for REQ-16 using claude...\n"
     ]
    },
    {
     "name": "stdout",
     "output_type": "stream",
     "text": [
      "\n",
      "Processing REQ-16: Plan-Net Server chaining support\n",
      "\n",
      "================================================================================\n",
      "RAG RETRIEVAL FOR REQ-16\n",
      "================================================================================\n",
      "Query: Plan-Net Server chaining support \"The Plan-Net Server SHALL: Support forward and reverse chaining on all search parameters that specify the 'chain' property\" Plan-Net Server FHIR SHALL\n",
      "Searching for 5 most relevant capability chunks...\n",
      "\n",
      "Found 5 matching chunks:\n",
      "\n",
      "  Match 1 (distance: 0.8550699353218079):\n",
      "  Length: 802 chars\n",
      "  Preview: FHIR Major Section: ## Plan\\-Net CapabilityStatement\n",
      "\n",
      "* Implementation Guide Version: 1\\.0\\.0\n",
      "* FHIR...\n",
      "  ...local use cases and other contextual requirements.\n",
      "\n",
      "  Match 2 (distance: 0.8909978866577148):\n",
      "  Length: 1169 chars\n",
      "  Preview: FHIR Resource/Component: ### FHIR RESTful Capabilities\n",
      "\n",
      "The Plan\\-Net Server **SHALL**:\n",
      "\n",
      "1. Support ...\n",
      "  ...eturning an `HTTP 401` unauthorized response code.\n",
      "\n",
      "  Match 3 (distance: 0.9448855519294739):\n",
      "  Length: 1184 chars\n",
      "  Preview: FHIR Resource Detail: #### Endpoint\n",
      "\n",
      "Conformance Expectation: **SHALL**\n",
      "\n",
      "Supported Profiles:\n",
      "\n",
      " [Plan...\n",
      "  ...base]/Endpoint?_lastUpdated=[_lastUpdated]` |\n",
      "\n",
      "---\n",
      "\n",
      "  Match 4 (distance: 0.9603161811828613):\n",
      "  Length: 996 chars\n",
      "  Preview: FHIR Major Section: ## CapabilityStatement: Plan\\-Net CapabilityStatement\n",
      "\n",
      "| *Official URL*: http://...\n",
      "  ...openapi.json) \\| [Download](plan-net.openapi.json)\n",
      "\n",
      "  Match 5 (distance: 0.9868970513343811):\n",
      "  Length: 3225 chars\n",
      "  Preview: FHIR Resource Detail: #### Organization\n",
      "\n",
      "Conformance Expectation: **SHALL**\n",
      "\n",
      "Supported Profiles:\n",
      "\n",
      " [...\n",
      "  ...Organization?coverage-area=[coverage-area]` |\n",
      "\n",
      "---\n",
      "================================================================================\n",
      "\n",
      "Sending request to CLAUDE API...\n",
      "Completed test specification for REQ-16\n"
     ]
    },
    {
     "name": "stderr",
     "output_type": "stream",
     "text": [
      "INFO:llm_utils:Processing requirement for group 'General/Cross-Resource': REQ-17\n",
      "INFO:llm_utils:Generating test specification for REQ-17 using claude...\n"
     ]
    },
    {
     "name": "stdout",
     "output_type": "stream",
     "text": [
      "\n",
      "Processing REQ-17: Plan-Net Server XML format support\n",
      "\n",
      "================================================================================\n",
      "RAG RETRIEVAL FOR REQ-17\n",
      "================================================================================\n",
      "Query: Plan-Net Server XML format support \"The Plan-Net Server SHOULD: Support xml source formats for all Plan-Net interactions.\" Plan-Net Server FHIR SHOULD\n",
      "Searching for 5 most relevant capability chunks...\n",
      "\n",
      "Found 5 matching chunks:\n",
      "\n",
      "  Match 1 (distance: 0.8277300000190735):\n",
      "  Length: 802 chars\n",
      "  Preview: FHIR Major Section: ## Plan\\-Net CapabilityStatement\n",
      "\n",
      "* Implementation Guide Version: 1\\.0\\.0\n",
      "* FHIR...\n",
      "  ...local use cases and other contextual requirements.\n",
      "\n",
      "  Match 2 (distance: 0.8620308041572571):\n",
      "  Length: 1169 chars\n",
      "  Preview: FHIR Resource/Component: ### FHIR RESTful Capabilities\n",
      "\n",
      "The Plan\\-Net Server **SHALL**:\n",
      "\n",
      "1. Support ...\n",
      "  ...eturning an `HTTP 401` unauthorized response code.\n",
      "\n",
      "  Match 3 (distance: 0.8647143840789795):\n",
      "  Length: 996 chars\n",
      "  Preview: FHIR Major Section: ## CapabilityStatement: Plan\\-Net CapabilityStatement\n",
      "\n",
      "| *Official URL*: http://...\n",
      "  ...openapi.json) \\| [Download](plan-net.openapi.json)\n",
      "\n",
      "  Match 4 (distance: 0.9676610827445984):\n",
      "  Length: 3225 chars\n",
      "  Preview: FHIR Resource Detail: #### Organization\n",
      "\n",
      "Conformance Expectation: **SHALL**\n",
      "\n",
      "Supported Profiles:\n",
      "\n",
      " [...\n",
      "  ...Organization?coverage-area=[coverage-area]` |\n",
      "\n",
      "---\n",
      "\n",
      "  Match 5 (distance: 1.0047434568405151):\n",
      "  Length: 3291 chars\n",
      "  Preview: FHIR Resource Detail: #### OrganizationAffiliation\n",
      "\n",
      "Conformance Expectation: **SHALL**\n",
      "\n",
      "Supported Pr...\n",
      "  ...ionAffiliation?_lastUpdated=[_lastUpdated]` |\n",
      "\n",
      "---\n",
      "================================================================================\n",
      "\n",
      "Sending request to CLAUDE API...\n"
     ]
    },
    {
     "name": "stderr",
     "output_type": "stream",
     "text": [
      "INFO:llm_utils:Processing requirement for group 'Plan-Net HealthcareService': REQ-19\n",
      "INFO:llm_utils:Generating test specification for REQ-19 using claude...\n"
     ]
    },
    {
     "name": "stdout",
     "output_type": "stream",
     "text": [
      "Completed test specification for REQ-17\n",
      "\n",
      "Processing Group: Plan-Net HealthcareService (1 requirements)\n",
      "\n",
      "Processing REQ-19: New patients characteristics constraint\n",
      "\n",
      "================================================================================\n",
      "RAG RETRIEVAL FOR REQ-19\n",
      "================================================================================\n",
      "Query: New patients characteristics constraint \"If no new patients are accepted, no characteristics are allowed: extension('acceptingPatients').valueCodeableConcept.coding.exists(code = 'no') implies extension('characteristics').empty()\" Implementation FHIR SHALL\n",
      "Searching for 5 most relevant capability chunks...\n",
      "\n",
      "Found 5 matching chunks:\n",
      "\n",
      "  Match 1 (distance: 1.1589241027832031):\n",
      "  Length: 3036 chars\n",
      "  Preview: FHIR Resource Detail: #### HealthcareService\n",
      "\n",
      "Conformance Expectation: **SHALL**\n",
      "\n",
      "Supported Profiles...\n",
      "  ...lthcareService?_lastUpdated=[_lastUpdated]` |\n",
      "\n",
      "---\n",
      "\n",
      "  Match 2 (distance: 1.2437915802001953):\n",
      "  Length: 3288 chars\n",
      "  Preview: FHIR Resource/Component: ### RESTful Capabilities by Resource/Profile:\n",
      "\n",
      "**Summary of Search Criteria...\n",
      "  ...nerRole:network, PractitionerRole:endpoint |  |  |\n",
      "\n",
      "  Match 3 (distance: 1.2784152030944824):\n",
      "  Length: 2302 chars\n",
      "  Preview: FHIR Resource Detail: #### InsurancePlan\n",
      "\n",
      "Conformance Expectation: **SHALL**\n",
      "\n",
      "Supported Profiles:\n",
      "\n",
      " ...\n",
      "  ... [base]/InsurancePlan?type=[system]|[code]` |\n",
      "\n",
      "---\n",
      "\n",
      "  Match 4 (distance: 1.3665509223937988):\n",
      "  Length: 1466 chars\n",
      "  Preview: FHIR Resource Detail: #### Practitioner\n",
      "\n",
      "Conformance Expectation: **SHALL**\n",
      "\n",
      "Supported Profiles:\n",
      "\n",
      " [...\n",
      "  ...g | `GET [base]/Practitioner?given=[given]` |\n",
      "\n",
      "---\n",
      "\n",
      "  Match 5 (distance: 1.3675825595855713):\n",
      "  Length: 3225 chars\n",
      "  Preview: FHIR Resource Detail: #### Organization\n",
      "\n",
      "Conformance Expectation: **SHALL**\n",
      "\n",
      "Supported Profiles:\n",
      "\n",
      " [...\n",
      "  ...Organization?coverage-area=[coverage-area]` |\n",
      "\n",
      "---\n",
      "================================================================================\n",
      "\n",
      "Sending request to CLAUDE API...\n"
     ]
    },
    {
     "name": "stderr",
     "output_type": "stream",
     "text": [
      "INFO:llm_utils:Processing requirement for group 'Privacy': REQ-01\n",
      "INFO:llm_utils:Generating test specification for REQ-01 using claude...\n"
     ]
    },
    {
     "name": "stdout",
     "output_type": "stream",
     "text": [
      "Completed test specification for REQ-19\n",
      "\n",
      "Processing Group: Privacy (2 requirements)\n",
      "\n",
      "Processing REQ-01: Plan-Net service consumer identification prohibition\n",
      "\n",
      "================================================================================\n",
      "RAG RETRIEVAL FOR REQ-01\n",
      "================================================================================\n",
      "Query: Plan-Net service consumer identification prohibition \"A conformant Plan-Net service SHALL NOT require a directory mobile application to send consumer identifying information in order to query content.\" Plan-Net Service FHIR SHALL NOT\n",
      "Searching for 5 most relevant capability chunks...\n",
      "\n",
      "Found 5 matching chunks:\n",
      "\n",
      "  Match 1 (distance: 0.7830391526222229):\n",
      "  Length: 802 chars\n",
      "  Preview: FHIR Major Section: ## Plan\\-Net CapabilityStatement\n",
      "\n",
      "* Implementation Guide Version: 1\\.0\\.0\n",
      "* FHIR...\n",
      "  ...local use cases and other contextual requirements.\n",
      "\n",
      "  Match 2 (distance: 0.880466103553772):\n",
      "  Length: 996 chars\n",
      "  Preview: FHIR Major Section: ## CapabilityStatement: Plan\\-Net CapabilityStatement\n",
      "\n",
      "| *Official URL*: http://...\n",
      "  ...openapi.json) \\| [Download](plan-net.openapi.json)\n",
      "\n",
      "  Match 3 (distance: 0.8974548578262329):\n",
      "  Length: 1169 chars\n",
      "  Preview: FHIR Resource/Component: ### FHIR RESTful Capabilities\n",
      "\n",
      "The Plan\\-Net Server **SHALL**:\n",
      "\n",
      "1. Support ...\n",
      "  ...eturning an `HTTP 401` unauthorized response code.\n",
      "\n",
      "  Match 4 (distance: 0.9710675477981567):\n",
      "  Length: 3225 chars\n",
      "  Preview: FHIR Resource Detail: #### Organization\n",
      "\n",
      "Conformance Expectation: **SHALL**\n",
      "\n",
      "Supported Profiles:\n",
      "\n",
      " [...\n",
      "  ...Organization?coverage-area=[coverage-area]` |\n",
      "\n",
      "---\n",
      "\n",
      "  Match 5 (distance: 1.005134105682373):\n",
      "  Length: 2809 chars\n",
      "  Preview: FHIR Resource Detail: #### Location\n",
      "\n",
      "Conformance Expectation: **SHALL**\n",
      "\n",
      "Supported Profiles:\n",
      "\n",
      " [Plan...\n",
      "  ...base]/Location?_lastUpdated=[_lastUpdated]` |\n",
      "\n",
      "---\n",
      "================================================================================\n",
      "\n",
      "Sending request to CLAUDE API...\n",
      "Completed test specification for REQ-01\n"
     ]
    },
    {
     "name": "stderr",
     "output_type": "stream",
     "text": [
      "INFO:llm_utils:Processing requirement for group 'Privacy': REQ-02\n",
      "INFO:llm_utils:Generating test specification for REQ-02 using claude...\n"
     ]
    },
    {
     "name": "stdout",
     "output_type": "stream",
     "text": [
      "\n",
      "Processing REQ-02: Directory mobile application consumer information restriction\n",
      "\n",
      "================================================================================\n",
      "RAG RETRIEVAL FOR REQ-02\n",
      "================================================================================\n",
      "Query: Directory mobile application consumer information restriction \"A directory mobile application SHALL NOT send consumer identifiable information when querying a Plan-Net service.\" Directory Mobile Application FHIR SHALL NOT\n",
      "Searching for 5 most relevant capability chunks...\n",
      "\n",
      "Found 5 matching chunks:\n",
      "\n",
      "  Match 1 (distance: 0.8629611730575562):\n",
      "  Length: 802 chars\n",
      "  Preview: FHIR Major Section: ## Plan\\-Net CapabilityStatement\n",
      "\n",
      "* Implementation Guide Version: 1\\.0\\.0\n",
      "* FHIR...\n",
      "  ...local use cases and other contextual requirements.\n",
      "\n",
      "  Match 2 (distance: 0.9713437557220459):\n",
      "  Length: 996 chars\n",
      "  Preview: FHIR Major Section: ## CapabilityStatement: Plan\\-Net CapabilityStatement\n",
      "\n",
      "| *Official URL*: http://...\n",
      "  ...openapi.json) \\| [Download](plan-net.openapi.json)\n",
      "\n",
      "  Match 3 (distance: 1.0642756223678589):\n",
      "  Length: 1169 chars\n",
      "  Preview: FHIR Resource/Component: ### FHIR RESTful Capabilities\n",
      "\n",
      "The Plan\\-Net Server **SHALL**:\n",
      "\n",
      "1. Support ...\n",
      "  ...eturning an `HTTP 401` unauthorized response code.\n",
      "\n",
      "  Match 4 (distance: 1.0800178050994873):\n",
      "  Length: 3225 chars\n",
      "  Preview: FHIR Resource Detail: #### Organization\n",
      "\n",
      "Conformance Expectation: **SHALL**\n",
      "\n",
      "Supported Profiles:\n",
      "\n",
      " [...\n",
      "  ...Organization?coverage-area=[coverage-area]` |\n",
      "\n",
      "---\n",
      "\n",
      "  Match 5 (distance: 1.096843957901001):\n",
      "  Length: 2854 chars\n",
      "  Preview: FHIR Resource Detail: #### PractitionerRole\n",
      "\n",
      "Conformance Expectation: **SHALL**\n",
      "\n",
      "Supported Profiles:...\n",
      "  ...actitionerRole?_lastUpdated=[_lastUpdated]` |\n",
      "\n",
      "---\n",
      "================================================================================\n",
      "\n",
      "Sending request to CLAUDE API...\n"
     ]
    },
    {
     "name": "stderr",
     "output_type": "stream",
     "text": [
      "INFO:llm_utils:Processing requirement for group 'Security': REQ-18\n",
      "INFO:llm_utils:Generating test specification for REQ-18 using claude...\n"
     ]
    },
    {
     "name": "stdout",
     "output_type": "stream",
     "text": [
      "Completed test specification for REQ-02\n",
      "\n",
      "Processing Group: Security (1 requirements)\n",
      "\n",
      "Processing REQ-18: Plan-Net Server unauthorized request rejection\n",
      "\n",
      "================================================================================\n",
      "RAG RETRIEVAL FOR REQ-18\n",
      "================================================================================\n",
      "Query: Plan-Net Server unauthorized request rejection \"A server SHALL reject any unauthorized requests by returning an `HTTP 401` unauthorized response code.\" Plan-Net Server FHIR SHALL\n",
      "Searching for 5 most relevant capability chunks...\n",
      "\n",
      "Found 5 matching chunks:\n",
      "\n",
      "  Match 1 (distance: 0.5878045558929443):\n",
      "  Length: 1169 chars\n",
      "  Preview: FHIR Resource/Component: ### FHIR RESTful Capabilities\n",
      "\n",
      "The Plan\\-Net Server **SHALL**:\n",
      "\n",
      "1. Support ...\n",
      "  ...eturning an `HTTP 401` unauthorized response code.\n",
      "\n",
      "  Match 2 (distance: 0.7881736159324646):\n",
      "  Length: 996 chars\n",
      "  Preview: FHIR Major Section: ## CapabilityStatement: Plan\\-Net CapabilityStatement\n",
      "\n",
      "| *Official URL*: http://...\n",
      "  ...openapi.json) \\| [Download](plan-net.openapi.json)\n",
      "\n",
      "  Match 3 (distance: 0.9208030700683594):\n",
      "  Length: 802 chars\n",
      "  Preview: FHIR Major Section: ## Plan\\-Net CapabilityStatement\n",
      "\n",
      "* Implementation Guide Version: 1\\.0\\.0\n",
      "* FHIR...\n",
      "  ...local use cases and other contextual requirements.\n",
      "\n",
      "  Match 4 (distance: 0.9359489679336548):\n",
      "  Length: 3291 chars\n",
      "  Preview: FHIR Resource Detail: #### OrganizationAffiliation\n",
      "\n",
      "Conformance Expectation: **SHALL**\n",
      "\n",
      "Supported Pr...\n",
      "  ...ionAffiliation?_lastUpdated=[_lastUpdated]` |\n",
      "\n",
      "---\n",
      "\n",
      "  Match 5 (distance: 0.9585806131362915):\n",
      "  Length: 2854 chars\n",
      "  Preview: FHIR Resource Detail: #### PractitionerRole\n",
      "\n",
      "Conformance Expectation: **SHALL**\n",
      "\n",
      "Supported Profiles:...\n",
      "  ...actitionerRole?_lastUpdated=[_lastUpdated]` |\n",
      "\n",
      "---\n",
      "================================================================================\n",
      "\n",
      "Sending request to CLAUDE API...\n"
     ]
    },
    {
     "name": "stderr",
     "output_type": "stream",
     "text": [
      "INFO:llm_utils:Consolidated test plan saved to checkpoints/testplan_generation/claude_test_plan_20250730_140520.md\n"
     ]
    },
    {
     "name": "stdout",
     "output_type": "stream",
     "text": [
      "Completed test specification for REQ-18\n"
     ]
    },
    {
     "data": {
      "text/plain": [
       "{'requirements_count': 19,\n",
       " 'group_count': 4,\n",
       " 'test_plan_path': 'checkpoints/testplan_generation/claude_test_plan_20250730_140520.md'}"
      ]
     },
     "execution_count": 18,
     "metadata": {},
     "output_type": "execute_result"
    }
   ],
   "source": [
    "req_to_testplan_rag.generate_consolidated_test_plan(\n",
    "    llm_clients, \n",
    "    'claude', \n",
    "    llm_clients.logger, \n",
    "    \"checkpoints/requirements_downselect/filtered_requirements.md\", \n",
    "    \"checkpoints/markdown2/CapabilityStatement-us-core-server.md\", \n",
    "    \"US Core IG\",\n",
    "    output_dir='checkpoints/testplan_generation/us-core',\n",
    "    verbose=True)"
   ]
  },
  {
   "cell_type": "markdown",
   "id": "d080ace6",
   "metadata": {},
   "source": [
    "## Test Kit Generation"
   ]
  },
  {
   "cell_type": "code",
   "execution_count": null,
   "id": "4ef90585",
   "metadata": {},
   "outputs": [
    {
     "name": "stderr",
     "output_type": "stream",
     "text": [
      "/Users/ceadams/Documents/onclaive/onclaive/pipeline/plan_to_tests.py:775: SyntaxWarning: invalid escape sequence '\\A'\n",
      "  \"\"\"\n",
      "INFO:plan_to_tests:Starting Inferno test generation with gpt for PlanNet\n",
      "INFO:plan_to_tests:Parsed test plan into 4 sections\n",
      "INFO:plan_to_tests:Found 19 total requirements\n",
      "INFO:plan_to_tests:Loaded Inferno DSL guidance\n",
      "INFO:plan_to_tests:Processing section: General/Cross-Resource with 15 requirements\n",
      "INFO:plan_to_tests:Generating tests for section: General/Cross-Resource\n",
      "INFO:plan_to_tests:Sending 122 tokens to gpt API (limit: 16000)\n",
      "INFO:plan_to_tests:Attempting to generate tests for entire section: General/Cross-Resource\n"
     ]
    },
    {
     "name": "stdout",
     "output_type": "stream",
     "text": [
      "Found 19 potential requirements\n",
      "Processing requirement: REQ-03\n",
      "Added requirement REQ-03 to section General/Cross-Resource\n",
      "Processing requirement: REQ-04\n",
      "Added requirement REQ-04 to section General/Cross-Resource\n",
      "Processing requirement: REQ-05\n",
      "Added requirement REQ-05 to section General/Cross-Resource\n",
      "Processing requirement: REQ-06\n",
      "Added requirement REQ-06 to section General/Cross-Resource\n",
      "Processing requirement: REQ-07\n",
      "Added requirement REQ-07 to section General/Cross-Resource\n",
      "Processing requirement: REQ-08\n",
      "Added requirement REQ-08 to section General/Cross-Resource\n",
      "Processing requirement: REQ-09\n",
      "Added requirement REQ-09 to section General/Cross-Resource\n",
      "Processing requirement: REQ-10\n",
      "Added requirement REQ-10 to section General/Cross-Resource\n",
      "Processing requirement: REQ-11\n",
      "Added requirement REQ-11 to section General/Cross-Resource\n",
      "Processing requirement: REQ-12\n",
      "Added requirement REQ-12 to section General/Cross-Resource\n",
      "Processing requirement: REQ-13\n",
      "Added requirement REQ-13 to section General/Cross-Resource\n",
      "Processing requirement: REQ-14\n",
      "Added requirement REQ-14 to section General/Cross-Resource\n",
      "Processing requirement: REQ-15\n",
      "Added requirement REQ-15 to section General/Cross-Resource\n",
      "Processing requirement: REQ-16\n",
      "Added requirement REQ-16 to section General/Cross-Resource\n",
      "Processing requirement: REQ-17\n",
      "Added requirement REQ-17 to section General/Cross-Resource\n",
      "Processing requirement: REQ-19\n",
      "Added requirement REQ-19 to section Plan-Net HealthcareService\n",
      "Processing requirement: REQ-01\n",
      "Added requirement REQ-01 to section Privacy\n",
      "Processing requirement: REQ-02\n",
      "Added requirement REQ-02 to section Privacy\n",
      "Processing requirement: REQ-18\n",
      "Added requirement REQ-18 to section Security\n"
     ]
    },
    {
     "name": "stderr",
     "output_type": "stream",
     "text": [
      "INFO:httpx:HTTP Request: POST https://api.openai.com/v1/chat/completions \"HTTP/1.1 200 OK\"\n",
      "WARNING:plan_to_tests:Generated tests for only 4 of 15 requirements in section: General/Cross-Resource\n",
      "INFO:plan_to_tests:Generating test for requirement: REQ-03\n",
      "INFO:plan_to_tests:Requirement REQ-03: Sending 1111 tokens to gpt API (limit: 16000)\n",
      "INFO:httpx:HTTP Request: POST https://api.openai.com/v1/chat/completions \"HTTP/1.1 200 OK\"\n",
      "INFO:plan_to_tests:Successfully generated test for requirement: REQ-03\n",
      "INFO:plan_to_tests:Generating test for requirement: REQ-04\n",
      "INFO:plan_to_tests:Requirement REQ-04: Sending 1135 tokens to gpt API (limit: 16000)\n",
      "INFO:httpx:HTTP Request: POST https://api.openai.com/v1/chat/completions \"HTTP/1.1 200 OK\"\n",
      "INFO:plan_to_tests:Successfully generated test for requirement: REQ-04\n",
      "INFO:plan_to_tests:Generating test for requirement: REQ-05\n",
      "INFO:plan_to_tests:Requirement REQ-05: Sending 1140 tokens to gpt API (limit: 16000)\n",
      "INFO:httpx:HTTP Request: POST https://api.openai.com/v1/chat/completions \"HTTP/1.1 200 OK\"\n",
      "INFO:plan_to_tests:Successfully generated test for requirement: REQ-05\n",
      "INFO:plan_to_tests:Generating test for requirement: REQ-06\n",
      "INFO:plan_to_tests:Requirement REQ-06: Sending 1111 tokens to gpt API (limit: 16000)\n",
      "INFO:httpx:HTTP Request: POST https://api.openai.com/v1/chat/completions \"HTTP/1.1 200 OK\"\n",
      "INFO:plan_to_tests:Successfully generated test for requirement: REQ-06\n",
      "INFO:plan_to_tests:Generating test for requirement: REQ-07\n",
      "INFO:plan_to_tests:Requirement REQ-07: Sending 1104 tokens to gpt API (limit: 16000)\n",
      "INFO:httpx:HTTP Request: POST https://api.openai.com/v1/chat/completions \"HTTP/1.1 200 OK\"\n",
      "INFO:plan_to_tests:Successfully generated test for requirement: REQ-07\n",
      "INFO:plan_to_tests:Generating test for requirement: REQ-08\n",
      "INFO:plan_to_tests:Requirement REQ-08: Sending 1115 tokens to gpt API (limit: 16000)\n",
      "INFO:httpx:HTTP Request: POST https://api.openai.com/v1/chat/completions \"HTTP/1.1 200 OK\"\n",
      "INFO:plan_to_tests:Successfully generated test for requirement: REQ-08\n",
      "INFO:plan_to_tests:Generating test for requirement: REQ-09\n",
      "INFO:plan_to_tests:Requirement REQ-09: Sending 1105 tokens to gpt API (limit: 16000)\n",
      "INFO:httpx:HTTP Request: POST https://api.openai.com/v1/chat/completions \"HTTP/1.1 200 OK\"\n",
      "INFO:plan_to_tests:Successfully generated test for requirement: REQ-09\n",
      "INFO:plan_to_tests:Generating test for requirement: REQ-10\n",
      "INFO:plan_to_tests:Requirement REQ-10: Sending 1104 tokens to gpt API (limit: 16000)\n",
      "INFO:httpx:HTTP Request: POST https://api.openai.com/v1/chat/completions \"HTTP/1.1 200 OK\"\n",
      "INFO:plan_to_tests:Successfully generated test for requirement: REQ-10\n",
      "INFO:plan_to_tests:Generating test for requirement: REQ-11\n",
      "INFO:plan_to_tests:Requirement REQ-11: Sending 1109 tokens to gpt API (limit: 16000)\n",
      "INFO:httpx:HTTP Request: POST https://api.openai.com/v1/chat/completions \"HTTP/1.1 200 OK\"\n",
      "INFO:plan_to_tests:Successfully generated test for requirement: REQ-11\n",
      "INFO:plan_to_tests:Generating test for requirement: REQ-12\n",
      "INFO:plan_to_tests:Requirement REQ-12: Sending 1144 tokens to gpt API (limit: 16000)\n",
      "INFO:httpx:HTTP Request: POST https://api.openai.com/v1/chat/completions \"HTTP/1.1 200 OK\"\n",
      "INFO:plan_to_tests:Successfully generated test for requirement: REQ-12\n",
      "INFO:plan_to_tests:Generating test for requirement: REQ-13\n",
      "INFO:plan_to_tests:Requirement REQ-13: Sending 1107 tokens to gpt API (limit: 16000)\n",
      "INFO:httpx:HTTP Request: POST https://api.openai.com/v1/chat/completions \"HTTP/1.1 200 OK\"\n",
      "INFO:plan_to_tests:Successfully generated test for requirement: REQ-13\n",
      "INFO:plan_to_tests:Generating test for requirement: REQ-14\n",
      "INFO:plan_to_tests:Requirement REQ-14: Sending 1117 tokens to gpt API (limit: 16000)\n",
      "INFO:httpx:HTTP Request: POST https://api.openai.com/v1/chat/completions \"HTTP/1.1 200 OK\"\n",
      "INFO:plan_to_tests:Successfully generated test for requirement: REQ-14\n",
      "INFO:plan_to_tests:Generating test for requirement: REQ-15\n",
      "INFO:plan_to_tests:Requirement REQ-15: Sending 1108 tokens to gpt API (limit: 16000)\n",
      "INFO:httpx:HTTP Request: POST https://api.openai.com/v1/chat/completions \"HTTP/1.1 200 OK\"\n",
      "INFO:plan_to_tests:Successfully generated test for requirement: REQ-15\n",
      "INFO:plan_to_tests:Generating test for requirement: REQ-16\n",
      "INFO:plan_to_tests:Requirement REQ-16: Sending 1112 tokens to gpt API (limit: 16000)\n",
      "INFO:httpx:HTTP Request: POST https://api.openai.com/v1/chat/completions \"HTTP/1.1 200 OK\"\n",
      "INFO:plan_to_tests:Successfully generated test for requirement: REQ-16\n",
      "INFO:plan_to_tests:Generating test for requirement: REQ-17\n",
      "INFO:plan_to_tests:Requirement REQ-17: Sending 1107 tokens to gpt API (limit: 16000)\n",
      "INFO:httpx:HTTP Request: POST https://api.openai.com/v1/chat/completions \"HTTP/1.1 200 OK\"\n",
      "INFO:plan_to_tests:Successfully generated test for requirement: REQ-17\n",
      "INFO:plan_to_tests:Validating test for requirement: REQ-03\n",
      "INFO:plan_to_tests:Validation for test: Sending 1137 tokens to gpt API\n",
      "INFO:httpx:HTTP Request: POST https://api.openai.com/v1/chat/completions \"HTTP/1.1 200 OK\"\n",
      "INFO:plan_to_tests:Successfully validated test for requirement: REQ-03\n",
      "INFO:plan_to_tests:Validating test for requirement: REQ-04\n",
      "INFO:plan_to_tests:Validation for test: Sending 1083 tokens to gpt API\n",
      "INFO:httpx:HTTP Request: POST https://api.openai.com/v1/chat/completions \"HTTP/1.1 200 OK\"\n",
      "INFO:plan_to_tests:Successfully validated test for requirement: REQ-04\n",
      "INFO:plan_to_tests:Validating test for requirement: REQ-05\n",
      "INFO:plan_to_tests:Validation for test: Sending 1270 tokens to gpt API\n",
      "INFO:httpx:HTTP Request: POST https://api.openai.com/v1/chat/completions \"HTTP/1.1 200 OK\"\n",
      "INFO:plan_to_tests:Successfully validated test for requirement: REQ-05\n",
      "INFO:plan_to_tests:Validating test for requirement: REQ-06\n",
      "INFO:plan_to_tests:Validation for test: Sending 1026 tokens to gpt API\n",
      "INFO:httpx:HTTP Request: POST https://api.openai.com/v1/chat/completions \"HTTP/1.1 200 OK\"\n",
      "INFO:plan_to_tests:Successfully validated test for requirement: REQ-06\n",
      "INFO:plan_to_tests:Validating test for requirement: REQ-07\n",
      "INFO:plan_to_tests:Validation for test: Sending 1119 tokens to gpt API\n",
      "INFO:httpx:HTTP Request: POST https://api.openai.com/v1/chat/completions \"HTTP/1.1 200 OK\"\n",
      "INFO:plan_to_tests:Successfully validated test for requirement: REQ-07\n",
      "INFO:plan_to_tests:Validating test for requirement: REQ-08\n",
      "INFO:plan_to_tests:Validation for test: Sending 1105 tokens to gpt API\n",
      "INFO:httpx:HTTP Request: POST https://api.openai.com/v1/chat/completions \"HTTP/1.1 200 OK\"\n",
      "INFO:plan_to_tests:Successfully validated test for requirement: REQ-08\n",
      "INFO:plan_to_tests:Validating test for requirement: REQ-09\n",
      "INFO:plan_to_tests:Validation for test: Sending 1157 tokens to gpt API\n",
      "INFO:httpx:HTTP Request: POST https://api.openai.com/v1/chat/completions \"HTTP/1.1 200 OK\"\n",
      "INFO:plan_to_tests:Successfully validated test for requirement: REQ-09\n",
      "INFO:plan_to_tests:Validating test for requirement: REQ-10\n",
      "INFO:plan_to_tests:Validation for test: Sending 1011 tokens to gpt API\n",
      "INFO:httpx:HTTP Request: POST https://api.openai.com/v1/chat/completions \"HTTP/1.1 200 OK\"\n",
      "INFO:plan_to_tests:Successfully validated test for requirement: REQ-10\n",
      "INFO:plan_to_tests:Validating test for requirement: REQ-11\n",
      "INFO:plan_to_tests:Validation for test: Sending 1106 tokens to gpt API\n",
      "INFO:httpx:HTTP Request: POST https://api.openai.com/v1/chat/completions \"HTTP/1.1 200 OK\"\n",
      "INFO:plan_to_tests:Successfully validated test for requirement: REQ-11\n",
      "INFO:plan_to_tests:Validating test for requirement: REQ-12\n",
      "INFO:plan_to_tests:Validation for test: Sending 1359 tokens to gpt API\n",
      "INFO:httpx:HTTP Request: POST https://api.openai.com/v1/chat/completions \"HTTP/1.1 200 OK\"\n",
      "INFO:plan_to_tests:Successfully validated test for requirement: REQ-12\n",
      "INFO:plan_to_tests:Validating test for requirement: REQ-13\n",
      "INFO:plan_to_tests:Validation for test: Sending 979 tokens to gpt API\n",
      "INFO:httpx:HTTP Request: POST https://api.openai.com/v1/chat/completions \"HTTP/1.1 200 OK\"\n",
      "INFO:plan_to_tests:Successfully validated test for requirement: REQ-13\n",
      "INFO:plan_to_tests:Validating test for requirement: REQ-14\n",
      "INFO:plan_to_tests:Validation for test: Sending 1083 tokens to gpt API\n",
      "INFO:httpx:HTTP Request: POST https://api.openai.com/v1/chat/completions \"HTTP/1.1 200 OK\"\n",
      "INFO:plan_to_tests:Successfully validated test for requirement: REQ-14\n",
      "INFO:plan_to_tests:Validating test for requirement: REQ-15\n",
      "INFO:plan_to_tests:Validation for test: Sending 1200 tokens to gpt API\n",
      "INFO:httpx:HTTP Request: POST https://api.openai.com/v1/chat/completions \"HTTP/1.1 200 OK\"\n",
      "INFO:plan_to_tests:Successfully validated test for requirement: REQ-15\n",
      "INFO:plan_to_tests:Validating test for requirement: REQ-16\n",
      "INFO:plan_to_tests:Validation for test: Sending 1176 tokens to gpt API\n",
      "INFO:httpx:HTTP Request: POST https://api.openai.com/v1/chat/completions \"HTTP/1.1 200 OK\"\n",
      "INFO:plan_to_tests:Successfully validated test for requirement: REQ-16\n",
      "INFO:plan_to_tests:Validating test for requirement: REQ-17\n",
      "INFO:plan_to_tests:Validation for test: Sending 1182 tokens to gpt API\n",
      "INFO:httpx:HTTP Request: POST https://api.openai.com/v1/chat/completions \"HTTP/1.1 200 OK\"\n",
      "INFO:plan_to_tests:Successfully validated test for requirement: REQ-17\n",
      "INFO:plan_to_tests:Processing section: Plan-Net HealthcareService with 1 requirements\n",
      "INFO:plan_to_tests:Generating tests for section: Plan-Net HealthcareService\n",
      "INFO:plan_to_tests:Generating test for requirement: REQ-19\n",
      "INFO:plan_to_tests:Requirement REQ-19: Sending 1122 tokens to gpt API (limit: 16000)\n",
      "INFO:httpx:HTTP Request: POST https://api.openai.com/v1/chat/completions \"HTTP/1.1 200 OK\"\n",
      "INFO:plan_to_tests:Successfully generated test for requirement: REQ-19\n",
      "INFO:plan_to_tests:Validating test for requirement: REQ-19\n",
      "INFO:plan_to_tests:Validation for test: Sending 1185 tokens to gpt API\n",
      "INFO:httpx:HTTP Request: POST https://api.openai.com/v1/chat/completions \"HTTP/1.1 200 OK\"\n",
      "INFO:plan_to_tests:Successfully validated test for requirement: REQ-19\n",
      "INFO:plan_to_tests:Processing section: Privacy with 2 requirements\n",
      "INFO:plan_to_tests:Generating tests for section: Privacy\n",
      "INFO:plan_to_tests:Sending 118 tokens to gpt API (limit: 16000)\n",
      "INFO:plan_to_tests:Attempting to generate tests for entire section: Privacy\n",
      "INFO:httpx:HTTP Request: POST https://api.openai.com/v1/chat/completions \"HTTP/1.1 200 OK\"\n",
      "WARNING:plan_to_tests:Generated tests for only 0 of 2 requirements in section: Privacy\n",
      "INFO:plan_to_tests:Generating test for requirement: REQ-01\n",
      "INFO:plan_to_tests:Requirement REQ-01: Sending 1115 tokens to gpt API (limit: 16000)\n",
      "INFO:httpx:HTTP Request: POST https://api.openai.com/v1/chat/completions \"HTTP/1.1 200 OK\"\n",
      "INFO:plan_to_tests:Successfully generated test for requirement: REQ-01\n",
      "INFO:plan_to_tests:Generating test for requirement: REQ-02\n",
      "INFO:plan_to_tests:Requirement REQ-02: Sending 1106 tokens to gpt API (limit: 16000)\n",
      "INFO:httpx:HTTP Request: POST https://api.openai.com/v1/chat/completions \"HTTP/1.1 200 OK\"\n",
      "INFO:plan_to_tests:Successfully generated test for requirement: REQ-02\n",
      "INFO:plan_to_tests:Validating test for requirement: REQ-01\n",
      "INFO:plan_to_tests:Validation for test: Sending 1028 tokens to gpt API\n",
      "INFO:httpx:HTTP Request: POST https://api.openai.com/v1/chat/completions \"HTTP/1.1 200 OK\"\n",
      "INFO:plan_to_tests:Successfully validated test for requirement: REQ-01\n",
      "INFO:plan_to_tests:Validating test for requirement: REQ-02\n",
      "INFO:plan_to_tests:Validation for test: Sending 1110 tokens to gpt API\n",
      "INFO:httpx:HTTP Request: POST https://api.openai.com/v1/chat/completions \"HTTP/1.1 200 OK\"\n",
      "INFO:plan_to_tests:Successfully validated test for requirement: REQ-02\n",
      "INFO:plan_to_tests:Processing section: Security with 1 requirements\n",
      "INFO:plan_to_tests:Generating tests for section: Security\n",
      "INFO:plan_to_tests:Generating test for requirement: REQ-18\n",
      "INFO:plan_to_tests:Requirement REQ-18: Sending 1108 tokens to gpt API (limit: 16000)\n",
      "INFO:httpx:HTTP Request: POST https://api.openai.com/v1/chat/completions \"HTTP/1.1 200 OK\"\n",
      "INFO:plan_to_tests:Successfully generated test for requirement: REQ-18\n",
      "INFO:plan_to_tests:Validating test for requirement: REQ-18\n",
      "INFO:plan_to_tests:Validation for test: Sending 1046 tokens to gpt API\n",
      "INFO:httpx:HTTP Request: POST https://api.openai.com/v1/chat/completions \"HTTP/1.1 200 OK\"\n",
      "INFO:plan_to_tests:Successfully validated test for requirement: REQ-18\n",
      "INFO:plan_to_tests:Generated tests for 19 requirements\n",
      "INFO:plan_to_tests:Wrote test for REQ-03 to checkpoints/testkit_generation/gpt_testkit_20250819_225027/plannet/general_cross_resource/req_03_test.rb\n",
      "INFO:plan_to_tests:Wrote test for REQ-04 to checkpoints/testkit_generation/gpt_testkit_20250819_225027/plannet/general_cross_resource/req_04_test.rb\n",
      "INFO:plan_to_tests:Wrote test for REQ-05 to checkpoints/testkit_generation/gpt_testkit_20250819_225027/plannet/general_cross_resource/req_05_test.rb\n",
      "INFO:plan_to_tests:Wrote test for REQ-06 to checkpoints/testkit_generation/gpt_testkit_20250819_225027/plannet/general_cross_resource/req_06_test.rb\n",
      "INFO:plan_to_tests:Wrote test for REQ-07 to checkpoints/testkit_generation/gpt_testkit_20250819_225027/plannet/general_cross_resource/req_07_test.rb\n",
      "INFO:plan_to_tests:Wrote test for REQ-08 to checkpoints/testkit_generation/gpt_testkit_20250819_225027/plannet/general_cross_resource/req_08_test.rb\n",
      "INFO:plan_to_tests:Wrote test for REQ-09 to checkpoints/testkit_generation/gpt_testkit_20250819_225027/plannet/general_cross_resource/req_09_test.rb\n",
      "INFO:plan_to_tests:Wrote test for REQ-10 to checkpoints/testkit_generation/gpt_testkit_20250819_225027/plannet/general_cross_resource/req_10_test.rb\n",
      "INFO:plan_to_tests:Wrote test for REQ-11 to checkpoints/testkit_generation/gpt_testkit_20250819_225027/plannet/general_cross_resource/req_11_test.rb\n",
      "INFO:plan_to_tests:Wrote test for REQ-12 to checkpoints/testkit_generation/gpt_testkit_20250819_225027/plannet/general_cross_resource/req_12_test.rb\n",
      "INFO:plan_to_tests:Wrote test for REQ-13 to checkpoints/testkit_generation/gpt_testkit_20250819_225027/plannet/general_cross_resource/req_13_test.rb\n",
      "INFO:plan_to_tests:Wrote test for REQ-14 to checkpoints/testkit_generation/gpt_testkit_20250819_225027/plannet/general_cross_resource/req_14_test.rb\n",
      "INFO:plan_to_tests:Wrote test for REQ-15 to checkpoints/testkit_generation/gpt_testkit_20250819_225027/plannet/general_cross_resource/req_15_test.rb\n",
      "INFO:plan_to_tests:Wrote test for REQ-16 to checkpoints/testkit_generation/gpt_testkit_20250819_225027/plannet/general_cross_resource/req_16_test.rb\n",
      "INFO:plan_to_tests:Wrote test for REQ-17 to checkpoints/testkit_generation/gpt_testkit_20250819_225027/plannet/general_cross_resource/req_17_test.rb\n",
      "INFO:plan_to_tests:Created section directory: general_cross_resource with 15 tests\n",
      "INFO:plan_to_tests:Wrote test for REQ-19 to checkpoints/testkit_generation/gpt_testkit_20250819_225027/plannet/plan_net_healthcareservice/req_19_test.rb\n",
      "INFO:plan_to_tests:Created section directory: plan_net_healthcareservice with 1 tests\n",
      "INFO:plan_to_tests:Wrote test for REQ-01 to checkpoints/testkit_generation/gpt_testkit_20250819_225027/plannet/privacy/req_01_test.rb\n",
      "INFO:plan_to_tests:Wrote test for REQ-02 to checkpoints/testkit_generation/gpt_testkit_20250819_225027/plannet/privacy/req_02_test.rb\n",
      "INFO:plan_to_tests:Created section directory: privacy with 2 tests\n",
      "INFO:plan_to_tests:Wrote test for REQ-18 to checkpoints/testkit_generation/gpt_testkit_20250819_225027/plannet/security/req_18_test.rb\n",
      "INFO:plan_to_tests:Created section directory: security with 1 tests\n",
      "INFO:plan_to_tests:Collecting test data for module file generation\n",
      "INFO:plan_to_tests:Created structure representation of test files\n",
      "INFO:plan_to_tests:Generating module file with LLM\n",
      "INFO:httpx:HTTP Request: POST https://api.openai.com/v1/chat/completions \"HTTP/1.1 200 OK\"\n",
      "INFO:plan_to_tests:Wrote module file to checkpoints/testkit_generation/gpt_testkit_20250819_225027/gpt_plannet_20250819_225027.rb\n",
      "INFO:plan_to_tests:Starting LLM-based alignment validation...\n",
      "INFO:plan_to_tests:Collecting alignment data for LLM analysis...\n",
      "INFO:plan_to_tests:Generating LLM alignment report...\n",
      "INFO:httpx:HTTP Request: POST https://api.openai.com/v1/chat/completions \"HTTP/1.1 200 OK\"\n",
      "INFO:plan_to_tests:Getting LLM alignment fixes...\n",
      "INFO:httpx:HTTP Request: POST https://api.openai.com/v1/chat/completions \"HTTP/1.1 200 OK\"\n",
      "INFO:plan_to_tests:LLM-corrected module file written successfully\n",
      "INFO:plan_to_tests:✅ LLM alignment validation completed successfully\n",
      "INFO:plan_to_tests:🔧 LLM applied fixes to module file\n",
      "INFO:plan_to_tests:=== LLM ALIGNMENT REPORT ===\n",
      "INFO:plan_to_tests:# Inferno Test Suite Alignment Report\n",
      "INFO:plan_to_tests:## 1. Missing Files\n",
      "INFO:plan_to_tests:These are files that are required by the `REQUIRE_RELATIVE STATEMENTS` but do not exist in the `ACTUAL TEST FILES`.\n",
      "INFO:plan_to_tests:- `plannet/general_cross_resource/req_18_test`\n",
      "INFO:plan_to_tests:- Note: All other required files are accounted for in the `ACTUAL TEST FILES`.\n",
      "INFO:plan_to_tests:## 2. Missing Group IDs\n",
      "INFO:plan_to_tests:These are group IDs that are referenced in the `GROUP FROM REFERENCES` but do not exist in the `ACTUAL GROUP IDs`.\n",
      "INFO:plan_to_tests:- `req_04_missing_data_element_exclusion`\n",
      "INFO:plan_to_tests:- `req_05_health_plan_api_missing_information_reason`\n",
      "INFO:plan_to_tests:- `req_06_must_support_data_processing`\n",
      "INFO:plan_to_tests:- `req_07_application_data_display_capability`\n",
      "INFO:plan_to_tests:- `req_08_missing_data_interpretation`\n",
      "INFO:plan_to_tests:- `req_09_consumer_app_missing_information`\n",
      "INFO:plan_to_tests:- `req_11_plan_net_server_restful_behavior`\n",
      "INFO:plan_to_tests:- `req_12_plan_net_server_response_classes`\n",
      "INFO:plan_to_tests:- `req_13_json_format_support`\n",
      "INFO:plan_to_tests:- `req_14_plannet_server_profile_identification`\n",
      "INFO:plan_to_tests:- `req_15_plan_net_server_search_parameter_support`\n",
      "INFO:plan_to_tests:- `req_16_plan_net_server_chaining_support`\n",
      "INFO:plan_to_tests:- `req_17_plan_net_xml_support`\n",
      "INFO:plan_to_tests:- `req_19_new_patients_characteristics_constraint`\n",
      "INFO:plan_to_tests:- `plan_net_service_consumer_identification_prohibition`\n",
      "INFO:plan_to_tests:- `req_02_directory_mobile_application_consumer_information_restriction`\n",
      "INFO:plan_to_tests:- `req_18_unauthorized_request_rejection`\n",
      "INFO:plan_to_tests:## 3. Orphaned Files\n",
      "INFO:plan_to_tests:These are files that exist in the `ACTUAL TEST FILES` but are not required by the `REQUIRE_RELATIVE STATEMENTS`.\n",
      "INFO:plan_to_tests:- None. All files in `ACTUAL TEST FILES` are required by `REQUIRE_RELATIVE STATEMENTS`.\n",
      "INFO:plan_to_tests:## 4. Orphaned Group IDs\n",
      "INFO:plan_to_tests:These are group IDs that exist in the `ACTUAL GROUP IDs` but are not referenced in the `GROUP FROM REFERENCES`.\n",
      "INFO:plan_to_tests:- `plannet_server_profile_support_test`\n",
      "INFO:plan_to_tests:- `consumer_app_missing_must_support_elements`\n",
      "INFO:plan_to_tests:- `req_08_missing_data_interpretation_test`\n",
      "INFO:plan_to_tests:- `req_11_restful_interactions`\n",
      "INFO:plan_to_tests:- `req_13_json_format_support_test`\n",
      "INFO:plan_to_tests:- `health_plan_api_must_support_data_elements`\n",
      "INFO:plan_to_tests:- `req_12_invalid_parameter`\n",
      "INFO:plan_to_tests:- `req_12_unauthorized_request`\n",
      "INFO:plan_to_tests:- `req_12_insufficient_scope`\n",
      "INFO:plan_to_tests:- `req_12_unknown_resource`\n",
      "INFO:plan_to_tests:- `req_12_deleted_resource`\n",
      "INFO:plan_to_tests:- `req_17_capability_statement_xml`\n",
      "INFO:plan_to_tests:- `req_17_organization_xml`\n",
      "INFO:plan_to_tests:- `req_17_unsupported_xml_request`\n",
      "INFO:plan_to_tests:- `req_07_application_display_store_test`\n",
      "INFO:plan_to_tests:- `req_06_must_support_data_processing_test`\n",
      "INFO:plan_to_tests:- `req_16_forward_chaining_support`\n",
      "INFO:plan_to_tests:- `req_16_reverse_chaining_support`\n",
      "INFO:plan_to_tests:- `req_14_verify_meta_profile`\n",
      "INFO:plan_to_tests:- `req_05_missing_information_reason_test`\n",
      "INFO:plan_to_tests:- `req_15_individual_search_parameter_support`\n",
      "INFO:plan_to_tests:- `req_15_combined_search_parameter_support`\n",
      "INFO:plan_to_tests:- `plan_net_service_no_consumer_identification_required`\n",
      "INFO:plan_to_tests:- `req_02_no_identifiable_information_in_requests`\n",
      "INFO:plan_to_tests:- `req_18_unauthorized_request`\n",
      "INFO:plan_to_tests:## 5. Overall Alignment Status\n",
      "INFO:plan_to_tests:- **File Alignment:** All required files except `plannet/general_cross_resource/req_18_test` are present. No orphaned files exist.\n",
      "INFO:plan_to_tests:- **Group ID Alignment:** There are significant discrepancies between referenced group IDs and actual group IDs. Many group IDs are missing or orphaned.\n",
      "INFO:plan_to_tests:## 6. Recommendations for Fixes\n",
      "INFO:plan_to_tests:- **Address Missing Files:**\n",
      "INFO:plan_to_tests:  - Implement the missing file `plannet/general_cross_resource/req_18_test` to ensure all required tests are covered.\n",
      "INFO:plan_to_tests:- **Resolve Missing Group IDs:**\n",
      "INFO:plan_to_tests:  - Verify and implement the missing group IDs in the test files to ensure all referenced requirements are tested.\n",
      "INFO:plan_to_tests:- **Review Orphaned Group IDs:**\n",
      "INFO:plan_to_tests:  - Investigate the necessity of orphaned group IDs. If they are not needed, consider removing them to clean up the test suite.\n",
      "INFO:plan_to_tests:  - If they are required, ensure they are referenced appropriately in the `GROUP FROM REFERENCES`.\n",
      "INFO:plan_to_tests:- **Regular Audits:**\n",
      "INFO:plan_to_tests:  - Conduct regular audits of the test suite to maintain alignment between required files, group IDs, and actual implementations.\n",
      "INFO:plan_to_tests:By addressing these discrepancies, the test suite can achieve better alignment and ensure comprehensive coverage of all requirements.\n"
     ]
    },
    {
     "data": {
      "text/plain": [
       "{'total_sections': 4,\n",
       " 'total_requirements': 19,\n",
       " 'generated_tests': 19,\n",
       " 'module_dir': 'checkpoints/testkit_generation/gpt_testkit_20250819_225027/plannet',\n",
       " 'module_file': 'checkpoints/testkit_generation/gpt_testkit_20250819_225027/gpt_plannet_20250819_225027.rb',\n",
       " 'output_dir': 'checkpoints/testkit_generation/gpt_testkit_20250819_225027',\n",
       " 'timestamp': '20250819_225027'}"
      ]
     },
     "execution_count": 61,
     "metadata": {},
     "output_type": "execute_result"
    }
   ],
   "source": [
    "import plan_to_tests\n",
    "import importlib\n",
    "importlib.reload(plan_to_tests)\n",
    "\n",
    "plan_to_tests.generate_inferno_test_kit(\n",
    "    llm_clients,\n",
    "    'gpt',\n",
    "    'checkpoints/testplan_generation/claude_test_plan_20250730_140520.md',\n",
    "    #'../test_kit_dev/inferno-guidance.md', #not used right now\n",
    "    output_dir='checkpoints/testkit_generation/us_core',\n",
    "    expected_actors=[\"Server\", \"Client\"] #not used right now\n",
    ")"
   ]
  }
 ],
 "metadata": {
  "kernelspec": {
   "display_name": ".venv (3.12.6)",
   "language": "python",
   "name": "python3"
  },
  "language_info": {
   "codemirror_mode": {
    "name": "ipython",
    "version": 3
   },
   "file_extension": ".py",
   "mimetype": "text/x-python",
   "name": "python",
   "nbconvert_exporter": "python",
   "pygments_lexer": "ipython3",
   "version": "3.12.6"
  }
 },
 "nbformat": 4,
 "nbformat_minor": 5
}
