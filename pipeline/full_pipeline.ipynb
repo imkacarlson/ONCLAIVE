{
 "cells": [
  {
   "cell_type": "markdown",
   "id": "73e3a524",
   "metadata": {},
   "source": [
    "# IG to Test Kit FULL pipeline"
   ]
  },
  {
   "cell_type": "markdown",
   "id": "8a5d267b",
   "metadata": {},
   "source": [
    "## Setup"
   ]
  },
  {
   "cell_type": "markdown",
   "id": "9de19ee6",
   "metadata": {},
   "source": [
    "### Importing Notebooks as Modules (from the [Jupyter Notebook Documentation](https://jupyter-notebook.readthedocs.io/en/4.x/examples/Notebook/rstversions/Importing%20Notebooks.html))"
   ]
  },
  {
   "cell_type": "code",
   "execution_count": 12,
   "id": "d9fc5ddc",
   "metadata": {},
   "outputs": [],
   "source": [
    "import inspect\n",
    "import json\n",
    "import llm_utils\n",
    "import importlib"
   ]
  },
  {
   "cell_type": "markdown",
   "id": "0de7a6cc",
   "metadata": {},
   "source": [
    "## Initializing LLM Clients"
   ]
  },
  {
   "cell_type": "code",
   "execution_count": 13,
   "id": "3ead91a2",
   "metadata": {},
   "outputs": [],
   "source": [
    "importlib.reload(llm_utils)\n",
    "llm_clients = llm_utils.LLMApiClient()"
   ]
  },
  {
   "cell_type": "code",
   "execution_count": 14,
   "id": "c39d130b",
   "metadata": {},
   "outputs": [
    {
     "data": {
      "text/plain": [
       "{'claude': <anthropic.Anthropic at 0x12fb732c0>,\n",
       " 'gemini': genai.GenerativeModel(\n",
       "     model_name='models/gemini-2.5-pro-preview-03-25',\n",
       "     generation_config={'max_output_tokens': 8192, 'temperature': 0.3},\n",
       "     safety_settings={},\n",
       "     tools=None,\n",
       "     system_instruction=None,\n",
       "     cached_content=None\n",
       " ),\n",
       " 'gpt': <openai.OpenAI at 0x12beeb470>}"
      ]
     },
     "execution_count": 14,
     "metadata": {},
     "output_type": "execute_result"
    }
   ],
   "source": [
    "llm_clients.clients"
   ]
  },
  {
   "cell_type": "markdown",
   "id": "8e6d80d1",
   "metadata": {},
   "source": [
    "## Text Extraction"
   ]
  },
  {
   "cell_type": "markdown",
   "id": "08717e1c",
   "metadata": {},
   "source": [
    "### HTML to Markdown Conversion Using Markdownify (Langchain Tool)"
   ]
  },
  {
   "cell_type": "code",
   "execution_count": 4,
   "id": "7e9d960b",
   "metadata": {},
   "outputs": [
    {
     "name": "stderr",
     "output_type": "stream",
     "text": [
      "USER_AGENT environment variable not set, consider setting it to identify your requests.\n"
     ]
    }
   ],
   "source": [
    "import HTML_extractor"
   ]
  },
  {
   "cell_type": "code",
   "execution_count": 6,
   "id": "ac0340e1",
   "metadata": {},
   "outputs": [
    {
     "name": "stderr",
     "output_type": "stream",
     "text": [
      "Fetching pages: 100%|##########| 7/7 [00:00<00:00,  7.93it/s]\n"
     ]
    },
    {
     "name": "stdout",
     "output_type": "stream",
     "text": [
      "Created: index.md\n",
      "Created: ChangeHistory.md\n",
      "Created: examples.md\n",
      "Created: implementation.md\n",
      "Created: profiles.md\n",
      "Created: artifacts.md\n",
      "Created: CapabilityStatement_plan_net.md\n"
     ]
    }
   ],
   "source": [
    "urls = [\n",
    "    \"https://hl7.org/fhir/us/davinci-pdex-plan-net/index.html\",\n",
    "    \"https://hl7.org/fhir/us/davinci-pdex-plan-net/ChangeHistory.html\",\n",
    "    \"https://hl7.org/fhir/us/davinci-pdex-plan-net/examples.html\",\n",
    "    \"https://hl7.org/fhir/us/davinci-pdex-plan-net/implementation.html\",\n",
    "    \"https://hl7.org/fhir/us/davinci-pdex-plan-net/profiles.html\",\n",
    "    \"https://hl7.org/fhir/us/davinci-pdex-plan-net/artifacts.html\",\n",
    "    \"https://hl7.org/fhir/us/davinci-pdex-plan-net/CapabilityStatement-plan-net.html\"\n",
    "]\n",
    "\n",
    "HTML_extractor.convert_urls_to_markdown(urls, output_dir=\"text_extraction/PlanNet/site/markdown\")"
   ]
  },
  {
   "cell_type": "markdown",
   "id": "b0108ece",
   "metadata": {},
   "source": [
    "### Markdown Post-processing"
   ]
  },
  {
   "cell_type": "code",
   "execution_count": 7,
   "id": "aec7806b",
   "metadata": {},
   "outputs": [
    {
     "name": "stdout",
     "output_type": "stream",
     "text": [
      "Found 7 markdown files in checkpoints/text_extraction/PlanNet/site/markdown\n",
      "Cleaned and saved: checkpoints/post_processing/implementation.md\n",
      "Cleaned and saved: checkpoints/post_processing/examples.md\n",
      "Cleaned and saved: checkpoints/post_processing/profiles.md\n",
      "Cleaned and saved: checkpoints/post_processing/ChangeHistory.md\n",
      "Cleaned and saved: checkpoints/post_processing/artifacts.md\n",
      "Cleaned and saved: checkpoints/post_processing/index.md\n",
      "Cleaned and saved: checkpoints/post_processing/CapabilityStatement_plan_net.md\n",
      "\n",
      "Processing complete: 7 files successfully cleaned, 0 failed\n"
     ]
    }
   ],
   "source": [
    "import markdown_cleaner\n",
    "markdown_cleaner.process_directory(\"checkpoints/text_extraction/PlanNet/site/markdown\", \"checkpoints/post_processing/\")"
   ]
  },
  {
   "cell_type": "markdown",
   "id": "eb3fa2d1",
   "metadata": {},
   "source": [
    "## Requirements Extraction"
   ]
  },
  {
   "cell_type": "markdown",
   "id": "be0566ab",
   "metadata": {},
   "source": [
    "### Prompt-based Requirement Extraction"
   ]
  },
  {
   "cell_type": "code",
   "execution_count": 15,
   "id": "8d4e5a8c",
   "metadata": {},
   "outputs": [
    {
     "ename": "NameError",
     "evalue": "name 'reqs_extraction' is not defined",
     "output_type": "error",
     "traceback": [
      "\u001b[31m---------------------------------------------------------------------------\u001b[39m",
      "\u001b[31mNameError\u001b[39m                                 Traceback (most recent call last)",
      "\u001b[36mCell\u001b[39m\u001b[36m \u001b[39m\u001b[32mIn[15]\u001b[39m\u001b[32m, line 1\u001b[39m\n\u001b[32m----> \u001b[39m\u001b[32m1\u001b[39m importlib.reload(\u001b[43mreqs_extraction\u001b[49m)\n",
      "\u001b[31mNameError\u001b[39m: name 'reqs_extraction' is not defined"
     ]
    }
   ],
   "source": [
    "importlib.reload(reqs_extraction)"
   ]
  },
  {
   "cell_type": "code",
   "execution_count": 18,
   "id": "c7fd5bf6",
   "metadata": {},
   "outputs": [],
   "source": [
    "import reqs_extraction\n"
   ]
  },
  {
   "cell_type": "code",
   "execution_count": null,
   "id": "31999d1d",
   "metadata": {},
   "outputs": [],
   "source": [
    "reqs_extraction.run_requirements_extractor(\n",
    "    'checkpoints/post_processing', \n",
    "    'checkpoints/requirements_extraction/markdown', \n",
    "    'claude', \n",
    "    llm_clients)"
   ]
  },
  {
   "cell_type": "markdown",
   "id": "0d402ce7",
   "metadata": {},
   "source": [
    "### RAG-based Requirement Extraction\n",
    "\n",
    "This extraction requirement extraction method differs from the first in that, as a part of the creation of its prompt, it performs a semantic search on example sections of FHIR IG text and the human-generated requirements that were produced in reference to those sections of text to find the most similar section(s) of FHIR IG text in the database and their associated requirement(s). Those sets of IG text and requirement(s) are then supplied to the LLM as few-shot examples"
   ]
  },
  {
   "cell_type": "code",
   "execution_count": 3,
   "id": "15d61585",
   "metadata": {},
   "outputs": [],
   "source": [
    "import rag_reqs_extraction"
   ]
  },
  {
   "cell_type": "code",
   "execution_count": null,
   "id": "3b8c6bef",
   "metadata": {},
   "outputs": [
    {
     "name": "stdout",
     "output_type": "stream",
     "text": [
      "2 of 2\r"
     ]
    }
   ],
   "source": [
    "importlib.reload(rag_reqs_extraction)\n",
    "rag_reqs_extraction.full_pass(llm_clients, 'claude', \"checkpoints/post_processing/\", \"checkpoints/requirements_extraction/RAG\")"
   ]
  },
  {
   "cell_type": "markdown",
   "id": "0b2ccc40",
   "metadata": {},
   "source": [
    "## Requirement Downselection"
   ]
  },
  {
   "cell_type": "code",
   "execution_count": 24,
   "id": "78226f35",
   "metadata": {},
   "outputs": [
    {
     "name": "stdout",
     "output_type": "stream",
     "text": [
      "Pair 53824 of 53824\r"
     ]
    }
   ],
   "source": [
    "import requirement_downselect\n",
    "importlib.reload(requirement_downselect)\n",
    "requirement_downselect.full_pass(\n",
    "    md_files=[\"checkpoints/requirements_extraction/claude_reqs_list_v1_20250429_081756.md\"],\n",
    "    rag_files=[\"checkpoints/requirements_extraction/RAG/plan_net_reqs.json\"]\n",
    "    )"
   ]
  },
  {
   "cell_type": "markdown",
   "id": "669a69ed",
   "metadata": {},
   "source": [
    "## Test Plan Generation"
   ]
  },
  {
   "cell_type": "code",
   "execution_count": 31,
   "id": "4ee31b17",
   "metadata": {},
   "outputs": [],
   "source": [
    "import logging\n",
    "llm_clients.logger.setLevel(logging.INFO)"
   ]
  },
  {
   "cell_type": "code",
   "execution_count": 10,
   "id": "5cf1f5b1",
   "metadata": {},
   "outputs": [
    {
     "name": "stderr",
     "output_type": "stream",
     "text": [
      "2025-06-20 11:48:36,696 - root - INFO - Prompt environment set up at: /Users/ceadams/Documents/onclaive/onclaive/prompts\n",
      "2025-06-20 11:48:36,697 - llm_utils - INFO - Starting test plan generation with claude for Plan-Net IG\n",
      "2025-06-20 11:48:36,698 - llm_utils - ERROR - Error processing requirements: Expecting value: line 1 column 1 (char 0)\n"
     ]
    },
    {
     "ename": "JSONDecodeError",
     "evalue": "Expecting value: line 1 column 1 (char 0)",
     "output_type": "error",
     "traceback": [
      "\u001b[31m---------------------------------------------------------------------------\u001b[39m",
      "\u001b[31mJSONDecodeError\u001b[39m                           Traceback (most recent call last)",
      "\u001b[36mCell\u001b[39m\u001b[36m \u001b[39m\u001b[32mIn[10]\u001b[39m\u001b[32m, line 4\u001b[39m\n\u001b[32m      1\u001b[39m \u001b[38;5;28;01mimport\u001b[39;00m\u001b[38;5;250m \u001b[39m\u001b[34;01mreq_to_testplan\u001b[39;00m\n\u001b[32m      2\u001b[39m importlib.reload(req_to_testplan)\n\u001b[32m----> \u001b[39m\u001b[32m4\u001b[39m \u001b[43mreq_to_testplan\u001b[49m\u001b[43m.\u001b[49m\u001b[43mgenerate_consolidated_test_plan\u001b[49m\u001b[43m(\u001b[49m\n\u001b[32m      5\u001b[39m \u001b[43m    \u001b[49m\u001b[43mllm_clients\u001b[49m\u001b[43m,\u001b[49m\u001b[43m \u001b[49m\n\u001b[32m      6\u001b[39m \u001b[43m    \u001b[49m\u001b[33;43m'\u001b[39;49m\u001b[33;43mclaude\u001b[39;49m\u001b[33;43m'\u001b[39;49m\u001b[43m,\u001b[49m\u001b[43m \u001b[49m\n\u001b[32m      7\u001b[39m \u001b[43m    \u001b[49m\u001b[43mllm_clients\u001b[49m\u001b[43m.\u001b[49m\u001b[43mlogger\u001b[49m\u001b[43m,\u001b[49m\u001b[43m \u001b[49m\n\u001b[32m      8\u001b[39m \u001b[43m    \u001b[49m\u001b[33;43m\"\u001b[39;49m\u001b[33;43m/Users/ceadams/Documents/onclaive/onclaive/reqs_extraction/revised_reqs_output/plan-net-requirements.md\u001b[39;49m\u001b[33;43m\"\u001b[39;49m\u001b[43m,\u001b[49m\u001b[43m \u001b[49m\n\u001b[32m      9\u001b[39m \u001b[43m    \u001b[49m\u001b[33;43m\"\u001b[39;49m\u001b[33;43m../full-ig/markdown7_cleaned/CapabilityStatement_plan_net.md\u001b[39;49m\u001b[33;43m\"\u001b[39;49m\u001b[43m,\u001b[49m\u001b[43m \u001b[49m\n\u001b[32m     10\u001b[39m \u001b[43m    \u001b[49m\u001b[33;43m\"\u001b[39;49m\u001b[33;43mPlan-Net IG\u001b[39;49m\u001b[33;43m\"\u001b[39;49m\u001b[43m,\u001b[49m\n\u001b[32m     11\u001b[39m \u001b[43m    \u001b[49m\u001b[43moutput_dir\u001b[49m\u001b[43m=\u001b[49m\u001b[33;43m'\u001b[39;49m\u001b[33;43mcheckpoints/testplan_generation\u001b[39;49m\u001b[33;43m'\u001b[39;49m\u001b[43m)\u001b[49m\n",
      "\u001b[36mFile \u001b[39m\u001b[32m~/Documents/onclaive/onclaive/pipeline/req_to_testplan.py:416\u001b[39m, in \u001b[36mgenerate_consolidated_test_plan\u001b[39m\u001b[34m(llm_clients, api_type, logger, requirements_file, capability_statement_file, ig_name, output_dir)\u001b[39m\n\u001b[32m    412\u001b[39m timestamp = datetime.now().strftime(\u001b[33m\"\u001b[39m\u001b[33m%\u001b[39m\u001b[33mY\u001b[39m\u001b[33m%\u001b[39m\u001b[33mm\u001b[39m\u001b[38;5;132;01m%d\u001b[39;00m\u001b[33m_\u001b[39m\u001b[33m%\u001b[39m\u001b[33mH\u001b[39m\u001b[33m%\u001b[39m\u001b[33mM\u001b[39m\u001b[33m%\u001b[39m\u001b[33mS\u001b[39m\u001b[33m\"\u001b[39m)\n\u001b[32m    414\u001b[39m \u001b[38;5;28;01mtry\u001b[39;00m:\n\u001b[32m    415\u001b[39m     \u001b[38;5;66;03m# Parse requirements from file\u001b[39;00m\n\u001b[32m--> \u001b[39m\u001b[32m416\u001b[39m     requirements = \u001b[43mload_requirements\u001b[49m\u001b[43m(\u001b[49m\u001b[43mrequirements_file\u001b[49m\u001b[43m)\u001b[49m\n\u001b[32m    417\u001b[39m     logger.info(\u001b[33mf\u001b[39m\u001b[33m\"\u001b[39m\u001b[33mParsed \u001b[39m\u001b[38;5;132;01m{\u001b[39;00m\u001b[38;5;28mlen\u001b[39m(requirements)\u001b[38;5;132;01m}\u001b[39;00m\u001b[33m requirements from \u001b[39m\u001b[38;5;132;01m{\u001b[39;00mrequirements_file\u001b[38;5;132;01m}\u001b[39;00m\u001b[33m\"\u001b[39m)\n\u001b[32m    419\u001b[39m     \u001b[38;5;66;03m# Parse capability statement if provided\u001b[39;00m\n",
      "\u001b[36mFile \u001b[39m\u001b[32m~/Documents/onclaive/onclaive/pipeline/req_to_testplan.py:282\u001b[39m, in \u001b[36mload_requirements\u001b[39m\u001b[34m(req_file)\u001b[39m\n\u001b[32m    280\u001b[39m \u001b[38;5;28;01mdef\u001b[39;00m\u001b[38;5;250m \u001b[39m\u001b[34mload_requirements\u001b[39m(req_file):\n\u001b[32m    281\u001b[39m     \u001b[38;5;28;01mwith\u001b[39;00m \u001b[38;5;28mopen\u001b[39m(req_file) \u001b[38;5;28;01mas\u001b[39;00m f:\n\u001b[32m--> \u001b[39m\u001b[32m282\u001b[39m         data = \u001b[43mjson\u001b[49m\u001b[43m.\u001b[49m\u001b[43mload\u001b[49m\u001b[43m(\u001b[49m\u001b[43mf\u001b[49m\u001b[43m)\u001b[49m\n\u001b[32m    283\u001b[39m     \u001b[38;5;28;01mreturn\u001b[39;00m data\n",
      "\u001b[36mFile \u001b[39m\u001b[32m/opt/homebrew/Cellar/python@3.12/3.12.6/Frameworks/Python.framework/Versions/3.12/lib/python3.12/json/__init__.py:293\u001b[39m, in \u001b[36mload\u001b[39m\u001b[34m(fp, cls, object_hook, parse_float, parse_int, parse_constant, object_pairs_hook, **kw)\u001b[39m\n\u001b[32m    274\u001b[39m \u001b[38;5;28;01mdef\u001b[39;00m\u001b[38;5;250m \u001b[39m\u001b[34mload\u001b[39m(fp, *, \u001b[38;5;28mcls\u001b[39m=\u001b[38;5;28;01mNone\u001b[39;00m, object_hook=\u001b[38;5;28;01mNone\u001b[39;00m, parse_float=\u001b[38;5;28;01mNone\u001b[39;00m,\n\u001b[32m    275\u001b[39m         parse_int=\u001b[38;5;28;01mNone\u001b[39;00m, parse_constant=\u001b[38;5;28;01mNone\u001b[39;00m, object_pairs_hook=\u001b[38;5;28;01mNone\u001b[39;00m, **kw):\n\u001b[32m    276\u001b[39m \u001b[38;5;250m    \u001b[39m\u001b[33;03m\"\"\"Deserialize ``fp`` (a ``.read()``-supporting file-like object containing\u001b[39;00m\n\u001b[32m    277\u001b[39m \u001b[33;03m    a JSON document) to a Python object.\u001b[39;00m\n\u001b[32m    278\u001b[39m \n\u001b[32m   (...)\u001b[39m\u001b[32m    291\u001b[39m \u001b[33;03m    kwarg; otherwise ``JSONDecoder`` is used.\u001b[39;00m\n\u001b[32m    292\u001b[39m \u001b[33;03m    \"\"\"\u001b[39;00m\n\u001b[32m--> \u001b[39m\u001b[32m293\u001b[39m     \u001b[38;5;28;01mreturn\u001b[39;00m \u001b[43mloads\u001b[49m\u001b[43m(\u001b[49m\u001b[43mfp\u001b[49m\u001b[43m.\u001b[49m\u001b[43mread\u001b[49m\u001b[43m(\u001b[49m\u001b[43m)\u001b[49m\u001b[43m,\u001b[49m\n\u001b[32m    294\u001b[39m \u001b[43m        \u001b[49m\u001b[38;5;28;43mcls\u001b[39;49m\u001b[43m=\u001b[49m\u001b[38;5;28;43mcls\u001b[39;49m\u001b[43m,\u001b[49m\u001b[43m \u001b[49m\u001b[43mobject_hook\u001b[49m\u001b[43m=\u001b[49m\u001b[43mobject_hook\u001b[49m\u001b[43m,\u001b[49m\n\u001b[32m    295\u001b[39m \u001b[43m        \u001b[49m\u001b[43mparse_float\u001b[49m\u001b[43m=\u001b[49m\u001b[43mparse_float\u001b[49m\u001b[43m,\u001b[49m\u001b[43m \u001b[49m\u001b[43mparse_int\u001b[49m\u001b[43m=\u001b[49m\u001b[43mparse_int\u001b[49m\u001b[43m,\u001b[49m\n\u001b[32m    296\u001b[39m \u001b[43m        \u001b[49m\u001b[43mparse_constant\u001b[49m\u001b[43m=\u001b[49m\u001b[43mparse_constant\u001b[49m\u001b[43m,\u001b[49m\u001b[43m \u001b[49m\u001b[43mobject_pairs_hook\u001b[49m\u001b[43m=\u001b[49m\u001b[43mobject_pairs_hook\u001b[49m\u001b[43m,\u001b[49m\u001b[43m \u001b[49m\u001b[43m*\u001b[49m\u001b[43m*\u001b[49m\u001b[43mkw\u001b[49m\u001b[43m)\u001b[49m\n",
      "\u001b[36mFile \u001b[39m\u001b[32m/opt/homebrew/Cellar/python@3.12/3.12.6/Frameworks/Python.framework/Versions/3.12/lib/python3.12/json/__init__.py:346\u001b[39m, in \u001b[36mloads\u001b[39m\u001b[34m(s, cls, object_hook, parse_float, parse_int, parse_constant, object_pairs_hook, **kw)\u001b[39m\n\u001b[32m    341\u001b[39m     s = s.decode(detect_encoding(s), \u001b[33m'\u001b[39m\u001b[33msurrogatepass\u001b[39m\u001b[33m'\u001b[39m)\n\u001b[32m    343\u001b[39m \u001b[38;5;28;01mif\u001b[39;00m (\u001b[38;5;28mcls\u001b[39m \u001b[38;5;129;01mis\u001b[39;00m \u001b[38;5;28;01mNone\u001b[39;00m \u001b[38;5;129;01mand\u001b[39;00m object_hook \u001b[38;5;129;01mis\u001b[39;00m \u001b[38;5;28;01mNone\u001b[39;00m \u001b[38;5;129;01mand\u001b[39;00m\n\u001b[32m    344\u001b[39m         parse_int \u001b[38;5;129;01mis\u001b[39;00m \u001b[38;5;28;01mNone\u001b[39;00m \u001b[38;5;129;01mand\u001b[39;00m parse_float \u001b[38;5;129;01mis\u001b[39;00m \u001b[38;5;28;01mNone\u001b[39;00m \u001b[38;5;129;01mand\u001b[39;00m\n\u001b[32m    345\u001b[39m         parse_constant \u001b[38;5;129;01mis\u001b[39;00m \u001b[38;5;28;01mNone\u001b[39;00m \u001b[38;5;129;01mand\u001b[39;00m object_pairs_hook \u001b[38;5;129;01mis\u001b[39;00m \u001b[38;5;28;01mNone\u001b[39;00m \u001b[38;5;129;01mand\u001b[39;00m \u001b[38;5;129;01mnot\u001b[39;00m kw):\n\u001b[32m--> \u001b[39m\u001b[32m346\u001b[39m     \u001b[38;5;28;01mreturn\u001b[39;00m \u001b[43m_default_decoder\u001b[49m\u001b[43m.\u001b[49m\u001b[43mdecode\u001b[49m\u001b[43m(\u001b[49m\u001b[43ms\u001b[49m\u001b[43m)\u001b[49m\n\u001b[32m    347\u001b[39m \u001b[38;5;28;01mif\u001b[39;00m \u001b[38;5;28mcls\u001b[39m \u001b[38;5;129;01mis\u001b[39;00m \u001b[38;5;28;01mNone\u001b[39;00m:\n\u001b[32m    348\u001b[39m     \u001b[38;5;28mcls\u001b[39m = JSONDecoder\n",
      "\u001b[36mFile \u001b[39m\u001b[32m/opt/homebrew/Cellar/python@3.12/3.12.6/Frameworks/Python.framework/Versions/3.12/lib/python3.12/json/decoder.py:337\u001b[39m, in \u001b[36mJSONDecoder.decode\u001b[39m\u001b[34m(self, s, _w)\u001b[39m\n\u001b[32m    332\u001b[39m \u001b[38;5;28;01mdef\u001b[39;00m\u001b[38;5;250m \u001b[39m\u001b[34mdecode\u001b[39m(\u001b[38;5;28mself\u001b[39m, s, _w=WHITESPACE.match):\n\u001b[32m    333\u001b[39m \u001b[38;5;250m    \u001b[39m\u001b[33;03m\"\"\"Return the Python representation of ``s`` (a ``str`` instance\u001b[39;00m\n\u001b[32m    334\u001b[39m \u001b[33;03m    containing a JSON document).\u001b[39;00m\n\u001b[32m    335\u001b[39m \n\u001b[32m    336\u001b[39m \u001b[33;03m    \"\"\"\u001b[39;00m\n\u001b[32m--> \u001b[39m\u001b[32m337\u001b[39m     obj, end = \u001b[38;5;28;43mself\u001b[39;49m\u001b[43m.\u001b[49m\u001b[43mraw_decode\u001b[49m\u001b[43m(\u001b[49m\u001b[43ms\u001b[49m\u001b[43m,\u001b[49m\u001b[43m \u001b[49m\u001b[43midx\u001b[49m\u001b[43m=\u001b[49m\u001b[43m_w\u001b[49m\u001b[43m(\u001b[49m\u001b[43ms\u001b[49m\u001b[43m,\u001b[49m\u001b[43m \u001b[49m\u001b[32;43m0\u001b[39;49m\u001b[43m)\u001b[49m\u001b[43m.\u001b[49m\u001b[43mend\u001b[49m\u001b[43m(\u001b[49m\u001b[43m)\u001b[49m\u001b[43m)\u001b[49m\n\u001b[32m    338\u001b[39m     end = _w(s, end).end()\n\u001b[32m    339\u001b[39m     \u001b[38;5;28;01mif\u001b[39;00m end != \u001b[38;5;28mlen\u001b[39m(s):\n",
      "\u001b[36mFile \u001b[39m\u001b[32m/opt/homebrew/Cellar/python@3.12/3.12.6/Frameworks/Python.framework/Versions/3.12/lib/python3.12/json/decoder.py:355\u001b[39m, in \u001b[36mJSONDecoder.raw_decode\u001b[39m\u001b[34m(self, s, idx)\u001b[39m\n\u001b[32m    353\u001b[39m     obj, end = \u001b[38;5;28mself\u001b[39m.scan_once(s, idx)\n\u001b[32m    354\u001b[39m \u001b[38;5;28;01mexcept\u001b[39;00m \u001b[38;5;167;01mStopIteration\u001b[39;00m \u001b[38;5;28;01mas\u001b[39;00m err:\n\u001b[32m--> \u001b[39m\u001b[32m355\u001b[39m     \u001b[38;5;28;01mraise\u001b[39;00m JSONDecodeError(\u001b[33m\"\u001b[39m\u001b[33mExpecting value\u001b[39m\u001b[33m\"\u001b[39m, s, err.value) \u001b[38;5;28;01mfrom\u001b[39;00m\u001b[38;5;250m \u001b[39m\u001b[38;5;28;01mNone\u001b[39;00m\n\u001b[32m    356\u001b[39m \u001b[38;5;28;01mreturn\u001b[39;00m obj, end\n",
      "\u001b[31mJSONDecodeError\u001b[39m: Expecting value: line 1 column 1 (char 0)"
     ]
    }
   ],
   "source": [
    "import req_to_testplan\n",
    "importlib.reload(req_to_testplan)\n",
    "\n",
    "req_to_testplan.generate_consolidated_test_plan(\n",
    "    llm_clients, \n",
    "    'claude', \n",
    "    llm_clients.logger, \n",
    "    \"/Users/ceadams/Documents/onclaive/onclaive/reqs_extraction/revised_reqs_output/plan-net-requirements.md\", \n",
    "    \"../full-ig/markdown7_cleaned/CapabilityStatement_plan_net.md\", \n",
    "    \"Plan-Net IG\",\n",
    "    output_dir='checkpoints/testplan_generation')"
   ]
  },
  {
   "cell_type": "markdown",
   "id": "d080ace6",
   "metadata": {},
   "source": [
    "## Test Kit Generation"
   ]
  },
  {
   "cell_type": "code",
   "execution_count": 8,
   "id": "4ef90585",
   "metadata": {},
   "outputs": [
    {
     "name": "stderr",
     "output_type": "stream",
     "text": [
      "2025-06-19 15:10:47,505 - plan_to_tests - INFO - Starting Inferno test generation with claude for PlanNet\n",
      "2025-06-19 15:10:47,516 - plan_to_tests - INFO - Parsed test plan into 11 sections\n",
      "2025-06-19 15:10:47,516 - plan_to_tests - INFO - Found 11 total requirements\n",
      "2025-06-19 15:10:47,518 - plan_to_tests - INFO - Loaded Inferno DSL guidance\n",
      "2025-06-19 15:10:47,518 - plan_to_tests - INFO - Processing section: Application-Level Requirements with 1 requirements\n",
      "2025-06-19 15:10:47,518 - plan_to_tests - INFO - Generating tests for section: Application-Level Requirements\n",
      "2025-06-19 15:10:47,519 - plan_to_tests - INFO - Generating test for requirement: REQ-08\n",
      "2025-06-19 15:10:47,520 - plan_to_tests - INFO - Requirement REQ-08: Sending 989 tokens to claude API (limit: 16000)\n"
     ]
    },
    {
     "name": "stdout",
     "output_type": "stream",
     "text": [
      "Found 11 potential requirements\n",
      "Processing requirement: REQ-08\n",
      "Added requirement REQ-08 to section Application-Level Requirements\n",
      "Processing requirement: REQ-01\n",
      "Added requirement REQ-01 to section Authentication\n",
      "Processing requirement: REQ-09\n",
      "Added requirement REQ-09 to section Base Requirements\n",
      "Processing requirement: REQ-07\n",
      "Added requirement REQ-07 to section CORE Conformance\n",
      "Processing requirement: REQ-06\n",
      "Added requirement REQ-06 to section Cross-Resource\n",
      "Processing requirement: REQ-04\n",
      "Added requirement REQ-04 to section General Requirements\n",
      "Processing requirement: REQ-05\n",
      "Added requirement REQ-05 to section Global\n",
      "Processing requirement: REQ-11\n",
      "Added requirement REQ-11 to section OrganizationAffiliation\n",
      "Processing requirement: REQ-02\n",
      "Added requirement REQ-02 to section Plan-Net API Security\n",
      "Processing requirement: REQ-10\n",
      "Added requirement REQ-10 to section PractitionerRole\n",
      "Processing requirement: REQ-03\n",
      "Added requirement REQ-03 to section Security\n"
     ]
    },
    {
     "name": "stderr",
     "output_type": "stream",
     "text": [
      "2025-06-19 15:10:58,370 - httpx - INFO - HTTP Request: POST https://api.anthropic.com/v1/messages \"HTTP/1.1 200 OK\"\n",
      "2025-06-19 15:10:58,371 - plan_to_tests - INFO - Successfully generated test for requirement: REQ-08\n",
      "2025-06-19 15:10:58,372 - plan_to_tests - INFO - Validating test for requirement: REQ-08\n",
      "2025-06-19 15:10:58,372 - plan_to_tests - INFO - Validation for test: Sending 1528 tokens to claude API\n",
      "2025-06-19 15:11:07,548 - httpx - INFO - HTTP Request: POST https://api.anthropic.com/v1/messages \"HTTP/1.1 200 OK\"\n",
      "2025-06-19 15:11:07,552 - plan_to_tests - INFO - Successfully validated test for requirement: REQ-08\n",
      "2025-06-19 15:11:10,556 - plan_to_tests - INFO - Processing section: Authentication with 1 requirements\n",
      "2025-06-19 15:11:10,558 - plan_to_tests - INFO - Generating tests for section: Authentication\n",
      "2025-06-19 15:11:10,562 - plan_to_tests - INFO - Generating test for requirement: REQ-01\n",
      "2025-06-19 15:11:10,565 - plan_to_tests - INFO - Requirement REQ-01: Sending 983 tokens to claude API (limit: 16000)\n",
      "2025-06-19 15:11:23,339 - httpx - INFO - HTTP Request: POST https://api.anthropic.com/v1/messages \"HTTP/1.1 200 OK\"\n",
      "2025-06-19 15:11:23,340 - plan_to_tests - INFO - Successfully generated test for requirement: REQ-01\n",
      "2025-06-19 15:11:23,341 - plan_to_tests - INFO - Validating test for requirement: REQ-01\n",
      "2025-06-19 15:11:23,341 - plan_to_tests - INFO - Validation for test: Sending 1630 tokens to claude API\n",
      "2025-06-19 15:11:34,156 - httpx - INFO - HTTP Request: POST https://api.anthropic.com/v1/messages \"HTTP/1.1 200 OK\"\n",
      "2025-06-19 15:11:34,158 - plan_to_tests - INFO - Successfully validated test for requirement: REQ-01\n",
      "2025-06-19 15:11:37,164 - plan_to_tests - INFO - Processing section: Base Requirements with 1 requirements\n",
      "2025-06-19 15:11:37,165 - plan_to_tests - INFO - Generating tests for section: Base Requirements\n",
      "2025-06-19 15:11:37,165 - plan_to_tests - INFO - Generating test for requirement: REQ-09\n",
      "2025-06-19 15:11:37,167 - plan_to_tests - INFO - Requirement REQ-09: Sending 993 tokens to claude API (limit: 16000)\n",
      "2025-06-19 15:11:51,011 - httpx - INFO - HTTP Request: POST https://api.anthropic.com/v1/messages \"HTTP/1.1 200 OK\"\n",
      "2025-06-19 15:11:51,012 - plan_to_tests - INFO - Successfully generated test for requirement: REQ-09\n",
      "2025-06-19 15:11:51,012 - plan_to_tests - INFO - Validating test for requirement: REQ-09\n",
      "2025-06-19 15:11:51,012 - plan_to_tests - INFO - Validation for test: Sending 1545 tokens to claude API\n",
      "2025-06-19 15:12:02,103 - httpx - INFO - HTTP Request: POST https://api.anthropic.com/v1/messages \"HTTP/1.1 200 OK\"\n",
      "2025-06-19 15:12:02,106 - plan_to_tests - INFO - Successfully validated test for requirement: REQ-09\n",
      "2025-06-19 15:12:05,112 - plan_to_tests - INFO - Processing section: CORE Conformance with 1 requirements\n",
      "2025-06-19 15:12:05,113 - plan_to_tests - INFO - Generating tests for section: CORE Conformance\n",
      "2025-06-19 15:12:05,114 - plan_to_tests - INFO - Generating test for requirement: REQ-07\n",
      "2025-06-19 15:12:05,116 - plan_to_tests - INFO - Requirement REQ-07: Sending 995 tokens to claude API (limit: 16000)\n",
      "2025-06-19 15:12:19,351 - httpx - INFO - HTTP Request: POST https://api.anthropic.com/v1/messages \"HTTP/1.1 200 OK\"\n",
      "2025-06-19 15:12:19,355 - plan_to_tests - INFO - Successfully generated test for requirement: REQ-07\n",
      "2025-06-19 15:12:19,356 - plan_to_tests - INFO - Validating test for requirement: REQ-07\n",
      "2025-06-19 15:12:19,356 - plan_to_tests - INFO - Validation for test: Sending 1819 tokens to claude API\n",
      "2025-06-19 15:12:30,963 - httpx - INFO - HTTP Request: POST https://api.anthropic.com/v1/messages \"HTTP/1.1 200 OK\"\n",
      "2025-06-19 15:12:30,968 - plan_to_tests - INFO - Successfully validated test for requirement: REQ-07\n",
      "2025-06-19 15:12:33,974 - plan_to_tests - INFO - Processing section: Cross-Resource with 1 requirements\n",
      "2025-06-19 15:12:33,975 - plan_to_tests - INFO - Generating tests for section: Cross-Resource\n",
      "2025-06-19 15:12:33,975 - plan_to_tests - INFO - Generating test for requirement: REQ-06\n",
      "2025-06-19 15:12:33,979 - plan_to_tests - INFO - Requirement REQ-06: Sending 1009 tokens to claude API (limit: 16000)\n",
      "2025-06-19 15:12:49,303 - httpx - INFO - HTTP Request: POST https://api.anthropic.com/v1/messages \"HTTP/1.1 200 OK\"\n",
      "2025-06-19 15:12:49,305 - plan_to_tests - INFO - Successfully generated test for requirement: REQ-06\n",
      "2025-06-19 15:12:49,305 - plan_to_tests - INFO - Validating test for requirement: REQ-06\n",
      "2025-06-19 15:12:49,305 - plan_to_tests - INFO - Validation for test: Sending 1728 tokens to claude API\n",
      "2025-06-19 15:13:03,122 - httpx - INFO - HTTP Request: POST https://api.anthropic.com/v1/messages \"HTTP/1.1 200 OK\"\n",
      "2025-06-19 15:13:03,125 - plan_to_tests - INFO - Successfully validated test for requirement: REQ-06\n",
      "2025-06-19 15:13:06,132 - plan_to_tests - INFO - Processing section: General Requirements with 1 requirements\n",
      "2025-06-19 15:13:06,133 - plan_to_tests - INFO - Generating tests for section: General Requirements\n",
      "2025-06-19 15:13:06,133 - plan_to_tests - INFO - Generating test for requirement: REQ-04\n",
      "2025-06-19 15:13:06,135 - plan_to_tests - INFO - Requirement REQ-04: Sending 983 tokens to claude API (limit: 16000)\n",
      "2025-06-19 15:13:18,851 - httpx - INFO - HTTP Request: POST https://api.anthropic.com/v1/messages \"HTTP/1.1 200 OK\"\n",
      "2025-06-19 15:13:18,853 - plan_to_tests - INFO - Successfully generated test for requirement: REQ-04\n",
      "2025-06-19 15:13:18,853 - plan_to_tests - INFO - Validating test for requirement: REQ-04\n",
      "2025-06-19 15:13:18,854 - plan_to_tests - INFO - Validation for test: Sending 1558 tokens to claude API\n",
      "2025-06-19 15:13:29,254 - httpx - INFO - HTTP Request: POST https://api.anthropic.com/v1/messages \"HTTP/1.1 200 OK\"\n",
      "2025-06-19 15:13:29,258 - plan_to_tests - INFO - Successfully validated test for requirement: REQ-04\n",
      "2025-06-19 15:13:32,263 - plan_to_tests - INFO - Processing section: Global with 1 requirements\n",
      "2025-06-19 15:13:32,264 - plan_to_tests - INFO - Generating tests for section: Global\n",
      "2025-06-19 15:13:32,267 - plan_to_tests - INFO - Generating test for requirement: REQ-05\n",
      "2025-06-19 15:13:32,270 - plan_to_tests - INFO - Requirement REQ-05: Sending 1002 tokens to claude API (limit: 16000)\n",
      "2025-06-19 15:13:44,106 - httpx - INFO - HTTP Request: POST https://api.anthropic.com/v1/messages \"HTTP/1.1 200 OK\"\n",
      "2025-06-19 15:13:44,108 - plan_to_tests - INFO - Successfully generated test for requirement: REQ-05\n",
      "2025-06-19 15:13:44,108 - plan_to_tests - INFO - Validating test for requirement: REQ-05\n",
      "2025-06-19 15:13:44,108 - plan_to_tests - INFO - Validation for test: Sending 1531 tokens to claude API\n",
      "2025-06-19 15:13:54,353 - httpx - INFO - HTTP Request: POST https://api.anthropic.com/v1/messages \"HTTP/1.1 200 OK\"\n",
      "2025-06-19 15:13:54,357 - plan_to_tests - INFO - Successfully validated test for requirement: REQ-05\n",
      "2025-06-19 15:13:57,358 - plan_to_tests - INFO - Processing section: OrganizationAffiliation with 1 requirements\n",
      "2025-06-19 15:13:57,359 - plan_to_tests - INFO - Generating tests for section: OrganizationAffiliation\n",
      "2025-06-19 15:13:57,359 - plan_to_tests - INFO - Generating test for requirement: REQ-11\n",
      "2025-06-19 15:13:57,360 - plan_to_tests - INFO - Requirement REQ-11: Sending 996 tokens to claude API (limit: 16000)\n",
      "2025-06-19 15:14:10,157 - httpx - INFO - HTTP Request: POST https://api.anthropic.com/v1/messages \"HTTP/1.1 200 OK\"\n",
      "2025-06-19 15:14:10,159 - plan_to_tests - INFO - Successfully generated test for requirement: REQ-11\n",
      "2025-06-19 15:14:10,159 - plan_to_tests - INFO - Validating test for requirement: REQ-11\n",
      "2025-06-19 15:14:10,160 - plan_to_tests - INFO - Validation for test: Sending 1534 tokens to claude API\n",
      "2025-06-19 15:14:19,458 - httpx - INFO - HTTP Request: POST https://api.anthropic.com/v1/messages \"HTTP/1.1 200 OK\"\n",
      "2025-06-19 15:14:19,459 - plan_to_tests - INFO - Successfully validated test for requirement: REQ-11\n",
      "2025-06-19 15:14:22,463 - plan_to_tests - INFO - Processing section: Plan-Net API Security with 1 requirements\n",
      "2025-06-19 15:14:22,463 - plan_to_tests - INFO - Generating tests for section: Plan-Net API Security\n",
      "2025-06-19 15:14:22,463 - plan_to_tests - INFO - Generating test for requirement: REQ-02\n",
      "2025-06-19 15:14:22,464 - plan_to_tests - INFO - Requirement REQ-02: Sending 995 tokens to claude API (limit: 16000)\n",
      "2025-06-19 15:14:34,016 - httpx - INFO - HTTP Request: POST https://api.anthropic.com/v1/messages \"HTTP/1.1 200 OK\"\n",
      "2025-06-19 15:14:34,020 - plan_to_tests - INFO - Successfully generated test for requirement: REQ-02\n",
      "2025-06-19 15:14:34,021 - plan_to_tests - INFO - Validating test for requirement: REQ-02\n",
      "2025-06-19 15:14:34,021 - plan_to_tests - INFO - Validation for test: Sending 1475 tokens to claude API\n",
      "2025-06-19 15:14:43,112 - httpx - INFO - HTTP Request: POST https://api.anthropic.com/v1/messages \"HTTP/1.1 200 OK\"\n",
      "2025-06-19 15:14:43,114 - plan_to_tests - INFO - Successfully validated test for requirement: REQ-02\n",
      "2025-06-19 15:14:46,120 - plan_to_tests - INFO - Processing section: PractitionerRole with 1 requirements\n",
      "2025-06-19 15:14:46,121 - plan_to_tests - INFO - Generating tests for section: PractitionerRole\n",
      "2025-06-19 15:14:46,122 - plan_to_tests - INFO - Generating test for requirement: REQ-10\n",
      "2025-06-19 15:14:46,125 - plan_to_tests - INFO - Requirement REQ-10: Sending 994 tokens to claude API (limit: 16000)\n",
      "2025-06-19 15:14:59,826 - httpx - INFO - HTTP Request: POST https://api.anthropic.com/v1/messages \"HTTP/1.1 200 OK\"\n",
      "2025-06-19 15:14:59,834 - plan_to_tests - INFO - Successfully generated test for requirement: REQ-10\n",
      "2025-06-19 15:14:59,835 - plan_to_tests - INFO - Validating test for requirement: REQ-10\n",
      "2025-06-19 15:14:59,836 - plan_to_tests - INFO - Validation for test: Sending 1615 tokens to claude API\n",
      "2025-06-19 15:15:10,306 - httpx - INFO - HTTP Request: POST https://api.anthropic.com/v1/messages \"HTTP/1.1 200 OK\"\n",
      "2025-06-19 15:15:10,307 - plan_to_tests - INFO - Successfully validated test for requirement: REQ-10\n",
      "2025-06-19 15:15:13,315 - plan_to_tests - INFO - Processing section: Security with 1 requirements\n",
      "2025-06-19 15:15:13,319 - plan_to_tests - INFO - Generating tests for section: Security\n",
      "2025-06-19 15:15:13,319 - plan_to_tests - INFO - Generating test for requirement: REQ-03\n",
      "2025-06-19 15:15:13,321 - plan_to_tests - INFO - Requirement REQ-03: Sending 990 tokens to claude API (limit: 16000)\n",
      "2025-06-19 15:15:23,432 - httpx - INFO - HTTP Request: POST https://api.anthropic.com/v1/messages \"HTTP/1.1 200 OK\"\n",
      "2025-06-19 15:15:23,434 - plan_to_tests - INFO - Successfully generated test for requirement: REQ-03\n",
      "2025-06-19 15:15:23,435 - plan_to_tests - INFO - Validating test for requirement: REQ-03\n",
      "2025-06-19 15:15:23,435 - plan_to_tests - INFO - Validation for test: Sending 1401 tokens to claude API\n",
      "2025-06-19 15:15:32,493 - httpx - INFO - HTTP Request: POST https://api.anthropic.com/v1/messages \"HTTP/1.1 200 OK\"\n",
      "2025-06-19 15:15:32,494 - plan_to_tests - INFO - Successfully validated test for requirement: REQ-03\n",
      "2025-06-19 15:15:35,500 - plan_to_tests - INFO - Generated tests for 11 requirements\n",
      "2025-06-19 15:15:35,502 - plan_to_tests - INFO - Wrote test for REQ-08 to checkpoints/testkit_generation/plannet/application_actor/application_level_requirements/req_08_test.rb\n",
      "2025-06-19 15:15:35,502 - plan_to_tests - INFO - Wrote test for REQ-09 to checkpoints/testkit_generation/plannet/application_actor/base_requirements/req_09_test.rb\n",
      "2025-06-19 15:15:35,503 - plan_to_tests - INFO - Wrote test for REQ-07 to checkpoints/testkit_generation/plannet/application_actor/core_conformance/req_07_test.rb\n",
      "2025-06-19 15:15:35,504 - plan_to_tests - INFO - Wrote test for REQ-03 to checkpoints/testkit_generation/plannet/application_actor/security/req_03_test.rb\n",
      "2025-06-19 15:15:35,505 - plan_to_tests - INFO - Wrote test for REQ-01 to checkpoints/testkit_generation/plannet/health_plan_api/authentication/req_01_test.rb\n",
      "2025-06-19 15:15:35,506 - plan_to_tests - INFO - Wrote test for REQ-06 to checkpoints/testkit_generation/plannet/health_plan_api/cross_resource/req_06_test.rb\n",
      "2025-06-19 15:15:35,507 - plan_to_tests - INFO - Wrote test for REQ-04 to checkpoints/testkit_generation/plannet/health_plan_api/general_requirements/req_04_test.rb\n",
      "2025-06-19 15:15:35,508 - plan_to_tests - INFO - Wrote test for REQ-05 to checkpoints/testkit_generation/plannet/health_plan_api/global/req_05_test.rb\n",
      "2025-06-19 15:15:35,509 - plan_to_tests - INFO - Wrote test for REQ-11 to checkpoints/testkit_generation/plannet/health_plan_api/organizationaffiliation/req_11_test.rb\n",
      "2025-06-19 15:15:35,509 - plan_to_tests - INFO - Wrote test for REQ-02 to checkpoints/testkit_generation/plannet/health_plan_api/plan_net_api_security/req_02_test.rb\n",
      "2025-06-19 15:15:35,510 - plan_to_tests - INFO - Wrote test for REQ-10 to checkpoints/testkit_generation/plannet/health_plan_api/practitionerrole/req_10_test.rb\n",
      "2025-06-19 15:15:35,510 - plan_to_tests - INFO - Collecting test data for module file generation\n",
      "2025-06-19 15:15:35,517 - plan_to_tests - INFO - Created structure representation of test files\n",
      "2025-06-19 15:15:35,517 - plan_to_tests - INFO - Generating module file with LLM\n",
      "2025-06-19 15:15:45,940 - httpx - INFO - HTTP Request: POST https://api.anthropic.com/v1/messages \"HTTP/1.1 200 OK\"\n",
      "2025-06-19 15:15:45,946 - plan_to_tests - INFO - Wrote module file to checkpoints/testkit_generation/plannet.rb\n"
     ]
    },
    {
     "data": {
      "text/plain": [
       "{'total_sections': 11,\n",
       " 'total_requirements': 11,\n",
       " 'generated_tests': 11,\n",
       " 'module_dir': 'checkpoints/testkit_generation/plannet',\n",
       " 'module_file': 'checkpoints/testkit_generation/plannet.rb'}"
      ]
     },
     "execution_count": 8,
     "metadata": {},
     "output_type": "execute_result"
    }
   ],
   "source": [
    "import plan_to_tests\n",
    "importlib.reload(plan_to_tests)\n",
    "\n",
    "plan_to_tests.generate_inferno_test_kit(\n",
    "    llm_clients,\n",
    "    'claude',\n",
    "    '/Users/ceadams/Documents/onclaive/onclaive/test_kit_dev/test_plan_output/example_claude_test_plan_20250416_143409.md',\n",
    "    #'../test_kit_dev/inferno-guidance.md',\n",
    "    output_dir='checkpoints/testkit_generation',\n",
    "    expected_actors=[\"Health Plan API Actor\", \"Application Actor\"]\n",
    ")"
   ]
  },
  {
   "cell_type": "code",
   "execution_count": null,
   "id": "bdf7dc24",
   "metadata": {},
   "outputs": [],
   "source": []
  }
 ],
 "metadata": {
  "kernelspec": {
   "display_name": ".venv",
   "language": "python",
   "name": "python3"
  },
  "language_info": {
   "codemirror_mode": {
    "name": "ipython",
    "version": 3
   },
   "file_extension": ".py",
   "mimetype": "text/x-python",
   "name": "python",
   "nbconvert_exporter": "python",
   "pygments_lexer": "ipython3",
   "version": "3.12.6"
  }
 },
 "nbformat": 4,
 "nbformat_minor": 5
}
