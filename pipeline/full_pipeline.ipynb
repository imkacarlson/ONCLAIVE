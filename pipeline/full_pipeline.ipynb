{
 "cells": [
  {
   "cell_type": "markdown",
   "id": "73e3a524",
   "metadata": {},
   "source": [
    "# IG to Test Kit FULL pipeline"
   ]
  },
  {
   "cell_type": "markdown",
   "id": "8a5d267b",
   "metadata": {},
   "source": [
    "## Setup"
   ]
  },
  {
   "cell_type": "markdown",
   "id": "9de19ee6",
   "metadata": {},
   "source": [
    "### Importing Notebooks as Modules (from the [Jupyter Notebook Documentation](https://jupyter-notebook.readthedocs.io/en/4.x/examples/Notebook/rstversions/Importing%20Notebooks.html))"
   ]
  },
  {
   "cell_type": "code",
   "execution_count": 9,
   "id": "d9fc5ddc",
   "metadata": {},
   "outputs": [],
   "source": [
    "import inspect\n",
    "import json\n",
    "import llm_utils\n",
    "import importlib\n",
    "import requests\n",
    "from bs4 import BeautifulSoup\n",
    "from urllib.parse import urlparse\n",
    "from glob import glob"
   ]
  },
  {
   "cell_type": "markdown",
   "id": "0de7a6cc",
   "metadata": {},
   "source": [
    "## Initializing LLM Clients"
   ]
  },
  {
   "cell_type": "code",
   "execution_count": 17,
   "id": "3ead91a2",
   "metadata": {},
   "outputs": [
    {
     "name": "stderr",
     "output_type": "stream",
     "text": [
      "WARNING:llm_utils:GEMINI_API_KEY not found. Gemini API client will not be loaded.\n",
      "WARNING:llm_utils:OPENAI_API_KEY not found. GPT API client will not be loaded.\n"
     ]
    }
   ],
   "source": [
    "importlib.reload(llm_utils)\n",
    "llm_clients = llm_utils.LLMApiClient()"
   ]
  },
  {
   "cell_type": "code",
   "execution_count": 14,
   "id": "c39d130b",
   "metadata": {},
   "outputs": [
    {
     "data": {
      "text/plain": [
       "{'claude': <anthropic.Anthropic at 0x12fb732c0>,\n",
       " 'gemini': genai.GenerativeModel(\n",
       "     model_name='models/gemini-2.5-pro-preview-03-25',\n",
       "     generation_config={'max_output_tokens': 8192, 'temperature': 0.3},\n",
       "     safety_settings={},\n",
       "     tools=None,\n",
       "     system_instruction=None,\n",
       "     cached_content=None\n",
       " ),\n",
       " 'gpt': <openai.OpenAI at 0x12beeb470>}"
      ]
     },
     "execution_count": 14,
     "metadata": {},
     "output_type": "execute_result"
    }
   ],
   "source": [
    "llm_clients.clients"
   ]
  },
  {
   "cell_type": "markdown",
   "id": "8e6d80d1",
   "metadata": {},
   "source": [
    "## Text Extraction"
   ]
  },
  {
   "cell_type": "markdown",
   "id": "08717e1c",
   "metadata": {},
   "source": [
    "### HTML to Markdown Conversion Using Markdownify (Langchain Tool)"
   ]
  },
  {
   "cell_type": "code",
   "execution_count": 5,
   "id": "0687ec9f",
   "metadata": {},
   "outputs": [
    {
     "name": "stderr",
     "output_type": "stream",
     "text": [
      "/var/folders/y4/5w3wfdld3gv5brcy7cz9m7f80000gn/T/ipykernel_5933/2520396402.py:5: XMLParsedAsHTMLWarning: It looks like you're parsing an XML document using an HTML parser. If this really is an HTML document (maybe it's XHTML?), you can ignore or filter this warning. If it's XML, you should know that using an XML parser will be more reliable. To parse this document as XML, make sure you have the lxml package installed, and pass the keyword argument `features=\"xml\"` into the BeautifulSoup constructor.\n",
      "  soup = BeautifulSoup(requests.get(base+'/artifacts.html').text)\n"
     ]
    }
   ],
   "source": [
    "def is_absolute(url):\n",
    "    return bool(urlparse(url).netloc)\n",
    "\n",
    "base = 'https://hl7.org/fhir/us/davinci-pdex-plan-net'\n",
    "soup = BeautifulSoup(requests.get(base+'/artifacts.html').text)\n",
    "\n",
    "l_list = [x.get('href', '') for x in soup.find_all('a')]\n",
    "l_start = l_list.index(\"CapabilityStatement-plan-net.html\")\n",
    "l_stop = l_start+l_list[l_start:].index('security.html')\n",
    "l_list = l_list[46:l_stop]\n",
    "l2 = []\n",
    "for l in l_list:\n",
    "    if l not in ['#', '']:\n",
    "        if is_absolute(l):\n",
    "            l2.append(l)\n",
    "        else:\n",
    "            l2.append(base+'/'+l)"
   ]
  },
  {
   "cell_type": "code",
   "execution_count": 8,
   "id": "0d1b7eb1",
   "metadata": {},
   "outputs": [],
   "source": [
    "for l in list(set(l2)):\n",
    "    with open(f\"checkpoints/html_download/{l.split('/')[-1]}\", 'w+') as f:\n",
    "        f.write(requests.get(l).text)"
   ]
  },
  {
   "cell_type": "code",
   "execution_count": 13,
   "id": "7e9d960b",
   "metadata": {},
   "outputs": [
    {
     "data": {
      "text/plain": [
       "<module 'HTML_extractor' from '/Users/jrockhill/ONCLAIVE/pipeline/HTML_extractor.py'>"
      ]
     },
     "execution_count": 13,
     "metadata": {},
     "output_type": "execute_result"
    }
   ],
   "source": [
    "import HTML_extractor \n",
    "importlib.reload(HTML_extractor)"
   ]
  },
  {
   "cell_type": "code",
   "execution_count": null,
   "id": "ac0340e1",
   "metadata": {},
   "outputs": [
    {
     "name": "stdout",
     "output_type": "stream",
     "text": [
      "Found 165 HTML files to process\n"
     ]
    },
    {
     "name": "stderr",
     "output_type": "stream",
     "text": [
      "/Users/jrockhill/ONCLAIVE/pipeline/HTML_extractor.py:76: GuessedAtParserWarning: No parser was explicitly specified, so I'm using the best available HTML parser for this system (\"lxml\"). This usually isn't a problem, but if you run this code on another system, or in a different virtual environment, it may use a different parser and behave differently.\n",
      "\n",
      "The code that caused this warning is on line 76 of the file /Users/jrockhill/ONCLAIVE/pipeline/HTML_extractor.py. To get rid of this warning, pass the additional argument 'features=\"lxml\"' to the BeautifulSoup constructor.\n",
      "\n",
      "  soup = BeautifulSoup(html_content)\n",
      "/Users/jrockhill/ONCLAIVE/pipeline/HTML_extractor.py:76: XMLParsedAsHTMLWarning: It looks like you're parsing an XML document using an HTML parser. If this really is an HTML document (maybe it's XHTML?), you can ignore or filter this warning. If it's XML, you should know that using an XML parser will be more reliable. To parse this document as XML, make sure you have the lxml package installed, and pass the keyword argument `features=\"xml\"` into the BeautifulSoup constructor.\n",
      "  soup = BeautifulSoup(html_content)\n"
     ]
    },
    {
     "name": "stdout",
     "output_type": "stream",
     "text": [
      "Processed 10/165 files\n",
      "Processed 20/165 files\n",
      "Processed 30/165 files\n",
      "Processed 40/165 files\n",
      "Processed 50/165 files\n",
      "Processed 60/165 files\n",
      "Processed 70/165 files\n",
      "Processed 80/165 files\n",
      "Processed 90/165 files\n",
      "Processed 100/165 files\n",
      "Processed 110/165 files\n",
      "Processed 120/165 files\n",
      "Processed 130/165 files\n",
      "Processed 140/165 files\n",
      "Processed 150/165 files\n",
      "Processed 160/165 files\n",
      "Processed 165/165 files\n",
      "Conversion complete. Successfully processed 165 files. Encountered 0 errors.\n"
     ]
    }
   ],
   "source": [
    "HTML_extractor.convert_local_html_to_markdown(input_dir='checkpoints/html_download/', output_dir=\"checkpoints/text_extraction/PlanNet/with_sections/markdown\")"
   ]
  },
  {
   "cell_type": "markdown",
   "id": "b0108ece",
   "metadata": {},
   "source": [
    "### Markdown Post-processing"
   ]
  },
  {
   "cell_type": "code",
   "execution_count": 15,
   "id": "aec7806b",
   "metadata": {},
   "outputs": [
    {
     "name": "stdout",
     "output_type": "stream",
     "text": [
      "Found 165 markdown files in checkpoints/text_extraction/PlanNet/with_sections/markdown\n",
      "Cleaned and saved: checkpoints/post_processing/PlanNet/Location-HospLoc1.md\n",
      "Cleaned and saved: checkpoints/post_processing/PlanNet/SearchParameter-location-endpoint.md\n",
      "Cleaned and saved: checkpoints/post_processing/PlanNet/HealthcareService-HartfordOrthopedicServices.md\n",
      "Cleaned and saved: checkpoints/post_processing/PlanNet/PractitionerRole-JoeSmithRole2.md\n",
      "Cleaned and saved: checkpoints/post_processing/PlanNet/SearchParameter-healthcareservice-location.md\n",
      "Cleaned and saved: checkpoints/post_processing/PlanNet/SearchParameter-practitionerrole-period.md\n",
      "Cleaned and saved: checkpoints/post_processing/PlanNet/SearchParameter-healthcareservice-endpoint.md\n",
      "Cleaned and saved: checkpoints/post_processing/PlanNet/CodeSystem-DeliveryMethodCS.md\n",
      "Cleaned and saved: checkpoints/post_processing/PlanNet/HealthcareService-PharmChainRetailService.md\n",
      "Cleaned and saved: checkpoints/post_processing/PlanNet/SearchParameter-insuranceplan-identifier.md\n",
      "Cleaned and saved: checkpoints/post_processing/PlanNet/SearchParameter-healthcareservice-organization.md\n",
      "Cleaned and saved: checkpoints/post_processing/PlanNet/OrganizationAffiliation-HamiltonClinicAffil.md\n",
      "Cleaned and saved: checkpoints/post_processing/PlanNet/StructureDefinition-plannet-PractitionerRole.md\n",
      "Cleaned and saved: checkpoints/post_processing/PlanNet/SearchParameter-practitionerrole-location.md\n",
      "Cleaned and saved: checkpoints/post_processing/PlanNet/SearchParameter-location-organization.md\n",
      "Cleaned and saved: checkpoints/post_processing/PlanNet/SearchParameter-practitionerrole-endpoint.md\n",
      "Cleaned and saved: checkpoints/post_processing/PlanNet/SearchParameter-organization-coverage-area.md\n",
      "Cleaned and saved: checkpoints/post_processing/PlanNet/ValueSet-EndpointConnectionTypeVS.md\n",
      "Cleaned and saved: checkpoints/post_processing/PlanNet/ValueSet-NonIndividualSpecialtyAndDegreeLicenseCertificateVS.md\n",
      "Cleaned and saved: checkpoints/post_processing/PlanNet/SearchParameter-practitionerrole-service.md\n",
      "Cleaned and saved: checkpoints/post_processing/PlanNet/ValueSet-IndividualSpecialtyAndDegreeLicenseCertificateVS.md\n",
      "Cleaned and saved: checkpoints/post_processing/PlanNet/ValueSet-IndividualAndGroupSpecialtiesVS.md\n",
      "Cleaned and saved: checkpoints/post_processing/PlanNet/Organization-AcmeofCTStdNet.md\n",
      "Cleaned and saved: checkpoints/post_processing/PlanNet/Location-HansSoloClinic.md\n",
      "Cleaned and saved: checkpoints/post_processing/PlanNet/SearchParameter-location-address-state.md\n",
      "Cleaned and saved: checkpoints/post_processing/PlanNet/Practitioner-Counselor.md\n",
      "Cleaned and saved: checkpoints/post_processing/PlanNet/StructureDefinition-plannet-Network.md\n",
      "Cleaned and saved: checkpoints/post_processing/PlanNet/HealthcareService-BurrClinicServices.md\n",
      "Cleaned and saved: checkpoints/post_processing/PlanNet/StructureDefinition-plannet-Location.md\n",
      "Cleaned and saved: checkpoints/post_processing/PlanNet/SearchParameter-organization-name.md\n",
      "Cleaned and saved: checkpoints/post_processing/PlanNet/StructureDefinition-plannet-Endpoint.md\n",
      "Cleaned and saved: checkpoints/post_processing/PlanNet/SearchParameter-location-address.md\n",
      "Cleaned and saved: checkpoints/post_processing/PlanNet/SearchParameter-organizationaffiliation-endpoint.md\n",
      "Cleaned and saved: checkpoints/post_processing/PlanNet/PractitionerRole-JoeSmithRole3.md\n",
      "Cleaned and saved: checkpoints/post_processing/PlanNet/SearchParameter-organizationaffiliation-location.md\n",
      "Cleaned and saved: checkpoints/post_processing/PlanNet/CodeSystem-QualificationStatusCS.md\n",
      "Cleaned and saved: checkpoints/post_processing/PlanNet/SearchParameter-practitionerrole-specialty.md\n",
      "Cleaned and saved: checkpoints/post_processing/PlanNet/ValueSet-NetworkTypeVS.md\n",
      "Cleaned and saved: checkpoints/post_processing/PlanNet/HealthcareService-HospERService.md\n",
      "Cleaned and saved: checkpoints/post_processing/PlanNet/SearchParameter-healthcareservice-service-category.md\n",
      "Cleaned and saved: checkpoints/post_processing/PlanNet/SearchParameter-insuranceplan-name.md\n",
      "Cleaned and saved: checkpoints/post_processing/PlanNet/Location-PharmLoc3.md\n",
      "Cleaned and saved: checkpoints/post_processing/PlanNet/SearchParameter-healthcareservice-coverage-area.md\n",
      "Cleaned and saved: checkpoints/post_processing/PlanNet/SearchParameter-location-address-city.md\n",
      "Cleaned and saved: checkpoints/post_processing/PlanNet/CodeSystem-VirtualModalitiesCS.md\n",
      "Cleaned and saved: checkpoints/post_processing/PlanNet/CodeSystem-LanguageProficiencyCS.md\n",
      "Cleaned and saved: checkpoints/post_processing/PlanNet/OrganizationAffiliation-PharmChainAffil3.md\n",
      "Cleaned and saved: checkpoints/post_processing/PlanNet/HealthcareService-CancerClinicService.md\n",
      "Cleaned and saved: checkpoints/post_processing/PlanNet/HealthcareService-HamiltonClinicServices.md\n",
      "Cleaned and saved: checkpoints/post_processing/PlanNet/SearchParameter-healthcareservice-service-type.md\n",
      "Cleaned and saved: checkpoints/post_processing/PlanNet/ValueSet-AcceptingPatientsVS.md\n",
      "Cleaned and saved: checkpoints/post_processing/PlanNet/SearchParameter-insuranceplan-coverage-area.md\n",
      "Cleaned and saved: checkpoints/post_processing/PlanNet/ValueSet-InsurancePlanTypeVS.md\n",
      "Cleaned and saved: checkpoints/post_processing/PlanNet/OrganizationAffiliation-BurrClinicAffil.md\n",
      "Cleaned and saved: checkpoints/post_processing/PlanNet/Organization-BigBox.md\n",
      "Cleaned and saved: checkpoints/post_processing/PlanNet/PractitionerRole-AnonRole.md\n",
      "Cleaned and saved: checkpoints/post_processing/PlanNet/StructureDefinition-plannet-Practitioner.md\n",
      "Cleaned and saved: checkpoints/post_processing/PlanNet/SearchParameter-practitioner-given-name.md\n",
      "Cleaned and saved: checkpoints/post_processing/PlanNet/SearchParameter-organizationaffiliation-network.md\n",
      "Cleaned and saved: checkpoints/post_processing/PlanNet/SearchParameter-healthcareservice-delivery-method.md\n",
      "Cleaned and saved: checkpoints/post_processing/PlanNet/CodeSystem-OrganizationAffiliationRoleCS.md\n",
      "Cleaned and saved: checkpoints/post_processing/PlanNet/ValueSet-NonIndividualSpecialtiesVS.md\n",
      "Cleaned and saved: checkpoints/post_processing/PlanNet/PractitionerRole-HansSoloRole1.md\n",
      "Cleaned and saved: checkpoints/post_processing/PlanNet/CodeSystem-EndpointPayloadTypeCS.md\n",
      "Cleaned and saved: checkpoints/post_processing/PlanNet/StructureDefinition-org-description.md\n",
      "Cleaned and saved: checkpoints/post_processing/PlanNet/SearchParameter-practitionerrole-practitioner.md\n",
      "Cleaned and saved: checkpoints/post_processing/PlanNet/StructureDefinition-plannet-OrganizationAffiliation.md\n",
      "Cleaned and saved: checkpoints/post_processing/PlanNet/HealthcareService-VirtualCounselService.md\n",
      "Cleaned and saved: checkpoints/post_processing/PlanNet/Location-PharmLoc2.md\n",
      "Cleaned and saved: checkpoints/post_processing/PlanNet/SearchParameter-organization-endpoint.md\n",
      "Cleaned and saved: checkpoints/post_processing/PlanNet/SearchParameter-organization-address.md\n",
      "Cleaned and saved: checkpoints/post_processing/PlanNet/OrganizationAffiliation-PharmChainAffil2.md\n",
      "Cleaned and saved: checkpoints/post_processing/PlanNet/SearchParameter-location-type.md\n",
      "Cleaned and saved: checkpoints/post_processing/PlanNet/ValueSet-PractitionerRoleVS.md\n",
      "Cleaned and saved: checkpoints/post_processing/PlanNet/StructureDefinition-contactpoint-availabletime.md\n",
      "Cleaned and saved: checkpoints/post_processing/PlanNet/CodeSystem-EndpointConnectionTypeCS.md\n",
      "Cleaned and saved: checkpoints/post_processing/PlanNet/SearchParameter-insuranceplan-administered-by.md\n",
      "Cleaned and saved: checkpoints/post_processing/PlanNet/ValueSet-HealthcareServiceCategoryVS.md\n",
      "Cleaned and saved: checkpoints/post_processing/PlanNet/ValueSet-OrganizationAffiliationRoleVS.md\n",
      "Cleaned and saved: checkpoints/post_processing/PlanNet/ValueSet-SpecialtiesVS.md\n",
      "Cleaned and saved: checkpoints/post_processing/PlanNet/CodeSystem-InsurancePlanTypeCS.md\n",
      "Cleaned and saved: checkpoints/post_processing/PlanNet/SearchParameter-practitionerrole-network.md\n",
      "Cleaned and saved: checkpoints/post_processing/PlanNet/ValueSet-HealthcareServiceTypeVS.md\n",
      "Cleaned and saved: checkpoints/post_processing/PlanNet/CodeSystem-AcceptingPatientsCS.md\n",
      "Cleaned and saved: checkpoints/post_processing/PlanNet/SearchParameter-organizationaffiliation-role.md\n",
      "Cleaned and saved: checkpoints/post_processing/PlanNet/Location-CancerClinicLoc.md\n",
      "Cleaned and saved: checkpoints/post_processing/PlanNet/SearchParameter-organization-period.md\n",
      "Cleaned and saved: checkpoints/post_processing/PlanNet/HealthcareService-PharmChainCompService.md\n",
      "Cleaned and saved: checkpoints/post_processing/PlanNet/ValueSet-VirtualModalitiesVS.md\n",
      "Cleaned and saved: checkpoints/post_processing/PlanNet/Organization-BurrClinic.md\n",
      "Cleaned and saved: checkpoints/post_processing/PlanNet/Organization-CancerClinic.md\n",
      "Cleaned and saved: checkpoints/post_processing/PlanNet/HealthcareService-HansSoloService.md\n",
      "Cleaned and saved: checkpoints/post_processing/PlanNet/Practitioner-HansSolo.md\n",
      "Cleaned and saved: checkpoints/post_processing/PlanNet/SearchParameter-practitioner-name.md\n",
      "Cleaned and saved: checkpoints/post_processing/PlanNet/Location-PharmLoc1.md\n",
      "Cleaned and saved: checkpoints/post_processing/PlanNet/ValueSet-AccessibilityVS.md\n",
      "Cleaned and saved: checkpoints/post_processing/PlanNet/StructureDefinition-newpatients.md\n",
      "Cleaned and saved: checkpoints/post_processing/PlanNet/SearchParameter-organization-type.md\n",
      "Cleaned and saved: checkpoints/post_processing/PlanNet/OrganizationAffiliation-PharmChainAffil1.md\n",
      "Cleaned and saved: checkpoints/post_processing/PlanNet/Practitioner-JoeSmith.md\n",
      "Cleaned and saved: checkpoints/post_processing/PlanNet/Organization-Acme.md\n",
      "Cleaned and saved: checkpoints/post_processing/PlanNet/SearchParameter-practitioner-family-name.md\n",
      "Cleaned and saved: checkpoints/post_processing/PlanNet/ValueSet-QualificationStatusVS.md\n",
      "Cleaned and saved: checkpoints/post_processing/PlanNet/SearchParameter-organizationaffiliation-participating-organization.md\n",
      "Cleaned and saved: checkpoints/post_processing/PlanNet/CodeSystem-InsuranceProductTypeCS.md\n",
      "Cleaned and saved: checkpoints/post_processing/PlanNet/SearchParameter-insuranceplan-owned-by.md\n",
      "Cleaned and saved: checkpoints/post_processing/PlanNet/CodeSystem-HealthcareServiceCategoryCS.md\n",
      "Cleaned and saved: checkpoints/post_processing/PlanNet/SearchParameter-endpoint-organization.md\n",
      "Cleaned and saved: checkpoints/post_processing/PlanNet/ValueSet-EndpointUsecaseVS.md\n",
      "Cleaned and saved: checkpoints/post_processing/PlanNet/SearchParameter-organizationaffiliation-specialty.md\n",
      "Cleaned and saved: checkpoints/post_processing/PlanNet/StructureDefinition-accessibility.md\n",
      "Cleaned and saved: checkpoints/post_processing/PlanNet/ValueSet-DeliveryMethodVS.md\n",
      "Cleaned and saved: checkpoints/post_processing/PlanNet/InsurancePlan-AcmeQHPBronze.md\n",
      "Cleaned and saved: checkpoints/post_processing/PlanNet/CodeSystem-OrgTypeCS.md\n",
      "Cleaned and saved: checkpoints/post_processing/PlanNet/ValueSet-SpecialtyAndDegreeLicenseCertificateVS.md\n",
      "Cleaned and saved: checkpoints/post_processing/PlanNet/ValueSet-InsuranceProductTypeVS.md\n",
      "Cleaned and saved: checkpoints/post_processing/PlanNet/Location-PharmLoc4.md\n",
      "Cleaned and saved: checkpoints/post_processing/PlanNet/StructureDefinition-communication-proficiency.md\n",
      "Cleaned and saved: checkpoints/post_processing/PlanNet/SearchParameter-organizationaffiliation-period.md\n",
      "Cleaned and saved: checkpoints/post_processing/PlanNet/ValueSet-MinEndpointConnectionTypeVS.md\n",
      "Cleaned and saved: checkpoints/post_processing/PlanNet/SearchParameter-organization-partof.md\n",
      "Cleaned and saved: checkpoints/post_processing/PlanNet/StructureDefinition-location-reference.md\n",
      "Cleaned and saved: checkpoints/post_processing/PlanNet/SearchParameter-location-partof.md\n",
      "Cleaned and saved: checkpoints/post_processing/PlanNet/StructureDefinition-practitioner-qualification.md\n",
      "Cleaned and saved: checkpoints/post_processing/PlanNet/ValueSet-OrgTypeVS.md\n",
      "Cleaned and saved: checkpoints/post_processing/PlanNet/StructureDefinition-endpoint-usecase.md\n",
      "Cleaned and saved: checkpoints/post_processing/PlanNet/InsurancePlan-AcmeQHPGold.md\n",
      "Cleaned and saved: checkpoints/post_processing/PlanNet/SearchParameter-insuranceplan-plan-type.md\n",
      "Cleaned and saved: checkpoints/post_processing/PlanNet/OrganizationAffiliation-ConnHIEAffil.md\n",
      "Cleaned and saved: checkpoints/post_processing/PlanNet/CapabilityStatement-plan-net.md\n",
      "Cleaned and saved: checkpoints/post_processing/PlanNet/StructureDefinition-qualification.md\n",
      "Cleaned and saved: checkpoints/post_processing/PlanNet/OrganizationAffiliation-HartfordOrthopedicAffil.md\n",
      "Cleaned and saved: checkpoints/post_processing/PlanNet/SearchParameter-location-address-postalcode.md\n",
      "Cleaned and saved: checkpoints/post_processing/PlanNet/SearchParameter-healthcareservice-specialty.md\n",
      "Cleaned and saved: checkpoints/post_processing/PlanNet/SearchParameter-practitioner-period.md\n",
      "Cleaned and saved: checkpoints/post_processing/PlanNet/Endpoint-AcmeOfCTPortalEndpoint.md\n",
      "Cleaned and saved: checkpoints/post_processing/PlanNet/StructureDefinition-practitioner-period.md\n",
      "Cleaned and saved: checkpoints/post_processing/PlanNet/StructureDefinition-delivery-method.md\n",
      "Cleaned and saved: checkpoints/post_processing/PlanNet/CodeSystem-AccessibilityCS.md\n",
      "Cleaned and saved: checkpoints/post_processing/PlanNet/SearchParameter-organizationaffiliation-primary-organization.md\n",
      "Cleaned and saved: checkpoints/post_processing/PlanNet/StructureDefinition-plannet-InsurancePlan.md\n",
      "Cleaned and saved: checkpoints/post_processing/PlanNet/SearchParameter-insuranceplan-network.md\n",
      "Cleaned and saved: checkpoints/post_processing/PlanNet/SearchParameter-practitionerrole-organization.md\n",
      "Cleaned and saved: checkpoints/post_processing/PlanNet/SearchParameter-healthcareservice-name.md\n",
      "Cleaned and saved: checkpoints/post_processing/PlanNet/Location-HospLoc2.md\n",
      "Cleaned and saved: checkpoints/post_processing/PlanNet/Location-StateOfCTLocation.md\n",
      "Cleaned and saved: checkpoints/post_processing/PlanNet/ValueSet-LanguageProficiencyVS.md\n",
      "Cleaned and saved: checkpoints/post_processing/PlanNet/SearchParameter-practitionerrole-role.md\n",
      "Cleaned and saved: checkpoints/post_processing/PlanNet/SearchParameter-insuranceplan-type.md\n",
      "Cleaned and saved: checkpoints/post_processing/PlanNet/Organization-Hospital.md\n",
      "Cleaned and saved: checkpoints/post_processing/PlanNet/StructureDefinition-network-reference.md\n",
      "Cleaned and saved: checkpoints/post_processing/PlanNet/PractitionerRole-JoeSmithRole1.md\n",
      "Cleaned and saved: checkpoints/post_processing/PlanNet/StructureDefinition-plannet-HealthcareService.md\n",
      "Cleaned and saved: checkpoints/post_processing/PlanNet/Organization-HartfordOrthopedics.md\n",
      "Cleaned and saved: checkpoints/post_processing/PlanNet/Organization-AcmeofCTPremNet.md\n",
      "Cleaned and saved: checkpoints/post_processing/PlanNet/CodeSystem-ProviderRoleCS.md\n",
      "Cleaned and saved: checkpoints/post_processing/PlanNet/HealthcareService-PharmChainMailService.md\n",
      "Cleaned and saved: checkpoints/post_processing/PlanNet/Organization-ConnHIE.md\n",
      "Cleaned and saved: checkpoints/post_processing/PlanNet/SearchParameter-organizationaffiliation-service.md\n",
      "Cleaned and saved: checkpoints/post_processing/PlanNet/PractitionerRole-CounselorRole1.md\n",
      "Cleaned and saved: checkpoints/post_processing/PlanNet/StructureDefinition-via-intermediary.md\n",
      "Cleaned and saved: checkpoints/post_processing/PlanNet/ValueSet-EndpointPayloadTypeVS.md\n",
      "Cleaned and saved: checkpoints/post_processing/PlanNet/StructureDefinition-plannet-Organization.md\n",
      "Cleaned and saved: checkpoints/post_processing/PlanNet/Organization-HamiltonClinic.md\n",
      "Cleaned and saved: checkpoints/post_processing/PlanNet/Organization-PharmChain.md\n",
      "\n",
      "Processing complete: 165 files successfully cleaned, 0 failed\n"
     ]
    }
   ],
   "source": [
    "import markdown_cleaner\n",
    "markdown_cleaner.process_directory(\"checkpoints/text_extraction/PlanNet/with_sections/markdown\", \"checkpoints/post_processing/PlanNet/\")"
   ]
  },
  {
   "cell_type": "markdown",
   "id": "eb3fa2d1",
   "metadata": {},
   "source": [
    "## Requirements Extraction"
   ]
  },
  {
   "cell_type": "markdown",
   "id": "be0566ab",
   "metadata": {},
   "source": [
    "### Prompt-based Requirement Extraction"
   ]
  },
  {
   "cell_type": "code",
   "execution_count": 16,
   "id": "c7fd5bf6",
   "metadata": {},
   "outputs": [
    {
     "name": "stderr",
     "output_type": "stream",
     "text": [
      "INFO:root:Current working directory: /Users/jrockhill/ONCLAIVE/pipeline\n",
      "INFO:root:Project root: /Users/jrockhill/ONCLAIVE\n",
      "INFO:root:Prompt environment set up at: /Users/jrockhill/ONCLAIVE/prompts\n",
      "INFO:root:Using prompts directory: /Users/jrockhill/ONCLAIVE/prompts\n",
      "INFO:root:Requirements extraction prompt: /Users/jrockhill/ONCLAIVE/prompts/requirements_extraction.md\n",
      "INFO:root:Current working directory: /Users/jrockhill/ONCLAIVE/pipeline\n",
      "INFO:root:Project root: /Users/jrockhill/ONCLAIVE\n",
      "INFO:root:Prompt environment set up at: /Users/jrockhill/ONCLAIVE/prompts\n",
      "INFO:root:Using prompts directory: /Users/jrockhill/ONCLAIVE/prompts\n",
      "INFO:root:Requirements extraction prompt: /Users/jrockhill/ONCLAIVE/prompts/requirements_extraction.md\n"
     ]
    },
    {
     "data": {
      "text/plain": [
       "<module 'reqs_extraction' from '/Users/jrockhill/ONCLAIVE/pipeline/reqs_extraction.py'>"
      ]
     },
     "execution_count": 16,
     "metadata": {},
     "output_type": "execute_result"
    }
   ],
   "source": [
    "import reqs_extraction\n",
    "importlib.reload(reqs_extraction)"
   ]
  },
  {
   "cell_type": "code",
   "execution_count": null,
   "id": "31999d1d",
   "metadata": {},
   "outputs": [
    {
     "name": "stderr",
     "output_type": "stream",
     "text": [
      "INFO:root:Found markdown directory at checkpoints/post_processing/PlanNet\n",
      "INFO:root:Found 165 markdown files\n",
      "INFO:root:Processing with claude...\n",
      "INFO:root:Starting processing with claude on directory: checkpoints/post_processing/PlanNet\n",
      "INFO:root:Found 165 markdown files:\n",
      "INFO:root:  - Location-HospLoc1.md\n",
      "INFO:root:  - SearchParameter-location-endpoint.md\n",
      "INFO:root:  - HealthcareService-HartfordOrthopedicServices.md\n",
      "INFO:root:  - PractitionerRole-JoeSmithRole2.md\n",
      "INFO:root:  - SearchParameter-healthcareservice-location.md\n",
      "INFO:root:  - SearchParameter-practitionerrole-period.md\n",
      "INFO:root:  - SearchParameter-healthcareservice-endpoint.md\n",
      "INFO:root:  - CodeSystem-DeliveryMethodCS.md\n",
      "INFO:root:  - HealthcareService-PharmChainRetailService.md\n",
      "INFO:root:  - SearchParameter-insuranceplan-identifier.md\n",
      "INFO:root:  - SearchParameter-healthcareservice-organization.md\n",
      "INFO:root:  - OrganizationAffiliation-HamiltonClinicAffil.md\n",
      "INFO:root:  - StructureDefinition-plannet-PractitionerRole.md\n",
      "INFO:root:  - SearchParameter-practitionerrole-location.md\n",
      "INFO:root:  - SearchParameter-location-organization.md\n",
      "INFO:root:  - SearchParameter-practitionerrole-endpoint.md\n",
      "INFO:root:  - SearchParameter-organization-coverage-area.md\n",
      "INFO:root:  - ValueSet-EndpointConnectionTypeVS.md\n",
      "INFO:root:  - ValueSet-NonIndividualSpecialtyAndDegreeLicenseCertificateVS.md\n",
      "INFO:root:  - SearchParameter-practitionerrole-service.md\n",
      "INFO:root:  - ValueSet-IndividualSpecialtyAndDegreeLicenseCertificateVS.md\n",
      "INFO:root:  - ValueSet-IndividualAndGroupSpecialtiesVS.md\n",
      "INFO:root:  - Organization-AcmeofCTStdNet.md\n",
      "INFO:root:  - Location-HansSoloClinic.md\n",
      "INFO:root:  - SearchParameter-location-address-state.md\n",
      "INFO:root:  - Practitioner-Counselor.md\n",
      "INFO:root:  - StructureDefinition-plannet-Network.md\n",
      "INFO:root:  - HealthcareService-BurrClinicServices.md\n",
      "INFO:root:  - StructureDefinition-plannet-Location.md\n",
      "INFO:root:  - SearchParameter-organization-name.md\n",
      "INFO:root:  - StructureDefinition-plannet-Endpoint.md\n",
      "INFO:root:  - SearchParameter-location-address.md\n",
      "INFO:root:  - SearchParameter-organizationaffiliation-endpoint.md\n",
      "INFO:root:  - PractitionerRole-JoeSmithRole3.md\n",
      "INFO:root:  - SearchParameter-organizationaffiliation-location.md\n",
      "INFO:root:  - CodeSystem-QualificationStatusCS.md\n",
      "INFO:root:  - SearchParameter-practitionerrole-specialty.md\n",
      "INFO:root:  - ValueSet-NetworkTypeVS.md\n",
      "INFO:root:  - HealthcareService-HospERService.md\n",
      "INFO:root:  - SearchParameter-healthcareservice-service-category.md\n",
      "INFO:root:  - SearchParameter-insuranceplan-name.md\n",
      "INFO:root:  - Location-PharmLoc3.md\n",
      "INFO:root:  - SearchParameter-healthcareservice-coverage-area.md\n",
      "INFO:root:  - SearchParameter-location-address-city.md\n",
      "INFO:root:  - CodeSystem-VirtualModalitiesCS.md\n",
      "INFO:root:  - CodeSystem-LanguageProficiencyCS.md\n",
      "INFO:root:  - OrganizationAffiliation-PharmChainAffil3.md\n",
      "INFO:root:  - HealthcareService-CancerClinicService.md\n",
      "INFO:root:  - HealthcareService-HamiltonClinicServices.md\n",
      "INFO:root:  - SearchParameter-healthcareservice-service-type.md\n",
      "INFO:root:  - ValueSet-AcceptingPatientsVS.md\n",
      "INFO:root:  - SearchParameter-insuranceplan-coverage-area.md\n",
      "INFO:root:  - ValueSet-InsurancePlanTypeVS.md\n",
      "INFO:root:  - OrganizationAffiliation-BurrClinicAffil.md\n",
      "INFO:root:  - Organization-BigBox.md\n",
      "INFO:root:  - PractitionerRole-AnonRole.md\n",
      "INFO:root:  - StructureDefinition-plannet-Practitioner.md\n",
      "INFO:root:  - SearchParameter-practitioner-given-name.md\n",
      "INFO:root:  - SearchParameter-organizationaffiliation-network.md\n",
      "INFO:root:  - SearchParameter-healthcareservice-delivery-method.md\n",
      "INFO:root:  - CodeSystem-OrganizationAffiliationRoleCS.md\n",
      "INFO:root:  - ValueSet-NonIndividualSpecialtiesVS.md\n",
      "INFO:root:  - PractitionerRole-HansSoloRole1.md\n",
      "INFO:root:  - CodeSystem-EndpointPayloadTypeCS.md\n",
      "INFO:root:  - StructureDefinition-org-description.md\n",
      "INFO:root:  - SearchParameter-practitionerrole-practitioner.md\n",
      "INFO:root:  - StructureDefinition-plannet-OrganizationAffiliation.md\n",
      "INFO:root:  - HealthcareService-VirtualCounselService.md\n",
      "INFO:root:  - Location-PharmLoc2.md\n",
      "INFO:root:  - SearchParameter-organization-endpoint.md\n",
      "INFO:root:  - SearchParameter-organization-address.md\n",
      "INFO:root:  - OrganizationAffiliation-PharmChainAffil2.md\n",
      "INFO:root:  - SearchParameter-location-type.md\n",
      "INFO:root:  - ValueSet-PractitionerRoleVS.md\n",
      "INFO:root:  - StructureDefinition-contactpoint-availabletime.md\n",
      "INFO:root:  - CodeSystem-EndpointConnectionTypeCS.md\n",
      "INFO:root:  - SearchParameter-insuranceplan-administered-by.md\n",
      "INFO:root:  - ValueSet-HealthcareServiceCategoryVS.md\n",
      "INFO:root:  - ValueSet-OrganizationAffiliationRoleVS.md\n",
      "INFO:root:  - ValueSet-SpecialtiesVS.md\n",
      "INFO:root:  - CodeSystem-InsurancePlanTypeCS.md\n",
      "INFO:root:  - SearchParameter-practitionerrole-network.md\n",
      "INFO:root:  - ValueSet-HealthcareServiceTypeVS.md\n",
      "INFO:root:  - CodeSystem-AcceptingPatientsCS.md\n",
      "INFO:root:  - SearchParameter-organizationaffiliation-role.md\n",
      "INFO:root:  - Location-CancerClinicLoc.md\n",
      "INFO:root:  - SearchParameter-organization-period.md\n",
      "INFO:root:  - HealthcareService-PharmChainCompService.md\n",
      "INFO:root:  - ValueSet-VirtualModalitiesVS.md\n",
      "INFO:root:  - Organization-BurrClinic.md\n",
      "INFO:root:  - Organization-CancerClinic.md\n",
      "INFO:root:  - HealthcareService-HansSoloService.md\n",
      "INFO:root:  - Practitioner-HansSolo.md\n",
      "INFO:root:  - SearchParameter-practitioner-name.md\n",
      "INFO:root:  - Location-PharmLoc1.md\n",
      "INFO:root:  - ValueSet-AccessibilityVS.md\n",
      "INFO:root:  - StructureDefinition-newpatients.md\n",
      "INFO:root:  - SearchParameter-organization-type.md\n",
      "INFO:root:  - OrganizationAffiliation-PharmChainAffil1.md\n",
      "INFO:root:  - Practitioner-JoeSmith.md\n",
      "INFO:root:  - Organization-Acme.md\n",
      "INFO:root:  - SearchParameter-practitioner-family-name.md\n",
      "INFO:root:  - ValueSet-QualificationStatusVS.md\n",
      "INFO:root:  - SearchParameter-organizationaffiliation-participating-organization.md\n",
      "INFO:root:  - CodeSystem-InsuranceProductTypeCS.md\n",
      "INFO:root:  - SearchParameter-insuranceplan-owned-by.md\n",
      "INFO:root:  - CodeSystem-HealthcareServiceCategoryCS.md\n",
      "INFO:root:  - SearchParameter-endpoint-organization.md\n",
      "INFO:root:  - ValueSet-EndpointUsecaseVS.md\n",
      "INFO:root:  - SearchParameter-organizationaffiliation-specialty.md\n",
      "INFO:root:  - StructureDefinition-accessibility.md\n",
      "INFO:root:  - ValueSet-DeliveryMethodVS.md\n",
      "INFO:root:  - InsurancePlan-AcmeQHPBronze.md\n",
      "INFO:root:  - CodeSystem-OrgTypeCS.md\n",
      "INFO:root:  - ValueSet-SpecialtyAndDegreeLicenseCertificateVS.md\n",
      "INFO:root:  - ValueSet-InsuranceProductTypeVS.md\n",
      "INFO:root:  - Location-PharmLoc4.md\n",
      "INFO:root:  - StructureDefinition-communication-proficiency.md\n",
      "INFO:root:  - SearchParameter-organizationaffiliation-period.md\n",
      "INFO:root:  - ValueSet-MinEndpointConnectionTypeVS.md\n",
      "INFO:root:  - SearchParameter-organization-partof.md\n",
      "INFO:root:  - StructureDefinition-location-reference.md\n",
      "INFO:root:  - SearchParameter-location-partof.md\n",
      "INFO:root:  - StructureDefinition-practitioner-qualification.md\n",
      "INFO:root:  - ValueSet-OrgTypeVS.md\n",
      "INFO:root:  - StructureDefinition-endpoint-usecase.md\n",
      "INFO:root:  - InsurancePlan-AcmeQHPGold.md\n",
      "INFO:root:  - SearchParameter-insuranceplan-plan-type.md\n",
      "INFO:root:  - OrganizationAffiliation-ConnHIEAffil.md\n",
      "INFO:root:  - CapabilityStatement-plan-net.md\n",
      "INFO:root:  - StructureDefinition-qualification.md\n",
      "INFO:root:  - OrganizationAffiliation-HartfordOrthopedicAffil.md\n",
      "INFO:root:  - SearchParameter-location-address-postalcode.md\n",
      "INFO:root:  - SearchParameter-healthcareservice-specialty.md\n",
      "INFO:root:  - SearchParameter-practitioner-period.md\n",
      "INFO:root:  - Endpoint-AcmeOfCTPortalEndpoint.md\n",
      "INFO:root:  - StructureDefinition-practitioner-period.md\n",
      "INFO:root:  - StructureDefinition-delivery-method.md\n",
      "INFO:root:  - CodeSystem-AccessibilityCS.md\n",
      "INFO:root:  - SearchParameter-organizationaffiliation-primary-organization.md\n",
      "INFO:root:  - StructureDefinition-plannet-InsurancePlan.md\n",
      "INFO:root:  - SearchParameter-insuranceplan-network.md\n",
      "INFO:root:  - SearchParameter-practitionerrole-organization.md\n",
      "INFO:root:  - SearchParameter-healthcareservice-name.md\n",
      "INFO:root:  - Location-HospLoc2.md\n",
      "INFO:root:  - Location-StateOfCTLocation.md\n",
      "INFO:root:  - ValueSet-LanguageProficiencyVS.md\n",
      "INFO:root:  - SearchParameter-practitionerrole-role.md\n",
      "INFO:root:  - SearchParameter-insuranceplan-type.md\n",
      "INFO:root:  - Organization-Hospital.md\n",
      "INFO:root:  - StructureDefinition-network-reference.md\n",
      "INFO:root:  - PractitionerRole-JoeSmithRole1.md\n",
      "INFO:root:  - StructureDefinition-plannet-HealthcareService.md\n",
      "INFO:root:  - Organization-HartfordOrthopedics.md\n",
      "INFO:root:  - Organization-AcmeofCTPremNet.md\n",
      "INFO:root:  - CodeSystem-ProviderRoleCS.md\n",
      "INFO:root:  - HealthcareService-PharmChainMailService.md\n",
      "INFO:root:  - Organization-ConnHIE.md\n",
      "INFO:root:  - SearchParameter-organizationaffiliation-service.md\n",
      "INFO:root:  - PractitionerRole-CounselorRole1.md\n",
      "INFO:root:  - StructureDefinition-via-intermediary.md\n",
      "INFO:root:  - ValueSet-EndpointPayloadTypeVS.md\n",
      "INFO:root:  - StructureDefinition-plannet-Organization.md\n",
      "INFO:root:  - Organization-HamiltonClinic.md\n",
      "INFO:root:  - Organization-PharmChain.md\n"
     ]
    },
    {
     "name": "stdout",
     "output_type": "stream",
     "text": [
      "\n",
      "Processing Implementation Guide with Claude...\n",
      "This may take several minutes depending on the size of the Implementation Guide.\n"
     ]
    },
    {
     "name": "stderr",
     "output_type": "stream",
     "text": [
      "INFO:root:Organized 165 files into 65 processing groups\n",
      "INFO:root:Processing combined group of 7 files\n",
      "INFO:root:Split combined content into 2 chunks\n",
      "INFO:root:Processing chunk 1/2 of combined files\n",
      "INFO:httpx:HTTP Request: POST https://api.anthropic.com/v1/messages \"HTTP/1.1 200 OK\"\n",
      "INFO:root:Processing chunk 2/2 of combined files\n",
      "INFO:httpx:HTTP Request: POST https://api.anthropic.com/v1/messages \"HTTP/1.1 200 OK\"\n",
      "INFO:root:Processing combined group of 7 files\n",
      "INFO:root:Split combined content into 2 chunks\n",
      "INFO:root:Processing chunk 1/2 of combined files\n",
      "INFO:httpx:HTTP Request: POST https://api.anthropic.com/v1/messages \"HTTP/1.1 200 OK\"\n",
      "INFO:root:Processing chunk 2/2 of combined files\n",
      "INFO:httpx:HTTP Request: POST https://api.anthropic.com/v1/messages \"HTTP/1.1 200 OK\"\n",
      "INFO:root:Processing combined group of 6 files\n",
      "INFO:root:Split combined content into 2 chunks\n",
      "INFO:root:Processing chunk 1/2 of combined files\n",
      "INFO:httpx:HTTP Request: POST https://api.anthropic.com/v1/messages \"HTTP/1.1 200 OK\"\n",
      "INFO:root:Processing chunk 2/2 of combined files\n",
      "INFO:httpx:HTTP Request: POST https://api.anthropic.com/v1/messages \"HTTP/1.1 200 OK\"\n"
     ]
    }
   ],
   "source": [
    "reqs_extraction.run_requirements_extractor(\n",
    "    'checkpoints/post_processing/PlanNet', \n",
    "    'checkpoints/requirements_extraction/markdown/PlanNet', \n",
    "    'claude', \n",
    "    llm_clients)"
   ]
  },
  {
   "cell_type": "markdown",
   "id": "0d402ce7",
   "metadata": {},
   "source": [
    "### RAG-based Requirement Extraction\n",
    "\n",
    "This extraction requirement extraction method differs from the first in that, as a part of the creation of its prompt, it performs a semantic search on example sections of FHIR IG text and the human-generated requirements that were produced in reference to those sections of text to find the most similar section(s) of FHIR IG text in the database and their associated requirement(s). Those sets of IG text and requirement(s) are then supplied to the LLM as few-shot examples"
   ]
  },
  {
   "cell_type": "code",
   "execution_count": 3,
   "id": "15d61585",
   "metadata": {},
   "outputs": [],
   "source": [
    "import rag_reqs_extraction"
   ]
  },
  {
   "cell_type": "code",
   "execution_count": null,
   "id": "3b8c6bef",
   "metadata": {},
   "outputs": [
    {
     "name": "stdout",
     "output_type": "stream",
     "text": [
      "2 of 2\r"
     ]
    }
   ],
   "source": [
    "importlib.reload(rag_reqs_extraction)\n",
    "rag_reqs_extraction.full_pass(llm_clients, 'claude', \"checkpoints/post_processing/\", \"checkpoints/requirements_extraction/RAG\")"
   ]
  },
  {
   "cell_type": "markdown",
   "id": "0b2ccc40",
   "metadata": {},
   "source": [
    "## Requirement Downselection"
   ]
  },
  {
   "cell_type": "code",
   "execution_count": 24,
   "id": "78226f35",
   "metadata": {},
   "outputs": [
    {
     "name": "stdout",
     "output_type": "stream",
     "text": [
      "Pair 53824 of 53824\r"
     ]
    }
   ],
   "source": [
    "import requirement_downselect\n",
    "importlib.reload(requirement_downselect)\n",
    "requirement_downselect.full_pass(\n",
    "    md_files=[\"checkpoints/requirements_extraction/claude_reqs_list_v1_20250429_081756.md\"],\n",
    "    rag_files=[\"checkpoints/requirements_extraction/RAG/plan_net_reqs.json\"]\n",
    "    )"
   ]
  },
  {
   "cell_type": "markdown",
   "id": "669a69ed",
   "metadata": {},
   "source": [
    "## Test Plan Generation"
   ]
  },
  {
   "cell_type": "code",
   "execution_count": 31,
   "id": "4ee31b17",
   "metadata": {},
   "outputs": [],
   "source": [
    "import logging\n",
    "llm_clients.logger.setLevel(logging.INFO)"
   ]
  },
  {
   "cell_type": "code",
   "execution_count": 10,
   "id": "5cf1f5b1",
   "metadata": {},
   "outputs": [
    {
     "name": "stderr",
     "output_type": "stream",
     "text": [
      "2025-06-20 11:48:36,696 - root - INFO - Prompt environment set up at: /Users/ceadams/Documents/onclaive/onclaive/prompts\n",
      "2025-06-20 11:48:36,697 - llm_utils - INFO - Starting test plan generation with claude for Plan-Net IG\n",
      "2025-06-20 11:48:36,698 - llm_utils - ERROR - Error processing requirements: Expecting value: line 1 column 1 (char 0)\n"
     ]
    },
    {
     "ename": "JSONDecodeError",
     "evalue": "Expecting value: line 1 column 1 (char 0)",
     "output_type": "error",
     "traceback": [
      "\u001b[31m---------------------------------------------------------------------------\u001b[39m",
      "\u001b[31mJSONDecodeError\u001b[39m                           Traceback (most recent call last)",
      "\u001b[36mCell\u001b[39m\u001b[36m \u001b[39m\u001b[32mIn[10]\u001b[39m\u001b[32m, line 4\u001b[39m\n\u001b[32m      1\u001b[39m \u001b[38;5;28;01mimport\u001b[39;00m\u001b[38;5;250m \u001b[39m\u001b[34;01mreq_to_testplan\u001b[39;00m\n\u001b[32m      2\u001b[39m importlib.reload(req_to_testplan)\n\u001b[32m----> \u001b[39m\u001b[32m4\u001b[39m \u001b[43mreq_to_testplan\u001b[49m\u001b[43m.\u001b[49m\u001b[43mgenerate_consolidated_test_plan\u001b[49m\u001b[43m(\u001b[49m\n\u001b[32m      5\u001b[39m \u001b[43m    \u001b[49m\u001b[43mllm_clients\u001b[49m\u001b[43m,\u001b[49m\u001b[43m \u001b[49m\n\u001b[32m      6\u001b[39m \u001b[43m    \u001b[49m\u001b[33;43m'\u001b[39;49m\u001b[33;43mclaude\u001b[39;49m\u001b[33;43m'\u001b[39;49m\u001b[43m,\u001b[49m\u001b[43m \u001b[49m\n\u001b[32m      7\u001b[39m \u001b[43m    \u001b[49m\u001b[43mllm_clients\u001b[49m\u001b[43m.\u001b[49m\u001b[43mlogger\u001b[49m\u001b[43m,\u001b[49m\u001b[43m \u001b[49m\n\u001b[32m      8\u001b[39m \u001b[43m    \u001b[49m\u001b[33;43m\"\u001b[39;49m\u001b[33;43m/Users/ceadams/Documents/onclaive/onclaive/reqs_extraction/revised_reqs_output/plan-net-requirements.md\u001b[39;49m\u001b[33;43m\"\u001b[39;49m\u001b[43m,\u001b[49m\u001b[43m \u001b[49m\n\u001b[32m      9\u001b[39m \u001b[43m    \u001b[49m\u001b[33;43m\"\u001b[39;49m\u001b[33;43m../full-ig/markdown7_cleaned/CapabilityStatement_plan_net.md\u001b[39;49m\u001b[33;43m\"\u001b[39;49m\u001b[43m,\u001b[49m\u001b[43m \u001b[49m\n\u001b[32m     10\u001b[39m \u001b[43m    \u001b[49m\u001b[33;43m\"\u001b[39;49m\u001b[33;43mPlan-Net IG\u001b[39;49m\u001b[33;43m\"\u001b[39;49m\u001b[43m,\u001b[49m\n\u001b[32m     11\u001b[39m \u001b[43m    \u001b[49m\u001b[43moutput_dir\u001b[49m\u001b[43m=\u001b[49m\u001b[33;43m'\u001b[39;49m\u001b[33;43mcheckpoints/testplan_generation\u001b[39;49m\u001b[33;43m'\u001b[39;49m\u001b[43m)\u001b[49m\n",
      "\u001b[36mFile \u001b[39m\u001b[32m~/Documents/onclaive/onclaive/pipeline/req_to_testplan.py:416\u001b[39m, in \u001b[36mgenerate_consolidated_test_plan\u001b[39m\u001b[34m(llm_clients, api_type, logger, requirements_file, capability_statement_file, ig_name, output_dir)\u001b[39m\n\u001b[32m    412\u001b[39m timestamp = datetime.now().strftime(\u001b[33m\"\u001b[39m\u001b[33m%\u001b[39m\u001b[33mY\u001b[39m\u001b[33m%\u001b[39m\u001b[33mm\u001b[39m\u001b[38;5;132;01m%d\u001b[39;00m\u001b[33m_\u001b[39m\u001b[33m%\u001b[39m\u001b[33mH\u001b[39m\u001b[33m%\u001b[39m\u001b[33mM\u001b[39m\u001b[33m%\u001b[39m\u001b[33mS\u001b[39m\u001b[33m\"\u001b[39m)\n\u001b[32m    414\u001b[39m \u001b[38;5;28;01mtry\u001b[39;00m:\n\u001b[32m    415\u001b[39m     \u001b[38;5;66;03m# Parse requirements from file\u001b[39;00m\n\u001b[32m--> \u001b[39m\u001b[32m416\u001b[39m     requirements = \u001b[43mload_requirements\u001b[49m\u001b[43m(\u001b[49m\u001b[43mrequirements_file\u001b[49m\u001b[43m)\u001b[49m\n\u001b[32m    417\u001b[39m     logger.info(\u001b[33mf\u001b[39m\u001b[33m\"\u001b[39m\u001b[33mParsed \u001b[39m\u001b[38;5;132;01m{\u001b[39;00m\u001b[38;5;28mlen\u001b[39m(requirements)\u001b[38;5;132;01m}\u001b[39;00m\u001b[33m requirements from \u001b[39m\u001b[38;5;132;01m{\u001b[39;00mrequirements_file\u001b[38;5;132;01m}\u001b[39;00m\u001b[33m\"\u001b[39m)\n\u001b[32m    419\u001b[39m     \u001b[38;5;66;03m# Parse capability statement if provided\u001b[39;00m\n",
      "\u001b[36mFile \u001b[39m\u001b[32m~/Documents/onclaive/onclaive/pipeline/req_to_testplan.py:282\u001b[39m, in \u001b[36mload_requirements\u001b[39m\u001b[34m(req_file)\u001b[39m\n\u001b[32m    280\u001b[39m \u001b[38;5;28;01mdef\u001b[39;00m\u001b[38;5;250m \u001b[39m\u001b[34mload_requirements\u001b[39m(req_file):\n\u001b[32m    281\u001b[39m     \u001b[38;5;28;01mwith\u001b[39;00m \u001b[38;5;28mopen\u001b[39m(req_file) \u001b[38;5;28;01mas\u001b[39;00m f:\n\u001b[32m--> \u001b[39m\u001b[32m282\u001b[39m         data = \u001b[43mjson\u001b[49m\u001b[43m.\u001b[49m\u001b[43mload\u001b[49m\u001b[43m(\u001b[49m\u001b[43mf\u001b[49m\u001b[43m)\u001b[49m\n\u001b[32m    283\u001b[39m     \u001b[38;5;28;01mreturn\u001b[39;00m data\n",
      "\u001b[36mFile \u001b[39m\u001b[32m/opt/homebrew/Cellar/python@3.12/3.12.6/Frameworks/Python.framework/Versions/3.12/lib/python3.12/json/__init__.py:293\u001b[39m, in \u001b[36mload\u001b[39m\u001b[34m(fp, cls, object_hook, parse_float, parse_int, parse_constant, object_pairs_hook, **kw)\u001b[39m\n\u001b[32m    274\u001b[39m \u001b[38;5;28;01mdef\u001b[39;00m\u001b[38;5;250m \u001b[39m\u001b[34mload\u001b[39m(fp, *, \u001b[38;5;28mcls\u001b[39m=\u001b[38;5;28;01mNone\u001b[39;00m, object_hook=\u001b[38;5;28;01mNone\u001b[39;00m, parse_float=\u001b[38;5;28;01mNone\u001b[39;00m,\n\u001b[32m    275\u001b[39m         parse_int=\u001b[38;5;28;01mNone\u001b[39;00m, parse_constant=\u001b[38;5;28;01mNone\u001b[39;00m, object_pairs_hook=\u001b[38;5;28;01mNone\u001b[39;00m, **kw):\n\u001b[32m    276\u001b[39m \u001b[38;5;250m    \u001b[39m\u001b[33;03m\"\"\"Deserialize ``fp`` (a ``.read()``-supporting file-like object containing\u001b[39;00m\n\u001b[32m    277\u001b[39m \u001b[33;03m    a JSON document) to a Python object.\u001b[39;00m\n\u001b[32m    278\u001b[39m \n\u001b[32m   (...)\u001b[39m\u001b[32m    291\u001b[39m \u001b[33;03m    kwarg; otherwise ``JSONDecoder`` is used.\u001b[39;00m\n\u001b[32m    292\u001b[39m \u001b[33;03m    \"\"\"\u001b[39;00m\n\u001b[32m--> \u001b[39m\u001b[32m293\u001b[39m     \u001b[38;5;28;01mreturn\u001b[39;00m \u001b[43mloads\u001b[49m\u001b[43m(\u001b[49m\u001b[43mfp\u001b[49m\u001b[43m.\u001b[49m\u001b[43mread\u001b[49m\u001b[43m(\u001b[49m\u001b[43m)\u001b[49m\u001b[43m,\u001b[49m\n\u001b[32m    294\u001b[39m \u001b[43m        \u001b[49m\u001b[38;5;28;43mcls\u001b[39;49m\u001b[43m=\u001b[49m\u001b[38;5;28;43mcls\u001b[39;49m\u001b[43m,\u001b[49m\u001b[43m \u001b[49m\u001b[43mobject_hook\u001b[49m\u001b[43m=\u001b[49m\u001b[43mobject_hook\u001b[49m\u001b[43m,\u001b[49m\n\u001b[32m    295\u001b[39m \u001b[43m        \u001b[49m\u001b[43mparse_float\u001b[49m\u001b[43m=\u001b[49m\u001b[43mparse_float\u001b[49m\u001b[43m,\u001b[49m\u001b[43m \u001b[49m\u001b[43mparse_int\u001b[49m\u001b[43m=\u001b[49m\u001b[43mparse_int\u001b[49m\u001b[43m,\u001b[49m\n\u001b[32m    296\u001b[39m \u001b[43m        \u001b[49m\u001b[43mparse_constant\u001b[49m\u001b[43m=\u001b[49m\u001b[43mparse_constant\u001b[49m\u001b[43m,\u001b[49m\u001b[43m \u001b[49m\u001b[43mobject_pairs_hook\u001b[49m\u001b[43m=\u001b[49m\u001b[43mobject_pairs_hook\u001b[49m\u001b[43m,\u001b[49m\u001b[43m \u001b[49m\u001b[43m*\u001b[49m\u001b[43m*\u001b[49m\u001b[43mkw\u001b[49m\u001b[43m)\u001b[49m\n",
      "\u001b[36mFile \u001b[39m\u001b[32m/opt/homebrew/Cellar/python@3.12/3.12.6/Frameworks/Python.framework/Versions/3.12/lib/python3.12/json/__init__.py:346\u001b[39m, in \u001b[36mloads\u001b[39m\u001b[34m(s, cls, object_hook, parse_float, parse_int, parse_constant, object_pairs_hook, **kw)\u001b[39m\n\u001b[32m    341\u001b[39m     s = s.decode(detect_encoding(s), \u001b[33m'\u001b[39m\u001b[33msurrogatepass\u001b[39m\u001b[33m'\u001b[39m)\n\u001b[32m    343\u001b[39m \u001b[38;5;28;01mif\u001b[39;00m (\u001b[38;5;28mcls\u001b[39m \u001b[38;5;129;01mis\u001b[39;00m \u001b[38;5;28;01mNone\u001b[39;00m \u001b[38;5;129;01mand\u001b[39;00m object_hook \u001b[38;5;129;01mis\u001b[39;00m \u001b[38;5;28;01mNone\u001b[39;00m \u001b[38;5;129;01mand\u001b[39;00m\n\u001b[32m    344\u001b[39m         parse_int \u001b[38;5;129;01mis\u001b[39;00m \u001b[38;5;28;01mNone\u001b[39;00m \u001b[38;5;129;01mand\u001b[39;00m parse_float \u001b[38;5;129;01mis\u001b[39;00m \u001b[38;5;28;01mNone\u001b[39;00m \u001b[38;5;129;01mand\u001b[39;00m\n\u001b[32m    345\u001b[39m         parse_constant \u001b[38;5;129;01mis\u001b[39;00m \u001b[38;5;28;01mNone\u001b[39;00m \u001b[38;5;129;01mand\u001b[39;00m object_pairs_hook \u001b[38;5;129;01mis\u001b[39;00m \u001b[38;5;28;01mNone\u001b[39;00m \u001b[38;5;129;01mand\u001b[39;00m \u001b[38;5;129;01mnot\u001b[39;00m kw):\n\u001b[32m--> \u001b[39m\u001b[32m346\u001b[39m     \u001b[38;5;28;01mreturn\u001b[39;00m \u001b[43m_default_decoder\u001b[49m\u001b[43m.\u001b[49m\u001b[43mdecode\u001b[49m\u001b[43m(\u001b[49m\u001b[43ms\u001b[49m\u001b[43m)\u001b[49m\n\u001b[32m    347\u001b[39m \u001b[38;5;28;01mif\u001b[39;00m \u001b[38;5;28mcls\u001b[39m \u001b[38;5;129;01mis\u001b[39;00m \u001b[38;5;28;01mNone\u001b[39;00m:\n\u001b[32m    348\u001b[39m     \u001b[38;5;28mcls\u001b[39m = JSONDecoder\n",
      "\u001b[36mFile \u001b[39m\u001b[32m/opt/homebrew/Cellar/python@3.12/3.12.6/Frameworks/Python.framework/Versions/3.12/lib/python3.12/json/decoder.py:337\u001b[39m, in \u001b[36mJSONDecoder.decode\u001b[39m\u001b[34m(self, s, _w)\u001b[39m\n\u001b[32m    332\u001b[39m \u001b[38;5;28;01mdef\u001b[39;00m\u001b[38;5;250m \u001b[39m\u001b[34mdecode\u001b[39m(\u001b[38;5;28mself\u001b[39m, s, _w=WHITESPACE.match):\n\u001b[32m    333\u001b[39m \u001b[38;5;250m    \u001b[39m\u001b[33;03m\"\"\"Return the Python representation of ``s`` (a ``str`` instance\u001b[39;00m\n\u001b[32m    334\u001b[39m \u001b[33;03m    containing a JSON document).\u001b[39;00m\n\u001b[32m    335\u001b[39m \n\u001b[32m    336\u001b[39m \u001b[33;03m    \"\"\"\u001b[39;00m\n\u001b[32m--> \u001b[39m\u001b[32m337\u001b[39m     obj, end = \u001b[38;5;28;43mself\u001b[39;49m\u001b[43m.\u001b[49m\u001b[43mraw_decode\u001b[49m\u001b[43m(\u001b[49m\u001b[43ms\u001b[49m\u001b[43m,\u001b[49m\u001b[43m \u001b[49m\u001b[43midx\u001b[49m\u001b[43m=\u001b[49m\u001b[43m_w\u001b[49m\u001b[43m(\u001b[49m\u001b[43ms\u001b[49m\u001b[43m,\u001b[49m\u001b[43m \u001b[49m\u001b[32;43m0\u001b[39;49m\u001b[43m)\u001b[49m\u001b[43m.\u001b[49m\u001b[43mend\u001b[49m\u001b[43m(\u001b[49m\u001b[43m)\u001b[49m\u001b[43m)\u001b[49m\n\u001b[32m    338\u001b[39m     end = _w(s, end).end()\n\u001b[32m    339\u001b[39m     \u001b[38;5;28;01mif\u001b[39;00m end != \u001b[38;5;28mlen\u001b[39m(s):\n",
      "\u001b[36mFile \u001b[39m\u001b[32m/opt/homebrew/Cellar/python@3.12/3.12.6/Frameworks/Python.framework/Versions/3.12/lib/python3.12/json/decoder.py:355\u001b[39m, in \u001b[36mJSONDecoder.raw_decode\u001b[39m\u001b[34m(self, s, idx)\u001b[39m\n\u001b[32m    353\u001b[39m     obj, end = \u001b[38;5;28mself\u001b[39m.scan_once(s, idx)\n\u001b[32m    354\u001b[39m \u001b[38;5;28;01mexcept\u001b[39;00m \u001b[38;5;167;01mStopIteration\u001b[39;00m \u001b[38;5;28;01mas\u001b[39;00m err:\n\u001b[32m--> \u001b[39m\u001b[32m355\u001b[39m     \u001b[38;5;28;01mraise\u001b[39;00m JSONDecodeError(\u001b[33m\"\u001b[39m\u001b[33mExpecting value\u001b[39m\u001b[33m\"\u001b[39m, s, err.value) \u001b[38;5;28;01mfrom\u001b[39;00m\u001b[38;5;250m \u001b[39m\u001b[38;5;28;01mNone\u001b[39;00m\n\u001b[32m    356\u001b[39m \u001b[38;5;28;01mreturn\u001b[39;00m obj, end\n",
      "\u001b[31mJSONDecodeError\u001b[39m: Expecting value: line 1 column 1 (char 0)"
     ]
    }
   ],
   "source": [
    "import req_to_testplan\n",
    "importlib.reload(req_to_testplan)\n",
    "\n",
    "req_to_testplan.generate_consolidated_test_plan(\n",
    "    llm_clients, \n",
    "    'claude', \n",
    "    llm_clients.logger, \n",
    "    \"/Users/ceadams/Documents/onclaive/onclaive/reqs_extraction/revised_reqs_output/plan-net-requirements.md\", \n",
    "    \"../full-ig/markdown7_cleaned/CapabilityStatement_plan_net.md\", \n",
    "    \"Plan-Net IG\",\n",
    "    output_dir='checkpoints/testplan_generation')"
   ]
  },
  {
   "cell_type": "markdown",
   "id": "d080ace6",
   "metadata": {},
   "source": [
    "## Test Kit Generation"
   ]
  },
  {
   "cell_type": "code",
   "execution_count": 8,
   "id": "4ef90585",
   "metadata": {},
   "outputs": [
    {
     "name": "stderr",
     "output_type": "stream",
     "text": [
      "2025-06-19 15:10:47,505 - plan_to_tests - INFO - Starting Inferno test generation with claude for PlanNet\n",
      "2025-06-19 15:10:47,516 - plan_to_tests - INFO - Parsed test plan into 11 sections\n",
      "2025-06-19 15:10:47,516 - plan_to_tests - INFO - Found 11 total requirements\n",
      "2025-06-19 15:10:47,518 - plan_to_tests - INFO - Loaded Inferno DSL guidance\n",
      "2025-06-19 15:10:47,518 - plan_to_tests - INFO - Processing section: Application-Level Requirements with 1 requirements\n",
      "2025-06-19 15:10:47,518 - plan_to_tests - INFO - Generating tests for section: Application-Level Requirements\n",
      "2025-06-19 15:10:47,519 - plan_to_tests - INFO - Generating test for requirement: REQ-08\n",
      "2025-06-19 15:10:47,520 - plan_to_tests - INFO - Requirement REQ-08: Sending 989 tokens to claude API (limit: 16000)\n"
     ]
    },
    {
     "name": "stdout",
     "output_type": "stream",
     "text": [
      "Found 11 potential requirements\n",
      "Processing requirement: REQ-08\n",
      "Added requirement REQ-08 to section Application-Level Requirements\n",
      "Processing requirement: REQ-01\n",
      "Added requirement REQ-01 to section Authentication\n",
      "Processing requirement: REQ-09\n",
      "Added requirement REQ-09 to section Base Requirements\n",
      "Processing requirement: REQ-07\n",
      "Added requirement REQ-07 to section CORE Conformance\n",
      "Processing requirement: REQ-06\n",
      "Added requirement REQ-06 to section Cross-Resource\n",
      "Processing requirement: REQ-04\n",
      "Added requirement REQ-04 to section General Requirements\n",
      "Processing requirement: REQ-05\n",
      "Added requirement REQ-05 to section Global\n",
      "Processing requirement: REQ-11\n",
      "Added requirement REQ-11 to section OrganizationAffiliation\n",
      "Processing requirement: REQ-02\n",
      "Added requirement REQ-02 to section Plan-Net API Security\n",
      "Processing requirement: REQ-10\n",
      "Added requirement REQ-10 to section PractitionerRole\n",
      "Processing requirement: REQ-03\n",
      "Added requirement REQ-03 to section Security\n"
     ]
    },
    {
     "name": "stderr",
     "output_type": "stream",
     "text": [
      "2025-06-19 15:10:58,370 - httpx - INFO - HTTP Request: POST https://api.anthropic.com/v1/messages \"HTTP/1.1 200 OK\"\n",
      "2025-06-19 15:10:58,371 - plan_to_tests - INFO - Successfully generated test for requirement: REQ-08\n",
      "2025-06-19 15:10:58,372 - plan_to_tests - INFO - Validating test for requirement: REQ-08\n",
      "2025-06-19 15:10:58,372 - plan_to_tests - INFO - Validation for test: Sending 1528 tokens to claude API\n",
      "2025-06-19 15:11:07,548 - httpx - INFO - HTTP Request: POST https://api.anthropic.com/v1/messages \"HTTP/1.1 200 OK\"\n",
      "2025-06-19 15:11:07,552 - plan_to_tests - INFO - Successfully validated test for requirement: REQ-08\n",
      "2025-06-19 15:11:10,556 - plan_to_tests - INFO - Processing section: Authentication with 1 requirements\n",
      "2025-06-19 15:11:10,558 - plan_to_tests - INFO - Generating tests for section: Authentication\n",
      "2025-06-19 15:11:10,562 - plan_to_tests - INFO - Generating test for requirement: REQ-01\n",
      "2025-06-19 15:11:10,565 - plan_to_tests - INFO - Requirement REQ-01: Sending 983 tokens to claude API (limit: 16000)\n",
      "2025-06-19 15:11:23,339 - httpx - INFO - HTTP Request: POST https://api.anthropic.com/v1/messages \"HTTP/1.1 200 OK\"\n",
      "2025-06-19 15:11:23,340 - plan_to_tests - INFO - Successfully generated test for requirement: REQ-01\n",
      "2025-06-19 15:11:23,341 - plan_to_tests - INFO - Validating test for requirement: REQ-01\n",
      "2025-06-19 15:11:23,341 - plan_to_tests - INFO - Validation for test: Sending 1630 tokens to claude API\n",
      "2025-06-19 15:11:34,156 - httpx - INFO - HTTP Request: POST https://api.anthropic.com/v1/messages \"HTTP/1.1 200 OK\"\n",
      "2025-06-19 15:11:34,158 - plan_to_tests - INFO - Successfully validated test for requirement: REQ-01\n",
      "2025-06-19 15:11:37,164 - plan_to_tests - INFO - Processing section: Base Requirements with 1 requirements\n",
      "2025-06-19 15:11:37,165 - plan_to_tests - INFO - Generating tests for section: Base Requirements\n",
      "2025-06-19 15:11:37,165 - plan_to_tests - INFO - Generating test for requirement: REQ-09\n",
      "2025-06-19 15:11:37,167 - plan_to_tests - INFO - Requirement REQ-09: Sending 993 tokens to claude API (limit: 16000)\n",
      "2025-06-19 15:11:51,011 - httpx - INFO - HTTP Request: POST https://api.anthropic.com/v1/messages \"HTTP/1.1 200 OK\"\n",
      "2025-06-19 15:11:51,012 - plan_to_tests - INFO - Successfully generated test for requirement: REQ-09\n",
      "2025-06-19 15:11:51,012 - plan_to_tests - INFO - Validating test for requirement: REQ-09\n",
      "2025-06-19 15:11:51,012 - plan_to_tests - INFO - Validation for test: Sending 1545 tokens to claude API\n",
      "2025-06-19 15:12:02,103 - httpx - INFO - HTTP Request: POST https://api.anthropic.com/v1/messages \"HTTP/1.1 200 OK\"\n",
      "2025-06-19 15:12:02,106 - plan_to_tests - INFO - Successfully validated test for requirement: REQ-09\n",
      "2025-06-19 15:12:05,112 - plan_to_tests - INFO - Processing section: CORE Conformance with 1 requirements\n",
      "2025-06-19 15:12:05,113 - plan_to_tests - INFO - Generating tests for section: CORE Conformance\n",
      "2025-06-19 15:12:05,114 - plan_to_tests - INFO - Generating test for requirement: REQ-07\n",
      "2025-06-19 15:12:05,116 - plan_to_tests - INFO - Requirement REQ-07: Sending 995 tokens to claude API (limit: 16000)\n",
      "2025-06-19 15:12:19,351 - httpx - INFO - HTTP Request: POST https://api.anthropic.com/v1/messages \"HTTP/1.1 200 OK\"\n",
      "2025-06-19 15:12:19,355 - plan_to_tests - INFO - Successfully generated test for requirement: REQ-07\n",
      "2025-06-19 15:12:19,356 - plan_to_tests - INFO - Validating test for requirement: REQ-07\n",
      "2025-06-19 15:12:19,356 - plan_to_tests - INFO - Validation for test: Sending 1819 tokens to claude API\n",
      "2025-06-19 15:12:30,963 - httpx - INFO - HTTP Request: POST https://api.anthropic.com/v1/messages \"HTTP/1.1 200 OK\"\n",
      "2025-06-19 15:12:30,968 - plan_to_tests - INFO - Successfully validated test for requirement: REQ-07\n",
      "2025-06-19 15:12:33,974 - plan_to_tests - INFO - Processing section: Cross-Resource with 1 requirements\n",
      "2025-06-19 15:12:33,975 - plan_to_tests - INFO - Generating tests for section: Cross-Resource\n",
      "2025-06-19 15:12:33,975 - plan_to_tests - INFO - Generating test for requirement: REQ-06\n",
      "2025-06-19 15:12:33,979 - plan_to_tests - INFO - Requirement REQ-06: Sending 1009 tokens to claude API (limit: 16000)\n",
      "2025-06-19 15:12:49,303 - httpx - INFO - HTTP Request: POST https://api.anthropic.com/v1/messages \"HTTP/1.1 200 OK\"\n",
      "2025-06-19 15:12:49,305 - plan_to_tests - INFO - Successfully generated test for requirement: REQ-06\n",
      "2025-06-19 15:12:49,305 - plan_to_tests - INFO - Validating test for requirement: REQ-06\n",
      "2025-06-19 15:12:49,305 - plan_to_tests - INFO - Validation for test: Sending 1728 tokens to claude API\n",
      "2025-06-19 15:13:03,122 - httpx - INFO - HTTP Request: POST https://api.anthropic.com/v1/messages \"HTTP/1.1 200 OK\"\n",
      "2025-06-19 15:13:03,125 - plan_to_tests - INFO - Successfully validated test for requirement: REQ-06\n",
      "2025-06-19 15:13:06,132 - plan_to_tests - INFO - Processing section: General Requirements with 1 requirements\n",
      "2025-06-19 15:13:06,133 - plan_to_tests - INFO - Generating tests for section: General Requirements\n",
      "2025-06-19 15:13:06,133 - plan_to_tests - INFO - Generating test for requirement: REQ-04\n",
      "2025-06-19 15:13:06,135 - plan_to_tests - INFO - Requirement REQ-04: Sending 983 tokens to claude API (limit: 16000)\n",
      "2025-06-19 15:13:18,851 - httpx - INFO - HTTP Request: POST https://api.anthropic.com/v1/messages \"HTTP/1.1 200 OK\"\n",
      "2025-06-19 15:13:18,853 - plan_to_tests - INFO - Successfully generated test for requirement: REQ-04\n",
      "2025-06-19 15:13:18,853 - plan_to_tests - INFO - Validating test for requirement: REQ-04\n",
      "2025-06-19 15:13:18,854 - plan_to_tests - INFO - Validation for test: Sending 1558 tokens to claude API\n",
      "2025-06-19 15:13:29,254 - httpx - INFO - HTTP Request: POST https://api.anthropic.com/v1/messages \"HTTP/1.1 200 OK\"\n",
      "2025-06-19 15:13:29,258 - plan_to_tests - INFO - Successfully validated test for requirement: REQ-04\n",
      "2025-06-19 15:13:32,263 - plan_to_tests - INFO - Processing section: Global with 1 requirements\n",
      "2025-06-19 15:13:32,264 - plan_to_tests - INFO - Generating tests for section: Global\n",
      "2025-06-19 15:13:32,267 - plan_to_tests - INFO - Generating test for requirement: REQ-05\n",
      "2025-06-19 15:13:32,270 - plan_to_tests - INFO - Requirement REQ-05: Sending 1002 tokens to claude API (limit: 16000)\n",
      "2025-06-19 15:13:44,106 - httpx - INFO - HTTP Request: POST https://api.anthropic.com/v1/messages \"HTTP/1.1 200 OK\"\n",
      "2025-06-19 15:13:44,108 - plan_to_tests - INFO - Successfully generated test for requirement: REQ-05\n",
      "2025-06-19 15:13:44,108 - plan_to_tests - INFO - Validating test for requirement: REQ-05\n",
      "2025-06-19 15:13:44,108 - plan_to_tests - INFO - Validation for test: Sending 1531 tokens to claude API\n",
      "2025-06-19 15:13:54,353 - httpx - INFO - HTTP Request: POST https://api.anthropic.com/v1/messages \"HTTP/1.1 200 OK\"\n",
      "2025-06-19 15:13:54,357 - plan_to_tests - INFO - Successfully validated test for requirement: REQ-05\n",
      "2025-06-19 15:13:57,358 - plan_to_tests - INFO - Processing section: OrganizationAffiliation with 1 requirements\n",
      "2025-06-19 15:13:57,359 - plan_to_tests - INFO - Generating tests for section: OrganizationAffiliation\n",
      "2025-06-19 15:13:57,359 - plan_to_tests - INFO - Generating test for requirement: REQ-11\n",
      "2025-06-19 15:13:57,360 - plan_to_tests - INFO - Requirement REQ-11: Sending 996 tokens to claude API (limit: 16000)\n",
      "2025-06-19 15:14:10,157 - httpx - INFO - HTTP Request: POST https://api.anthropic.com/v1/messages \"HTTP/1.1 200 OK\"\n",
      "2025-06-19 15:14:10,159 - plan_to_tests - INFO - Successfully generated test for requirement: REQ-11\n",
      "2025-06-19 15:14:10,159 - plan_to_tests - INFO - Validating test for requirement: REQ-11\n",
      "2025-06-19 15:14:10,160 - plan_to_tests - INFO - Validation for test: Sending 1534 tokens to claude API\n",
      "2025-06-19 15:14:19,458 - httpx - INFO - HTTP Request: POST https://api.anthropic.com/v1/messages \"HTTP/1.1 200 OK\"\n",
      "2025-06-19 15:14:19,459 - plan_to_tests - INFO - Successfully validated test for requirement: REQ-11\n",
      "2025-06-19 15:14:22,463 - plan_to_tests - INFO - Processing section: Plan-Net API Security with 1 requirements\n",
      "2025-06-19 15:14:22,463 - plan_to_tests - INFO - Generating tests for section: Plan-Net API Security\n",
      "2025-06-19 15:14:22,463 - plan_to_tests - INFO - Generating test for requirement: REQ-02\n",
      "2025-06-19 15:14:22,464 - plan_to_tests - INFO - Requirement REQ-02: Sending 995 tokens to claude API (limit: 16000)\n",
      "2025-06-19 15:14:34,016 - httpx - INFO - HTTP Request: POST https://api.anthropic.com/v1/messages \"HTTP/1.1 200 OK\"\n",
      "2025-06-19 15:14:34,020 - plan_to_tests - INFO - Successfully generated test for requirement: REQ-02\n",
      "2025-06-19 15:14:34,021 - plan_to_tests - INFO - Validating test for requirement: REQ-02\n",
      "2025-06-19 15:14:34,021 - plan_to_tests - INFO - Validation for test: Sending 1475 tokens to claude API\n",
      "2025-06-19 15:14:43,112 - httpx - INFO - HTTP Request: POST https://api.anthropic.com/v1/messages \"HTTP/1.1 200 OK\"\n",
      "2025-06-19 15:14:43,114 - plan_to_tests - INFO - Successfully validated test for requirement: REQ-02\n",
      "2025-06-19 15:14:46,120 - plan_to_tests - INFO - Processing section: PractitionerRole with 1 requirements\n",
      "2025-06-19 15:14:46,121 - plan_to_tests - INFO - Generating tests for section: PractitionerRole\n",
      "2025-06-19 15:14:46,122 - plan_to_tests - INFO - Generating test for requirement: REQ-10\n",
      "2025-06-19 15:14:46,125 - plan_to_tests - INFO - Requirement REQ-10: Sending 994 tokens to claude API (limit: 16000)\n",
      "2025-06-19 15:14:59,826 - httpx - INFO - HTTP Request: POST https://api.anthropic.com/v1/messages \"HTTP/1.1 200 OK\"\n",
      "2025-06-19 15:14:59,834 - plan_to_tests - INFO - Successfully generated test for requirement: REQ-10\n",
      "2025-06-19 15:14:59,835 - plan_to_tests - INFO - Validating test for requirement: REQ-10\n",
      "2025-06-19 15:14:59,836 - plan_to_tests - INFO - Validation for test: Sending 1615 tokens to claude API\n",
      "2025-06-19 15:15:10,306 - httpx - INFO - HTTP Request: POST https://api.anthropic.com/v1/messages \"HTTP/1.1 200 OK\"\n",
      "2025-06-19 15:15:10,307 - plan_to_tests - INFO - Successfully validated test for requirement: REQ-10\n",
      "2025-06-19 15:15:13,315 - plan_to_tests - INFO - Processing section: Security with 1 requirements\n",
      "2025-06-19 15:15:13,319 - plan_to_tests - INFO - Generating tests for section: Security\n",
      "2025-06-19 15:15:13,319 - plan_to_tests - INFO - Generating test for requirement: REQ-03\n",
      "2025-06-19 15:15:13,321 - plan_to_tests - INFO - Requirement REQ-03: Sending 990 tokens to claude API (limit: 16000)\n",
      "2025-06-19 15:15:23,432 - httpx - INFO - HTTP Request: POST https://api.anthropic.com/v1/messages \"HTTP/1.1 200 OK\"\n",
      "2025-06-19 15:15:23,434 - plan_to_tests - INFO - Successfully generated test for requirement: REQ-03\n",
      "2025-06-19 15:15:23,435 - plan_to_tests - INFO - Validating test for requirement: REQ-03\n",
      "2025-06-19 15:15:23,435 - plan_to_tests - INFO - Validation for test: Sending 1401 tokens to claude API\n",
      "2025-06-19 15:15:32,493 - httpx - INFO - HTTP Request: POST https://api.anthropic.com/v1/messages \"HTTP/1.1 200 OK\"\n",
      "2025-06-19 15:15:32,494 - plan_to_tests - INFO - Successfully validated test for requirement: REQ-03\n",
      "2025-06-19 15:15:35,500 - plan_to_tests - INFO - Generated tests for 11 requirements\n",
      "2025-06-19 15:15:35,502 - plan_to_tests - INFO - Wrote test for REQ-08 to checkpoints/testkit_generation/plannet/application_actor/application_level_requirements/req_08_test.rb\n",
      "2025-06-19 15:15:35,502 - plan_to_tests - INFO - Wrote test for REQ-09 to checkpoints/testkit_generation/plannet/application_actor/base_requirements/req_09_test.rb\n",
      "2025-06-19 15:15:35,503 - plan_to_tests - INFO - Wrote test for REQ-07 to checkpoints/testkit_generation/plannet/application_actor/core_conformance/req_07_test.rb\n",
      "2025-06-19 15:15:35,504 - plan_to_tests - INFO - Wrote test for REQ-03 to checkpoints/testkit_generation/plannet/application_actor/security/req_03_test.rb\n",
      "2025-06-19 15:15:35,505 - plan_to_tests - INFO - Wrote test for REQ-01 to checkpoints/testkit_generation/plannet/health_plan_api/authentication/req_01_test.rb\n",
      "2025-06-19 15:15:35,506 - plan_to_tests - INFO - Wrote test for REQ-06 to checkpoints/testkit_generation/plannet/health_plan_api/cross_resource/req_06_test.rb\n",
      "2025-06-19 15:15:35,507 - plan_to_tests - INFO - Wrote test for REQ-04 to checkpoints/testkit_generation/plannet/health_plan_api/general_requirements/req_04_test.rb\n",
      "2025-06-19 15:15:35,508 - plan_to_tests - INFO - Wrote test for REQ-05 to checkpoints/testkit_generation/plannet/health_plan_api/global/req_05_test.rb\n",
      "2025-06-19 15:15:35,509 - plan_to_tests - INFO - Wrote test for REQ-11 to checkpoints/testkit_generation/plannet/health_plan_api/organizationaffiliation/req_11_test.rb\n",
      "2025-06-19 15:15:35,509 - plan_to_tests - INFO - Wrote test for REQ-02 to checkpoints/testkit_generation/plannet/health_plan_api/plan_net_api_security/req_02_test.rb\n",
      "2025-06-19 15:15:35,510 - plan_to_tests - INFO - Wrote test for REQ-10 to checkpoints/testkit_generation/plannet/health_plan_api/practitionerrole/req_10_test.rb\n",
      "2025-06-19 15:15:35,510 - plan_to_tests - INFO - Collecting test data for module file generation\n",
      "2025-06-19 15:15:35,517 - plan_to_tests - INFO - Created structure representation of test files\n",
      "2025-06-19 15:15:35,517 - plan_to_tests - INFO - Generating module file with LLM\n",
      "2025-06-19 15:15:45,940 - httpx - INFO - HTTP Request: POST https://api.anthropic.com/v1/messages \"HTTP/1.1 200 OK\"\n",
      "2025-06-19 15:15:45,946 - plan_to_tests - INFO - Wrote module file to checkpoints/testkit_generation/plannet.rb\n"
     ]
    },
    {
     "data": {
      "text/plain": [
       "{'total_sections': 11,\n",
       " 'total_requirements': 11,\n",
       " 'generated_tests': 11,\n",
       " 'module_dir': 'checkpoints/testkit_generation/plannet',\n",
       " 'module_file': 'checkpoints/testkit_generation/plannet.rb'}"
      ]
     },
     "execution_count": 8,
     "metadata": {},
     "output_type": "execute_result"
    }
   ],
   "source": [
    "import plan_to_tests\n",
    "importlib.reload(plan_to_tests)\n",
    "\n",
    "plan_to_tests.generate_inferno_test_kit(\n",
    "    llm_clients,\n",
    "    'claude',\n",
    "    '/Users/ceadams/Documents/onclaive/onclaive/test_kit_dev/test_plan_output/example_claude_test_plan_20250416_143409.md',\n",
    "    #'../test_kit_dev/inferno-guidance.md',\n",
    "    output_dir='checkpoints/testkit_generation',\n",
    "    expected_actors=[\"Health Plan API Actor\", \"Application Actor\"]\n",
    ")"
   ]
  },
  {
   "cell_type": "code",
   "execution_count": null,
   "id": "bdf7dc24",
   "metadata": {},
   "outputs": [],
   "source": []
  }
 ],
 "metadata": {
  "kernelspec": {
   "display_name": "ONCL310",
   "language": "python",
   "name": "python3"
  },
  "language_info": {
   "codemirror_mode": {
    "name": "ipython",
    "version": 3
   },
   "file_extension": ".py",
   "mimetype": "text/x-python",
   "name": "python",
   "nbconvert_exporter": "python",
   "pygments_lexer": "ipython3",
   "version": "3.10.16"
  }
 },
 "nbformat": 4,
 "nbformat_minor": 5
}
