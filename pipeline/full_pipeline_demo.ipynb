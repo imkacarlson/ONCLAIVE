{
 "cells": [
  {
   "cell_type": "markdown",
   "id": "73e3a524",
   "metadata": {},
   "source": [
    "## FHIR Implementation Guide Testing Pipeline\n",
    "This notebook provides a comprehensive pipeline for automatically extracting requirements from FHIR Implementation Guides and generating executable test suites. The pipeline transforms Implementation Guide (IG) documentation into structured test code that can validate FHIR server implementations.\n",
    "\n",
    "#### Overview\n",
    "This automated pipeline takes FHIR Implementation Guide documentation and produces comprehensive test suites through several integrated stages:\n",
    "\n",
    "- Implementation Guide Preparation: Convert and clean IG HTML documentation to markdown format\n",
    "- Requirements Extraction: Use AI to identify and extract testable requirements from the IG\n",
    "- Requirements Refinement: Consolidate and refine the extracted requirements\n",
    "- Requirements Downselection: Combine multiple requirement sets and remove duplicates\n",
    "- Test Plan Generation: Convert requirements into detailed test specifications\n",
    "- Test Kit Generation: Generate executable Inferno test code\n",
    "\n",
    "#### Running this Notebook\n",
    "The notebook is structured to run each stage sequentially. You can either:\n",
    "\n",
    "- Run the complete pipeline: Execute all cells to process a complete IG\n",
    "- Run individual stages: Execute specific sections as needed\n",
    "\n",
    "Inputs and output directories can be customized for each step. The pipeline automatically saves intermediate outputs in checkpoint directories for review and iteration.\n",
    "\n",
    "#### Output Structure\n",
    "The pipeline generates organized outputs in checkpoint directories:\n",
    "\n",
    "checkpoints/\n",
    "\n",
    "├── markdown1/          # Converted markdown files\n",
    "\n",
    "├── markdown2/          # Cleaned markdown files  \n",
    "\n",
    "├── requirements_extraction/   # Initial AI-extracted requirements\n",
    "\n",
    "├── revised_reqs_extraction/  # Refined requirements lists\n",
    "\n",
    "├── requirements_downselect/  # Final consolidated requirements\n",
    "\n",
    "├── testplan_generation/     # Detailed test specifications\n",
    "\n",
    "└── testkit_generation/      # Executable Inferno test suites\n",
    "\n",
    "Each stage preserves its outputs, allowing for iteration, review, and alternative processing paths."
   ]
  },
  {
   "cell_type": "markdown",
   "id": "8a5d267b",
   "metadata": {},
   "source": [
    "## Setup"
   ]
  },
  {
   "cell_type": "markdown",
   "id": "9de19ee6",
   "metadata": {},
   "source": [
    "#### Importing Notebooks as Modules (from the [Jupyter Notebook Documentation](https://jupyter-notebook.readthedocs.io/en/4.x/examples/Notebook/rstversions/Importing%20Notebooks.html))"
   ]
  },
  {
   "cell_type": "code",
   "execution_count": 5,
   "id": "d9fc5ddc",
   "metadata": {},
   "outputs": [],
   "source": [
    "import inspect\n",
    "import json\n",
    "import llm_utils\n",
    "import importlib\n",
    "import tiktoken\n",
    "import requests\n",
    "from bs4 import BeautifulSoup\n",
    "from urllib.parse import urlparse\n",
    "from glob import glob"
   ]
  },
  {
   "cell_type": "markdown",
   "id": "0de7a6cc",
   "metadata": {},
   "source": [
    "## Initializing LLM Clients"
   ]
  },
  {
   "cell_type": "code",
   "execution_count": 6,
   "id": "3ead91a2",
   "metadata": {},
   "outputs": [],
   "source": [
    "importlib.reload(llm_utils)\n",
    "llm_clients = llm_utils.LLMApiClient()"
   ]
  },
  {
   "cell_type": "code",
   "execution_count": 7,
   "id": "c39d130b",
   "metadata": {},
   "outputs": [
    {
     "data": {
      "text/plain": [
       "{'claude': <anthropic.Anthropic at 0x16907a9f0>,\n",
       " 'gemini': genai.GenerativeModel(\n",
       "     model_name='models/gemini-2.5-pro',\n",
       "     generation_config={'max_output_tokens': 8192, 'temperature': 0.3},\n",
       "     safety_settings={<HarmCategory.HARM_CATEGORY_HARASSMENT: 7>: <HarmBlockThreshold.BLOCK_NONE: 4>, <HarmCategory.HARM_CATEGORY_HATE_SPEECH: 8>: <HarmBlockThreshold.BLOCK_NONE: 4>, <HarmCategory.HARM_CATEGORY_SEXUALLY_EXPLICIT: 9>: <HarmBlockThreshold.BLOCK_NONE: 4>, <HarmCategory.HARM_CATEGORY_DANGEROUS_CONTENT: 10>: <HarmBlockThreshold.BLOCK_NONE: 4>},\n",
       "     tools=None,\n",
       "     system_instruction=None,\n",
       "     cached_content=None\n",
       " ),\n",
       " 'gpt': <openai.OpenAI at 0x10ce50d10>}"
      ]
     },
     "execution_count": 7,
     "metadata": {},
     "output_type": "execute_result"
    }
   ],
   "source": [
    "llm_clients.clients"
   ]
  },
  {
   "cell_type": "markdown",
   "id": "8e6d80d1",
   "metadata": {},
   "source": [
    "## Implementation Guide Preparation\n",
    "\n",
    "### Stage 1: Text Extraction and Cleaning\n",
    "- Converts HTML IG files to markdown format\n",
    "- Cleans unnecessary content (navigation, headers, formatting artifacts)\n",
    "- Prepares clean, structured text for AI processing\n",
    "\n",
    "Inputs: HTML files from FHIR IG downloads\n",
    "\n",
    "Outputs: Clean markdown files"
   ]
  },
  {
   "cell_type": "markdown",
   "id": "08717e1c",
   "metadata": {},
   "source": [
    "#### 1a) HTML to Markdown Conversion"
   ]
  },
  {
   "cell_type": "code",
   "execution_count": null,
   "id": "61ff8f8d",
   "metadata": {},
   "outputs": [
    {
     "name": "stdout",
     "output_type": "stream",
     "text": [
      "Found 1 HTML files to process\n",
      "Processed 1/1 files\n",
      "Conversion complete. Successfully processed 1 files. Encountered 0 errors.\n"
     ]
    }
   ],
   "source": [
    "import html_narrative_extractor #import html extractor module\n",
    "\n",
    "# Process directory with default settings\n",
    "result = html_narrative_extractor.convert_local_html_to_markdown(\n",
    "    \"../us-core/test_set\", #input directory of downloaded IG HTML files\n",
    "    \"checkpoints/markdown1/\" #output directory\n",
    ")"
   ]
  },
  {
   "cell_type": "markdown",
   "id": "b0108ece",
   "metadata": {},
   "source": [
    "#### 1b) Markdown Post-processing"
   ]
  },
  {
   "cell_type": "code",
   "execution_count": null,
   "id": "aec7806b",
   "metadata": {},
   "outputs": [
    {
     "name": "stdout",
     "output_type": "stream",
     "text": [
      "Found 1 markdown files in checkpoints/markdown1_test\n",
      "Cleaned and saved: checkpoints/markdown2_test/CapabilityStatement-us-core-server.md\n",
      "\n",
      "Processing complete: 1 files successfully cleaned, 0 failed\n"
     ]
    }
   ],
   "source": [
    "import markdown_cleaner #import markdown cleaner module\n",
    "markdown_cleaner.process_directory(\"checkpoints/markdown1\", #input directory of IG markdown files\n",
    "                                   \"checkpoints/markdown2/\") #output directory"
   ]
  },
  {
   "cell_type": "markdown",
   "id": "eb3fa2d1",
   "metadata": {},
   "source": [
    "## Stage 2: Requirements Extraction"
   ]
  },
  {
   "cell_type": "markdown",
   "id": "be0566ab",
   "metadata": {},
   "source": [
    "### 2a) Prompt-based Requirement Extraction\n",
    "LLM Requirements Identification\n",
    "- Processes markdown files using LLM to extract clear, testable requirements\n",
    "- Formats requirements according to set standards, following INCOSE guidance\n",
    "- Generates structured requirements with IDs, descriptions, actors, and conformance levels\n",
    "- Handles large documents through chunking\n",
    "- Provides source tracking\n",
    "\n",
    "Inputs: Cleaned IG markdown files\n",
    "\n",
    "Outputs: Structured requirements list as markdown file"
   ]
  },
  {
   "cell_type": "code",
   "execution_count": 29,
   "id": "c7fd5bf6",
   "metadata": {},
   "outputs": [],
   "source": [
    "import reqs_extraction #import LLM requirements extraction module"
   ]
  },
  {
   "cell_type": "code",
   "execution_count": 30,
   "id": "31999d1d",
   "metadata": {},
   "outputs": [
    {
     "name": "stdout",
     "output_type": "stream",
     "text": [
      "\n",
      "Processing Implementation Guide with Claude...\n",
      "This may take several minutes depending on the size of the Implementation Guide.\n",
      "\n",
      "================================================================================\n",
      "Processing complete!\n",
      "Generated requirements document: checkpoints/requirements_extraction/claude_reqs_list_v1_20250829_071313.md\n",
      "Processed 1 files\n",
      "================================================================================\n"
     ]
    }
   ],
   "source": [
    "reqs_extraction.run_requirements_extractor(\n",
    "    'checkpoints/markdown2_test', #input directory of markdown files\n",
    "    'checkpoints/requirements_extraction/', #output directory\n",
    "    'claude', #set API type\n",
    "    llm_clients) #initialize llm clients"
   ]
  },
  {
   "cell_type": "markdown",
   "id": "47056998",
   "metadata": {},
   "source": [
    "### 2b) Requirements Refinement\n",
    "LLM-Based Requirements Review & Consolidation\n",
    "- Filters and identifies only testable requirements from raw extractions\n",
    "- Consolidates duplicate requirements and merges related ones\n",
    "- Applies consistent formatting and structure\n",
    "- Removes non-testable assertions and narrative content\n",
    "\n",
    "Inputs: Raw requirements from extraction stage in markdown format\n",
    "\n",
    "Outputs: Refined requirements list in markdown format"
   ]
  },
  {
   "cell_type": "code",
   "execution_count": 31,
   "id": "547fa2a7",
   "metadata": {},
   "outputs": [
    {
     "data": {
      "text/plain": [
       "<module 'reqs_reviewer' from '/Users/ceadams/Documents/onclaive/onclaive/pipeline/reqs_reviewer.py'>"
      ]
     },
     "execution_count": 31,
     "metadata": {},
     "output_type": "execute_result"
    }
   ],
   "source": [
    "# import requirements refinement script as module\n",
    "import reqs_reviewer\n",
    "importlib.reload(reqs_reviewer)"
   ]
  },
  {
   "cell_type": "markdown",
   "id": "10c48b37",
   "metadata": {},
   "source": [
    "### Large Number of Requirements (500+)"
   ]
  },
  {
   "cell_type": "code",
   "execution_count": 32,
   "id": "53363a50",
   "metadata": {},
   "outputs": [
    {
     "name": "stdout",
     "output_type": "stream",
     "text": [
      "STARTING BATCH PROCESSING\n",
      "==================================================\n",
      "Input: /Users/ceadams/Documents/onclaive/onclaive/pipeline/checkpoints/requirements_extraction/claude_reqs_list_v1_20250829_071313.md\n",
      "Output: checkpoints/revised_reqs_extraction\n",
      "Batch size: 75 requirements\n",
      "API: claude\n",
      "\n",
      "File size: 32,242 characters\n",
      "Splitting requirements...\n",
      "Found 65 total requirements\n",
      "Will process in 1 batches\n",
      "\n",
      "BATCH 1/1\n",
      "   Requirements: 65 (#1-#65)\n",
      "   Size: 32,242 chars (~8,060 tokens)\n",
      "   Completed in 98.4s\n",
      "   Progress: 1/1 (100.0%)\n",
      "   ETA: 0.0 minutes remaining\n",
      "\n",
      "COMBINING RESULTS\n",
      "--------------------\n",
      "Merging batch results and renumbering...\n",
      "   Processing batch 1 results...\n",
      "   Renumbered 65 requirements\n",
      "BATCH PROCESSING COMPLETE!\n",
      "========================================\n",
      "Output saved: checkpoints/revised_reqs_extraction/claude_refined_requirements_20250829_071642.md\n",
      "Original requirements: 65\n",
      "Final requirements: 65\n",
      "Successful batches: 1/1\n",
      "Failed batches: 0/1\n",
      "Total time: 1.6 minutes\n",
      "Average per batch: 98.4 seconds\n"
     ]
    }
   ],
   "source": [
    "result = reqs_reviewer.run_batch_requirements_refinement(\n",
    "    input_file=\"/Users/ceadams/Documents/onclaive/onclaive/pipeline/checkpoints/requirements_extraction/claude_reqs_list_v1_20250829_071313.md\", #input requirements list markdown file\n",
    "    llm_client_instance=llm_clients,  #initialize llm clients\n",
    "    batch_size=75,  #set batch size\n",
    "    api_type=\"claude\"  #set API type\n",
    ")"
   ]
  },
  {
   "cell_type": "markdown",
   "id": "832ef294",
   "metadata": {},
   "source": [
    "### Small Number of Requirements (<500)"
   ]
  },
  {
   "cell_type": "code",
   "execution_count": 14,
   "id": "687e4667",
   "metadata": {},
   "outputs": [
    {
     "name": "stderr",
     "output_type": "stream",
     "text": [
      "INFO:root:Prompt environment set up at: /Users/ceadams/Documents/onclaive/onclaive/prompts\n",
      "INFO:root:Starting requirements refinement with claude\n",
      "INFO:root:Original requirements count: 67\n",
      "INFO:root:Input size: 30785 characters, ~7696 tokens\n",
      "INFO:root:Sending requirements to claude for refinement...\n",
      "INFO:root:Estimated input tokens: 8307\n",
      "INFO:root:API input limit: 180000\n",
      "INFO:root:API output limit: 8192\n",
      "INFO:httpx:HTTP Request: POST https://api.anthropic.com/v1/messages \"HTTP/1.1 200 OK\"\n",
      "INFO:root:Requirements refinement complete. Output saved to: checkpoints/revised_reqs_extraction/claude_reqs_list_v2_20250826_085415.md\n",
      "INFO:root:Refined 67 -> 66 requirements\n",
      "INFO:root:Output size: 29582 characters, ~7395 tokens\n"
     ]
    },
    {
     "name": "stdout",
     "output_type": "stream",
     "text": [
      "✅ Refined requirements saved to: checkpoints/revised_reqs_extraction/claude_reqs_list_v2_20250826_085415.md\n",
      "📊 67 → 66 requirements\n"
     ]
    }
   ],
   "source": [
    "# Manual refinement with specific file\n",
    "refinement_result = reqs_reviewer.refine_requirements(\n",
    "    input_file=\"checkpoints/requirements_extraction/us-core/claude_reqs_list_v1_20250826_084443.md\",\n",
    "    api_type=\"claude\",\n",
    "    output_dir=\"checkpoints/revised_reqs_extraction\",\n",
    "    llm_client_instance=llm_clients\n",
    ")\n",
    "\n",
    "print(f\"✅ Refined requirements saved to: {refinement_result['output_file']}\")\n",
    "print(f\"📊 {refinement_result['original_requirements_count']} → {refinement_result['requirements_count']} requirements\")\n",
    "\n",
    "if refinement_result.get('warnings'):\n",
    "    print(\"⚠️  Warnings:\")\n",
    "    for warning in refinement_result['warnings']:\n",
    "        print(f\"  - {warning}\")"
   ]
  },
  {
   "cell_type": "markdown",
   "id": "0b2ccc40",
   "metadata": {},
   "source": [
    "### 2c) Requirements Downselection\n",
    "- Combines multiple requirements lists from different extraction runs\n",
    "- Uses semantic similarity analysis to identify and remove duplicates\n",
    "- Creates a deduplicated final requirements set\n",
    "\n",
    "Inputs: Multiple refined requirements files in markdown or JSON format\n",
    "Outputs: Final consolidated requirements in markdown or JSON format"
   ]
  },
  {
   "cell_type": "code",
   "execution_count": null,
   "id": "78226f35",
   "metadata": {},
   "outputs": [
    {
     "name": "stderr",
     "output_type": "stream",
     "text": [
      "/Users/ceadams/Documents/onclaive/onclaive/pipeline/requirement_downselect.py:23: SyntaxWarning: invalid escape sequence '\\*'\n",
      "  headings = list(re.finditer(\"\\*\\*\\w+\\*\\*\\:\", split))\n",
      "INFO:sentence_transformers.SentenceTransformer:Use pytorch device_name: mps\n",
      "INFO:sentence_transformers.SentenceTransformer:Load pretrained SentenceTransformer: all-mpnet-base-v2\n"
     ]
    },
    {
     "data": {
      "application/vnd.jupyter.widget-view+json": {
       "model_id": "e2ce532314f14ec491b7da726da9d635",
       "version_major": 2,
       "version_minor": 0
      },
      "text/plain": [
       "Batches:   0%|          | 0/1 [00:00<?, ?it/s]"
      ]
     },
     "metadata": {},
     "output_type": "display_data"
    },
    {
     "data": {
      "application/vnd.jupyter.widget-view+json": {
       "model_id": "4d76551bc4294a7f8928d3be833a0d7e",
       "version_major": 2,
       "version_minor": 0
      },
      "text/plain": [
       "Batches:   0%|          | 0/1 [00:00<?, ?it/s]"
      ]
     },
     "metadata": {},
     "output_type": "display_data"
    },
    {
     "data": {
      "application/vnd.jupyter.widget-view+json": {
       "model_id": "41d5c7ca067342d7b3acc09725625b63",
       "version_major": 2,
       "version_minor": 0
      },
      "text/plain": [
       "Batches:   0%|          | 0/1 [00:00<?, ?it/s]"
      ]
     },
     "metadata": {},
     "output_type": "display_data"
    },
    {
     "data": {
      "application/vnd.jupyter.widget-view+json": {
       "model_id": "cb682eabacca4287a85a127b2128ee96",
       "version_major": 2,
       "version_minor": 0
      },
      "text/plain": [
       "Batches:   0%|          | 0/1 [00:00<?, ?it/s]"
      ]
     },
     "metadata": {},
     "output_type": "display_data"
    },
    {
     "data": {
      "application/vnd.jupyter.widget-view+json": {
       "model_id": "8fff16ddc3cb4c6f9c957b613975656e",
       "version_major": 2,
       "version_minor": 0
      },
      "text/plain": [
       "Batches:   0%|          | 0/1 [00:00<?, ?it/s]"
      ]
     },
     "metadata": {},
     "output_type": "display_data"
    },
    {
     "data": {
      "application/vnd.jupyter.widget-view+json": {
       "model_id": "333fc849ccae44f38ba27484ba455685",
       "version_major": 2,
       "version_minor": 0
      },
      "text/plain": [
       "Batches:   0%|          | 0/1 [00:00<?, ?it/s]"
      ]
     },
     "metadata": {},
     "output_type": "display_data"
    },
    {
     "data": {
      "application/vnd.jupyter.widget-view+json": {
       "model_id": "53adfa4bffe5438fa3c58c5e92eb4e71",
       "version_major": 2,
       "version_minor": 0
      },
      "text/plain": [
       "Batches:   0%|          | 0/1 [00:00<?, ?it/s]"
      ]
     },
     "metadata": {},
     "output_type": "display_data"
    },
    {
     "data": {
      "application/vnd.jupyter.widget-view+json": {
       "model_id": "d3ef25796900472f990f51d2c7ade224",
       "version_major": 2,
       "version_minor": 0
      },
      "text/plain": [
       "Batches:   0%|          | 0/1 [00:00<?, ?it/s]"
      ]
     },
     "metadata": {},
     "output_type": "display_data"
    },
    {
     "data": {
      "application/vnd.jupyter.widget-view+json": {
       "model_id": "c77b2653876b4655b914eba35f087440",
       "version_major": 2,
       "version_minor": 0
      },
      "text/plain": [
       "Batches:   0%|          | 0/1 [00:00<?, ?it/s]"
      ]
     },
     "metadata": {},
     "output_type": "display_data"
    },
    {
     "data": {
      "application/vnd.jupyter.widget-view+json": {
       "model_id": "5f81002ab1cf49c8a0b2977fb8a5ac59",
       "version_major": 2,
       "version_minor": 0
      },
      "text/plain": [
       "Batches:   0%|          | 0/1 [00:00<?, ?it/s]"
      ]
     },
     "metadata": {},
     "output_type": "display_data"
    },
    {
     "data": {
      "application/vnd.jupyter.widget-view+json": {
       "model_id": "8d7b8d8a7022447dac62503c708c31b2",
       "version_major": 2,
       "version_minor": 0
      },
      "text/plain": [
       "Batches:   0%|          | 0/1 [00:00<?, ?it/s]"
      ]
     },
     "metadata": {},
     "output_type": "display_data"
    },
    {
     "data": {
      "application/vnd.jupyter.widget-view+json": {
       "model_id": "06e3f33b60cc4606b0f2d53d9fc38b83",
       "version_major": 2,
       "version_minor": 0
      },
      "text/plain": [
       "Batches:   0%|          | 0/1 [00:00<?, ?it/s]"
      ]
     },
     "metadata": {},
     "output_type": "display_data"
    },
    {
     "data": {
      "application/vnd.jupyter.widget-view+json": {
       "model_id": "2c99497033cf49e1aad46745fb7ab6c0",
       "version_major": 2,
       "version_minor": 0
      },
      "text/plain": [
       "Batches:   0%|          | 0/1 [00:00<?, ?it/s]"
      ]
     },
     "metadata": {},
     "output_type": "display_data"
    },
    {
     "data": {
      "application/vnd.jupyter.widget-view+json": {
       "model_id": "6e366e91644a4ea8b1c83aade3498a88",
       "version_major": 2,
       "version_minor": 0
      },
      "text/plain": [
       "Batches:   0%|          | 0/1 [00:00<?, ?it/s]"
      ]
     },
     "metadata": {},
     "output_type": "display_data"
    },
    {
     "data": {
      "application/vnd.jupyter.widget-view+json": {
       "model_id": "d33a190e0820436597f1c9c5718fcfa4",
       "version_major": 2,
       "version_minor": 0
      },
      "text/plain": [
       "Batches:   0%|          | 0/1 [00:00<?, ?it/s]"
      ]
     },
     "metadata": {},
     "output_type": "display_data"
    },
    {
     "data": {
      "application/vnd.jupyter.widget-view+json": {
       "model_id": "ed5944bebead45a3ab5efcbea23b2cea",
       "version_major": 2,
       "version_minor": 0
      },
      "text/plain": [
       "Batches:   0%|          | 0/1 [00:00<?, ?it/s]"
      ]
     },
     "metadata": {},
     "output_type": "display_data"
    },
    {
     "data": {
      "application/vnd.jupyter.widget-view+json": {
       "model_id": "8b8b65f28b4046a3ae157057fe8246fe",
       "version_major": 2,
       "version_minor": 0
      },
      "text/plain": [
       "Batches:   0%|          | 0/1 [00:00<?, ?it/s]"
      ]
     },
     "metadata": {},
     "output_type": "display_data"
    },
    {
     "data": {
      "application/vnd.jupyter.widget-view+json": {
       "model_id": "61ae7ac75e8d4175ac57719e10c02875",
       "version_major": 2,
       "version_minor": 0
      },
      "text/plain": [
       "Batches:   0%|          | 0/1 [00:00<?, ?it/s]"
      ]
     },
     "metadata": {},
     "output_type": "display_data"
    },
    {
     "data": {
      "application/vnd.jupyter.widget-view+json": {
       "model_id": "0a4dd087ca9f422599c5d17309bdbdcd",
       "version_major": 2,
       "version_minor": 0
      },
      "text/plain": [
       "Batches:   0%|          | 0/1 [00:00<?, ?it/s]"
      ]
     },
     "metadata": {},
     "output_type": "display_data"
    },
    {
     "data": {
      "application/vnd.jupyter.widget-view+json": {
       "model_id": "b0ec27e68319461e812f64d6adafc3e9",
       "version_major": 2,
       "version_minor": 0
      },
      "text/plain": [
       "Batches:   0%|          | 0/1 [00:00<?, ?it/s]"
      ]
     },
     "metadata": {},
     "output_type": "display_data"
    },
    {
     "data": {
      "application/vnd.jupyter.widget-view+json": {
       "model_id": "42dcf6959610445bb5241804c98ea9ab",
       "version_major": 2,
       "version_minor": 0
      },
      "text/plain": [
       "Batches:   0%|          | 0/1 [00:00<?, ?it/s]"
      ]
     },
     "metadata": {},
     "output_type": "display_data"
    },
    {
     "data": {
      "application/vnd.jupyter.widget-view+json": {
       "model_id": "b11ca1ce38744d8f9d9a1c4ffdc441f5",
       "version_major": 2,
       "version_minor": 0
      },
      "text/plain": [
       "Batches:   0%|          | 0/1 [00:00<?, ?it/s]"
      ]
     },
     "metadata": {},
     "output_type": "display_data"
    },
    {
     "data": {
      "application/vnd.jupyter.widget-view+json": {
       "model_id": "4bc94f337af641b5a2748a1673faaea1",
       "version_major": 2,
       "version_minor": 0
      },
      "text/plain": [
       "Batches:   0%|          | 0/1 [00:00<?, ?it/s]"
      ]
     },
     "metadata": {},
     "output_type": "display_data"
    },
    {
     "data": {
      "application/vnd.jupyter.widget-view+json": {
       "model_id": "0d59f522f2ab48d5830283ef68109054",
       "version_major": 2,
       "version_minor": 0
      },
      "text/plain": [
       "Batches:   0%|          | 0/1 [00:00<?, ?it/s]"
      ]
     },
     "metadata": {},
     "output_type": "display_data"
    },
    {
     "data": {
      "application/vnd.jupyter.widget-view+json": {
       "model_id": "bb13d1b2ccc446abb7db945e483c0d55",
       "version_major": 2,
       "version_minor": 0
      },
      "text/plain": [
       "Batches:   0%|          | 0/1 [00:00<?, ?it/s]"
      ]
     },
     "metadata": {},
     "output_type": "display_data"
    },
    {
     "data": {
      "application/vnd.jupyter.widget-view+json": {
       "model_id": "08b94e7b514b4e1b9f72476b022e91f2",
       "version_major": 2,
       "version_minor": 0
      },
      "text/plain": [
       "Batches:   0%|          | 0/1 [00:00<?, ?it/s]"
      ]
     },
     "metadata": {},
     "output_type": "display_data"
    },
    {
     "data": {
      "application/vnd.jupyter.widget-view+json": {
       "model_id": "34742442fe45496aa6829d65000ada7d",
       "version_major": 2,
       "version_minor": 0
      },
      "text/plain": [
       "Batches:   0%|          | 0/1 [00:00<?, ?it/s]"
      ]
     },
     "metadata": {},
     "output_type": "display_data"
    },
    {
     "data": {
      "application/vnd.jupyter.widget-view+json": {
       "model_id": "a776a11bf777428c9e7b16d802fb7444",
       "version_major": 2,
       "version_minor": 0
      },
      "text/plain": [
       "Batches:   0%|          | 0/1 [00:00<?, ?it/s]"
      ]
     },
     "metadata": {},
     "output_type": "display_data"
    },
    {
     "data": {
      "application/vnd.jupyter.widget-view+json": {
       "model_id": "a4cbd5b8f8554f2c897c21f811cd7fff",
       "version_major": 2,
       "version_minor": 0
      },
      "text/plain": [
       "Batches:   0%|          | 0/1 [00:00<?, ?it/s]"
      ]
     },
     "metadata": {},
     "output_type": "display_data"
    },
    {
     "data": {
      "application/vnd.jupyter.widget-view+json": {
       "model_id": "e5acbef0225146d083a0167b413433e9",
       "version_major": 2,
       "version_minor": 0
      },
      "text/plain": [
       "Batches:   0%|          | 0/1 [00:00<?, ?it/s]"
      ]
     },
     "metadata": {},
     "output_type": "display_data"
    },
    {
     "data": {
      "application/vnd.jupyter.widget-view+json": {
       "model_id": "1d0e852d2a2d449da7e1c382758e4780",
       "version_major": 2,
       "version_minor": 0
      },
      "text/plain": [
       "Batches:   0%|          | 0/1 [00:00<?, ?it/s]"
      ]
     },
     "metadata": {},
     "output_type": "display_data"
    },
    {
     "data": {
      "application/vnd.jupyter.widget-view+json": {
       "model_id": "bf70442d772349358ff067eac0f551fe",
       "version_major": 2,
       "version_minor": 0
      },
      "text/plain": [
       "Batches:   0%|          | 0/1 [00:00<?, ?it/s]"
      ]
     },
     "metadata": {},
     "output_type": "display_data"
    },
    {
     "data": {
      "application/vnd.jupyter.widget-view+json": {
       "model_id": "33f9295b18fd499eb0bd954bf9c76f3c",
       "version_major": 2,
       "version_minor": 0
      },
      "text/plain": [
       "Batches:   0%|          | 0/1 [00:00<?, ?it/s]"
      ]
     },
     "metadata": {},
     "output_type": "display_data"
    },
    {
     "data": {
      "application/vnd.jupyter.widget-view+json": {
       "model_id": "3780edc11a464aabb1afe558454a3cb8",
       "version_major": 2,
       "version_minor": 0
      },
      "text/plain": [
       "Batches:   0%|          | 0/1 [00:00<?, ?it/s]"
      ]
     },
     "metadata": {},
     "output_type": "display_data"
    },
    {
     "data": {
      "application/vnd.jupyter.widget-view+json": {
       "model_id": "44f5e8c0974d4940a3b75a85fc664344",
       "version_major": 2,
       "version_minor": 0
      },
      "text/plain": [
       "Batches:   0%|          | 0/1 [00:00<?, ?it/s]"
      ]
     },
     "metadata": {},
     "output_type": "display_data"
    },
    {
     "data": {
      "application/vnd.jupyter.widget-view+json": {
       "model_id": "6184367759f0479c98b6aca36cc3d990",
       "version_major": 2,
       "version_minor": 0
      },
      "text/plain": [
       "Batches:   0%|          | 0/1 [00:00<?, ?it/s]"
      ]
     },
     "metadata": {},
     "output_type": "display_data"
    },
    {
     "data": {
      "application/vnd.jupyter.widget-view+json": {
       "model_id": "669577f3824248a88168205aed3ec8b7",
       "version_major": 2,
       "version_minor": 0
      },
      "text/plain": [
       "Batches:   0%|          | 0/1 [00:00<?, ?it/s]"
      ]
     },
     "metadata": {},
     "output_type": "display_data"
    },
    {
     "data": {
      "application/vnd.jupyter.widget-view+json": {
       "model_id": "bb4bcd6253e94de9953558edac4dc95c",
       "version_major": 2,
       "version_minor": 0
      },
      "text/plain": [
       "Batches:   0%|          | 0/1 [00:00<?, ?it/s]"
      ]
     },
     "metadata": {},
     "output_type": "display_data"
    },
    {
     "data": {
      "application/vnd.jupyter.widget-view+json": {
       "model_id": "dcdea46095a94e8eb4ed9a14f7daeca8",
       "version_major": 2,
       "version_minor": 0
      },
      "text/plain": [
       "Batches:   0%|          | 0/1 [00:00<?, ?it/s]"
      ]
     },
     "metadata": {},
     "output_type": "display_data"
    },
    {
     "data": {
      "application/vnd.jupyter.widget-view+json": {
       "model_id": "62ed1bf5af3d4a73ae8d19ff2c4356ef",
       "version_major": 2,
       "version_minor": 0
      },
      "text/plain": [
       "Batches:   0%|          | 0/1 [00:00<?, ?it/s]"
      ]
     },
     "metadata": {},
     "output_type": "display_data"
    },
    {
     "data": {
      "application/vnd.jupyter.widget-view+json": {
       "model_id": "82127737ce5c4756962af51e74c3b585",
       "version_major": 2,
       "version_minor": 0
      },
      "text/plain": [
       "Batches:   0%|          | 0/1 [00:00<?, ?it/s]"
      ]
     },
     "metadata": {},
     "output_type": "display_data"
    },
    {
     "data": {
      "application/vnd.jupyter.widget-view+json": {
       "model_id": "4fcf3a207eb54187879d6ab5b2dde21c",
       "version_major": 2,
       "version_minor": 0
      },
      "text/plain": [
       "Batches:   0%|          | 0/1 [00:00<?, ?it/s]"
      ]
     },
     "metadata": {},
     "output_type": "display_data"
    },
    {
     "data": {
      "application/vnd.jupyter.widget-view+json": {
       "model_id": "8ef052d820574e00826b9832189eec84",
       "version_major": 2,
       "version_minor": 0
      },
      "text/plain": [
       "Batches:   0%|          | 0/1 [00:00<?, ?it/s]"
      ]
     },
     "metadata": {},
     "output_type": "display_data"
    },
    {
     "data": {
      "application/vnd.jupyter.widget-view+json": {
       "model_id": "2693e23fd5754371871b9ff1feb1fab9",
       "version_major": 2,
       "version_minor": 0
      },
      "text/plain": [
       "Batches:   0%|          | 0/1 [00:00<?, ?it/s]"
      ]
     },
     "metadata": {},
     "output_type": "display_data"
    },
    {
     "data": {
      "application/vnd.jupyter.widget-view+json": {
       "model_id": "c55ea964b8314cea8260dc843c321cca",
       "version_major": 2,
       "version_minor": 0
      },
      "text/plain": [
       "Batches:   0%|          | 0/1 [00:00<?, ?it/s]"
      ]
     },
     "metadata": {},
     "output_type": "display_data"
    },
    {
     "data": {
      "application/vnd.jupyter.widget-view+json": {
       "model_id": "1a0185c5b3cb49b48dc6644c024dad41",
       "version_major": 2,
       "version_minor": 0
      },
      "text/plain": [
       "Batches:   0%|          | 0/1 [00:00<?, ?it/s]"
      ]
     },
     "metadata": {},
     "output_type": "display_data"
    },
    {
     "data": {
      "application/vnd.jupyter.widget-view+json": {
       "model_id": "edaf3403e0ef425f824253aac417654f",
       "version_major": 2,
       "version_minor": 0
      },
      "text/plain": [
       "Batches:   0%|          | 0/1 [00:00<?, ?it/s]"
      ]
     },
     "metadata": {},
     "output_type": "display_data"
    },
    {
     "data": {
      "application/vnd.jupyter.widget-view+json": {
       "model_id": "75a893638e574f48acc59a79d8ea1eb0",
       "version_major": 2,
       "version_minor": 0
      },
      "text/plain": [
       "Batches:   0%|          | 0/1 [00:00<?, ?it/s]"
      ]
     },
     "metadata": {},
     "output_type": "display_data"
    },
    {
     "data": {
      "application/vnd.jupyter.widget-view+json": {
       "model_id": "76aeef868a2b4e2f8f282118af974746",
       "version_major": 2,
       "version_minor": 0
      },
      "text/plain": [
       "Batches:   0%|          | 0/1 [00:00<?, ?it/s]"
      ]
     },
     "metadata": {},
     "output_type": "display_data"
    },
    {
     "name": "stdout",
     "output_type": "stream",
     "text": [
      "50 of 133\r"
     ]
    },
    {
     "data": {
      "application/vnd.jupyter.widget-view+json": {
       "model_id": "c119e4394b974128958f913cfd4404a3",
       "version_major": 2,
       "version_minor": 0
      },
      "text/plain": [
       "Batches:   0%|          | 0/1 [00:00<?, ?it/s]"
      ]
     },
     "metadata": {},
     "output_type": "display_data"
    },
    {
     "data": {
      "application/vnd.jupyter.widget-view+json": {
       "model_id": "8e4e4d8675ec4d12a0ebbe827a43bc76",
       "version_major": 2,
       "version_minor": 0
      },
      "text/plain": [
       "Batches:   0%|          | 0/1 [00:00<?, ?it/s]"
      ]
     },
     "metadata": {},
     "output_type": "display_data"
    },
    {
     "data": {
      "application/vnd.jupyter.widget-view+json": {
       "model_id": "4e608c055e54424fbf534e9519fa0cf8",
       "version_major": 2,
       "version_minor": 0
      },
      "text/plain": [
       "Batches:   0%|          | 0/1 [00:00<?, ?it/s]"
      ]
     },
     "metadata": {},
     "output_type": "display_data"
    },
    {
     "data": {
      "application/vnd.jupyter.widget-view+json": {
       "model_id": "12f6554aa6a9484c969fdaf0cdafa1b8",
       "version_major": 2,
       "version_minor": 0
      },
      "text/plain": [
       "Batches:   0%|          | 0/1 [00:00<?, ?it/s]"
      ]
     },
     "metadata": {},
     "output_type": "display_data"
    },
    {
     "data": {
      "application/vnd.jupyter.widget-view+json": {
       "model_id": "97db41cda75548399947a5771ffe1af9",
       "version_major": 2,
       "version_minor": 0
      },
      "text/plain": [
       "Batches:   0%|          | 0/1 [00:00<?, ?it/s]"
      ]
     },
     "metadata": {},
     "output_type": "display_data"
    },
    {
     "data": {
      "application/vnd.jupyter.widget-view+json": {
       "model_id": "180fd73a537b4ee3a9225f92c9580c17",
       "version_major": 2,
       "version_minor": 0
      },
      "text/plain": [
       "Batches:   0%|          | 0/1 [00:00<?, ?it/s]"
      ]
     },
     "metadata": {},
     "output_type": "display_data"
    },
    {
     "data": {
      "application/vnd.jupyter.widget-view+json": {
       "model_id": "36568b3aecfb4aacbc752c8d86499486",
       "version_major": 2,
       "version_minor": 0
      },
      "text/plain": [
       "Batches:   0%|          | 0/1 [00:00<?, ?it/s]"
      ]
     },
     "metadata": {},
     "output_type": "display_data"
    },
    {
     "data": {
      "application/vnd.jupyter.widget-view+json": {
       "model_id": "da3b89355fac47a68801d4571f5d59fa",
       "version_major": 2,
       "version_minor": 0
      },
      "text/plain": [
       "Batches:   0%|          | 0/1 [00:00<?, ?it/s]"
      ]
     },
     "metadata": {},
     "output_type": "display_data"
    },
    {
     "data": {
      "application/vnd.jupyter.widget-view+json": {
       "model_id": "2177ddc971414e16be1ed030142f2358",
       "version_major": 2,
       "version_minor": 0
      },
      "text/plain": [
       "Batches:   0%|          | 0/1 [00:00<?, ?it/s]"
      ]
     },
     "metadata": {},
     "output_type": "display_data"
    },
    {
     "data": {
      "application/vnd.jupyter.widget-view+json": {
       "model_id": "b6456e0d29864834821e4913d3c81852",
       "version_major": 2,
       "version_minor": 0
      },
      "text/plain": [
       "Batches:   0%|          | 0/1 [00:00<?, ?it/s]"
      ]
     },
     "metadata": {},
     "output_type": "display_data"
    },
    {
     "data": {
      "application/vnd.jupyter.widget-view+json": {
       "model_id": "47a4dfc672694c84a72971c1bd536315",
       "version_major": 2,
       "version_minor": 0
      },
      "text/plain": [
       "Batches:   0%|          | 0/1 [00:00<?, ?it/s]"
      ]
     },
     "metadata": {},
     "output_type": "display_data"
    },
    {
     "data": {
      "application/vnd.jupyter.widget-view+json": {
       "model_id": "e3bb49aa50ed4cd393a0a62a1dd455e2",
       "version_major": 2,
       "version_minor": 0
      },
      "text/plain": [
       "Batches:   0%|          | 0/1 [00:00<?, ?it/s]"
      ]
     },
     "metadata": {},
     "output_type": "display_data"
    },
    {
     "data": {
      "application/vnd.jupyter.widget-view+json": {
       "model_id": "66efd6b677444d69a50b7247b29d09cf",
       "version_major": 2,
       "version_minor": 0
      },
      "text/plain": [
       "Batches:   0%|          | 0/1 [00:00<?, ?it/s]"
      ]
     },
     "metadata": {},
     "output_type": "display_data"
    },
    {
     "data": {
      "application/vnd.jupyter.widget-view+json": {
       "model_id": "1612794cd7144e0ca3f7a6718518a2af",
       "version_major": 2,
       "version_minor": 0
      },
      "text/plain": [
       "Batches:   0%|          | 0/1 [00:00<?, ?it/s]"
      ]
     },
     "metadata": {},
     "output_type": "display_data"
    },
    {
     "data": {
      "application/vnd.jupyter.widget-view+json": {
       "model_id": "f44898497fda431ba64f2b9100b1dd75",
       "version_major": 2,
       "version_minor": 0
      },
      "text/plain": [
       "Batches:   0%|          | 0/1 [00:00<?, ?it/s]"
      ]
     },
     "metadata": {},
     "output_type": "display_data"
    },
    {
     "data": {
      "application/vnd.jupyter.widget-view+json": {
       "model_id": "4b10e93b1d3642e1a1756a421441aa42",
       "version_major": 2,
       "version_minor": 0
      },
      "text/plain": [
       "Batches:   0%|          | 0/1 [00:00<?, ?it/s]"
      ]
     },
     "metadata": {},
     "output_type": "display_data"
    },
    {
     "data": {
      "application/vnd.jupyter.widget-view+json": {
       "model_id": "de316e1519ed4388950e8754030511e0",
       "version_major": 2,
       "version_minor": 0
      },
      "text/plain": [
       "Batches:   0%|          | 0/1 [00:00<?, ?it/s]"
      ]
     },
     "metadata": {},
     "output_type": "display_data"
    },
    {
     "data": {
      "application/vnd.jupyter.widget-view+json": {
       "model_id": "c95d90b6ddf24750805895ba40042788",
       "version_major": 2,
       "version_minor": 0
      },
      "text/plain": [
       "Batches:   0%|          | 0/1 [00:00<?, ?it/s]"
      ]
     },
     "metadata": {},
     "output_type": "display_data"
    },
    {
     "data": {
      "application/vnd.jupyter.widget-view+json": {
       "model_id": "9ebc5cd2b84a40c3bc8617e5ebd5bc75",
       "version_major": 2,
       "version_minor": 0
      },
      "text/plain": [
       "Batches:   0%|          | 0/1 [00:00<?, ?it/s]"
      ]
     },
     "metadata": {},
     "output_type": "display_data"
    },
    {
     "data": {
      "application/vnd.jupyter.widget-view+json": {
       "model_id": "57992d8a62cb4bcfa5527ecef57b4c27",
       "version_major": 2,
       "version_minor": 0
      },
      "text/plain": [
       "Batches:   0%|          | 0/1 [00:00<?, ?it/s]"
      ]
     },
     "metadata": {},
     "output_type": "display_data"
    },
    {
     "data": {
      "application/vnd.jupyter.widget-view+json": {
       "model_id": "50cee5fe730344ac82750bafb6695319",
       "version_major": 2,
       "version_minor": 0
      },
      "text/plain": [
       "Batches:   0%|          | 0/1 [00:00<?, ?it/s]"
      ]
     },
     "metadata": {},
     "output_type": "display_data"
    },
    {
     "data": {
      "application/vnd.jupyter.widget-view+json": {
       "model_id": "12a95cac0c734d04acced27087d076de",
       "version_major": 2,
       "version_minor": 0
      },
      "text/plain": [
       "Batches:   0%|          | 0/1 [00:00<?, ?it/s]"
      ]
     },
     "metadata": {},
     "output_type": "display_data"
    },
    {
     "data": {
      "application/vnd.jupyter.widget-view+json": {
       "model_id": "5604cf54de0047718a94ae4d52d68c85",
       "version_major": 2,
       "version_minor": 0
      },
      "text/plain": [
       "Batches:   0%|          | 0/1 [00:00<?, ?it/s]"
      ]
     },
     "metadata": {},
     "output_type": "display_data"
    },
    {
     "data": {
      "application/vnd.jupyter.widget-view+json": {
       "model_id": "33f567e1beec47c7a7a5e9fa8585627e",
       "version_major": 2,
       "version_minor": 0
      },
      "text/plain": [
       "Batches:   0%|          | 0/1 [00:00<?, ?it/s]"
      ]
     },
     "metadata": {},
     "output_type": "display_data"
    },
    {
     "data": {
      "application/vnd.jupyter.widget-view+json": {
       "model_id": "b0055e395b854f84bbcf7551fa2bda22",
       "version_major": 2,
       "version_minor": 0
      },
      "text/plain": [
       "Batches:   0%|          | 0/1 [00:00<?, ?it/s]"
      ]
     },
     "metadata": {},
     "output_type": "display_data"
    },
    {
     "data": {
      "application/vnd.jupyter.widget-view+json": {
       "model_id": "6e4dea290f61427ab5a30748a3a521fe",
       "version_major": 2,
       "version_minor": 0
      },
      "text/plain": [
       "Batches:   0%|          | 0/1 [00:00<?, ?it/s]"
      ]
     },
     "metadata": {},
     "output_type": "display_data"
    },
    {
     "data": {
      "application/vnd.jupyter.widget-view+json": {
       "model_id": "b8ea6f9f801146b09dadf5196ec34f70",
       "version_major": 2,
       "version_minor": 0
      },
      "text/plain": [
       "Batches:   0%|          | 0/1 [00:00<?, ?it/s]"
      ]
     },
     "metadata": {},
     "output_type": "display_data"
    },
    {
     "data": {
      "application/vnd.jupyter.widget-view+json": {
       "model_id": "74f2758bc65f44dfa7caa95526dcb63d",
       "version_major": 2,
       "version_minor": 0
      },
      "text/plain": [
       "Batches:   0%|          | 0/1 [00:00<?, ?it/s]"
      ]
     },
     "metadata": {},
     "output_type": "display_data"
    },
    {
     "data": {
      "application/vnd.jupyter.widget-view+json": {
       "model_id": "726728074f3c4950b427c1100bc219ba",
       "version_major": 2,
       "version_minor": 0
      },
      "text/plain": [
       "Batches:   0%|          | 0/1 [00:00<?, ?it/s]"
      ]
     },
     "metadata": {},
     "output_type": "display_data"
    },
    {
     "data": {
      "application/vnd.jupyter.widget-view+json": {
       "model_id": "aae6182b639c4902a44e22a418567dba",
       "version_major": 2,
       "version_minor": 0
      },
      "text/plain": [
       "Batches:   0%|          | 0/1 [00:00<?, ?it/s]"
      ]
     },
     "metadata": {},
     "output_type": "display_data"
    },
    {
     "data": {
      "application/vnd.jupyter.widget-view+json": {
       "model_id": "7930da62301e4722829edceb20b2d908",
       "version_major": 2,
       "version_minor": 0
      },
      "text/plain": [
       "Batches:   0%|          | 0/1 [00:00<?, ?it/s]"
      ]
     },
     "metadata": {},
     "output_type": "display_data"
    },
    {
     "data": {
      "application/vnd.jupyter.widget-view+json": {
       "model_id": "2de168311f23477b8a749a1675a9f36f",
       "version_major": 2,
       "version_minor": 0
      },
      "text/plain": [
       "Batches:   0%|          | 0/1 [00:00<?, ?it/s]"
      ]
     },
     "metadata": {},
     "output_type": "display_data"
    },
    {
     "data": {
      "application/vnd.jupyter.widget-view+json": {
       "model_id": "5504b4a016d04db4ab9c455b49467989",
       "version_major": 2,
       "version_minor": 0
      },
      "text/plain": [
       "Batches:   0%|          | 0/1 [00:00<?, ?it/s]"
      ]
     },
     "metadata": {},
     "output_type": "display_data"
    },
    {
     "data": {
      "application/vnd.jupyter.widget-view+json": {
       "model_id": "793274e945864f46830e6efdef9ce020",
       "version_major": 2,
       "version_minor": 0
      },
      "text/plain": [
       "Batches:   0%|          | 0/1 [00:00<?, ?it/s]"
      ]
     },
     "metadata": {},
     "output_type": "display_data"
    },
    {
     "data": {
      "application/vnd.jupyter.widget-view+json": {
       "model_id": "2685498954364250898cbd908ba3f6a7",
       "version_major": 2,
       "version_minor": 0
      },
      "text/plain": [
       "Batches:   0%|          | 0/1 [00:00<?, ?it/s]"
      ]
     },
     "metadata": {},
     "output_type": "display_data"
    },
    {
     "data": {
      "application/vnd.jupyter.widget-view+json": {
       "model_id": "978da70c02a846b6a292a0f71759144c",
       "version_major": 2,
       "version_minor": 0
      },
      "text/plain": [
       "Batches:   0%|          | 0/1 [00:00<?, ?it/s]"
      ]
     },
     "metadata": {},
     "output_type": "display_data"
    },
    {
     "data": {
      "application/vnd.jupyter.widget-view+json": {
       "model_id": "ecac1468167a41cda0014da521ad9485",
       "version_major": 2,
       "version_minor": 0
      },
      "text/plain": [
       "Batches:   0%|          | 0/1 [00:00<?, ?it/s]"
      ]
     },
     "metadata": {},
     "output_type": "display_data"
    },
    {
     "data": {
      "application/vnd.jupyter.widget-view+json": {
       "model_id": "993db72d12e44c65ac6ce18852796a88",
       "version_major": 2,
       "version_minor": 0
      },
      "text/plain": [
       "Batches:   0%|          | 0/1 [00:00<?, ?it/s]"
      ]
     },
     "metadata": {},
     "output_type": "display_data"
    },
    {
     "data": {
      "application/vnd.jupyter.widget-view+json": {
       "model_id": "b151016069624de8b7cbec8eb1b47a5c",
       "version_major": 2,
       "version_minor": 0
      },
      "text/plain": [
       "Batches:   0%|          | 0/1 [00:00<?, ?it/s]"
      ]
     },
     "metadata": {},
     "output_type": "display_data"
    },
    {
     "data": {
      "application/vnd.jupyter.widget-view+json": {
       "model_id": "8e41a7b0557d4a3bb8cb506415e2c826",
       "version_major": 2,
       "version_minor": 0
      },
      "text/plain": [
       "Batches:   0%|          | 0/1 [00:00<?, ?it/s]"
      ]
     },
     "metadata": {},
     "output_type": "display_data"
    },
    {
     "data": {
      "application/vnd.jupyter.widget-view+json": {
       "model_id": "fd4772a9f1c84176a0accfdaf9aa392a",
       "version_major": 2,
       "version_minor": 0
      },
      "text/plain": [
       "Batches:   0%|          | 0/1 [00:00<?, ?it/s]"
      ]
     },
     "metadata": {},
     "output_type": "display_data"
    },
    {
     "data": {
      "application/vnd.jupyter.widget-view+json": {
       "model_id": "1f53a174cf054c4c869d367448d239f4",
       "version_major": 2,
       "version_minor": 0
      },
      "text/plain": [
       "Batches:   0%|          | 0/1 [00:00<?, ?it/s]"
      ]
     },
     "metadata": {},
     "output_type": "display_data"
    },
    {
     "data": {
      "application/vnd.jupyter.widget-view+json": {
       "model_id": "6ccd2d43bb6a4a53a67f08a79044953f",
       "version_major": 2,
       "version_minor": 0
      },
      "text/plain": [
       "Batches:   0%|          | 0/1 [00:00<?, ?it/s]"
      ]
     },
     "metadata": {},
     "output_type": "display_data"
    },
    {
     "data": {
      "application/vnd.jupyter.widget-view+json": {
       "model_id": "2d6231d21f8743fc861a6145e1b89884",
       "version_major": 2,
       "version_minor": 0
      },
      "text/plain": [
       "Batches:   0%|          | 0/1 [00:00<?, ?it/s]"
      ]
     },
     "metadata": {},
     "output_type": "display_data"
    },
    {
     "data": {
      "application/vnd.jupyter.widget-view+json": {
       "model_id": "79a6d2dc258d4665a94a0446cde890d9",
       "version_major": 2,
       "version_minor": 0
      },
      "text/plain": [
       "Batches:   0%|          | 0/1 [00:00<?, ?it/s]"
      ]
     },
     "metadata": {},
     "output_type": "display_data"
    },
    {
     "data": {
      "application/vnd.jupyter.widget-view+json": {
       "model_id": "26f799925ca249e6ad1d83ffda8bd270",
       "version_major": 2,
       "version_minor": 0
      },
      "text/plain": [
       "Batches:   0%|          | 0/1 [00:00<?, ?it/s]"
      ]
     },
     "metadata": {},
     "output_type": "display_data"
    },
    {
     "data": {
      "application/vnd.jupyter.widget-view+json": {
       "model_id": "41f857ee3db64fd197b859d31cece703",
       "version_major": 2,
       "version_minor": 0
      },
      "text/plain": [
       "Batches:   0%|          | 0/1 [00:00<?, ?it/s]"
      ]
     },
     "metadata": {},
     "output_type": "display_data"
    },
    {
     "data": {
      "application/vnd.jupyter.widget-view+json": {
       "model_id": "132e4f72ba7a4c3181dcccf9643631f1",
       "version_major": 2,
       "version_minor": 0
      },
      "text/plain": [
       "Batches:   0%|          | 0/1 [00:00<?, ?it/s]"
      ]
     },
     "metadata": {},
     "output_type": "display_data"
    },
    {
     "data": {
      "application/vnd.jupyter.widget-view+json": {
       "model_id": "4fb25833b0de45579554c4082cf0eda9",
       "version_major": 2,
       "version_minor": 0
      },
      "text/plain": [
       "Batches:   0%|          | 0/1 [00:00<?, ?it/s]"
      ]
     },
     "metadata": {},
     "output_type": "display_data"
    },
    {
     "data": {
      "application/vnd.jupyter.widget-view+json": {
       "model_id": "81fdd7147984473c9e90cc23d640279d",
       "version_major": 2,
       "version_minor": 0
      },
      "text/plain": [
       "Batches:   0%|          | 0/1 [00:00<?, ?it/s]"
      ]
     },
     "metadata": {},
     "output_type": "display_data"
    },
    {
     "name": "stdout",
     "output_type": "stream",
     "text": [
      "100 of 133\r"
     ]
    },
    {
     "data": {
      "application/vnd.jupyter.widget-view+json": {
       "model_id": "ad7475b416864a79bb135e722b897161",
       "version_major": 2,
       "version_minor": 0
      },
      "text/plain": [
       "Batches:   0%|          | 0/1 [00:00<?, ?it/s]"
      ]
     },
     "metadata": {},
     "output_type": "display_data"
    },
    {
     "data": {
      "application/vnd.jupyter.widget-view+json": {
       "model_id": "07772118cef34978a154c3ba91aaeecb",
       "version_major": 2,
       "version_minor": 0
      },
      "text/plain": [
       "Batches:   0%|          | 0/1 [00:00<?, ?it/s]"
      ]
     },
     "metadata": {},
     "output_type": "display_data"
    },
    {
     "data": {
      "application/vnd.jupyter.widget-view+json": {
       "model_id": "2e0e3de821f04b279a55a9429f0465df",
       "version_major": 2,
       "version_minor": 0
      },
      "text/plain": [
       "Batches:   0%|          | 0/1 [00:00<?, ?it/s]"
      ]
     },
     "metadata": {},
     "output_type": "display_data"
    },
    {
     "data": {
      "application/vnd.jupyter.widget-view+json": {
       "model_id": "d467684abefb493e8e2fba0e838e24ce",
       "version_major": 2,
       "version_minor": 0
      },
      "text/plain": [
       "Batches:   0%|          | 0/1 [00:00<?, ?it/s]"
      ]
     },
     "metadata": {},
     "output_type": "display_data"
    },
    {
     "data": {
      "application/vnd.jupyter.widget-view+json": {
       "model_id": "b6d072be12184bcebdab22717e792df6",
       "version_major": 2,
       "version_minor": 0
      },
      "text/plain": [
       "Batches:   0%|          | 0/1 [00:00<?, ?it/s]"
      ]
     },
     "metadata": {},
     "output_type": "display_data"
    },
    {
     "data": {
      "application/vnd.jupyter.widget-view+json": {
       "model_id": "1c090fd1e0c8494f85811438a69ecc35",
       "version_major": 2,
       "version_minor": 0
      },
      "text/plain": [
       "Batches:   0%|          | 0/1 [00:00<?, ?it/s]"
      ]
     },
     "metadata": {},
     "output_type": "display_data"
    },
    {
     "data": {
      "application/vnd.jupyter.widget-view+json": {
       "model_id": "9478287f9d2845d999d7250a5183f436",
       "version_major": 2,
       "version_minor": 0
      },
      "text/plain": [
       "Batches:   0%|          | 0/1 [00:00<?, ?it/s]"
      ]
     },
     "metadata": {},
     "output_type": "display_data"
    },
    {
     "data": {
      "application/vnd.jupyter.widget-view+json": {
       "model_id": "6662fc14b4e64ac0934201bc382e2d68",
       "version_major": 2,
       "version_minor": 0
      },
      "text/plain": [
       "Batches:   0%|          | 0/1 [00:00<?, ?it/s]"
      ]
     },
     "metadata": {},
     "output_type": "display_data"
    },
    {
     "data": {
      "application/vnd.jupyter.widget-view+json": {
       "model_id": "643857f9cf694a25a07672e467802adf",
       "version_major": 2,
       "version_minor": 0
      },
      "text/plain": [
       "Batches:   0%|          | 0/1 [00:00<?, ?it/s]"
      ]
     },
     "metadata": {},
     "output_type": "display_data"
    },
    {
     "data": {
      "application/vnd.jupyter.widget-view+json": {
       "model_id": "2a9b1ce8dde549e28a8582838ba8d804",
       "version_major": 2,
       "version_minor": 0
      },
      "text/plain": [
       "Batches:   0%|          | 0/1 [00:00<?, ?it/s]"
      ]
     },
     "metadata": {},
     "output_type": "display_data"
    },
    {
     "data": {
      "application/vnd.jupyter.widget-view+json": {
       "model_id": "b200286ab38d4411a86ff0474a3b4155",
       "version_major": 2,
       "version_minor": 0
      },
      "text/plain": [
       "Batches:   0%|          | 0/1 [00:00<?, ?it/s]"
      ]
     },
     "metadata": {},
     "output_type": "display_data"
    },
    {
     "data": {
      "application/vnd.jupyter.widget-view+json": {
       "model_id": "8cb8a8feb4014cc4a3629f9b1ee05f60",
       "version_major": 2,
       "version_minor": 0
      },
      "text/plain": [
       "Batches:   0%|          | 0/1 [00:00<?, ?it/s]"
      ]
     },
     "metadata": {},
     "output_type": "display_data"
    },
    {
     "data": {
      "application/vnd.jupyter.widget-view+json": {
       "model_id": "121fcbdc2b6d47c2962d5d69de0c066d",
       "version_major": 2,
       "version_minor": 0
      },
      "text/plain": [
       "Batches:   0%|          | 0/1 [00:00<?, ?it/s]"
      ]
     },
     "metadata": {},
     "output_type": "display_data"
    },
    {
     "data": {
      "application/vnd.jupyter.widget-view+json": {
       "model_id": "3c953d96002a47dc9c6714d0bb57684f",
       "version_major": 2,
       "version_minor": 0
      },
      "text/plain": [
       "Batches:   0%|          | 0/1 [00:00<?, ?it/s]"
      ]
     },
     "metadata": {},
     "output_type": "display_data"
    },
    {
     "data": {
      "application/vnd.jupyter.widget-view+json": {
       "model_id": "e626b354f3494a94a9c6d96191995b1a",
       "version_major": 2,
       "version_minor": 0
      },
      "text/plain": [
       "Batches:   0%|          | 0/1 [00:00<?, ?it/s]"
      ]
     },
     "metadata": {},
     "output_type": "display_data"
    },
    {
     "data": {
      "application/vnd.jupyter.widget-view+json": {
       "model_id": "2f9a6bdcfe3f4e99854055b892645d77",
       "version_major": 2,
       "version_minor": 0
      },
      "text/plain": [
       "Batches:   0%|          | 0/1 [00:00<?, ?it/s]"
      ]
     },
     "metadata": {},
     "output_type": "display_data"
    },
    {
     "data": {
      "application/vnd.jupyter.widget-view+json": {
       "model_id": "d31ff79f20294382bd3c78707ba46c8c",
       "version_major": 2,
       "version_minor": 0
      },
      "text/plain": [
       "Batches:   0%|          | 0/1 [00:00<?, ?it/s]"
      ]
     },
     "metadata": {},
     "output_type": "display_data"
    },
    {
     "data": {
      "application/vnd.jupyter.widget-view+json": {
       "model_id": "3df18f51428f479795ff2ca22165763c",
       "version_major": 2,
       "version_minor": 0
      },
      "text/plain": [
       "Batches:   0%|          | 0/1 [00:00<?, ?it/s]"
      ]
     },
     "metadata": {},
     "output_type": "display_data"
    },
    {
     "data": {
      "application/vnd.jupyter.widget-view+json": {
       "model_id": "5a6434a9857444a5b6e56cad5d85ecdc",
       "version_major": 2,
       "version_minor": 0
      },
      "text/plain": [
       "Batches:   0%|          | 0/1 [00:00<?, ?it/s]"
      ]
     },
     "metadata": {},
     "output_type": "display_data"
    },
    {
     "data": {
      "application/vnd.jupyter.widget-view+json": {
       "model_id": "4d6ba99ffa1745c6ba26cc9c75bf1797",
       "version_major": 2,
       "version_minor": 0
      },
      "text/plain": [
       "Batches:   0%|          | 0/1 [00:00<?, ?it/s]"
      ]
     },
     "metadata": {},
     "output_type": "display_data"
    },
    {
     "data": {
      "application/vnd.jupyter.widget-view+json": {
       "model_id": "50e63029e8194bc9be86100d9a1c8fd2",
       "version_major": 2,
       "version_minor": 0
      },
      "text/plain": [
       "Batches:   0%|          | 0/1 [00:00<?, ?it/s]"
      ]
     },
     "metadata": {},
     "output_type": "display_data"
    },
    {
     "data": {
      "application/vnd.jupyter.widget-view+json": {
       "model_id": "a3129defaf9e45b6a99c7d206ef3a426",
       "version_major": 2,
       "version_minor": 0
      },
      "text/plain": [
       "Batches:   0%|          | 0/1 [00:00<?, ?it/s]"
      ]
     },
     "metadata": {},
     "output_type": "display_data"
    },
    {
     "data": {
      "application/vnd.jupyter.widget-view+json": {
       "model_id": "8eb25b67de174cd2a882f36ad21e7569",
       "version_major": 2,
       "version_minor": 0
      },
      "text/plain": [
       "Batches:   0%|          | 0/1 [00:00<?, ?it/s]"
      ]
     },
     "metadata": {},
     "output_type": "display_data"
    },
    {
     "data": {
      "application/vnd.jupyter.widget-view+json": {
       "model_id": "31703aa98e1f46af9b85177621e0ad82",
       "version_major": 2,
       "version_minor": 0
      },
      "text/plain": [
       "Batches:   0%|          | 0/1 [00:00<?, ?it/s]"
      ]
     },
     "metadata": {},
     "output_type": "display_data"
    },
    {
     "data": {
      "application/vnd.jupyter.widget-view+json": {
       "model_id": "7aa950523a2d4821b0318df8abf02738",
       "version_major": 2,
       "version_minor": 0
      },
      "text/plain": [
       "Batches:   0%|          | 0/1 [00:00<?, ?it/s]"
      ]
     },
     "metadata": {},
     "output_type": "display_data"
    },
    {
     "data": {
      "application/vnd.jupyter.widget-view+json": {
       "model_id": "1284f2c726214e0b8b86239cc9ea63e2",
       "version_major": 2,
       "version_minor": 0
      },
      "text/plain": [
       "Batches:   0%|          | 0/1 [00:00<?, ?it/s]"
      ]
     },
     "metadata": {},
     "output_type": "display_data"
    },
    {
     "data": {
      "application/vnd.jupyter.widget-view+json": {
       "model_id": "40417b98b3d349ad8a319e06af959f16",
       "version_major": 2,
       "version_minor": 0
      },
      "text/plain": [
       "Batches:   0%|          | 0/1 [00:00<?, ?it/s]"
      ]
     },
     "metadata": {},
     "output_type": "display_data"
    },
    {
     "data": {
      "application/vnd.jupyter.widget-view+json": {
       "model_id": "66bd9921d8104700b3a02b75093506e4",
       "version_major": 2,
       "version_minor": 0
      },
      "text/plain": [
       "Batches:   0%|          | 0/1 [00:00<?, ?it/s]"
      ]
     },
     "metadata": {},
     "output_type": "display_data"
    },
    {
     "data": {
      "application/vnd.jupyter.widget-view+json": {
       "model_id": "8fce10562ed144138f11f85f1c762292",
       "version_major": 2,
       "version_minor": 0
      },
      "text/plain": [
       "Batches:   0%|          | 0/1 [00:00<?, ?it/s]"
      ]
     },
     "metadata": {},
     "output_type": "display_data"
    },
    {
     "data": {
      "application/vnd.jupyter.widget-view+json": {
       "model_id": "57b347329a274d8897ec038101aa1ab0",
       "version_major": 2,
       "version_minor": 0
      },
      "text/plain": [
       "Batches:   0%|          | 0/1 [00:00<?, ?it/s]"
      ]
     },
     "metadata": {},
     "output_type": "display_data"
    },
    {
     "data": {
      "application/vnd.jupyter.widget-view+json": {
       "model_id": "280465d6e2e74ec89c033169434f2423",
       "version_major": 2,
       "version_minor": 0
      },
      "text/plain": [
       "Batches:   0%|          | 0/1 [00:00<?, ?it/s]"
      ]
     },
     "metadata": {},
     "output_type": "display_data"
    },
    {
     "data": {
      "application/vnd.jupyter.widget-view+json": {
       "model_id": "377d5cd42ae44c32982341bbb3808c28",
       "version_major": 2,
       "version_minor": 0
      },
      "text/plain": [
       "Batches:   0%|          | 0/1 [00:00<?, ?it/s]"
      ]
     },
     "metadata": {},
     "output_type": "display_data"
    },
    {
     "data": {
      "application/vnd.jupyter.widget-view+json": {
       "model_id": "266b133a481a4de593710272cb935a54",
       "version_major": 2,
       "version_minor": 0
      },
      "text/plain": [
       "Batches:   0%|          | 0/1 [00:00<?, ?it/s]"
      ]
     },
     "metadata": {},
     "output_type": "display_data"
    },
    {
     "data": {
      "application/vnd.jupyter.widget-view+json": {
       "model_id": "fb07427e9f1b4c6aaf07f5266de50de4",
       "version_major": 2,
       "version_minor": 0
      },
      "text/plain": [
       "Batches:   0%|          | 0/1 [00:00<?, ?it/s]"
      ]
     },
     "metadata": {},
     "output_type": "display_data"
    },
    {
     "name": "stdout",
     "output_type": "stream",
     "text": [
      "Final number of requirements: 62\n",
      "Output saved in Markdown format in directory: checkpoints/requirements_downselect\n"
     ]
    }
   ],
   "source": [
    "import requirement_downselect\n",
    "importlib.reload(requirement_downselect)\n",
    "requirement_downselect.full_pass(\n",
    "    md_files=['',''] #enter list of markdown files to collate from\n",
    "    )"
   ]
  },
  {
   "cell_type": "code",
   "execution_count": null,
   "id": "312c3c0e",
   "metadata": {},
   "outputs": [],
   "source": [
    "import requirement_downselect\n",
    "importlib.reload(requirement_downselect)\n",
    "requirement_downselect.full_pass(\n",
    "    md_files=get_md_files_from_directory(\"checkpoints/requirements_extraction/\")\n",
    ")"
   ]
  },
  {
   "cell_type": "markdown",
   "id": "669a69ed",
   "metadata": {},
   "source": [
    "## Stage 3: Test Plan Generation\n",
    "- Transforms requirements into detailed test specifications\n",
    "- Analyzes IG capability statements for context\n",
    "- Generates implementation strategies with specific FHIR operations\n",
    "- Creates structured test plans with validation criteria\n",
    "\n",
    "Inputs: Refined requirements and IG capability statements in markdown format\n",
    "\n",
    "Outputs: Detailed test plan in markdown format"
   ]
  },
  {
   "cell_type": "code",
   "execution_count": 21,
   "id": "4ee31b17",
   "metadata": {},
   "outputs": [],
   "source": [
    "import logging\n",
    "llm_clients.logger.setLevel(logging.INFO)"
   ]
  },
  {
   "cell_type": "markdown",
   "id": "8cbd731d",
   "metadata": {},
   "source": [
    "##### Without RAG- Faster"
   ]
  },
  {
   "cell_type": "code",
   "execution_count": 25,
   "id": "8be0d386",
   "metadata": {},
   "outputs": [
    {
     "name": "stderr",
     "output_type": "stream",
     "text": [
      "INFO:root:Prompt environment set up at: /Users/ceadams/Documents/onclaive/onclaive/prompts\n",
      "INFO:llm_utils:Starting test plan generation with claude for US Core IG\n",
      "INFO:llm_utils:Parsed 66 requirements from checkpoints/revised_reqs_extraction/claude_reqs_list_v2_20250826_085415.md\n",
      "INFO:llm_utils:Parsed capability statement from ../us-core/test_set/CapabilityStatement-us-core-server.html\n",
      "INFO:llm_utils:Identifying group for requirement REQ-01 using claude...\n",
      "INFO:httpx:HTTP Request: POST https://api.anthropic.com/v1/messages \"HTTP/1.1 200 OK\"\n",
      "INFO:llm_utils:Identifying group for requirement REQ-02 using claude...\n",
      "INFO:httpx:HTTP Request: POST https://api.anthropic.com/v1/messages \"HTTP/1.1 200 OK\"\n",
      "INFO:llm_utils:Identifying group for requirement REQ-03 using claude...\n",
      "INFO:httpx:HTTP Request: POST https://api.anthropic.com/v1/messages \"HTTP/1.1 200 OK\"\n",
      "INFO:llm_utils:Identifying group for requirement REQ-04 using claude...\n",
      "INFO:httpx:HTTP Request: POST https://api.anthropic.com/v1/messages \"HTTP/1.1 200 OK\"\n",
      "INFO:llm_utils:Identifying group for requirement REQ-05 using claude...\n",
      "INFO:httpx:HTTP Request: POST https://api.anthropic.com/v1/messages \"HTTP/1.1 200 OK\"\n",
      "INFO:llm_utils:Identifying group for requirement REQ-06 using claude...\n",
      "INFO:httpx:HTTP Request: POST https://api.anthropic.com/v1/messages \"HTTP/1.1 200 OK\"\n",
      "INFO:llm_utils:Identifying group for requirement REQ-07 using claude...\n",
      "INFO:httpx:HTTP Request: POST https://api.anthropic.com/v1/messages \"HTTP/1.1 200 OK\"\n",
      "INFO:llm_utils:Identifying group for requirement REQ-08 using claude...\n",
      "INFO:httpx:HTTP Request: POST https://api.anthropic.com/v1/messages \"HTTP/1.1 200 OK\"\n",
      "INFO:llm_utils:Identifying group for requirement REQ-09 using claude...\n",
      "INFO:httpx:HTTP Request: POST https://api.anthropic.com/v1/messages \"HTTP/1.1 200 OK\"\n",
      "INFO:llm_utils:Identifying group for requirement REQ-10 using claude...\n",
      "INFO:httpx:HTTP Request: POST https://api.anthropic.com/v1/messages \"HTTP/1.1 200 OK\"\n",
      "INFO:llm_utils:Identifying group for requirement REQ-11 using claude...\n",
      "INFO:llm_utils:claude rate limit hit (output_tokens), waiting 41.5s\n",
      "INFO:llm_utils:Usage: 10 req, 12780 in_tokens, 81920 out_tokens\n",
      "INFO:httpx:HTTP Request: POST https://api.anthropic.com/v1/messages \"HTTP/1.1 200 OK\"\n",
      "INFO:llm_utils:Identifying group for requirement REQ-12 using claude...\n",
      "INFO:llm_utils:claude rate limit hit (output_tokens), waiting 0.6s\n",
      "INFO:llm_utils:Usage: 10 req, 12761 in_tokens, 81920 out_tokens\n",
      "INFO:httpx:HTTP Request: POST https://api.anthropic.com/v1/messages \"HTTP/1.1 200 OK\"\n",
      "INFO:llm_utils:Identifying group for requirement REQ-13 using claude...\n",
      "INFO:httpx:HTTP Request: POST https://api.anthropic.com/v1/messages \"HTTP/1.1 200 OK\"\n",
      "INFO:llm_utils:Identifying group for requirement REQ-14 using claude...\n",
      "INFO:llm_utils:claude rate limit hit (output_tokens), waiting 0.4s\n",
      "INFO:llm_utils:Usage: 10 req, 12706 in_tokens, 81920 out_tokens\n",
      "INFO:httpx:HTTP Request: POST https://api.anthropic.com/v1/messages \"HTTP/1.1 200 OK\"\n",
      "INFO:llm_utils:Identifying group for requirement REQ-15 using claude...\n",
      "INFO:llm_utils:claude rate limit hit (output_tokens), waiting 0.1s\n",
      "INFO:llm_utils:Usage: 10 req, 12715 in_tokens, 81920 out_tokens\n",
      "INFO:httpx:HTTP Request: POST https://api.anthropic.com/v1/messages \"HTTP/1.1 200 OK\"\n",
      "INFO:llm_utils:Identifying group for requirement REQ-16 using claude...\n",
      "INFO:httpx:HTTP Request: POST https://api.anthropic.com/v1/messages \"HTTP/1.1 200 OK\"\n",
      "INFO:llm_utils:Identifying group for requirement REQ-17 using claude...\n",
      "INFO:httpx:HTTP Request: POST https://api.anthropic.com/v1/messages \"HTTP/1.1 200 OK\"\n",
      "INFO:llm_utils:Identifying group for requirement REQ-18 using claude...\n",
      "INFO:httpx:HTTP Request: POST https://api.anthropic.com/v1/messages \"HTTP/1.1 200 OK\"\n",
      "INFO:llm_utils:Identifying group for requirement REQ-19 using claude...\n",
      "INFO:httpx:HTTP Request: POST https://api.anthropic.com/v1/messages \"HTTP/1.1 200 OK\"\n",
      "INFO:llm_utils:Identifying group for requirement REQ-20 using claude...\n",
      "INFO:httpx:HTTP Request: POST https://api.anthropic.com/v1/messages \"HTTP/1.1 200 OK\"\n",
      "INFO:llm_utils:Identifying group for requirement REQ-21 using claude...\n",
      "INFO:llm_utils:claude rate limit hit (output_tokens), waiting 28.9s\n",
      "INFO:llm_utils:Usage: 10 req, 12738 in_tokens, 81920 out_tokens\n",
      "INFO:httpx:HTTP Request: POST https://api.anthropic.com/v1/messages \"HTTP/1.1 200 OK\"\n",
      "INFO:llm_utils:Identifying group for requirement REQ-22 using claude...\n",
      "INFO:llm_utils:claude rate limit hit (output_tokens), waiting 0.6s\n",
      "INFO:llm_utils:Usage: 10 req, 12716 in_tokens, 81920 out_tokens\n",
      "INFO:httpx:HTTP Request: POST https://api.anthropic.com/v1/messages \"HTTP/1.1 200 OK\"\n",
      "INFO:llm_utils:Identifying group for requirement REQ-23 using claude...\n",
      "INFO:llm_utils:claude rate limit hit (output_tokens), waiting 0.6s\n",
      "INFO:llm_utils:Usage: 10 req, 12717 in_tokens, 81920 out_tokens\n",
      "INFO:httpx:HTTP Request: POST https://api.anthropic.com/v1/messages \"HTTP/1.1 200 OK\"\n",
      "INFO:llm_utils:Identifying group for requirement REQ-24 using claude...\n",
      "INFO:llm_utils:claude rate limit hit (output_tokens), waiting 0.4s\n",
      "INFO:llm_utils:Usage: 10 req, 12726 in_tokens, 81920 out_tokens\n",
      "INFO:httpx:HTTP Request: POST https://api.anthropic.com/v1/messages \"HTTP/1.1 200 OK\"\n",
      "INFO:llm_utils:Identifying group for requirement REQ-25 using claude...\n",
      "INFO:llm_utils:claude rate limit hit (output_tokens), waiting 0.3s\n",
      "INFO:llm_utils:Usage: 10 req, 12720 in_tokens, 81920 out_tokens\n",
      "INFO:httpx:HTTP Request: POST https://api.anthropic.com/v1/messages \"HTTP/1.1 200 OK\"\n",
      "INFO:llm_utils:Identifying group for requirement REQ-26 using claude...\n",
      "INFO:llm_utils:claude rate limit hit (output_tokens), waiting 13.3s\n",
      "INFO:llm_utils:Usage: 10 req, 12751 in_tokens, 81920 out_tokens\n",
      "INFO:httpx:HTTP Request: POST https://api.anthropic.com/v1/messages \"HTTP/1.1 200 OK\"\n",
      "INFO:llm_utils:Identifying group for requirement REQ-27 using claude...\n",
      "INFO:llm_utils:claude rate limit hit (output_tokens), waiting 0.2s\n",
      "INFO:llm_utils:Usage: 10 req, 12782 in_tokens, 81920 out_tokens\n",
      "INFO:httpx:HTTP Request: POST https://api.anthropic.com/v1/messages \"HTTP/1.1 200 OK\"\n",
      "INFO:llm_utils:Identifying group for requirement REQ-28 using claude...\n",
      "INFO:llm_utils:claude rate limit hit (output_tokens), waiting 1.2s\n",
      "INFO:llm_utils:Usage: 10 req, 12769 in_tokens, 81920 out_tokens\n",
      "INFO:httpx:HTTP Request: POST https://api.anthropic.com/v1/messages \"HTTP/1.1 200 OK\"\n",
      "INFO:llm_utils:Identifying group for requirement REQ-29 using claude...\n",
      "INFO:httpx:HTTP Request: POST https://api.anthropic.com/v1/messages \"HTTP/1.1 200 OK\"\n",
      "INFO:llm_utils:Identifying group for requirement REQ-30 using claude...\n",
      "INFO:httpx:HTTP Request: POST https://api.anthropic.com/v1/messages \"HTTP/1.1 200 OK\"\n",
      "INFO:llm_utils:Identifying group for requirement REQ-31 using claude...\n",
      "INFO:llm_utils:claude rate limit hit (output_tokens), waiting 29.0s\n",
      "INFO:llm_utils:Usage: 10 req, 12768 in_tokens, 81920 out_tokens\n",
      "INFO:httpx:HTTP Request: POST https://api.anthropic.com/v1/messages \"HTTP/1.1 200 OK\"\n",
      "INFO:llm_utils:Identifying group for requirement REQ-32 using claude...\n",
      "INFO:llm_utils:claude rate limit hit (output_tokens), waiting 0.4s\n",
      "INFO:llm_utils:Usage: 10 req, 12767 in_tokens, 81920 out_tokens\n",
      "INFO:httpx:HTTP Request: POST https://api.anthropic.com/v1/messages \"HTTP/1.1 200 OK\"\n",
      "INFO:llm_utils:Identifying group for requirement REQ-33 using claude...\n",
      "INFO:llm_utils:claude rate limit hit (output_tokens), waiting 0.4s\n",
      "INFO:llm_utils:Usage: 10 req, 12767 in_tokens, 81920 out_tokens\n",
      "INFO:httpx:HTTP Request: POST https://api.anthropic.com/v1/messages \"HTTP/1.1 200 OK\"\n",
      "INFO:llm_utils:Identifying group for requirement REQ-34 using claude...\n",
      "INFO:llm_utils:claude rate limit hit (output_tokens), waiting 0.5s\n",
      "INFO:llm_utils:Usage: 10 req, 12783 in_tokens, 81920 out_tokens\n",
      "INFO:httpx:HTTP Request: POST https://api.anthropic.com/v1/messages \"HTTP/1.1 200 OK\"\n",
      "INFO:llm_utils:Identifying group for requirement REQ-35 using claude...\n",
      "INFO:llm_utils:claude rate limit hit (output_tokens), waiting 0.1s\n",
      "INFO:llm_utils:Usage: 10 req, 12779 in_tokens, 81920 out_tokens\n",
      "INFO:httpx:HTTP Request: POST https://api.anthropic.com/v1/messages \"HTTP/1.1 200 OK\"\n",
      "INFO:llm_utils:Identifying group for requirement REQ-36 using claude...\n",
      "INFO:llm_utils:claude rate limit hit (output_tokens), waiting 13.7s\n",
      "INFO:llm_utils:Usage: 10 req, 12725 in_tokens, 81920 out_tokens\n",
      "INFO:httpx:HTTP Request: POST https://api.anthropic.com/v1/messages \"HTTP/1.1 200 OK\"\n",
      "INFO:llm_utils:Identifying group for requirement REQ-37 using claude...\n",
      "INFO:httpx:HTTP Request: POST https://api.anthropic.com/v1/messages \"HTTP/1.1 200 OK\"\n",
      "INFO:llm_utils:Identifying group for requirement REQ-38 using claude...\n",
      "INFO:llm_utils:claude rate limit hit (output_tokens), waiting 1.2s\n",
      "INFO:llm_utils:Usage: 10 req, 12696 in_tokens, 81920 out_tokens\n",
      "INFO:httpx:HTTP Request: POST https://api.anthropic.com/v1/messages \"HTTP/1.1 200 OK\"\n",
      "INFO:llm_utils:Identifying group for requirement REQ-39 using claude...\n",
      "INFO:llm_utils:claude rate limit hit (output_tokens), waiting 0.6s\n",
      "INFO:llm_utils:Usage: 10 req, 12666 in_tokens, 81920 out_tokens\n",
      "INFO:httpx:HTTP Request: POST https://api.anthropic.com/v1/messages \"HTTP/1.1 200 OK\"\n",
      "INFO:llm_utils:Identifying group for requirement REQ-40 using claude...\n",
      "INFO:httpx:HTTP Request: POST https://api.anthropic.com/v1/messages \"HTTP/1.1 200 OK\"\n",
      "INFO:llm_utils:Identifying group for requirement REQ-41 using claude...\n",
      "INFO:llm_utils:claude rate limit hit (output_tokens), waiting 27.3s\n",
      "INFO:llm_utils:Usage: 10 req, 12647 in_tokens, 81920 out_tokens\n",
      "INFO:httpx:HTTP Request: POST https://api.anthropic.com/v1/messages \"HTTP/1.1 200 OK\"\n",
      "INFO:llm_utils:Identifying group for requirement REQ-42 using claude...\n",
      "INFO:llm_utils:claude rate limit hit (output_tokens), waiting 0.2s\n",
      "INFO:llm_utils:Usage: 10 req, 12636 in_tokens, 81920 out_tokens\n",
      "INFO:httpx:HTTP Request: POST https://api.anthropic.com/v1/messages \"HTTP/1.1 200 OK\"\n",
      "INFO:llm_utils:Identifying group for requirement REQ-43 using claude...\n",
      "INFO:httpx:HTTP Request: POST https://api.anthropic.com/v1/messages \"HTTP/1.1 200 OK\"\n",
      "INFO:llm_utils:Identifying group for requirement REQ-44 using claude...\n",
      "INFO:httpx:HTTP Request: POST https://api.anthropic.com/v1/messages \"HTTP/1.1 200 OK\"\n",
      "INFO:llm_utils:Identifying group for requirement REQ-45 using claude...\n",
      "INFO:httpx:HTTP Request: POST https://api.anthropic.com/v1/messages \"HTTP/1.1 200 OK\"\n",
      "INFO:llm_utils:Identifying group for requirement REQ-46 using claude...\n",
      "INFO:llm_utils:claude rate limit hit (output_tokens), waiting 12.8s\n",
      "INFO:llm_utils:Usage: 10 req, 12697 in_tokens, 81920 out_tokens\n",
      "INFO:httpx:HTTP Request: POST https://api.anthropic.com/v1/messages \"HTTP/1.1 200 OK\"\n",
      "INFO:llm_utils:Identifying group for requirement REQ-47 using claude...\n",
      "INFO:httpx:HTTP Request: POST https://api.anthropic.com/v1/messages \"HTTP/1.1 200 OK\"\n",
      "INFO:llm_utils:Identifying group for requirement REQ-48 using claude...\n",
      "INFO:llm_utils:claude rate limit hit (output_tokens), waiting 0.5s\n",
      "INFO:llm_utils:Usage: 10 req, 12744 in_tokens, 81920 out_tokens\n",
      "INFO:httpx:HTTP Request: POST https://api.anthropic.com/v1/messages \"HTTP/1.1 200 OK\"\n",
      "INFO:llm_utils:Identifying group for requirement REQ-49 using claude...\n",
      "INFO:llm_utils:claude rate limit hit (output_tokens), waiting 1.1s\n",
      "INFO:llm_utils:Usage: 10 req, 12769 in_tokens, 81920 out_tokens\n",
      "INFO:httpx:HTTP Request: POST https://api.anthropic.com/v1/messages \"HTTP/1.1 200 OK\"\n",
      "INFO:llm_utils:Identifying group for requirement REQ-50 using claude...\n",
      "INFO:llm_utils:claude rate limit hit (output_tokens), waiting 0.4s\n",
      "INFO:llm_utils:Usage: 10 req, 12790 in_tokens, 81920 out_tokens\n",
      "INFO:httpx:HTTP Request: POST https://api.anthropic.com/v1/messages \"HTTP/1.1 200 OK\"\n",
      "INFO:llm_utils:Identifying group for requirement REQ-51 using claude...\n",
      "INFO:llm_utils:claude rate limit hit (output_tokens), waiting 28.8s\n",
      "INFO:llm_utils:Usage: 10 req, 12810 in_tokens, 81920 out_tokens\n",
      "INFO:httpx:HTTP Request: POST https://api.anthropic.com/v1/messages \"HTTP/1.1 200 OK\"\n",
      "INFO:llm_utils:Identifying group for requirement REQ-52 using claude...\n",
      "INFO:llm_utils:claude rate limit hit (output_tokens), waiting 0.6s\n",
      "INFO:llm_utils:Usage: 10 req, 12826 in_tokens, 81920 out_tokens\n",
      "INFO:httpx:HTTP Request: POST https://api.anthropic.com/v1/messages \"HTTP/1.1 200 OK\"\n",
      "INFO:llm_utils:Identifying group for requirement REQ-53 using claude...\n",
      "INFO:llm_utils:claude rate limit hit (output_tokens), waiting 0.2s\n",
      "INFO:llm_utils:Usage: 10 req, 12841 in_tokens, 81920 out_tokens\n",
      "INFO:httpx:HTTP Request: POST https://api.anthropic.com/v1/messages \"HTTP/1.1 200 OK\"\n",
      "INFO:llm_utils:Identifying group for requirement REQ-54 using claude...\n",
      "INFO:llm_utils:claude rate limit hit (output_tokens), waiting 0.1s\n",
      "INFO:llm_utils:Usage: 10 req, 12831 in_tokens, 81920 out_tokens\n",
      "INFO:httpx:HTTP Request: POST https://api.anthropic.com/v1/messages \"HTTP/1.1 200 OK\"\n",
      "INFO:llm_utils:Identifying group for requirement REQ-55 using claude...\n",
      "INFO:httpx:HTTP Request: POST https://api.anthropic.com/v1/messages \"HTTP/1.1 200 OK\"\n",
      "INFO:llm_utils:Identifying group for requirement REQ-56 using claude...\n",
      "INFO:llm_utils:claude rate limit hit (output_tokens), waiting 12.0s\n",
      "INFO:llm_utils:Usage: 10 req, 12824 in_tokens, 81920 out_tokens\n",
      "INFO:httpx:HTTP Request: POST https://api.anthropic.com/v1/messages \"HTTP/1.1 200 OK\"\n",
      "INFO:llm_utils:Identifying group for requirement REQ-57 using claude...\n",
      "INFO:llm_utils:claude rate limit hit (output_tokens), waiting 1.1s\n",
      "INFO:llm_utils:Usage: 10 req, 12799 in_tokens, 81920 out_tokens\n",
      "INFO:httpx:HTTP Request: POST https://api.anthropic.com/v1/messages \"HTTP/1.1 200 OK\"\n",
      "INFO:llm_utils:Identifying group for requirement REQ-58 using claude...\n",
      "INFO:llm_utils:claude rate limit hit (output_tokens), waiting 0.2s\n",
      "INFO:llm_utils:Usage: 10 req, 12799 in_tokens, 81920 out_tokens\n",
      "INFO:httpx:HTTP Request: POST https://api.anthropic.com/v1/messages \"HTTP/1.1 200 OK\"\n",
      "INFO:llm_utils:Identifying group for requirement REQ-59 using claude...\n",
      "INFO:llm_utils:claude rate limit hit (output_tokens), waiting 0.7s\n",
      "INFO:llm_utils:Usage: 10 req, 12782 in_tokens, 81920 out_tokens\n",
      "INFO:httpx:HTTP Request: POST https://api.anthropic.com/v1/messages \"HTTP/1.1 200 OK\"\n",
      "INFO:llm_utils:Identifying group for requirement REQ-60 using claude...\n",
      "INFO:llm_utils:claude rate limit hit (output_tokens), waiting 0.4s\n",
      "INFO:llm_utils:Usage: 10 req, 12777 in_tokens, 81920 out_tokens\n",
      "INFO:httpx:HTTP Request: POST https://api.anthropic.com/v1/messages \"HTTP/1.1 200 OK\"\n",
      "INFO:llm_utils:Identifying group for requirement REQ-61 using claude...\n",
      "INFO:llm_utils:claude rate limit hit (output_tokens), waiting 26.9s\n",
      "INFO:llm_utils:Usage: 10 req, 12756 in_tokens, 81920 out_tokens\n",
      "INFO:httpx:HTTP Request: POST https://api.anthropic.com/v1/messages \"HTTP/1.1 200 OK\"\n",
      "INFO:llm_utils:Identifying group for requirement REQ-62 using claude...\n",
      "INFO:llm_utils:claude rate limit hit (output_tokens), waiting 0.6s\n",
      "INFO:llm_utils:Usage: 10 req, 12754 in_tokens, 81920 out_tokens\n",
      "INFO:httpx:HTTP Request: POST https://api.anthropic.com/v1/messages \"HTTP/1.1 200 OK\"\n",
      "INFO:llm_utils:Identifying group for requirement REQ-63 using claude...\n",
      "INFO:httpx:HTTP Request: POST https://api.anthropic.com/v1/messages \"HTTP/1.1 200 OK\"\n",
      "INFO:llm_utils:Identifying group for requirement REQ-64 using claude...\n",
      "INFO:httpx:HTTP Request: POST https://api.anthropic.com/v1/messages \"HTTP/1.1 200 OK\"\n",
      "INFO:llm_utils:Identifying group for requirement REQ-65 using claude...\n",
      "INFO:httpx:HTTP Request: POST https://api.anthropic.com/v1/messages \"HTTP/1.1 200 OK\"\n",
      "INFO:llm_utils:Identifying group for requirement REQ-66 using claude...\n",
      "INFO:llm_utils:claude rate limit hit (output_tokens), waiting 10.6s\n",
      "INFO:llm_utils:Usage: 10 req, 12701 in_tokens, 81920 out_tokens\n",
      "INFO:httpx:HTTP Request: POST https://api.anthropic.com/v1/messages \"HTTP/1.1 200 OK\"\n",
      "INFO:llm_utils:Requirements grouped into 19 categories\n",
      "INFO:llm_utils:Group 'General/Cross-Resource': 33 requirements\n",
      "INFO:llm_utils:Group 'Security': 1 requirements\n",
      "INFO:llm_utils:Group 'AllergyIntolerance': 3 requirements\n",
      "INFO:llm_utils:Group 'CarePlan': 2 requirements\n",
      "INFO:llm_utils:Group 'CareTeam': 1 requirements\n",
      "INFO:llm_utils:Group 'DiagnosticReport': 3 requirements\n",
      "INFO:llm_utils:Group 'DocumentReference': 2 requirements\n",
      "INFO:llm_utils:Group 'DocumentReference Operations': 1 requirements\n",
      "INFO:llm_utils:Group 'Immunization': 2 requirements\n",
      "INFO:llm_utils:Group 'Location': 2 requirements\n",
      "INFO:llm_utils:Group 'Medication': 2 requirements\n",
      "INFO:llm_utils:Group 'MedicationDispense': 2 requirements\n",
      "INFO:llm_utils:Group 'MedicationRequest': 3 requirements\n",
      "INFO:llm_utils:Group 'Observation': 1 requirements\n",
      "INFO:llm_utils:Group 'Organization': 2 requirements\n",
      "INFO:llm_utils:Group 'Patient': 1 requirements\n",
      "INFO:llm_utils:Group 'Practitioner': 2 requirements\n",
      "INFO:llm_utils:Group 'PractionerRole': 2 requirements\n",
      "INFO:llm_utils:Group 'Procedure': 1 requirements\n",
      "INFO:llm_utils:Processing requirement for group 'AllergyIntolerance': REQ-06\n",
      "INFO:llm_utils:Generating test specification for REQ-06 using claude...\n",
      "INFO:llm_utils:claude rate limit hit (output_tokens), waiting 1.1s\n",
      "INFO:llm_utils:Usage: 10 req, 12710 in_tokens, 81920 out_tokens\n",
      "INFO:httpx:HTTP Request: POST https://api.anthropic.com/v1/messages \"HTTP/1.1 200 OK\"\n",
      "INFO:llm_utils:Processing requirement for group 'AllergyIntolerance': REQ-07\n",
      "INFO:llm_utils:Generating test specification for REQ-07 using claude...\n",
      "INFO:httpx:HTTP Request: POST https://api.anthropic.com/v1/messages \"HTTP/1.1 200 OK\"\n",
      "INFO:llm_utils:Processing requirement for group 'AllergyIntolerance': REQ-11\n",
      "INFO:llm_utils:Generating test specification for REQ-11 using claude...\n",
      "INFO:httpx:HTTP Request: POST https://api.anthropic.com/v1/messages \"HTTP/1.1 200 OK\"\n",
      "INFO:llm_utils:Processing requirement for group 'CarePlan': REQ-12\n",
      "INFO:llm_utils:Generating test specification for REQ-12 using claude...\n",
      "INFO:httpx:HTTP Request: POST https://api.anthropic.com/v1/messages \"HTTP/1.1 200 OK\"\n",
      "INFO:llm_utils:Processing requirement for group 'CarePlan': REQ-15\n",
      "INFO:llm_utils:Generating test specification for REQ-15 using claude...\n",
      "INFO:httpx:HTTP Request: POST https://api.anthropic.com/v1/messages \"HTTP/1.1 200 OK\"\n",
      "INFO:llm_utils:Processing requirement for group 'CareTeam': REQ-17\n",
      "INFO:llm_utils:Generating test specification for REQ-17 using claude...\n",
      "INFO:httpx:HTTP Request: POST https://api.anthropic.com/v1/messages \"HTTP/1.1 200 OK\"\n",
      "INFO:llm_utils:Processing requirement for group 'DiagnosticReport': REQ-25\n",
      "INFO:llm_utils:Generating test specification for REQ-25 using claude...\n",
      "INFO:httpx:HTTP Request: POST https://api.anthropic.com/v1/messages \"HTTP/1.1 200 OK\"\n",
      "INFO:llm_utils:Processing requirement for group 'DiagnosticReport': REQ-26\n",
      "INFO:llm_utils:Generating test specification for REQ-26 using claude...\n",
      "INFO:httpx:HTTP Request: POST https://api.anthropic.com/v1/messages \"HTTP/1.1 200 OK\"\n",
      "INFO:llm_utils:Processing requirement for group 'DiagnosticReport': REQ-28\n",
      "INFO:llm_utils:Generating test specification for REQ-28 using claude...\n",
      "INFO:httpx:HTTP Request: POST https://api.anthropic.com/v1/messages \"HTTP/1.1 200 OK\"\n",
      "INFO:llm_utils:Processing requirement for group 'DocumentReference': REQ-29\n",
      "INFO:llm_utils:Generating test specification for REQ-29 using claude...\n",
      "INFO:httpx:HTTP Request: POST https://api.anthropic.com/v1/messages \"HTTP/1.1 200 OK\"\n",
      "INFO:llm_utils:Processing requirement for group 'DocumentReference': REQ-30\n",
      "INFO:llm_utils:Generating test specification for REQ-30 using claude...\n",
      "INFO:httpx:HTTP Request: POST https://api.anthropic.com/v1/messages \"HTTP/1.1 200 OK\"\n",
      "INFO:llm_utils:Processing requirement for group 'DocumentReference Operations': REQ-31\n",
      "INFO:llm_utils:Generating test specification for REQ-31 using claude...\n",
      "INFO:httpx:HTTP Request: POST https://api.anthropic.com/v1/messages \"HTTP/1.1 200 OK\"\n",
      "INFO:llm_utils:Processing requirement for group 'General/Cross-Resource': REQ-01\n",
      "INFO:llm_utils:Generating test specification for REQ-01 using claude...\n",
      "INFO:httpx:HTTP Request: POST https://api.anthropic.com/v1/messages \"HTTP/1.1 200 OK\"\n",
      "INFO:llm_utils:Processing requirement for group 'General/Cross-Resource': REQ-02\n",
      "INFO:llm_utils:Generating test specification for REQ-02 using claude...\n",
      "INFO:httpx:HTTP Request: POST https://api.anthropic.com/v1/messages \"HTTP/1.1 200 OK\"\n",
      "INFO:llm_utils:Processing requirement for group 'General/Cross-Resource': REQ-03\n",
      "INFO:llm_utils:Generating test specification for REQ-03 using claude...\n",
      "INFO:httpx:HTTP Request: POST https://api.anthropic.com/v1/messages \"HTTP/1.1 200 OK\"\n",
      "INFO:llm_utils:Processing requirement for group 'General/Cross-Resource': REQ-04\n",
      "INFO:llm_utils:Generating test specification for REQ-04 using claude...\n",
      "INFO:httpx:HTTP Request: POST https://api.anthropic.com/v1/messages \"HTTP/1.1 200 OK\"\n",
      "INFO:llm_utils:Processing requirement for group 'General/Cross-Resource': REQ-08\n",
      "INFO:llm_utils:Generating test specification for REQ-08 using claude...\n",
      "INFO:httpx:HTTP Request: POST https://api.anthropic.com/v1/messages \"HTTP/1.1 200 OK\"\n",
      "INFO:llm_utils:Processing requirement for group 'General/Cross-Resource': REQ-09\n",
      "INFO:llm_utils:Generating test specification for REQ-09 using claude...\n",
      "INFO:httpx:HTTP Request: POST https://api.anthropic.com/v1/messages \"HTTP/1.1 200 OK\"\n",
      "INFO:llm_utils:Processing requirement for group 'General/Cross-Resource': REQ-10\n",
      "INFO:llm_utils:Generating test specification for REQ-10 using claude...\n",
      "INFO:httpx:HTTP Request: POST https://api.anthropic.com/v1/messages \"HTTP/1.1 200 OK\"\n",
      "INFO:llm_utils:Processing requirement for group 'General/Cross-Resource': REQ-13\n",
      "INFO:llm_utils:Generating test specification for REQ-13 using claude...\n",
      "INFO:httpx:HTTP Request: POST https://api.anthropic.com/v1/messages \"HTTP/1.1 200 OK\"\n",
      "INFO:llm_utils:Processing requirement for group 'General/Cross-Resource': REQ-14\n",
      "INFO:llm_utils:Generating test specification for REQ-14 using claude...\n",
      "INFO:httpx:HTTP Request: POST https://api.anthropic.com/v1/messages \"HTTP/1.1 200 OK\"\n",
      "INFO:llm_utils:Processing requirement for group 'General/Cross-Resource': REQ-16\n",
      "INFO:llm_utils:Generating test specification for REQ-16 using claude...\n",
      "INFO:httpx:HTTP Request: POST https://api.anthropic.com/v1/messages \"HTTP/1.1 200 OK\"\n",
      "INFO:llm_utils:Processing requirement for group 'General/Cross-Resource': REQ-18\n",
      "INFO:llm_utils:Generating test specification for REQ-18 using claude...\n",
      "INFO:httpx:HTTP Request: POST https://api.anthropic.com/v1/messages \"HTTP/1.1 200 OK\"\n",
      "INFO:llm_utils:Processing requirement for group 'General/Cross-Resource': REQ-19\n",
      "INFO:llm_utils:Generating test specification for REQ-19 using claude...\n",
      "INFO:httpx:HTTP Request: POST https://api.anthropic.com/v1/messages \"HTTP/1.1 200 OK\"\n",
      "INFO:llm_utils:Processing requirement for group 'General/Cross-Resource': REQ-20\n",
      "INFO:llm_utils:Generating test specification for REQ-20 using claude...\n",
      "INFO:httpx:HTTP Request: POST https://api.anthropic.com/v1/messages \"HTTP/1.1 200 OK\"\n",
      "INFO:llm_utils:Processing requirement for group 'General/Cross-Resource': REQ-21\n",
      "INFO:llm_utils:Generating test specification for REQ-21 using claude...\n",
      "INFO:httpx:HTTP Request: POST https://api.anthropic.com/v1/messages \"HTTP/1.1 200 OK\"\n",
      "INFO:llm_utils:Processing requirement for group 'General/Cross-Resource': REQ-22\n",
      "INFO:llm_utils:Generating test specification for REQ-22 using claude...\n",
      "INFO:httpx:HTTP Request: POST https://api.anthropic.com/v1/messages \"HTTP/1.1 200 OK\"\n",
      "INFO:llm_utils:Processing requirement for group 'General/Cross-Resource': REQ-23\n",
      "INFO:llm_utils:Generating test specification for REQ-23 using claude...\n",
      "INFO:httpx:HTTP Request: POST https://api.anthropic.com/v1/messages \"HTTP/1.1 200 OK\"\n",
      "INFO:llm_utils:Processing requirement for group 'General/Cross-Resource': REQ-24\n",
      "INFO:llm_utils:Generating test specification for REQ-24 using claude...\n",
      "INFO:httpx:HTTP Request: POST https://api.anthropic.com/v1/messages \"HTTP/1.1 200 OK\"\n",
      "INFO:llm_utils:Processing requirement for group 'General/Cross-Resource': REQ-27\n",
      "INFO:llm_utils:Generating test specification for REQ-27 using claude...\n",
      "INFO:httpx:HTTP Request: POST https://api.anthropic.com/v1/messages \"HTTP/1.1 200 OK\"\n",
      "INFO:llm_utils:Processing requirement for group 'General/Cross-Resource': REQ-32\n",
      "INFO:llm_utils:Generating test specification for REQ-32 using claude...\n",
      "INFO:httpx:HTTP Request: POST https://api.anthropic.com/v1/messages \"HTTP/1.1 200 OK\"\n",
      "INFO:llm_utils:Processing requirement for group 'General/Cross-Resource': REQ-33\n",
      "INFO:llm_utils:Generating test specification for REQ-33 using claude...\n",
      "INFO:httpx:HTTP Request: POST https://api.anthropic.com/v1/messages \"HTTP/1.1 200 OK\"\n",
      "INFO:llm_utils:Processing requirement for group 'General/Cross-Resource': REQ-34\n",
      "INFO:llm_utils:Generating test specification for REQ-34 using claude...\n",
      "INFO:httpx:HTTP Request: POST https://api.anthropic.com/v1/messages \"HTTP/1.1 200 OK\"\n",
      "INFO:llm_utils:Processing requirement for group 'General/Cross-Resource': REQ-35\n",
      "INFO:llm_utils:Generating test specification for REQ-35 using claude...\n",
      "INFO:httpx:HTTP Request: POST https://api.anthropic.com/v1/messages \"HTTP/1.1 200 OK\"\n",
      "INFO:llm_utils:Processing requirement for group 'General/Cross-Resource': REQ-47\n",
      "INFO:llm_utils:Generating test specification for REQ-47 using claude...\n",
      "INFO:httpx:HTTP Request: POST https://api.anthropic.com/v1/messages \"HTTP/1.1 200 OK\"\n",
      "INFO:llm_utils:Processing requirement for group 'General/Cross-Resource': REQ-49\n",
      "INFO:llm_utils:Generating test specification for REQ-49 using claude...\n",
      "INFO:httpx:HTTP Request: POST https://api.anthropic.com/v1/messages \"HTTP/1.1 200 OK\"\n",
      "INFO:llm_utils:Processing requirement for group 'General/Cross-Resource': REQ-50\n",
      "INFO:llm_utils:Generating test specification for REQ-50 using claude...\n",
      "INFO:httpx:HTTP Request: POST https://api.anthropic.com/v1/messages \"HTTP/1.1 200 OK\"\n",
      "INFO:llm_utils:Processing requirement for group 'General/Cross-Resource': REQ-54\n",
      "INFO:llm_utils:Generating test specification for REQ-54 using claude...\n",
      "INFO:httpx:HTTP Request: POST https://api.anthropic.com/v1/messages \"HTTP/1.1 200 OK\"\n",
      "INFO:llm_utils:Processing requirement for group 'General/Cross-Resource': REQ-55\n",
      "INFO:llm_utils:Generating test specification for REQ-55 using claude...\n",
      "INFO:httpx:HTTP Request: POST https://api.anthropic.com/v1/messages \"HTTP/1.1 200 OK\"\n",
      "INFO:llm_utils:Processing requirement for group 'General/Cross-Resource': REQ-60\n",
      "INFO:llm_utils:Generating test specification for REQ-60 using claude...\n",
      "INFO:httpx:HTTP Request: POST https://api.anthropic.com/v1/messages \"HTTP/1.1 200 OK\"\n",
      "INFO:llm_utils:Processing requirement for group 'General/Cross-Resource': REQ-61\n",
      "INFO:llm_utils:Generating test specification for REQ-61 using claude...\n",
      "INFO:httpx:HTTP Request: POST https://api.anthropic.com/v1/messages \"HTTP/1.1 200 OK\"\n",
      "INFO:llm_utils:Processing requirement for group 'General/Cross-Resource': REQ-63\n",
      "INFO:llm_utils:Generating test specification for REQ-63 using claude...\n",
      "INFO:httpx:HTTP Request: POST https://api.anthropic.com/v1/messages \"HTTP/1.1 200 OK\"\n",
      "INFO:llm_utils:Processing requirement for group 'General/Cross-Resource': REQ-64\n",
      "INFO:llm_utils:Generating test specification for REQ-64 using claude...\n",
      "INFO:httpx:HTTP Request: POST https://api.anthropic.com/v1/messages \"HTTP/1.1 200 OK\"\n",
      "INFO:llm_utils:Processing requirement for group 'General/Cross-Resource': REQ-65\n",
      "INFO:llm_utils:Generating test specification for REQ-65 using claude...\n",
      "INFO:httpx:HTTP Request: POST https://api.anthropic.com/v1/messages \"HTTP/1.1 200 OK\"\n",
      "INFO:llm_utils:Processing requirement for group 'General/Cross-Resource': REQ-66\n",
      "INFO:llm_utils:Generating test specification for REQ-66 using claude...\n",
      "INFO:httpx:HTTP Request: POST https://api.anthropic.com/v1/messages \"HTTP/1.1 200 OK\"\n",
      "INFO:llm_utils:Processing requirement for group 'Immunization': REQ-36\n",
      "INFO:llm_utils:Generating test specification for REQ-36 using claude...\n",
      "INFO:httpx:HTTP Request: POST https://api.anthropic.com/v1/messages \"HTTP/1.1 200 OK\"\n",
      "INFO:llm_utils:Processing requirement for group 'Immunization': REQ-37\n",
      "INFO:llm_utils:Generating test specification for REQ-37 using claude...\n",
      "INFO:httpx:HTTP Request: POST https://api.anthropic.com/v1/messages \"HTTP/1.1 200 OK\"\n",
      "INFO:llm_utils:Processing requirement for group 'Location': REQ-38\n",
      "INFO:llm_utils:Generating test specification for REQ-38 using claude...\n",
      "INFO:httpx:HTTP Request: POST https://api.anthropic.com/v1/messages \"HTTP/1.1 200 OK\"\n",
      "INFO:llm_utils:Processing requirement for group 'Location': REQ-39\n",
      "INFO:llm_utils:Generating test specification for REQ-39 using claude...\n",
      "INFO:httpx:HTTP Request: POST https://api.anthropic.com/v1/messages \"HTTP/1.1 200 OK\"\n",
      "INFO:llm_utils:Processing requirement for group 'Medication': REQ-40\n",
      "INFO:llm_utils:Generating test specification for REQ-40 using claude...\n",
      "INFO:httpx:HTTP Request: POST https://api.anthropic.com/v1/messages \"HTTP/1.1 200 OK\"\n",
      "INFO:llm_utils:Processing requirement for group 'Medication': REQ-41\n",
      "INFO:llm_utils:Generating test specification for REQ-41 using claude...\n",
      "INFO:httpx:HTTP Request: POST https://api.anthropic.com/v1/messages \"HTTP/1.1 200 OK\"\n",
      "INFO:llm_utils:Processing requirement for group 'MedicationDispense': REQ-42\n",
      "INFO:llm_utils:Generating test specification for REQ-42 using claude...\n",
      "INFO:httpx:HTTP Request: POST https://api.anthropic.com/v1/messages \"HTTP/1.1 200 OK\"\n",
      "INFO:llm_utils:Processing requirement for group 'MedicationDispense': REQ-43\n",
      "INFO:llm_utils:Generating test specification for REQ-43 using claude...\n",
      "INFO:httpx:HTTP Request: POST https://api.anthropic.com/v1/messages \"HTTP/1.1 200 OK\"\n",
      "INFO:llm_utils:Processing requirement for group 'MedicationRequest': REQ-44\n",
      "INFO:llm_utils:Generating test specification for REQ-44 using claude...\n",
      "INFO:httpx:HTTP Request: POST https://api.anthropic.com/v1/messages \"HTTP/1.1 200 OK\"\n",
      "INFO:llm_utils:Processing requirement for group 'MedicationRequest': REQ-45\n",
      "INFO:llm_utils:Generating test specification for REQ-45 using claude...\n",
      "INFO:httpx:HTTP Request: POST https://api.anthropic.com/v1/messages \"HTTP/1.1 200 OK\"\n",
      "INFO:llm_utils:Processing requirement for group 'MedicationRequest': REQ-46\n",
      "INFO:llm_utils:Generating test specification for REQ-46 using claude...\n",
      "INFO:httpx:HTTP Request: POST https://api.anthropic.com/v1/messages \"HTTP/1.1 200 OK\"\n",
      "INFO:llm_utils:Processing requirement for group 'Observation': REQ-48\n",
      "INFO:llm_utils:Generating test specification for REQ-48 using claude...\n",
      "INFO:httpx:HTTP Request: POST https://api.anthropic.com/v1/messages \"HTTP/1.1 200 OK\"\n",
      "INFO:llm_utils:Processing requirement for group 'Organization': REQ-51\n",
      "INFO:llm_utils:Generating test specification for REQ-51 using claude...\n",
      "INFO:httpx:HTTP Request: POST https://api.anthropic.com/v1/messages \"HTTP/1.1 200 OK\"\n",
      "INFO:llm_utils:Processing requirement for group 'Organization': REQ-52\n",
      "INFO:llm_utils:Generating test specification for REQ-52 using claude...\n",
      "INFO:httpx:HTTP Request: POST https://api.anthropic.com/v1/messages \"HTTP/1.1 200 OK\"\n",
      "INFO:llm_utils:Processing requirement for group 'Patient': REQ-53\n",
      "INFO:llm_utils:Generating test specification for REQ-53 using claude...\n",
      "INFO:httpx:HTTP Request: POST https://api.anthropic.com/v1/messages \"HTTP/1.1 200 OK\"\n",
      "INFO:llm_utils:Processing requirement for group 'PractionerRole': REQ-58\n",
      "INFO:llm_utils:Generating test specification for REQ-58 using claude...\n",
      "INFO:httpx:HTTP Request: POST https://api.anthropic.com/v1/messages \"HTTP/1.1 200 OK\"\n",
      "INFO:llm_utils:Processing requirement for group 'PractionerRole': REQ-59\n",
      "INFO:llm_utils:Generating test specification for REQ-59 using claude...\n",
      "INFO:httpx:HTTP Request: POST https://api.anthropic.com/v1/messages \"HTTP/1.1 200 OK\"\n",
      "INFO:llm_utils:Processing requirement for group 'Practitioner': REQ-56\n",
      "INFO:llm_utils:Generating test specification for REQ-56 using claude...\n",
      "INFO:httpx:HTTP Request: POST https://api.anthropic.com/v1/messages \"HTTP/1.1 200 OK\"\n",
      "INFO:llm_utils:Processing requirement for group 'Practitioner': REQ-57\n",
      "INFO:llm_utils:Generating test specification for REQ-57 using claude...\n",
      "INFO:httpx:HTTP Request: POST https://api.anthropic.com/v1/messages \"HTTP/1.1 200 OK\"\n",
      "INFO:llm_utils:Processing requirement for group 'Procedure': REQ-62\n",
      "INFO:llm_utils:Generating test specification for REQ-62 using claude...\n",
      "INFO:httpx:HTTP Request: POST https://api.anthropic.com/v1/messages \"HTTP/1.1 200 OK\"\n",
      "INFO:llm_utils:Processing requirement for group 'Security': REQ-05\n",
      "INFO:llm_utils:Generating test specification for REQ-05 using claude...\n",
      "INFO:httpx:HTTP Request: POST https://api.anthropic.com/v1/messages \"HTTP/1.1 200 OK\"\n",
      "INFO:llm_utils:Consolidated test plan saved to checkpoints/testplan_generation/us-core/claude_test_plan_20250826_230821.md\n"
     ]
    },
    {
     "name": "stdout",
     "output_type": "stream",
     "text": [
      "Generated test plan with improved capability parsing: checkpoints/testplan_generation/us-core/claude_test_plan_20250826_230821.md\n"
     ]
    }
   ],
   "source": [
    "import req_to_testplan\n",
    "importlib.reload(req_to_testplan)\n",
    "\n",
    "result = req_to_testplan.generate_consolidated_test_plan(\n",
    "    llm_clients,\n",
    "    'claude',  # 'claude' or 'gemini' or 'gpt'\n",
    "    llm_clients.logger,\n",
    "    \"checkpoints/revised_reqs_extraction/claude_reqs_list_v2_20250826_085415.md\",\n",
    "    \"../us-core/test_set/CapabilityStatement-us-core-server.html\",\n",
    "    \"US Core IG\",\n",
    "    output_dir='checkpoints/testplan_generation/us-core'\n",
    ")\n",
    "\n",
    "print(f\"Generated test plan with improved capability parsing: {result['test_plan_path']}\")"
   ]
  },
  {
   "cell_type": "markdown",
   "id": "f54f6a62",
   "metadata": {},
   "source": [
    "##### With RAG"
   ]
  },
  {
   "cell_type": "code",
   "execution_count": 33,
   "id": "5cf1f5b1",
   "metadata": {},
   "outputs": [
    {
     "name": "stdout",
     "output_type": "stream",
     "text": [
      "Deleted existing collection: capability_statements\n"
     ]
    },
    {
     "name": "stderr",
     "output_type": "stream",
     "text": [
      "ERROR:backoff:Giving up send_request(...) after 4 tries (requests.exceptions.SSLError: HTTPSConnectionPool(host='us.i.posthog.com', port=443): Max retries exceeded with url: /batch/ (Caused by SSLError(SSLCertVerificationError(1, '[SSL: CERTIFICATE_VERIFY_FAILED] certificate verify failed: unable to get local issuer certificate (_ssl.c:1000)'))))\n"
     ]
    }
   ],
   "source": [
    "import warnings\n",
    "import urllib3\n",
    "urllib3.disable_warnings(urllib3.exceptions.InsecureRequestWarning)\n",
    "\n",
    "# Set logging level to reduce noise\n",
    "import logging\n",
    "logging.getLogger(\"urllib3.connectionpool\").setLevel(logging.ERROR)\n",
    "logging.getLogger(\"backoff\").setLevel(logging.ERROR)\n",
    "\n",
    "import req_to_testplan_rag #import test plan generation script as module\n",
    "importlib.reload(req_to_testplan_rag)\n",
    "\n",
    "#clearing any existing capability statements from vector database\n",
    "req_to_testplan_rag.clear_capability_collection(\"capability_statements\")"
   ]
  },
  {
   "cell_type": "code",
   "execution_count": 34,
   "id": "a668d468",
   "metadata": {},
   "outputs": [
    {
     "name": "stderr",
     "output_type": "stream",
     "text": [
      "ERROR:backoff:Giving up send_request(...) after 4 tries (requests.exceptions.SSLError: HTTPSConnectionPool(host='us.i.posthog.com', port=443): Max retries exceeded with url: /batch/ (Caused by SSLError(SSLCertVerificationError(1, '[SSL: CERTIFICATE_VERIFY_FAILED] certificate verify failed: unable to get local issuer certificate (_ssl.c:1000)'))))\n",
      "ERROR:backoff:Giving up send_request(...) after 4 tries (requests.exceptions.SSLError: HTTPSConnectionPool(host='us.i.posthog.com', port=443): Max retries exceeded with url: /batch/ (Caused by SSLError(SSLCertVerificationError(1, '[SSL: CERTIFICATE_VERIFY_FAILED] certificate verify failed: unable to get local issuer certificate (_ssl.c:1000)'))))\n"
     ]
    },
    {
     "name": "stdout",
     "output_type": "stream",
     "text": [
      "\n",
      "Processing Group: Condition (5 requirements)\n",
      "\n",
      "Processing REQ-018: US Core Server SHALL support search-type and read for Condition\n",
      "\n",
      "================================================================================\n",
      "RAG RETRIEVAL FOR REQ-018\n",
      "================================================================================\n",
      "Query: US Core Server SHALL support search-type and read for Condition \"**SHALL** support `search-type`, `read`.\" Condition Profile Interaction Summary for US Core Server US Core Server FHIR SHALL\n",
      "Searching for 2 most relevant capability chunks...\n",
      "\n",
      "Found 2 matching chunks:\n",
      "\n",
      "  Match 1 (distance: 0.719982385635376):\n",
      "  Length: 1452 chars\n",
      "  Preview: FHIR Major Section: ## 14.3 CapabilityStatement: US Core Server CapabilityStatement\n",
      "\n",
      "|  |  |  |  |  ...\n",
      "  ...pi.json) | [Download](us-core-server.openapi.json)\n",
      "\n",
      "  Match 2 (distance: 0.9184955358505249):\n",
      "  Length: 2229 chars\n",
      "  Preview: FHIR Resource/Component: ### 14.3.2 FHIR RESTful Capabilities\n",
      "\n",
      "The US Core Server **SHALL**:\n",
      "\n",
      "1. Sup...\n",
      "  ... **MAY** support the `history-system` interaction.\n",
      "================================================================================\n",
      "\n",
      "Sending request to CLAUDE API...\n"
     ]
    },
    {
     "name": "stderr",
     "output_type": "stream",
     "text": [
      "ERROR:backoff:Giving up send_request(...) after 4 tries (requests.exceptions.SSLError: HTTPSConnectionPool(host='us.i.posthog.com', port=443): Max retries exceeded with url: /batch/ (Caused by SSLError(SSLCertVerificationError(1, '[SSL: CERTIFICATE_VERIFY_FAILED] certificate verify failed: unable to get local issuer certificate (_ssl.c:1000)'))))\n"
     ]
    },
    {
     "name": "stdout",
     "output_type": "stream",
     "text": [
      "Completed test specification for REQ-018\n",
      "\n",
      "Processing REQ-019: US Core Server SHALL support patient search parameter for Condition\n",
      "\n",
      "================================================================================\n",
      "RAG RETRIEVAL FOR REQ-019\n",
      "================================================================================\n",
      "Query: US Core Server SHALL support patient search parameter for Condition \"**SHALL** [patient](SearchParameter-us-core-condition-patient.html) reference\" Condition Search Parameter Summary for US Core Server US Core Server FHIR SHALL\n",
      "Searching for 2 most relevant capability chunks...\n",
      "\n",
      "Found 2 matching chunks:\n",
      "\n",
      "  Match 1 (distance: 0.6390321254730225):\n",
      "  Length: 1452 chars\n",
      "  Preview: FHIR Major Section: ## 14.3 CapabilityStatement: US Core Server CapabilityStatement\n",
      "\n",
      "|  |  |  |  |  ...\n",
      "  ...pi.json) | [Download](us-core-server.openapi.json)\n",
      "\n",
      "  Match 2 (distance: 0.8115702271461487):\n",
      "  Length: 90628 chars\n",
      "  Preview: FHIR Resource Detail: #### 14.3.3.2 AllergyIntolerance\n",
      "\n",
      "Conformance Expectation: **SHALL**\n",
      "\n",
      "Supporte...\n",
      "  ...d read/write formats for notes on the server.\n",
      "\n",
      "---\n",
      "================================================================================\n",
      "\n",
      "Sending request to CLAUDE API...\n",
      "Completed test specification for REQ-019\n",
      "\n",
      "Processing REQ-020: US Core Server SHALL support patient+category search parameter combination for Condition\n",
      "\n",
      "================================================================================\n",
      "RAG RETRIEVAL FOR REQ-020\n",
      "================================================================================\n",
      "Query: US Core Server SHALL support patient+category search parameter combination for Condition \"**SHALL** [patient](SearchParameter-us-core-condition-patient.html)+ [category](SearchParameter-us-core-condition-category.html) reference+token\" Condition Search Parameter Combination Summary for US Core Server US Core Server FHIR SHALL\n",
      "Searching for 2 most relevant capability chunks...\n",
      "\n",
      "Found 2 matching chunks:\n",
      "\n",
      "  Match 1 (distance: 0.8046116828918457):\n",
      "  Length: 90628 chars\n",
      "  Preview: FHIR Resource Detail: #### 14.3.3.2 AllergyIntolerance\n",
      "\n",
      "Conformance Expectation: **SHALL**\n",
      "\n",
      "Supporte...\n",
      "  ...d read/write formats for notes on the server.\n",
      "\n",
      "---\n",
      "\n",
      "  Match 2 (distance: 0.8493961095809937):\n",
      "  Length: 1452 chars\n",
      "  Preview: FHIR Major Section: ## 14.3 CapabilityStatement: US Core Server CapabilityStatement\n",
      "\n",
      "|  |  |  |  |  ...\n",
      "  ...pi.json) | [Download](us-core-server.openapi.json)\n",
      "================================================================================\n",
      "\n",
      "Sending request to CLAUDE API...\n",
      "Completed test specification for REQ-020\n",
      "\n",
      "Processing REQ-021: Server SHALL support Condition.recordedDate\n",
      "\n",
      "================================================================================\n",
      "RAG RETRIEVAL FOR REQ-021\n",
      "================================================================================\n",
      "Query: Server SHALL support Condition.recordedDate \"A server **SHALL** support `Condition.recordedDate`.\" Condition resource specific documentation for date of diagnosis handling Server FHIR SHALL\n",
      "Searching for 2 most relevant capability chunks...\n",
      "\n",
      "Found 2 matching chunks:\n",
      "\n",
      "  Match 1 (distance: 1.0565496683120728):\n",
      "  Length: 1452 chars\n",
      "  Preview: FHIR Major Section: ## 14.3 CapabilityStatement: US Core Server CapabilityStatement\n",
      "\n",
      "|  |  |  |  |  ...\n",
      "  ...pi.json) | [Download](us-core-server.openapi.json)\n",
      "\n",
      "  Match 2 (distance: 1.1093106269836426):\n",
      "  Length: 83 chars\n",
      "  Preview: FHIR Document Title: # 14.3 CapabilityStatement: US Core Server CapabilityStatement...\n",
      "================================================================================\n",
      "\n",
      "Sending request to CLAUDE API...\n",
      "Completed test specification for REQ-021\n",
      "\n",
      "Processing REQ-022: Server SHALL support at least one of assertedDate Extension and Condition.onsetDateTime\n",
      "\n",
      "================================================================================\n",
      "RAG RETRIEVAL FOR REQ-022\n",
      "================================================================================\n",
      "Query: Server SHALL support at least one of assertedDate Extension and Condition.onsetDateTime \"A server **SHALL** support at least one of the assertedDate Extension and `Condition.onsetDateTime`.\" Condition resource specific documentation for date of diagnosis handling Server FHIR SHALL\n",
      "Searching for 2 most relevant capability chunks...\n",
      "\n",
      "Found 2 matching chunks:\n",
      "\n",
      "  Match 1 (distance: 0.9315493106842041):\n",
      "  Length: 1452 chars\n",
      "  Preview: FHIR Major Section: ## 14.3 CapabilityStatement: US Core Server CapabilityStatement\n",
      "\n",
      "|  |  |  |  |  ...\n",
      "  ...pi.json) | [Download](us-core-server.openapi.json)\n",
      "\n",
      "  Match 2 (distance: 1.0149288177490234):\n",
      "  Length: 83 chars\n",
      "  Preview: FHIR Document Title: # 14.3 CapabilityStatement: US Core Server CapabilityStatement...\n",
      "================================================================================\n",
      "\n",
      "Sending request to CLAUDE API...\n",
      "Completed test specification for REQ-022\n"
     ]
    },
    {
     "data": {
      "text/plain": [
       "{'requirements_count': 5,\n",
       " 'group_count': 1,\n",
       " 'test_plan_path': 'checkpoints/testplan_generation/claude_test_plan_20250829_072028.md'}"
      ]
     },
     "execution_count": 34,
     "metadata": {},
     "output_type": "execute_result"
    }
   ],
   "source": [
    "req_to_testplan_rag.generate_consolidated_test_plan(\n",
    "    llm_clients, \n",
    "    'claude', #api\n",
    "    llm_clients.logger, \n",
    "    \"/Users/ceadams/Documents/onclaive/onclaive/pipeline/checkpoints/revised_reqs_extraction/claude_refined_requirements_20250829_condition_profile.md\", #input requirements list markdown file\n",
    "    \"checkpoints/markdown2/CapabilityStatement-us-core-server.md\", #capability statement\n",
    "    \"US Core IG\", #name of IG\n",
    "    output_dir='checkpoints/testplan_generation/', #output directory\n",
    "    verbose=True)"
   ]
  },
  {
   "cell_type": "markdown",
   "id": "d080ace6",
   "metadata": {},
   "source": [
    "## Stage 4: Test Kit Generation\n",
    "- Converts test specifications into executable Inferno Ruby tests\n",
    "- Generates complete test suites with proper file organization\n",
    "- Creates modular test structures following Inferno framework patterns\n",
    "- Includes validation and alignment checking\n",
    "\n",
    "Inputs: Test plan specification in markdown format\n",
    "\n",
    "Outputs: Complete Inferno test kit"
   ]
  },
  {
   "cell_type": "code",
   "execution_count": 35,
   "id": "4ef90585",
   "metadata": {},
   "outputs": [
    {
     "name": "stdout",
     "output_type": "stream",
     "text": [
      "Found 5 requirements with updated pattern\n",
      "Processing requirement: REQ-018\n",
      "Added requirement REQ-018 to section Condition\n",
      "Processing requirement: REQ-019\n",
      "Added requirement REQ-019 to section Condition\n",
      "Processing requirement: REQ-020\n",
      "Added requirement REQ-020 to section Condition\n",
      "Processing requirement: REQ-021\n",
      "Added requirement REQ-021 to section Condition\n",
      "Processing requirement: REQ-022\n",
      "Added requirement REQ-022 to section Condition\n",
      "Final sections: ['Condition']\n",
      "  Condition: 5 requirements\n"
     ]
    },
    {
     "name": "stderr",
     "output_type": "stream",
     "text": [
      "WARNING:plan_to_tests:Generated tests for only 0 of 5 requirements in section: Condition\n"
     ]
    },
    {
     "data": {
      "text/plain": [
       "{'total_sections': 1,\n",
       " 'total_requirements': 5,\n",
       " 'generated_tests': 5,\n",
       " 'module_dir': 'checkpoints/testkit_generation/us_core/test/claude_testkit_20250829_072456/us_core',\n",
       " 'module_file': 'checkpoints/testkit_generation/us_core/test/claude_testkit_20250829_072456/claude_us_core_20250829_072456.rb',\n",
       " 'output_dir': 'checkpoints/testkit_generation/us_core/test/claude_testkit_20250829_072456',\n",
       " 'timestamp': '20250829_072456'}"
      ]
     },
     "execution_count": 35,
     "metadata": {},
     "output_type": "execute_result"
    }
   ],
   "source": [
    "import plan_to_tests\n",
    "import importlib\n",
    "importlib.reload(plan_to_tests)\n",
    "\n",
    "plan_to_tests.generate_inferno_test_kit(\n",
    "    llm_clients, #initialize llm clients\n",
    "    'claude',  #set API\n",
    "    '/Users/ceadams/Documents/onclaive/onclaive/pipeline/checkpoints/testplan_generation/claude_test_plan_20250829_072028.md',  #input test plan file\n",
    "    module_name='US Core',\n",
    "    output_dir='checkpoints/testkit_generation/us_core/test',  #output directory\n",
    "    expected_actors=[\"Server\", \"Client\"] #not used right now\n",
    ")"
   ]
  },
  {
   "cell_type": "code",
   "execution_count": null,
   "id": "75d5d430",
   "metadata": {},
   "outputs": [],
   "source": []
  },
  {
   "cell_type": "code",
   "execution_count": 37,
   "id": "ab712dea",
   "metadata": {},
   "outputs": [
    {
     "name": "stdout",
     "output_type": "stream",
     "text": [
      "Scanning test files in: /Users/ceadams/Documents/onclaive/onclaive/pipeline/checkpoints/testkit_generation/us_core/gpt_testkit_20250828_103758/us_core\n",
      "Found 1136 test files\n",
      "Test files by directory:\n",
      "  allergyintolerance: 19 files\n",
      "  applications_processing_documentreference_resources: 1 files\n",
      "  applications_processing_us_core_medication_resources: 1 files\n",
      "  applications_processing_us_core_medicationdispense__shall__always: 1 files\n",
      "  applications_processing_us_core_medicationrequest: 1 files\n",
      "  applications_processing_us_core_medicationrequest_dispenserequest: 1 files\n",
      "  applications_processing_us_core_medicationrequest_dosageinstruction: 1 files\n",
      "  capability_statement: 28 files\n",
      "  careplan: 38 files\n",
      "  careteam: 10 files\n",
      "  certifying_client_application: 1 files\n",
      "  certifying_client_applications: 2 files\n",
      "  certifying_server_systems: 1 files\n",
      "  certifying_system: 4 files\n",
      "  certifying_systems: 3 files\n",
      "  client: 5 files\n",
      "  client_application: 9 files\n",
      "  client_invoking_us_core_fetch_documentreference_operation: 2 files\n",
      "  client_systems: 1 files\n",
      "  clients: 3 files\n",
      "  clients_implementing_patient_data_feed_subscriptions: 1 files\n",
      "  condition: 37 files\n",
      "  conformant_servers: 1 files\n",
      "  conformant_systems_implementing_us_core_profiles_that_reference_this_valueset: 1 files\n",
      "  coverage: 9 files\n",
      "  device: 18 files\n",
      "  diagnosticreport: 46 files\n",
      "  documentreference: 8 files\n",
      "  encounter: 3 files\n",
      "  extension_implementer: 1 files\n",
      "  extension_implementers: 1 files\n",
      "  fhir_application: 2 files\n",
      "  fhir_client_server_implementing_us_core_practitionerrole_profile: 4 files\n",
      "  fhir_condition_resource: 3 files\n",
      "  fhir_implementation: 14 files\n",
      "  fhir_implementation_guide_implementer: 1 files\n",
      "  fhir_implementation_systems: 3 files\n",
      "  fhir_implementations_supporting_uscoremedicationdispensetype: 1 files\n",
      "  fhir_implementer: 1 files\n",
      "  fhir_implementers: 3 files\n",
      "  fhir_implementers_accessing_vsac: 1 files\n",
      "  fhir_implementers_populating_the_extension_value_x__element: 1 files\n",
      "  fhir_implementers_using_the_us_core_jurisdiction_extension: 1 files\n",
      "  fhir_resource_implementer: 8 files\n",
      "  fhir_server: 4 files\n",
      "  fhir_server_client_implementing_documentreference_resources: 1 files\n",
      "  fhir_server_implementing_us_core_fetch_documentreference_operation: 4 files\n",
      "  fhir_server_implementing_us_core_practitionerrole_profile: 2 files\n",
      "  fhir_servers: 2 files\n",
      "  fhir_servers_implementing_medicationdispense_status_search: 1 files\n",
      "  fhir_servers_implementing_medicationrequest_status_search: 1 files\n",
      "  fhir_system_implementing_us_core_care_experience_preference_profile__constraint_requirement: 1 files\n",
      "  general_cross_resource: 1 files\n",
      "  goal: 2 files\n",
      "  immunization: 10 files\n",
      "  implementation_systems_implementing_us_core_documentreference_profile: 2 files\n",
      "  implementer: 4 files\n",
      "  implementers: 9 files\n",
      "  implementers_defining_extensions_for_us_core_medicationdispense__shall__when_defining_extensions: 1 files\n",
      "  implementers_of_us_core_servicerequest_profile: 3 files\n",
      "  implementers_seeking_astp_certification: 1 files\n",
      "  implementers_using_contained_resources__shall_conformance: 3 files\n",
      "  implementers_using_modifier_extensions__shall_conformance: 1 files\n",
      "  location: 7 files\n",
      "  medication: 18 files\n",
      "  observation: 152 files\n",
      "  organization: 33 files\n",
      "  patient: 30 files\n",
      "  practitioner: 16 files\n",
      "  practitionerrole_implementers: 2 files\n",
      "  privacy: 2 files\n",
      "  procedure: 10 files\n",
      "  profile_implementers: 1 files\n",
      "  provenance: 15 files\n",
      "  questionnaireresponse: 20 files\n",
      "  regulators: 1 files\n",
      "  relatedperson: 8 files\n",
      "  security: 46 files\n",
      "  server: 12 files\n",
      "  server_implementing_us_core_condition_problems_and_health_concerns_profile: 3 files\n",
      "  server_providing_access_to_problems_and_health_concern_data: 3 files\n",
      "  server_system: 24 files\n",
      "  server_system_implementing_us_core_encounter_profile: 1 files\n",
      "  server_system_supporting_us_core_interactions: 10 files\n",
      "  server_systems: 4 files\n",
      "  server_systems_implementing_us_core_documentreference_profile: 1 files\n",
      "  server_systems_implementing_us_core_procedure_profile_and_us_core_condition_profile: 1 files\n",
      "  servers: 12 files\n",
      "  servers_and_clients: 8 files\n",
      "  servers_implementing_patient_data_feed: 1 files\n",
      "  servers_providing_access_to_goal_data: 1 files\n",
      "  servers_providing_access_to_order_and_referral_data: 2 files\n",
      "  servers_supporting_profile_only_support: 1 files\n",
      "  servers_supporting_specified_us_core_profiles: 1 files\n",
      "  servers_supporting_us_core_interactions: 1 files\n",
      "  servers_supporting_us_core_interactions_for_this_profile: 2 files\n",
      "  servicerequest: 1 files\n",
      "  source_systems: 3 files\n",
      "  specimen: 4 files\n",
      "  system_creating_documentreference: 4 files\n",
      "  system_implementing_medication_access: 1 files\n",
      "  system_implementing_medication_queries: 2 files\n",
      "  system_implementing_us_core_encounter_profile: 3 files\n",
      "  system_implementing_us_core_jurisdiction_extension: 3 files\n",
      "  system_implementing_us_core_medicationdispense_profile__shall__always: 1 files\n",
      "  system_implementing_us_core_medicationdispense_profile__shall__unless_not_suitable: 3 files\n",
      "  system_implementing_us_core_medicationdispense_profile__shall__when_both_dates_are_present: 1 files\n",
      "  system_implementing_us_core_medicationdispense_profile__shall__when_status__completed_: 1 files\n",
      "  system_implementing_us_core_observation_clinical_result_profile: 1 files\n",
      "  system_implementing_us_core_tribal_affiliation_extension: 2 files\n",
      "  system_using_icd_codes_for_conditions: 1 files\n",
      "  systems_conforming_to_profiles: 1 files\n",
      "  systems_creating_references: 1 files\n",
      "  systems_defining_extensions: 1 files\n",
      "  systems_implementing_informationsource_sub_extension: 1 files\n",
      "  systems_implementing_us_core_condition_encounter_diagnosis_profile: 3 files\n",
      "  systems_implementing_us_core_documentreference_profile: 2 files\n",
      "  systems_implementing_us_core_goal_profile: 1 files\n",
      "  systems_implementing_us_core_medicationrequest_profile: 1 files\n",
      "  systems_implementing_us_core_profiles: 1 files\n",
      "  systems_implementing_us_core_servicerequest_profile: 5 files\n",
      "  systems_recording_self_prescribed_medications: 1 files\n",
      "  systems_supporting_goal_search: 4 files\n",
      "  systems_using_extensible_binding_coded_elements: 1 files\n",
      "  systems_using_required_binding_coded_elements: 1 files\n",
      "  unknown__no_summary: 201 files\n",
      "  unknown_actor: 2 files\n",
      "  us_core_client: 15 files\n",
      "  us_core_implementations__shall_when_using_datetime_type: 1 files\n",
      "  us_core_implementations__shall_when_using_quantity_values: 1 files\n",
      "  us_core_implementers: 3 files\n",
      "  us_core_medicationrequest_profile_implementers: 11 files\n",
      "  us_core_profile_implementers: 1 files\n",
      "  us_core_profile_structuredefinition_implementers: 2 files\n",
      "  us_core_requestors: 2 files\n",
      "  us_core_responders: 3 files\n",
      "  us_core_responders__server_: 1 files\n",
      "  us_core_responders_and_requestors: 2 files\n",
      "  us_core_server: 20 files\n",
      "  us_core_server_implementers: 3 files\n",
      "  us_core_servers: 1 files\n",
      "  us_realm_implementation_guide_developers: 1 files\n",
      "  valueset_implementer: 5 files\n",
      "  valueset_implementer__shall_include_all_cdt_codes: 1 files\n",
      "  valueset_implementer__shall_include_all_icd_10_pcs_codes: 1 files\n",
      "  valueset_implementer__shall_include_all_loinc_codes: 1 files\n",
      "Generating complete module file...\n",
      "✅ Complete module file created: /Users/ceadams/Documents/onclaive/onclaive/pipeline/checkpoints/testkit_generation/us_core/gpt_testkit_20250828_103758/complete_us_core.rb\n",
      "   Total require_relative statements: 1136\n",
      "   TestGroups: 1132\n",
      "   Individual Tests: 4\n",
      "Complete module file created at: /Users/ceadams/Documents/onclaive/onclaive/pipeline/checkpoints/testkit_generation/us_core/gpt_testkit_20250828_103758/complete_us_core.rb\n"
     ]
    }
   ],
   "source": [
    "# Save the script as recreate_module_file.py and run:\n",
    "from recreate_module_file import recreate_module_file\n",
    "\n",
    "# Adjust the path to match your actual output directory\n",
    "output_dir = \"/Users/ceadams/Documents/onclaive/onclaive/pipeline/checkpoints/testkit_generation/us_core/gpt_testkit_20250828_103758\"  # or whatever your actual path is\n",
    "\n",
    "try:\n",
    "    complete_module_path = recreate_module_file(output_dir, \"US Core\")\n",
    "    print(f\"Complete module file created at: {complete_module_path}\")\n",
    "except Exception as e:\n",
    "    print(f\"Error: {str(e)}\")"
   ]
  }
 ],
 "metadata": {
  "kernelspec": {
   "display_name": ".venv (3.12.6)",
   "language": "python",
   "name": "python3"
  },
  "language_info": {
   "codemirror_mode": {
    "name": "ipython",
    "version": 3
   },
   "file_extension": ".py",
   "mimetype": "text/x-python",
   "name": "python",
   "nbconvert_exporter": "python",
   "pygments_lexer": "ipython3",
   "version": "3.12.6"
  }
 },
 "nbformat": 4,
 "nbformat_minor": 5
}
