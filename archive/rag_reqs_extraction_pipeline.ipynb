{
 "cells": [
  {
   "cell_type": "markdown",
   "id": "dfb18388",
   "metadata": {},
   "source": [
    "# Two-Phase RAG (Retrieval Augmented Generation)-Based Requirement Generation"
   ]
  },
  {
   "cell_type": "markdown",
   "id": "576f7bc6",
   "metadata": {},
   "source": [
    "### General Setup: Importing LLM API call utilities"
   ]
  },
  {
   "cell_type": "code",
   "execution_count": 59,
   "id": "c34ffc2e",
   "metadata": {},
   "outputs": [],
   "source": [
    "from claude_wrapper import process_all_content\n",
    "import random\n",
    "import os\n",
    "from glob import glob\n",
    "import re\n",
    "from copy import deepcopy\n",
    "import json"
   ]
  },
  {
   "cell_type": "markdown",
   "id": "cb2f6dd9",
   "metadata": {},
   "source": [
    "## First Phase: LLM-as-judge probe for requirements in extracted IG text"
   ]
  },
  {
   "cell_type": "markdown",
   "id": "6305752c",
   "metadata": {},
   "source": [
    "### LLM Judgement Template"
   ]
  },
  {
   "cell_type": "code",
   "execution_count": 53,
   "id": "29b8bc17",
   "metadata": {},
   "outputs": [],
   "source": [
    "task_prompt ='''<PROMPT>You will be given a task, marked with the <TASK> tag. Each task consists of a section of FHIR Implementation Guide (IG) text, marked with the <TEXT> tag, a question marked with the <QUESTION> tag, and a boolean value marked by the <ANSWER> tag. This boolean value represents the result of an expert determining the best response to the question (marked by the <QUESTION> tag) when only considering the input text (which is marked by the <TEXT> tag). You will be shown several example tasks, and then provide your expert determination for the <ANSWER> to the <QUESTION> given the input <TEXT> </PROMPT>.'''\n",
    "\n",
    "example_1 = '''# CapabilityStatement: R4 Topic-Based Subscription Server Capability Statement\n",
    "\n",
    "## CapabilityStatement: R4 Topic-Based Subscription Server Capability Statement\n",
    "\n",
    "| *Official URL*: http://hl7.org/fhir/uv/subscriptions-backport/CapabilityStatement/backport-subscription-server-r4 | | | | *Version*: 1.1.0 |\n",
    "| --- | --- | --- | --- | --- |\n",
    "| Active as of 2020-11-30 | | | | *Computable Name*: BackportSubscriptionCapabilityStatementR4 |\n",
    "\n",
    "CapabilityStatement describing the required and optional capabilities of a FHIR Server supporting backported R5 Subscriptions in R4.\n",
    "\n",
    "This `CapabilityStatement` describes the expected capabilities of a FHIR R4 server supporting this Implementation Guide.\n",
    "\n",
    "[Raw OpenAPI-Swagger Definition file](backport-subscription-server-r4.openapi.json) | [Download](backport-subscription-server-r4.openapi.json)\n",
    "\n",
    "### FHIR RESTful Capabilities by Resource/Profile:\n",
    "\n",
    "#### Summary\n",
    "\n",
    "| Resource Type | Supported Profiles | Supported Searches | Supported `_includes` | Supported `_revincludes` | Supported Operations |\n",
    "| --- | --- | --- | --- | --- | --- |\n",
    "| [Subscription](#subscription) | [Backported R5 Subscription](StructureDefinition-backport-subscription.html) | url, status | - | - | $status, $events, $get-ws-binding-token |\n",
    "\n",
    "#### Subscription\n",
    "\n",
    "Conformance Expectation: **SHALL**\n",
    "\n",
    "Supported Profiles:\n",
    "\n",
    "* **SHALL** support: [Backported R5 Subscription](StructureDefinition-backport-subscription.html)\n",
    "\n",
    "Operation Summary:\n",
    "\n",
    "* **SHALL** support the [$status](OperationDefinition-backport-subscription-status.html) operation\n",
    "* **MAY** support the [$events](OperationDefinition-backport-subscription-events.html) operation , [$get-ws-binding-token](OperationDefinition-backport-subscription-get-ws-binding-token.html) operation\n",
    "\n",
    "Fetch and Search Criteria:\n",
    "\n",
    "* A Server **SHALL** be capable of returning a Subscription resource using: `GET [base]/Subscription/[id]`\n",
    "* A Server **SHOULD** be capable of creating a Subscription resource using either: `POST [base]/Subscription` or `PUT [base]/Subscription/[id]`\n",
    "* A Server **SHOULD** be capable of modifying a Subscription resource using either: `PUT [base]/Subscription/[id]` or `PATCH [base]/Subscription/[id]`\n",
    "* A Server **SHOULD** be capable of deleting a Subscription resource using: `DELETE [base]/Subscription/[id]`\n",
    "* A Server **SHOULD** be capable of searching for Subscription resources using: `GET [base]/Subscription/?[parameters]`\n",
    "\n",
    "Search Parameter Summary:\n",
    "\n",
    "| Conformance | Parameter | Type |\n",
    "| --- | --- | --- |\n",
    "| **SHOULD** | [url](http://hl7.org/fhir/subscription.html#search) | uri |\n",
    "| **SHOULD** | [status](http://hl7.org/fhir/subscription.html#search) | token |\n",
    "\n",
    "---\n",
    "\n",
    "| [<prev](CapabilityStatement-backport-subscription-server.ttl.html) | [top](#top) | [next>](CapabilityStatement-backport-subscription-server-r4-testing.html) |\n",
    "| --- | --- | --- |''' #TRUE\n",
    "\n",
    "example_2 = '''#### Subscription Topics in R4\n",
    "\n",
    "`SubscriptionTopic` resources contain information that is difficult to model without an appropriate resource to start from. There was an attempt to profile the `Basic` resource with extensions, but the complexity resulted in very low usability. Combined with use-case evaluation indicated that the most urgent and likely support of topic-based subscriptions would be relying on pre-defined topics with fixed canonical URLs (e.g., topics defined by an Implementation Guide), it was decided to leave topic definitions out-of-scope in R4.\n",
    "\n",
    "In order to allow for discovery of supported subscription topics, this guide defines the [CapabilityStatement SubscriptionTopic Canonical](StructureDefinition-capabilitystatement-subscriptiontopic-canonical.html) extension. The extension allows server implementers to advertise the canonical URLs of topics available to clients and allows clients to see the list of supported topics on a server. The extension is expected to appear, if supported, on the `Subscription` resource entry. Note that servers are NOT required to advertise supported topics via this extension. Supported topics can also be advertised, for example, by the `CapabilityStatement.instantiates` or `CapabilityStatement.implementationGuide` elements of a CapabilityStatement, as defined by another Implementation Guide. Finally, FHIR R4 servers MAY choose to leave topic discovery completely out-of-band and part of other steps, such as registration or integration.\n",
    "\n",
    "Full definitions of subscription topics are considered out-of-scope for FHIR R4 implementations. Since the full topic definitions are out-of-scope, FHIR R4 servers are not able to support custom topics submitted by clients. If that functionality is required, a server may choose to expose a limited R4B endpoint to enable such support.\n",
    "\n",
    "Implementers adding server-side support for topic-based subscriptions are encouraged (but not required) to use the R4B or R5 definitions internally, in order to ease the transition to future versions.''' # TRUE\n",
    "\n",
    "example_3 = '''### Conformance in FHIR R4\n",
    "\n",
    "In order to claim conformance with this guide, a server:\n",
    "\n",
    "* SHALL support the `Subscription` resource (read/write).\n",
    "* SHALL support the `$status` operation on the `Subscription` resource.\n",
    "* SHOULD support topic discovery via the [CapabilityStatement SubscriptionTopic Canonical](StructureDefinition-capabilitystatement-subscriptiontopic-canonical.html) extension\n",
    "* SHALL support at least one channel type, and SHOULD include one from this guide\n",
    "* SHALL support at least one Payload Type\n",
    "\n",
    "Note that in FHIR R4, there is no representation of Subscription Topics. Detailed discussion can be found on the [Topic-Based Subscription Components](components.html#subscription-topics-in-r4) page.''' #TRUE\n",
    "\n",
    "example_4 = '''## Example Bundle: R4 Notification: Empty\n",
    "\n",
    "|  | |\n",
    "| --- | --- |\n",
    "\n",
    "This Bundle provides an example of an `empty` notification. This `Bundle` is typical of what may be posted to a notification endpoint (e.g., a listening HTTP server, etc.).\n",
    "\n",
    "Bundle r4-notification-empty of type history\n",
    "\n",
    "---\n",
    "\n",
    "Entry 1 - fullUrl = urn:uuid:9e41ff6d-5be6-4e6a-8b85-abd4e7f58400\n",
    "\n",
    "Request:\n",
    "\n",
    "```\n",
    "GET https://example.org/fhir/Subscription/admission/$status\n",
    "\n",
    "```\n",
    "\n",
    "Response:\n",
    "\n",
    "```\n",
    "200\n",
    "\n",
    "```\n",
    "\n",
    "Resource Parameters:\n",
    "\n",
    "> ## Parameters\n",
    "> \n",
    "> | subscription | https://example.org/fhir/Subscription/admission |\n",
    "> | --- | --- |\n",
    "> | topic | <http://hl7.org/SubscriptionTopic/admission> |\n",
    "> | status | active |\n",
    "> | type | event-notification |\n",
    "> | events-since-subscription-start | 2 |\n",
    "> | notification-event |  |\n",
    "> | event-number | 2 |\n",
    "> | timestamp | 2020-05-29 11:44:13-0500 |\n",
    "\n",
    "### Notes:\n",
    "\n",
    "In order to satisfy the requirements of a `history` Bundle (specifically `bdl-3` and `bdl-4`), note that `Bundle.entry.request` must exist.\n",
    "\n",
    "For the status resource (`entry[0]`), the request is filled out to match a request to the `$status` operation.\n",
    "\n",
    "Since this is an `empty` notification and does not include additional entries, no additional constraints are imposed by `Bundle` requirements.''' # FALSE\n",
    "\n",
    "example_5 = '''## OperationDefinition: Subscription Events Operation\n",
    "\n",
    "| *Official URL*: http://hl7.org/fhir/uv/subscriptions-backport/OperationDefinition/backport-subscription-events | | | | *Version*: 1.1.0 |\n",
    "| --- | --- | --- | --- | --- |\n",
    "| *Standards status:* [Trial-use](http://build.fhir.org/versions.html#std-process \"Standard Status\") | | | [Maturity Level](http://hl7.org/fhir/versions.html#maturity): 0 | *Computable Name*: R5SubscriptionEvents |\n",
    "\n",
    "This operation is used to search for and return notifications that have been previously triggered by a topic-based Subscription in R4.\n",
    "\n",
    "URL: [base]/Subscription/[id]/$events\n",
    "\n",
    "Parameters\n",
    "\n",
    "| **Use** | **Name** | **Cardinality** | **Type** | **Binding** | **Documentation** |\n",
    "| --- | --- | --- | --- | --- | --- |\n",
    "| IN | eventsSinceNumber | 0..1 | [string](http://hl7.org/fhir/R4B/datatypes.html#string) |  | The starting event number, inclusive of this event (lower bound). |\n",
    "| IN | eventsUntilNumber | 0..1 | [string](http://hl7.org/fhir/R4B/datatypes.html#string) |  | The ending event number, inclusive of this event (upper bound). |\n",
    "| IN | content | 0..1 | [code](http://hl7.org/fhir/R4B/datatypes.html#code) |  | Requested content style of returned data. Codes from backport-content-value-set (e.g., empty, id-only, full-resource). This is a hint to the server what a client would prefer, and MAY be ignored. |\n",
    "| OUT | return | 1..1 | [Bundle](http://hl7.org/fhir/R4B/bundle.html) |  | The operation returns a valid notification bundle, with the first entry being the subscription status information resource. The bundle type is \"history\". |''' #FALSE\n",
    "\n",
    "example_6 = '''## OperationDefinition: Get WS Binding Token for Subscription Operation\n",
    "\n",
    "| *Official URL*: http://hl7.org/fhir/uv/subscriptions-backport/OperationDefinition/backport-subscription-get-ws-binding-token | | | | *Version*: 1.1.0 |\n",
    "| --- | --- | --- | --- | --- |\n",
    "| *Standards status:* [Trial-use](http://build.fhir.org/versions.html#std-process \"Standard Status\") | | | [Maturity Level](http://hl7.org/fhir/versions.html#maturity): 0 | *Computable Name*: R5SubscriptionGetWsBindingToken |\n",
    "\n",
    "This operation is used to get a token for a websocket client to use in order to bind to one or more subscriptions.\n",
    "\n",
    "URL: [base]/Subscription/$get-ws-binding-token\n",
    "\n",
    "URL: [base]/Subscription/[id]/$get-ws-binding-token\n",
    "\n",
    "Parameters\n",
    "\n",
    "| **Use** | **Name** | **Cardinality** | **Type** | **Binding** | **Documentation** |'''#FALSE\n",
    "\n",
    "examples = [(example_1, True), (example_2, True), (example_3, True), (example_4, False), (example_5, False), (example_6, False)]\n",
    "random.shuffle(examples)\n",
    "\n",
    "q_text = \"Does the provided IG text contain at least one specific, testable requirement for a behavior or capability that can be verified through software testing or attestation? Give your answer as a boolean (TRUE or FALSE) with no additional explanation or justification\"\n",
    "\n",
    "task_prompt += \"<EXAMPLES>\"\n",
    "for example in examples:\n",
    "    task_prompt += \"<TASK> <TEXT> \" \\\n",
    "        + example[0] + \"</TEXT>\" \\\n",
    "            + f\"<QUESTION> {q_text} </QUESTION>\"\\\n",
    "            + f\"<ANSWER> {str(example[1])} </ANSWER> </TASK>\"\n",
    "    \n",
    "task_prompt += \"</EXAMPLES>\"\n"
   ]
  },
  {
   "cell_type": "code",
   "execution_count": 233,
   "id": "55392dc2",
   "metadata": {},
   "outputs": [],
   "source": [
    "with open(\"../prompts/contains_requirement.txt\", \"w\") as f:\n",
    "    f.write(task_prompt)"
   ]
  },
  {
   "cell_type": "code",
   "execution_count": 36,
   "id": "6dc66dc3",
   "metadata": {},
   "outputs": [],
   "source": [
    "def md_sections(markdown):\n",
    "    sections = []\n",
    "    section_matches = list(re.finditer(\"(#+ )\", markdown))\n",
    "    for i in range(len(section_matches)):\n",
    "        if i == (len(section_matches)-1):\n",
    "            sections.append(markdown[section_matches[i].span()[0]:])\n",
    "        else:\n",
    "            sections.append(markdown[section_matches[i].span()[0]:section_matches[i+1].span()[0]])\n",
    "    return sections"
   ]
  },
  {
   "cell_type": "code",
   "execution_count": 74,
   "id": "6d777e0a",
   "metadata": {},
   "outputs": [],
   "source": [
    "def first_pass(source_dir):\n",
    "    # os.makedirs(destination_dir, exist_ok=True)\n",
    "    fp_questions = []\n",
    "    responses = {'prompt': task_prompt, 'responses': []}\n",
    "    for fname in glob(source_dir+\"/*.md\"):\n",
    "        with open(fname) as f:\n",
    "            data = f.read()\n",
    "            sections = md_sections(data)\n",
    "            for i, section in enumerate(sections):\n",
    "                response_entry = {\n",
    "                    'filename': fname,\n",
    "                    'total_sections': len(sections),\n",
    "                    'section_id': i,\n",
    "                    'text': section\n",
    "                }\n",
    "                task_base = deepcopy(task_prompt)\n",
    "                task_base += \"<TASK> <TEXT> \" \\\n",
    "                    + section + \"</TEXT>\" \\\n",
    "                    + f\"<QUESTION> {q_text} </QUESTION>\"\\\n",
    "                    + \"<ANSWER>\"\n",
    "                fp_questions.append(task_base)\n",
    "                responses['responses'].append(response_entry)\n",
    "    fp_responses = process_all_content(fp_questions)\n",
    "    for i, r in enumerate(responses['responses']):\n",
    "        r['llm_response'] = fp_responses[i]\n",
    "    return responses\n",
    "    "
   ]
  },
  {
   "cell_type": "markdown",
   "id": "d9fc972e",
   "metadata": {},
   "source": [
    "### Post-processing"
   ]
  },
  {
   "cell_type": "code",
   "execution_count": 75,
   "id": "aa5a9ea2",
   "metadata": {},
   "outputs": [],
   "source": [
    "def postprocess_fp(first_pass):\n",
    "    processed = {\"processed\": [], \"unable_to_process\":[]}\n",
    "    for section in first_pass['responses']:\n",
    "        if section['llm_response'].lower() == 'true':\n",
    "            section['contains_requirement'] = True\n",
    "            processed['processed'].append(deepcopy(section))\n",
    "        elif section['llm_response'].lower() == 'false':\n",
    "            section['contains_requirement'] = False\n",
    "            processed['processed'].append(deepcopy(section))\n",
    "        else:\n",
    "            section['contains_requirement'] = None\n",
    "            processed['unable_to_process'].append(deepcopy(section))\n",
    "    return processed"
   ]
  },
  {
   "cell_type": "markdown",
   "id": "6b439003",
   "metadata": {},
   "source": [
    "## Second Phase: Generating LLM Requirements"
   ]
  },
  {
   "cell_type": "markdown",
   "id": "4c965333",
   "metadata": {},
   "source": [
    "### Building VectorDB"
   ]
  },
  {
   "cell_type": "code",
   "execution_count": 120,
   "id": "34ad4ef9",
   "metadata": {},
   "outputs": [],
   "source": [
    "import pandas as pd\n",
    "reqdf = pd.read_csv(\"../hl7.fhir.uv.subscriptions_1.1.0_requirements_with_text.csv\", index_col=0)\n",
    "texts = reqdf.reference_text.to_list()\n"
   ]
  },
  {
   "cell_type": "code",
   "execution_count": 174,
   "id": "04bf96eb",
   "metadata": {},
   "outputs": [],
   "source": [
    "obj = {}\n",
    "for t in reqdf.reference_text.unique():\n",
    "    sub_df = reqdf[reqdf.reference_text == t]\n",
    "    sub_reqs = []\n",
    "    for i, row in sub_df.iterrows():\n",
    "        if row[\"Conformance*\"].upper() != 'DEPRECATED':\n",
    "            sub_req = {\n",
    "                \"Requirement*\": row[\"Requirement*\"],\n",
    "                \"Conformance*\": row[\"Conformance*\"],\n",
    "                \"Actor*\": row[\"Actor*\"],\n",
    "                \"Verifiable?\": row[\"Verifiable?\"],\n",
    "                \"Planning To Test?\": row[\"Planning To Test?\"],\n",
    "                \"Grouping\": row[\"Grouping\"],\n",
    "                \"Test Plan\": row[\"Test Plan\"],\n",
    "                \"Simulation Approach\": row[\"Simulation Approach\"]\n",
    "            }\n",
    "            sub_reqs.append(sub_req)\n",
    "    obj[t] = {'requirements': json.dumps(sub_reqs)}"
   ]
  },
  {
   "cell_type": "code",
   "execution_count": 168,
   "id": "88986cee",
   "metadata": {},
   "outputs": [
    {
     "name": "stderr",
     "output_type": "stream",
     "text": [
      "INFO:backoff:Backing off send_request(...) for 0.7s (requests.exceptions.ConnectionError: ('Connection aborted.', RemoteDisconnected('Remote end closed connection without response')))\n"
     ]
    }
   ],
   "source": [
    "import chromadb\n",
    "from chromadb.utils import embedding_functions\n",
    "chroma_client = chromadb.Client()\n",
    "sentence_transformer_ef = embedding_functions.SentenceTransformerEmbeddingFunction(\n",
    "    model_name=\"all-mpnet-base-v2\"\n",
    ")\n",
    "collection = chroma_client.create_collection(name=\"subscription_reqs\", embedding_function=sentence_transformer_ef)"
   ]
  },
  {
   "cell_type": "code",
   "execution_count": 169,
   "id": "b779cc44",
   "metadata": {},
   "outputs": [
    {
     "data": {
      "application/vnd.jupyter.widget-view+json": {
       "model_id": "98e6a318115249ec9abfd08de1e795dd",
       "version_major": 2,
       "version_minor": 0
      },
      "text/plain": [
       "Batches:   0%|          | 0/2 [00:00<?, ?it/s]"
      ]
     },
     "metadata": {},
     "output_type": "display_data"
    }
   ],
   "source": [
    "texts, reqs = zip(*obj.items())\n",
    "collection.add(\n",
    "    documents=list(texts),\n",
    "    metadatas=list(reqs),\n",
    "    ids=[str(x) for x in range(len(texts))]\n",
    ")"
   ]
  },
  {
   "cell_type": "code",
   "execution_count": 170,
   "id": "46b8ff4a",
   "metadata": {},
   "outputs": [
    {
     "data": {
      "application/vnd.jupyter.widget-view+json": {
       "model_id": "04a5d6eaf9004771afb1aaf86ae145eb",
       "version_major": 2,
       "version_minor": 0
      },
      "text/plain": [
       "Batches:   0%|          | 0/1 [00:00<?, ?it/s]"
      ]
     },
     "metadata": {},
     "output_type": "display_data"
    }
   ],
   "source": [
    "q = collection.query(query_texts=responses['responses']['processed'][4]['text'])"
   ]
  },
  {
   "cell_type": "code",
   "execution_count": 194,
   "id": "9d38803d",
   "metadata": {},
   "outputs": [
    {
     "data": {
      "text/plain": [
       "[{'requirements': '[{\"Requirement*\": \"When the content type is id-only, notification bundles SHALL include references to the appropriate focus resources in the SubscriptionStatus.notificationEvent.focus element.\", \"Conformance*\": \"SHALL\", \"Actor*\": \"Server\", \"Verifiable?\": \"Yes\", \"Planning To Test?\": \"Yes\", \"Grouping\": \"Notification Content - id-only\", \"Test Plan\": \"If the payload type is specified as being id-only, the notification validation test will ensure the SubscriptionStatus.notificationEvent.focus is populated and it will check that each additional entry in the Bundle has the fullUrl populated\", \"Simulation Approach\": \"TESTER-DIRECTED: Inferno will rely on testers to provide appropriate notifications because generating notification that have the expected outcome within a client system is not generally possible for a testing tool like Inferno. These Bundles will be validated using the logic descriped in the Test Plan.\"}, {\"Requirement*\": \"Additionally, [id-only] notification bundles MAY contain, in addition to the SubscriptionStatus used to convey status information, at least one Bundle.entry for each resource relevant to the notification. For example, a notification for a topic based on Encounter MAY include a reference to the Encounter and MAY also include additional resources deemed relevant (e.g., the linked Patient).\", \"Conformance*\": \"MAY\", \"Actor*\": \"Server\", \"Verifiable?\": \"Yes\", \"Planning To Test?\": \"No\", \"Grouping\": \"Notification Content - id-only\", \"Test Plan\": NaN, \"Simulation Approach\": \"TESTER-DIRECTED: Notifications that Inferno delivers are provided by the tester and verified against the relevant requirements. Tester can decide within those requirements whether this option is used or not.\"}, {\"Requirement*\": \"Each Bundle.entry for id-only notification SHALL contain a relevant resource URL in the fullUrl and request elements, as is required for history bundles.\", \"Conformance*\": \"SHALL\", \"Actor*\": \"Server\", \"Verifiable?\": \"Yes\", \"Planning To Test?\": \"Yes\", \"Grouping\": \"Notification Content - id-only\", \"Test Plan\": \"If the payload type is specified as being id-only and the server includes additional Bundle.entry iterations, check that fullUrl is populated and resource is not populated (since id-only).\", \"Simulation Approach\": \"TESTER-DIRECTED: Inferno will rely on testers to provide appropriate notifications because generating notification that have the expected outcome within a client system is not generally possible for a testing tool like Inferno. These Bundles will be validated using the logic descriped in the Test Plan.\"}]'},\n",
       " {'requirements': '[{\"Requirement*\": \"\\\\n[servers] SHOULD support [profile]: Backported R5 Subscription [NOTE: narrative says SHALL, resource says SHOULD, future versions correct the narrative to SHOULD]\", \"Conformance*\": \"SHOULD\", \"Actor*\": \"Server\", \"Verifiable?\": \"Yes\", \"Planning To Test?\": \"Yes\", \"Grouping\": \"CapabilityStatement\", \"Test Plan\": \"Verify that the Subscription profile is indicated under the Subscription resource. Warning / optional fail if not.\", \"Simulation Approach\": \"SIMULATED: Inferno will publish a static capability statement indicating support for the referenced profile.\"}, {\"Requirement*\": \"SHALL support the $status operation\", \"Conformance*\": \"SHALL\", \"Actor*\": \"Server\", \"Verifiable?\": \"Yes\", \"Planning To Test?\": \"Yes\", \"Grouping\": \"CapabilityStatement\", \"Test Plan\": \"Verify that the $status operation is listed under Subscription resource operations.\", \"Simulation Approach\": \"SIMULATED: Inferno will publish a static capability statement indicating support for the $status operation.\"}, {\"Requirement*\": \"MAY support the $events operation\", \"Conformance*\": \"MAY\", \"Actor*\": \"Server\", \"Verifiable?\": \"Yes\", \"Planning To Test?\": \"Yes\", \"Grouping\": \"CapabilityStatement\", \"Test Plan\": \"Verify that the $events operation is listed under Subscription resource operations.\", \"Simulation Approach\": \"SIMULATED: Inferno will publish a static capability statement indicating support for the $events operation.\"}, {\"Requirement*\": \"MAY support the $get-ws-binding-token operation\", \"Conformance*\": \"MAY\", \"Actor*\": \"Server\", \"Verifiable?\": \"Yes\", \"Planning To Test?\": \"No\", \"Grouping\": \"CapabilityStatement\", \"Test Plan\": NaN, \"Simulation Approach\": \"NOT SIMULATED: Inferno will not include this operation in its CapabilityStatement as it doesn\\'t support websocket Subscriptions at this time.\"}, {\"Requirement*\": \"A Server SHALL be capable of returning a Subscription resource using: GET [base]/Subscription/[id]\", \"Conformance*\": \"SHALL\", \"Actor*\": \"Server\", \"Verifiable?\": \"Yes\", \"Planning To Test?\": \"Yes\", \"Grouping\": \"CapabilityStatement\", \"Test Plan\": \"Verify that the read interaction is listed under the Subscription resource.\", \"Simulation Approach\": \"SIMULATED: Inferno will publish a static capability statement indicating support for Subscription read.\"}, {\"Requirement*\": \"A Server SHOULD be capable of creating a Subscription resource using either: POST [base]/Subscription or PUT [base]/Subscription/[id]\", \"Conformance*\": \"SHOULD\", \"Actor*\": \"Server\", \"Verifiable?\": \"Yes\", \"Planning To Test?\": \"Yes\", \"Grouping\": \"CapabilityStatement\", \"Test Plan\": \"Verify that the Create interaction is listed under the Subscription resource\", \"Simulation Approach\": \"SIMULATED: Inferno will publish a static capability statement indicating support for Subscription create.\"}, {\"Requirement*\": \"A Server\\\\u00a0SHOULD\\\\u00a0be capable of modifying a Subscription resource using either:\\\\u00a0PUT [base]/Subscription/[id]\\\\u00a0or\\\\u00a0PATCH [base]/Subscription/[id]\", \"Conformance*\": \"SHOULD\", \"Actor*\": \"Server\", \"Verifiable?\": \"Yes\", \"Planning To Test?\": \"Yes\", \"Grouping\": \"CapabilityStatement\", \"Test Plan\": \"Verify that the Update interaction is listed under the Subscription resource\", \"Simulation Approach\": \"SIMULATED: Inferno will publish a static capability statement indicating support for Subscription update.\"}, {\"Requirement*\": \"A Server\\\\u00a0SHOULD\\\\u00a0be capable of deleting a Subscription resource using:\\\\u00a0DELETE [base]/Subscription/[id]\", \"Conformance*\": \"SHOULD\", \"Actor*\": \"Server\", \"Verifiable?\": \"Yes\", \"Planning To Test?\": \"Yes\", \"Grouping\": \"CapabilityStatement\", \"Test Plan\": \"Verify that the Delete interaction is listed under the Subscription resource\", \"Simulation Approach\": \"SIMULATED: Inferno will publish a static capability statement indicating support for Subscription delete.\"}, {\"Requirement*\": \"A Server\\\\u00a0[MAY] be capable of searching for Subscription resources using:\\\\u00a0GET [base]/Subscription/?[parameters]\", \"Conformance*\": \"MAY\", \"Actor*\": \"Server\", \"Verifiable?\": \"Yes\", \"Planning To Test?\": \"Yes\", \"Grouping\": \"CapabilityStatement\", \"Test Plan\": NaN, \"Simulation Approach\": \"NOT SIMULATED: Inferno will publish a static capability statement that does not indicate support for Subscription search.\"}, {\"Requirement*\": \"Search Parameter Summary: SHALL [support] url [narrative says SHOULD, resource says SHALL, future versions correct the narrative to SHALL]\", \"Conformance*\": \"SHALL\", \"Actor*\": \"Server\", \"Verifiable?\": \"Yes\", \"Planning To Test?\": \"Yes\", \"Grouping\": \"CapabilityStatement\", \"Test Plan\": NaN, \"Simulation Approach\": \"NOT SIMULATED: Inferno will publish a static capability statement that does not indicate support for Subscription search or any search parameters\"}, {\"Requirement*\": \"Search Parameter Summary: SHOULD [support] status\", \"Conformance*\": \"SHOULD\", \"Actor*\": \"Server\", \"Verifiable?\": \"Yes\", \"Planning To Test?\": \"Yes\", \"Grouping\": \"CapabilityStatement\", \"Test Plan\": NaN, \"Simulation Approach\": \"NOT SIMULATED: Inferno will publish a static capability statement that does not indicate support for Subscription search or any search parameters\"}]'},\n",
       " {'requirements': '[{\"Requirement*\": \"The Subscription.criteria element is required (cardinality of 1..1), so any compatible implementation SHALL be able to read and/or write as necessary.\", \"Conformance*\": \"SHALL\", \"Actor*\": \"Server\", \"Verifiable?\": \"Yes\", \"Planning To Test?\": \"Yes\", \"Grouping\": \"Subscription Creation\", \"Test Plan\": \"Use the HL7 validator to verify a conformant Subscription instance, which includes this element. Additionally, check it explicitly since if the filter extension is present, it counts as populated even if there is no value in the base element.\", \"Simulation Approach\": \"TESTER-DIRECTED: Inferno will rely on testers to provide appropriate notifications because generating notification that have the expected outcome within a client system is not generally possible for a testing tool like Inferno. These Bundles will be validated using the logic descriped in the Test Plan.\"}, {\"Requirement*\": \"Compared with the core specification, this guide specifies that the [Subscription.criteria] element SHALL contain the canonical URL for the Subscription Topic.\", \"Conformance*\": \"SHALL\", \"Actor*\": \"Server\", \"Verifiable?\": \"Yes\", \"Planning To Test?\": \"Yes\", \"Grouping\": \"Subscription Creation\", \"Test Plan\": \"Verify that the Subscription.criteria element is a valid url data type (in addition to HL7 validator checks)\", \"Simulation Approach\": \"TESTER-DIRECTED: Inferno will rely on testers to provide appropriate notifications because generating notification that have the expected outcome within a client system is not generally possible for a testing tool like Inferno. These Bundles will be validated using the logic descriped in the Test Plan.\"}, {\"Requirement*\": \"Servers supporting this guide SHALL be able to read values in this [Subscription.criteria] element and process requests for subscription topics referenced by it.\", \"Conformance*\": \"SHALL\", \"Actor*\": \"Server\", \"Verifiable?\": \"Yes\", \"Planning To Test?\": \"Yes\", \"Grouping\": \"Subscription Creation\", \"Test Plan\": NaN, \"Simulation Approach\": \"SIMULATED: Inferno will use this value to validate the provided notification(s) if the topic is also present there.\"}, {\"Requirement*\": \"If a server does not support a requested topic [in the Subscription.criteria element] or will not honor the subscription otherwise, a server SHALL reject the subscription request.\", \"Conformance*\": \"SHALL\", \"Actor*\": \"Server\", \"Verifiable?\": \"Yes\", \"Planning To Test?\": \"Yes\", \"Grouping\": \"Subscription Creation\", \"Test Plan\": \"Identify a value that the server will not support (default with ability for tester to override), create a subscription with that value and verify that the Subscription is rejected.\", \"Simulation Approach\": \"NOT SIMULATED: Inferno will support any topic provided.\"}, {\"Requirement*\": \"Clients supporting this guide SHALL be able to write subscription topic URLs into this [Subscription.criteria] element.\", \"Conformance*\": \"SHALL\", \"Actor*\": \"Client\", \"Verifiable?\": \"Yes\", \"Planning To Test?\": \"Yes\", \"Grouping\": \"Subscription Creation\", \"Test Plan\": \"check client-provided Subscriptions to make sure they have a topic URL in Subscription.cirteria\", \"Simulation Approach\": \"TESTER-DIRECTED: Subscriptions that Inferno uses are provided by the tester and verified against the relevant requirements. Tester can decide within those requirements whether to include this element on a particular Subscription instance.\"}]'}]"
      ]
     },
     "execution_count": 194,
     "metadata": {},
     "output_type": "execute_result"
    }
   ],
   "source": [
    "q['metadatas'][0][:3]"
   ]
  },
  {
   "cell_type": "markdown",
   "id": "3f47ebc9",
   "metadata": {},
   "source": [
    "### Prompt Template Definition and Prompt Formatting"
   ]
  },
  {
   "cell_type": "code",
   "execution_count": null,
   "id": "492f5bfe",
   "metadata": {},
   "outputs": [],
   "source": [
    "req_prompt = '''<PROMPT>Your task is to extract requirements from a section of FHIR Implementation Guide (IG) text marked with the <TEXT> tag. Each section of text has been determined to contain one or more requirements by another expert LLM. You will be provided examples of similar sections of text from other IGs, as well as the requirement(s) that were extracted from that section of text. Use them as guidance. Mark your response with the <RESPONSE> tag, and include only the extracted requirements, with no other explanation. Provide the extracted requirements as valid JSON objects. </PROMPT> '''"
   ]
  },
  {
   "cell_type": "code",
   "execution_count": 234,
   "id": "d079e02e",
   "metadata": {},
   "outputs": [],
   "source": [
    "with open(\"../prompts/requirement_extraction_rag.txt\", \"w+\") as f:\n",
    "    f.write(req_prompt)"
   ]
  },
  {
   "cell_type": "code",
   "execution_count": 195,
   "id": "865b386a",
   "metadata": {},
   "outputs": [],
   "source": [
    "def fill_prompt(q_texts, coll, n_examples=4):\n",
    "    prompts = []\n",
    "    resp = coll.query(query_texts=q_texts)\n",
    "    for i, q_text in enumerate(q_texts):\n",
    "        template = deepcopy(req_prompt)\n",
    "        template += \"<EXAMPLES> \"\n",
    "        for j in range(n_examples):\n",
    "            template += \"<TASK> <TEXT>\" + resp['documents'][i][j] + \" </TEXT>\"\n",
    "            template += \" <RESPONSE> \"+ resp['metadatas'][i][j]['requirements'] + \" </RESPONSE> </TASK>\"\n",
    "\n",
    "        template += \"</EXAMPLES> <TASK> <TEXT>\" + q_text + \" </TEXT> <RESPONSE>\"\n",
    "        prompts.append(template)\n",
    "    return prompts\n",
    "            \n"
   ]
  },
  {
   "cell_type": "markdown",
   "id": "37229d79",
   "metadata": {},
   "source": [
    "### Second Pass - LLM Requirement Generation"
   ]
  },
  {
   "cell_type": "code",
   "execution_count": 203,
   "id": "80914b38",
   "metadata": {},
   "outputs": [
    {
     "data": {
      "application/vnd.jupyter.widget-view+json": {
       "model_id": "1747b1763ba547788432a62e0ecc6bf2",
       "version_major": 2,
       "version_minor": 0
      },
      "text/plain": [
       "Batches:   0%|          | 0/1 [00:00<?, ?it/s]"
      ]
     },
     "metadata": {},
     "output_type": "display_data"
    }
   ],
   "source": [
    "l = list(filter(lambda x: x['contains_requirement'], r['responses']['processed']))\n",
    "prompts = fill_prompt([lx['text'] for lx in l], collection)"
   ]
  },
  {
   "cell_type": "code",
   "execution_count": 209,
   "id": "49f7c67d",
   "metadata": {},
   "outputs": [
    {
     "name": "stderr",
     "output_type": "stream",
     "text": [
      "INFO:httpx:HTTP Request: POST https://api.anthropic.com/v1/messages \"HTTP/1.1 200 OK\"\n",
      "INFO:httpx:HTTP Request: POST https://api.anthropic.com/v1/messages \"HTTP/1.1 200 OK\"\n",
      "INFO:httpx:HTTP Request: POST https://api.anthropic.com/v1/messages \"HTTP/1.1 200 OK\"\n",
      "INFO:httpx:HTTP Request: POST https://api.anthropic.com/v1/messages \"HTTP/1.1 200 OK\"\n",
      "INFO:httpx:HTTP Request: POST https://api.anthropic.com/v1/messages \"HTTP/1.1 200 OK\"\n",
      "INFO:httpx:HTTP Request: POST https://api.anthropic.com/v1/messages \"HTTP/1.1 200 OK\"\n",
      "INFO:httpx:HTTP Request: POST https://api.anthropic.com/v1/messages \"HTTP/1.1 200 OK\"\n",
      "INFO:httpx:HTTP Request: POST https://api.anthropic.com/v1/messages \"HTTP/1.1 200 OK\"\n",
      "INFO:httpx:HTTP Request: POST https://api.anthropic.com/v1/messages \"HTTP/1.1 200 OK\"\n",
      "INFO:httpx:HTTP Request: POST https://api.anthropic.com/v1/messages \"HTTP/1.1 200 OK\"\n",
      "INFO:httpx:HTTP Request: POST https://api.anthropic.com/v1/messages \"HTTP/1.1 200 OK\"\n",
      "INFO:httpx:HTTP Request: POST https://api.anthropic.com/v1/messages \"HTTP/1.1 200 OK\"\n",
      "INFO:httpx:HTTP Request: POST https://api.anthropic.com/v1/messages \"HTTP/1.1 200 OK\"\n",
      "INFO:httpx:HTTP Request: POST https://api.anthropic.com/v1/messages \"HTTP/1.1 200 OK\"\n"
     ]
    }
   ],
   "source": [
    "req_resp = process_all_content(prompts)"
   ]
  },
  {
   "cell_type": "markdown",
   "id": "8e2569d5",
   "metadata": {},
   "source": [
    "### Post-processing"
   ]
  },
  {
   "cell_type": "code",
   "execution_count": 217,
   "id": "ffd0731e",
   "metadata": {},
   "outputs": [],
   "source": [
    "processed = []\n",
    "unprocessed = []\n",
    "for qr in req_resp:\n",
    "    if \"</RESPONSE>\" in qr:\n",
    "        tag_end = qr.index(\"</RESPONSE>\")\n",
    "    else:\n",
    "        tag_end = len(qr)\n",
    "    qrs = qr[:tag_end].replace(\"<RESPONSE>\",\"\")\n",
    "    try:\n",
    "        jqrs = json.loads(qrs)\n",
    "        processed.append(jqrs)\n",
    "    except:\n",
    "        unprocessed.append(qrs)\n"
   ]
  },
  {
   "cell_type": "code",
   "execution_count": 220,
   "id": "99ec8cb8",
   "metadata": {},
   "outputs": [],
   "source": [
    "counter = 0\n",
    "for x in r['responses']['processed']:\n",
    "    if x['contains_requirement']:\n",
    "        x['extracted_requirement'] = processed[counter]\n",
    "        counter += 1"
   ]
  },
  {
   "cell_type": "code",
   "execution_count": 230,
   "id": "12ca0633",
   "metadata": {},
   "outputs": [],
   "source": [
    "with open(\"checkpoints/requirements_extraction/RAG/plan_net_reqs.json\", \"w+\") as f:\n",
    "    json.dump(r, f, indent=2)"
   ]
  },
  {
   "cell_type": "code",
   "execution_count": 228,
   "id": "80cb76ae",
   "metadata": {},
   "outputs": [
    {
     "name": "stdout",
     "output_type": "stream",
     "text": [
      "\u001b[34mpost_processing\u001b[m\u001b[m/         \u001b[34mrequirements_extraction\u001b[m\u001b[m/ \u001b[34mtestplan_generation\u001b[m\u001b[m/\n",
      "\u001b[34mrequirements_downselect\u001b[m\u001b[m/ \u001b[34mtestkit_generation\u001b[m\u001b[m/      \u001b[34mtext_extraction\u001b[m\u001b[m/\n"
     ]
    },
    {
     "name": "stderr",
     "output_type": "stream",
     "text": [
      "huggingface/tokenizers: The current process just got forked, after parallelism has already been used. Disabling parallelism to avoid deadlocks...\n",
      "To disable this warning, you can either:\n",
      "\t- Avoid using `tokenizers` before the fork if possible\n",
      "\t- Explicitly set the environment variable TOKENIZERS_PARALLELISM=(true | false)\n"
     ]
    }
   ],
   "source": [
    "%ls checkpoints/"
   ]
  },
  {
   "cell_type": "code",
   "execution_count": null,
   "id": "0452782d",
   "metadata": {},
   "outputs": [],
   "source": []
  }
 ],
 "metadata": {
  "kernelspec": {
   "display_name": "ONCL310",
   "language": "python",
   "name": "python3"
  },
  "language_info": {
   "codemirror_mode": {
    "name": "ipython",
    "version": 3
   },
   "file_extension": ".py",
   "mimetype": "text/x-python",
   "name": "python",
   "nbconvert_exporter": "python",
   "pygments_lexer": "ipython3",
   "version": "3.10.16"
  }
 },
 "nbformat": 4,
 "nbformat_minor": 5
}
