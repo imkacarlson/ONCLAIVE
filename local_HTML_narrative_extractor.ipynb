{
 "cells": [
  {
   "cell_type": "markdown",
   "metadata": {},
   "source": [
    "# Extracting Narrative from HTML to Markdown"
   ]
  },
  {
   "cell_type": "markdown",
   "metadata": {},
   "source": [
    "This notebook explores extracting narrative elements from HTML files. It relies on having a downloaded IG folder structured full-ig/site containing input files. It outputs new markdown files in full-ig/markdown_output. Input and output directory paths need to be updated"
   ]
  },
  {
   "cell_type": "code",
   "execution_count": 13,
   "metadata": {},
   "outputs": [],
   "source": [
    "from bs4 import BeautifulSoup\n",
    "import os\n",
    "from pathlib import Path\n",
    "from IPython.display import display, HTML\n",
    "from bs4.element import Tag\n",
    "from langchain_community.document_loaders import AsyncHtmlLoader\n",
    "from langchain_community.document_loaders import BSHTMLLoader\n",
    "from langchain_community.document_loaders import UnstructuredHTMLLoader\n",
    "from langchain_community.document_transformers import MarkdownifyTransformer\n",
    "from urllib.parse import urlparse\n",
    "from langchain.schema import Document\n",
    "import re"
   ]
  },
  {
   "cell_type": "markdown",
   "metadata": {},
   "source": [
    "## Langchain tool (Markdownify) to convert HTML to Markdown"
   ]
  },
  {
   "cell_type": "markdown",
   "metadata": {},
   "source": [
    "Create a directory to store Markdown files."
   ]
  },
  {
   "cell_type": "code",
   "execution_count": 14,
   "metadata": {},
   "outputs": [],
   "source": [
    "# Directory where you want to save the markdown files\n",
    "output_dir = '/Users/ceadams/Documents/onclaive/onclaive/full-ig/markdown_output'\n",
    "# Create output directory if it doesn't exist\n",
    "Path(output_dir).mkdir(parents=True, exist_ok=True)"
   ]
  },
  {
   "cell_type": "markdown",
   "metadata": {},
   "source": [
    "Install necessary libraries if not already installed"
   ]
  },
  {
   "cell_type": "code",
   "execution_count": 15,
   "metadata": {},
   "outputs": [],
   "source": [
    "# %pip install --upgrade --quiet  markdownify\n",
    "# %pip install -U lxml\n",
    "# %pip install unstructured"
   ]
  },
  {
   "cell_type": "code",
   "execution_count": 20,
   "metadata": {},
   "outputs": [],
   "source": [
    "def convert_local_html_to_markdown(input_dir, output_dir=\"markdown_output\", exclude_patterns=None):\n",
    "    \"\"\"\n",
    "    Convert HTML files from a local directory to markdown, excluding files matching specific patterns.\n",
    "    \n",
    "    Args:\n",
    "        input_dir (str): Path to the directory containing HTML files\n",
    "        output_dir (str): Path to save the markdown files\n",
    "        exclude_patterns (list): List of regex patterns to exclude\n",
    "    \"\"\"\n",
    "    # Create output directory if it doesn't exist\n",
    "    os.makedirs(output_dir, exist_ok=True)\n",
    "    \n",
    "    # Compile regex patterns for exclusion if provided\n",
    "    if exclude_patterns:\n",
    "        compiled_patterns = [re.compile(pattern) for pattern in exclude_patterns]\n",
    "    else:\n",
    "        compiled_patterns = [re.compile(r'\\.ttl\\.html$'), re.compile(r'\\.xml\\.html$')]\n",
    "    \n",
    "    # Get all HTML files in the directory\n",
    "    html_files = []\n",
    "    for file in Path(input_dir).glob('**/*.html'):\n",
    "        file_str = str(file)\n",
    "        \n",
    "        # Check if the file should be excluded\n",
    "        exclude = False\n",
    "        for pattern in compiled_patterns:\n",
    "            if pattern.search(file_str):\n",
    "                exclude = True\n",
    "                break\n",
    "        \n",
    "        if not exclude:\n",
    "            html_files.append(file)\n",
    "    \n",
    "    print(f\"Found {len(html_files)} HTML files to process\")\n",
    "    \n",
    "    # Process each HTML file\n",
    "    processed = 0\n",
    "    errors = 0\n",
    "    md_transformer = MarkdownifyTransformer()\n",
    "    \n",
    "    for i, html_file in enumerate(html_files):\n",
    "        try:\n",
    "            # Create relative path to preserve directory structure\n",
    "            rel_path = html_file.relative_to(input_dir)\n",
    "            output_path = Path(output_dir) / rel_path.with_suffix('.md')\n",
    "            \n",
    "            # Create parent directories if they don't exist\n",
    "            output_path.parent.mkdir(parents=True, exist_ok=True)\n",
    "            \n",
    "            # Load HTML content\n",
    "            with open(html_file, 'r', encoding='utf-8') as f:\n",
    "                html_content = f.read()\n",
    "            \n",
    "            # Create a LangChain Document object with the HTML content\n",
    "            doc = Document(page_content=html_content)\n",
    "            \n",
    "            # Transform to Markdown\n",
    "            converted_docs = md_transformer.transform_documents([doc])\n",
    "            \n",
    "            # Write to output file\n",
    "            if converted_docs and len(converted_docs) > 0:\n",
    "                with open(output_path, 'w', encoding='utf-8') as f:\n",
    "                    f.write(converted_docs[0].page_content)\n",
    "                processed += 1\n",
    "            \n",
    "            # Print progress\n",
    "            if (i + 1) % 10 == 0 or i == len(html_files) - 1:\n",
    "                print(f\"Processed {i + 1}/{len(html_files)} files\")\n",
    "                \n",
    "        except Exception as e:\n",
    "            print(f\"Error processing {html_file}: {str(e)}\")\n",
    "            errors += 1\n",
    "    \n",
    "    print(f\"Conversion complete. Successfully processed {processed} files. Encountered {errors} errors.\")"
   ]
  },
  {
   "cell_type": "code",
   "execution_count": 21,
   "metadata": {},
   "outputs": [
    {
     "name": "stdout",
     "output_type": "stream",
     "text": [
      "Found 456 HTML files to process\n",
      "Processed 10/456 files\n",
      "Processed 20/456 files\n",
      "Processed 30/456 files\n",
      "Processed 40/456 files\n",
      "Processed 50/456 files\n",
      "Processed 60/456 files\n",
      "Processed 70/456 files\n",
      "Processed 80/456 files\n",
      "Processed 90/456 files\n",
      "Processed 100/456 files\n",
      "Processed 110/456 files\n",
      "Processed 120/456 files\n",
      "Processed 130/456 files\n",
      "Processed 140/456 files\n",
      "Processed 150/456 files\n",
      "Processed 160/456 files\n",
      "Processed 170/456 files\n",
      "Processed 180/456 files\n",
      "Processed 190/456 files\n",
      "Processed 200/456 files\n",
      "Processed 210/456 files\n",
      "Processed 220/456 files\n",
      "Processed 230/456 files\n",
      "Processed 240/456 files\n",
      "Processed 250/456 files\n",
      "Processed 260/456 files\n",
      "Processed 270/456 files\n",
      "Processed 280/456 files\n",
      "Processed 290/456 files\n",
      "Processed 300/456 files\n",
      "Processed 310/456 files\n",
      "Processed 320/456 files\n",
      "Processed 330/456 files\n",
      "Processed 340/456 files\n",
      "Processed 350/456 files\n",
      "Processed 360/456 files\n",
      "Processed 370/456 files\n",
      "Processed 380/456 files\n",
      "Processed 390/456 files\n",
      "Processed 400/456 files\n",
      "Processed 410/456 files\n",
      "Processed 420/456 files\n",
      "Processed 430/456 files\n",
      "Processed 440/456 files\n",
      "Processed 450/456 files\n",
      "Processed 456/456 files\n",
      "Conversion complete. Successfully processed 456 files. Encountered 0 errors.\n"
     ]
    }
   ],
   "source": [
    "#set input and output directories\n",
    "input_directory = \"/Users/ceadams/Documents/onclaive/onclaive/full-ig/site\"\n",
    "output_directory = \"/Users/ceadams/Documents/onclaive/onclaive/full-ig/markdown_output\"\n",
    "\n",
    "# Define patterns to exclude\n",
    "exclude_patterns = [\n",
    "    r'\\.ttl\\.html$',  # Exclude files ending with .ttl.html\n",
    "    r'\\.xml\\.html$',  # Exclude files ending with .xml.html\n",
    "    r'\\.json\\.html$'  # Also exclude .json.html files\n",
    "]\n",
    "\n",
    "convert_local_html_to_markdown(\n",
    "    input_dir=input_directory,\n",
    "    output_dir=output_directory,\n",
    "    exclude_patterns=exclude_patterns\n",
    ")"
   ]
  },
  {
   "cell_type": "markdown",
   "metadata": {},
   "source": [
    "Files should be stored in the `PlanNet/site/markdown_output` folder."
   ]
  }
 ],
 "metadata": {
  "kernelspec": {
   "display_name": ".venv",
   "language": "python",
   "name": "python3"
  },
  "language_info": {
   "codemirror_mode": {
    "name": "ipython",
    "version": 3
   },
   "file_extension": ".py",
   "mimetype": "text/x-python",
   "name": "python",
   "nbconvert_exporter": "python",
   "pygments_lexer": "ipython3",
   "version": "3.12.6"
  }
 },
 "nbformat": 4,
 "nbformat_minor": 4
}
