{
 "cells": [
  {
   "cell_type": "markdown",
   "metadata": {},
   "source": [
    "# File Sorting"
   ]
  },
  {
   "cell_type": "markdown",
   "metadata": {},
   "source": [
    "This notebook aims to to sort files into a directories based on their \"base names\". The base name is the portion of the file name before the \"-\" delimiter. The script will group files that share the same base name and ignore specific compound extensions such as `.change.history.html`, `.json.html`, `.ttl.html`, and `.xml.html`."
   ]
  },
  {
   "cell_type": "code",
   "execution_count": 1,
   "metadata": {},
   "outputs": [],
   "source": [
    "import os\n",
    "import io, threading, time, re, json\n",
    "from collections import defaultdict\n",
    "import shutil"
   ]
  },
  {
   "cell_type": "markdown",
   "metadata": {},
   "source": [
    "### Group Files by Base Name"
   ]
  },
  {
   "cell_type": "code",
   "execution_count": 2,
   "metadata": {},
   "outputs": [],
   "source": [
    "def group_files_by_base_name(directory_path, delimiter='-'):\n",
    "    \"\"\"\n",
    "    Group files in the directory by their base name (portion before a delimiter),\n",
    "    ignoring specific compound extensions.\n",
    "    \n",
    "    Args:\n",
    "        directory_path (str): Path to the directory containing files.\n",
    "        delimiter (str): The delimiter to split the file name on (default is '-').\n",
    "    \n",
    "    Returns:\n",
    "        dict: A dictionary where keys are base names and values are lists of files \n",
    "             that share the same base name.\n",
    "    \n",
    "    Example:\n",
    "        For files like:\n",
    "        - doc-v1.html (will be included)\n",
    "        - doc-v2.json (will be included)\n",
    "        - doc-v3.change.history.html (will be ignored)\n",
    "        - doc-v4.json.html (will be ignored)\n",
    "    \"\"\"\n",
    "    grouped_files = defaultdict(list)\n",
    "    \n",
    "    # List of compound extensions to ignore\n",
    "    ignored_extensions = [\n",
    "        '.change.history.html',\n",
    "        '.json.html',\n",
    "        '.ttl.html',\n",
    "        '.xml.html'\n",
    "    ]\n",
    "    \n",
    "    # Iterate through the files in the directory\n",
    "    for filename in os.listdir(directory_path):\n",
    "        # Check if file should be ignored based on compound extensions\n",
    "        should_ignore = any(filename.endswith(ext) for ext in ignored_extensions)\n",
    "        \n",
    "        if not should_ignore:\n",
    "            # Process only .json or .html files that aren't in the ignore list\n",
    "            if filename.endswith('.json') or filename.endswith('.html'):\n",
    "                if delimiter in filename:\n",
    "                    # Get the base name (before the first delimiter)\n",
    "                    base_name = filename.split(delimiter)[0]\n",
    "                    # Append the file to the group corresponding to its base name\n",
    "                    grouped_files[base_name].append(filename)\n",
    "    \n",
    "    return grouped_files"
   ]
  },
  {
   "cell_type": "markdown",
   "metadata": {},
   "source": [
    "Define PlanNet full IG directory"
   ]
  },
  {
   "cell_type": "code",
   "execution_count": 3,
   "metadata": {},
   "outputs": [],
   "source": [
    "directory_path = '/Users/amathur/Documents/ONCLAIVE/onclaive-aanchalwip/PlanNet/site'"
   ]
  },
  {
   "cell_type": "code",
   "execution_count": 4,
   "metadata": {},
   "outputs": [],
   "source": [
    "grouped_files = group_files_by_base_name(directory_path)"
   ]
  },
  {
   "cell_type": "code",
   "execution_count": 5,
   "metadata": {},
   "outputs": [
    {
     "name": "stdout",
     "output_type": "stream",
     "text": [
      "Base name: Location (Total files: 18)\n",
      "Base name: StructureDefinition (Total files: 114)\n",
      "Base name: SearchParameter (Total files: 102)\n",
      "Base name: OrganizationAffiliation (Total files: 14)\n",
      "Base name: ValueSet (Total files: 48)\n",
      "Base name: CodeSystem (Total files: 28)\n",
      "Base name: HealthcareService (Total files: 20)\n",
      "Base name: Endpoint (Total files: 2)\n",
      "Base name: Organization (Total files: 22)\n",
      "Base name: PractitionerRole (Total files: 12)\n",
      "Base name: usage (Total files: 1)\n",
      "Base name: InsurancePlan (Total files: 4)\n",
      "Base name: CapabilityStatement (Total files: 2)\n",
      "Base name: Practitioner (Total files: 6)\n",
      "Base name: ImplementationGuide (Total files: 1)\n",
      "Base name: plan (Total files: 1)\n"
     ]
    }
   ],
   "source": [
    "for base_name, files in grouped_files.items():\n",
    "    print(f\"Base name: {base_name} (Total files: {len(files)})\")"
   ]
  },
  {
   "cell_type": "markdown",
   "metadata": {},
   "source": [
    "Base names identfied and folders are created for base names using the `copy_files_to_folders` function if the category has more than one file with a specific base name."
   ]
  },
  {
   "cell_type": "code",
   "execution_count": 6,
   "metadata": {},
   "outputs": [],
   "source": [
    "def copy_files_to_folders(directory_path, grouped_files):\n",
    "    \"\"\"\n",
    "    Copy files to folders if the base name group has more than 1 file, and remove them from the original directory.\n",
    "    \n",
    "    Args:\n",
    "    directory_path (str): Path to the directory containing files.\n",
    "    grouped_files (dict): Dictionary of grouped files by base name.\n",
    "    \"\"\"\n",
    "    for base_name, files in grouped_files.items():\n",
    "        if len(files) >= 2:  # Only process groups with more than 1 file\n",
    "            # Create a folder for the base name in the same directory\n",
    "            base_folder = os.path.join(directory_path, base_name)\n",
    "            if not os.path.exists(base_folder):\n",
    "                os.makedirs(base_folder)  # Create the folder if it doesn't exist\n",
    "            print(f\"Created folder: {base_folder}\")\n",
    "            \n",
    "            # Copy each file in the group to the new folder\n",
    "            for file in files:\n",
    "                source_file = os.path.join(directory_path, file)\n",
    "                destination_file = os.path.join(base_folder, file)\n",
    "                shutil.copy(source_file, destination_file)  # Copy the file\n",
    "                # print(f\"Copied {file} to {base_folder}\")\n",
    "                \n",
    "                # Remove the file from the original directory\n",
    "                # os.remove(source_file)\n",
    "                # print(f\"Removed {file} from original directory\")"
   ]
  },
  {
   "cell_type": "code",
   "execution_count": 7,
   "metadata": {},
   "outputs": [
    {
     "name": "stdout",
     "output_type": "stream",
     "text": [
      "Created folder: /Users/amathur/Documents/ONCLAIVE/onclaive-aanchalwip/PlanNet/site/Location\n",
      "Created folder: /Users/amathur/Documents/ONCLAIVE/onclaive-aanchalwip/PlanNet/site/StructureDefinition\n",
      "Created folder: /Users/amathur/Documents/ONCLAIVE/onclaive-aanchalwip/PlanNet/site/SearchParameter\n",
      "Created folder: /Users/amathur/Documents/ONCLAIVE/onclaive-aanchalwip/PlanNet/site/OrganizationAffiliation\n",
      "Created folder: /Users/amathur/Documents/ONCLAIVE/onclaive-aanchalwip/PlanNet/site/ValueSet\n",
      "Created folder: /Users/amathur/Documents/ONCLAIVE/onclaive-aanchalwip/PlanNet/site/CodeSystem\n",
      "Created folder: /Users/amathur/Documents/ONCLAIVE/onclaive-aanchalwip/PlanNet/site/HealthcareService\n",
      "Created folder: /Users/amathur/Documents/ONCLAIVE/onclaive-aanchalwip/PlanNet/site/Endpoint\n",
      "Created folder: /Users/amathur/Documents/ONCLAIVE/onclaive-aanchalwip/PlanNet/site/Organization\n",
      "Created folder: /Users/amathur/Documents/ONCLAIVE/onclaive-aanchalwip/PlanNet/site/PractitionerRole\n",
      "Created folder: /Users/amathur/Documents/ONCLAIVE/onclaive-aanchalwip/PlanNet/site/InsurancePlan\n",
      "Created folder: /Users/amathur/Documents/ONCLAIVE/onclaive-aanchalwip/PlanNet/site/CapabilityStatement\n",
      "Created folder: /Users/amathur/Documents/ONCLAIVE/onclaive-aanchalwip/PlanNet/site/Practitioner\n"
     ]
    }
   ],
   "source": [
    "copy_files_to_folders(directory_path, grouped_files)"
   ]
  },
  {
   "cell_type": "markdown",
   "metadata": {},
   "source": [
    "14 folders created"
   ]
  }
 ],
 "metadata": {
  "kernelspec": {
   "display_name": "Python 3 (ipykernel)",
   "language": "python",
   "name": "python3"
  },
  "language_info": {
   "codemirror_mode": {
    "name": "ipython",
    "version": 3
   },
   "file_extension": ".py",
   "mimetype": "text/x-python",
   "name": "python",
   "nbconvert_exporter": "python",
   "pygments_lexer": "ipython3",
   "version": "3.12.5"
  }
 },
 "nbformat": 4,
 "nbformat_minor": 4
}
